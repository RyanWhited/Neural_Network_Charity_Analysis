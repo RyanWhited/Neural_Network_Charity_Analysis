{
 "cells": [
  {
   "cell_type": "markdown",
   "metadata": {},
   "source": [
    "## Deliverable 3"
   ]
  },
  {
   "cell_type": "code",
   "execution_count": 1,
   "metadata": {
    "scrolled": true
   },
   "outputs": [
    {
     "name": "stdout",
     "output_type": "stream",
     "text": [
      "Requirement already satisfied: keras-tuner in c:\\users\\rwhited\\anaconda3\\lib\\site-packages (1.0.2)\n",
      "Requirement already satisfied: packaging in c:\\users\\rwhited\\anaconda3\\lib\\site-packages (from keras-tuner) (20.4)\n",
      "Requirement already satisfied: future in c:\\users\\rwhited\\anaconda3\\lib\\site-packages (from keras-tuner) (0.18.2)\n",
      "Requirement already satisfied: tqdm in c:\\users\\rwhited\\anaconda3\\lib\\site-packages (from keras-tuner) (4.50.2)\n",
      "Requirement already satisfied: terminaltables in c:\\users\\rwhited\\anaconda3\\lib\\site-packages (from keras-tuner) (3.1.0)\n",
      "Requirement already satisfied: scipy in c:\\users\\rwhited\\anaconda3\\lib\\site-packages (from keras-tuner) (1.5.2)\n",
      "Requirement already satisfied: numpy in c:\\users\\rwhited\\anaconda3\\lib\\site-packages (from keras-tuner) (1.19.2)\n",
      "Requirement already satisfied: colorama in c:\\users\\rwhited\\anaconda3\\lib\\site-packages (from keras-tuner) (0.4.4)\n",
      "Requirement already satisfied: requests in c:\\users\\rwhited\\anaconda3\\lib\\site-packages (from keras-tuner) (2.24.0)\n",
      "Requirement already satisfied: scikit-learn in c:\\users\\rwhited\\anaconda3\\lib\\site-packages (from keras-tuner) (0.24.1)\n",
      "Requirement already satisfied: tabulate in c:\\users\\rwhited\\anaconda3\\lib\\site-packages (from keras-tuner) (0.8.9)\n",
      "Requirement already satisfied: six in c:\\users\\rwhited\\anaconda3\\lib\\site-packages (from packaging->keras-tuner) (1.15.0)\n",
      "Requirement already satisfied: pyparsing>=2.0.2 in c:\\users\\rwhited\\anaconda3\\lib\\site-packages (from packaging->keras-tuner) (2.4.7)\n",
      "Requirement already satisfied: urllib3!=1.25.0,!=1.25.1,<1.26,>=1.21.1 in c:\\users\\rwhited\\anaconda3\\lib\\site-packages (from requests->keras-tuner) (1.25.11)\n",
      "Requirement already satisfied: idna<3,>=2.5 in c:\\users\\rwhited\\anaconda3\\lib\\site-packages (from requests->keras-tuner) (2.10)\n",
      "Requirement already satisfied: chardet<4,>=3.0.2 in c:\\users\\rwhited\\anaconda3\\lib\\site-packages (from requests->keras-tuner) (3.0.4)\n",
      "Requirement already satisfied: certifi>=2017.4.17 in c:\\users\\rwhited\\anaconda3\\lib\\site-packages (from requests->keras-tuner) (2020.6.20)\n",
      "Requirement already satisfied: joblib>=0.11 in c:\\users\\rwhited\\anaconda3\\lib\\site-packages (from scikit-learn->keras-tuner) (0.17.0)\n",
      "Requirement already satisfied: threadpoolctl>=2.0.0 in c:\\users\\rwhited\\anaconda3\\lib\\site-packages (from scikit-learn->keras-tuner) (2.1.0)\n"
     ]
    }
   ],
   "source": [
    "!pip install keras-tuner"
   ]
  },
  {
   "cell_type": "code",
   "execution_count": 2,
   "metadata": {},
   "outputs": [
    {
     "data": {
      "text/html": [
       "<div>\n",
       "<style scoped>\n",
       "    .dataframe tbody tr th:only-of-type {\n",
       "        vertical-align: middle;\n",
       "    }\n",
       "\n",
       "    .dataframe tbody tr th {\n",
       "        vertical-align: top;\n",
       "    }\n",
       "\n",
       "    .dataframe thead th {\n",
       "        text-align: right;\n",
       "    }\n",
       "</style>\n",
       "<table border=\"1\" class=\"dataframe\">\n",
       "  <thead>\n",
       "    <tr style=\"text-align: right;\">\n",
       "      <th></th>\n",
       "      <th>EIN</th>\n",
       "      <th>NAME</th>\n",
       "      <th>APPLICATION_TYPE</th>\n",
       "      <th>AFFILIATION</th>\n",
       "      <th>CLASSIFICATION</th>\n",
       "      <th>USE_CASE</th>\n",
       "      <th>ORGANIZATION</th>\n",
       "      <th>STATUS</th>\n",
       "      <th>INCOME_AMT</th>\n",
       "      <th>SPECIAL_CONSIDERATIONS</th>\n",
       "      <th>ASK_AMT</th>\n",
       "      <th>IS_SUCCESSFUL</th>\n",
       "    </tr>\n",
       "  </thead>\n",
       "  <tbody>\n",
       "    <tr>\n",
       "      <th>0</th>\n",
       "      <td>10520599</td>\n",
       "      <td>BLUE KNIGHTS MOTORCYCLE CLUB</td>\n",
       "      <td>T10</td>\n",
       "      <td>Independent</td>\n",
       "      <td>C1000</td>\n",
       "      <td>ProductDev</td>\n",
       "      <td>Association</td>\n",
       "      <td>1</td>\n",
       "      <td>0</td>\n",
       "      <td>N</td>\n",
       "      <td>5000</td>\n",
       "      <td>1</td>\n",
       "    </tr>\n",
       "    <tr>\n",
       "      <th>1</th>\n",
       "      <td>10531628</td>\n",
       "      <td>AMERICAN CHESAPEAKE CLUB CHARITABLE TR</td>\n",
       "      <td>T3</td>\n",
       "      <td>Independent</td>\n",
       "      <td>C2000</td>\n",
       "      <td>Preservation</td>\n",
       "      <td>Co-operative</td>\n",
       "      <td>1</td>\n",
       "      <td>1-9999</td>\n",
       "      <td>N</td>\n",
       "      <td>108590</td>\n",
       "      <td>1</td>\n",
       "    </tr>\n",
       "    <tr>\n",
       "      <th>2</th>\n",
       "      <td>10547893</td>\n",
       "      <td>ST CLOUD PROFESSIONAL FIREFIGHTERS</td>\n",
       "      <td>T5</td>\n",
       "      <td>CompanySponsored</td>\n",
       "      <td>C3000</td>\n",
       "      <td>ProductDev</td>\n",
       "      <td>Association</td>\n",
       "      <td>1</td>\n",
       "      <td>0</td>\n",
       "      <td>N</td>\n",
       "      <td>5000</td>\n",
       "      <td>0</td>\n",
       "    </tr>\n",
       "    <tr>\n",
       "      <th>3</th>\n",
       "      <td>10553066</td>\n",
       "      <td>SOUTHSIDE ATHLETIC ASSOCIATION</td>\n",
       "      <td>T3</td>\n",
       "      <td>CompanySponsored</td>\n",
       "      <td>C2000</td>\n",
       "      <td>Preservation</td>\n",
       "      <td>Trust</td>\n",
       "      <td>1</td>\n",
       "      <td>10000-24999</td>\n",
       "      <td>N</td>\n",
       "      <td>6692</td>\n",
       "      <td>1</td>\n",
       "    </tr>\n",
       "    <tr>\n",
       "      <th>4</th>\n",
       "      <td>10556103</td>\n",
       "      <td>GENETIC RESEARCH INSTITUTE OF THE DESERT</td>\n",
       "      <td>T3</td>\n",
       "      <td>Independent</td>\n",
       "      <td>C1000</td>\n",
       "      <td>Heathcare</td>\n",
       "      <td>Trust</td>\n",
       "      <td>1</td>\n",
       "      <td>100000-499999</td>\n",
       "      <td>N</td>\n",
       "      <td>142590</td>\n",
       "      <td>1</td>\n",
       "    </tr>\n",
       "  </tbody>\n",
       "</table>\n",
       "</div>"
      ],
      "text/plain": [
       "        EIN                                      NAME APPLICATION_TYPE  \\\n",
       "0  10520599              BLUE KNIGHTS MOTORCYCLE CLUB              T10   \n",
       "1  10531628    AMERICAN CHESAPEAKE CLUB CHARITABLE TR               T3   \n",
       "2  10547893        ST CLOUD PROFESSIONAL FIREFIGHTERS               T5   \n",
       "3  10553066            SOUTHSIDE ATHLETIC ASSOCIATION               T3   \n",
       "4  10556103  GENETIC RESEARCH INSTITUTE OF THE DESERT               T3   \n",
       "\n",
       "        AFFILIATION CLASSIFICATION      USE_CASE  ORGANIZATION  STATUS  \\\n",
       "0       Independent          C1000    ProductDev   Association       1   \n",
       "1       Independent          C2000  Preservation  Co-operative       1   \n",
       "2  CompanySponsored          C3000    ProductDev   Association       1   \n",
       "3  CompanySponsored          C2000  Preservation         Trust       1   \n",
       "4       Independent          C1000     Heathcare         Trust       1   \n",
       "\n",
       "      INCOME_AMT SPECIAL_CONSIDERATIONS  ASK_AMT  IS_SUCCESSFUL  \n",
       "0              0                      N     5000              1  \n",
       "1         1-9999                      N   108590              1  \n",
       "2              0                      N     5000              0  \n",
       "3    10000-24999                      N     6692              1  \n",
       "4  100000-499999                      N   142590              1  "
      ]
     },
     "execution_count": 2,
     "metadata": {},
     "output_type": "execute_result"
    }
   ],
   "source": [
    "# Import our dependencies\n",
    "from sklearn.model_selection import train_test_split\n",
    "from sklearn.preprocessing import StandardScaler,OneHotEncoder\n",
    "import pandas as pd\n",
    "import tensorflow as tf\n",
    "from tensorflow import keras\n",
    "\n",
    "#  Import and read the charity_data.csv.\n",
    "import pandas as pd \n",
    "application_df = pd.read_csv(\"charity_data.csv\")\n",
    "application_df.head()"
   ]
  },
  {
   "cell_type": "code",
   "execution_count": 3,
   "metadata": {},
   "outputs": [
    {
     "data": {
      "text/html": [
       "<div>\n",
       "<style scoped>\n",
       "    .dataframe tbody tr th:only-of-type {\n",
       "        vertical-align: middle;\n",
       "    }\n",
       "\n",
       "    .dataframe tbody tr th {\n",
       "        vertical-align: top;\n",
       "    }\n",
       "\n",
       "    .dataframe thead th {\n",
       "        text-align: right;\n",
       "    }\n",
       "</style>\n",
       "<table border=\"1\" class=\"dataframe\">\n",
       "  <thead>\n",
       "    <tr style=\"text-align: right;\">\n",
       "      <th></th>\n",
       "      <th>APPLICATION_TYPE</th>\n",
       "      <th>AFFILIATION</th>\n",
       "      <th>CLASSIFICATION</th>\n",
       "      <th>USE_CASE</th>\n",
       "      <th>ORGANIZATION</th>\n",
       "      <th>STATUS</th>\n",
       "      <th>INCOME_AMT</th>\n",
       "      <th>SPECIAL_CONSIDERATIONS</th>\n",
       "      <th>ASK_AMT</th>\n",
       "      <th>IS_SUCCESSFUL</th>\n",
       "    </tr>\n",
       "  </thead>\n",
       "  <tbody>\n",
       "    <tr>\n",
       "      <th>0</th>\n",
       "      <td>T10</td>\n",
       "      <td>Independent</td>\n",
       "      <td>C1000</td>\n",
       "      <td>ProductDev</td>\n",
       "      <td>Association</td>\n",
       "      <td>1</td>\n",
       "      <td>0</td>\n",
       "      <td>N</td>\n",
       "      <td>5000</td>\n",
       "      <td>1</td>\n",
       "    </tr>\n",
       "    <tr>\n",
       "      <th>1</th>\n",
       "      <td>T3</td>\n",
       "      <td>Independent</td>\n",
       "      <td>C2000</td>\n",
       "      <td>Preservation</td>\n",
       "      <td>Co-operative</td>\n",
       "      <td>1</td>\n",
       "      <td>1-9999</td>\n",
       "      <td>N</td>\n",
       "      <td>108590</td>\n",
       "      <td>1</td>\n",
       "    </tr>\n",
       "    <tr>\n",
       "      <th>2</th>\n",
       "      <td>T5</td>\n",
       "      <td>CompanySponsored</td>\n",
       "      <td>C3000</td>\n",
       "      <td>ProductDev</td>\n",
       "      <td>Association</td>\n",
       "      <td>1</td>\n",
       "      <td>0</td>\n",
       "      <td>N</td>\n",
       "      <td>5000</td>\n",
       "      <td>0</td>\n",
       "    </tr>\n",
       "    <tr>\n",
       "      <th>3</th>\n",
       "      <td>T3</td>\n",
       "      <td>CompanySponsored</td>\n",
       "      <td>C2000</td>\n",
       "      <td>Preservation</td>\n",
       "      <td>Trust</td>\n",
       "      <td>1</td>\n",
       "      <td>10000-24999</td>\n",
       "      <td>N</td>\n",
       "      <td>6692</td>\n",
       "      <td>1</td>\n",
       "    </tr>\n",
       "    <tr>\n",
       "      <th>4</th>\n",
       "      <td>T3</td>\n",
       "      <td>Independent</td>\n",
       "      <td>C1000</td>\n",
       "      <td>Heathcare</td>\n",
       "      <td>Trust</td>\n",
       "      <td>1</td>\n",
       "      <td>100000-499999</td>\n",
       "      <td>N</td>\n",
       "      <td>142590</td>\n",
       "      <td>1</td>\n",
       "    </tr>\n",
       "  </tbody>\n",
       "</table>\n",
       "</div>"
      ],
      "text/plain": [
       "  APPLICATION_TYPE       AFFILIATION CLASSIFICATION      USE_CASE  \\\n",
       "0              T10       Independent          C1000    ProductDev   \n",
       "1               T3       Independent          C2000  Preservation   \n",
       "2               T5  CompanySponsored          C3000    ProductDev   \n",
       "3               T3  CompanySponsored          C2000  Preservation   \n",
       "4               T3       Independent          C1000     Heathcare   \n",
       "\n",
       "   ORGANIZATION  STATUS     INCOME_AMT SPECIAL_CONSIDERATIONS  ASK_AMT  \\\n",
       "0   Association       1              0                      N     5000   \n",
       "1  Co-operative       1         1-9999                      N   108590   \n",
       "2   Association       1              0                      N     5000   \n",
       "3         Trust       1    10000-24999                      N     6692   \n",
       "4         Trust       1  100000-499999                      N   142590   \n",
       "\n",
       "   IS_SUCCESSFUL  \n",
       "0              1  \n",
       "1              1  \n",
       "2              0  \n",
       "3              1  \n",
       "4              1  "
      ]
     },
     "execution_count": 3,
     "metadata": {},
     "output_type": "execute_result"
    }
   ],
   "source": [
    "# Drop the non-beneficial ID columns, 'EIN' and 'NAME'.\n",
    "application_df = application_df.drop(['EIN', 'NAME'], axis=1)\n",
    "application_df.head()"
   ]
  },
  {
   "cell_type": "code",
   "execution_count": 4,
   "metadata": {},
   "outputs": [
    {
     "data": {
      "text/plain": [
       "T3     27037\n",
       "T4      1542\n",
       "T6      1216\n",
       "T5      1173\n",
       "T19     1065\n",
       "T8       737\n",
       "T7       725\n",
       "T10      528\n",
       "T9       156\n",
       "T13       66\n",
       "T12       27\n",
       "T2        16\n",
       "T14        3\n",
       "T25        3\n",
       "T15        2\n",
       "T29        2\n",
       "T17        1\n",
       "Name: APPLICATION_TYPE, dtype: int64"
      ]
     },
     "execution_count": 4,
     "metadata": {},
     "output_type": "execute_result"
    }
   ],
   "source": [
    "# Look at APPLICATION_TYPE value counts for binning\n",
    "app_type_counts = application_df['APPLICATION_TYPE'].value_counts()\n",
    "app_type_counts"
   ]
  },
  {
   "cell_type": "code",
   "execution_count": 5,
   "metadata": {},
   "outputs": [
    {
     "data": {
      "text/plain": [
       "T3       27037\n",
       "T4        1542\n",
       "T6        1216\n",
       "T5        1173\n",
       "T19       1065\n",
       "T8         737\n",
       "T7         725\n",
       "T10        528\n",
       "Other      276\n",
       "Name: APPLICATION_TYPE, dtype: int64"
      ]
     },
     "execution_count": 5,
     "metadata": {},
     "output_type": "execute_result"
    }
   ],
   "source": [
    "# Determine which values to replace if counts are less than ...?\n",
    "replace_values = list(app_type_counts[app_type_counts < 500].index)\n",
    "\n",
    "# Replace in dataframe\n",
    "for app in replace_values:\n",
    "    application_df.APPLICATION_TYPE = application_df.APPLICATION_TYPE.replace(app,\"Other\")\n",
    "    \n",
    "# Check to make sure binning was successful\n",
    "application_df.APPLICATION_TYPE.value_counts()"
   ]
  },
  {
   "cell_type": "code",
   "execution_count": 6,
   "metadata": {},
   "outputs": [
    {
     "data": {
      "text/plain": [
       "C1000    17326\n",
       "C2000     6074\n",
       "C1200     4837\n",
       "C3000     1918\n",
       "C2100     1883\n",
       "         ...  \n",
       "C2500        1\n",
       "C2600        1\n",
       "C2190        1\n",
       "C1245        1\n",
       "C8210        1\n",
       "Name: CLASSIFICATION, Length: 71, dtype: int64"
      ]
     },
     "execution_count": 6,
     "metadata": {},
     "output_type": "execute_result"
    }
   ],
   "source": [
    "# Look at CLASSIFICATION value counts for binning\n",
    "class_value_counts = application_df['CLASSIFICATION'].value_counts()\n",
    "class_value_counts"
   ]
  },
  {
   "cell_type": "code",
   "execution_count": 7,
   "metadata": {},
   "outputs": [
    {
     "data": {
      "text/plain": [
       "C1000    17326\n",
       "C2000     6074\n",
       "C1200     4837\n",
       "C3000     1918\n",
       "C2100     1883\n",
       "Other     1484\n",
       "C7000      777\n",
       "Name: CLASSIFICATION, dtype: int64"
      ]
     },
     "execution_count": 7,
     "metadata": {},
     "output_type": "execute_result"
    }
   ],
   "source": [
    "# Determine which values to replace if counts are less than ..?\n",
    "replace_class = list(class_value_counts[class_value_counts < 500].index)\n",
    "\n",
    "# Replace in dataframe\n",
    "for cls in replace_class:\n",
    "    application_df.CLASSIFICATION = application_df.CLASSIFICATION.replace(cls,\"Other\")\n",
    "    \n",
    "# Check to make sure binning was successful\n",
    "application_df.CLASSIFICATION.value_counts()"
   ]
  },
  {
   "cell_type": "code",
   "execution_count": 8,
   "metadata": {},
   "outputs": [
    {
     "data": {
      "text/plain": [
       "['APPLICATION_TYPE',\n",
       " 'AFFILIATION',\n",
       " 'CLASSIFICATION',\n",
       " 'USE_CASE',\n",
       " 'ORGANIZATION',\n",
       " 'INCOME_AMT',\n",
       " 'SPECIAL_CONSIDERATIONS']"
      ]
     },
     "execution_count": 8,
     "metadata": {},
     "output_type": "execute_result"
    }
   ],
   "source": [
    "# Generate our categorical variable lists\n",
    "app_categories = application_df.dtypes[application_df.dtypes == \"object\"].index.tolist()\n",
    "app_categories"
   ]
  },
  {
   "cell_type": "code",
   "execution_count": 9,
   "metadata": {},
   "outputs": [
    {
     "data": {
      "text/html": [
       "<div>\n",
       "<style scoped>\n",
       "    .dataframe tbody tr th:only-of-type {\n",
       "        vertical-align: middle;\n",
       "    }\n",
       "\n",
       "    .dataframe tbody tr th {\n",
       "        vertical-align: top;\n",
       "    }\n",
       "\n",
       "    .dataframe thead th {\n",
       "        text-align: right;\n",
       "    }\n",
       "</style>\n",
       "<table border=\"1\" class=\"dataframe\">\n",
       "  <thead>\n",
       "    <tr style=\"text-align: right;\">\n",
       "      <th></th>\n",
       "      <th>APPLICATION_TYPE_Other</th>\n",
       "      <th>APPLICATION_TYPE_T10</th>\n",
       "      <th>APPLICATION_TYPE_T19</th>\n",
       "      <th>APPLICATION_TYPE_T3</th>\n",
       "      <th>APPLICATION_TYPE_T4</th>\n",
       "      <th>APPLICATION_TYPE_T5</th>\n",
       "      <th>APPLICATION_TYPE_T6</th>\n",
       "      <th>APPLICATION_TYPE_T7</th>\n",
       "      <th>APPLICATION_TYPE_T8</th>\n",
       "      <th>AFFILIATION_CompanySponsored</th>\n",
       "      <th>...</th>\n",
       "      <th>INCOME_AMT_1-9999</th>\n",
       "      <th>INCOME_AMT_10000-24999</th>\n",
       "      <th>INCOME_AMT_100000-499999</th>\n",
       "      <th>INCOME_AMT_10M-50M</th>\n",
       "      <th>INCOME_AMT_1M-5M</th>\n",
       "      <th>INCOME_AMT_25000-99999</th>\n",
       "      <th>INCOME_AMT_50M+</th>\n",
       "      <th>INCOME_AMT_5M-10M</th>\n",
       "      <th>SPECIAL_CONSIDERATIONS_N</th>\n",
       "      <th>SPECIAL_CONSIDERATIONS_Y</th>\n",
       "    </tr>\n",
       "  </thead>\n",
       "  <tbody>\n",
       "    <tr>\n",
       "      <th>0</th>\n",
       "      <td>0.0</td>\n",
       "      <td>1.0</td>\n",
       "      <td>0.0</td>\n",
       "      <td>0.0</td>\n",
       "      <td>0.0</td>\n",
       "      <td>0.0</td>\n",
       "      <td>0.0</td>\n",
       "      <td>0.0</td>\n",
       "      <td>0.0</td>\n",
       "      <td>0.0</td>\n",
       "      <td>...</td>\n",
       "      <td>0.0</td>\n",
       "      <td>0.0</td>\n",
       "      <td>0.0</td>\n",
       "      <td>0.0</td>\n",
       "      <td>0.0</td>\n",
       "      <td>0.0</td>\n",
       "      <td>0.0</td>\n",
       "      <td>0.0</td>\n",
       "      <td>1.0</td>\n",
       "      <td>0.0</td>\n",
       "    </tr>\n",
       "    <tr>\n",
       "      <th>1</th>\n",
       "      <td>0.0</td>\n",
       "      <td>0.0</td>\n",
       "      <td>0.0</td>\n",
       "      <td>1.0</td>\n",
       "      <td>0.0</td>\n",
       "      <td>0.0</td>\n",
       "      <td>0.0</td>\n",
       "      <td>0.0</td>\n",
       "      <td>0.0</td>\n",
       "      <td>0.0</td>\n",
       "      <td>...</td>\n",
       "      <td>1.0</td>\n",
       "      <td>0.0</td>\n",
       "      <td>0.0</td>\n",
       "      <td>0.0</td>\n",
       "      <td>0.0</td>\n",
       "      <td>0.0</td>\n",
       "      <td>0.0</td>\n",
       "      <td>0.0</td>\n",
       "      <td>1.0</td>\n",
       "      <td>0.0</td>\n",
       "    </tr>\n",
       "    <tr>\n",
       "      <th>2</th>\n",
       "      <td>0.0</td>\n",
       "      <td>0.0</td>\n",
       "      <td>0.0</td>\n",
       "      <td>0.0</td>\n",
       "      <td>0.0</td>\n",
       "      <td>1.0</td>\n",
       "      <td>0.0</td>\n",
       "      <td>0.0</td>\n",
       "      <td>0.0</td>\n",
       "      <td>1.0</td>\n",
       "      <td>...</td>\n",
       "      <td>0.0</td>\n",
       "      <td>0.0</td>\n",
       "      <td>0.0</td>\n",
       "      <td>0.0</td>\n",
       "      <td>0.0</td>\n",
       "      <td>0.0</td>\n",
       "      <td>0.0</td>\n",
       "      <td>0.0</td>\n",
       "      <td>1.0</td>\n",
       "      <td>0.0</td>\n",
       "    </tr>\n",
       "    <tr>\n",
       "      <th>3</th>\n",
       "      <td>0.0</td>\n",
       "      <td>0.0</td>\n",
       "      <td>0.0</td>\n",
       "      <td>1.0</td>\n",
       "      <td>0.0</td>\n",
       "      <td>0.0</td>\n",
       "      <td>0.0</td>\n",
       "      <td>0.0</td>\n",
       "      <td>0.0</td>\n",
       "      <td>1.0</td>\n",
       "      <td>...</td>\n",
       "      <td>0.0</td>\n",
       "      <td>1.0</td>\n",
       "      <td>0.0</td>\n",
       "      <td>0.0</td>\n",
       "      <td>0.0</td>\n",
       "      <td>0.0</td>\n",
       "      <td>0.0</td>\n",
       "      <td>0.0</td>\n",
       "      <td>1.0</td>\n",
       "      <td>0.0</td>\n",
       "    </tr>\n",
       "    <tr>\n",
       "      <th>4</th>\n",
       "      <td>0.0</td>\n",
       "      <td>0.0</td>\n",
       "      <td>0.0</td>\n",
       "      <td>1.0</td>\n",
       "      <td>0.0</td>\n",
       "      <td>0.0</td>\n",
       "      <td>0.0</td>\n",
       "      <td>0.0</td>\n",
       "      <td>0.0</td>\n",
       "      <td>0.0</td>\n",
       "      <td>...</td>\n",
       "      <td>0.0</td>\n",
       "      <td>0.0</td>\n",
       "      <td>1.0</td>\n",
       "      <td>0.0</td>\n",
       "      <td>0.0</td>\n",
       "      <td>0.0</td>\n",
       "      <td>0.0</td>\n",
       "      <td>0.0</td>\n",
       "      <td>1.0</td>\n",
       "      <td>0.0</td>\n",
       "    </tr>\n",
       "  </tbody>\n",
       "</table>\n",
       "<p>5 rows × 42 columns</p>\n",
       "</div>"
      ],
      "text/plain": [
       "   APPLICATION_TYPE_Other  APPLICATION_TYPE_T10  APPLICATION_TYPE_T19  \\\n",
       "0                     0.0                   1.0                   0.0   \n",
       "1                     0.0                   0.0                   0.0   \n",
       "2                     0.0                   0.0                   0.0   \n",
       "3                     0.0                   0.0                   0.0   \n",
       "4                     0.0                   0.0                   0.0   \n",
       "\n",
       "   APPLICATION_TYPE_T3  APPLICATION_TYPE_T4  APPLICATION_TYPE_T5  \\\n",
       "0                  0.0                  0.0                  0.0   \n",
       "1                  1.0                  0.0                  0.0   \n",
       "2                  0.0                  0.0                  1.0   \n",
       "3                  1.0                  0.0                  0.0   \n",
       "4                  1.0                  0.0                  0.0   \n",
       "\n",
       "   APPLICATION_TYPE_T6  APPLICATION_TYPE_T7  APPLICATION_TYPE_T8  \\\n",
       "0                  0.0                  0.0                  0.0   \n",
       "1                  0.0                  0.0                  0.0   \n",
       "2                  0.0                  0.0                  0.0   \n",
       "3                  0.0                  0.0                  0.0   \n",
       "4                  0.0                  0.0                  0.0   \n",
       "\n",
       "   AFFILIATION_CompanySponsored  ...  INCOME_AMT_1-9999  \\\n",
       "0                           0.0  ...                0.0   \n",
       "1                           0.0  ...                1.0   \n",
       "2                           1.0  ...                0.0   \n",
       "3                           1.0  ...                0.0   \n",
       "4                           0.0  ...                0.0   \n",
       "\n",
       "   INCOME_AMT_10000-24999  INCOME_AMT_100000-499999  INCOME_AMT_10M-50M  \\\n",
       "0                     0.0                       0.0                 0.0   \n",
       "1                     0.0                       0.0                 0.0   \n",
       "2                     0.0                       0.0                 0.0   \n",
       "3                     1.0                       0.0                 0.0   \n",
       "4                     0.0                       1.0                 0.0   \n",
       "\n",
       "   INCOME_AMT_1M-5M  INCOME_AMT_25000-99999  INCOME_AMT_50M+  \\\n",
       "0               0.0                     0.0              0.0   \n",
       "1               0.0                     0.0              0.0   \n",
       "2               0.0                     0.0              0.0   \n",
       "3               0.0                     0.0              0.0   \n",
       "4               0.0                     0.0              0.0   \n",
       "\n",
       "   INCOME_AMT_5M-10M  SPECIAL_CONSIDERATIONS_N  SPECIAL_CONSIDERATIONS_Y  \n",
       "0                0.0                       1.0                       0.0  \n",
       "1                0.0                       1.0                       0.0  \n",
       "2                0.0                       1.0                       0.0  \n",
       "3                0.0                       1.0                       0.0  \n",
       "4                0.0                       1.0                       0.0  \n",
       "\n",
       "[5 rows x 42 columns]"
      ]
     },
     "execution_count": 9,
     "metadata": {},
     "output_type": "execute_result"
    }
   ],
   "source": [
    "# Create a OneHotEncoder instance\n",
    "enc = OneHotEncoder(sparse=False)\n",
    "\n",
    "# Fit and transform the OneHotEncoder using the categorical variable list\n",
    "encode_df = pd.DataFrame(enc.fit_transform(application_df[app_categories]))\n",
    "\n",
    "# Add the encoded variable names to the dataframe\n",
    "encode_df.columns = enc.get_feature_names(app_categories)\n",
    "encode_df.head()"
   ]
  },
  {
   "cell_type": "code",
   "execution_count": 10,
   "metadata": {},
   "outputs": [
    {
     "data": {
      "text/html": [
       "<div>\n",
       "<style scoped>\n",
       "    .dataframe tbody tr th:only-of-type {\n",
       "        vertical-align: middle;\n",
       "    }\n",
       "\n",
       "    .dataframe tbody tr th {\n",
       "        vertical-align: top;\n",
       "    }\n",
       "\n",
       "    .dataframe thead th {\n",
       "        text-align: right;\n",
       "    }\n",
       "</style>\n",
       "<table border=\"1\" class=\"dataframe\">\n",
       "  <thead>\n",
       "    <tr style=\"text-align: right;\">\n",
       "      <th></th>\n",
       "      <th>STATUS</th>\n",
       "      <th>ASK_AMT</th>\n",
       "      <th>IS_SUCCESSFUL</th>\n",
       "      <th>APPLICATION_TYPE_Other</th>\n",
       "      <th>APPLICATION_TYPE_T10</th>\n",
       "      <th>APPLICATION_TYPE_T19</th>\n",
       "      <th>APPLICATION_TYPE_T3</th>\n",
       "      <th>APPLICATION_TYPE_T4</th>\n",
       "      <th>APPLICATION_TYPE_T5</th>\n",
       "      <th>APPLICATION_TYPE_T6</th>\n",
       "      <th>...</th>\n",
       "      <th>INCOME_AMT_1-9999</th>\n",
       "      <th>INCOME_AMT_10000-24999</th>\n",
       "      <th>INCOME_AMT_100000-499999</th>\n",
       "      <th>INCOME_AMT_10M-50M</th>\n",
       "      <th>INCOME_AMT_1M-5M</th>\n",
       "      <th>INCOME_AMT_25000-99999</th>\n",
       "      <th>INCOME_AMT_50M+</th>\n",
       "      <th>INCOME_AMT_5M-10M</th>\n",
       "      <th>SPECIAL_CONSIDERATIONS_N</th>\n",
       "      <th>SPECIAL_CONSIDERATIONS_Y</th>\n",
       "    </tr>\n",
       "  </thead>\n",
       "  <tbody>\n",
       "    <tr>\n",
       "      <th>0</th>\n",
       "      <td>1</td>\n",
       "      <td>5000</td>\n",
       "      <td>1</td>\n",
       "      <td>0.0</td>\n",
       "      <td>1.0</td>\n",
       "      <td>0.0</td>\n",
       "      <td>0.0</td>\n",
       "      <td>0.0</td>\n",
       "      <td>0.0</td>\n",
       "      <td>0.0</td>\n",
       "      <td>...</td>\n",
       "      <td>0.0</td>\n",
       "      <td>0.0</td>\n",
       "      <td>0.0</td>\n",
       "      <td>0.0</td>\n",
       "      <td>0.0</td>\n",
       "      <td>0.0</td>\n",
       "      <td>0.0</td>\n",
       "      <td>0.0</td>\n",
       "      <td>1.0</td>\n",
       "      <td>0.0</td>\n",
       "    </tr>\n",
       "    <tr>\n",
       "      <th>1</th>\n",
       "      <td>1</td>\n",
       "      <td>108590</td>\n",
       "      <td>1</td>\n",
       "      <td>0.0</td>\n",
       "      <td>0.0</td>\n",
       "      <td>0.0</td>\n",
       "      <td>1.0</td>\n",
       "      <td>0.0</td>\n",
       "      <td>0.0</td>\n",
       "      <td>0.0</td>\n",
       "      <td>...</td>\n",
       "      <td>1.0</td>\n",
       "      <td>0.0</td>\n",
       "      <td>0.0</td>\n",
       "      <td>0.0</td>\n",
       "      <td>0.0</td>\n",
       "      <td>0.0</td>\n",
       "      <td>0.0</td>\n",
       "      <td>0.0</td>\n",
       "      <td>1.0</td>\n",
       "      <td>0.0</td>\n",
       "    </tr>\n",
       "    <tr>\n",
       "      <th>2</th>\n",
       "      <td>1</td>\n",
       "      <td>5000</td>\n",
       "      <td>0</td>\n",
       "      <td>0.0</td>\n",
       "      <td>0.0</td>\n",
       "      <td>0.0</td>\n",
       "      <td>0.0</td>\n",
       "      <td>0.0</td>\n",
       "      <td>1.0</td>\n",
       "      <td>0.0</td>\n",
       "      <td>...</td>\n",
       "      <td>0.0</td>\n",
       "      <td>0.0</td>\n",
       "      <td>0.0</td>\n",
       "      <td>0.0</td>\n",
       "      <td>0.0</td>\n",
       "      <td>0.0</td>\n",
       "      <td>0.0</td>\n",
       "      <td>0.0</td>\n",
       "      <td>1.0</td>\n",
       "      <td>0.0</td>\n",
       "    </tr>\n",
       "    <tr>\n",
       "      <th>3</th>\n",
       "      <td>1</td>\n",
       "      <td>6692</td>\n",
       "      <td>1</td>\n",
       "      <td>0.0</td>\n",
       "      <td>0.0</td>\n",
       "      <td>0.0</td>\n",
       "      <td>1.0</td>\n",
       "      <td>0.0</td>\n",
       "      <td>0.0</td>\n",
       "      <td>0.0</td>\n",
       "      <td>...</td>\n",
       "      <td>0.0</td>\n",
       "      <td>1.0</td>\n",
       "      <td>0.0</td>\n",
       "      <td>0.0</td>\n",
       "      <td>0.0</td>\n",
       "      <td>0.0</td>\n",
       "      <td>0.0</td>\n",
       "      <td>0.0</td>\n",
       "      <td>1.0</td>\n",
       "      <td>0.0</td>\n",
       "    </tr>\n",
       "    <tr>\n",
       "      <th>4</th>\n",
       "      <td>1</td>\n",
       "      <td>142590</td>\n",
       "      <td>1</td>\n",
       "      <td>0.0</td>\n",
       "      <td>0.0</td>\n",
       "      <td>0.0</td>\n",
       "      <td>1.0</td>\n",
       "      <td>0.0</td>\n",
       "      <td>0.0</td>\n",
       "      <td>0.0</td>\n",
       "      <td>...</td>\n",
       "      <td>0.0</td>\n",
       "      <td>0.0</td>\n",
       "      <td>1.0</td>\n",
       "      <td>0.0</td>\n",
       "      <td>0.0</td>\n",
       "      <td>0.0</td>\n",
       "      <td>0.0</td>\n",
       "      <td>0.0</td>\n",
       "      <td>1.0</td>\n",
       "      <td>0.0</td>\n",
       "    </tr>\n",
       "  </tbody>\n",
       "</table>\n",
       "<p>5 rows × 45 columns</p>\n",
       "</div>"
      ],
      "text/plain": [
       "   STATUS  ASK_AMT  IS_SUCCESSFUL  APPLICATION_TYPE_Other  \\\n",
       "0       1     5000              1                     0.0   \n",
       "1       1   108590              1                     0.0   \n",
       "2       1     5000              0                     0.0   \n",
       "3       1     6692              1                     0.0   \n",
       "4       1   142590              1                     0.0   \n",
       "\n",
       "   APPLICATION_TYPE_T10  APPLICATION_TYPE_T19  APPLICATION_TYPE_T3  \\\n",
       "0                   1.0                   0.0                  0.0   \n",
       "1                   0.0                   0.0                  1.0   \n",
       "2                   0.0                   0.0                  0.0   \n",
       "3                   0.0                   0.0                  1.0   \n",
       "4                   0.0                   0.0                  1.0   \n",
       "\n",
       "   APPLICATION_TYPE_T4  APPLICATION_TYPE_T5  APPLICATION_TYPE_T6  ...  \\\n",
       "0                  0.0                  0.0                  0.0  ...   \n",
       "1                  0.0                  0.0                  0.0  ...   \n",
       "2                  0.0                  1.0                  0.0  ...   \n",
       "3                  0.0                  0.0                  0.0  ...   \n",
       "4                  0.0                  0.0                  0.0  ...   \n",
       "\n",
       "   INCOME_AMT_1-9999  INCOME_AMT_10000-24999  INCOME_AMT_100000-499999  \\\n",
       "0                0.0                     0.0                       0.0   \n",
       "1                1.0                     0.0                       0.0   \n",
       "2                0.0                     0.0                       0.0   \n",
       "3                0.0                     1.0                       0.0   \n",
       "4                0.0                     0.0                       1.0   \n",
       "\n",
       "   INCOME_AMT_10M-50M  INCOME_AMT_1M-5M  INCOME_AMT_25000-99999  \\\n",
       "0                 0.0               0.0                     0.0   \n",
       "1                 0.0               0.0                     0.0   \n",
       "2                 0.0               0.0                     0.0   \n",
       "3                 0.0               0.0                     0.0   \n",
       "4                 0.0               0.0                     0.0   \n",
       "\n",
       "   INCOME_AMT_50M+  INCOME_AMT_5M-10M  SPECIAL_CONSIDERATIONS_N  \\\n",
       "0              0.0                0.0                       1.0   \n",
       "1              0.0                0.0                       1.0   \n",
       "2              0.0                0.0                       1.0   \n",
       "3              0.0                0.0                       1.0   \n",
       "4              0.0                0.0                       1.0   \n",
       "\n",
       "   SPECIAL_CONSIDERATIONS_Y  \n",
       "0                       0.0  \n",
       "1                       0.0  \n",
       "2                       0.0  \n",
       "3                       0.0  \n",
       "4                       0.0  \n",
       "\n",
       "[5 rows x 45 columns]"
      ]
     },
     "execution_count": 10,
     "metadata": {},
     "output_type": "execute_result"
    }
   ],
   "source": [
    "# Merge one-hot encoded features and drop the originals\n",
    "application_df = application_df.merge(encode_df, left_index=True,right_index=True)\n",
    "application_df = application_df.drop(columns = app_categories)\n",
    "application_df.head()"
   ]
  },
  {
   "cell_type": "code",
   "execution_count": 22,
   "metadata": {},
   "outputs": [],
   "source": [
    "# Split our preprocessed data into our features and target arrays\n",
    "y = application_df['IS_SUCCESSFUL'].values\n",
    "X = application_df.drop(['IS_SUCCESSFUL'],1).values\n",
    "\n",
    "# Split the preprocessed data into a training and testing dataset\n",
    "X_train, X_test, y_train, y_test = train_test_split(X, y, random_state=42)"
   ]
  },
  {
   "cell_type": "code",
   "execution_count": 23,
   "metadata": {},
   "outputs": [],
   "source": [
    "# Create a StandardScaler instances\n",
    "scaler = StandardScaler()\n",
    "\n",
    "# Fit the StandardScaler\n",
    "X_scaler = scaler.fit(X_train)\n",
    "\n",
    "# Scale the data\n",
    "X_train_scaled = X_scaler.transform(X_train)\n",
    "X_test_scaled = X_scaler.transform(X_test)"
   ]
  },
  {
   "cell_type": "code",
   "execution_count": 26,
   "metadata": {},
   "outputs": [],
   "source": [
    "# # Create a method that creates a new Sequential model with hyperparameter options\n",
    "# #def create_model(hp):\n",
    "#     nn_model = tf.keras.models.Sequential()\n",
    "\n",
    "#     # Allow kerastuner to decide which activation function to use in hidden layers\n",
    "#     activation = hp.Choice('activation',['relu','tanh','sigmoid'])\n",
    "    \n",
    "#     # Allow kerastuner to decide number of neurons in first layer\n",
    "#     nn_model.add(tf.keras.layers.Dense(units=hp.Int('first_units',\n",
    "#         min_value=1,\n",
    "#         max_value=10,\n",
    "#         step=2), activation=activation, input_dim=44))\n",
    "\n",
    "#     # Allow kerastuner to decide number of hidden layers and neurons in hidden layers\n",
    "#     for i in range(hp.Int('num_layers', 1, 6)):\n",
    "#         nn_model.add(tf.keras.layers.Dense(units=hp.Int('units_' + str(i),\n",
    "#             min_value=1,\n",
    "#             max_value=10,\n",
    "#             step=2),\n",
    "#             activation=activation))\n",
    "    \n",
    "#     nn_model.add(tf.keras.layers.Dense(units=1, activation=\"sigmoid\"))\n",
    "\n",
    "#     # Compile the model\n",
    "#     nn_model.compile(loss=\"binary_crossentropy\", optimizer='adam', metrics=[\"accuracy\"])\n",
    "    \n",
    "#     return nn_model"
   ]
  },
  {
   "cell_type": "code",
   "execution_count": 27,
   "metadata": {},
   "outputs": [
    {
     "name": "stdout",
     "output_type": "stream",
     "text": [
      "INFO:tensorflow:Reloading Oracle from existing project .\\untitled_project\\oracle.json\n"
     ]
    }
   ],
   "source": [
    "# Import the kerastuner library\n",
    "#import kerastuner as kt\n",
    "\n",
    "#tuner = kt.Hyperband(\n",
    "#    create_model,\n",
    "#    objective=\"val_accuracy\",\n",
    "#    max_epochs=20,\n",
    "#    hyperband_iterations=2)"
   ]
  },
  {
   "cell_type": "code",
   "execution_count": 28,
   "metadata": {},
   "outputs": [
    {
     "name": "stdout",
     "output_type": "stream",
     "text": [
      "Epoch 1/3\n",
      "804/804 [==============================] - ETA: 0s - loss: 0.6979 - accuracy: 0.50 - ETA: 0s - loss: 0.6908 - accuracy: 0.53 - ETA: 0s - loss: 0.6916 - accuracy: 0.53 - ETA: 0s - loss: 0.6915 - accuracy: 0.53 - ETA: 0s - loss: 0.6918 - accuracy: 0.52 - ETA: 0s - loss: 0.6919 - accuracy: 0.52 - ETA: 0s - loss: 0.6914 - accuracy: 0.53 - ETA: 0s - loss: 0.6908 - accuracy: 0.53 - ETA: 0s - loss: 0.6913 - accuracy: 0.53 - ETA: 0s - loss: 0.6915 - accuracy: 0.53 - ETA: 0s - loss: 0.6913 - accuracy: 0.53 - ETA: 0s - loss: 0.6914 - accuracy: 0.53 - ETA: 0s - loss: 0.6913 - accuracy: 0.53 - 1s 1ms/step - loss: 0.6913 - accuracy: 0.5318 - val_loss: 0.6908 - val_accuracy: 0.5343\n",
      "Epoch 2/3\n",
      "804/804 [==============================] - ETA: 0s - loss: 0.6748 - accuracy: 0.65 - ETA: 0s - loss: 0.6912 - accuracy: 0.53 - ETA: 0s - loss: 0.6921 - accuracy: 0.52 - ETA: 0s - loss: 0.6920 - accuracy: 0.52 - ETA: 0s - loss: 0.6912 - accuracy: 0.53 - ETA: 0s - loss: 0.6908 - accuracy: 0.53 - ETA: 0s - loss: 0.6906 - accuracy: 0.53 - ETA: 0s - loss: 0.6903 - accuracy: 0.53 - ETA: 0s - loss: 0.6904 - accuracy: 0.53 - ETA: 0s - loss: 0.6908 - accuracy: 0.53 - ETA: 0s - loss: 0.6911 - accuracy: 0.53 - ETA: 0s - loss: 0.6912 - accuracy: 0.53 - ETA: 0s - loss: 0.6913 - accuracy: 0.53 - ETA: 0s - loss: 0.6912 - accuracy: 0.53 - ETA: 0s - loss: 0.6912 - accuracy: 0.53 - 1s 1ms/step - loss: 0.6912 - accuracy: 0.5318 - val_loss: 0.6908 - val_accuracy: 0.5343\n",
      "Epoch 3/3\n",
      "804/804 [==============================] - ETA: 0s - loss: 0.6873 - accuracy: 0.56 - ETA: 0s - loss: 0.6931 - accuracy: 0.51 - ETA: 0s - loss: 0.6932 - accuracy: 0.51 - ETA: 0s - loss: 0.6921 - accuracy: 0.52 - ETA: 0s - loss: 0.6913 - accuracy: 0.53 - ETA: 0s - loss: 0.6915 - accuracy: 0.52 - ETA: 0s - loss: 0.6915 - accuracy: 0.52 - ETA: 0s - loss: 0.6915 - accuracy: 0.52 - ETA: 0s - loss: 0.6912 - accuracy: 0.53 - ETA: 0s - loss: 0.6913 - accuracy: 0.53 - ETA: 0s - loss: 0.6914 - accuracy: 0.52 - ETA: 0s - loss: 0.6913 - accuracy: 0.53 - ETA: 0s - loss: 0.6913 - accuracy: 0.53 - ETA: 0s - loss: 0.6911 - accuracy: 0.53 - ETA: 0s - loss: 0.6911 - accuracy: 0.53 - 1s 1ms/step - loss: 0.6912 - accuracy: 0.5318 - val_loss: 0.6908 - val_accuracy: 0.5343\n"
     ]
    },
    {
     "data": {
      "text/html": [
       "<span style=\"color:#4527A0\"><h1 style=\"font-size:18px\">Trial complete</h1></span>"
      ],
      "text/plain": [
       "<IPython.core.display.HTML object>"
      ]
     },
     "metadata": {},
     "output_type": "display_data"
    },
    {
     "data": {
      "text/html": [
       "<span style=\"color:#4527A0\"><h1 style=\"font-size:18px\">Trial summary</h1></span>"
      ],
      "text/plain": [
       "<IPython.core.display.HTML object>"
      ]
     },
     "metadata": {},
     "output_type": "display_data"
    },
    {
     "data": {
      "text/html": [
       "<span style=\"color:cyan\"> |-Trial ID: 4022c71d098c21ec73785ded274c008d</span>"
      ],
      "text/plain": [
       "<IPython.core.display.HTML object>"
      ]
     },
     "metadata": {},
     "output_type": "display_data"
    },
    {
     "data": {
      "text/html": [
       "<span style=\"color:cyan\"> |-Score: 0.5343440175056458</span>"
      ],
      "text/plain": [
       "<IPython.core.display.HTML object>"
      ]
     },
     "metadata": {},
     "output_type": "display_data"
    },
    {
     "data": {
      "text/html": [
       "<span style=\"color:cyan\"> |-Best step: 0</span>"
      ],
      "text/plain": [
       "<IPython.core.display.HTML object>"
      ]
     },
     "metadata": {},
     "output_type": "display_data"
    },
    {
     "data": {
      "text/html": [
       "<span style=\"color:#7E57C2\"><h2 style=\"font-size:16px\">Hyperparameters:</h2></span>"
      ],
      "text/plain": [
       "<IPython.core.display.HTML object>"
      ]
     },
     "metadata": {},
     "output_type": "display_data"
    },
    {
     "data": {
      "text/html": [
       "<span style=\"color:cyan\"> |-activation: sigmoid</span>"
      ],
      "text/plain": [
       "<IPython.core.display.HTML object>"
      ]
     },
     "metadata": {},
     "output_type": "display_data"
    },
    {
     "data": {
      "text/html": [
       "<span style=\"color:blue\"> |-first_units: 3</span>"
      ],
      "text/plain": [
       "<IPython.core.display.HTML object>"
      ]
     },
     "metadata": {},
     "output_type": "display_data"
    },
    {
     "data": {
      "text/html": [
       "<span style=\"color:cyan\"> |-num_layers: 6</span>"
      ],
      "text/plain": [
       "<IPython.core.display.HTML object>"
      ]
     },
     "metadata": {},
     "output_type": "display_data"
    },
    {
     "data": {
      "text/html": [
       "<span style=\"color:blue\"> |-tuner/bracket: 2</span>"
      ],
      "text/plain": [
       "<IPython.core.display.HTML object>"
      ]
     },
     "metadata": {},
     "output_type": "display_data"
    },
    {
     "data": {
      "text/html": [
       "<span style=\"color:cyan\"> |-tuner/epochs: 3</span>"
      ],
      "text/plain": [
       "<IPython.core.display.HTML object>"
      ]
     },
     "metadata": {},
     "output_type": "display_data"
    },
    {
     "data": {
      "text/html": [
       "<span style=\"color:blue\"> |-tuner/initial_epoch: 0</span>"
      ],
      "text/plain": [
       "<IPython.core.display.HTML object>"
      ]
     },
     "metadata": {},
     "output_type": "display_data"
    },
    {
     "data": {
      "text/html": [
       "<span style=\"color:cyan\"> |-tuner/round: 0</span>"
      ],
      "text/plain": [
       "<IPython.core.display.HTML object>"
      ]
     },
     "metadata": {},
     "output_type": "display_data"
    },
    {
     "data": {
      "text/html": [
       "<span style=\"color:blue\"> |-units_0: 3</span>"
      ],
      "text/plain": [
       "<IPython.core.display.HTML object>"
      ]
     },
     "metadata": {},
     "output_type": "display_data"
    },
    {
     "data": {
      "text/html": [
       "<span style=\"color:cyan\"> |-units_1: 1</span>"
      ],
      "text/plain": [
       "<IPython.core.display.HTML object>"
      ]
     },
     "metadata": {},
     "output_type": "display_data"
    },
    {
     "data": {
      "text/html": [
       "<span style=\"color:blue\"> |-units_2: 1</span>"
      ],
      "text/plain": [
       "<IPython.core.display.HTML object>"
      ]
     },
     "metadata": {},
     "output_type": "display_data"
    },
    {
     "data": {
      "text/html": [
       "<span style=\"color:cyan\"> |-units_3: 1</span>"
      ],
      "text/plain": [
       "<IPython.core.display.HTML object>"
      ]
     },
     "metadata": {},
     "output_type": "display_data"
    },
    {
     "data": {
      "text/html": [
       "<span style=\"color:blue\"> |-units_4: 1</span>"
      ],
      "text/plain": [
       "<IPython.core.display.HTML object>"
      ]
     },
     "metadata": {},
     "output_type": "display_data"
    },
    {
     "data": {
      "text/html": [
       "<span style=\"color:cyan\"> |-units_5: 1</span>"
      ],
      "text/plain": [
       "<IPython.core.display.HTML object>"
      ]
     },
     "metadata": {},
     "output_type": "display_data"
    },
    {
     "name": "stdout",
     "output_type": "stream",
     "text": [
      "Epoch 1/3\n",
      "804/804 [==============================] - ETA: 0s - loss: 0.8086 - accuracy: 0.37 - ETA: 0s - loss: 0.7409 - accuracy: 0.47 - ETA: 0s - loss: 0.7359 - accuracy: 0.47 - ETA: 0s - loss: 0.7291 - accuracy: 0.47 - ETA: 0s - loss: 0.7246 - accuracy: 0.47 - ETA: 0s - loss: 0.7205 - accuracy: 0.47 - ETA: 0s - loss: 0.7169 - accuracy: 0.47 - ETA: 0s - loss: 0.7145 - accuracy: 0.46 - ETA: 0s - loss: 0.7120 - accuracy: 0.46 - ETA: 0s - loss: 0.7100 - accuracy: 0.46 - ETA: 0s - loss: 0.7082 - accuracy: 0.47 - ETA: 0s - loss: 0.7066 - accuracy: 0.48 - ETA: 0s - loss: 0.7053 - accuracy: 0.48 - 1s 1ms/step - loss: 0.7048 - accuracy: 0.4870 - val_loss: 0.6904 - val_accuracy: 0.5343\n",
      "Epoch 2/3\n",
      "804/804 [==============================] - ETA: 0s - loss: 0.6913 - accuracy: 0.50 - ETA: 0s - loss: 0.6913 - accuracy: 0.51 - ETA: 0s - loss: 0.6905 - accuracy: 0.52 - ETA: 0s - loss: 0.6897 - accuracy: 0.53 - ETA: 0s - loss: 0.6891 - accuracy: 0.53 - ETA: 0s - loss: 0.6885 - accuracy: 0.53 - ETA: 0s - loss: 0.6880 - accuracy: 0.53 - ETA: 0s - loss: 0.6872 - accuracy: 0.53 - ETA: 0s - loss: 0.6865 - accuracy: 0.53 - ETA: 0s - loss: 0.6863 - accuracy: 0.53 - ETA: 0s - loss: 0.6857 - accuracy: 0.53 - ETA: 0s - loss: 0.6849 - accuracy: 0.53 - ETA: 0s - loss: 0.6846 - accuracy: 0.53 - ETA: 0s - loss: 0.6840 - accuracy: 0.54 - 1s 1ms/step - loss: 0.6837 - accuracy: 0.5499 - val_loss: 0.6746 - val_accuracy: 0.7240\n",
      "Epoch 3/3\n",
      "804/804 [==============================] - ETA: 0s - loss: 0.6639 - accuracy: 0.81 - ETA: 0s - loss: 0.6731 - accuracy: 0.72 - ETA: 0s - loss: 0.6721 - accuracy: 0.72 - ETA: 0s - loss: 0.6711 - accuracy: 0.72 - ETA: 0s - loss: 0.6703 - accuracy: 0.72 - ETA: 0s - loss: 0.6702 - accuracy: 0.72 - ETA: 0s - loss: 0.6700 - accuracy: 0.72 - ETA: 0s - loss: 0.6693 - accuracy: 0.72 - ETA: 0s - loss: 0.6687 - accuracy: 0.72 - ETA: 0s - loss: 0.6683 - accuracy: 0.72 - ETA: 0s - loss: 0.6679 - accuracy: 0.72 - ETA: 0s - loss: 0.6675 - accuracy: 0.72 - ETA: 0s - loss: 0.6669 - accuracy: 0.72 - ETA: 0s - loss: 0.6662 - accuracy: 0.72 - ETA: 0s - loss: 0.6654 - accuracy: 0.72 - ETA: 0s - loss: 0.6643 - accuracy: 0.72 - 1s 1ms/step - loss: 0.6633 - accuracy: 0.7242 - val_loss: 0.6507 - val_accuracy: 0.7262\n"
     ]
    },
    {
     "data": {
      "text/html": [
       "<span style=\"color:#4527A0\"><h1 style=\"font-size:18px\">Trial complete</h1></span>"
      ],
      "text/plain": [
       "<IPython.core.display.HTML object>"
      ]
     },
     "metadata": {},
     "output_type": "display_data"
    },
    {
     "data": {
      "text/html": [
       "<span style=\"color:#4527A0\"><h1 style=\"font-size:18px\">Trial summary</h1></span>"
      ],
      "text/plain": [
       "<IPython.core.display.HTML object>"
      ]
     },
     "metadata": {},
     "output_type": "display_data"
    },
    {
     "data": {
      "text/html": [
       "<span style=\"color:cyan\"> |-Trial ID: 16dd0fa69994d511aea61e58e509b50e</span>"
      ],
      "text/plain": [
       "<IPython.core.display.HTML object>"
      ]
     },
     "metadata": {},
     "output_type": "display_data"
    },
    {
     "data": {
      "text/html": [
       "<span style=\"color:cyan\"> |-Score: 0.7261807322502136</span>"
      ],
      "text/plain": [
       "<IPython.core.display.HTML object>"
      ]
     },
     "metadata": {},
     "output_type": "display_data"
    },
    {
     "data": {
      "text/html": [
       "<span style=\"color:cyan\"> |-Best step: 0</span>"
      ],
      "text/plain": [
       "<IPython.core.display.HTML object>"
      ]
     },
     "metadata": {},
     "output_type": "display_data"
    },
    {
     "data": {
      "text/html": [
       "<span style=\"color:#7E57C2\"><h2 style=\"font-size:16px\">Hyperparameters:</h2></span>"
      ],
      "text/plain": [
       "<IPython.core.display.HTML object>"
      ]
     },
     "metadata": {},
     "output_type": "display_data"
    },
    {
     "data": {
      "text/html": [
       "<span style=\"color:cyan\"> |-activation: sigmoid</span>"
      ],
      "text/plain": [
       "<IPython.core.display.HTML object>"
      ]
     },
     "metadata": {},
     "output_type": "display_data"
    },
    {
     "data": {
      "text/html": [
       "<span style=\"color:blue\"> |-first_units: 1</span>"
      ],
      "text/plain": [
       "<IPython.core.display.HTML object>"
      ]
     },
     "metadata": {},
     "output_type": "display_data"
    },
    {
     "data": {
      "text/html": [
       "<span style=\"color:cyan\"> |-num_layers: 1</span>"
      ],
      "text/plain": [
       "<IPython.core.display.HTML object>"
      ]
     },
     "metadata": {},
     "output_type": "display_data"
    },
    {
     "data": {
      "text/html": [
       "<span style=\"color:blue\"> |-tuner/bracket: 2</span>"
      ],
      "text/plain": [
       "<IPython.core.display.HTML object>"
      ]
     },
     "metadata": {},
     "output_type": "display_data"
    },
    {
     "data": {
      "text/html": [
       "<span style=\"color:cyan\"> |-tuner/epochs: 3</span>"
      ],
      "text/plain": [
       "<IPython.core.display.HTML object>"
      ]
     },
     "metadata": {},
     "output_type": "display_data"
    },
    {
     "data": {
      "text/html": [
       "<span style=\"color:blue\"> |-tuner/initial_epoch: 0</span>"
      ],
      "text/plain": [
       "<IPython.core.display.HTML object>"
      ]
     },
     "metadata": {},
     "output_type": "display_data"
    },
    {
     "data": {
      "text/html": [
       "<span style=\"color:cyan\"> |-tuner/round: 0</span>"
      ],
      "text/plain": [
       "<IPython.core.display.HTML object>"
      ]
     },
     "metadata": {},
     "output_type": "display_data"
    },
    {
     "data": {
      "text/html": [
       "<span style=\"color:blue\"> |-units_0: 1</span>"
      ],
      "text/plain": [
       "<IPython.core.display.HTML object>"
      ]
     },
     "metadata": {},
     "output_type": "display_data"
    },
    {
     "data": {
      "text/html": [
       "<span style=\"color:cyan\"> |-units_1: 1</span>"
      ],
      "text/plain": [
       "<IPython.core.display.HTML object>"
      ]
     },
     "metadata": {},
     "output_type": "display_data"
    },
    {
     "data": {
      "text/html": [
       "<span style=\"color:blue\"> |-units_2: 3</span>"
      ],
      "text/plain": [
       "<IPython.core.display.HTML object>"
      ]
     },
     "metadata": {},
     "output_type": "display_data"
    },
    {
     "data": {
      "text/html": [
       "<span style=\"color:cyan\"> |-units_3: 9</span>"
      ],
      "text/plain": [
       "<IPython.core.display.HTML object>"
      ]
     },
     "metadata": {},
     "output_type": "display_data"
    },
    {
     "data": {
      "text/html": [
       "<span style=\"color:blue\"> |-units_4: 7</span>"
      ],
      "text/plain": [
       "<IPython.core.display.HTML object>"
      ]
     },
     "metadata": {},
     "output_type": "display_data"
    },
    {
     "data": {
      "text/html": [
       "<span style=\"color:cyan\"> |-units_5: 3</span>"
      ],
      "text/plain": [
       "<IPython.core.display.HTML object>"
      ]
     },
     "metadata": {},
     "output_type": "display_data"
    },
    {
     "name": "stdout",
     "output_type": "stream",
     "text": [
      "Epoch 1/3\n",
      "804/804 [==============================] - ETA: 0s - loss: 0.7036 - accuracy: 0.40 - ETA: 0s - loss: 0.6851 - accuracy: 0.54 - ETA: 0s - loss: 0.6842 - accuracy: 0.53 - ETA: 0s - loss: 0.6806 - accuracy: 0.55 - ETA: 0s - loss: 0.6753 - accuracy: 0.57 - ETA: 0s - loss: 0.6726 - accuracy: 0.58 - ETA: 0s - loss: 0.6669 - accuracy: 0.60 - ETA: 0s - loss: 0.6625 - accuracy: 0.61 - ETA: 0s - loss: 0.6581 - accuracy: 0.62 - ETA: 0s - loss: 0.6537 - accuracy: 0.62 - ETA: 0s - loss: 0.6506 - accuracy: 0.63 - ETA: 0s - loss: 0.6474 - accuracy: 0.64 - ETA: 0s - loss: 0.6438 - accuracy: 0.64 - ETA: 0s - loss: 0.6418 - accuracy: 0.65 - ETA: 0s - loss: 0.6390 - accuracy: 0.65 - 1s 1ms/step - loss: 0.6366 - accuracy: 0.6576 - val_loss: 0.5905 - val_accuracy: 0.7125\n",
      "Epoch 2/3\n",
      "804/804 [==============================] - ETA: 0s - loss: 0.5171 - accuracy: 0.84 - ETA: 0s - loss: 0.5854 - accuracy: 0.73 - ETA: 0s - loss: 0.5958 - accuracy: 0.71 - ETA: 0s - loss: 0.5914 - accuracy: 0.72 - ETA: 0s - loss: 0.5903 - accuracy: 0.71 - ETA: 0s - loss: 0.5905 - accuracy: 0.71 - ETA: 0s - loss: 0.5835 - accuracy: 0.72 - ETA: 0s - loss: 0.5799 - accuracy: 0.72 - ETA: 0s - loss: 0.5817 - accuracy: 0.72 - ETA: 0s - loss: 0.5800 - accuracy: 0.72 - ETA: 0s - loss: 0.5807 - accuracy: 0.72 - ETA: 0s - loss: 0.5804 - accuracy: 0.72 - ETA: 0s - loss: 0.5797 - accuracy: 0.72 - 1s 1ms/step - loss: 0.5786 - accuracy: 0.7228 - val_loss: 0.5723 - val_accuracy: 0.7198\n",
      "Epoch 3/3\n",
      "804/804 [==============================] - ETA: 0s - loss: 0.6152 - accuracy: 0.68 - ETA: 0s - loss: 0.5655 - accuracy: 0.73 - ETA: 0s - loss: 0.5713 - accuracy: 0.72 - ETA: 0s - loss: 0.5701 - accuracy: 0.72 - ETA: 0s - loss: 0.5695 - accuracy: 0.72 - ETA: 0s - loss: 0.5650 - accuracy: 0.72 - ETA: 0s - loss: 0.5646 - accuracy: 0.72 - ETA: 0s - loss: 0.5643 - accuracy: 0.72 - ETA: 0s - loss: 0.5643 - accuracy: 0.72 - ETA: 0s - loss: 0.5644 - accuracy: 0.72 - ETA: 0s - loss: 0.5639 - accuracy: 0.72 - ETA: 0s - loss: 0.5649 - accuracy: 0.72 - ETA: 0s - loss: 0.5642 - accuracy: 0.72 - ETA: 0s - loss: 0.5642 - accuracy: 0.72 - ETA: 0s - loss: 0.5646 - accuracy: 0.72 - ETA: 0s - loss: 0.5650 - accuracy: 0.72 - 1s 1ms/step - loss: 0.5647 - accuracy: 0.7270 - val_loss: 0.5653 - val_accuracy: 0.7226\n"
     ]
    },
    {
     "data": {
      "text/html": [
       "<span style=\"color:#4527A0\"><h1 style=\"font-size:18px\">Trial complete</h1></span>"
      ],
      "text/plain": [
       "<IPython.core.display.HTML object>"
      ]
     },
     "metadata": {},
     "output_type": "display_data"
    },
    {
     "data": {
      "text/html": [
       "<span style=\"color:#4527A0\"><h1 style=\"font-size:18px\">Trial summary</h1></span>"
      ],
      "text/plain": [
       "<IPython.core.display.HTML object>"
      ]
     },
     "metadata": {},
     "output_type": "display_data"
    },
    {
     "data": {
      "text/html": [
       "<span style=\"color:cyan\"> |-Trial ID: 9a24bdc2fbeb70a35cc2727a265c8779</span>"
      ],
      "text/plain": [
       "<IPython.core.display.HTML object>"
      ]
     },
     "metadata": {},
     "output_type": "display_data"
    },
    {
     "data": {
      "text/html": [
       "<span style=\"color:cyan\"> |-Score: 0.7225655913352966</span>"
      ],
      "text/plain": [
       "<IPython.core.display.HTML object>"
      ]
     },
     "metadata": {},
     "output_type": "display_data"
    },
    {
     "data": {
      "text/html": [
       "<span style=\"color:cyan\"> |-Best step: 0</span>"
      ],
      "text/plain": [
       "<IPython.core.display.HTML object>"
      ]
     },
     "metadata": {},
     "output_type": "display_data"
    },
    {
     "data": {
      "text/html": [
       "<span style=\"color:#7E57C2\"><h2 style=\"font-size:16px\">Hyperparameters:</h2></span>"
      ],
      "text/plain": [
       "<IPython.core.display.HTML object>"
      ]
     },
     "metadata": {},
     "output_type": "display_data"
    },
    {
     "data": {
      "text/html": [
       "<span style=\"color:cyan\"> |-activation: relu</span>"
      ],
      "text/plain": [
       "<IPython.core.display.HTML object>"
      ]
     },
     "metadata": {},
     "output_type": "display_data"
    },
    {
     "data": {
      "text/html": [
       "<span style=\"color:blue\"> |-first_units: 5</span>"
      ],
      "text/plain": [
       "<IPython.core.display.HTML object>"
      ]
     },
     "metadata": {},
     "output_type": "display_data"
    },
    {
     "data": {
      "text/html": [
       "<span style=\"color:cyan\"> |-num_layers: 5</span>"
      ],
      "text/plain": [
       "<IPython.core.display.HTML object>"
      ]
     },
     "metadata": {},
     "output_type": "display_data"
    },
    {
     "data": {
      "text/html": [
       "<span style=\"color:blue\"> |-tuner/bracket: 2</span>"
      ],
      "text/plain": [
       "<IPython.core.display.HTML object>"
      ]
     },
     "metadata": {},
     "output_type": "display_data"
    },
    {
     "data": {
      "text/html": [
       "<span style=\"color:cyan\"> |-tuner/epochs: 3</span>"
      ],
      "text/plain": [
       "<IPython.core.display.HTML object>"
      ]
     },
     "metadata": {},
     "output_type": "display_data"
    },
    {
     "data": {
      "text/html": [
       "<span style=\"color:blue\"> |-tuner/initial_epoch: 0</span>"
      ],
      "text/plain": [
       "<IPython.core.display.HTML object>"
      ]
     },
     "metadata": {},
     "output_type": "display_data"
    },
    {
     "data": {
      "text/html": [
       "<span style=\"color:cyan\"> |-tuner/round: 0</span>"
      ],
      "text/plain": [
       "<IPython.core.display.HTML object>"
      ]
     },
     "metadata": {},
     "output_type": "display_data"
    },
    {
     "data": {
      "text/html": [
       "<span style=\"color:blue\"> |-units_0: 7</span>"
      ],
      "text/plain": [
       "<IPython.core.display.HTML object>"
      ]
     },
     "metadata": {},
     "output_type": "display_data"
    },
    {
     "data": {
      "text/html": [
       "<span style=\"color:cyan\"> |-units_1: 9</span>"
      ],
      "text/plain": [
       "<IPython.core.display.HTML object>"
      ]
     },
     "metadata": {},
     "output_type": "display_data"
    },
    {
     "data": {
      "text/html": [
       "<span style=\"color:blue\"> |-units_2: 3</span>"
      ],
      "text/plain": [
       "<IPython.core.display.HTML object>"
      ]
     },
     "metadata": {},
     "output_type": "display_data"
    },
    {
     "data": {
      "text/html": [
       "<span style=\"color:cyan\"> |-units_3: 5</span>"
      ],
      "text/plain": [
       "<IPython.core.display.HTML object>"
      ]
     },
     "metadata": {},
     "output_type": "display_data"
    },
    {
     "data": {
      "text/html": [
       "<span style=\"color:blue\"> |-units_4: 9</span>"
      ],
      "text/plain": [
       "<IPython.core.display.HTML object>"
      ]
     },
     "metadata": {},
     "output_type": "display_data"
    },
    {
     "data": {
      "text/html": [
       "<span style=\"color:cyan\"> |-units_5: 5</span>"
      ],
      "text/plain": [
       "<IPython.core.display.HTML object>"
      ]
     },
     "metadata": {},
     "output_type": "display_data"
    },
    {
     "name": "stdout",
     "output_type": "stream",
     "text": [
      "Epoch 1/3\n",
      "804/804 [==============================] - ETA: 0s - loss: 0.6669 - accuracy: 0.59 - ETA: 0s - loss: 0.6690 - accuracy: 0.59 - ETA: 0s - loss: 0.6527 - accuracy: 0.63 - ETA: 0s - loss: 0.6416 - accuracy: 0.65 - ETA: 0s - loss: 0.6318 - accuracy: 0.66 - ETA: 0s - loss: 0.6241 - accuracy: 0.67 - ETA: 0s - loss: 0.6212 - accuracy: 0.67 - ETA: 0s - loss: 0.6166 - accuracy: 0.68 - ETA: 0s - loss: 0.6138 - accuracy: 0.68 - ETA: 0s - loss: 0.6110 - accuracy: 0.68 - ETA: 0s - loss: 0.6083 - accuracy: 0.69 - ETA: 0s - loss: 0.6058 - accuracy: 0.69 - ETA: 0s - loss: 0.6029 - accuracy: 0.69 - ETA: 0s - loss: 0.6015 - accuracy: 0.69 - 1s 1ms/step - loss: 0.5988 - accuracy: 0.7003 - val_loss: 0.5757 - val_accuracy: 0.7183\n",
      "Epoch 2/3\n",
      "804/804 [==============================] - ETA: 0s - loss: 0.5444 - accuracy: 0.75 - ETA: 0s - loss: 0.5784 - accuracy: 0.71 - ETA: 0s - loss: 0.5708 - accuracy: 0.71 - ETA: 0s - loss: 0.5668 - accuracy: 0.72 - ETA: 0s - loss: 0.5697 - accuracy: 0.72 - ETA: 0s - loss: 0.5698 - accuracy: 0.72 - ETA: 0s - loss: 0.5693 - accuracy: 0.72 - ETA: 0s - loss: 0.5675 - accuracy: 0.72 - ETA: 0s - loss: 0.5661 - accuracy: 0.72 - ETA: 0s - loss: 0.5658 - accuracy: 0.72 - ETA: 0s - loss: 0.5663 - accuracy: 0.72 - ETA: 0s - loss: 0.5659 - accuracy: 0.72 - ETA: 0s - loss: 0.5659 - accuracy: 0.72 - 1s 1ms/step - loss: 0.5658 - accuracy: 0.7247 - val_loss: 0.5676 - val_accuracy: 0.7220\n",
      "Epoch 3/3\n",
      "804/804 [==============================] - ETA: 0s - loss: 0.6175 - accuracy: 0.71 - ETA: 1s - loss: 0.5678 - accuracy: 0.74 - ETA: 1s - loss: 0.5621 - accuracy: 0.73 - ETA: 0s - loss: 0.5595 - accuracy: 0.73 - ETA: 0s - loss: 0.5625 - accuracy: 0.72 - ETA: 0s - loss: 0.5613 - accuracy: 0.73 - ETA: 0s - loss: 0.5601 - accuracy: 0.73 - ETA: 0s - loss: 0.5583 - accuracy: 0.73 - ETA: 0s - loss: 0.5560 - accuracy: 0.73 - ETA: 0s - loss: 0.5577 - accuracy: 0.73 - ETA: 0s - loss: 0.5610 - accuracy: 0.72 - ETA: 0s - loss: 0.5603 - accuracy: 0.72 - ETA: 0s - loss: 0.5609 - accuracy: 0.72 - ETA: 0s - loss: 0.5621 - accuracy: 0.72 - ETA: 0s - loss: 0.5611 - accuracy: 0.72 - ETA: 0s - loss: 0.5610 - accuracy: 0.72 - ETA: 0s - loss: 0.5604 - accuracy: 0.72 - 1s 1ms/step - loss: 0.5598 - accuracy: 0.7278 - val_loss: 0.5632 - val_accuracy: 0.7247\n"
     ]
    },
    {
     "data": {
      "text/html": [
       "<span style=\"color:#4527A0\"><h1 style=\"font-size:18px\">Trial complete</h1></span>"
      ],
      "text/plain": [
       "<IPython.core.display.HTML object>"
      ]
     },
     "metadata": {},
     "output_type": "display_data"
    },
    {
     "data": {
      "text/html": [
       "<span style=\"color:#4527A0\"><h1 style=\"font-size:18px\">Trial summary</h1></span>"
      ],
      "text/plain": [
       "<IPython.core.display.HTML object>"
      ]
     },
     "metadata": {},
     "output_type": "display_data"
    },
    {
     "data": {
      "text/html": [
       "<span style=\"color:cyan\"> |-Trial ID: f57f7b143a7afb79a32618622cb3e39c</span>"
      ],
      "text/plain": [
       "<IPython.core.display.HTML object>"
      ]
     },
     "metadata": {},
     "output_type": "display_data"
    },
    {
     "data": {
      "text/html": [
       "<span style=\"color:cyan\"> |-Score: 0.7246647477149963</span>"
      ],
      "text/plain": [
       "<IPython.core.display.HTML object>"
      ]
     },
     "metadata": {},
     "output_type": "display_data"
    },
    {
     "data": {
      "text/html": [
       "<span style=\"color:cyan\"> |-Best step: 0</span>"
      ],
      "text/plain": [
       "<IPython.core.display.HTML object>"
      ]
     },
     "metadata": {},
     "output_type": "display_data"
    },
    {
     "data": {
      "text/html": [
       "<span style=\"color:#7E57C2\"><h2 style=\"font-size:16px\">Hyperparameters:</h2></span>"
      ],
      "text/plain": [
       "<IPython.core.display.HTML object>"
      ]
     },
     "metadata": {},
     "output_type": "display_data"
    },
    {
     "data": {
      "text/html": [
       "<span style=\"color:cyan\"> |-activation: tanh</span>"
      ],
      "text/plain": [
       "<IPython.core.display.HTML object>"
      ]
     },
     "metadata": {},
     "output_type": "display_data"
    },
    {
     "data": {
      "text/html": [
       "<span style=\"color:blue\"> |-first_units: 5</span>"
      ],
      "text/plain": [
       "<IPython.core.display.HTML object>"
      ]
     },
     "metadata": {},
     "output_type": "display_data"
    },
    {
     "data": {
      "text/html": [
       "<span style=\"color:cyan\"> |-num_layers: 2</span>"
      ],
      "text/plain": [
       "<IPython.core.display.HTML object>"
      ]
     },
     "metadata": {},
     "output_type": "display_data"
    },
    {
     "data": {
      "text/html": [
       "<span style=\"color:blue\"> |-tuner/bracket: 2</span>"
      ],
      "text/plain": [
       "<IPython.core.display.HTML object>"
      ]
     },
     "metadata": {},
     "output_type": "display_data"
    },
    {
     "data": {
      "text/html": [
       "<span style=\"color:cyan\"> |-tuner/epochs: 3</span>"
      ],
      "text/plain": [
       "<IPython.core.display.HTML object>"
      ]
     },
     "metadata": {},
     "output_type": "display_data"
    },
    {
     "data": {
      "text/html": [
       "<span style=\"color:blue\"> |-tuner/initial_epoch: 0</span>"
      ],
      "text/plain": [
       "<IPython.core.display.HTML object>"
      ]
     },
     "metadata": {},
     "output_type": "display_data"
    },
    {
     "data": {
      "text/html": [
       "<span style=\"color:cyan\"> |-tuner/round: 0</span>"
      ],
      "text/plain": [
       "<IPython.core.display.HTML object>"
      ]
     },
     "metadata": {},
     "output_type": "display_data"
    },
    {
     "data": {
      "text/html": [
       "<span style=\"color:blue\"> |-units_0: 3</span>"
      ],
      "text/plain": [
       "<IPython.core.display.HTML object>"
      ]
     },
     "metadata": {},
     "output_type": "display_data"
    },
    {
     "data": {
      "text/html": [
       "<span style=\"color:cyan\"> |-units_1: 7</span>"
      ],
      "text/plain": [
       "<IPython.core.display.HTML object>"
      ]
     },
     "metadata": {},
     "output_type": "display_data"
    },
    {
     "data": {
      "text/html": [
       "<span style=\"color:blue\"> |-units_2: 1</span>"
      ],
      "text/plain": [
       "<IPython.core.display.HTML object>"
      ]
     },
     "metadata": {},
     "output_type": "display_data"
    },
    {
     "data": {
      "text/html": [
       "<span style=\"color:cyan\"> |-units_3: 5</span>"
      ],
      "text/plain": [
       "<IPython.core.display.HTML object>"
      ]
     },
     "metadata": {},
     "output_type": "display_data"
    },
    {
     "data": {
      "text/html": [
       "<span style=\"color:blue\"> |-units_4: 5</span>"
      ],
      "text/plain": [
       "<IPython.core.display.HTML object>"
      ]
     },
     "metadata": {},
     "output_type": "display_data"
    },
    {
     "data": {
      "text/html": [
       "<span style=\"color:cyan\"> |-units_5: 9</span>"
      ],
      "text/plain": [
       "<IPython.core.display.HTML object>"
      ]
     },
     "metadata": {},
     "output_type": "display_data"
    },
    {
     "name": "stdout",
     "output_type": "stream",
     "text": [
      "Epoch 1/3\n",
      "804/804 [==============================] - ETA: 0s - loss: 0.6938 - accuracy: 0.50 - ETA: 0s - loss: 0.6928 - accuracy: 0.52 - ETA: 0s - loss: 0.6928 - accuracy: 0.51 - ETA: 0s - loss: 0.6921 - accuracy: 0.52 - ETA: 0s - loss: 0.6917 - accuracy: 0.52 - ETA: 0s - loss: 0.6908 - accuracy: 0.53 - ETA: 0s - loss: 0.6900 - accuracy: 0.53 - ETA: 0s - loss: 0.6881 - accuracy: 0.53 - ETA: 0s - loss: 0.6851 - accuracy: 0.54 - ETA: 0s - loss: 0.6810 - accuracy: 0.56 - ETA: 0s - loss: 0.6768 - accuracy: 0.57 - 1s 1ms/step - loss: 0.6753 - accuracy: 0.5811 - val_loss: 0.6179 - val_accuracy: 0.7250\n",
      "Epoch 2/3\n",
      "804/804 [==============================] - ETA: 0s - loss: 0.5721 - accuracy: 0.84 - ETA: 0s - loss: 0.6039 - accuracy: 0.74 - ETA: 0s - loss: 0.6014 - accuracy: 0.73 - ETA: 0s - loss: 0.6031 - accuracy: 0.72 - ETA: 0s - loss: 0.5985 - accuracy: 0.73 - ETA: 0s - loss: 0.5959 - accuracy: 0.72 - ETA: 0s - loss: 0.5912 - accuracy: 0.73 - ETA: 0s - loss: 0.5899 - accuracy: 0.72 - ETA: 0s - loss: 0.5886 - accuracy: 0.72 - ETA: 0s - loss: 0.5877 - accuracy: 0.72 - ETA: 0s - loss: 0.5867 - accuracy: 0.72 - 1s 914us/step - loss: 0.5861 - accuracy: 0.7281 - val_loss: 0.5782 - val_accuracy: 0.7248\n",
      "Epoch 3/3\n",
      "804/804 [==============================] - ETA: 0s - loss: 0.5375 - accuracy: 0.78 - ETA: 0s - loss: 0.5664 - accuracy: 0.74 - ETA: 0s - loss: 0.5728 - accuracy: 0.73 - ETA: 0s - loss: 0.5722 - accuracy: 0.73 - ETA: 0s - loss: 0.5736 - accuracy: 0.73 - ETA: 0s - loss: 0.5735 - accuracy: 0.73 - ETA: 0s - loss: 0.5752 - accuracy: 0.73 - ETA: 0s - loss: 0.5778 - accuracy: 0.72 - ETA: 0s - loss: 0.5769 - accuracy: 0.72 - ETA: 0s - loss: 0.5767 - accuracy: 0.72 - 1s 808us/step - loss: 0.5757 - accuracy: 0.7301 - val_loss: 0.5765 - val_accuracy: 0.7284\n"
     ]
    },
    {
     "data": {
      "text/html": [
       "<span style=\"color:#4527A0\"><h1 style=\"font-size:18px\">Trial complete</h1></span>"
      ],
      "text/plain": [
       "<IPython.core.display.HTML object>"
      ]
     },
     "metadata": {},
     "output_type": "display_data"
    },
    {
     "data": {
      "text/html": [
       "<span style=\"color:#4527A0\"><h1 style=\"font-size:18px\">Trial summary</h1></span>"
      ],
      "text/plain": [
       "<IPython.core.display.HTML object>"
      ]
     },
     "metadata": {},
     "output_type": "display_data"
    },
    {
     "data": {
      "text/html": [
       "<span style=\"color:cyan\"> |-Trial ID: caef50cd6c015af1a5baed9052dc4eb6</span>"
      ],
      "text/plain": [
       "<IPython.core.display.HTML object>"
      ]
     },
     "metadata": {},
     "output_type": "display_data"
    },
    {
     "data": {
      "text/html": [
       "<span style=\"color:cyan\"> |-Score: 0.728396475315094</span>"
      ],
      "text/plain": [
       "<IPython.core.display.HTML object>"
      ]
     },
     "metadata": {},
     "output_type": "display_data"
    },
    {
     "data": {
      "text/html": [
       "<span style=\"color:cyan\"> |-Best step: 0</span>"
      ],
      "text/plain": [
       "<IPython.core.display.HTML object>"
      ]
     },
     "metadata": {},
     "output_type": "display_data"
    },
    {
     "data": {
      "text/html": [
       "<span style=\"color:#7E57C2\"><h2 style=\"font-size:16px\">Hyperparameters:</h2></span>"
      ],
      "text/plain": [
       "<IPython.core.display.HTML object>"
      ]
     },
     "metadata": {},
     "output_type": "display_data"
    },
    {
     "data": {
      "text/html": [
       "<span style=\"color:cyan\"> |-activation: sigmoid</span>"
      ],
      "text/plain": [
       "<IPython.core.display.HTML object>"
      ]
     },
     "metadata": {},
     "output_type": "display_data"
    },
    {
     "data": {
      "text/html": [
       "<span style=\"color:blue\"> |-first_units: 5</span>"
      ],
      "text/plain": [
       "<IPython.core.display.HTML object>"
      ]
     },
     "metadata": {},
     "output_type": "display_data"
    },
    {
     "data": {
      "text/html": [
       "<span style=\"color:cyan\"> |-num_layers: 3</span>"
      ],
      "text/plain": [
       "<IPython.core.display.HTML object>"
      ]
     },
     "metadata": {},
     "output_type": "display_data"
    },
    {
     "data": {
      "text/html": [
       "<span style=\"color:blue\"> |-tuner/bracket: 2</span>"
      ],
      "text/plain": [
       "<IPython.core.display.HTML object>"
      ]
     },
     "metadata": {},
     "output_type": "display_data"
    },
    {
     "data": {
      "text/html": [
       "<span style=\"color:cyan\"> |-tuner/epochs: 3</span>"
      ],
      "text/plain": [
       "<IPython.core.display.HTML object>"
      ]
     },
     "metadata": {},
     "output_type": "display_data"
    },
    {
     "data": {
      "text/html": [
       "<span style=\"color:blue\"> |-tuner/initial_epoch: 0</span>"
      ],
      "text/plain": [
       "<IPython.core.display.HTML object>"
      ]
     },
     "metadata": {},
     "output_type": "display_data"
    },
    {
     "data": {
      "text/html": [
       "<span style=\"color:cyan\"> |-tuner/round: 0</span>"
      ],
      "text/plain": [
       "<IPython.core.display.HTML object>"
      ]
     },
     "metadata": {},
     "output_type": "display_data"
    },
    {
     "data": {
      "text/html": [
       "<span style=\"color:blue\"> |-units_0: 5</span>"
      ],
      "text/plain": [
       "<IPython.core.display.HTML object>"
      ]
     },
     "metadata": {},
     "output_type": "display_data"
    },
    {
     "data": {
      "text/html": [
       "<span style=\"color:cyan\"> |-units_1: 7</span>"
      ],
      "text/plain": [
       "<IPython.core.display.HTML object>"
      ]
     },
     "metadata": {},
     "output_type": "display_data"
    },
    {
     "data": {
      "text/html": [
       "<span style=\"color:blue\"> |-units_2: 7</span>"
      ],
      "text/plain": [
       "<IPython.core.display.HTML object>"
      ]
     },
     "metadata": {},
     "output_type": "display_data"
    },
    {
     "data": {
      "text/html": [
       "<span style=\"color:cyan\"> |-units_3: 7</span>"
      ],
      "text/plain": [
       "<IPython.core.display.HTML object>"
      ]
     },
     "metadata": {},
     "output_type": "display_data"
    },
    {
     "data": {
      "text/html": [
       "<span style=\"color:blue\"> |-units_4: 1</span>"
      ],
      "text/plain": [
       "<IPython.core.display.HTML object>"
      ]
     },
     "metadata": {},
     "output_type": "display_data"
    },
    {
     "data": {
      "text/html": [
       "<span style=\"color:cyan\"> |-units_5: 5</span>"
      ],
      "text/plain": [
       "<IPython.core.display.HTML object>"
      ]
     },
     "metadata": {},
     "output_type": "display_data"
    },
    {
     "name": "stdout",
     "output_type": "stream",
     "text": [
      "Epoch 1/3\n",
      "804/804 [==============================] - ETA: 0s - loss: 0.6955 - accuracy: 0.53 - ETA: 0s - loss: 0.6541 - accuracy: 0.62 - ETA: 0s - loss: 0.6341 - accuracy: 0.65 - ETA: 0s - loss: 0.6241 - accuracy: 0.67 - ETA: 0s - loss: 0.6139 - accuracy: 0.68 - ETA: 0s - loss: 0.6108 - accuracy: 0.68 - ETA: 0s - loss: 0.6094 - accuracy: 0.69 - ETA: 0s - loss: 0.6037 - accuracy: 0.69 - ETA: 0s - loss: 0.6013 - accuracy: 0.69 - ETA: 0s - loss: 0.5986 - accuracy: 0.70 - ETA: 0s - loss: 0.5965 - accuracy: 0.70 - ETA: 0s - loss: 0.5936 - accuracy: 0.70 - ETA: 0s - loss: 0.5934 - accuracy: 0.70 - ETA: 0s - loss: 0.5913 - accuracy: 0.70 - 1s 1ms/step - loss: 0.5913 - accuracy: 0.7075 - val_loss: 0.5740 - val_accuracy: 0.7224\n",
      "Epoch 2/3\n",
      "804/804 [==============================] - ETA: 0s - loss: 0.5593 - accuracy: 0.75 - ETA: 0s - loss: 0.5488 - accuracy: 0.74 - ETA: 0s - loss: 0.5614 - accuracy: 0.73 - ETA: 0s - loss: 0.5630 - accuracy: 0.73 - ETA: 0s - loss: 0.5656 - accuracy: 0.72 - ETA: 0s - loss: 0.5644 - accuracy: 0.72 - ETA: 0s - loss: 0.5627 - accuracy: 0.72 - ETA: 0s - loss: 0.5640 - accuracy: 0.72 - ETA: 0s - loss: 0.5655 - accuracy: 0.72 - ETA: 0s - loss: 0.5660 - accuracy: 0.72 - ETA: 0s - loss: 0.5665 - accuracy: 0.72 - ETA: 0s - loss: 0.5659 - accuracy: 0.72 - ETA: 0s - loss: 0.5634 - accuracy: 0.72 - ETA: 0s - loss: 0.5636 - accuracy: 0.72 - 1s 1ms/step - loss: 0.5639 - accuracy: 0.7269 - val_loss: 0.5622 - val_accuracy: 0.7283\n",
      "Epoch 3/3\n",
      "804/804 [==============================] - ETA: 0s - loss: 0.5350 - accuracy: 0.75 - ETA: 0s - loss: 0.5589 - accuracy: 0.72 - ETA: 0s - loss: 0.5568 - accuracy: 0.72 - ETA: 0s - loss: 0.5581 - accuracy: 0.72 - ETA: 0s - loss: 0.5576 - accuracy: 0.72 - ETA: 0s - loss: 0.5603 - accuracy: 0.72 - ETA: 0s - loss: 0.5582 - accuracy: 0.72 - ETA: 0s - loss: 0.5562 - accuracy: 0.72 - ETA: 0s - loss: 0.5587 - accuracy: 0.72 - ETA: 0s - loss: 0.5586 - accuracy: 0.72 - ETA: 0s - loss: 0.5594 - accuracy: 0.72 - ETA: 0s - loss: 0.5583 - accuracy: 0.72 - ETA: 0s - loss: 0.5592 - accuracy: 0.72 - 1s 1ms/step - loss: 0.5573 - accuracy: 0.7291 - val_loss: 0.5639 - val_accuracy: 0.7290\n"
     ]
    },
    {
     "data": {
      "text/html": [
       "<span style=\"color:#4527A0\"><h1 style=\"font-size:18px\">Trial complete</h1></span>"
      ],
      "text/plain": [
       "<IPython.core.display.HTML object>"
      ]
     },
     "metadata": {},
     "output_type": "display_data"
    },
    {
     "data": {
      "text/html": [
       "<span style=\"color:#4527A0\"><h1 style=\"font-size:18px\">Trial summary</h1></span>"
      ],
      "text/plain": [
       "<IPython.core.display.HTML object>"
      ]
     },
     "metadata": {},
     "output_type": "display_data"
    },
    {
     "data": {
      "text/html": [
       "<span style=\"color:cyan\"> |-Trial ID: 1c0f2d2155faccfa74da075db9817fdb</span>"
      ],
      "text/plain": [
       "<IPython.core.display.HTML object>"
      ]
     },
     "metadata": {},
     "output_type": "display_data"
    },
    {
     "data": {
      "text/html": [
       "<span style=\"color:cyan\"> |-Score: 0.7289795875549316</span>"
      ],
      "text/plain": [
       "<IPython.core.display.HTML object>"
      ]
     },
     "metadata": {},
     "output_type": "display_data"
    },
    {
     "data": {
      "text/html": [
       "<span style=\"color:cyan\"> |-Best step: 0</span>"
      ],
      "text/plain": [
       "<IPython.core.display.HTML object>"
      ]
     },
     "metadata": {},
     "output_type": "display_data"
    },
    {
     "data": {
      "text/html": [
       "<span style=\"color:#7E57C2\"><h2 style=\"font-size:16px\">Hyperparameters:</h2></span>"
      ],
      "text/plain": [
       "<IPython.core.display.HTML object>"
      ]
     },
     "metadata": {},
     "output_type": "display_data"
    },
    {
     "data": {
      "text/html": [
       "<span style=\"color:cyan\"> |-activation: tanh</span>"
      ],
      "text/plain": [
       "<IPython.core.display.HTML object>"
      ]
     },
     "metadata": {},
     "output_type": "display_data"
    },
    {
     "data": {
      "text/html": [
       "<span style=\"color:blue\"> |-first_units: 9</span>"
      ],
      "text/plain": [
       "<IPython.core.display.HTML object>"
      ]
     },
     "metadata": {},
     "output_type": "display_data"
    },
    {
     "data": {
      "text/html": [
       "<span style=\"color:cyan\"> |-num_layers: 2</span>"
      ],
      "text/plain": [
       "<IPython.core.display.HTML object>"
      ]
     },
     "metadata": {},
     "output_type": "display_data"
    },
    {
     "data": {
      "text/html": [
       "<span style=\"color:blue\"> |-tuner/bracket: 2</span>"
      ],
      "text/plain": [
       "<IPython.core.display.HTML object>"
      ]
     },
     "metadata": {},
     "output_type": "display_data"
    },
    {
     "data": {
      "text/html": [
       "<span style=\"color:cyan\"> |-tuner/epochs: 3</span>"
      ],
      "text/plain": [
       "<IPython.core.display.HTML object>"
      ]
     },
     "metadata": {},
     "output_type": "display_data"
    },
    {
     "data": {
      "text/html": [
       "<span style=\"color:blue\"> |-tuner/initial_epoch: 0</span>"
      ],
      "text/plain": [
       "<IPython.core.display.HTML object>"
      ]
     },
     "metadata": {},
     "output_type": "display_data"
    },
    {
     "data": {
      "text/html": [
       "<span style=\"color:cyan\"> |-tuner/round: 0</span>"
      ],
      "text/plain": [
       "<IPython.core.display.HTML object>"
      ]
     },
     "metadata": {},
     "output_type": "display_data"
    },
    {
     "data": {
      "text/html": [
       "<span style=\"color:blue\"> |-units_0: 3</span>"
      ],
      "text/plain": [
       "<IPython.core.display.HTML object>"
      ]
     },
     "metadata": {},
     "output_type": "display_data"
    },
    {
     "data": {
      "text/html": [
       "<span style=\"color:cyan\"> |-units_1: 5</span>"
      ],
      "text/plain": [
       "<IPython.core.display.HTML object>"
      ]
     },
     "metadata": {},
     "output_type": "display_data"
    },
    {
     "data": {
      "text/html": [
       "<span style=\"color:blue\"> |-units_2: 5</span>"
      ],
      "text/plain": [
       "<IPython.core.display.HTML object>"
      ]
     },
     "metadata": {},
     "output_type": "display_data"
    },
    {
     "data": {
      "text/html": [
       "<span style=\"color:cyan\"> |-units_3: 5</span>"
      ],
      "text/plain": [
       "<IPython.core.display.HTML object>"
      ]
     },
     "metadata": {},
     "output_type": "display_data"
    },
    {
     "data": {
      "text/html": [
       "<span style=\"color:blue\"> |-units_4: 7</span>"
      ],
      "text/plain": [
       "<IPython.core.display.HTML object>"
      ]
     },
     "metadata": {},
     "output_type": "display_data"
    },
    {
     "data": {
      "text/html": [
       "<span style=\"color:cyan\"> |-units_5: 5</span>"
      ],
      "text/plain": [
       "<IPython.core.display.HTML object>"
      ]
     },
     "metadata": {},
     "output_type": "display_data"
    },
    {
     "name": "stdout",
     "output_type": "stream",
     "text": [
      "Epoch 1/3\n",
      "804/804 [==============================] - ETA: 0s - loss: 1.0066 - accuracy: 0.25 - ETA: 0s - loss: 0.7893 - accuracy: 0.45 - ETA: 0s - loss: 0.7639 - accuracy: 0.46 - ETA: 0s - loss: 0.7522 - accuracy: 0.46 - ETA: 0s - loss: 0.7397 - accuracy: 0.46 - ETA: 0s - loss: 0.7292 - accuracy: 0.46 - ETA: 0s - loss: 0.7209 - accuracy: 0.48 - ETA: 0s - loss: 0.7158 - accuracy: 0.48 - ETA: 0s - loss: 0.7123 - accuracy: 0.49 - ETA: 0s - loss: 0.7096 - accuracy: 0.49 - ETA: 0s - loss: 0.7073 - accuracy: 0.50 - ETA: 0s - loss: 0.7055 - accuracy: 0.50 - 1s 1ms/step - loss: 0.7049 - accuracy: 0.5056 - val_loss: 0.6884 - val_accuracy: 0.5343\n",
      "Epoch 2/3\n",
      "804/804 [==============================] - ETA: 0s - loss: 0.6814 - accuracy: 0.59 - ETA: 0s - loss: 0.6875 - accuracy: 0.53 - ETA: 0s - loss: 0.6867 - accuracy: 0.53 - ETA: 0s - loss: 0.6859 - accuracy: 0.53 - ETA: 0s - loss: 0.6853 - accuracy: 0.53 - ETA: 0s - loss: 0.6837 - accuracy: 0.53 - ETA: 0s - loss: 0.6817 - accuracy: 0.53 - ETA: 0s - loss: 0.6795 - accuracy: 0.55 - ETA: 0s - loss: 0.6766 - accuracy: 0.57 - ETA: 0s - loss: 0.6731 - accuracy: 0.59 - ETA: 0s - loss: 0.6693 - accuracy: 0.60 - ETA: 0s - loss: 0.6651 - accuracy: 0.61 - ETA: 0s - loss: 0.6609 - accuracy: 0.62 - 1s 1ms/step - loss: 0.6590 - accuracy: 0.6332 - val_loss: 0.6133 - val_accuracy: 0.7252\n",
      "Epoch 3/3\n",
      "804/804 [==============================] - ETA: 0s - loss: 0.6686 - accuracy: 0.62 - ETA: 0s - loss: 0.6149 - accuracy: 0.71 - ETA: 0s - loss: 0.6084 - accuracy: 0.72 - ETA: 0s - loss: 0.6089 - accuracy: 0.72 - ETA: 0s - loss: 0.6045 - accuracy: 0.72 - ETA: 0s - loss: 0.6037 - accuracy: 0.72 - ETA: 0s - loss: 0.6016 - accuracy: 0.72 - ETA: 0s - loss: 0.5981 - accuracy: 0.72 - ETA: 0s - loss: 0.5963 - accuracy: 0.72 - ETA: 0s - loss: 0.5948 - accuracy: 0.72 - ETA: 0s - loss: 0.5934 - accuracy: 0.72 - ETA: 0s - loss: 0.5916 - accuracy: 0.72 - ETA: 0s - loss: 0.5912 - accuracy: 0.72 - 1s 963us/step - loss: 0.5902 - accuracy: 0.7301 - val_loss: 0.5856 - val_accuracy: 0.7240\n"
     ]
    },
    {
     "data": {
      "text/html": [
       "<span style=\"color:#4527A0\"><h1 style=\"font-size:18px\">Trial complete</h1></span>"
      ],
      "text/plain": [
       "<IPython.core.display.HTML object>"
      ]
     },
     "metadata": {},
     "output_type": "display_data"
    },
    {
     "data": {
      "text/html": [
       "<span style=\"color:#4527A0\"><h1 style=\"font-size:18px\">Trial summary</h1></span>"
      ],
      "text/plain": [
       "<IPython.core.display.HTML object>"
      ]
     },
     "metadata": {},
     "output_type": "display_data"
    },
    {
     "data": {
      "text/html": [
       "<span style=\"color:cyan\"> |-Trial ID: ba307684645d441b172ccc1de05055bf</span>"
      ],
      "text/plain": [
       "<IPython.core.display.HTML object>"
      ]
     },
     "metadata": {},
     "output_type": "display_data"
    },
    {
     "data": {
      "text/html": [
       "<span style=\"color:cyan\"> |-Score: 0.7252478003501892</span>"
      ],
      "text/plain": [
       "<IPython.core.display.HTML object>"
      ]
     },
     "metadata": {},
     "output_type": "display_data"
    },
    {
     "data": {
      "text/html": [
       "<span style=\"color:cyan\"> |-Best step: 0</span>"
      ],
      "text/plain": [
       "<IPython.core.display.HTML object>"
      ]
     },
     "metadata": {},
     "output_type": "display_data"
    },
    {
     "data": {
      "text/html": [
       "<span style=\"color:#7E57C2\"><h2 style=\"font-size:16px\">Hyperparameters:</h2></span>"
      ],
      "text/plain": [
       "<IPython.core.display.HTML object>"
      ]
     },
     "metadata": {},
     "output_type": "display_data"
    },
    {
     "data": {
      "text/html": [
       "<span style=\"color:cyan\"> |-activation: sigmoid</span>"
      ],
      "text/plain": [
       "<IPython.core.display.HTML object>"
      ]
     },
     "metadata": {},
     "output_type": "display_data"
    },
    {
     "data": {
      "text/html": [
       "<span style=\"color:blue\"> |-first_units: 5</span>"
      ],
      "text/plain": [
       "<IPython.core.display.HTML object>"
      ]
     },
     "metadata": {},
     "output_type": "display_data"
    },
    {
     "data": {
      "text/html": [
       "<span style=\"color:cyan\"> |-num_layers: 5</span>"
      ],
      "text/plain": [
       "<IPython.core.display.HTML object>"
      ]
     },
     "metadata": {},
     "output_type": "display_data"
    },
    {
     "data": {
      "text/html": [
       "<span style=\"color:blue\"> |-tuner/bracket: 2</span>"
      ],
      "text/plain": [
       "<IPython.core.display.HTML object>"
      ]
     },
     "metadata": {},
     "output_type": "display_data"
    },
    {
     "data": {
      "text/html": [
       "<span style=\"color:cyan\"> |-tuner/epochs: 3</span>"
      ],
      "text/plain": [
       "<IPython.core.display.HTML object>"
      ]
     },
     "metadata": {},
     "output_type": "display_data"
    },
    {
     "data": {
      "text/html": [
       "<span style=\"color:blue\"> |-tuner/initial_epoch: 0</span>"
      ],
      "text/plain": [
       "<IPython.core.display.HTML object>"
      ]
     },
     "metadata": {},
     "output_type": "display_data"
    },
    {
     "data": {
      "text/html": [
       "<span style=\"color:cyan\"> |-tuner/round: 0</span>"
      ],
      "text/plain": [
       "<IPython.core.display.HTML object>"
      ]
     },
     "metadata": {},
     "output_type": "display_data"
    },
    {
     "data": {
      "text/html": [
       "<span style=\"color:blue\"> |-units_0: 7</span>"
      ],
      "text/plain": [
       "<IPython.core.display.HTML object>"
      ]
     },
     "metadata": {},
     "output_type": "display_data"
    },
    {
     "data": {
      "text/html": [
       "<span style=\"color:cyan\"> |-units_1: 3</span>"
      ],
      "text/plain": [
       "<IPython.core.display.HTML object>"
      ]
     },
     "metadata": {},
     "output_type": "display_data"
    },
    {
     "data": {
      "text/html": [
       "<span style=\"color:blue\"> |-units_2: 7</span>"
      ],
      "text/plain": [
       "<IPython.core.display.HTML object>"
      ]
     },
     "metadata": {},
     "output_type": "display_data"
    },
    {
     "data": {
      "text/html": [
       "<span style=\"color:cyan\"> |-units_3: 3</span>"
      ],
      "text/plain": [
       "<IPython.core.display.HTML object>"
      ]
     },
     "metadata": {},
     "output_type": "display_data"
    },
    {
     "data": {
      "text/html": [
       "<span style=\"color:blue\"> |-units_4: 5</span>"
      ],
      "text/plain": [
       "<IPython.core.display.HTML object>"
      ]
     },
     "metadata": {},
     "output_type": "display_data"
    },
    {
     "data": {
      "text/html": [
       "<span style=\"color:cyan\"> |-units_5: 7</span>"
      ],
      "text/plain": [
       "<IPython.core.display.HTML object>"
      ]
     },
     "metadata": {},
     "output_type": "display_data"
    },
    {
     "name": "stdout",
     "output_type": "stream",
     "text": [
      "Epoch 1/3\n",
      "801/804 [============================>.] - ETA: 0s - loss: 0.6670 - accuracy: 0.68 - ETA: 0s - loss: 0.7027 - accuracy: 0.53 - ETA: 0s - loss: 0.6860 - accuracy: 0.59 - ETA: 0s - loss: 0.6684 - accuracy: 0.62 - ETA: 0s - loss: 0.6545 - accuracy: 0.64 - ETA: 0s - loss: 0.6438 - accuracy: 0.65 - ETA: 0s - loss: 0.6344 - accuracy: 0.66 - ETA: 0s - loss: 0.6265 - accuracy: 0.67 - ETA: 0s - loss: 0.6210 - accuracy: 0.68 - ETA: 0s - loss: 0.6175 - accuracy: 0.68 - ETA: 0s - loss: 0.6130 - accuracy: 0.68 - ETA: 0s - loss: 0.6095 - accuracy: 0.69 - ETA: 0s - loss: 0.6064 - accuracy: 0.69 - ETA: 0s - loss: 0.6044 - accuracy: 0.6978WARNING:tensorflow:Callbacks method `on_test_batch_begin` is slow compared to the batch time (batch time: 0.0000s vs `on_test_batch_begin` time: 0.0010s). Check your callbacks.\n",
      "804/804 [==============================] - 1s 1ms/step - loss: 0.6044 - accuracy: 0.6978 - val_loss: 0.5731 - val_accuracy: 0.7270\n",
      "Epoch 2/3\n",
      "804/804 [==============================] - ETA: 0s - loss: 0.5314 - accuracy: 0.78 - ETA: 0s - loss: 0.5779 - accuracy: 0.71 - ETA: 0s - loss: 0.5708 - accuracy: 0.72 - ETA: 0s - loss: 0.5677 - accuracy: 0.73 - ETA: 0s - loss: 0.5686 - accuracy: 0.72 - ETA: 0s - loss: 0.5691 - accuracy: 0.72 - ETA: 0s - loss: 0.5695 - accuracy: 0.72 - ETA: 0s - loss: 0.5714 - accuracy: 0.72 - ETA: 0s - loss: 0.5700 - accuracy: 0.72 - ETA: 0s - loss: 0.5704 - accuracy: 0.72 - ETA: 0s - loss: 0.5717 - accuracy: 0.72 - ETA: 0s - loss: 0.5703 - accuracy: 0.72 - ETA: 0s - loss: 0.5713 - accuracy: 0.72 - 1s 1ms/step - loss: 0.5700 - accuracy: 0.7278 - val_loss: 0.5662 - val_accuracy: 0.7275\n",
      "Epoch 3/3\n",
      "804/804 [==============================] - ETA: 0s - loss: 0.6759 - accuracy: 0.65 - ETA: 0s - loss: 0.5493 - accuracy: 0.74 - ETA: 0s - loss: 0.5533 - accuracy: 0.73 - ETA: 0s - loss: 0.5587 - accuracy: 0.73 - ETA: 0s - loss: 0.5581 - accuracy: 0.73 - ETA: 0s - loss: 0.5607 - accuracy: 0.73 - ETA: 0s - loss: 0.5601 - accuracy: 0.73 - ETA: 0s - loss: 0.5615 - accuracy: 0.73 - ETA: 0s - loss: 0.5636 - accuracy: 0.72 - ETA: 0s - loss: 0.5634 - accuracy: 0.72 - ETA: 0s - loss: 0.5646 - accuracy: 0.72 - 1s 883us/step - loss: 0.5648 - accuracy: 0.7281 - val_loss: 0.5658 - val_accuracy: 0.7268\n"
     ]
    },
    {
     "data": {
      "text/html": [
       "<span style=\"color:#4527A0\"><h1 style=\"font-size:18px\">Trial complete</h1></span>"
      ],
      "text/plain": [
       "<IPython.core.display.HTML object>"
      ]
     },
     "metadata": {},
     "output_type": "display_data"
    },
    {
     "data": {
      "text/html": [
       "<span style=\"color:#4527A0\"><h1 style=\"font-size:18px\">Trial summary</h1></span>"
      ],
      "text/plain": [
       "<IPython.core.display.HTML object>"
      ]
     },
     "metadata": {},
     "output_type": "display_data"
    },
    {
     "data": {
      "text/html": [
       "<span style=\"color:cyan\"> |-Trial ID: aa4d70c24028b50d164c8a87235533f6</span>"
      ],
      "text/plain": [
       "<IPython.core.display.HTML object>"
      ]
     },
     "metadata": {},
     "output_type": "display_data"
    },
    {
     "data": {
      "text/html": [
       "<span style=\"color:cyan\"> |-Score: 0.7274635434150696</span>"
      ],
      "text/plain": [
       "<IPython.core.display.HTML object>"
      ]
     },
     "metadata": {},
     "output_type": "display_data"
    },
    {
     "data": {
      "text/html": [
       "<span style=\"color:cyan\"> |-Best step: 0</span>"
      ],
      "text/plain": [
       "<IPython.core.display.HTML object>"
      ]
     },
     "metadata": {},
     "output_type": "display_data"
    },
    {
     "data": {
      "text/html": [
       "<span style=\"color:#7E57C2\"><h2 style=\"font-size:16px\">Hyperparameters:</h2></span>"
      ],
      "text/plain": [
       "<IPython.core.display.HTML object>"
      ]
     },
     "metadata": {},
     "output_type": "display_data"
    },
    {
     "data": {
      "text/html": [
       "<span style=\"color:cyan\"> |-activation: tanh</span>"
      ],
      "text/plain": [
       "<IPython.core.display.HTML object>"
      ]
     },
     "metadata": {},
     "output_type": "display_data"
    },
    {
     "data": {
      "text/html": [
       "<span style=\"color:blue\"> |-first_units: 5</span>"
      ],
      "text/plain": [
       "<IPython.core.display.HTML object>"
      ]
     },
     "metadata": {},
     "output_type": "display_data"
    },
    {
     "data": {
      "text/html": [
       "<span style=\"color:cyan\"> |-num_layers: 4</span>"
      ],
      "text/plain": [
       "<IPython.core.display.HTML object>"
      ]
     },
     "metadata": {},
     "output_type": "display_data"
    },
    {
     "data": {
      "text/html": [
       "<span style=\"color:blue\"> |-tuner/bracket: 2</span>"
      ],
      "text/plain": [
       "<IPython.core.display.HTML object>"
      ]
     },
     "metadata": {},
     "output_type": "display_data"
    },
    {
     "data": {
      "text/html": [
       "<span style=\"color:cyan\"> |-tuner/epochs: 3</span>"
      ],
      "text/plain": [
       "<IPython.core.display.HTML object>"
      ]
     },
     "metadata": {},
     "output_type": "display_data"
    },
    {
     "data": {
      "text/html": [
       "<span style=\"color:blue\"> |-tuner/initial_epoch: 0</span>"
      ],
      "text/plain": [
       "<IPython.core.display.HTML object>"
      ]
     },
     "metadata": {},
     "output_type": "display_data"
    },
    {
     "data": {
      "text/html": [
       "<span style=\"color:cyan\"> |-tuner/round: 0</span>"
      ],
      "text/plain": [
       "<IPython.core.display.HTML object>"
      ]
     },
     "metadata": {},
     "output_type": "display_data"
    },
    {
     "data": {
      "text/html": [
       "<span style=\"color:blue\"> |-units_0: 3</span>"
      ],
      "text/plain": [
       "<IPython.core.display.HTML object>"
      ]
     },
     "metadata": {},
     "output_type": "display_data"
    },
    {
     "data": {
      "text/html": [
       "<span style=\"color:cyan\"> |-units_1: 7</span>"
      ],
      "text/plain": [
       "<IPython.core.display.HTML object>"
      ]
     },
     "metadata": {},
     "output_type": "display_data"
    },
    {
     "data": {
      "text/html": [
       "<span style=\"color:blue\"> |-units_2: 9</span>"
      ],
      "text/plain": [
       "<IPython.core.display.HTML object>"
      ]
     },
     "metadata": {},
     "output_type": "display_data"
    },
    {
     "data": {
      "text/html": [
       "<span style=\"color:cyan\"> |-units_3: 7</span>"
      ],
      "text/plain": [
       "<IPython.core.display.HTML object>"
      ]
     },
     "metadata": {},
     "output_type": "display_data"
    },
    {
     "data": {
      "text/html": [
       "<span style=\"color:blue\"> |-units_4: 7</span>"
      ],
      "text/plain": [
       "<IPython.core.display.HTML object>"
      ]
     },
     "metadata": {},
     "output_type": "display_data"
    },
    {
     "data": {
      "text/html": [
       "<span style=\"color:cyan\"> |-units_5: 5</span>"
      ],
      "text/plain": [
       "<IPython.core.display.HTML object>"
      ]
     },
     "metadata": {},
     "output_type": "display_data"
    },
    {
     "name": "stdout",
     "output_type": "stream",
     "text": [
      "Epoch 1/3\n",
      "  1/804 [..............................] - ETA: 0s - loss: 0.7307 - accuracy: 0.4375WARNING:tensorflow:Callbacks method `on_train_batch_begin` is slow compared to the batch time (batch time: 0.0000s vs `on_train_batch_begin` time: 0.0010s). Check your callbacks.\n",
      "WARNING:tensorflow:Callbacks method `on_train_batch_end` is slow compared to the batch time (batch time: 0.0000s vs `on_train_batch_end` time: 0.0010s). Check your callbacks.\n",
      "804/804 [==============================] - ETA: 0s - loss: 0.7160 - accuracy: 0.53 - ETA: 0s - loss: 0.6886 - accuracy: 0.58 - ETA: 0s - loss: 0.6763 - accuracy: 0.59 - ETA: 0s - loss: 0.6624 - accuracy: 0.61 - ETA: 0s - loss: 0.6510 - accuracy: 0.63 - ETA: 0s - loss: 0.6430 - accuracy: 0.64 - ETA: 0s - loss: 0.6348 - accuracy: 0.65 - ETA: 0s - loss: 0.6286 - accuracy: 0.65 - ETA: 0s - loss: 0.6217 - accuracy: 0.66 - ETA: 0s - loss: 0.6171 - accuracy: 0.67 - ETA: 0s - loss: 0.6141 - accuracy: 0.67 - ETA: 0s - loss: 0.6114 - accuracy: 0.67 - 1s 1ms/step - loss: 0.6092 - accuracy: 0.6797 - val_loss: 0.5741 - val_accuracy: 0.7178\n",
      "Epoch 2/3\n",
      "804/804 [==============================] - ETA: 0s - loss: 0.6822 - accuracy: 0.59 - ETA: 0s - loss: 0.5719 - accuracy: 0.71 - ETA: 0s - loss: 0.5673 - accuracy: 0.72 - ETA: 0s - loss: 0.5673 - accuracy: 0.72 - ETA: 0s - loss: 0.5674 - accuracy: 0.72 - ETA: 0s - loss: 0.5671 - accuracy: 0.72 - ETA: 0s - loss: 0.5672 - accuracy: 0.72 - ETA: 0s - loss: 0.5681 - accuracy: 0.72 - ETA: 0s - loss: 0.5655 - accuracy: 0.72 - ETA: 0s - loss: 0.5669 - accuracy: 0.72 - ETA: 0s - loss: 0.5671 - accuracy: 0.72 - ETA: 0s - loss: 0.5683 - accuracy: 0.72 - ETA: 0s - loss: 0.5686 - accuracy: 0.72 - 1s 1ms/step - loss: 0.5674 - accuracy: 0.7224 - val_loss: 0.5663 - val_accuracy: 0.7248\n",
      "Epoch 3/3\n",
      "804/804 [==============================] - ETA: 0s - loss: 0.6045 - accuracy: 0.75 - ETA: 0s - loss: 0.5632 - accuracy: 0.72 - ETA: 0s - loss: 0.5565 - accuracy: 0.72 - ETA: 0s - loss: 0.5590 - accuracy: 0.72 - ETA: 0s - loss: 0.5610 - accuracy: 0.72 - ETA: 0s - loss: 0.5610 - accuracy: 0.72 - ETA: 0s - loss: 0.5637 - accuracy: 0.72 - ETA: 0s - loss: 0.5632 - accuracy: 0.72 - ETA: 0s - loss: 0.5640 - accuracy: 0.72 - ETA: 0s - loss: 0.5635 - accuracy: 0.72 - ETA: 0s - loss: 0.5613 - accuracy: 0.72 - ETA: 0s - loss: 0.5606 - accuracy: 0.72 - ETA: 0s - loss: 0.5619 - accuracy: 0.72 - 1s 1ms/step - loss: 0.5615 - accuracy: 0.7247 - val_loss: 0.5630 - val_accuracy: 0.7279\n"
     ]
    },
    {
     "data": {
      "text/html": [
       "<span style=\"color:#4527A0\"><h1 style=\"font-size:18px\">Trial complete</h1></span>"
      ],
      "text/plain": [
       "<IPython.core.display.HTML object>"
      ]
     },
     "metadata": {},
     "output_type": "display_data"
    },
    {
     "data": {
      "text/html": [
       "<span style=\"color:#4527A0\"><h1 style=\"font-size:18px\">Trial summary</h1></span>"
      ],
      "text/plain": [
       "<IPython.core.display.HTML object>"
      ]
     },
     "metadata": {},
     "output_type": "display_data"
    },
    {
     "data": {
      "text/html": [
       "<span style=\"color:cyan\"> |-Trial ID: cabb3d89336f6caa9fe32bc2f6180667</span>"
      ],
      "text/plain": [
       "<IPython.core.display.HTML object>"
      ]
     },
     "metadata": {},
     "output_type": "display_data"
    },
    {
     "data": {
      "text/html": [
       "<span style=\"color:cyan\"> |-Score: 0.7279300093650818</span>"
      ],
      "text/plain": [
       "<IPython.core.display.HTML object>"
      ]
     },
     "metadata": {},
     "output_type": "display_data"
    },
    {
     "data": {
      "text/html": [
       "<span style=\"color:cyan\"> |-Best step: 0</span>"
      ],
      "text/plain": [
       "<IPython.core.display.HTML object>"
      ]
     },
     "metadata": {},
     "output_type": "display_data"
    },
    {
     "data": {
      "text/html": [
       "<span style=\"color:#7E57C2\"><h2 style=\"font-size:16px\">Hyperparameters:</h2></span>"
      ],
      "text/plain": [
       "<IPython.core.display.HTML object>"
      ]
     },
     "metadata": {},
     "output_type": "display_data"
    },
    {
     "data": {
      "text/html": [
       "<span style=\"color:cyan\"> |-activation: relu</span>"
      ],
      "text/plain": [
       "<IPython.core.display.HTML object>"
      ]
     },
     "metadata": {},
     "output_type": "display_data"
    },
    {
     "data": {
      "text/html": [
       "<span style=\"color:blue\"> |-first_units: 5</span>"
      ],
      "text/plain": [
       "<IPython.core.display.HTML object>"
      ]
     },
     "metadata": {},
     "output_type": "display_data"
    },
    {
     "data": {
      "text/html": [
       "<span style=\"color:cyan\"> |-num_layers: 4</span>"
      ],
      "text/plain": [
       "<IPython.core.display.HTML object>"
      ]
     },
     "metadata": {},
     "output_type": "display_data"
    },
    {
     "data": {
      "text/html": [
       "<span style=\"color:blue\"> |-tuner/bracket: 2</span>"
      ],
      "text/plain": [
       "<IPython.core.display.HTML object>"
      ]
     },
     "metadata": {},
     "output_type": "display_data"
    },
    {
     "data": {
      "text/html": [
       "<span style=\"color:cyan\"> |-tuner/epochs: 3</span>"
      ],
      "text/plain": [
       "<IPython.core.display.HTML object>"
      ]
     },
     "metadata": {},
     "output_type": "display_data"
    },
    {
     "data": {
      "text/html": [
       "<span style=\"color:blue\"> |-tuner/initial_epoch: 0</span>"
      ],
      "text/plain": [
       "<IPython.core.display.HTML object>"
      ]
     },
     "metadata": {},
     "output_type": "display_data"
    },
    {
     "data": {
      "text/html": [
       "<span style=\"color:cyan\"> |-tuner/round: 0</span>"
      ],
      "text/plain": [
       "<IPython.core.display.HTML object>"
      ]
     },
     "metadata": {},
     "output_type": "display_data"
    },
    {
     "data": {
      "text/html": [
       "<span style=\"color:blue\"> |-units_0: 5</span>"
      ],
      "text/plain": [
       "<IPython.core.display.HTML object>"
      ]
     },
     "metadata": {},
     "output_type": "display_data"
    },
    {
     "data": {
      "text/html": [
       "<span style=\"color:cyan\"> |-units_1: 9</span>"
      ],
      "text/plain": [
       "<IPython.core.display.HTML object>"
      ]
     },
     "metadata": {},
     "output_type": "display_data"
    },
    {
     "data": {
      "text/html": [
       "<span style=\"color:blue\"> |-units_2: 5</span>"
      ],
      "text/plain": [
       "<IPython.core.display.HTML object>"
      ]
     },
     "metadata": {},
     "output_type": "display_data"
    },
    {
     "data": {
      "text/html": [
       "<span style=\"color:cyan\"> |-units_3: 5</span>"
      ],
      "text/plain": [
       "<IPython.core.display.HTML object>"
      ]
     },
     "metadata": {},
     "output_type": "display_data"
    },
    {
     "data": {
      "text/html": [
       "<span style=\"color:blue\"> |-units_4: 1</span>"
      ],
      "text/plain": [
       "<IPython.core.display.HTML object>"
      ]
     },
     "metadata": {},
     "output_type": "display_data"
    },
    {
     "data": {
      "text/html": [
       "<span style=\"color:cyan\"> |-units_5: 1</span>"
      ],
      "text/plain": [
       "<IPython.core.display.HTML object>"
      ]
     },
     "metadata": {},
     "output_type": "display_data"
    },
    {
     "name": "stdout",
     "output_type": "stream",
     "text": [
      "Epoch 1/3\n",
      "804/804 [==============================] - ETA: 0s - loss: 0.6874 - accuracy: 0.46 - ETA: 0s - loss: 0.6842 - accuracy: 0.61 - ETA: 0s - loss: 0.6740 - accuracy: 0.62 - ETA: 0s - loss: 0.6617 - accuracy: 0.64 - ETA: 0s - loss: 0.6521 - accuracy: 0.66 - ETA: 0s - loss: 0.6433 - accuracy: 0.67 - ETA: 0s - loss: 0.6335 - accuracy: 0.67 - ETA: 0s - loss: 0.6282 - accuracy: 0.68 - ETA: 0s - loss: 0.6238 - accuracy: 0.68 - ETA: 0s - loss: 0.6172 - accuracy: 0.69 - ETA: 0s - loss: 0.6140 - accuracy: 0.69 - ETA: 0s - loss: 0.6122 - accuracy: 0.69 - ETA: 0s - loss: 0.6085 - accuracy: 0.69 - 1s 1ms/step - loss: 0.6066 - accuracy: 0.6993 - val_loss: 0.5767 - val_accuracy: 0.7208\n",
      "Epoch 2/3\n",
      "804/804 [==============================] - ETA: 0s - loss: 0.5386 - accuracy: 0.78 - ETA: 0s - loss: 0.5787 - accuracy: 0.72 - ETA: 0s - loss: 0.5807 - accuracy: 0.71 - ETA: 0s - loss: 0.5775 - accuracy: 0.71 - ETA: 0s - loss: 0.5760 - accuracy: 0.72 - ETA: 0s - loss: 0.5735 - accuracy: 0.72 - ETA: 0s - loss: 0.5745 - accuracy: 0.72 - ETA: 0s - loss: 0.5754 - accuracy: 0.72 - ETA: 0s - loss: 0.5736 - accuracy: 0.72 - ETA: 0s - loss: 0.5735 - accuracy: 0.72 - ETA: 0s - loss: 0.5716 - accuracy: 0.72 - ETA: 0s - loss: 0.5704 - accuracy: 0.72 - ETA: 0s - loss: 0.5713 - accuracy: 0.72 - ETA: 0s - loss: 0.5704 - accuracy: 0.72 - 1s 1ms/step - loss: 0.5708 - accuracy: 0.7237 - val_loss: 0.5664 - val_accuracy: 0.7226\n",
      "Epoch 3/3\n",
      "804/804 [==============================] - ETA: 0s - loss: 0.6428 - accuracy: 0.62 - ETA: 0s - loss: 0.5498 - accuracy: 0.73 - ETA: 0s - loss: 0.5614 - accuracy: 0.72 - ETA: 0s - loss: 0.5642 - accuracy: 0.72 - ETA: 0s - loss: 0.5655 - accuracy: 0.72 - ETA: 0s - loss: 0.5656 - accuracy: 0.72 - ETA: 0s - loss: 0.5644 - accuracy: 0.72 - ETA: 0s - loss: 0.5627 - accuracy: 0.72 - ETA: 0s - loss: 0.5611 - accuracy: 0.72 - ETA: 0s - loss: 0.5602 - accuracy: 0.73 - ETA: 0s - loss: 0.5604 - accuracy: 0.72 - ETA: 0s - loss: 0.5600 - accuracy: 0.72 - ETA: 0s - loss: 0.5604 - accuracy: 0.72 - 1s 985us/step - loss: 0.5626 - accuracy: 0.7269 - val_loss: 0.5631 - val_accuracy: 0.7224\n"
     ]
    },
    {
     "data": {
      "text/html": [
       "<span style=\"color:#4527A0\"><h1 style=\"font-size:18px\">Trial complete</h1></span>"
      ],
      "text/plain": [
       "<IPython.core.display.HTML object>"
      ]
     },
     "metadata": {},
     "output_type": "display_data"
    },
    {
     "data": {
      "text/html": [
       "<span style=\"color:#4527A0\"><h1 style=\"font-size:18px\">Trial summary</h1></span>"
      ],
      "text/plain": [
       "<IPython.core.display.HTML object>"
      ]
     },
     "metadata": {},
     "output_type": "display_data"
    },
    {
     "data": {
      "text/html": [
       "<span style=\"color:cyan\"> |-Trial ID: da9eefdd706b2c1a84cd88f0be702b0f</span>"
      ],
      "text/plain": [
       "<IPython.core.display.HTML object>"
      ]
     },
     "metadata": {},
     "output_type": "display_data"
    },
    {
     "data": {
      "text/html": [
       "<span style=\"color:cyan\"> |-Score: 0.7225655913352966</span>"
      ],
      "text/plain": [
       "<IPython.core.display.HTML object>"
      ]
     },
     "metadata": {},
     "output_type": "display_data"
    },
    {
     "data": {
      "text/html": [
       "<span style=\"color:cyan\"> |-Best step: 0</span>"
      ],
      "text/plain": [
       "<IPython.core.display.HTML object>"
      ]
     },
     "metadata": {},
     "output_type": "display_data"
    },
    {
     "data": {
      "text/html": [
       "<span style=\"color:#7E57C2\"><h2 style=\"font-size:16px\">Hyperparameters:</h2></span>"
      ],
      "text/plain": [
       "<IPython.core.display.HTML object>"
      ]
     },
     "metadata": {},
     "output_type": "display_data"
    },
    {
     "data": {
      "text/html": [
       "<span style=\"color:cyan\"> |-activation: relu</span>"
      ],
      "text/plain": [
       "<IPython.core.display.HTML object>"
      ]
     },
     "metadata": {},
     "output_type": "display_data"
    },
    {
     "data": {
      "text/html": [
       "<span style=\"color:blue\"> |-first_units: 9</span>"
      ],
      "text/plain": [
       "<IPython.core.display.HTML object>"
      ]
     },
     "metadata": {},
     "output_type": "display_data"
    },
    {
     "data": {
      "text/html": [
       "<span style=\"color:cyan\"> |-num_layers: 2</span>"
      ],
      "text/plain": [
       "<IPython.core.display.HTML object>"
      ]
     },
     "metadata": {},
     "output_type": "display_data"
    },
    {
     "data": {
      "text/html": [
       "<span style=\"color:blue\"> |-tuner/bracket: 2</span>"
      ],
      "text/plain": [
       "<IPython.core.display.HTML object>"
      ]
     },
     "metadata": {},
     "output_type": "display_data"
    },
    {
     "data": {
      "text/html": [
       "<span style=\"color:cyan\"> |-tuner/epochs: 3</span>"
      ],
      "text/plain": [
       "<IPython.core.display.HTML object>"
      ]
     },
     "metadata": {},
     "output_type": "display_data"
    },
    {
     "data": {
      "text/html": [
       "<span style=\"color:blue\"> |-tuner/initial_epoch: 0</span>"
      ],
      "text/plain": [
       "<IPython.core.display.HTML object>"
      ]
     },
     "metadata": {},
     "output_type": "display_data"
    },
    {
     "data": {
      "text/html": [
       "<span style=\"color:cyan\"> |-tuner/round: 0</span>"
      ],
      "text/plain": [
       "<IPython.core.display.HTML object>"
      ]
     },
     "metadata": {},
     "output_type": "display_data"
    },
    {
     "data": {
      "text/html": [
       "<span style=\"color:blue\"> |-units_0: 7</span>"
      ],
      "text/plain": [
       "<IPython.core.display.HTML object>"
      ]
     },
     "metadata": {},
     "output_type": "display_data"
    },
    {
     "data": {
      "text/html": [
       "<span style=\"color:cyan\"> |-units_1: 5</span>"
      ],
      "text/plain": [
       "<IPython.core.display.HTML object>"
      ]
     },
     "metadata": {},
     "output_type": "display_data"
    },
    {
     "data": {
      "text/html": [
       "<span style=\"color:blue\"> |-units_2: 1</span>"
      ],
      "text/plain": [
       "<IPython.core.display.HTML object>"
      ]
     },
     "metadata": {},
     "output_type": "display_data"
    },
    {
     "data": {
      "text/html": [
       "<span style=\"color:cyan\"> |-units_3: 9</span>"
      ],
      "text/plain": [
       "<IPython.core.display.HTML object>"
      ]
     },
     "metadata": {},
     "output_type": "display_data"
    },
    {
     "data": {
      "text/html": [
       "<span style=\"color:blue\"> |-units_4: 7</span>"
      ],
      "text/plain": [
       "<IPython.core.display.HTML object>"
      ]
     },
     "metadata": {},
     "output_type": "display_data"
    },
    {
     "data": {
      "text/html": [
       "<span style=\"color:cyan\"> |-units_5: 3</span>"
      ],
      "text/plain": [
       "<IPython.core.display.HTML object>"
      ]
     },
     "metadata": {},
     "output_type": "display_data"
    },
    {
     "name": "stdout",
     "output_type": "stream",
     "text": [
      "Epoch 1/3\n",
      "804/804 [==============================] - ETA: 0s - loss: 0.7179 - accuracy: 0.28 - ETA: 0s - loss: 0.6942 - accuracy: 0.49 - ETA: 0s - loss: 0.6907 - accuracy: 0.51 - ETA: 0s - loss: 0.6853 - accuracy: 0.53 - ETA: 0s - loss: 0.6797 - accuracy: 0.55 - ETA: 0s - loss: 0.6705 - accuracy: 0.58 - ETA: 0s - loss: 0.6578 - accuracy: 0.60 - ETA: 0s - loss: 0.6500 - accuracy: 0.61 - ETA: 0s - loss: 0.6443 - accuracy: 0.62 - ETA: 0s - loss: 0.6379 - accuracy: 0.63 - ETA: 0s - loss: 0.6323 - accuracy: 0.63 - ETA: 0s - loss: 0.6271 - accuracy: 0.64 - ETA: 0s - loss: 0.6234 - accuracy: 0.65 - ETA: 0s - loss: 0.6185 - accuracy: 0.65 - 1s 1ms/step - loss: 0.6164 - accuracy: 0.6617 - val_loss: 0.5795 - val_accuracy: 0.7190\n",
      "Epoch 2/3\n",
      "804/804 [==============================] - ETA: 0s - loss: 0.6346 - accuracy: 0.65 - ETA: 0s - loss: 0.5691 - accuracy: 0.71 - ETA: 0s - loss: 0.5693 - accuracy: 0.71 - ETA: 0s - loss: 0.5755 - accuracy: 0.71 - ETA: 0s - loss: 0.5757 - accuracy: 0.71 - ETA: 0s - loss: 0.5788 - accuracy: 0.71 - ETA: 0s - loss: 0.5743 - accuracy: 0.71 - ETA: 0s - loss: 0.5718 - accuracy: 0.71 - ETA: 0s - loss: 0.5716 - accuracy: 0.71 - ETA: 0s - loss: 0.5718 - accuracy: 0.71 - ETA: 0s - loss: 0.5707 - accuracy: 0.71 - ETA: 0s - loss: 0.5690 - accuracy: 0.71 - ETA: 0s - loss: 0.5681 - accuracy: 0.71 - 1s 1ms/step - loss: 0.5681 - accuracy: 0.7197 - val_loss: 0.5706 - val_accuracy: 0.7195\n",
      "Epoch 3/3\n",
      "804/804 [==============================] - ETA: 0s - loss: 0.5491 - accuracy: 0.65 - ETA: 0s - loss: 0.5707 - accuracy: 0.71 - ETA: 0s - loss: 0.5699 - accuracy: 0.70 - ETA: 0s - loss: 0.5664 - accuracy: 0.71 - ETA: 0s - loss: 0.5631 - accuracy: 0.72 - ETA: 0s - loss: 0.5614 - accuracy: 0.72 - ETA: 0s - loss: 0.5634 - accuracy: 0.72 - ETA: 0s - loss: 0.5625 - accuracy: 0.72 - ETA: 0s - loss: 0.5621 - accuracy: 0.72 - ETA: 0s - loss: 0.5626 - accuracy: 0.72 - ETA: 0s - loss: 0.5645 - accuracy: 0.72 - ETA: 0s - loss: 0.5639 - accuracy: 0.72 - ETA: 0s - loss: 0.5615 - accuracy: 0.72 - ETA: 0s - loss: 0.5604 - accuracy: 0.72 - 1s 995us/step - loss: 0.5607 - accuracy: 0.7240 - val_loss: 0.5664 - val_accuracy: 0.7120\n"
     ]
    },
    {
     "data": {
      "text/html": [
       "<span style=\"color:#4527A0\"><h1 style=\"font-size:18px\">Trial complete</h1></span>"
      ],
      "text/plain": [
       "<IPython.core.display.HTML object>"
      ]
     },
     "metadata": {},
     "output_type": "display_data"
    },
    {
     "data": {
      "text/html": [
       "<span style=\"color:#4527A0\"><h1 style=\"font-size:18px\">Trial summary</h1></span>"
      ],
      "text/plain": [
       "<IPython.core.display.HTML object>"
      ]
     },
     "metadata": {},
     "output_type": "display_data"
    },
    {
     "data": {
      "text/html": [
       "<span style=\"color:cyan\"> |-Trial ID: d64945e556ba47859562ca12c0105a07</span>"
      ],
      "text/plain": [
       "<IPython.core.display.HTML object>"
      ]
     },
     "metadata": {},
     "output_type": "display_data"
    },
    {
     "data": {
      "text/html": [
       "<span style=\"color:cyan\"> |-Score: 0.7195335030555725</span>"
      ],
      "text/plain": [
       "<IPython.core.display.HTML object>"
      ]
     },
     "metadata": {},
     "output_type": "display_data"
    },
    {
     "data": {
      "text/html": [
       "<span style=\"color:cyan\"> |-Best step: 0</span>"
      ],
      "text/plain": [
       "<IPython.core.display.HTML object>"
      ]
     },
     "metadata": {},
     "output_type": "display_data"
    },
    {
     "data": {
      "text/html": [
       "<span style=\"color:#7E57C2\"><h2 style=\"font-size:16px\">Hyperparameters:</h2></span>"
      ],
      "text/plain": [
       "<IPython.core.display.HTML object>"
      ]
     },
     "metadata": {},
     "output_type": "display_data"
    },
    {
     "data": {
      "text/html": [
       "<span style=\"color:cyan\"> |-activation: relu</span>"
      ],
      "text/plain": [
       "<IPython.core.display.HTML object>"
      ]
     },
     "metadata": {},
     "output_type": "display_data"
    },
    {
     "data": {
      "text/html": [
       "<span style=\"color:blue\"> |-first_units: 7</span>"
      ],
      "text/plain": [
       "<IPython.core.display.HTML object>"
      ]
     },
     "metadata": {},
     "output_type": "display_data"
    },
    {
     "data": {
      "text/html": [
       "<span style=\"color:cyan\"> |-num_layers: 4</span>"
      ],
      "text/plain": [
       "<IPython.core.display.HTML object>"
      ]
     },
     "metadata": {},
     "output_type": "display_data"
    },
    {
     "data": {
      "text/html": [
       "<span style=\"color:blue\"> |-tuner/bracket: 2</span>"
      ],
      "text/plain": [
       "<IPython.core.display.HTML object>"
      ]
     },
     "metadata": {},
     "output_type": "display_data"
    },
    {
     "data": {
      "text/html": [
       "<span style=\"color:cyan\"> |-tuner/epochs: 3</span>"
      ],
      "text/plain": [
       "<IPython.core.display.HTML object>"
      ]
     },
     "metadata": {},
     "output_type": "display_data"
    },
    {
     "data": {
      "text/html": [
       "<span style=\"color:blue\"> |-tuner/initial_epoch: 0</span>"
      ],
      "text/plain": [
       "<IPython.core.display.HTML object>"
      ]
     },
     "metadata": {},
     "output_type": "display_data"
    },
    {
     "data": {
      "text/html": [
       "<span style=\"color:cyan\"> |-tuner/round: 0</span>"
      ],
      "text/plain": [
       "<IPython.core.display.HTML object>"
      ]
     },
     "metadata": {},
     "output_type": "display_data"
    },
    {
     "data": {
      "text/html": [
       "<span style=\"color:blue\"> |-units_0: 7</span>"
      ],
      "text/plain": [
       "<IPython.core.display.HTML object>"
      ]
     },
     "metadata": {},
     "output_type": "display_data"
    },
    {
     "data": {
      "text/html": [
       "<span style=\"color:cyan\"> |-units_1: 9</span>"
      ],
      "text/plain": [
       "<IPython.core.display.HTML object>"
      ]
     },
     "metadata": {},
     "output_type": "display_data"
    },
    {
     "data": {
      "text/html": [
       "<span style=\"color:blue\"> |-units_2: 7</span>"
      ],
      "text/plain": [
       "<IPython.core.display.HTML object>"
      ]
     },
     "metadata": {},
     "output_type": "display_data"
    },
    {
     "data": {
      "text/html": [
       "<span style=\"color:cyan\"> |-units_3: 5</span>"
      ],
      "text/plain": [
       "<IPython.core.display.HTML object>"
      ]
     },
     "metadata": {},
     "output_type": "display_data"
    },
    {
     "data": {
      "text/html": [
       "<span style=\"color:blue\"> |-units_4: 5</span>"
      ],
      "text/plain": [
       "<IPython.core.display.HTML object>"
      ]
     },
     "metadata": {},
     "output_type": "display_data"
    },
    {
     "data": {
      "text/html": [
       "<span style=\"color:cyan\"> |-units_5: 7</span>"
      ],
      "text/plain": [
       "<IPython.core.display.HTML object>"
      ]
     },
     "metadata": {},
     "output_type": "display_data"
    },
    {
     "name": "stdout",
     "output_type": "stream",
     "text": [
      "Epoch 1/3\n",
      "804/804 [==============================] - ETA: 0s - loss: 0.7130 - accuracy: 0.59 - ETA: 0s - loss: 0.6598 - accuracy: 0.62 - ETA: 0s - loss: 0.6399 - accuracy: 0.64 - ETA: 0s - loss: 0.6245 - accuracy: 0.66 - ETA: 0s - loss: 0.6194 - accuracy: 0.67 - ETA: 0s - loss: 0.6142 - accuracy: 0.67 - ETA: 0s - loss: 0.6060 - accuracy: 0.68 - ETA: 0s - loss: 0.5997 - accuracy: 0.69 - ETA: 0s - loss: 0.5956 - accuracy: 0.69 - ETA: 0s - loss: 0.5935 - accuracy: 0.69 - ETA: 0s - loss: 0.5905 - accuracy: 0.70 - ETA: 0s - loss: 0.5886 - accuracy: 0.70 - ETA: 0s - loss: 0.5867 - accuracy: 0.70 - 1s 1ms/step - loss: 0.5865 - accuracy: 0.7061 - val_loss: 0.5690 - val_accuracy: 0.7244\n",
      "Epoch 2/3\n",
      "804/804 [==============================] - ETA: 0s - loss: 0.4235 - accuracy: 0.87 - ETA: 0s - loss: 0.5630 - accuracy: 0.72 - ETA: 0s - loss: 0.5623 - accuracy: 0.72 - ETA: 0s - loss: 0.5636 - accuracy: 0.72 - ETA: 0s - loss: 0.5593 - accuracy: 0.73 - ETA: 0s - loss: 0.5556 - accuracy: 0.73 - ETA: 0s - loss: 0.5561 - accuracy: 0.73 - ETA: 0s - loss: 0.5552 - accuracy: 0.73 - ETA: 0s - loss: 0.5582 - accuracy: 0.73 - ETA: 0s - loss: 0.5590 - accuracy: 0.73 - ETA: 0s - loss: 0.5611 - accuracy: 0.72 - ETA: 0s - loss: 0.5620 - accuracy: 0.72 - ETA: 0s - loss: 0.5621 - accuracy: 0.72 - 1s 973us/step - loss: 0.5613 - accuracy: 0.7273 - val_loss: 0.5632 - val_accuracy: 0.7242\n",
      "Epoch 3/3\n",
      "804/804 [==============================] - ETA: 0s - loss: 0.6858 - accuracy: 0.56 - ETA: 0s - loss: 0.5751 - accuracy: 0.71 - ETA: 0s - loss: 0.5754 - accuracy: 0.71 - ETA: 0s - loss: 0.5640 - accuracy: 0.72 - ETA: 0s - loss: 0.5633 - accuracy: 0.72 - ETA: 0s - loss: 0.5584 - accuracy: 0.72 - ETA: 0s - loss: 0.5563 - accuracy: 0.73 - ETA: 0s - loss: 0.5581 - accuracy: 0.72 - ETA: 0s - loss: 0.5577 - accuracy: 0.72 - ETA: 0s - loss: 0.5587 - accuracy: 0.72 - ETA: 0s - loss: 0.5587 - accuracy: 0.72 - ETA: 0s - loss: 0.5573 - accuracy: 0.72 - 1s 879us/step - loss: 0.5570 - accuracy: 0.7285 - val_loss: 0.5602 - val_accuracy: 0.7243\n"
     ]
    },
    {
     "data": {
      "text/html": [
       "<span style=\"color:#4527A0\"><h1 style=\"font-size:18px\">Trial complete</h1></span>"
      ],
      "text/plain": [
       "<IPython.core.display.HTML object>"
      ]
     },
     "metadata": {},
     "output_type": "display_data"
    },
    {
     "data": {
      "text/html": [
       "<span style=\"color:#4527A0\"><h1 style=\"font-size:18px\">Trial summary</h1></span>"
      ],
      "text/plain": [
       "<IPython.core.display.HTML object>"
      ]
     },
     "metadata": {},
     "output_type": "display_data"
    },
    {
     "data": {
      "text/html": [
       "<span style=\"color:cyan\"> |-Trial ID: 398f4c0763e1317fc1d064deb58e7b28</span>"
      ],
      "text/plain": [
       "<IPython.core.display.HTML object>"
      ]
     },
     "metadata": {},
     "output_type": "display_data"
    },
    {
     "data": {
      "text/html": [
       "<span style=\"color:cyan\"> |-Score: 0.7244315147399902</span>"
      ],
      "text/plain": [
       "<IPython.core.display.HTML object>"
      ]
     },
     "metadata": {},
     "output_type": "display_data"
    },
    {
     "data": {
      "text/html": [
       "<span style=\"color:cyan\"> |-Best step: 0</span>"
      ],
      "text/plain": [
       "<IPython.core.display.HTML object>"
      ]
     },
     "metadata": {},
     "output_type": "display_data"
    },
    {
     "data": {
      "text/html": [
       "<span style=\"color:#7E57C2\"><h2 style=\"font-size:16px\">Hyperparameters:</h2></span>"
      ],
      "text/plain": [
       "<IPython.core.display.HTML object>"
      ]
     },
     "metadata": {},
     "output_type": "display_data"
    },
    {
     "data": {
      "text/html": [
       "<span style=\"color:cyan\"> |-activation: tanh</span>"
      ],
      "text/plain": [
       "<IPython.core.display.HTML object>"
      ]
     },
     "metadata": {},
     "output_type": "display_data"
    },
    {
     "data": {
      "text/html": [
       "<span style=\"color:blue\"> |-first_units: 9</span>"
      ],
      "text/plain": [
       "<IPython.core.display.HTML object>"
      ]
     },
     "metadata": {},
     "output_type": "display_data"
    },
    {
     "data": {
      "text/html": [
       "<span style=\"color:cyan\"> |-num_layers: 1</span>"
      ],
      "text/plain": [
       "<IPython.core.display.HTML object>"
      ]
     },
     "metadata": {},
     "output_type": "display_data"
    },
    {
     "data": {
      "text/html": [
       "<span style=\"color:blue\"> |-tuner/bracket: 2</span>"
      ],
      "text/plain": [
       "<IPython.core.display.HTML object>"
      ]
     },
     "metadata": {},
     "output_type": "display_data"
    },
    {
     "data": {
      "text/html": [
       "<span style=\"color:cyan\"> |-tuner/epochs: 3</span>"
      ],
      "text/plain": [
       "<IPython.core.display.HTML object>"
      ]
     },
     "metadata": {},
     "output_type": "display_data"
    },
    {
     "data": {
      "text/html": [
       "<span style=\"color:blue\"> |-tuner/initial_epoch: 0</span>"
      ],
      "text/plain": [
       "<IPython.core.display.HTML object>"
      ]
     },
     "metadata": {},
     "output_type": "display_data"
    },
    {
     "data": {
      "text/html": [
       "<span style=\"color:cyan\"> |-tuner/round: 0</span>"
      ],
      "text/plain": [
       "<IPython.core.display.HTML object>"
      ]
     },
     "metadata": {},
     "output_type": "display_data"
    },
    {
     "data": {
      "text/html": [
       "<span style=\"color:blue\"> |-units_0: 5</span>"
      ],
      "text/plain": [
       "<IPython.core.display.HTML object>"
      ]
     },
     "metadata": {},
     "output_type": "display_data"
    },
    {
     "data": {
      "text/html": [
       "<span style=\"color:cyan\"> |-units_1: 1</span>"
      ],
      "text/plain": [
       "<IPython.core.display.HTML object>"
      ]
     },
     "metadata": {},
     "output_type": "display_data"
    },
    {
     "data": {
      "text/html": [
       "<span style=\"color:blue\"> |-units_2: 7</span>"
      ],
      "text/plain": [
       "<IPython.core.display.HTML object>"
      ]
     },
     "metadata": {},
     "output_type": "display_data"
    },
    {
     "data": {
      "text/html": [
       "<span style=\"color:cyan\"> |-units_3: 3</span>"
      ],
      "text/plain": [
       "<IPython.core.display.HTML object>"
      ]
     },
     "metadata": {},
     "output_type": "display_data"
    },
    {
     "data": {
      "text/html": [
       "<span style=\"color:blue\"> |-units_4: 1</span>"
      ],
      "text/plain": [
       "<IPython.core.display.HTML object>"
      ]
     },
     "metadata": {},
     "output_type": "display_data"
    },
    {
     "data": {
      "text/html": [
       "<span style=\"color:cyan\"> |-units_5: 9</span>"
      ],
      "text/plain": [
       "<IPython.core.display.HTML object>"
      ]
     },
     "metadata": {},
     "output_type": "display_data"
    },
    {
     "name": "stdout",
     "output_type": "stream",
     "text": [
      "Epoch 4/7\n",
      "804/804 [==============================] - ETA: 0s - loss: 0.6483 - accuracy: 0.62 - ETA: 0s - loss: 0.6635 - accuracy: 0.61 - ETA: 0s - loss: 0.6463 - accuracy: 0.64 - ETA: 0s - loss: 0.6294 - accuracy: 0.66 - ETA: 0s - loss: 0.6164 - accuracy: 0.68 - ETA: 0s - loss: 0.6149 - accuracy: 0.68 - ETA: 0s - loss: 0.6114 - accuracy: 0.69 - ETA: 0s - loss: 0.6098 - accuracy: 0.69 - ETA: 0s - loss: 0.6052 - accuracy: 0.69 - ETA: 0s - loss: 0.6032 - accuracy: 0.69 - ETA: 0s - loss: 0.5995 - accuracy: 0.70 - ETA: 0s - loss: 0.5963 - accuracy: 0.70 - ETA: 0s - loss: 0.5934 - accuracy: 0.70 - 1s 1ms/step - loss: 0.5925 - accuracy: 0.7095 - val_loss: 0.5747 - val_accuracy: 0.7197\n",
      "Epoch 5/7\n",
      "804/804 [==============================] - ETA: 0s - loss: 0.5223 - accuracy: 0.78 - ETA: 0s - loss: 0.5537 - accuracy: 0.74 - ETA: 0s - loss: 0.5640 - accuracy: 0.73 - ETA: 0s - loss: 0.5622 - accuracy: 0.73 - ETA: 0s - loss: 0.5676 - accuracy: 0.72 - ETA: 0s - loss: 0.5681 - accuracy: 0.72 - ETA: 0s - loss: 0.5676 - accuracy: 0.72 - ETA: 0s - loss: 0.5675 - accuracy: 0.72 - ETA: 0s - loss: 0.5673 - accuracy: 0.72 - ETA: 0s - loss: 0.5650 - accuracy: 0.73 - ETA: 0s - loss: 0.5665 - accuracy: 0.72 - ETA: 0s - loss: 0.5663 - accuracy: 0.72 - ETA: 0s - loss: 0.5660 - accuracy: 0.72 - 1s 958us/step - loss: 0.5669 - accuracy: 0.7271 - val_loss: 0.5655 - val_accuracy: 0.7241\n",
      "Epoch 6/7\n",
      "804/804 [==============================] - ETA: 0s - loss: 0.5676 - accuracy: 0.71 - ETA: 0s - loss: 0.5619 - accuracy: 0.73 - ETA: 0s - loss: 0.5622 - accuracy: 0.73 - ETA: 0s - loss: 0.5675 - accuracy: 0.72 - ETA: 0s - loss: 0.5686 - accuracy: 0.72 - ETA: 0s - loss: 0.5667 - accuracy: 0.72 - ETA: 0s - loss: 0.5661 - accuracy: 0.72 - ETA: 0s - loss: 0.5659 - accuracy: 0.72 - ETA: 0s - loss: 0.5641 - accuracy: 0.72 - ETA: 0s - loss: 0.5636 - accuracy: 0.72 - ETA: 0s - loss: 0.5631 - accuracy: 0.72 - 1s 857us/step - loss: 0.5615 - accuracy: 0.7276 - val_loss: 0.5620 - val_accuracy: 0.7266\n",
      "Epoch 7/7\n",
      "804/804 [==============================] - ETA: 0s - loss: 0.7263 - accuracy: 0.59 - ETA: 0s - loss: 0.5679 - accuracy: 0.72 - ETA: 0s - loss: 0.5577 - accuracy: 0.72 - ETA: 0s - loss: 0.5578 - accuracy: 0.72 - ETA: 0s - loss: 0.5580 - accuracy: 0.72 - ETA: 0s - loss: 0.5619 - accuracy: 0.72 - ETA: 0s - loss: 0.5615 - accuracy: 0.72 - ETA: 0s - loss: 0.5610 - accuracy: 0.72 - ETA: 0s - loss: 0.5623 - accuracy: 0.72 - ETA: 0s - loss: 0.5605 - accuracy: 0.72 - ETA: 0s - loss: 0.5599 - accuracy: 0.72 - ETA: 0s - loss: 0.5590 - accuracy: 0.72 - 1s 976us/step - loss: 0.5587 - accuracy: 0.7285 - val_loss: 0.5604 - val_accuracy: 0.7275\n"
     ]
    },
    {
     "data": {
      "text/html": [
       "<span style=\"color:#4527A0\"><h1 style=\"font-size:18px\">Trial complete</h1></span>"
      ],
      "text/plain": [
       "<IPython.core.display.HTML object>"
      ]
     },
     "metadata": {},
     "output_type": "display_data"
    },
    {
     "data": {
      "text/html": [
       "<span style=\"color:#4527A0\"><h1 style=\"font-size:18px\">Trial summary</h1></span>"
      ],
      "text/plain": [
       "<IPython.core.display.HTML object>"
      ]
     },
     "metadata": {},
     "output_type": "display_data"
    },
    {
     "data": {
      "text/html": [
       "<span style=\"color:cyan\"> |-Trial ID: 5c47aa263a9a82fb6e656e1bcafb19c9</span>"
      ],
      "text/plain": [
       "<IPython.core.display.HTML object>"
      ]
     },
     "metadata": {},
     "output_type": "display_data"
    },
    {
     "data": {
      "text/html": [
       "<span style=\"color:cyan\"> |-Score: 0.7274635434150696</span>"
      ],
      "text/plain": [
       "<IPython.core.display.HTML object>"
      ]
     },
     "metadata": {},
     "output_type": "display_data"
    },
    {
     "data": {
      "text/html": [
       "<span style=\"color:cyan\"> |-Best step: 0</span>"
      ],
      "text/plain": [
       "<IPython.core.display.HTML object>"
      ]
     },
     "metadata": {},
     "output_type": "display_data"
    },
    {
     "data": {
      "text/html": [
       "<span style=\"color:#7E57C2\"><h2 style=\"font-size:16px\">Hyperparameters:</h2></span>"
      ],
      "text/plain": [
       "<IPython.core.display.HTML object>"
      ]
     },
     "metadata": {},
     "output_type": "display_data"
    },
    {
     "data": {
      "text/html": [
       "<span style=\"color:cyan\"> |-activation: tanh</span>"
      ],
      "text/plain": [
       "<IPython.core.display.HTML object>"
      ]
     },
     "metadata": {},
     "output_type": "display_data"
    },
    {
     "data": {
      "text/html": [
       "<span style=\"color:blue\"> |-first_units: 9</span>"
      ],
      "text/plain": [
       "<IPython.core.display.HTML object>"
      ]
     },
     "metadata": {},
     "output_type": "display_data"
    },
    {
     "data": {
      "text/html": [
       "<span style=\"color:cyan\"> |-num_layers: 2</span>"
      ],
      "text/plain": [
       "<IPython.core.display.HTML object>"
      ]
     },
     "metadata": {},
     "output_type": "display_data"
    },
    {
     "data": {
      "text/html": [
       "<span style=\"color:blue\"> |-tuner/bracket: 2</span>"
      ],
      "text/plain": [
       "<IPython.core.display.HTML object>"
      ]
     },
     "metadata": {},
     "output_type": "display_data"
    },
    {
     "data": {
      "text/html": [
       "<span style=\"color:cyan\"> |-tuner/epochs: 7</span>"
      ],
      "text/plain": [
       "<IPython.core.display.HTML object>"
      ]
     },
     "metadata": {},
     "output_type": "display_data"
    },
    {
     "data": {
      "text/html": [
       "<span style=\"color:blue\"> |-tuner/initial_epoch: 3</span>"
      ],
      "text/plain": [
       "<IPython.core.display.HTML object>"
      ]
     },
     "metadata": {},
     "output_type": "display_data"
    },
    {
     "data": {
      "text/html": [
       "<span style=\"color:cyan\"> |-tuner/round: 1</span>"
      ],
      "text/plain": [
       "<IPython.core.display.HTML object>"
      ]
     },
     "metadata": {},
     "output_type": "display_data"
    },
    {
     "data": {
      "text/html": [
       "<span style=\"color:blue\"> |-tuner/trial_id: 1c0f2d2155faccfa74da075db9817fdb</span>"
      ],
      "text/plain": [
       "<IPython.core.display.HTML object>"
      ]
     },
     "metadata": {},
     "output_type": "display_data"
    },
    {
     "data": {
      "text/html": [
       "<span style=\"color:cyan\"> |-units_0: 3</span>"
      ],
      "text/plain": [
       "<IPython.core.display.HTML object>"
      ]
     },
     "metadata": {},
     "output_type": "display_data"
    },
    {
     "data": {
      "text/html": [
       "<span style=\"color:blue\"> |-units_1: 5</span>"
      ],
      "text/plain": [
       "<IPython.core.display.HTML object>"
      ]
     },
     "metadata": {},
     "output_type": "display_data"
    },
    {
     "data": {
      "text/html": [
       "<span style=\"color:cyan\"> |-units_2: 5</span>"
      ],
      "text/plain": [
       "<IPython.core.display.HTML object>"
      ]
     },
     "metadata": {},
     "output_type": "display_data"
    },
    {
     "data": {
      "text/html": [
       "<span style=\"color:blue\"> |-units_3: 5</span>"
      ],
      "text/plain": [
       "<IPython.core.display.HTML object>"
      ]
     },
     "metadata": {},
     "output_type": "display_data"
    },
    {
     "data": {
      "text/html": [
       "<span style=\"color:cyan\"> |-units_4: 7</span>"
      ],
      "text/plain": [
       "<IPython.core.display.HTML object>"
      ]
     },
     "metadata": {},
     "output_type": "display_data"
    },
    {
     "data": {
      "text/html": [
       "<span style=\"color:blue\"> |-units_5: 5</span>"
      ],
      "text/plain": [
       "<IPython.core.display.HTML object>"
      ]
     },
     "metadata": {},
     "output_type": "display_data"
    },
    {
     "name": "stdout",
     "output_type": "stream",
     "text": [
      "Epoch 4/7\n",
      "804/804 [==============================] - ETA: 0s - loss: 0.7037 - accuracy: 0.50 - ETA: 0s - loss: 0.6937 - accuracy: 0.52 - ETA: 0s - loss: 0.6924 - accuracy: 0.52 - ETA: 0s - loss: 0.6923 - accuracy: 0.52 - ETA: 0s - loss: 0.6914 - accuracy: 0.53 - ETA: 0s - loss: 0.6914 - accuracy: 0.53 - ETA: 0s - loss: 0.6913 - accuracy: 0.52 - ETA: 0s - loss: 0.6905 - accuracy: 0.53 - ETA: 0s - loss: 0.6893 - accuracy: 0.53 - ETA: 0s - loss: 0.6875 - accuracy: 0.54 - ETA: 0s - loss: 0.6837 - accuracy: 0.56 - ETA: 0s - loss: 0.6786 - accuracy: 0.57 - 1s 1ms/step - loss: 0.6763 - accuracy: 0.5846 - val_loss: 0.6208 - val_accuracy: 0.7230\n",
      "Epoch 5/7\n",
      "804/804 [==============================] - ETA: 0s - loss: 0.6497 - accuracy: 0.71 - ETA: 0s - loss: 0.6195 - accuracy: 0.71 - ETA: 0s - loss: 0.6113 - accuracy: 0.72 - ETA: 0s - loss: 0.6085 - accuracy: 0.71 - ETA: 0s - loss: 0.6030 - accuracy: 0.72 - ETA: 0s - loss: 0.5972 - accuracy: 0.72 - ETA: 0s - loss: 0.5945 - accuracy: 0.72 - ETA: 0s - loss: 0.5914 - accuracy: 0.72 - ETA: 0s - loss: 0.5883 - accuracy: 0.72 - ETA: 0s - loss: 0.5870 - accuracy: 0.72 - ETA: 0s - loss: 0.5872 - accuracy: 0.72 - ETA: 0s - loss: 0.5853 - accuracy: 0.72 - ETA: 0s - loss: 0.5844 - accuracy: 0.72 - 1s 1ms/step - loss: 0.5855 - accuracy: 0.7278 - val_loss: 0.5768 - val_accuracy: 0.7256\n",
      "Epoch 6/7\n",
      "804/804 [==============================] - ETA: 0s - loss: 0.4379 - accuracy: 0.87 - ETA: 0s - loss: 0.5600 - accuracy: 0.74 - ETA: 0s - loss: 0.5640 - accuracy: 0.74 - ETA: 0s - loss: 0.5701 - accuracy: 0.73 - ETA: 0s - loss: 0.5734 - accuracy: 0.73 - ETA: 0s - loss: 0.5722 - accuracy: 0.73 - ETA: 0s - loss: 0.5737 - accuracy: 0.73 - ETA: 0s - loss: 0.5749 - accuracy: 0.72 - ETA: 0s - loss: 0.5735 - accuracy: 0.73 - ETA: 0s - loss: 0.5722 - accuracy: 0.73 - ETA: 0s - loss: 0.5714 - accuracy: 0.73 - ETA: 0s - loss: 0.5721 - accuracy: 0.73 - ETA: 0s - loss: 0.5735 - accuracy: 0.73 - ETA: 0s - loss: 0.5745 - accuracy: 0.73 - 1s 1ms/step - loss: 0.5751 - accuracy: 0.7297 - val_loss: 0.5751 - val_accuracy: 0.7257\n",
      "Epoch 7/7\n",
      "804/804 [==============================] - ETA: 0s - loss: 0.5830 - accuracy: 0.71 - ETA: 0s - loss: 0.5666 - accuracy: 0.73 - ETA: 0s - loss: 0.5741 - accuracy: 0.73 - ETA: 0s - loss: 0.5736 - accuracy: 0.73 - ETA: 0s - loss: 0.5711 - accuracy: 0.73 - ETA: 0s - loss: 0.5716 - accuracy: 0.73 - ETA: 0s - loss: 0.5723 - accuracy: 0.73 - ETA: 0s - loss: 0.5739 - accuracy: 0.72 - ETA: 0s - loss: 0.5735 - accuracy: 0.72 - ETA: 0s - loss: 0.5742 - accuracy: 0.72 - ETA: 0s - loss: 0.5745 - accuracy: 0.72 - 1s 860us/step - loss: 0.5740 - accuracy: 0.7302 - val_loss: 0.5754 - val_accuracy: 0.7273\n"
     ]
    },
    {
     "data": {
      "text/html": [
       "<span style=\"color:#4527A0\"><h1 style=\"font-size:18px\">Trial complete</h1></span>"
      ],
      "text/plain": [
       "<IPython.core.display.HTML object>"
      ]
     },
     "metadata": {},
     "output_type": "display_data"
    },
    {
     "data": {
      "text/html": [
       "<span style=\"color:#4527A0\"><h1 style=\"font-size:18px\">Trial summary</h1></span>"
      ],
      "text/plain": [
       "<IPython.core.display.HTML object>"
      ]
     },
     "metadata": {},
     "output_type": "display_data"
    },
    {
     "data": {
      "text/html": [
       "<span style=\"color:cyan\"> |-Trial ID: 9a5a3bc8b919d4a04f2894d24fc93afe</span>"
      ],
      "text/plain": [
       "<IPython.core.display.HTML object>"
      ]
     },
     "metadata": {},
     "output_type": "display_data"
    },
    {
     "data": {
      "text/html": [
       "<span style=\"color:cyan\"> |-Score: 0.7273469567298889</span>"
      ],
      "text/plain": [
       "<IPython.core.display.HTML object>"
      ]
     },
     "metadata": {},
     "output_type": "display_data"
    },
    {
     "data": {
      "text/html": [
       "<span style=\"color:cyan\"> |-Best step: 0</span>"
      ],
      "text/plain": [
       "<IPython.core.display.HTML object>"
      ]
     },
     "metadata": {},
     "output_type": "display_data"
    },
    {
     "data": {
      "text/html": [
       "<span style=\"color:#7E57C2\"><h2 style=\"font-size:16px\">Hyperparameters:</h2></span>"
      ],
      "text/plain": [
       "<IPython.core.display.HTML object>"
      ]
     },
     "metadata": {},
     "output_type": "display_data"
    },
    {
     "data": {
      "text/html": [
       "<span style=\"color:cyan\"> |-activation: sigmoid</span>"
      ],
      "text/plain": [
       "<IPython.core.display.HTML object>"
      ]
     },
     "metadata": {},
     "output_type": "display_data"
    },
    {
     "data": {
      "text/html": [
       "<span style=\"color:blue\"> |-first_units: 5</span>"
      ],
      "text/plain": [
       "<IPython.core.display.HTML object>"
      ]
     },
     "metadata": {},
     "output_type": "display_data"
    },
    {
     "data": {
      "text/html": [
       "<span style=\"color:cyan\"> |-num_layers: 3</span>"
      ],
      "text/plain": [
       "<IPython.core.display.HTML object>"
      ]
     },
     "metadata": {},
     "output_type": "display_data"
    },
    {
     "data": {
      "text/html": [
       "<span style=\"color:blue\"> |-tuner/bracket: 2</span>"
      ],
      "text/plain": [
       "<IPython.core.display.HTML object>"
      ]
     },
     "metadata": {},
     "output_type": "display_data"
    },
    {
     "data": {
      "text/html": [
       "<span style=\"color:cyan\"> |-tuner/epochs: 7</span>"
      ],
      "text/plain": [
       "<IPython.core.display.HTML object>"
      ]
     },
     "metadata": {},
     "output_type": "display_data"
    },
    {
     "data": {
      "text/html": [
       "<span style=\"color:blue\"> |-tuner/initial_epoch: 3</span>"
      ],
      "text/plain": [
       "<IPython.core.display.HTML object>"
      ]
     },
     "metadata": {},
     "output_type": "display_data"
    },
    {
     "data": {
      "text/html": [
       "<span style=\"color:cyan\"> |-tuner/round: 1</span>"
      ],
      "text/plain": [
       "<IPython.core.display.HTML object>"
      ]
     },
     "metadata": {},
     "output_type": "display_data"
    },
    {
     "data": {
      "text/html": [
       "<span style=\"color:blue\"> |-tuner/trial_id: caef50cd6c015af1a5baed9052dc4eb6</span>"
      ],
      "text/plain": [
       "<IPython.core.display.HTML object>"
      ]
     },
     "metadata": {},
     "output_type": "display_data"
    },
    {
     "data": {
      "text/html": [
       "<span style=\"color:cyan\"> |-units_0: 5</span>"
      ],
      "text/plain": [
       "<IPython.core.display.HTML object>"
      ]
     },
     "metadata": {},
     "output_type": "display_data"
    },
    {
     "data": {
      "text/html": [
       "<span style=\"color:blue\"> |-units_1: 7</span>"
      ],
      "text/plain": [
       "<IPython.core.display.HTML object>"
      ]
     },
     "metadata": {},
     "output_type": "display_data"
    },
    {
     "data": {
      "text/html": [
       "<span style=\"color:cyan\"> |-units_2: 7</span>"
      ],
      "text/plain": [
       "<IPython.core.display.HTML object>"
      ]
     },
     "metadata": {},
     "output_type": "display_data"
    },
    {
     "data": {
      "text/html": [
       "<span style=\"color:blue\"> |-units_3: 7</span>"
      ],
      "text/plain": [
       "<IPython.core.display.HTML object>"
      ]
     },
     "metadata": {},
     "output_type": "display_data"
    },
    {
     "data": {
      "text/html": [
       "<span style=\"color:cyan\"> |-units_4: 1</span>"
      ],
      "text/plain": [
       "<IPython.core.display.HTML object>"
      ]
     },
     "metadata": {},
     "output_type": "display_data"
    },
    {
     "data": {
      "text/html": [
       "<span style=\"color:blue\"> |-units_5: 5</span>"
      ],
      "text/plain": [
       "<IPython.core.display.HTML object>"
      ]
     },
     "metadata": {},
     "output_type": "display_data"
    },
    {
     "name": "stdout",
     "output_type": "stream",
     "text": [
      "Epoch 4/7\n",
      "804/804 [==============================] - ETA: 0s - loss: 0.7001 - accuracy: 0.43 - ETA: 0s - loss: 0.6925 - accuracy: 0.52 - ETA: 0s - loss: 0.6904 - accuracy: 0.55 - ETA: 0s - loss: 0.6874 - accuracy: 0.56 - ETA: 0s - loss: 0.6804 - accuracy: 0.58 - ETA: 0s - loss: 0.6768 - accuracy: 0.60 - ETA: 0s - loss: 0.6690 - accuracy: 0.62 - ETA: 0s - loss: 0.6614 - accuracy: 0.64 - ETA: 0s - loss: 0.6561 - accuracy: 0.65 - ETA: 0s - loss: 0.6493 - accuracy: 0.66 - ETA: 0s - loss: 0.6436 - accuracy: 0.66 - ETA: 0s - loss: 0.6395 - accuracy: 0.67 - ETA: 0s - loss: 0.6341 - accuracy: 0.67 - 1s 1ms/step - loss: 0.6338 - accuracy: 0.6768 - val_loss: 0.5944 - val_accuracy: 0.7174\n",
      "Epoch 5/7\n",
      "804/804 [==============================] - ETA: 0s - loss: 0.6915 - accuracy: 0.56 - ETA: 0s - loss: 0.6009 - accuracy: 0.69 - ETA: 0s - loss: 0.5963 - accuracy: 0.70 - ETA: 0s - loss: 0.5937 - accuracy: 0.71 - ETA: 0s - loss: 0.5957 - accuracy: 0.70 - ETA: 0s - loss: 0.5916 - accuracy: 0.70 - ETA: 0s - loss: 0.5902 - accuracy: 0.71 - ETA: 0s - loss: 0.5899 - accuracy: 0.71 - ETA: 0s - loss: 0.5879 - accuracy: 0.71 - ETA: 0s - loss: 0.5860 - accuracy: 0.71 - ETA: 0s - loss: 0.5851 - accuracy: 0.71 - ETA: 0s - loss: 0.5833 - accuracy: 0.71 - ETA: 0s - loss: 0.5819 - accuracy: 0.71 - ETA: 0s - loss: 0.5809 - accuracy: 0.71 - ETA: 0s - loss: 0.5793 - accuracy: 0.71 - 1s 1ms/step - loss: 0.5795 - accuracy: 0.7176 - val_loss: 0.5789 - val_accuracy: 0.7124\n",
      "Epoch 6/7\n",
      "804/804 [==============================] - ETA: 0s - loss: 0.7160 - accuracy: 0.62 - ETA: 0s - loss: 0.5714 - accuracy: 0.72 - ETA: 0s - loss: 0.5693 - accuracy: 0.72 - ETA: 0s - loss: 0.5722 - accuracy: 0.71 - ETA: 0s - loss: 0.5726 - accuracy: 0.71 - ETA: 0s - loss: 0.5715 - accuracy: 0.71 - ETA: 0s - loss: 0.5721 - accuracy: 0.71 - ETA: 0s - loss: 0.5709 - accuracy: 0.72 - ETA: 0s - loss: 0.5714 - accuracy: 0.71 - ETA: 0s - loss: 0.5725 - accuracy: 0.71 - ETA: 0s - loss: 0.5735 - accuracy: 0.71 - ETA: 0s - loss: 0.5724 - accuracy: 0.71 - 1s 909us/step - loss: 0.5722 - accuracy: 0.7184 - val_loss: 0.5736 - val_accuracy: 0.7163\n",
      "Epoch 7/7\n",
      "804/804 [==============================] - ETA: 0s - loss: 0.5664 - accuracy: 0.68 - ETA: 0s - loss: 0.5741 - accuracy: 0.70 - ETA: 0s - loss: 0.5672 - accuracy: 0.71 - ETA: 0s - loss: 0.5658 - accuracy: 0.72 - ETA: 0s - loss: 0.5643 - accuracy: 0.72 - ETA: 0s - loss: 0.5634 - accuracy: 0.72 - ETA: 0s - loss: 0.5654 - accuracy: 0.72 - ETA: 0s - loss: 0.5663 - accuracy: 0.72 - ETA: 0s - loss: 0.5673 - accuracy: 0.72 - ETA: 0s - loss: 0.5679 - accuracy: 0.71 - ETA: 0s - loss: 0.5686 - accuracy: 0.71 - 1s 868us/step - loss: 0.5682 - accuracy: 0.7186 - val_loss: 0.5704 - val_accuracy: 0.7245\n"
     ]
    },
    {
     "data": {
      "text/html": [
       "<span style=\"color:#4527A0\"><h1 style=\"font-size:18px\">Trial complete</h1></span>"
      ],
      "text/plain": [
       "<IPython.core.display.HTML object>"
      ]
     },
     "metadata": {},
     "output_type": "display_data"
    },
    {
     "data": {
      "text/html": [
       "<span style=\"color:#4527A0\"><h1 style=\"font-size:18px\">Trial summary</h1></span>"
      ],
      "text/plain": [
       "<IPython.core.display.HTML object>"
      ]
     },
     "metadata": {},
     "output_type": "display_data"
    },
    {
     "data": {
      "text/html": [
       "<span style=\"color:cyan\"> |-Trial ID: ec3734af02f0e20cba474a39a430c3c7</span>"
      ],
      "text/plain": [
       "<IPython.core.display.HTML object>"
      ]
     },
     "metadata": {},
     "output_type": "display_data"
    },
    {
     "data": {
      "text/html": [
       "<span style=\"color:cyan\"> |-Score: 0.7245481014251709</span>"
      ],
      "text/plain": [
       "<IPython.core.display.HTML object>"
      ]
     },
     "metadata": {},
     "output_type": "display_data"
    },
    {
     "data": {
      "text/html": [
       "<span style=\"color:cyan\"> |-Best step: 0</span>"
      ],
      "text/plain": [
       "<IPython.core.display.HTML object>"
      ]
     },
     "metadata": {},
     "output_type": "display_data"
    },
    {
     "data": {
      "text/html": [
       "<span style=\"color:#7E57C2\"><h2 style=\"font-size:16px\">Hyperparameters:</h2></span>"
      ],
      "text/plain": [
       "<IPython.core.display.HTML object>"
      ]
     },
     "metadata": {},
     "output_type": "display_data"
    },
    {
     "data": {
      "text/html": [
       "<span style=\"color:cyan\"> |-activation: relu</span>"
      ],
      "text/plain": [
       "<IPython.core.display.HTML object>"
      ]
     },
     "metadata": {},
     "output_type": "display_data"
    },
    {
     "data": {
      "text/html": [
       "<span style=\"color:blue\"> |-first_units: 5</span>"
      ],
      "text/plain": [
       "<IPython.core.display.HTML object>"
      ]
     },
     "metadata": {},
     "output_type": "display_data"
    },
    {
     "data": {
      "text/html": [
       "<span style=\"color:cyan\"> |-num_layers: 4</span>"
      ],
      "text/plain": [
       "<IPython.core.display.HTML object>"
      ]
     },
     "metadata": {},
     "output_type": "display_data"
    },
    {
     "data": {
      "text/html": [
       "<span style=\"color:blue\"> |-tuner/bracket: 2</span>"
      ],
      "text/plain": [
       "<IPython.core.display.HTML object>"
      ]
     },
     "metadata": {},
     "output_type": "display_data"
    },
    {
     "data": {
      "text/html": [
       "<span style=\"color:cyan\"> |-tuner/epochs: 7</span>"
      ],
      "text/plain": [
       "<IPython.core.display.HTML object>"
      ]
     },
     "metadata": {},
     "output_type": "display_data"
    },
    {
     "data": {
      "text/html": [
       "<span style=\"color:blue\"> |-tuner/initial_epoch: 3</span>"
      ],
      "text/plain": [
       "<IPython.core.display.HTML object>"
      ]
     },
     "metadata": {},
     "output_type": "display_data"
    },
    {
     "data": {
      "text/html": [
       "<span style=\"color:cyan\"> |-tuner/round: 1</span>"
      ],
      "text/plain": [
       "<IPython.core.display.HTML object>"
      ]
     },
     "metadata": {},
     "output_type": "display_data"
    },
    {
     "data": {
      "text/html": [
       "<span style=\"color:blue\"> |-tuner/trial_id: cabb3d89336f6caa9fe32bc2f6180667</span>"
      ],
      "text/plain": [
       "<IPython.core.display.HTML object>"
      ]
     },
     "metadata": {},
     "output_type": "display_data"
    },
    {
     "data": {
      "text/html": [
       "<span style=\"color:cyan\"> |-units_0: 5</span>"
      ],
      "text/plain": [
       "<IPython.core.display.HTML object>"
      ]
     },
     "metadata": {},
     "output_type": "display_data"
    },
    {
     "data": {
      "text/html": [
       "<span style=\"color:blue\"> |-units_1: 9</span>"
      ],
      "text/plain": [
       "<IPython.core.display.HTML object>"
      ]
     },
     "metadata": {},
     "output_type": "display_data"
    },
    {
     "data": {
      "text/html": [
       "<span style=\"color:cyan\"> |-units_2: 5</span>"
      ],
      "text/plain": [
       "<IPython.core.display.HTML object>"
      ]
     },
     "metadata": {},
     "output_type": "display_data"
    },
    {
     "data": {
      "text/html": [
       "<span style=\"color:blue\"> |-units_3: 5</span>"
      ],
      "text/plain": [
       "<IPython.core.display.HTML object>"
      ]
     },
     "metadata": {},
     "output_type": "display_data"
    },
    {
     "data": {
      "text/html": [
       "<span style=\"color:cyan\"> |-units_4: 1</span>"
      ],
      "text/plain": [
       "<IPython.core.display.HTML object>"
      ]
     },
     "metadata": {},
     "output_type": "display_data"
    },
    {
     "data": {
      "text/html": [
       "<span style=\"color:blue\"> |-units_5: 1</span>"
      ],
      "text/plain": [
       "<IPython.core.display.HTML object>"
      ]
     },
     "metadata": {},
     "output_type": "display_data"
    },
    {
     "name": "stdout",
     "output_type": "stream",
     "text": [
      "Epoch 4/7\n",
      "804/804 [==============================] - ETA: 0s - loss: 0.7086 - accuracy: 0.50 - ETA: 0s - loss: 0.6730 - accuracy: 0.57 - ETA: 0s - loss: 0.6518 - accuracy: 0.62 - ETA: 0s - loss: 0.6366 - accuracy: 0.65 - ETA: 0s - loss: 0.6247 - accuracy: 0.67 - ETA: 0s - loss: 0.6189 - accuracy: 0.67 - ETA: 0s - loss: 0.6124 - accuracy: 0.68 - ETA: 0s - loss: 0.6095 - accuracy: 0.69 - ETA: 0s - loss: 0.6057 - accuracy: 0.69 - ETA: 0s - loss: 0.6029 - accuracy: 0.69 - ETA: 0s - loss: 0.6023 - accuracy: 0.69 - ETA: 0s - loss: 0.6002 - accuracy: 0.70 - ETA: 0s - loss: 0.5976 - accuracy: 0.70 - ETA: 0s - loss: 0.5947 - accuracy: 0.70 - 1s 1ms/step - loss: 0.5945 - accuracy: 0.7070 - val_loss: 0.5814 - val_accuracy: 0.7206\n",
      "Epoch 5/7\n",
      "804/804 [==============================] - ETA: 0s - loss: 0.6406 - accuracy: 0.65 - ETA: 0s - loss: 0.5823 - accuracy: 0.72 - ETA: 0s - loss: 0.5796 - accuracy: 0.72 - ETA: 0s - loss: 0.5731 - accuracy: 0.73 - ETA: 0s - loss: 0.5723 - accuracy: 0.73 - ETA: 0s - loss: 0.5703 - accuracy: 0.73 - ETA: 0s - loss: 0.5732 - accuracy: 0.72 - ETA: 0s - loss: 0.5700 - accuracy: 0.73 - ETA: 0s - loss: 0.5717 - accuracy: 0.72 - ETA: 0s - loss: 0.5739 - accuracy: 0.72 - ETA: 0s - loss: 0.5733 - accuracy: 0.72 - ETA: 0s - loss: 0.5736 - accuracy: 0.72 - ETA: 0s - loss: 0.5728 - accuracy: 0.72 - ETA: 0s - loss: 0.5720 - accuracy: 0.72 - 1s 1ms/step - loss: 0.5719 - accuracy: 0.7271 - val_loss: 0.5713 - val_accuracy: 0.7257\n",
      "Epoch 6/7\n",
      "804/804 [==============================] - ETA: 0s - loss: 0.5854 - accuracy: 0.75 - ETA: 0s - loss: 0.5653 - accuracy: 0.72 - ETA: 0s - loss: 0.5636 - accuracy: 0.73 - ETA: 0s - loss: 0.5617 - accuracy: 0.73 - ETA: 0s - loss: 0.5646 - accuracy: 0.73 - ETA: 0s - loss: 0.5632 - accuracy: 0.73 - ETA: 0s - loss: 0.5629 - accuracy: 0.73 - ETA: 0s - loss: 0.5635 - accuracy: 0.73 - ETA: 0s - loss: 0.5648 - accuracy: 0.72 - ETA: 0s - loss: 0.5669 - accuracy: 0.72 - ETA: 0s - loss: 0.5673 - accuracy: 0.72 - ETA: 0s - loss: 0.5652 - accuracy: 0.72 - ETA: 0s - loss: 0.5639 - accuracy: 0.72 - 1s 999us/step - loss: 0.5642 - accuracy: 0.7272 - val_loss: 0.5645 - val_accuracy: 0.7259\n",
      "Epoch 7/7\n",
      "804/804 [==============================] - ETA: 0s - loss: 0.6389 - accuracy: 0.62 - ETA: 0s - loss: 0.5458 - accuracy: 0.74 - ETA: 0s - loss: 0.5536 - accuracy: 0.73 - ETA: 0s - loss: 0.5558 - accuracy: 0.72 - ETA: 0s - loss: 0.5528 - accuracy: 0.73 - ETA: 0s - loss: 0.5547 - accuracy: 0.73 - ETA: 0s - loss: 0.5583 - accuracy: 0.73 - ETA: 0s - loss: 0.5559 - accuracy: 0.73 - ETA: 0s - loss: 0.5560 - accuracy: 0.73 - ETA: 0s - loss: 0.5574 - accuracy: 0.73 - ETA: 0s - loss: 0.5584 - accuracy: 0.72 - ETA: 0s - loss: 0.5585 - accuracy: 0.72 - ETA: 0s - loss: 0.5583 - accuracy: 0.73 - ETA: 0s - loss: 0.5596 - accuracy: 0.72 - 1s 1ms/step - loss: 0.5598 - accuracy: 0.7285 - val_loss: 0.5658 - val_accuracy: 0.7252\n"
     ]
    },
    {
     "data": {
      "text/html": [
       "<span style=\"color:#4527A0\"><h1 style=\"font-size:18px\">Trial complete</h1></span>"
      ],
      "text/plain": [
       "<IPython.core.display.HTML object>"
      ]
     },
     "metadata": {},
     "output_type": "display_data"
    },
    {
     "data": {
      "text/html": [
       "<span style=\"color:#4527A0\"><h1 style=\"font-size:18px\">Trial summary</h1></span>"
      ],
      "text/plain": [
       "<IPython.core.display.HTML object>"
      ]
     },
     "metadata": {},
     "output_type": "display_data"
    },
    {
     "data": {
      "text/html": [
       "<span style=\"color:cyan\"> |-Trial ID: ca69e79ef21b86c5851b677c77f3d9db</span>"
      ],
      "text/plain": [
       "<IPython.core.display.HTML object>"
      ]
     },
     "metadata": {},
     "output_type": "display_data"
    },
    {
     "data": {
      "text/html": [
       "<span style=\"color:cyan\"> |-Score: 0.7259474992752075</span>"
      ],
      "text/plain": [
       "<IPython.core.display.HTML object>"
      ]
     },
     "metadata": {},
     "output_type": "display_data"
    },
    {
     "data": {
      "text/html": [
       "<span style=\"color:cyan\"> |-Best step: 0</span>"
      ],
      "text/plain": [
       "<IPython.core.display.HTML object>"
      ]
     },
     "metadata": {},
     "output_type": "display_data"
    },
    {
     "data": {
      "text/html": [
       "<span style=\"color:#7E57C2\"><h2 style=\"font-size:16px\">Hyperparameters:</h2></span>"
      ],
      "text/plain": [
       "<IPython.core.display.HTML object>"
      ]
     },
     "metadata": {},
     "output_type": "display_data"
    },
    {
     "data": {
      "text/html": [
       "<span style=\"color:cyan\"> |-activation: tanh</span>"
      ],
      "text/plain": [
       "<IPython.core.display.HTML object>"
      ]
     },
     "metadata": {},
     "output_type": "display_data"
    },
    {
     "data": {
      "text/html": [
       "<span style=\"color:blue\"> |-first_units: 5</span>"
      ],
      "text/plain": [
       "<IPython.core.display.HTML object>"
      ]
     },
     "metadata": {},
     "output_type": "display_data"
    },
    {
     "data": {
      "text/html": [
       "<span style=\"color:cyan\"> |-num_layers: 4</span>"
      ],
      "text/plain": [
       "<IPython.core.display.HTML object>"
      ]
     },
     "metadata": {},
     "output_type": "display_data"
    },
    {
     "data": {
      "text/html": [
       "<span style=\"color:blue\"> |-tuner/bracket: 2</span>"
      ],
      "text/plain": [
       "<IPython.core.display.HTML object>"
      ]
     },
     "metadata": {},
     "output_type": "display_data"
    },
    {
     "data": {
      "text/html": [
       "<span style=\"color:cyan\"> |-tuner/epochs: 7</span>"
      ],
      "text/plain": [
       "<IPython.core.display.HTML object>"
      ]
     },
     "metadata": {},
     "output_type": "display_data"
    },
    {
     "data": {
      "text/html": [
       "<span style=\"color:blue\"> |-tuner/initial_epoch: 3</span>"
      ],
      "text/plain": [
       "<IPython.core.display.HTML object>"
      ]
     },
     "metadata": {},
     "output_type": "display_data"
    },
    {
     "data": {
      "text/html": [
       "<span style=\"color:cyan\"> |-tuner/round: 1</span>"
      ],
      "text/plain": [
       "<IPython.core.display.HTML object>"
      ]
     },
     "metadata": {},
     "output_type": "display_data"
    },
    {
     "data": {
      "text/html": [
       "<span style=\"color:blue\"> |-tuner/trial_id: aa4d70c24028b50d164c8a87235533f6</span>"
      ],
      "text/plain": [
       "<IPython.core.display.HTML object>"
      ]
     },
     "metadata": {},
     "output_type": "display_data"
    },
    {
     "data": {
      "text/html": [
       "<span style=\"color:cyan\"> |-units_0: 3</span>"
      ],
      "text/plain": [
       "<IPython.core.display.HTML object>"
      ]
     },
     "metadata": {},
     "output_type": "display_data"
    },
    {
     "data": {
      "text/html": [
       "<span style=\"color:blue\"> |-units_1: 7</span>"
      ],
      "text/plain": [
       "<IPython.core.display.HTML object>"
      ]
     },
     "metadata": {},
     "output_type": "display_data"
    },
    {
     "data": {
      "text/html": [
       "<span style=\"color:cyan\"> |-units_2: 9</span>"
      ],
      "text/plain": [
       "<IPython.core.display.HTML object>"
      ]
     },
     "metadata": {},
     "output_type": "display_data"
    },
    {
     "data": {
      "text/html": [
       "<span style=\"color:blue\"> |-units_3: 7</span>"
      ],
      "text/plain": [
       "<IPython.core.display.HTML object>"
      ]
     },
     "metadata": {},
     "output_type": "display_data"
    },
    {
     "data": {
      "text/html": [
       "<span style=\"color:cyan\"> |-units_4: 7</span>"
      ],
      "text/plain": [
       "<IPython.core.display.HTML object>"
      ]
     },
     "metadata": {},
     "output_type": "display_data"
    },
    {
     "data": {
      "text/html": [
       "<span style=\"color:blue\"> |-units_5: 5</span>"
      ],
      "text/plain": [
       "<IPython.core.display.HTML object>"
      ]
     },
     "metadata": {},
     "output_type": "display_data"
    },
    {
     "name": "stdout",
     "output_type": "stream",
     "text": [
      "Epoch 8/20\n",
      "804/804 [==============================] - ETA: 0s - loss: 0.7062 - accuracy: 0.50 - ETA: 0s - loss: 0.6770 - accuracy: 0.58 - ETA: 0s - loss: 0.6524 - accuracy: 0.62 - ETA: 0s - loss: 0.6341 - accuracy: 0.65 - ETA: 0s - loss: 0.6222 - accuracy: 0.66 - ETA: 0s - loss: 0.6151 - accuracy: 0.67 - ETA: 0s - loss: 0.6104 - accuracy: 0.68 - ETA: 0s - loss: 0.6062 - accuracy: 0.68 - ETA: 0s - loss: 0.6028 - accuracy: 0.69 - ETA: 0s - loss: 0.5983 - accuracy: 0.69 - ETA: 0s - loss: 0.5951 - accuracy: 0.70 - ETA: 0s - loss: 0.5916 - accuracy: 0.70 - ETA: 0s - loss: 0.5889 - accuracy: 0.70 - 1s 1ms/step - loss: 0.5874 - accuracy: 0.7078 - val_loss: 0.5702 - val_accuracy: 0.7192\n",
      "Epoch 9/20\n",
      "804/804 [==============================] - ETA: 0s - loss: 0.6452 - accuracy: 0.65 - ETA: 0s - loss: 0.5707 - accuracy: 0.71 - ETA: 0s - loss: 0.5678 - accuracy: 0.71 - ETA: 0s - loss: 0.5639 - accuracy: 0.72 - ETA: 0s - loss: 0.5594 - accuracy: 0.73 - ETA: 0s - loss: 0.5629 - accuracy: 0.72 - ETA: 0s - loss: 0.5616 - accuracy: 0.73 - ETA: 0s - loss: 0.5614 - accuracy: 0.73 - ETA: 0s - loss: 0.5634 - accuracy: 0.72 - ETA: 0s - loss: 0.5632 - accuracy: 0.72 - ETA: 0s - loss: 0.5616 - accuracy: 0.72 - ETA: 0s - loss: 0.5628 - accuracy: 0.72 - ETA: 0s - loss: 0.5632 - accuracy: 0.72 - 1s 995us/step - loss: 0.5631 - accuracy: 0.7279 - val_loss: 0.5649 - val_accuracy: 0.7216\n",
      "Epoch 10/20\n",
      "804/804 [==============================] - ETA: 0s - loss: 0.5703 - accuracy: 0.68 - ETA: 0s - loss: 0.5688 - accuracy: 0.71 - ETA: 0s - loss: 0.5728 - accuracy: 0.71 - ETA: 0s - loss: 0.5707 - accuracy: 0.71 - ETA: 0s - loss: 0.5680 - accuracy: 0.72 - ETA: 0s - loss: 0.5594 - accuracy: 0.72 - ETA: 0s - loss: 0.5614 - accuracy: 0.72 - ETA: 0s - loss: 0.5592 - accuracy: 0.72 - ETA: 0s - loss: 0.5600 - accuracy: 0.72 - ETA: 0s - loss: 0.5590 - accuracy: 0.72 - ETA: 0s - loss: 0.5584 - accuracy: 0.72 - ETA: 0s - loss: 0.5596 - accuracy: 0.72 - ETA: 0s - loss: 0.5592 - accuracy: 0.72 - 1s 1ms/step - loss: 0.5587 - accuracy: 0.7287 - val_loss: 0.5616 - val_accuracy: 0.7219\n",
      "Epoch 11/20\n",
      "804/804 [==============================] - ETA: 0s - loss: 0.6206 - accuracy: 0.56 - ETA: 0s - loss: 0.5695 - accuracy: 0.71 - ETA: 0s - loss: 0.5620 - accuracy: 0.72 - ETA: 0s - loss: 0.5597 - accuracy: 0.72 - ETA: 0s - loss: 0.5586 - accuracy: 0.72 - ETA: 0s - loss: 0.5569 - accuracy: 0.72 - ETA: 0s - loss: 0.5560 - accuracy: 0.73 - ETA: 0s - loss: 0.5561 - accuracy: 0.73 - ETA: 0s - loss: 0.5554 - accuracy: 0.73 - ETA: 0s - loss: 0.5558 - accuracy: 0.72 - ETA: 0s - loss: 0.5564 - accuracy: 0.73 - ETA: 0s - loss: 0.5571 - accuracy: 0.72 - ETA: 0s - loss: 0.5580 - accuracy: 0.72 - ETA: 0s - loss: 0.5563 - accuracy: 0.72 - 1s 1ms/step - loss: 0.5558 - accuracy: 0.7300 - val_loss: 0.5604 - val_accuracy: 0.7249\n",
      "Epoch 12/20\n",
      "804/804 [==============================] - ETA: 0s - loss: 0.7137 - accuracy: 0.59 - ETA: 0s - loss: 0.5535 - accuracy: 0.73 - ETA: 0s - loss: 0.5539 - accuracy: 0.72 - ETA: 0s - loss: 0.5619 - accuracy: 0.72 - ETA: 0s - loss: 0.5586 - accuracy: 0.72 - ETA: 0s - loss: 0.5541 - accuracy: 0.72 - ETA: 0s - loss: 0.5528 - accuracy: 0.72 - ETA: 0s - loss: 0.5549 - accuracy: 0.72 - ETA: 0s - loss: 0.5569 - accuracy: 0.72 - ETA: 0s - loss: 0.5559 - accuracy: 0.72 - ETA: 0s - loss: 0.5570 - accuracy: 0.72 - ETA: 0s - loss: 0.5576 - accuracy: 0.72 - ETA: 0s - loss: 0.5579 - accuracy: 0.72 - ETA: 0s - loss: 0.5561 - accuracy: 0.72 - ETA: 0s - loss: 0.5542 - accuracy: 0.73 - 1s 1ms/step - loss: 0.5542 - accuracy: 0.7303 - val_loss: 0.5587 - val_accuracy: 0.7254\n",
      "Epoch 13/20\n",
      "804/804 [==============================] - ETA: 0s - loss: 0.6420 - accuracy: 0.65 - ETA: 0s - loss: 0.5549 - accuracy: 0.73 - ETA: 0s - loss: 0.5594 - accuracy: 0.72 - ETA: 0s - loss: 0.5621 - accuracy: 0.72 - ETA: 0s - loss: 0.5611 - accuracy: 0.72 - ETA: 0s - loss: 0.5604 - accuracy: 0.72 - ETA: 0s - loss: 0.5579 - accuracy: 0.72 - ETA: 0s - loss: 0.5571 - accuracy: 0.72 - ETA: 0s - loss: 0.5572 - accuracy: 0.72 - ETA: 0s - loss: 0.5565 - accuracy: 0.72 - ETA: 0s - loss: 0.5565 - accuracy: 0.72 - ETA: 0s - loss: 0.5554 - accuracy: 0.72 - ETA: 0s - loss: 0.5549 - accuracy: 0.73 - ETA: 0s - loss: 0.5544 - accuracy: 0.73 - ETA: 0s - loss: 0.5540 - accuracy: 0.73 - 1s 1ms/step - loss: 0.5533 - accuracy: 0.7312 - val_loss: 0.5572 - val_accuracy: 0.7272\n",
      "Epoch 14/20\n",
      "804/804 [==============================] - ETA: 0s - loss: 0.5418 - accuracy: 0.81 - ETA: 0s - loss: 0.5528 - accuracy: 0.73 - ETA: 0s - loss: 0.5583 - accuracy: 0.73 - ETA: 0s - loss: 0.5489 - accuracy: 0.73 - ETA: 0s - loss: 0.5493 - accuracy: 0.73 - ETA: 0s - loss: 0.5488 - accuracy: 0.73 - ETA: 0s - loss: 0.5500 - accuracy: 0.73 - ETA: 0s - loss: 0.5502 - accuracy: 0.73 - ETA: 0s - loss: 0.5509 - accuracy: 0.73 - ETA: 0s - loss: 0.5503 - accuracy: 0.73 - ETA: 0s - loss: 0.5506 - accuracy: 0.73 - ETA: 0s - loss: 0.5516 - accuracy: 0.73 - ETA: 0s - loss: 0.5520 - accuracy: 0.73 - 1s 951us/step - loss: 0.5524 - accuracy: 0.7306 - val_loss: 0.5585 - val_accuracy: 0.7266\n",
      "Epoch 15/20\n",
      "804/804 [==============================] - ETA: 0s - loss: 0.4664 - accuracy: 0.81 - ETA: 0s - loss: 0.5555 - accuracy: 0.72 - ETA: 0s - loss: 0.5553 - accuracy: 0.72 - ETA: 0s - loss: 0.5560 - accuracy: 0.72 - ETA: 0s - loss: 0.5593 - accuracy: 0.72 - ETA: 0s - loss: 0.5567 - accuracy: 0.72 - ETA: 0s - loss: 0.5523 - accuracy: 0.72 - ETA: 0s - loss: 0.5511 - accuracy: 0.73 - ETA: 0s - loss: 0.5525 - accuracy: 0.72 - ETA: 0s - loss: 0.5512 - accuracy: 0.73 - ETA: 0s - loss: 0.5506 - accuracy: 0.73 - ETA: 0s - loss: 0.5499 - accuracy: 0.73 - ETA: 0s - loss: 0.5504 - accuracy: 0.73 - ETA: 0s - loss: 0.5504 - accuracy: 0.73 - ETA: 0s - loss: 0.5519 - accuracy: 0.73 - 1s 1ms/step - loss: 0.5522 - accuracy: 0.7304 - val_loss: 0.5575 - val_accuracy: 0.7291\n",
      "Epoch 16/20\n",
      "804/804 [==============================] - ETA: 0s - loss: 0.6378 - accuracy: 0.62 - ETA: 0s - loss: 0.5501 - accuracy: 0.74 - ETA: 0s - loss: 0.5387 - accuracy: 0.74 - ETA: 0s - loss: 0.5404 - accuracy: 0.74 - ETA: 0s - loss: 0.5444 - accuracy: 0.73 - ETA: 0s - loss: 0.5471 - accuracy: 0.73 - ETA: 0s - loss: 0.5518 - accuracy: 0.73 - ETA: 0s - loss: 0.5523 - accuracy: 0.73 - ETA: 0s - loss: 0.5532 - accuracy: 0.72 - ETA: 0s - loss: 0.5526 - accuracy: 0.73 - ETA: 0s - loss: 0.5516 - accuracy: 0.73 - ETA: 0s - loss: 0.5500 - accuracy: 0.73 - ETA: 0s - loss: 0.5517 - accuracy: 0.73 - 1s 940us/step - loss: 0.5517 - accuracy: 0.7308 - val_loss: 0.5566 - val_accuracy: 0.7287\n",
      "Epoch 17/20\n",
      "804/804 [==============================] - ETA: 0s - loss: 0.5839 - accuracy: 0.68 - ETA: 0s - loss: 0.5611 - accuracy: 0.71 - ETA: 0s - loss: 0.5534 - accuracy: 0.72 - ETA: 0s - loss: 0.5493 - accuracy: 0.72 - ETA: 0s - loss: 0.5448 - accuracy: 0.73 - ETA: 0s - loss: 0.5460 - accuracy: 0.73 - ETA: 0s - loss: 0.5512 - accuracy: 0.72 - ETA: 0s - loss: 0.5520 - accuracy: 0.72 - ETA: 0s - loss: 0.5525 - accuracy: 0.72 - ETA: 0s - loss: 0.5501 - accuracy: 0.73 - ETA: 0s - loss: 0.5499 - accuracy: 0.72 - ETA: 0s - loss: 0.5494 - accuracy: 0.73 - ETA: 0s - loss: 0.5502 - accuracy: 0.73 - ETA: 0s - loss: 0.5506 - accuracy: 0.73 - ETA: 0s - loss: 0.5511 - accuracy: 0.73 - 1s 1ms/step - loss: 0.5512 - accuracy: 0.7310 - val_loss: 0.5569 - val_accuracy: 0.7271\n",
      "Epoch 18/20\n",
      "804/804 [==============================] - ETA: 0s - loss: 0.5391 - accuracy: 0.78 - ETA: 0s - loss: 0.5505 - accuracy: 0.73 - ETA: 0s - loss: 0.5469 - accuracy: 0.73 - ETA: 0s - loss: 0.5427 - accuracy: 0.73 - ETA: 0s - loss: 0.5445 - accuracy: 0.73 - ETA: 0s - loss: 0.5466 - accuracy: 0.73 - ETA: 0s - loss: 0.5454 - accuracy: 0.73 - ETA: 0s - loss: 0.5466 - accuracy: 0.73 - ETA: 0s - loss: 0.5465 - accuracy: 0.73 - ETA: 0s - loss: 0.5480 - accuracy: 0.73 - ETA: 0s - loss: 0.5481 - accuracy: 0.73 - ETA: 0s - loss: 0.5490 - accuracy: 0.73 - ETA: 0s - loss: 0.5506 - accuracy: 0.72 - ETA: 0s - loss: 0.5510 - accuracy: 0.73 - ETA: 0s - loss: 0.5503 - accuracy: 0.73 - ETA: 0s - loss: 0.5510 - accuracy: 0.73 - 1s 1ms/step - loss: 0.5504 - accuracy: 0.7309 - val_loss: 0.5562 - val_accuracy: 0.7269\n",
      "Epoch 19/20\n"
     ]
    },
    {
     "name": "stdout",
     "output_type": "stream",
     "text": [
      "804/804 [==============================] - ETA: 0s - loss: 0.5744 - accuracy: 0.68 - ETA: 0s - loss: 0.5491 - accuracy: 0.73 - ETA: 0s - loss: 0.5520 - accuracy: 0.72 - ETA: 0s - loss: 0.5493 - accuracy: 0.73 - ETA: 0s - loss: 0.5480 - accuracy: 0.73 - ETA: 0s - loss: 0.5490 - accuracy: 0.73 - ETA: 0s - loss: 0.5496 - accuracy: 0.73 - ETA: 0s - loss: 0.5508 - accuracy: 0.73 - ETA: 0s - loss: 0.5495 - accuracy: 0.73 - ETA: 0s - loss: 0.5474 - accuracy: 0.73 - ETA: 0s - loss: 0.5470 - accuracy: 0.73 - ETA: 0s - loss: 0.5479 - accuracy: 0.73 - ETA: 0s - loss: 0.5484 - accuracy: 0.73 - ETA: 0s - loss: 0.5492 - accuracy: 0.73 - 1s 1ms/step - loss: 0.5501 - accuracy: 0.7319 - val_loss: 0.5559 - val_accuracy: 0.7292\n",
      "Epoch 20/20\n",
      "804/804 [==============================] - ETA: 0s - loss: 0.6506 - accuracy: 0.68 - ETA: 0s - loss: 0.5514 - accuracy: 0.73 - ETA: 0s - loss: 0.5561 - accuracy: 0.72 - ETA: 0s - loss: 0.5520 - accuracy: 0.72 - ETA: 0s - loss: 0.5509 - accuracy: 0.72 - ETA: 0s - loss: 0.5496 - accuracy: 0.73 - ETA: 0s - loss: 0.5521 - accuracy: 0.72 - ETA: 0s - loss: 0.5509 - accuracy: 0.72 - ETA: 0s - loss: 0.5516 - accuracy: 0.73 - ETA: 0s - loss: 0.5499 - accuracy: 0.73 - ETA: 0s - loss: 0.5504 - accuracy: 0.73 - ETA: 0s - loss: 0.5490 - accuracy: 0.73 - ETA: 0s - loss: 0.5495 - accuracy: 0.73 - 1s 962us/step - loss: 0.5495 - accuracy: 0.7325 - val_loss: 0.5557 - val_accuracy: 0.7283\n"
     ]
    },
    {
     "data": {
      "text/html": [
       "<span style=\"color:#4527A0\"><h1 style=\"font-size:18px\">Trial complete</h1></span>"
      ],
      "text/plain": [
       "<IPython.core.display.HTML object>"
      ]
     },
     "metadata": {},
     "output_type": "display_data"
    },
    {
     "data": {
      "text/html": [
       "<span style=\"color:#4527A0\"><h1 style=\"font-size:18px\">Trial summary</h1></span>"
      ],
      "text/plain": [
       "<IPython.core.display.HTML object>"
      ]
     },
     "metadata": {},
     "output_type": "display_data"
    },
    {
     "data": {
      "text/html": [
       "<span style=\"color:cyan\"> |-Trial ID: b3452e4d2a6070e17839cf552571075f</span>"
      ],
      "text/plain": [
       "<IPython.core.display.HTML object>"
      ]
     },
     "metadata": {},
     "output_type": "display_data"
    },
    {
     "data": {
      "text/html": [
       "<span style=\"color:cyan\"> |-Score: 0.7292128205299377</span>"
      ],
      "text/plain": [
       "<IPython.core.display.HTML object>"
      ]
     },
     "metadata": {},
     "output_type": "display_data"
    },
    {
     "data": {
      "text/html": [
       "<span style=\"color:cyan\"> |-Best step: 0</span>"
      ],
      "text/plain": [
       "<IPython.core.display.HTML object>"
      ]
     },
     "metadata": {},
     "output_type": "display_data"
    },
    {
     "data": {
      "text/html": [
       "<span style=\"color:#7E57C2\"><h2 style=\"font-size:16px\">Hyperparameters:</h2></span>"
      ],
      "text/plain": [
       "<IPython.core.display.HTML object>"
      ]
     },
     "metadata": {},
     "output_type": "display_data"
    },
    {
     "data": {
      "text/html": [
       "<span style=\"color:cyan\"> |-activation: tanh</span>"
      ],
      "text/plain": [
       "<IPython.core.display.HTML object>"
      ]
     },
     "metadata": {},
     "output_type": "display_data"
    },
    {
     "data": {
      "text/html": [
       "<span style=\"color:blue\"> |-first_units: 9</span>"
      ],
      "text/plain": [
       "<IPython.core.display.HTML object>"
      ]
     },
     "metadata": {},
     "output_type": "display_data"
    },
    {
     "data": {
      "text/html": [
       "<span style=\"color:cyan\"> |-num_layers: 2</span>"
      ],
      "text/plain": [
       "<IPython.core.display.HTML object>"
      ]
     },
     "metadata": {},
     "output_type": "display_data"
    },
    {
     "data": {
      "text/html": [
       "<span style=\"color:blue\"> |-tuner/bracket: 2</span>"
      ],
      "text/plain": [
       "<IPython.core.display.HTML object>"
      ]
     },
     "metadata": {},
     "output_type": "display_data"
    },
    {
     "data": {
      "text/html": [
       "<span style=\"color:cyan\"> |-tuner/epochs: 20</span>"
      ],
      "text/plain": [
       "<IPython.core.display.HTML object>"
      ]
     },
     "metadata": {},
     "output_type": "display_data"
    },
    {
     "data": {
      "text/html": [
       "<span style=\"color:blue\"> |-tuner/initial_epoch: 7</span>"
      ],
      "text/plain": [
       "<IPython.core.display.HTML object>"
      ]
     },
     "metadata": {},
     "output_type": "display_data"
    },
    {
     "data": {
      "text/html": [
       "<span style=\"color:cyan\"> |-tuner/round: 2</span>"
      ],
      "text/plain": [
       "<IPython.core.display.HTML object>"
      ]
     },
     "metadata": {},
     "output_type": "display_data"
    },
    {
     "data": {
      "text/html": [
       "<span style=\"color:blue\"> |-tuner/trial_id: 5c47aa263a9a82fb6e656e1bcafb19c9</span>"
      ],
      "text/plain": [
       "<IPython.core.display.HTML object>"
      ]
     },
     "metadata": {},
     "output_type": "display_data"
    },
    {
     "data": {
      "text/html": [
       "<span style=\"color:cyan\"> |-units_0: 3</span>"
      ],
      "text/plain": [
       "<IPython.core.display.HTML object>"
      ]
     },
     "metadata": {},
     "output_type": "display_data"
    },
    {
     "data": {
      "text/html": [
       "<span style=\"color:blue\"> |-units_1: 5</span>"
      ],
      "text/plain": [
       "<IPython.core.display.HTML object>"
      ]
     },
     "metadata": {},
     "output_type": "display_data"
    },
    {
     "data": {
      "text/html": [
       "<span style=\"color:cyan\"> |-units_2: 5</span>"
      ],
      "text/plain": [
       "<IPython.core.display.HTML object>"
      ]
     },
     "metadata": {},
     "output_type": "display_data"
    },
    {
     "data": {
      "text/html": [
       "<span style=\"color:blue\"> |-units_3: 5</span>"
      ],
      "text/plain": [
       "<IPython.core.display.HTML object>"
      ]
     },
     "metadata": {},
     "output_type": "display_data"
    },
    {
     "data": {
      "text/html": [
       "<span style=\"color:cyan\"> |-units_4: 7</span>"
      ],
      "text/plain": [
       "<IPython.core.display.HTML object>"
      ]
     },
     "metadata": {},
     "output_type": "display_data"
    },
    {
     "data": {
      "text/html": [
       "<span style=\"color:blue\"> |-units_5: 5</span>"
      ],
      "text/plain": [
       "<IPython.core.display.HTML object>"
      ]
     },
     "metadata": {},
     "output_type": "display_data"
    },
    {
     "name": "stdout",
     "output_type": "stream",
     "text": [
      "Epoch 8/20\n",
      "804/804 [==============================] - ETA: 0s - loss: 0.7511 - accuracy: 0.56 - ETA: 0s - loss: 0.7323 - accuracy: 0.54 - ETA: 0s - loss: 0.7192 - accuracy: 0.53 - ETA: 0s - loss: 0.7104 - accuracy: 0.52 - ETA: 0s - loss: 0.7050 - accuracy: 0.53 - ETA: 0s - loss: 0.7020 - accuracy: 0.53 - ETA: 0s - loss: 0.6999 - accuracy: 0.52 - ETA: 0s - loss: 0.6979 - accuracy: 0.52 - ETA: 0s - loss: 0.6960 - accuracy: 0.52 - ETA: 0s - loss: 0.6940 - accuracy: 0.52 - ETA: 0s - loss: 0.6920 - accuracy: 0.53 - ETA: 0s - loss: 0.6898 - accuracy: 0.54 - ETA: 0s - loss: 0.6873 - accuracy: 0.55 - ETA: 0s - loss: 0.6845 - accuracy: 0.56 - 1s 1ms/step - loss: 0.6843 - accuracy: 0.5630 - val_loss: 0.6387 - val_accuracy: 0.7251\n",
      "Epoch 9/20\n",
      "804/804 [==============================] - ETA: 0s - loss: 0.6408 - accuracy: 0.75 - ETA: 0s - loss: 0.6370 - accuracy: 0.71 - ETA: 0s - loss: 0.6276 - accuracy: 0.72 - ETA: 0s - loss: 0.6200 - accuracy: 0.72 - ETA: 0s - loss: 0.6144 - accuracy: 0.72 - ETA: 0s - loss: 0.6087 - accuracy: 0.72 - ETA: 0s - loss: 0.6045 - accuracy: 0.72 - ETA: 0s - loss: 0.6009 - accuracy: 0.72 - ETA: 0s - loss: 0.5986 - accuracy: 0.72 - ETA: 0s - loss: 0.5961 - accuracy: 0.73 - ETA: 0s - loss: 0.5944 - accuracy: 0.73 - ETA: 0s - loss: 0.5935 - accuracy: 0.73 - ETA: 0s - loss: 0.5914 - accuracy: 0.73 - ETA: 0s - loss: 0.5898 - accuracy: 0.73 - ETA: 0s - loss: 0.5904 - accuracy: 0.72 - 1s 1ms/step - loss: 0.5902 - accuracy: 0.7293 - val_loss: 0.5784 - val_accuracy: 0.7229\n",
      "Epoch 10/20\n",
      "804/804 [==============================] - ETA: 0s - loss: 0.5913 - accuracy: 0.68 - ETA: 0s - loss: 0.5638 - accuracy: 0.74 - ETA: 0s - loss: 0.5777 - accuracy: 0.72 - ETA: 0s - loss: 0.5789 - accuracy: 0.72 - ETA: 0s - loss: 0.5814 - accuracy: 0.72 - ETA: 0s - loss: 0.5825 - accuracy: 0.72 - ETA: 0s - loss: 0.5812 - accuracy: 0.72 - ETA: 0s - loss: 0.5780 - accuracy: 0.72 - ETA: 0s - loss: 0.5787 - accuracy: 0.72 - ETA: 0s - loss: 0.5772 - accuracy: 0.72 - ETA: 0s - loss: 0.5769 - accuracy: 0.72 - ETA: 0s - loss: 0.5756 - accuracy: 0.72 - ETA: 0s - loss: 0.5754 - accuracy: 0.72 - 1s 945us/step - loss: 0.5752 - accuracy: 0.7297 - val_loss: 0.5763 - val_accuracy: 0.7233\n",
      "Epoch 11/20\n",
      "804/804 [==============================] - ETA: 0s - loss: 0.7936 - accuracy: 0.50 - ETA: 0s - loss: 0.5740 - accuracy: 0.72 - ETA: 0s - loss: 0.5770 - accuracy: 0.72 - ETA: 0s - loss: 0.5772 - accuracy: 0.72 - ETA: 0s - loss: 0.5771 - accuracy: 0.72 - ETA: 0s - loss: 0.5748 - accuracy: 0.72 - ETA: 0s - loss: 0.5717 - accuracy: 0.73 - ETA: 0s - loss: 0.5747 - accuracy: 0.72 - ETA: 0s - loss: 0.5749 - accuracy: 0.72 - ETA: 0s - loss: 0.5742 - accuracy: 0.72 - 1s 829us/step - loss: 0.5742 - accuracy: 0.7296 - val_loss: 0.5759 - val_accuracy: 0.7258\n",
      "Epoch 12/20\n",
      "804/804 [==============================] - ETA: 0s - loss: 0.5095 - accuracy: 0.78 - ETA: 0s - loss: 0.5727 - accuracy: 0.73 - ETA: 0s - loss: 0.5623 - accuracy: 0.74 - ETA: 0s - loss: 0.5645 - accuracy: 0.73 - ETA: 0s - loss: 0.5666 - accuracy: 0.73 - ETA: 0s - loss: 0.5700 - accuracy: 0.73 - ETA: 0s - loss: 0.5704 - accuracy: 0.73 - ETA: 0s - loss: 0.5721 - accuracy: 0.73 - ETA: 0s - loss: 0.5724 - accuracy: 0.73 - ETA: 0s - loss: 0.5745 - accuracy: 0.72 - ETA: 0s - loss: 0.5735 - accuracy: 0.73 - 1s 826us/step - loss: 0.5737 - accuracy: 0.7305 - val_loss: 0.5757 - val_accuracy: 0.7258\n",
      "Epoch 13/20\n",
      "804/804 [==============================] - ETA: 0s - loss: 0.5999 - accuracy: 0.65 - ETA: 0s - loss: 0.5708 - accuracy: 0.73 - ETA: 0s - loss: 0.5718 - accuracy: 0.73 - ETA: 0s - loss: 0.5663 - accuracy: 0.73 - ETA: 0s - loss: 0.5649 - accuracy: 0.73 - ETA: 0s - loss: 0.5675 - accuracy: 0.73 - ETA: 0s - loss: 0.5691 - accuracy: 0.73 - ETA: 0s - loss: 0.5689 - accuracy: 0.73 - ETA: 0s - loss: 0.5694 - accuracy: 0.73 - ETA: 0s - loss: 0.5690 - accuracy: 0.73 - ETA: 0s - loss: 0.5699 - accuracy: 0.73 - ETA: 0s - loss: 0.5720 - accuracy: 0.73 - ETA: 0s - loss: 0.5715 - accuracy: 0.73 - ETA: 0s - loss: 0.5712 - accuracy: 0.73 - ETA: 0s - loss: 0.5721 - accuracy: 0.73 - 1s 1ms/step - loss: 0.5734 - accuracy: 0.7303 - val_loss: 0.5754 - val_accuracy: 0.7286\n",
      "Epoch 14/20\n",
      "804/804 [==============================] - ETA: 0s - loss: 0.6028 - accuracy: 0.68 - ETA: 0s - loss: 0.5861 - accuracy: 0.72 - ETA: 0s - loss: 0.5796 - accuracy: 0.72 - ETA: 0s - loss: 0.5790 - accuracy: 0.72 - ETA: 0s - loss: 0.5753 - accuracy: 0.73 - ETA: 0s - loss: 0.5713 - accuracy: 0.73 - ETA: 0s - loss: 0.5743 - accuracy: 0.73 - ETA: 0s - loss: 0.5741 - accuracy: 0.73 - ETA: 0s - loss: 0.5739 - accuracy: 0.72 - ETA: 0s - loss: 0.5731 - accuracy: 0.73 - ETA: 0s - loss: 0.5730 - accuracy: 0.73 - ETA: 0s - loss: 0.5723 - accuracy: 0.73 - ETA: 0s - loss: 0.5727 - accuracy: 0.73 - 1s 941us/step - loss: 0.5731 - accuracy: 0.7299 - val_loss: 0.5755 - val_accuracy: 0.7256\n",
      "Epoch 15/20\n",
      "804/804 [==============================] - ETA: 0s - loss: 0.5137 - accuracy: 0.78 - ETA: 0s - loss: 0.5875 - accuracy: 0.72 - ETA: 0s - loss: 0.5729 - accuracy: 0.73 - ETA: 0s - loss: 0.5735 - accuracy: 0.73 - ETA: 0s - loss: 0.5684 - accuracy: 0.73 - ETA: 0s - loss: 0.5681 - accuracy: 0.73 - ETA: 0s - loss: 0.5662 - accuracy: 0.73 - ETA: 0s - loss: 0.5690 - accuracy: 0.73 - ETA: 0s - loss: 0.5705 - accuracy: 0.73 - ETA: 0s - loss: 0.5720 - accuracy: 0.73 - ETA: 0s - loss: 0.5726 - accuracy: 0.73 - 1s 861us/step - loss: 0.5727 - accuracy: 0.7307 - val_loss: 0.5747 - val_accuracy: 0.7280\n",
      "Epoch 16/20\n",
      "804/804 [==============================] - ETA: 0s - loss: 0.6477 - accuracy: 0.65 - ETA: 0s - loss: 0.5736 - accuracy: 0.73 - ETA: 0s - loss: 0.5747 - accuracy: 0.72 - ETA: 0s - loss: 0.5740 - accuracy: 0.72 - ETA: 0s - loss: 0.5723 - accuracy: 0.73 - ETA: 0s - loss: 0.5752 - accuracy: 0.72 - ETA: 0s - loss: 0.5739 - accuracy: 0.72 - ETA: 0s - loss: 0.5750 - accuracy: 0.72 - ETA: 0s - loss: 0.5745 - accuracy: 0.72 - ETA: 0s - loss: 0.5731 - accuracy: 0.72 - ETA: 0s - loss: 0.5728 - accuracy: 0.72 - ETA: 0s - loss: 0.5707 - accuracy: 0.73 - ETA: 0s - loss: 0.5718 - accuracy: 0.73 - ETA: 0s - loss: 0.5722 - accuracy: 0.73 - 1s 982us/step - loss: 0.5724 - accuracy: 0.7299 - val_loss: 0.5748 - val_accuracy: 0.7259\n",
      "Epoch 17/20\n",
      "804/804 [==============================] - ETA: 0s - loss: 0.6062 - accuracy: 0.68 - ETA: 0s - loss: 0.5570 - accuracy: 0.74 - ETA: 0s - loss: 0.5657 - accuracy: 0.73 - ETA: 0s - loss: 0.5633 - accuracy: 0.73 - ETA: 0s - loss: 0.5647 - accuracy: 0.73 - ETA: 0s - loss: 0.5684 - accuracy: 0.73 - ETA: 0s - loss: 0.5699 - accuracy: 0.73 - ETA: 0s - loss: 0.5734 - accuracy: 0.73 - ETA: 0s - loss: 0.5743 - accuracy: 0.72 - ETA: 0s - loss: 0.5731 - accuracy: 0.72 - ETA: 0s - loss: 0.5724 - accuracy: 0.73 - ETA: 0s - loss: 0.5730 - accuracy: 0.72 - 1s 927us/step - loss: 0.5721 - accuracy: 0.7309 - val_loss: 0.5742 - val_accuracy: 0.7251\n",
      "Epoch 18/20\n",
      "804/804 [==============================] - ETA: 0s - loss: 0.4694 - accuracy: 0.84 - ETA: 0s - loss: 0.5726 - accuracy: 0.72 - ETA: 0s - loss: 0.5716 - accuracy: 0.73 - ETA: 0s - loss: 0.5771 - accuracy: 0.72 - ETA: 0s - loss: 0.5736 - accuracy: 0.72 - ETA: 0s - loss: 0.5745 - accuracy: 0.72 - ETA: 0s - loss: 0.5725 - accuracy: 0.72 - ETA: 0s - loss: 0.5735 - accuracy: 0.72 - ETA: 0s - loss: 0.5734 - accuracy: 0.72 - ETA: 0s - loss: 0.5748 - accuracy: 0.72 - ETA: 0s - loss: 0.5728 - accuracy: 0.72 - ETA: 0s - loss: 0.5721 - accuracy: 0.72 - ETA: 0s - loss: 0.5720 - accuracy: 0.72 - ETA: 0s - loss: 0.5721 - accuracy: 0.72 - 1s 975us/step - loss: 0.5718 - accuracy: 0.7297 - val_loss: 0.5745 - val_accuracy: 0.7254\n",
      "Epoch 19/20\n",
      "804/804 [==============================] - ETA: 0s - loss: 0.6278 - accuracy: 0.68 - ETA: 0s - loss: 0.5699 - accuracy: 0.73 - ETA: 0s - loss: 0.5665 - accuracy: 0.73 - ETA: 0s - loss: 0.5652 - accuracy: 0.73 - ETA: 0s - loss: 0.5699 - accuracy: 0.73 - ETA: 0s - loss: 0.5706 - accuracy: 0.73 - ETA: 0s - loss: 0.5675 - accuracy: 0.73 - ETA: 0s - loss: 0.5685 - accuracy: 0.73 - ETA: 0s - loss: 0.5694 - accuracy: 0.73 - ETA: 0s - loss: 0.5685 - accuracy: 0.73 - ETA: 0s - loss: 0.5696 - accuracy: 0.73 - ETA: 0s - loss: 0.5694 - accuracy: 0.73 - 1s 895us/step - loss: 0.5717 - accuracy: 0.7303 - val_loss: 0.5740 - val_accuracy: 0.7257\n"
     ]
    },
    {
     "name": "stdout",
     "output_type": "stream",
     "text": [
      "Epoch 20/20\n",
      "804/804 [==============================] - ETA: 0s - loss: 0.5875 - accuracy: 0.65 - ETA: 0s - loss: 0.5870 - accuracy: 0.71 - ETA: 0s - loss: 0.5821 - accuracy: 0.72 - ETA: 0s - loss: 0.5804 - accuracy: 0.72 - ETA: 0s - loss: 0.5753 - accuracy: 0.72 - ETA: 0s - loss: 0.5776 - accuracy: 0.72 - ETA: 0s - loss: 0.5756 - accuracy: 0.72 - ETA: 0s - loss: 0.5743 - accuracy: 0.72 - ETA: 0s - loss: 0.5747 - accuracy: 0.72 - ETA: 0s - loss: 0.5726 - accuracy: 0.73 - ETA: 0s - loss: 0.5718 - accuracy: 0.73 - ETA: 0s - loss: 0.5717 - accuracy: 0.73 - ETA: 0s - loss: 0.5728 - accuracy: 0.72 - ETA: 0s - loss: 0.5716 - accuracy: 0.73 - 1s 1ms/step - loss: 0.5713 - accuracy: 0.7309 - val_loss: 0.5737 - val_accuracy: 0.7269\n"
     ]
    },
    {
     "data": {
      "text/html": [
       "<span style=\"color:#4527A0\"><h1 style=\"font-size:18px\">Trial complete</h1></span>"
      ],
      "text/plain": [
       "<IPython.core.display.HTML object>"
      ]
     },
     "metadata": {},
     "output_type": "display_data"
    },
    {
     "data": {
      "text/html": [
       "<span style=\"color:#4527A0\"><h1 style=\"font-size:18px\">Trial summary</h1></span>"
      ],
      "text/plain": [
       "<IPython.core.display.HTML object>"
      ]
     },
     "metadata": {},
     "output_type": "display_data"
    },
    {
     "data": {
      "text/html": [
       "<span style=\"color:cyan\"> |-Trial ID: 4a117cba8d6bb320f4a3161f33af4415</span>"
      ],
      "text/plain": [
       "<IPython.core.display.HTML object>"
      ]
     },
     "metadata": {},
     "output_type": "display_data"
    },
    {
     "data": {
      "text/html": [
       "<span style=\"color:cyan\"> |-Score: 0.7286297082901001</span>"
      ],
      "text/plain": [
       "<IPython.core.display.HTML object>"
      ]
     },
     "metadata": {},
     "output_type": "display_data"
    },
    {
     "data": {
      "text/html": [
       "<span style=\"color:cyan\"> |-Best step: 0</span>"
      ],
      "text/plain": [
       "<IPython.core.display.HTML object>"
      ]
     },
     "metadata": {},
     "output_type": "display_data"
    },
    {
     "data": {
      "text/html": [
       "<span style=\"color:#7E57C2\"><h2 style=\"font-size:16px\">Hyperparameters:</h2></span>"
      ],
      "text/plain": [
       "<IPython.core.display.HTML object>"
      ]
     },
     "metadata": {},
     "output_type": "display_data"
    },
    {
     "data": {
      "text/html": [
       "<span style=\"color:cyan\"> |-activation: sigmoid</span>"
      ],
      "text/plain": [
       "<IPython.core.display.HTML object>"
      ]
     },
     "metadata": {},
     "output_type": "display_data"
    },
    {
     "data": {
      "text/html": [
       "<span style=\"color:blue\"> |-first_units: 5</span>"
      ],
      "text/plain": [
       "<IPython.core.display.HTML object>"
      ]
     },
     "metadata": {},
     "output_type": "display_data"
    },
    {
     "data": {
      "text/html": [
       "<span style=\"color:cyan\"> |-num_layers: 3</span>"
      ],
      "text/plain": [
       "<IPython.core.display.HTML object>"
      ]
     },
     "metadata": {},
     "output_type": "display_data"
    },
    {
     "data": {
      "text/html": [
       "<span style=\"color:blue\"> |-tuner/bracket: 2</span>"
      ],
      "text/plain": [
       "<IPython.core.display.HTML object>"
      ]
     },
     "metadata": {},
     "output_type": "display_data"
    },
    {
     "data": {
      "text/html": [
       "<span style=\"color:cyan\"> |-tuner/epochs: 20</span>"
      ],
      "text/plain": [
       "<IPython.core.display.HTML object>"
      ]
     },
     "metadata": {},
     "output_type": "display_data"
    },
    {
     "data": {
      "text/html": [
       "<span style=\"color:blue\"> |-tuner/initial_epoch: 7</span>"
      ],
      "text/plain": [
       "<IPython.core.display.HTML object>"
      ]
     },
     "metadata": {},
     "output_type": "display_data"
    },
    {
     "data": {
      "text/html": [
       "<span style=\"color:cyan\"> |-tuner/round: 2</span>"
      ],
      "text/plain": [
       "<IPython.core.display.HTML object>"
      ]
     },
     "metadata": {},
     "output_type": "display_data"
    },
    {
     "data": {
      "text/html": [
       "<span style=\"color:blue\"> |-tuner/trial_id: 9a5a3bc8b919d4a04f2894d24fc93afe</span>"
      ],
      "text/plain": [
       "<IPython.core.display.HTML object>"
      ]
     },
     "metadata": {},
     "output_type": "display_data"
    },
    {
     "data": {
      "text/html": [
       "<span style=\"color:cyan\"> |-units_0: 5</span>"
      ],
      "text/plain": [
       "<IPython.core.display.HTML object>"
      ]
     },
     "metadata": {},
     "output_type": "display_data"
    },
    {
     "data": {
      "text/html": [
       "<span style=\"color:blue\"> |-units_1: 7</span>"
      ],
      "text/plain": [
       "<IPython.core.display.HTML object>"
      ]
     },
     "metadata": {},
     "output_type": "display_data"
    },
    {
     "data": {
      "text/html": [
       "<span style=\"color:cyan\"> |-units_2: 7</span>"
      ],
      "text/plain": [
       "<IPython.core.display.HTML object>"
      ]
     },
     "metadata": {},
     "output_type": "display_data"
    },
    {
     "data": {
      "text/html": [
       "<span style=\"color:blue\"> |-units_3: 7</span>"
      ],
      "text/plain": [
       "<IPython.core.display.HTML object>"
      ]
     },
     "metadata": {},
     "output_type": "display_data"
    },
    {
     "data": {
      "text/html": [
       "<span style=\"color:cyan\"> |-units_4: 1</span>"
      ],
      "text/plain": [
       "<IPython.core.display.HTML object>"
      ]
     },
     "metadata": {},
     "output_type": "display_data"
    },
    {
     "data": {
      "text/html": [
       "<span style=\"color:blue\"> |-units_5: 5</span>"
      ],
      "text/plain": [
       "<IPython.core.display.HTML object>"
      ]
     },
     "metadata": {},
     "output_type": "display_data"
    },
    {
     "name": "stdout",
     "output_type": "stream",
     "text": [
      "Epoch 1/7\n",
      "804/804 [==============================] - ETA: 0s - loss: 0.6981 - accuracy: 0.46 - ETA: 0s - loss: 0.6881 - accuracy: 0.56 - ETA: 0s - loss: 0.6695 - accuracy: 0.62 - ETA: 0s - loss: 0.6510 - accuracy: 0.65 - ETA: 0s - loss: 0.6364 - accuracy: 0.67 - ETA: 0s - loss: 0.6303 - accuracy: 0.68 - ETA: 0s - loss: 0.6232 - accuracy: 0.68 - ETA: 0s - loss: 0.6183 - accuracy: 0.69 - ETA: 0s - loss: 0.6143 - accuracy: 0.69 - ETA: 0s - loss: 0.6111 - accuracy: 0.70 - ETA: 0s - loss: 0.6102 - accuracy: 0.70 - ETA: 0s - loss: 0.6076 - accuracy: 0.70 - ETA: 0s - loss: 0.6065 - accuracy: 0.70 - ETA: 0s - loss: 0.6055 - accuracy: 0.70 - 1s 1ms/step - loss: 0.6043 - accuracy: 0.7064 - val_loss: 0.5830 - val_accuracy: 0.7235\n",
      "Epoch 2/7\n",
      "804/804 [==============================] - ETA: 0s - loss: 0.5613 - accuracy: 0.75 - ETA: 0s - loss: 0.5833 - accuracy: 0.72 - ETA: 0s - loss: 0.5776 - accuracy: 0.72 - ETA: 0s - loss: 0.5809 - accuracy: 0.72 - ETA: 0s - loss: 0.5795 - accuracy: 0.72 - ETA: 0s - loss: 0.5782 - accuracy: 0.72 - ETA: 0s - loss: 0.5768 - accuracy: 0.72 - ETA: 0s - loss: 0.5776 - accuracy: 0.72 - ETA: 0s - loss: 0.5778 - accuracy: 0.72 - ETA: 0s - loss: 0.5779 - accuracy: 0.72 - ETA: 0s - loss: 0.5766 - accuracy: 0.73 - ETA: 0s - loss: 0.5775 - accuracy: 0.72 - ETA: 0s - loss: 0.5776 - accuracy: 0.72 - ETA: 0s - loss: 0.5775 - accuracy: 0.72 - ETA: 0s - loss: 0.5781 - accuracy: 0.72 - ETA: 0s - loss: 0.5778 - accuracy: 0.72 - 1s 1ms/step - loss: 0.5774 - accuracy: 0.7294 - val_loss: 0.5748 - val_accuracy: 0.7242\n",
      "Epoch 3/7\n",
      "804/804 [==============================] - ETA: 0s - loss: 0.5694 - accuracy: 0.71 - ETA: 0s - loss: 0.5772 - accuracy: 0.72 - ETA: 0s - loss: 0.5673 - accuracy: 0.73 - ETA: 0s - loss: 0.5733 - accuracy: 0.73 - ETA: 0s - loss: 0.5738 - accuracy: 0.72 - ETA: 0s - loss: 0.5763 - accuracy: 0.72 - ETA: 0s - loss: 0.5759 - accuracy: 0.72 - ETA: 0s - loss: 0.5732 - accuracy: 0.72 - ETA: 0s - loss: 0.5746 - accuracy: 0.72 - ETA: 0s - loss: 0.5731 - accuracy: 0.72 - ETA: 0s - loss: 0.5721 - accuracy: 0.72 - ETA: 0s - loss: 0.5705 - accuracy: 0.73 - ETA: 0s - loss: 0.5709 - accuracy: 0.73 - 1s 1ms/step - loss: 0.5709 - accuracy: 0.7295 - val_loss: 0.5673 - val_accuracy: 0.7278\n",
      "Epoch 4/7\n",
      "804/804 [==============================] - ETA: 0s - loss: 0.5560 - accuracy: 0.71 - ETA: 0s - loss: 0.5621 - accuracy: 0.73 - ETA: 0s - loss: 0.5634 - accuracy: 0.73 - ETA: 0s - loss: 0.5625 - accuracy: 0.73 - ETA: 0s - loss: 0.5648 - accuracy: 0.73 - ETA: 0s - loss: 0.5644 - accuracy: 0.73 - ETA: 0s - loss: 0.5647 - accuracy: 0.73 - ETA: 0s - loss: 0.5637 - accuracy: 0.73 - ETA: 0s - loss: 0.5632 - accuracy: 0.73 - ETA: 0s - loss: 0.5629 - accuracy: 0.73 - ETA: 0s - loss: 0.5625 - accuracy: 0.73 - ETA: 0s - loss: 0.5624 - accuracy: 0.73 - ETA: 0s - loss: 0.5636 - accuracy: 0.73 - 1s 978us/step - loss: 0.5637 - accuracy: 0.7301 - val_loss: 0.5638 - val_accuracy: 0.7287\n",
      "Epoch 5/7\n",
      "804/804 [==============================] - ETA: 0s - loss: 0.6151 - accuracy: 0.65 - ETA: 0s - loss: 0.5603 - accuracy: 0.73 - ETA: 0s - loss: 0.5592 - accuracy: 0.73 - ETA: 0s - loss: 0.5536 - accuracy: 0.73 - ETA: 0s - loss: 0.5551 - accuracy: 0.73 - ETA: 0s - loss: 0.5603 - accuracy: 0.73 - ETA: 0s - loss: 0.5581 - accuracy: 0.73 - ETA: 0s - loss: 0.5582 - accuracy: 0.73 - ETA: 0s - loss: 0.5609 - accuracy: 0.73 - ETA: 0s - loss: 0.5610 - accuracy: 0.73 - ETA: 0s - loss: 0.5605 - accuracy: 0.73 - ETA: 0s - loss: 0.5593 - accuracy: 0.73 - ETA: 0s - loss: 0.5601 - accuracy: 0.73 - 1s 984us/step - loss: 0.5610 - accuracy: 0.7294 - val_loss: 0.5611 - val_accuracy: 0.7299\n",
      "Epoch 6/7\n",
      "804/804 [==============================] - ETA: 0s - loss: 0.7451 - accuracy: 0.53 - ETA: 0s - loss: 0.5618 - accuracy: 0.71 - ETA: 0s - loss: 0.5601 - accuracy: 0.72 - ETA: 0s - loss: 0.5594 - accuracy: 0.72 - ETA: 0s - loss: 0.5569 - accuracy: 0.72 - ETA: 0s - loss: 0.5596 - accuracy: 0.72 - ETA: 0s - loss: 0.5595 - accuracy: 0.72 - ETA: 0s - loss: 0.5597 - accuracy: 0.72 - ETA: 0s - loss: 0.5578 - accuracy: 0.73 - ETA: 0s - loss: 0.5580 - accuracy: 0.73 - ETA: 0s - loss: 0.5584 - accuracy: 0.72 - ETA: 0s - loss: 0.5583 - accuracy: 0.73 - ETA: 0s - loss: 0.5583 - accuracy: 0.73 - 1s 1ms/step - loss: 0.5586 - accuracy: 0.7299 - val_loss: 0.5592 - val_accuracy: 0.7300\n",
      "Epoch 7/7\n",
      "804/804 [==============================] - ETA: 0s - loss: 0.5509 - accuracy: 0.68 - ETA: 0s - loss: 0.5562 - accuracy: 0.73 - ETA: 0s - loss: 0.5582 - accuracy: 0.72 - ETA: 0s - loss: 0.5594 - accuracy: 0.72 - ETA: 0s - loss: 0.5557 - accuracy: 0.72 - ETA: 0s - loss: 0.5549 - accuracy: 0.73 - ETA: 0s - loss: 0.5557 - accuracy: 0.72 - ETA: 0s - loss: 0.5554 - accuracy: 0.73 - ETA: 0s - loss: 0.5560 - accuracy: 0.73 - ETA: 0s - loss: 0.5565 - accuracy: 0.73 - ETA: 0s - loss: 0.5575 - accuracy: 0.73 - ETA: 0s - loss: 0.5573 - accuracy: 0.73 - ETA: 0s - loss: 0.5566 - accuracy: 0.73 - ETA: 0s - loss: 0.5573 - accuracy: 0.73 - 1s 1ms/step - loss: 0.5570 - accuracy: 0.7308 - val_loss: 0.5582 - val_accuracy: 0.7311\n"
     ]
    },
    {
     "data": {
      "text/html": [
       "<span style=\"color:#4527A0\"><h1 style=\"font-size:18px\">Trial complete</h1></span>"
      ],
      "text/plain": [
       "<IPython.core.display.HTML object>"
      ]
     },
     "metadata": {},
     "output_type": "display_data"
    },
    {
     "data": {
      "text/html": [
       "<span style=\"color:#4527A0\"><h1 style=\"font-size:18px\">Trial summary</h1></span>"
      ],
      "text/plain": [
       "<IPython.core.display.HTML object>"
      ]
     },
     "metadata": {},
     "output_type": "display_data"
    },
    {
     "data": {
      "text/html": [
       "<span style=\"color:cyan\"> |-Trial ID: 8098f35bc771f1edcbd0a2ec924882cf</span>"
      ],
      "text/plain": [
       "<IPython.core.display.HTML object>"
      ]
     },
     "metadata": {},
     "output_type": "display_data"
    },
    {
     "data": {
      "text/html": [
       "<span style=\"color:cyan\"> |-Score: 0.7310787439346313</span>"
      ],
      "text/plain": [
       "<IPython.core.display.HTML object>"
      ]
     },
     "metadata": {},
     "output_type": "display_data"
    },
    {
     "data": {
      "text/html": [
       "<span style=\"color:cyan\"> |-Best step: 0</span>"
      ],
      "text/plain": [
       "<IPython.core.display.HTML object>"
      ]
     },
     "metadata": {},
     "output_type": "display_data"
    },
    {
     "data": {
      "text/html": [
       "<span style=\"color:#7E57C2\"><h2 style=\"font-size:16px\">Hyperparameters:</h2></span>"
      ],
      "text/plain": [
       "<IPython.core.display.HTML object>"
      ]
     },
     "metadata": {},
     "output_type": "display_data"
    },
    {
     "data": {
      "text/html": [
       "<span style=\"color:cyan\"> |-activation: tanh</span>"
      ],
      "text/plain": [
       "<IPython.core.display.HTML object>"
      ]
     },
     "metadata": {},
     "output_type": "display_data"
    },
    {
     "data": {
      "text/html": [
       "<span style=\"color:blue\"> |-first_units: 9</span>"
      ],
      "text/plain": [
       "<IPython.core.display.HTML object>"
      ]
     },
     "metadata": {},
     "output_type": "display_data"
    },
    {
     "data": {
      "text/html": [
       "<span style=\"color:cyan\"> |-num_layers: 4</span>"
      ],
      "text/plain": [
       "<IPython.core.display.HTML object>"
      ]
     },
     "metadata": {},
     "output_type": "display_data"
    },
    {
     "data": {
      "text/html": [
       "<span style=\"color:blue\"> |-tuner/bracket: 1</span>"
      ],
      "text/plain": [
       "<IPython.core.display.HTML object>"
      ]
     },
     "metadata": {},
     "output_type": "display_data"
    },
    {
     "data": {
      "text/html": [
       "<span style=\"color:cyan\"> |-tuner/epochs: 7</span>"
      ],
      "text/plain": [
       "<IPython.core.display.HTML object>"
      ]
     },
     "metadata": {},
     "output_type": "display_data"
    },
    {
     "data": {
      "text/html": [
       "<span style=\"color:blue\"> |-tuner/initial_epoch: 0</span>"
      ],
      "text/plain": [
       "<IPython.core.display.HTML object>"
      ]
     },
     "metadata": {},
     "output_type": "display_data"
    },
    {
     "data": {
      "text/html": [
       "<span style=\"color:cyan\"> |-tuner/round: 0</span>"
      ],
      "text/plain": [
       "<IPython.core.display.HTML object>"
      ]
     },
     "metadata": {},
     "output_type": "display_data"
    },
    {
     "data": {
      "text/html": [
       "<span style=\"color:blue\"> |-units_0: 3</span>"
      ],
      "text/plain": [
       "<IPython.core.display.HTML object>"
      ]
     },
     "metadata": {},
     "output_type": "display_data"
    },
    {
     "data": {
      "text/html": [
       "<span style=\"color:cyan\"> |-units_1: 7</span>"
      ],
      "text/plain": [
       "<IPython.core.display.HTML object>"
      ]
     },
     "metadata": {},
     "output_type": "display_data"
    },
    {
     "data": {
      "text/html": [
       "<span style=\"color:blue\"> |-units_2: 7</span>"
      ],
      "text/plain": [
       "<IPython.core.display.HTML object>"
      ]
     },
     "metadata": {},
     "output_type": "display_data"
    },
    {
     "data": {
      "text/html": [
       "<span style=\"color:cyan\"> |-units_3: 1</span>"
      ],
      "text/plain": [
       "<IPython.core.display.HTML object>"
      ]
     },
     "metadata": {},
     "output_type": "display_data"
    },
    {
     "data": {
      "text/html": [
       "<span style=\"color:blue\"> |-units_4: 7</span>"
      ],
      "text/plain": [
       "<IPython.core.display.HTML object>"
      ]
     },
     "metadata": {},
     "output_type": "display_data"
    },
    {
     "data": {
      "text/html": [
       "<span style=\"color:cyan\"> |-units_5: 1</span>"
      ],
      "text/plain": [
       "<IPython.core.display.HTML object>"
      ]
     },
     "metadata": {},
     "output_type": "display_data"
    },
    {
     "name": "stdout",
     "output_type": "stream",
     "text": [
      "Epoch 1/7\n",
      "804/804 [==============================] - ETA: 0s - loss: 0.7426 - accuracy: 0.53 - ETA: 0s - loss: 0.7211 - accuracy: 0.52 - ETA: 0s - loss: 0.7065 - accuracy: 0.53 - ETA: 0s - loss: 0.6992 - accuracy: 0.53 - ETA: 0s - loss: 0.6948 - accuracy: 0.52 - ETA: 0s - loss: 0.6903 - accuracy: 0.53 - ETA: 0s - loss: 0.6864 - accuracy: 0.54 - ETA: 0s - loss: 0.6820 - accuracy: 0.55 - ETA: 0s - loss: 0.6777 - accuracy: 0.57 - ETA: 0s - loss: 0.6729 - accuracy: 0.59 - ETA: 0s - loss: 0.6676 - accuracy: 0.60 - ETA: 0s - loss: 0.6622 - accuracy: 0.62 - 1s 1ms/step - loss: 0.6596 - accuracy: 0.6246 - val_loss: 0.6026 - val_accuracy: 0.7194\n",
      "Epoch 2/7\n",
      "804/804 [==============================] - ETA: 0s - loss: 0.5740 - accuracy: 0.78 - ETA: 0s - loss: 0.5892 - accuracy: 0.73 - ETA: 0s - loss: 0.5959 - accuracy: 0.72 - ETA: 0s - loss: 0.5931 - accuracy: 0.72 - ETA: 0s - loss: 0.5917 - accuracy: 0.72 - ETA: 0s - loss: 0.5892 - accuracy: 0.72 - ETA: 0s - loss: 0.5899 - accuracy: 0.72 - ETA: 0s - loss: 0.5894 - accuracy: 0.72 - ETA: 0s - loss: 0.5885 - accuracy: 0.72 - ETA: 0s - loss: 0.5850 - accuracy: 0.72 - ETA: 0s - loss: 0.5839 - accuracy: 0.72 - ETA: 0s - loss: 0.5837 - accuracy: 0.72 - 1s 1ms/step - loss: 0.5833 - accuracy: 0.7254 - val_loss: 0.5769 - val_accuracy: 0.7203\n",
      "Epoch 3/7\n",
      "804/804 [==============================] - ETA: 0s - loss: 0.5119 - accuracy: 0.81 - ETA: 0s - loss: 0.5819 - accuracy: 0.72 - ETA: 0s - loss: 0.5765 - accuracy: 0.72 - ETA: 0s - loss: 0.5723 - accuracy: 0.72 - ETA: 0s - loss: 0.5735 - accuracy: 0.72 - ETA: 0s - loss: 0.5726 - accuracy: 0.73 - ETA: 0s - loss: 0.5748 - accuracy: 0.72 - ETA: 0s - loss: 0.5764 - accuracy: 0.72 - ETA: 0s - loss: 0.5748 - accuracy: 0.72 - ETA: 0s - loss: 0.5752 - accuracy: 0.72 - ETA: 0s - loss: 0.5757 - accuracy: 0.72 - ETA: 0s - loss: 0.5743 - accuracy: 0.72 - 1s 916us/step - loss: 0.5742 - accuracy: 0.7280 - val_loss: 0.5746 - val_accuracy: 0.7238\n",
      "Epoch 4/7\n",
      "804/804 [==============================] - ETA: 0s - loss: 0.6328 - accuracy: 0.71 - ETA: 0s - loss: 0.5615 - accuracy: 0.73 - ETA: 0s - loss: 0.5737 - accuracy: 0.72 - ETA: 0s - loss: 0.5762 - accuracy: 0.72 - ETA: 0s - loss: 0.5752 - accuracy: 0.72 - ETA: 0s - loss: 0.5747 - accuracy: 0.72 - ETA: 0s - loss: 0.5746 - accuracy: 0.72 - ETA: 0s - loss: 0.5732 - accuracy: 0.72 - ETA: 0s - loss: 0.5719 - accuracy: 0.72 - ETA: 0s - loss: 0.5722 - accuracy: 0.72 - ETA: 0s - loss: 0.5724 - accuracy: 0.72 - ETA: 0s - loss: 0.5712 - accuracy: 0.72 - ETA: 0s - loss: 0.5715 - accuracy: 0.72 - ETA: 0s - loss: 0.5719 - accuracy: 0.72 - 1s 1ms/step - loss: 0.5728 - accuracy: 0.7283 - val_loss: 0.5743 - val_accuracy: 0.7215\n",
      "Epoch 5/7\n",
      "804/804 [==============================] - ETA: 0s - loss: 0.5589 - accuracy: 0.75 - ETA: 0s - loss: 0.5831 - accuracy: 0.72 - ETA: 0s - loss: 0.5752 - accuracy: 0.72 - ETA: 0s - loss: 0.5734 - accuracy: 0.72 - ETA: 0s - loss: 0.5741 - accuracy: 0.72 - ETA: 0s - loss: 0.5739 - accuracy: 0.72 - ETA: 0s - loss: 0.5735 - accuracy: 0.72 - ETA: 0s - loss: 0.5721 - accuracy: 0.72 - ETA: 0s - loss: 0.5713 - accuracy: 0.72 - ETA: 0s - loss: 0.5714 - accuracy: 0.72 - ETA: 0s - loss: 0.5708 - accuracy: 0.72 - ETA: 0s - loss: 0.5716 - accuracy: 0.72 - ETA: 0s - loss: 0.5714 - accuracy: 0.72 - ETA: 0s - loss: 0.5720 - accuracy: 0.72 - 1s 993us/step - loss: 0.5722 - accuracy: 0.7281 - val_loss: 0.5743 - val_accuracy: 0.7227\n",
      "Epoch 6/7\n",
      "804/804 [==============================] - ETA: 0s - loss: 0.5003 - accuracy: 0.78 - ETA: 0s - loss: 0.5722 - accuracy: 0.72 - ETA: 0s - loss: 0.5761 - accuracy: 0.72 - ETA: 0s - loss: 0.5774 - accuracy: 0.72 - ETA: 0s - loss: 0.5766 - accuracy: 0.72 - ETA: 0s - loss: 0.5772 - accuracy: 0.72 - ETA: 0s - loss: 0.5745 - accuracy: 0.72 - ETA: 0s - loss: 0.5746 - accuracy: 0.72 - ETA: 0s - loss: 0.5723 - accuracy: 0.72 - ETA: 0s - loss: 0.5717 - accuracy: 0.72 - 1s 769us/step - loss: 0.5719 - accuracy: 0.7297 - val_loss: 0.5736 - val_accuracy: 0.7265\n",
      "Epoch 7/7\n",
      "804/804 [==============================] - ETA: 0s - loss: 0.5059 - accuracy: 0.78 - ETA: 0s - loss: 0.5627 - accuracy: 0.73 - ETA: 0s - loss: 0.5631 - accuracy: 0.73 - ETA: 0s - loss: 0.5642 - accuracy: 0.73 - ETA: 0s - loss: 0.5697 - accuracy: 0.72 - ETA: 0s - loss: 0.5695 - accuracy: 0.72 - ETA: 0s - loss: 0.5736 - accuracy: 0.72 - ETA: 0s - loss: 0.5718 - accuracy: 0.72 - ETA: 0s - loss: 0.5709 - accuracy: 0.72 - ETA: 0s - loss: 0.5713 - accuracy: 0.72 - ETA: 0s - loss: 0.5724 - accuracy: 0.72 - ETA: 0s - loss: 0.5713 - accuracy: 0.72 - 1s 915us/step - loss: 0.5715 - accuracy: 0.7288 - val_loss: 0.5736 - val_accuracy: 0.7250\n"
     ]
    },
    {
     "data": {
      "text/html": [
       "<span style=\"color:#4527A0\"><h1 style=\"font-size:18px\">Trial complete</h1></span>"
      ],
      "text/plain": [
       "<IPython.core.display.HTML object>"
      ]
     },
     "metadata": {},
     "output_type": "display_data"
    },
    {
     "data": {
      "text/html": [
       "<span style=\"color:#4527A0\"><h1 style=\"font-size:18px\">Trial summary</h1></span>"
      ],
      "text/plain": [
       "<IPython.core.display.HTML object>"
      ]
     },
     "metadata": {},
     "output_type": "display_data"
    },
    {
     "data": {
      "text/html": [
       "<span style=\"color:cyan\"> |-Trial ID: 3687ad7c6fd7b4944a076870e5dcebd3</span>"
      ],
      "text/plain": [
       "<IPython.core.display.HTML object>"
      ]
     },
     "metadata": {},
     "output_type": "display_data"
    },
    {
     "data": {
      "text/html": [
       "<span style=\"color:cyan\"> |-Score: 0.7265306115150452</span>"
      ],
      "text/plain": [
       "<IPython.core.display.HTML object>"
      ]
     },
     "metadata": {},
     "output_type": "display_data"
    },
    {
     "data": {
      "text/html": [
       "<span style=\"color:cyan\"> |-Best step: 0</span>"
      ],
      "text/plain": [
       "<IPython.core.display.HTML object>"
      ]
     },
     "metadata": {},
     "output_type": "display_data"
    },
    {
     "data": {
      "text/html": [
       "<span style=\"color:#7E57C2\"><h2 style=\"font-size:16px\">Hyperparameters:</h2></span>"
      ],
      "text/plain": [
       "<IPython.core.display.HTML object>"
      ]
     },
     "metadata": {},
     "output_type": "display_data"
    },
    {
     "data": {
      "text/html": [
       "<span style=\"color:cyan\"> |-activation: sigmoid</span>"
      ],
      "text/plain": [
       "<IPython.core.display.HTML object>"
      ]
     },
     "metadata": {},
     "output_type": "display_data"
    },
    {
     "data": {
      "text/html": [
       "<span style=\"color:blue\"> |-first_units: 5</span>"
      ],
      "text/plain": [
       "<IPython.core.display.HTML object>"
      ]
     },
     "metadata": {},
     "output_type": "display_data"
    },
    {
     "data": {
      "text/html": [
       "<span style=\"color:cyan\"> |-num_layers: 2</span>"
      ],
      "text/plain": [
       "<IPython.core.display.HTML object>"
      ]
     },
     "metadata": {},
     "output_type": "display_data"
    },
    {
     "data": {
      "text/html": [
       "<span style=\"color:blue\"> |-tuner/bracket: 1</span>"
      ],
      "text/plain": [
       "<IPython.core.display.HTML object>"
      ]
     },
     "metadata": {},
     "output_type": "display_data"
    },
    {
     "data": {
      "text/html": [
       "<span style=\"color:cyan\"> |-tuner/epochs: 7</span>"
      ],
      "text/plain": [
       "<IPython.core.display.HTML object>"
      ]
     },
     "metadata": {},
     "output_type": "display_data"
    },
    {
     "data": {
      "text/html": [
       "<span style=\"color:blue\"> |-tuner/initial_epoch: 0</span>"
      ],
      "text/plain": [
       "<IPython.core.display.HTML object>"
      ]
     },
     "metadata": {},
     "output_type": "display_data"
    },
    {
     "data": {
      "text/html": [
       "<span style=\"color:cyan\"> |-tuner/round: 0</span>"
      ],
      "text/plain": [
       "<IPython.core.display.HTML object>"
      ]
     },
     "metadata": {},
     "output_type": "display_data"
    },
    {
     "data": {
      "text/html": [
       "<span style=\"color:blue\"> |-units_0: 9</span>"
      ],
      "text/plain": [
       "<IPython.core.display.HTML object>"
      ]
     },
     "metadata": {},
     "output_type": "display_data"
    },
    {
     "data": {
      "text/html": [
       "<span style=\"color:cyan\"> |-units_1: 3</span>"
      ],
      "text/plain": [
       "<IPython.core.display.HTML object>"
      ]
     },
     "metadata": {},
     "output_type": "display_data"
    },
    {
     "data": {
      "text/html": [
       "<span style=\"color:blue\"> |-units_2: 9</span>"
      ],
      "text/plain": [
       "<IPython.core.display.HTML object>"
      ]
     },
     "metadata": {},
     "output_type": "display_data"
    },
    {
     "data": {
      "text/html": [
       "<span style=\"color:cyan\"> |-units_3: 7</span>"
      ],
      "text/plain": [
       "<IPython.core.display.HTML object>"
      ]
     },
     "metadata": {},
     "output_type": "display_data"
    },
    {
     "data": {
      "text/html": [
       "<span style=\"color:blue\"> |-units_4: 3</span>"
      ],
      "text/plain": [
       "<IPython.core.display.HTML object>"
      ]
     },
     "metadata": {},
     "output_type": "display_data"
    },
    {
     "data": {
      "text/html": [
       "<span style=\"color:cyan\"> |-units_5: 5</span>"
      ],
      "text/plain": [
       "<IPython.core.display.HTML object>"
      ]
     },
     "metadata": {},
     "output_type": "display_data"
    },
    {
     "name": "stdout",
     "output_type": "stream",
     "text": [
      "Epoch 1/7\n",
      "804/804 [==============================] - ETA: 0s - loss: 0.6741 - accuracy: 0.62 - ETA: 0s - loss: 0.6880 - accuracy: 0.57 - ETA: 0s - loss: 0.6692 - accuracy: 0.61 - ETA: 0s - loss: 0.6521 - accuracy: 0.63 - ETA: 0s - loss: 0.6370 - accuracy: 0.66 - ETA: 0s - loss: 0.6301 - accuracy: 0.67 - ETA: 0s - loss: 0.6235 - accuracy: 0.67 - ETA: 0s - loss: 0.6198 - accuracy: 0.68 - ETA: 0s - loss: 0.6157 - accuracy: 0.68 - ETA: 0s - loss: 0.6148 - accuracy: 0.68 - ETA: 0s - loss: 0.6113 - accuracy: 0.69 - ETA: 0s - loss: 0.6095 - accuracy: 0.69 - ETA: 0s - loss: 0.6067 - accuracy: 0.69 - ETA: 0s - loss: 0.6046 - accuracy: 0.69 - 1s 1ms/step - loss: 0.6031 - accuracy: 0.7008 - val_loss: 0.5856 - val_accuracy: 0.7162\n",
      "Epoch 2/7\n",
      "804/804 [==============================] - ETA: 0s - loss: 0.4933 - accuracy: 0.81 - ETA: 0s - loss: 0.5964 - accuracy: 0.70 - ETA: 0s - loss: 0.5832 - accuracy: 0.71 - ETA: 0s - loss: 0.5799 - accuracy: 0.72 - ETA: 0s - loss: 0.5783 - accuracy: 0.72 - ETA: 0s - loss: 0.5786 - accuracy: 0.72 - ETA: 0s - loss: 0.5807 - accuracy: 0.71 - ETA: 0s - loss: 0.5795 - accuracy: 0.72 - ETA: 0s - loss: 0.5767 - accuracy: 0.72 - ETA: 0s - loss: 0.5759 - accuracy: 0.72 - ETA: 0s - loss: 0.5766 - accuracy: 0.72 - ETA: 0s - loss: 0.5754 - accuracy: 0.72 - ETA: 0s - loss: 0.5755 - accuracy: 0.72 - ETA: 0s - loss: 0.5747 - accuracy: 0.72 - 1s 1ms/step - loss: 0.5738 - accuracy: 0.7243 - val_loss: 0.5701 - val_accuracy: 0.7254\n",
      "Epoch 3/7\n",
      "804/804 [==============================] - ETA: 0s - loss: 0.6101 - accuracy: 0.65 - ETA: 0s - loss: 0.5717 - accuracy: 0.72 - ETA: 0s - loss: 0.5661 - accuracy: 0.73 - ETA: 0s - loss: 0.5651 - accuracy: 0.73 - ETA: 0s - loss: 0.5616 - accuracy: 0.73 - ETA: 0s - loss: 0.5637 - accuracy: 0.73 - ETA: 0s - loss: 0.5641 - accuracy: 0.73 - ETA: 0s - loss: 0.5628 - accuracy: 0.73 - ETA: 0s - loss: 0.5619 - accuracy: 0.73 - ETA: 0s - loss: 0.5637 - accuracy: 0.72 - ETA: 0s - loss: 0.5630 - accuracy: 0.72 - ETA: 0s - loss: 0.5639 - accuracy: 0.72 - ETA: 0s - loss: 0.5633 - accuracy: 0.72 - ETA: 0s - loss: 0.5630 - accuracy: 0.72 - ETA: 0s - loss: 0.5644 - accuracy: 0.72 - ETA: 0s - loss: 0.5636 - accuracy: 0.72 - ETA: 0s - loss: 0.5627 - accuracy: 0.72 - 1s 1ms/step - loss: 0.5629 - accuracy: 0.7271 - val_loss: 0.5646 - val_accuracy: 0.7251\n",
      "Epoch 4/7\n",
      "804/804 [==============================] - ETA: 0s - loss: 0.6885 - accuracy: 0.65 - ETA: 0s - loss: 0.5525 - accuracy: 0.73 - ETA: 0s - loss: 0.5622 - accuracy: 0.72 - ETA: 0s - loss: 0.5632 - accuracy: 0.72 - ETA: 0s - loss: 0.5608 - accuracy: 0.72 - ETA: 0s - loss: 0.5613 - accuracy: 0.72 - ETA: 0s - loss: 0.5594 - accuracy: 0.72 - ETA: 0s - loss: 0.5592 - accuracy: 0.72 - ETA: 0s - loss: 0.5589 - accuracy: 0.72 - ETA: 0s - loss: 0.5590 - accuracy: 0.72 - ETA: 0s - loss: 0.5589 - accuracy: 0.72 - ETA: 0s - loss: 0.5604 - accuracy: 0.72 - ETA: 0s - loss: 0.5598 - accuracy: 0.72 - 1s 1ms/step - loss: 0.5593 - accuracy: 0.7275 - val_loss: 0.5617 - val_accuracy: 0.7275\n",
      "Epoch 5/7\n",
      "804/804 [==============================] - ETA: 0s - loss: 0.4960 - accuracy: 0.81 - ETA: 0s - loss: 0.5644 - accuracy: 0.72 - ETA: 0s - loss: 0.5696 - accuracy: 0.71 - ETA: 0s - loss: 0.5620 - accuracy: 0.72 - ETA: 0s - loss: 0.5617 - accuracy: 0.72 - ETA: 0s - loss: 0.5613 - accuracy: 0.72 - ETA: 0s - loss: 0.5627 - accuracy: 0.72 - ETA: 0s - loss: 0.5610 - accuracy: 0.72 - ETA: 0s - loss: 0.5591 - accuracy: 0.72 - ETA: 0s - loss: 0.5563 - accuracy: 0.72 - ETA: 0s - loss: 0.5580 - accuracy: 0.72 - ETA: 0s - loss: 0.5584 - accuracy: 0.72 - ETA: 0s - loss: 0.5562 - accuracy: 0.72 - ETA: 0s - loss: 0.5571 - accuracy: 0.72 - 1s 1ms/step - loss: 0.5578 - accuracy: 0.7273 - val_loss: 0.5612 - val_accuracy: 0.7286\n",
      "Epoch 6/7\n",
      "804/804 [==============================] - ETA: 0s - loss: 0.4481 - accuracy: 0.84 - ETA: 0s - loss: 0.5594 - accuracy: 0.71 - ETA: 0s - loss: 0.5608 - accuracy: 0.72 - ETA: 0s - loss: 0.5623 - accuracy: 0.72 - ETA: 0s - loss: 0.5625 - accuracy: 0.72 - ETA: 0s - loss: 0.5647 - accuracy: 0.71 - ETA: 0s - loss: 0.5602 - accuracy: 0.72 - ETA: 0s - loss: 0.5620 - accuracy: 0.72 - ETA: 0s - loss: 0.5612 - accuracy: 0.72 - ETA: 0s - loss: 0.5603 - accuracy: 0.72 - ETA: 0s - loss: 0.5614 - accuracy: 0.72 - ETA: 0s - loss: 0.5606 - accuracy: 0.72 - ETA: 0s - loss: 0.5590 - accuracy: 0.72 - ETA: 0s - loss: 0.5572 - accuracy: 0.72 - 1s 1ms/step - loss: 0.5569 - accuracy: 0.7264 - val_loss: 0.5624 - val_accuracy: 0.7292\n",
      "Epoch 7/7\n",
      "804/804 [==============================] - ETA: 0s - loss: 0.5100 - accuracy: 0.78 - ETA: 0s - loss: 0.5580 - accuracy: 0.73 - ETA: 0s - loss: 0.5532 - accuracy: 0.73 - ETA: 0s - loss: 0.5560 - accuracy: 0.73 - ETA: 0s - loss: 0.5603 - accuracy: 0.72 - ETA: 0s - loss: 0.5605 - accuracy: 0.72 - ETA: 0s - loss: 0.5596 - accuracy: 0.72 - ETA: 0s - loss: 0.5604 - accuracy: 0.72 - ETA: 0s - loss: 0.5597 - accuracy: 0.72 - ETA: 0s - loss: 0.5557 - accuracy: 0.72 - ETA: 0s - loss: 0.5561 - accuracy: 0.72 - ETA: 0s - loss: 0.5566 - accuracy: 0.72 - ETA: 0s - loss: 0.5559 - accuracy: 0.72 - ETA: 0s - loss: 0.5573 - accuracy: 0.72 - ETA: 0s - loss: 0.5574 - accuracy: 0.72 - ETA: 0s - loss: 0.5567 - accuracy: 0.72 - 1s 1ms/step - loss: 0.5565 - accuracy: 0.7267 - val_loss: 0.5614 - val_accuracy: 0.7291\n"
     ]
    },
    {
     "data": {
      "text/html": [
       "<span style=\"color:#4527A0\"><h1 style=\"font-size:18px\">Trial complete</h1></span>"
      ],
      "text/plain": [
       "<IPython.core.display.HTML object>"
      ]
     },
     "metadata": {},
     "output_type": "display_data"
    },
    {
     "data": {
      "text/html": [
       "<span style=\"color:#4527A0\"><h1 style=\"font-size:18px\">Trial summary</h1></span>"
      ],
      "text/plain": [
       "<IPython.core.display.HTML object>"
      ]
     },
     "metadata": {},
     "output_type": "display_data"
    },
    {
     "data": {
      "text/html": [
       "<span style=\"color:cyan\"> |-Trial ID: 5381b277b9938bd4f343bd8102d69b15</span>"
      ],
      "text/plain": [
       "<IPython.core.display.HTML object>"
      ]
     },
     "metadata": {},
     "output_type": "display_data"
    },
    {
     "data": {
      "text/html": [
       "<span style=\"color:cyan\"> |-Score: 0.7292128205299377</span>"
      ],
      "text/plain": [
       "<IPython.core.display.HTML object>"
      ]
     },
     "metadata": {},
     "output_type": "display_data"
    },
    {
     "data": {
      "text/html": [
       "<span style=\"color:cyan\"> |-Best step: 0</span>"
      ],
      "text/plain": [
       "<IPython.core.display.HTML object>"
      ]
     },
     "metadata": {},
     "output_type": "display_data"
    },
    {
     "data": {
      "text/html": [
       "<span style=\"color:#7E57C2\"><h2 style=\"font-size:16px\">Hyperparameters:</h2></span>"
      ],
      "text/plain": [
       "<IPython.core.display.HTML object>"
      ]
     },
     "metadata": {},
     "output_type": "display_data"
    },
    {
     "data": {
      "text/html": [
       "<span style=\"color:cyan\"> |-activation: tanh</span>"
      ],
      "text/plain": [
       "<IPython.core.display.HTML object>"
      ]
     },
     "metadata": {},
     "output_type": "display_data"
    },
    {
     "data": {
      "text/html": [
       "<span style=\"color:blue\"> |-first_units: 5</span>"
      ],
      "text/plain": [
       "<IPython.core.display.HTML object>"
      ]
     },
     "metadata": {},
     "output_type": "display_data"
    },
    {
     "data": {
      "text/html": [
       "<span style=\"color:cyan\"> |-num_layers: 6</span>"
      ],
      "text/plain": [
       "<IPython.core.display.HTML object>"
      ]
     },
     "metadata": {},
     "output_type": "display_data"
    },
    {
     "data": {
      "text/html": [
       "<span style=\"color:blue\"> |-tuner/bracket: 1</span>"
      ],
      "text/plain": [
       "<IPython.core.display.HTML object>"
      ]
     },
     "metadata": {},
     "output_type": "display_data"
    },
    {
     "data": {
      "text/html": [
       "<span style=\"color:cyan\"> |-tuner/epochs: 7</span>"
      ],
      "text/plain": [
       "<IPython.core.display.HTML object>"
      ]
     },
     "metadata": {},
     "output_type": "display_data"
    },
    {
     "data": {
      "text/html": [
       "<span style=\"color:blue\"> |-tuner/initial_epoch: 0</span>"
      ],
      "text/plain": [
       "<IPython.core.display.HTML object>"
      ]
     },
     "metadata": {},
     "output_type": "display_data"
    },
    {
     "data": {
      "text/html": [
       "<span style=\"color:cyan\"> |-tuner/round: 0</span>"
      ],
      "text/plain": [
       "<IPython.core.display.HTML object>"
      ]
     },
     "metadata": {},
     "output_type": "display_data"
    },
    {
     "data": {
      "text/html": [
       "<span style=\"color:blue\"> |-units_0: 5</span>"
      ],
      "text/plain": [
       "<IPython.core.display.HTML object>"
      ]
     },
     "metadata": {},
     "output_type": "display_data"
    },
    {
     "data": {
      "text/html": [
       "<span style=\"color:cyan\"> |-units_1: 3</span>"
      ],
      "text/plain": [
       "<IPython.core.display.HTML object>"
      ]
     },
     "metadata": {},
     "output_type": "display_data"
    },
    {
     "data": {
      "text/html": [
       "<span style=\"color:blue\"> |-units_2: 3</span>"
      ],
      "text/plain": [
       "<IPython.core.display.HTML object>"
      ]
     },
     "metadata": {},
     "output_type": "display_data"
    },
    {
     "data": {
      "text/html": [
       "<span style=\"color:cyan\"> |-units_3: 7</span>"
      ],
      "text/plain": [
       "<IPython.core.display.HTML object>"
      ]
     },
     "metadata": {},
     "output_type": "display_data"
    },
    {
     "data": {
      "text/html": [
       "<span style=\"color:blue\"> |-units_4: 7</span>"
      ],
      "text/plain": [
       "<IPython.core.display.HTML object>"
      ]
     },
     "metadata": {},
     "output_type": "display_data"
    },
    {
     "data": {
      "text/html": [
       "<span style=\"color:cyan\"> |-units_5: 9</span>"
      ],
      "text/plain": [
       "<IPython.core.display.HTML object>"
      ]
     },
     "metadata": {},
     "output_type": "display_data"
    },
    {
     "name": "stdout",
     "output_type": "stream",
     "text": [
      "Epoch 1/7\n",
      "804/804 [==============================] - ETA: 0s - loss: 0.7054 - accuracy: 0.46 - ETA: 0s - loss: 0.6996 - accuracy: 0.50 - ETA: 0s - loss: 0.6950 - accuracy: 0.53 - ETA: 0s - loss: 0.6931 - accuracy: 0.53 - ETA: 0s - loss: 0.6928 - accuracy: 0.53 - ETA: 0s - loss: 0.6923 - accuracy: 0.53 - ETA: 0s - loss: 0.6908 - accuracy: 0.53 - ETA: 0s - loss: 0.6904 - accuracy: 0.53 - ETA: 0s - loss: 0.6874 - accuracy: 0.53 - ETA: 0s - loss: 0.6830 - accuracy: 0.54 - ETA: 0s - loss: 0.6779 - accuracy: 0.56 - ETA: 0s - loss: 0.6713 - accuracy: 0.57 - ETA: 0s - loss: 0.6660 - accuracy: 0.58 - 1s 1ms/step - loss: 0.6642 - accuracy: 0.5906 - val_loss: 0.6009 - val_accuracy: 0.7012\n",
      "Epoch 2/7\n",
      "804/804 [==============================] - ETA: 0s - loss: 0.5590 - accuracy: 0.75 - ETA: 0s - loss: 0.6112 - accuracy: 0.69 - ETA: 0s - loss: 0.6011 - accuracy: 0.70 - ETA: 0s - loss: 0.5996 - accuracy: 0.71 - ETA: 0s - loss: 0.5902 - accuracy: 0.71 - ETA: 0s - loss: 0.5913 - accuracy: 0.71 - ETA: 0s - loss: 0.5913 - accuracy: 0.71 - ETA: 0s - loss: 0.5871 - accuracy: 0.71 - ETA: 0s - loss: 0.5859 - accuracy: 0.72 - ETA: 0s - loss: 0.5844 - accuracy: 0.72 - ETA: 0s - loss: 0.5847 - accuracy: 0.72 - ETA: 0s - loss: 0.5846 - accuracy: 0.72 - ETA: 0s - loss: 0.5848 - accuracy: 0.72 - 1s 1ms/step - loss: 0.5838 - accuracy: 0.7215 - val_loss: 0.5811 - val_accuracy: 0.7207\n",
      "Epoch 3/7\n",
      "804/804 [==============================] - ETA: 0s - loss: 0.3494 - accuracy: 0.96 - ETA: 0s - loss: 0.5838 - accuracy: 0.72 - ETA: 0s - loss: 0.5811 - accuracy: 0.72 - ETA: 0s - loss: 0.5869 - accuracy: 0.71 - ETA: 0s - loss: 0.5844 - accuracy: 0.71 - ETA: 0s - loss: 0.5844 - accuracy: 0.71 - ETA: 0s - loss: 0.5837 - accuracy: 0.71 - ETA: 0s - loss: 0.5834 - accuracy: 0.71 - ETA: 0s - loss: 0.5844 - accuracy: 0.71 - ETA: 0s - loss: 0.5844 - accuracy: 0.71 - ETA: 0s - loss: 0.5833 - accuracy: 0.71 - ETA: 0s - loss: 0.5806 - accuracy: 0.72 - ETA: 0s - loss: 0.5793 - accuracy: 0.72 - 1s 959us/step - loss: 0.5790 - accuracy: 0.7238 - val_loss: 0.5793 - val_accuracy: 0.7213\n",
      "Epoch 4/7\n",
      "804/804 [==============================] - ETA: 0s - loss: 0.6927 - accuracy: 0.62 - ETA: 0s - loss: 0.5866 - accuracy: 0.71 - ETA: 0s - loss: 0.5838 - accuracy: 0.71 - ETA: 0s - loss: 0.5821 - accuracy: 0.71 - ETA: 0s - loss: 0.5807 - accuracy: 0.72 - ETA: 0s - loss: 0.5805 - accuracy: 0.72 - ETA: 0s - loss: 0.5808 - accuracy: 0.72 - ETA: 0s - loss: 0.5794 - accuracy: 0.72 - ETA: 0s - loss: 0.5775 - accuracy: 0.72 - ETA: 0s - loss: 0.5772 - accuracy: 0.72 - ETA: 0s - loss: 0.5785 - accuracy: 0.72 - 1s 873us/step - loss: 0.5777 - accuracy: 0.7254 - val_loss: 0.5791 - val_accuracy: 0.7255\n",
      "Epoch 5/7\n",
      "804/804 [==============================] - ETA: 0s - loss: 0.5597 - accuracy: 0.71 - ETA: 0s - loss: 0.5691 - accuracy: 0.73 - ETA: 0s - loss: 0.5755 - accuracy: 0.72 - ETA: 0s - loss: 0.5712 - accuracy: 0.73 - ETA: 0s - loss: 0.5707 - accuracy: 0.73 - ETA: 0s - loss: 0.5732 - accuracy: 0.72 - ETA: 0s - loss: 0.5716 - accuracy: 0.73 - ETA: 0s - loss: 0.5698 - accuracy: 0.73 - ETA: 0s - loss: 0.5709 - accuracy: 0.73 - ETA: 0s - loss: 0.5716 - accuracy: 0.72 - ETA: 0s - loss: 0.5731 - accuracy: 0.72 - ETA: 0s - loss: 0.5760 - accuracy: 0.72 - ETA: 0s - loss: 0.5767 - accuracy: 0.72 - 1s 940us/step - loss: 0.5767 - accuracy: 0.7254 - val_loss: 0.5776 - val_accuracy: 0.7252\n",
      "Epoch 6/7\n",
      "804/804 [==============================] - ETA: 0s - loss: 0.5268 - accuracy: 0.78 - ETA: 0s - loss: 0.5837 - accuracy: 0.71 - ETA: 0s - loss: 0.5840 - accuracy: 0.72 - ETA: 0s - loss: 0.5788 - accuracy: 0.72 - ETA: 0s - loss: 0.5770 - accuracy: 0.72 - ETA: 0s - loss: 0.5778 - accuracy: 0.72 - ETA: 0s - loss: 0.5769 - accuracy: 0.72 - ETA: 0s - loss: 0.5772 - accuracy: 0.72 - ETA: 0s - loss: 0.5802 - accuracy: 0.72 - ETA: 0s - loss: 0.5804 - accuracy: 0.72 - ETA: 0s - loss: 0.5790 - accuracy: 0.72 - ETA: 0s - loss: 0.5777 - accuracy: 0.72 - ETA: 0s - loss: 0.5762 - accuracy: 0.72 - 1s 968us/step - loss: 0.5763 - accuracy: 0.7266 - val_loss: 0.5782 - val_accuracy: 0.7235\n",
      "Epoch 7/7\n",
      "804/804 [==============================] - ETA: 0s - loss: 0.5824 - accuracy: 0.75 - ETA: 0s - loss: 0.5622 - accuracy: 0.73 - ETA: 0s - loss: 0.5691 - accuracy: 0.73 - ETA: 0s - loss: 0.5679 - accuracy: 0.73 - ETA: 0s - loss: 0.5729 - accuracy: 0.72 - ETA: 0s - loss: 0.5729 - accuracy: 0.72 - ETA: 0s - loss: 0.5741 - accuracy: 0.72 - ETA: 0s - loss: 0.5753 - accuracy: 0.72 - ETA: 0s - loss: 0.5727 - accuracy: 0.72 - ETA: 0s - loss: 0.5740 - accuracy: 0.72 - ETA: 0s - loss: 0.5758 - accuracy: 0.72 - ETA: 0s - loss: 0.5772 - accuracy: 0.72 - ETA: 0s - loss: 0.5758 - accuracy: 0.72 - 1s 948us/step - loss: 0.5757 - accuracy: 0.7267 - val_loss: 0.5773 - val_accuracy: 0.7272\n"
     ]
    },
    {
     "data": {
      "text/html": [
       "<span style=\"color:#4527A0\"><h1 style=\"font-size:18px\">Trial complete</h1></span>"
      ],
      "text/plain": [
       "<IPython.core.display.HTML object>"
      ]
     },
     "metadata": {},
     "output_type": "display_data"
    },
    {
     "data": {
      "text/html": [
       "<span style=\"color:#4527A0\"><h1 style=\"font-size:18px\">Trial summary</h1></span>"
      ],
      "text/plain": [
       "<IPython.core.display.HTML object>"
      ]
     },
     "metadata": {},
     "output_type": "display_data"
    },
    {
     "data": {
      "text/html": [
       "<span style=\"color:cyan\"> |-Trial ID: 302a13f90731a9c78227e462166ad2c0</span>"
      ],
      "text/plain": [
       "<IPython.core.display.HTML object>"
      ]
     },
     "metadata": {},
     "output_type": "display_data"
    },
    {
     "data": {
      "text/html": [
       "<span style=\"color:cyan\"> |-Score: 0.7272303104400635</span>"
      ],
      "text/plain": [
       "<IPython.core.display.HTML object>"
      ]
     },
     "metadata": {},
     "output_type": "display_data"
    },
    {
     "data": {
      "text/html": [
       "<span style=\"color:cyan\"> |-Best step: 0</span>"
      ],
      "text/plain": [
       "<IPython.core.display.HTML object>"
      ]
     },
     "metadata": {},
     "output_type": "display_data"
    },
    {
     "data": {
      "text/html": [
       "<span style=\"color:#7E57C2\"><h2 style=\"font-size:16px\">Hyperparameters:</h2></span>"
      ],
      "text/plain": [
       "<IPython.core.display.HTML object>"
      ]
     },
     "metadata": {},
     "output_type": "display_data"
    },
    {
     "data": {
      "text/html": [
       "<span style=\"color:cyan\"> |-activation: relu</span>"
      ],
      "text/plain": [
       "<IPython.core.display.HTML object>"
      ]
     },
     "metadata": {},
     "output_type": "display_data"
    },
    {
     "data": {
      "text/html": [
       "<span style=\"color:blue\"> |-first_units: 3</span>"
      ],
      "text/plain": [
       "<IPython.core.display.HTML object>"
      ]
     },
     "metadata": {},
     "output_type": "display_data"
    },
    {
     "data": {
      "text/html": [
       "<span style=\"color:cyan\"> |-num_layers: 4</span>"
      ],
      "text/plain": [
       "<IPython.core.display.HTML object>"
      ]
     },
     "metadata": {},
     "output_type": "display_data"
    },
    {
     "data": {
      "text/html": [
       "<span style=\"color:blue\"> |-tuner/bracket: 1</span>"
      ],
      "text/plain": [
       "<IPython.core.display.HTML object>"
      ]
     },
     "metadata": {},
     "output_type": "display_data"
    },
    {
     "data": {
      "text/html": [
       "<span style=\"color:cyan\"> |-tuner/epochs: 7</span>"
      ],
      "text/plain": [
       "<IPython.core.display.HTML object>"
      ]
     },
     "metadata": {},
     "output_type": "display_data"
    },
    {
     "data": {
      "text/html": [
       "<span style=\"color:blue\"> |-tuner/initial_epoch: 0</span>"
      ],
      "text/plain": [
       "<IPython.core.display.HTML object>"
      ]
     },
     "metadata": {},
     "output_type": "display_data"
    },
    {
     "data": {
      "text/html": [
       "<span style=\"color:cyan\"> |-tuner/round: 0</span>"
      ],
      "text/plain": [
       "<IPython.core.display.HTML object>"
      ]
     },
     "metadata": {},
     "output_type": "display_data"
    },
    {
     "data": {
      "text/html": [
       "<span style=\"color:blue\"> |-units_0: 1</span>"
      ],
      "text/plain": [
       "<IPython.core.display.HTML object>"
      ]
     },
     "metadata": {},
     "output_type": "display_data"
    },
    {
     "data": {
      "text/html": [
       "<span style=\"color:cyan\"> |-units_1: 3</span>"
      ],
      "text/plain": [
       "<IPython.core.display.HTML object>"
      ]
     },
     "metadata": {},
     "output_type": "display_data"
    },
    {
     "data": {
      "text/html": [
       "<span style=\"color:blue\"> |-units_2: 5</span>"
      ],
      "text/plain": [
       "<IPython.core.display.HTML object>"
      ]
     },
     "metadata": {},
     "output_type": "display_data"
    },
    {
     "data": {
      "text/html": [
       "<span style=\"color:cyan\"> |-units_3: 5</span>"
      ],
      "text/plain": [
       "<IPython.core.display.HTML object>"
      ]
     },
     "metadata": {},
     "output_type": "display_data"
    },
    {
     "data": {
      "text/html": [
       "<span style=\"color:blue\"> |-units_4: 9</span>"
      ],
      "text/plain": [
       "<IPython.core.display.HTML object>"
      ]
     },
     "metadata": {},
     "output_type": "display_data"
    },
    {
     "data": {
      "text/html": [
       "<span style=\"color:cyan\"> |-units_5: 7</span>"
      ],
      "text/plain": [
       "<IPython.core.display.HTML object>"
      ]
     },
     "metadata": {},
     "output_type": "display_data"
    },
    {
     "name": "stdout",
     "output_type": "stream",
     "text": [
      "Epoch 1/7\n",
      "804/804 [==============================] - ETA: 0s - loss: 0.7033 - accuracy: 0.53 - ETA: 0s - loss: 0.7041 - accuracy: 0.51 - ETA: 0s - loss: 0.6989 - accuracy: 0.52 - ETA: 0s - loss: 0.6966 - accuracy: 0.52 - ETA: 0s - loss: 0.6954 - accuracy: 0.52 - ETA: 0s - loss: 0.6939 - accuracy: 0.53 - ETA: 0s - loss: 0.6932 - accuracy: 0.53 - ETA: 0s - loss: 0.6927 - accuracy: 0.53 - ETA: 0s - loss: 0.6923 - accuracy: 0.53 - ETA: 0s - loss: 0.6921 - accuracy: 0.53 - ETA: 0s - loss: 0.6918 - accuracy: 0.53 - ETA: 0s - loss: 0.6915 - accuracy: 0.53 - ETA: 0s - loss: 0.6914 - accuracy: 0.53 - 1s 1ms/step - loss: 0.6909 - accuracy: 0.5318 - val_loss: 0.6841 - val_accuracy: 0.5343\n",
      "Epoch 2/7\n",
      "804/804 [==============================] - ETA: 0s - loss: 0.6911 - accuracy: 0.46 - ETA: 0s - loss: 0.6824 - accuracy: 0.53 - ETA: 0s - loss: 0.6820 - accuracy: 0.52 - ETA: 0s - loss: 0.6802 - accuracy: 0.52 - ETA: 0s - loss: 0.6780 - accuracy: 0.52 - ETA: 0s - loss: 0.6765 - accuracy: 0.52 - ETA: 0s - loss: 0.6748 - accuracy: 0.54 - ETA: 0s - loss: 0.6728 - accuracy: 0.56 - ETA: 0s - loss: 0.6703 - accuracy: 0.58 - ETA: 0s - loss: 0.6683 - accuracy: 0.60 - ETA: 0s - loss: 0.6663 - accuracy: 0.61 - ETA: 0s - loss: 0.6638 - accuracy: 0.62 - ETA: 0s - loss: 0.6618 - accuracy: 0.63 - 1s 1ms/step - loss: 0.6605 - accuracy: 0.6395 - val_loss: 0.6355 - val_accuracy: 0.7240\n",
      "Epoch 3/7\n",
      "804/804 [==============================] - ETA: 0s - loss: 0.6553 - accuracy: 0.62 - ETA: 0s - loss: 0.6382 - accuracy: 0.71 - ETA: 0s - loss: 0.6328 - accuracy: 0.72 - ETA: 0s - loss: 0.6326 - accuracy: 0.72 - ETA: 0s - loss: 0.6298 - accuracy: 0.72 - ETA: 0s - loss: 0.6265 - accuracy: 0.72 - ETA: 0s - loss: 0.6249 - accuracy: 0.72 - ETA: 0s - loss: 0.6228 - accuracy: 0.72 - ETA: 0s - loss: 0.6209 - accuracy: 0.72 - ETA: 0s - loss: 0.6187 - accuracy: 0.72 - ETA: 0s - loss: 0.6179 - accuracy: 0.72 - ETA: 0s - loss: 0.6157 - accuracy: 0.72 - ETA: 0s - loss: 0.6134 - accuracy: 0.72 - 1s 966us/step - loss: 0.6126 - accuracy: 0.7293 - val_loss: 0.5970 - val_accuracy: 0.7240\n",
      "Epoch 4/7\n",
      "804/804 [==============================] - ETA: 0s - loss: 0.5365 - accuracy: 0.84 - ETA: 0s - loss: 0.5903 - accuracy: 0.73 - ETA: 0s - loss: 0.5900 - accuracy: 0.73 - ETA: 0s - loss: 0.5866 - accuracy: 0.73 - ETA: 0s - loss: 0.5839 - accuracy: 0.73 - ETA: 0s - loss: 0.5852 - accuracy: 0.73 - ETA: 0s - loss: 0.5847 - accuracy: 0.73 - ETA: 0s - loss: 0.5845 - accuracy: 0.73 - ETA: 0s - loss: 0.5854 - accuracy: 0.73 - ETA: 0s - loss: 0.5858 - accuracy: 0.73 - ETA: 0s - loss: 0.5854 - accuracy: 0.73 - ETA: 0s - loss: 0.5859 - accuracy: 0.73 - ETA: 0s - loss: 0.5869 - accuracy: 0.73 - 1s 976us/step - loss: 0.5872 - accuracy: 0.7300 - val_loss: 0.5839 - val_accuracy: 0.7291\n",
      "Epoch 5/7\n",
      "804/804 [==============================] - ETA: 0s - loss: 0.5711 - accuracy: 0.71 - ETA: 0s - loss: 0.5779 - accuracy: 0.73 - ETA: 0s - loss: 0.5723 - accuracy: 0.74 - ETA: 0s - loss: 0.5781 - accuracy: 0.73 - ETA: 0s - loss: 0.5786 - accuracy: 0.73 - ETA: 0s - loss: 0.5788 - accuracy: 0.73 - ETA: 0s - loss: 0.5817 - accuracy: 0.72 - ETA: 0s - loss: 0.5799 - accuracy: 0.73 - ETA: 0s - loss: 0.5805 - accuracy: 0.73 - ETA: 0s - loss: 0.5833 - accuracy: 0.72 - ETA: 0s - loss: 0.5824 - accuracy: 0.72 - ETA: 0s - loss: 0.5832 - accuracy: 0.72 - ETA: 0s - loss: 0.5827 - accuracy: 0.72 - ETA: 0s - loss: 0.5804 - accuracy: 0.72 - 1s 998us/step - loss: 0.5803 - accuracy: 0.7297 - val_loss: 0.5812 - val_accuracy: 0.7273\n",
      "Epoch 6/7\n",
      "804/804 [==============================] - ETA: 0s - loss: 0.6589 - accuracy: 0.65 - ETA: 0s - loss: 0.5719 - accuracy: 0.73 - ETA: 0s - loss: 0.5726 - accuracy: 0.73 - ETA: 0s - loss: 0.5708 - accuracy: 0.73 - ETA: 0s - loss: 0.5738 - accuracy: 0.73 - ETA: 0s - loss: 0.5759 - accuracy: 0.73 - ETA: 0s - loss: 0.5763 - accuracy: 0.73 - ETA: 0s - loss: 0.5774 - accuracy: 0.73 - ETA: 0s - loss: 0.5779 - accuracy: 0.73 - ETA: 0s - loss: 0.5780 - accuracy: 0.73 - ETA: 0s - loss: 0.5786 - accuracy: 0.73 - ETA: 0s - loss: 0.5791 - accuracy: 0.72 - ETA: 0s - loss: 0.5785 - accuracy: 0.73 - 1s 980us/step - loss: 0.5788 - accuracy: 0.7298 - val_loss: 0.5809 - val_accuracy: 0.7259\n",
      "Epoch 7/7\n",
      "804/804 [==============================] - ETA: 0s - loss: 0.5368 - accuracy: 0.81 - ETA: 0s - loss: 0.5743 - accuracy: 0.73 - ETA: 0s - loss: 0.5793 - accuracy: 0.73 - ETA: 0s - loss: 0.5803 - accuracy: 0.73 - ETA: 0s - loss: 0.5818 - accuracy: 0.72 - ETA: 0s - loss: 0.5757 - accuracy: 0.73 - ETA: 0s - loss: 0.5789 - accuracy: 0.72 - ETA: 0s - loss: 0.5780 - accuracy: 0.73 - ETA: 0s - loss: 0.5798 - accuracy: 0.72 - ETA: 0s - loss: 0.5793 - accuracy: 0.72 - ETA: 0s - loss: 0.5789 - accuracy: 0.72 - ETA: 0s - loss: 0.5777 - accuracy: 0.73 - ETA: 0s - loss: 0.5774 - accuracy: 0.73 - ETA: 0s - loss: 0.5778 - accuracy: 0.73 - ETA: 0s - loss: 0.5786 - accuracy: 0.73 - 1s 1ms/step - loss: 0.5781 - accuracy: 0.7308 - val_loss: 0.5808 - val_accuracy: 0.7268\n"
     ]
    },
    {
     "data": {
      "text/html": [
       "<span style=\"color:#4527A0\"><h1 style=\"font-size:18px\">Trial complete</h1></span>"
      ],
      "text/plain": [
       "<IPython.core.display.HTML object>"
      ]
     },
     "metadata": {},
     "output_type": "display_data"
    },
    {
     "data": {
      "text/html": [
       "<span style=\"color:#4527A0\"><h1 style=\"font-size:18px\">Trial summary</h1></span>"
      ],
      "text/plain": [
       "<IPython.core.display.HTML object>"
      ]
     },
     "metadata": {},
     "output_type": "display_data"
    },
    {
     "data": {
      "text/html": [
       "<span style=\"color:cyan\"> |-Trial ID: 1c95761b77725bc65b32746b7e884f4e</span>"
      ],
      "text/plain": [
       "<IPython.core.display.HTML object>"
      ]
     },
     "metadata": {},
     "output_type": "display_data"
    },
    {
     "data": {
      "text/html": [
       "<span style=\"color:cyan\"> |-Score: 0.7290962338447571</span>"
      ],
      "text/plain": [
       "<IPython.core.display.HTML object>"
      ]
     },
     "metadata": {},
     "output_type": "display_data"
    },
    {
     "data": {
      "text/html": [
       "<span style=\"color:cyan\"> |-Best step: 0</span>"
      ],
      "text/plain": [
       "<IPython.core.display.HTML object>"
      ]
     },
     "metadata": {},
     "output_type": "display_data"
    },
    {
     "data": {
      "text/html": [
       "<span style=\"color:#7E57C2\"><h2 style=\"font-size:16px\">Hyperparameters:</h2></span>"
      ],
      "text/plain": [
       "<IPython.core.display.HTML object>"
      ]
     },
     "metadata": {},
     "output_type": "display_data"
    },
    {
     "data": {
      "text/html": [
       "<span style=\"color:cyan\"> |-activation: sigmoid</span>"
      ],
      "text/plain": [
       "<IPython.core.display.HTML object>"
      ]
     },
     "metadata": {},
     "output_type": "display_data"
    },
    {
     "data": {
      "text/html": [
       "<span style=\"color:blue\"> |-first_units: 7</span>"
      ],
      "text/plain": [
       "<IPython.core.display.HTML object>"
      ]
     },
     "metadata": {},
     "output_type": "display_data"
    },
    {
     "data": {
      "text/html": [
       "<span style=\"color:cyan\"> |-num_layers: 4</span>"
      ],
      "text/plain": [
       "<IPython.core.display.HTML object>"
      ]
     },
     "metadata": {},
     "output_type": "display_data"
    },
    {
     "data": {
      "text/html": [
       "<span style=\"color:blue\"> |-tuner/bracket: 1</span>"
      ],
      "text/plain": [
       "<IPython.core.display.HTML object>"
      ]
     },
     "metadata": {},
     "output_type": "display_data"
    },
    {
     "data": {
      "text/html": [
       "<span style=\"color:cyan\"> |-tuner/epochs: 7</span>"
      ],
      "text/plain": [
       "<IPython.core.display.HTML object>"
      ]
     },
     "metadata": {},
     "output_type": "display_data"
    },
    {
     "data": {
      "text/html": [
       "<span style=\"color:blue\"> |-tuner/initial_epoch: 0</span>"
      ],
      "text/plain": [
       "<IPython.core.display.HTML object>"
      ]
     },
     "metadata": {},
     "output_type": "display_data"
    },
    {
     "data": {
      "text/html": [
       "<span style=\"color:cyan\"> |-tuner/round: 0</span>"
      ],
      "text/plain": [
       "<IPython.core.display.HTML object>"
      ]
     },
     "metadata": {},
     "output_type": "display_data"
    },
    {
     "data": {
      "text/html": [
       "<span style=\"color:blue\"> |-units_0: 5</span>"
      ],
      "text/plain": [
       "<IPython.core.display.HTML object>"
      ]
     },
     "metadata": {},
     "output_type": "display_data"
    },
    {
     "data": {
      "text/html": [
       "<span style=\"color:cyan\"> |-units_1: 7</span>"
      ],
      "text/plain": [
       "<IPython.core.display.HTML object>"
      ]
     },
     "metadata": {},
     "output_type": "display_data"
    },
    {
     "data": {
      "text/html": [
       "<span style=\"color:blue\"> |-units_2: 1</span>"
      ],
      "text/plain": [
       "<IPython.core.display.HTML object>"
      ]
     },
     "metadata": {},
     "output_type": "display_data"
    },
    {
     "data": {
      "text/html": [
       "<span style=\"color:cyan\"> |-units_3: 3</span>"
      ],
      "text/plain": [
       "<IPython.core.display.HTML object>"
      ]
     },
     "metadata": {},
     "output_type": "display_data"
    },
    {
     "data": {
      "text/html": [
       "<span style=\"color:blue\"> |-units_4: 3</span>"
      ],
      "text/plain": [
       "<IPython.core.display.HTML object>"
      ]
     },
     "metadata": {},
     "output_type": "display_data"
    },
    {
     "data": {
      "text/html": [
       "<span style=\"color:cyan\"> |-units_5: 1</span>"
      ],
      "text/plain": [
       "<IPython.core.display.HTML object>"
      ]
     },
     "metadata": {},
     "output_type": "display_data"
    },
    {
     "name": "stdout",
     "output_type": "stream",
     "text": [
      "Epoch 1/7\n",
      "804/804 [==============================] - ETA: 0s - loss: 0.7016 - accuracy: 0.43 - ETA: 0s - loss: 0.6815 - accuracy: 0.56 - ETA: 0s - loss: 0.6692 - accuracy: 0.59 - ETA: 0s - loss: 0.6610 - accuracy: 0.61 - ETA: 0s - loss: 0.6529 - accuracy: 0.63 - ETA: 0s - loss: 0.6474 - accuracy: 0.64 - ETA: 0s - loss: 0.6439 - accuracy: 0.64 - ETA: 0s - loss: 0.6402 - accuracy: 0.65 - ETA: 0s - loss: 0.6360 - accuracy: 0.65 - ETA: 0s - loss: 0.6340 - accuracy: 0.66 - ETA: 0s - loss: 0.6307 - accuracy: 0.66 - ETA: 0s - loss: 0.6271 - accuracy: 0.67 - 1s 1ms/step - loss: 0.6246 - accuracy: 0.6741 - val_loss: 0.6014 - val_accuracy: 0.7071\n",
      "Epoch 2/7\n",
      "804/804 [==============================] - ETA: 0s - loss: 0.4376 - accuracy: 0.90 - ETA: 0s - loss: 0.5991 - accuracy: 0.70 - ETA: 0s - loss: 0.5989 - accuracy: 0.70 - ETA: 0s - loss: 0.6016 - accuracy: 0.70 - ETA: 0s - loss: 0.5966 - accuracy: 0.71 - ETA: 0s - loss: 0.5964 - accuracy: 0.71 - ETA: 0s - loss: 0.5978 - accuracy: 0.71 - ETA: 0s - loss: 0.5979 - accuracy: 0.70 - ETA: 0s - loss: 0.5963 - accuracy: 0.71 - ETA: 0s - loss: 0.5957 - accuracy: 0.71 - ETA: 0s - loss: 0.5950 - accuracy: 0.71 - ETA: 0s - loss: 0.5923 - accuracy: 0.71 - ETA: 0s - loss: 0.5916 - accuracy: 0.71 - 1s 1ms/step - loss: 0.5906 - accuracy: 0.7165 - val_loss: 0.5834 - val_accuracy: 0.7190\n",
      "Epoch 3/7\n",
      "804/804 [==============================] - ETA: 0s - loss: 0.6227 - accuracy: 0.68 - ETA: 0s - loss: 0.5722 - accuracy: 0.73 - ETA: 0s - loss: 0.5794 - accuracy: 0.72 - ETA: 0s - loss: 0.5784 - accuracy: 0.72 - ETA: 0s - loss: 0.5811 - accuracy: 0.72 - ETA: 0s - loss: 0.5803 - accuracy: 0.72 - ETA: 0s - loss: 0.5793 - accuracy: 0.72 - ETA: 0s - loss: 0.5798 - accuracy: 0.72 - ETA: 0s - loss: 0.5778 - accuracy: 0.72 - ETA: 0s - loss: 0.5783 - accuracy: 0.72 - ETA: 0s - loss: 0.5778 - accuracy: 0.72 - ETA: 0s - loss: 0.5767 - accuracy: 0.72 - ETA: 0s - loss: 0.5769 - accuracy: 0.72 - 1s 1ms/step - loss: 0.5786 - accuracy: 0.7270 - val_loss: 0.5826 - val_accuracy: 0.7201\n",
      "Epoch 4/7\n",
      "804/804 [==============================] - ETA: 0s - loss: 0.6022 - accuracy: 0.65 - ETA: 0s - loss: 0.5773 - accuracy: 0.72 - ETA: 0s - loss: 0.5761 - accuracy: 0.72 - ETA: 0s - loss: 0.5754 - accuracy: 0.72 - ETA: 0s - loss: 0.5766 - accuracy: 0.72 - ETA: 0s - loss: 0.5752 - accuracy: 0.73 - ETA: 0s - loss: 0.5754 - accuracy: 0.73 - ETA: 0s - loss: 0.5747 - accuracy: 0.73 - ETA: 0s - loss: 0.5779 - accuracy: 0.72 - ETA: 0s - loss: 0.5791 - accuracy: 0.72 - ETA: 0s - loss: 0.5798 - accuracy: 0.72 - ETA: 0s - loss: 0.5786 - accuracy: 0.72 - ETA: 0s - loss: 0.5781 - accuracy: 0.72 - 1s 1ms/step - loss: 0.5774 - accuracy: 0.7276 - val_loss: 0.5807 - val_accuracy: 0.7247\n",
      "Epoch 5/7\n",
      "804/804 [==============================] - ETA: 0s - loss: 0.7364 - accuracy: 0.59 - ETA: 0s - loss: 0.5610 - accuracy: 0.74 - ETA: 0s - loss: 0.5737 - accuracy: 0.73 - ETA: 0s - loss: 0.5749 - accuracy: 0.73 - ETA: 0s - loss: 0.5728 - accuracy: 0.73 - ETA: 0s - loss: 0.5727 - accuracy: 0.73 - ETA: 0s - loss: 0.5711 - accuracy: 0.73 - ETA: 0s - loss: 0.5715 - accuracy: 0.73 - ETA: 0s - loss: 0.5720 - accuracy: 0.73 - ETA: 0s - loss: 0.5734 - accuracy: 0.73 - ETA: 0s - loss: 0.5742 - accuracy: 0.73 - ETA: 0s - loss: 0.5765 - accuracy: 0.72 - ETA: 0s - loss: 0.5767 - accuracy: 0.72 - ETA: 0s - loss: 0.5771 - accuracy: 0.72 - 1s 1ms/step - loss: 0.5767 - accuracy: 0.7285 - val_loss: 0.5798 - val_accuracy: 0.7242\n",
      "Epoch 6/7\n",
      "804/804 [==============================] - ETA: 0s - loss: 0.5376 - accuracy: 0.78 - ETA: 0s - loss: 0.5819 - accuracy: 0.72 - ETA: 0s - loss: 0.5810 - accuracy: 0.72 - ETA: 0s - loss: 0.5826 - accuracy: 0.72 - ETA: 0s - loss: 0.5800 - accuracy: 0.72 - ETA: 0s - loss: 0.5789 - accuracy: 0.72 - ETA: 0s - loss: 0.5816 - accuracy: 0.72 - ETA: 0s - loss: 0.5807 - accuracy: 0.72 - ETA: 0s - loss: 0.5788 - accuracy: 0.72 - ETA: 0s - loss: 0.5776 - accuracy: 0.72 - ETA: 0s - loss: 0.5773 - accuracy: 0.72 - ETA: 0s - loss: 0.5775 - accuracy: 0.72 - ETA: 0s - loss: 0.5768 - accuracy: 0.72 - ETA: 0s - loss: 0.5775 - accuracy: 0.72 - 1s 1ms/step - loss: 0.5766 - accuracy: 0.7294 - val_loss: 0.5789 - val_accuracy: 0.7249\n",
      "Epoch 7/7\n",
      "804/804 [==============================] - ETA: 0s - loss: 0.7381 - accuracy: 0.59 - ETA: 0s - loss: 0.5884 - accuracy: 0.71 - ETA: 0s - loss: 0.5830 - accuracy: 0.72 - ETA: 0s - loss: 0.5789 - accuracy: 0.72 - ETA: 0s - loss: 0.5774 - accuracy: 0.72 - ETA: 0s - loss: 0.5787 - accuracy: 0.72 - ETA: 0s - loss: 0.5768 - accuracy: 0.72 - ETA: 0s - loss: 0.5783 - accuracy: 0.72 - ETA: 0s - loss: 0.5775 - accuracy: 0.72 - ETA: 0s - loss: 0.5771 - accuracy: 0.72 - ETA: 0s - loss: 0.5766 - accuracy: 0.72 - ETA: 0s - loss: 0.5771 - accuracy: 0.72 - ETA: 0s - loss: 0.5767 - accuracy: 0.72 - ETA: 0s - loss: 0.5765 - accuracy: 0.72 - 1s 1ms/step - loss: 0.5764 - accuracy: 0.7291 - val_loss: 0.5788 - val_accuracy: 0.7245\n"
     ]
    },
    {
     "data": {
      "text/html": [
       "<span style=\"color:#4527A0\"><h1 style=\"font-size:18px\">Trial complete</h1></span>"
      ],
      "text/plain": [
       "<IPython.core.display.HTML object>"
      ]
     },
     "metadata": {},
     "output_type": "display_data"
    },
    {
     "data": {
      "text/html": [
       "<span style=\"color:#4527A0\"><h1 style=\"font-size:18px\">Trial summary</h1></span>"
      ],
      "text/plain": [
       "<IPython.core.display.HTML object>"
      ]
     },
     "metadata": {},
     "output_type": "display_data"
    },
    {
     "data": {
      "text/html": [
       "<span style=\"color:cyan\"> |-Trial ID: 9af5cfc77c822e562f37bfa873c3018b</span>"
      ],
      "text/plain": [
       "<IPython.core.display.HTML object>"
      ]
     },
     "metadata": {},
     "output_type": "display_data"
    },
    {
     "data": {
      "text/html": [
       "<span style=\"color:cyan\"> |-Score: 0.7248979806900024</span>"
      ],
      "text/plain": [
       "<IPython.core.display.HTML object>"
      ]
     },
     "metadata": {},
     "output_type": "display_data"
    },
    {
     "data": {
      "text/html": [
       "<span style=\"color:cyan\"> |-Best step: 0</span>"
      ],
      "text/plain": [
       "<IPython.core.display.HTML object>"
      ]
     },
     "metadata": {},
     "output_type": "display_data"
    },
    {
     "data": {
      "text/html": [
       "<span style=\"color:#7E57C2\"><h2 style=\"font-size:16px\">Hyperparameters:</h2></span>"
      ],
      "text/plain": [
       "<IPython.core.display.HTML object>"
      ]
     },
     "metadata": {},
     "output_type": "display_data"
    },
    {
     "data": {
      "text/html": [
       "<span style=\"color:cyan\"> |-activation: tanh</span>"
      ],
      "text/plain": [
       "<IPython.core.display.HTML object>"
      ]
     },
     "metadata": {},
     "output_type": "display_data"
    },
    {
     "data": {
      "text/html": [
       "<span style=\"color:blue\"> |-first_units: 1</span>"
      ],
      "text/plain": [
       "<IPython.core.display.HTML object>"
      ]
     },
     "metadata": {},
     "output_type": "display_data"
    },
    {
     "data": {
      "text/html": [
       "<span style=\"color:cyan\"> |-num_layers: 4</span>"
      ],
      "text/plain": [
       "<IPython.core.display.HTML object>"
      ]
     },
     "metadata": {},
     "output_type": "display_data"
    },
    {
     "data": {
      "text/html": [
       "<span style=\"color:blue\"> |-tuner/bracket: 1</span>"
      ],
      "text/plain": [
       "<IPython.core.display.HTML object>"
      ]
     },
     "metadata": {},
     "output_type": "display_data"
    },
    {
     "data": {
      "text/html": [
       "<span style=\"color:cyan\"> |-tuner/epochs: 7</span>"
      ],
      "text/plain": [
       "<IPython.core.display.HTML object>"
      ]
     },
     "metadata": {},
     "output_type": "display_data"
    },
    {
     "data": {
      "text/html": [
       "<span style=\"color:blue\"> |-tuner/initial_epoch: 0</span>"
      ],
      "text/plain": [
       "<IPython.core.display.HTML object>"
      ]
     },
     "metadata": {},
     "output_type": "display_data"
    },
    {
     "data": {
      "text/html": [
       "<span style=\"color:cyan\"> |-tuner/round: 0</span>"
      ],
      "text/plain": [
       "<IPython.core.display.HTML object>"
      ]
     },
     "metadata": {},
     "output_type": "display_data"
    },
    {
     "data": {
      "text/html": [
       "<span style=\"color:blue\"> |-units_0: 7</span>"
      ],
      "text/plain": [
       "<IPython.core.display.HTML object>"
      ]
     },
     "metadata": {},
     "output_type": "display_data"
    },
    {
     "data": {
      "text/html": [
       "<span style=\"color:cyan\"> |-units_1: 3</span>"
      ],
      "text/plain": [
       "<IPython.core.display.HTML object>"
      ]
     },
     "metadata": {},
     "output_type": "display_data"
    },
    {
     "data": {
      "text/html": [
       "<span style=\"color:blue\"> |-units_2: 9</span>"
      ],
      "text/plain": [
       "<IPython.core.display.HTML object>"
      ]
     },
     "metadata": {},
     "output_type": "display_data"
    },
    {
     "data": {
      "text/html": [
       "<span style=\"color:cyan\"> |-units_3: 7</span>"
      ],
      "text/plain": [
       "<IPython.core.display.HTML object>"
      ]
     },
     "metadata": {},
     "output_type": "display_data"
    },
    {
     "data": {
      "text/html": [
       "<span style=\"color:blue\"> |-units_4: 3</span>"
      ],
      "text/plain": [
       "<IPython.core.display.HTML object>"
      ]
     },
     "metadata": {},
     "output_type": "display_data"
    },
    {
     "data": {
      "text/html": [
       "<span style=\"color:cyan\"> |-units_5: 7</span>"
      ],
      "text/plain": [
       "<IPython.core.display.HTML object>"
      ]
     },
     "metadata": {},
     "output_type": "display_data"
    },
    {
     "name": "stdout",
     "output_type": "stream",
     "text": [
      "Epoch 8/20\n",
      "804/804 [==============================] - ETA: 0s - loss: 0.6875 - accuracy: 0.53 - ETA: 0s - loss: 0.6734 - accuracy: 0.60 - ETA: 0s - loss: 0.6543 - accuracy: 0.64 - ETA: 0s - loss: 0.6412 - accuracy: 0.66 - ETA: 0s - loss: 0.6282 - accuracy: 0.67 - ETA: 0s - loss: 0.6217 - accuracy: 0.68 - ETA: 0s - loss: 0.6171 - accuracy: 0.68 - ETA: 0s - loss: 0.6138 - accuracy: 0.69 - ETA: 0s - loss: 0.6095 - accuracy: 0.69 - ETA: 0s - loss: 0.6071 - accuracy: 0.70 - ETA: 0s - loss: 0.6041 - accuracy: 0.70 - ETA: 0s - loss: 0.6018 - accuracy: 0.70 - ETA: 0s - loss: 0.6003 - accuracy: 0.70 - ETA: 0s - loss: 0.5996 - accuracy: 0.70 - ETA: 0s - loss: 0.5975 - accuracy: 0.71 - ETA: 0s - loss: 0.5971 - accuracy: 0.71 - 1s 1ms/step - loss: 0.5971 - accuracy: 0.7107 - val_loss: 0.5786 - val_accuracy: 0.7273\n",
      "Epoch 9/20\n",
      "804/804 [==============================] - ETA: 0s - loss: 0.5951 - accuracy: 0.71 - ETA: 0s - loss: 0.5579 - accuracy: 0.74 - ETA: 0s - loss: 0.5666 - accuracy: 0.73 - ETA: 0s - loss: 0.5731 - accuracy: 0.73 - ETA: 0s - loss: 0.5763 - accuracy: 0.73 - ETA: 0s - loss: 0.5789 - accuracy: 0.72 - ETA: 0s - loss: 0.5786 - accuracy: 0.72 - ETA: 0s - loss: 0.5791 - accuracy: 0.72 - ETA: 0s - loss: 0.5779 - accuracy: 0.72 - ETA: 0s - loss: 0.5761 - accuracy: 0.72 - ETA: 0s - loss: 0.5753 - accuracy: 0.72 - ETA: 0s - loss: 0.5750 - accuracy: 0.72 - ETA: 0s - loss: 0.5749 - accuracy: 0.72 - ETA: 0s - loss: 0.5754 - accuracy: 0.72 - ETA: 0s - loss: 0.5760 - accuracy: 0.72 - ETA: 0s - loss: 0.5756 - accuracy: 0.72 - ETA: 0s - loss: 0.5762 - accuracy: 0.72 - 1s 1ms/step - loss: 0.5763 - accuracy: 0.7264 - val_loss: 0.5718 - val_accuracy: 0.7291\n",
      "Epoch 10/20\n",
      "804/804 [==============================] - ETA: 0s - loss: 0.5664 - accuracy: 0.75 - ETA: 0s - loss: 0.5884 - accuracy: 0.71 - ETA: 0s - loss: 0.5804 - accuracy: 0.71 - ETA: 0s - loss: 0.5699 - accuracy: 0.72 - ETA: 0s - loss: 0.5723 - accuracy: 0.72 - ETA: 0s - loss: 0.5748 - accuracy: 0.72 - ETA: 0s - loss: 0.5742 - accuracy: 0.72 - ETA: 0s - loss: 0.5727 - accuracy: 0.72 - ETA: 0s - loss: 0.5738 - accuracy: 0.72 - ETA: 0s - loss: 0.5722 - accuracy: 0.72 - ETA: 0s - loss: 0.5703 - accuracy: 0.72 - ETA: 0s - loss: 0.5675 - accuracy: 0.72 - ETA: 0s - loss: 0.5688 - accuracy: 0.72 - ETA: 0s - loss: 0.5686 - accuracy: 0.72 - ETA: 0s - loss: 0.5670 - accuracy: 0.72 - 1s 1ms/step - loss: 0.5674 - accuracy: 0.7276 - val_loss: 0.5656 - val_accuracy: 0.7241\n",
      "Epoch 11/20\n",
      "804/804 [==============================] - ETA: 0s - loss: 0.5615 - accuracy: 0.75 - ETA: 0s - loss: 0.5657 - accuracy: 0.72 - ETA: 0s - loss: 0.5661 - accuracy: 0.72 - ETA: 0s - loss: 0.5615 - accuracy: 0.72 - ETA: 0s - loss: 0.5628 - accuracy: 0.72 - ETA: 0s - loss: 0.5644 - accuracy: 0.72 - ETA: 0s - loss: 0.5642 - accuracy: 0.72 - ETA: 0s - loss: 0.5621 - accuracy: 0.72 - ETA: 0s - loss: 0.5611 - accuracy: 0.72 - ETA: 0s - loss: 0.5622 - accuracy: 0.72 - ETA: 0s - loss: 0.5619 - accuracy: 0.72 - ETA: 0s - loss: 0.5615 - accuracy: 0.72 - ETA: 0s - loss: 0.5607 - accuracy: 0.73 - ETA: 0s - loss: 0.5621 - accuracy: 0.72 - 1s 1ms/step - loss: 0.5624 - accuracy: 0.7282 - val_loss: 0.5632 - val_accuracy: 0.7294\n",
      "Epoch 12/20\n",
      "804/804 [==============================] - ETA: 0s - loss: 0.7291 - accuracy: 0.46 - ETA: 0s - loss: 0.5571 - accuracy: 0.73 - ETA: 0s - loss: 0.5542 - accuracy: 0.73 - ETA: 0s - loss: 0.5558 - accuracy: 0.73 - ETA: 0s - loss: 0.5555 - accuracy: 0.73 - ETA: 0s - loss: 0.5544 - accuracy: 0.73 - ETA: 0s - loss: 0.5547 - accuracy: 0.73 - ETA: 0s - loss: 0.5562 - accuracy: 0.73 - ETA: 0s - loss: 0.5559 - accuracy: 0.73 - ETA: 0s - loss: 0.5563 - accuracy: 0.73 - ETA: 0s - loss: 0.5570 - accuracy: 0.73 - ETA: 0s - loss: 0.5589 - accuracy: 0.72 - ETA: 0s - loss: 0.5599 - accuracy: 0.72 - ETA: 0s - loss: 0.5589 - accuracy: 0.73 - ETA: 0s - loss: 0.5597 - accuracy: 0.72 - 1s 1ms/step - loss: 0.5596 - accuracy: 0.7299 - val_loss: 0.5618 - val_accuracy: 0.7277\n",
      "Epoch 13/20\n",
      "804/804 [==============================] - ETA: 0s - loss: 0.5263 - accuracy: 0.78 - ETA: 0s - loss: 0.5476 - accuracy: 0.74 - ETA: 0s - loss: 0.5575 - accuracy: 0.72 - ETA: 0s - loss: 0.5578 - accuracy: 0.72 - ETA: 0s - loss: 0.5577 - accuracy: 0.73 - ETA: 0s - loss: 0.5585 - accuracy: 0.72 - ETA: 0s - loss: 0.5607 - accuracy: 0.72 - ETA: 0s - loss: 0.5620 - accuracy: 0.72 - ETA: 0s - loss: 0.5607 - accuracy: 0.72 - ETA: 0s - loss: 0.5593 - accuracy: 0.72 - ETA: 0s - loss: 0.5591 - accuracy: 0.72 - ETA: 0s - loss: 0.5592 - accuracy: 0.72 - ETA: 0s - loss: 0.5593 - accuracy: 0.72 - ETA: 0s - loss: 0.5585 - accuracy: 0.72 - ETA: 0s - loss: 0.5587 - accuracy: 0.72 - ETA: 0s - loss: 0.5590 - accuracy: 0.72 - ETA: 0s - loss: 0.5584 - accuracy: 0.72 - 1s 1ms/step - loss: 0.5584 - accuracy: 0.7282 - val_loss: 0.5604 - val_accuracy: 0.7313\n",
      "Epoch 14/20\n",
      "804/804 [==============================] - ETA: 0s - loss: 0.7198 - accuracy: 0.56 - ETA: 1s - loss: 0.5540 - accuracy: 0.73 - ETA: 0s - loss: 0.5436 - accuracy: 0.74 - ETA: 0s - loss: 0.5535 - accuracy: 0.73 - ETA: 0s - loss: 0.5522 - accuracy: 0.73 - ETA: 0s - loss: 0.5549 - accuracy: 0.73 - ETA: 0s - loss: 0.5567 - accuracy: 0.73 - ETA: 0s - loss: 0.5577 - accuracy: 0.73 - ETA: 0s - loss: 0.5570 - accuracy: 0.73 - ETA: 0s - loss: 0.5581 - accuracy: 0.73 - ETA: 0s - loss: 0.5578 - accuracy: 0.72 - ETA: 0s - loss: 0.5566 - accuracy: 0.73 - ETA: 0s - loss: 0.5556 - accuracy: 0.73 - ETA: 0s - loss: 0.5555 - accuracy: 0.73 - ETA: 0s - loss: 0.5562 - accuracy: 0.73 - ETA: 0s - loss: 0.5572 - accuracy: 0.73 - 1s 1ms/step - loss: 0.5574 - accuracy: 0.7299 - val_loss: 0.5595 - val_accuracy: 0.7304\n",
      "Epoch 15/20\n",
      "804/804 [==============================] - ETA: 0s - loss: 0.6971 - accuracy: 0.62 - ETA: 0s - loss: 0.5638 - accuracy: 0.71 - ETA: 0s - loss: 0.5600 - accuracy: 0.72 - ETA: 0s - loss: 0.5627 - accuracy: 0.72 - ETA: 0s - loss: 0.5570 - accuracy: 0.72 - ETA: 0s - loss: 0.5601 - accuracy: 0.72 - ETA: 0s - loss: 0.5583 - accuracy: 0.72 - ETA: 0s - loss: 0.5602 - accuracy: 0.72 - ETA: 0s - loss: 0.5602 - accuracy: 0.72 - ETA: 0s - loss: 0.5585 - accuracy: 0.72 - ETA: 0s - loss: 0.5566 - accuracy: 0.73 - ETA: 0s - loss: 0.5564 - accuracy: 0.73 - ETA: 0s - loss: 0.5562 - accuracy: 0.73 - ETA: 0s - loss: 0.5564 - accuracy: 0.73 - 1s 1ms/step - loss: 0.5562 - accuracy: 0.7311 - val_loss: 0.5597 - val_accuracy: 0.7272\n",
      "Epoch 16/20\n",
      "804/804 [==============================] - ETA: 0s - loss: 0.4881 - accuracy: 0.84 - ETA: 0s - loss: 0.5526 - accuracy: 0.73 - ETA: 0s - loss: 0.5599 - accuracy: 0.73 - ETA: 0s - loss: 0.5600 - accuracy: 0.72 - ETA: 0s - loss: 0.5588 - accuracy: 0.72 - ETA: 0s - loss: 0.5558 - accuracy: 0.72 - ETA: 0s - loss: 0.5552 - accuracy: 0.72 - ETA: 0s - loss: 0.5541 - accuracy: 0.73 - ETA: 0s - loss: 0.5559 - accuracy: 0.72 - ETA: 0s - loss: 0.5532 - accuracy: 0.73 - ETA: 0s - loss: 0.5554 - accuracy: 0.73 - ETA: 0s - loss: 0.5562 - accuracy: 0.72 - ETA: 0s - loss: 0.5558 - accuracy: 0.73 - ETA: 0s - loss: 0.5551 - accuracy: 0.73 - ETA: 0s - loss: 0.5563 - accuracy: 0.73 - 1s 1ms/step - loss: 0.5561 - accuracy: 0.7306 - val_loss: 0.5587 - val_accuracy: 0.7298\n",
      "Epoch 17/20\n",
      "804/804 [==============================] - ETA: 0s - loss: 0.5061 - accuracy: 0.75 - ETA: 0s - loss: 0.5659 - accuracy: 0.72 - ETA: 0s - loss: 0.5597 - accuracy: 0.72 - ETA: 0s - loss: 0.5539 - accuracy: 0.73 - ETA: 0s - loss: 0.5578 - accuracy: 0.73 - ETA: 0s - loss: 0.5582 - accuracy: 0.72 - ETA: 0s - loss: 0.5596 - accuracy: 0.72 - ETA: 0s - loss: 0.5567 - accuracy: 0.72 - ETA: 0s - loss: 0.5555 - accuracy: 0.73 - ETA: 0s - loss: 0.5548 - accuracy: 0.73 - ETA: 0s - loss: 0.5554 - accuracy: 0.73 - ETA: 0s - loss: 0.5543 - accuracy: 0.73 - ETA: 0s - loss: 0.5535 - accuracy: 0.73 - ETA: 0s - loss: 0.5542 - accuracy: 0.73 - ETA: 0s - loss: 0.5560 - accuracy: 0.72 - 1s 1ms/step - loss: 0.5551 - accuracy: 0.7300 - val_loss: 0.5588 - val_accuracy: 0.7304\n",
      "Epoch 18/20\n"
     ]
    },
    {
     "name": "stdout",
     "output_type": "stream",
     "text": [
      "804/804 [==============================] - ETA: 0s - loss: 0.5166 - accuracy: 0.78 - ETA: 0s - loss: 0.5727 - accuracy: 0.71 - ETA: 0s - loss: 0.5753 - accuracy: 0.71 - ETA: 0s - loss: 0.5704 - accuracy: 0.71 - ETA: 0s - loss: 0.5631 - accuracy: 0.72 - ETA: 0s - loss: 0.5580 - accuracy: 0.72 - ETA: 0s - loss: 0.5583 - accuracy: 0.72 - ETA: 0s - loss: 0.5563 - accuracy: 0.72 - ETA: 0s - loss: 0.5541 - accuracy: 0.73 - ETA: 0s - loss: 0.5531 - accuracy: 0.73 - ETA: 0s - loss: 0.5531 - accuracy: 0.73 - ETA: 0s - loss: 0.5528 - accuracy: 0.73 - ETA: 0s - loss: 0.5548 - accuracy: 0.73 - 1s 958us/step - loss: 0.5548 - accuracy: 0.7308 - val_loss: 0.5610 - val_accuracy: 0.7286\n",
      "Epoch 19/20\n",
      "804/804 [==============================] - ETA: 0s - loss: 0.4779 - accuracy: 0.84 - ETA: 0s - loss: 0.5422 - accuracy: 0.74 - ETA: 0s - loss: 0.5486 - accuracy: 0.73 - ETA: 0s - loss: 0.5528 - accuracy: 0.73 - ETA: 0s - loss: 0.5544 - accuracy: 0.73 - ETA: 0s - loss: 0.5534 - accuracy: 0.73 - ETA: 0s - loss: 0.5573 - accuracy: 0.72 - ETA: 0s - loss: 0.5564 - accuracy: 0.73 - ETA: 0s - loss: 0.5560 - accuracy: 0.73 - ETA: 0s - loss: 0.5570 - accuracy: 0.72 - ETA: 0s - loss: 0.5570 - accuracy: 0.72 - ETA: 0s - loss: 0.5579 - accuracy: 0.72 - ETA: 0s - loss: 0.5559 - accuracy: 0.73 - ETA: 0s - loss: 0.5546 - accuracy: 0.73 - ETA: 0s - loss: 0.5540 - accuracy: 0.73 - 1s 1ms/step - loss: 0.5546 - accuracy: 0.7309 - val_loss: 0.5585 - val_accuracy: 0.7312\n",
      "Epoch 20/20\n",
      "804/804 [==============================] - ETA: 0s - loss: 0.5429 - accuracy: 0.68 - ETA: 0s - loss: 0.5763 - accuracy: 0.69 - ETA: 0s - loss: 0.5733 - accuracy: 0.70 - ETA: 0s - loss: 0.5590 - accuracy: 0.72 - ETA: 0s - loss: 0.5613 - accuracy: 0.72 - ETA: 0s - loss: 0.5603 - accuracy: 0.72 - ETA: 0s - loss: 0.5600 - accuracy: 0.72 - ETA: 0s - loss: 0.5582 - accuracy: 0.72 - ETA: 0s - loss: 0.5564 - accuracy: 0.72 - ETA: 0s - loss: 0.5548 - accuracy: 0.72 - ETA: 0s - loss: 0.5556 - accuracy: 0.72 - ETA: 0s - loss: 0.5556 - accuracy: 0.72 - ETA: 0s - loss: 0.5542 - accuracy: 0.72 - ETA: 0s - loss: 0.5543 - accuracy: 0.73 - ETA: 0s - loss: 0.5536 - accuracy: 0.73 - 1s 1ms/step - loss: 0.5539 - accuracy: 0.7302 - val_loss: 0.5584 - val_accuracy: 0.7301\n"
     ]
    },
    {
     "data": {
      "text/html": [
       "<span style=\"color:#4527A0\"><h1 style=\"font-size:18px\">Trial complete</h1></span>"
      ],
      "text/plain": [
       "<IPython.core.display.HTML object>"
      ]
     },
     "metadata": {},
     "output_type": "display_data"
    },
    {
     "data": {
      "text/html": [
       "<span style=\"color:#4527A0\"><h1 style=\"font-size:18px\">Trial summary</h1></span>"
      ],
      "text/plain": [
       "<IPython.core.display.HTML object>"
      ]
     },
     "metadata": {},
     "output_type": "display_data"
    },
    {
     "data": {
      "text/html": [
       "<span style=\"color:cyan\"> |-Trial ID: 8c66f2c70afbb6d7615bdeeb2acccef2</span>"
      ],
      "text/plain": [
       "<IPython.core.display.HTML object>"
      ]
     },
     "metadata": {},
     "output_type": "display_data"
    },
    {
     "data": {
      "text/html": [
       "<span style=\"color:cyan\"> |-Score: 0.7313119769096375</span>"
      ],
      "text/plain": [
       "<IPython.core.display.HTML object>"
      ]
     },
     "metadata": {},
     "output_type": "display_data"
    },
    {
     "data": {
      "text/html": [
       "<span style=\"color:cyan\"> |-Best step: 0</span>"
      ],
      "text/plain": [
       "<IPython.core.display.HTML object>"
      ]
     },
     "metadata": {},
     "output_type": "display_data"
    },
    {
     "data": {
      "text/html": [
       "<span style=\"color:#7E57C2\"><h2 style=\"font-size:16px\">Hyperparameters:</h2></span>"
      ],
      "text/plain": [
       "<IPython.core.display.HTML object>"
      ]
     },
     "metadata": {},
     "output_type": "display_data"
    },
    {
     "data": {
      "text/html": [
       "<span style=\"color:cyan\"> |-activation: tanh</span>"
      ],
      "text/plain": [
       "<IPython.core.display.HTML object>"
      ]
     },
     "metadata": {},
     "output_type": "display_data"
    },
    {
     "data": {
      "text/html": [
       "<span style=\"color:blue\"> |-first_units: 9</span>"
      ],
      "text/plain": [
       "<IPython.core.display.HTML object>"
      ]
     },
     "metadata": {},
     "output_type": "display_data"
    },
    {
     "data": {
      "text/html": [
       "<span style=\"color:cyan\"> |-num_layers: 4</span>"
      ],
      "text/plain": [
       "<IPython.core.display.HTML object>"
      ]
     },
     "metadata": {},
     "output_type": "display_data"
    },
    {
     "data": {
      "text/html": [
       "<span style=\"color:blue\"> |-tuner/bracket: 1</span>"
      ],
      "text/plain": [
       "<IPython.core.display.HTML object>"
      ]
     },
     "metadata": {},
     "output_type": "display_data"
    },
    {
     "data": {
      "text/html": [
       "<span style=\"color:cyan\"> |-tuner/epochs: 20</span>"
      ],
      "text/plain": [
       "<IPython.core.display.HTML object>"
      ]
     },
     "metadata": {},
     "output_type": "display_data"
    },
    {
     "data": {
      "text/html": [
       "<span style=\"color:blue\"> |-tuner/initial_epoch: 7</span>"
      ],
      "text/plain": [
       "<IPython.core.display.HTML object>"
      ]
     },
     "metadata": {},
     "output_type": "display_data"
    },
    {
     "data": {
      "text/html": [
       "<span style=\"color:cyan\"> |-tuner/round: 1</span>"
      ],
      "text/plain": [
       "<IPython.core.display.HTML object>"
      ]
     },
     "metadata": {},
     "output_type": "display_data"
    },
    {
     "data": {
      "text/html": [
       "<span style=\"color:blue\"> |-tuner/trial_id: 8098f35bc771f1edcbd0a2ec924882cf</span>"
      ],
      "text/plain": [
       "<IPython.core.display.HTML object>"
      ]
     },
     "metadata": {},
     "output_type": "display_data"
    },
    {
     "data": {
      "text/html": [
       "<span style=\"color:cyan\"> |-units_0: 3</span>"
      ],
      "text/plain": [
       "<IPython.core.display.HTML object>"
      ]
     },
     "metadata": {},
     "output_type": "display_data"
    },
    {
     "data": {
      "text/html": [
       "<span style=\"color:blue\"> |-units_1: 7</span>"
      ],
      "text/plain": [
       "<IPython.core.display.HTML object>"
      ]
     },
     "metadata": {},
     "output_type": "display_data"
    },
    {
     "data": {
      "text/html": [
       "<span style=\"color:cyan\"> |-units_2: 7</span>"
      ],
      "text/plain": [
       "<IPython.core.display.HTML object>"
      ]
     },
     "metadata": {},
     "output_type": "display_data"
    },
    {
     "data": {
      "text/html": [
       "<span style=\"color:blue\"> |-units_3: 1</span>"
      ],
      "text/plain": [
       "<IPython.core.display.HTML object>"
      ]
     },
     "metadata": {},
     "output_type": "display_data"
    },
    {
     "data": {
      "text/html": [
       "<span style=\"color:cyan\"> |-units_4: 7</span>"
      ],
      "text/plain": [
       "<IPython.core.display.HTML object>"
      ]
     },
     "metadata": {},
     "output_type": "display_data"
    },
    {
     "data": {
      "text/html": [
       "<span style=\"color:blue\"> |-units_5: 1</span>"
      ],
      "text/plain": [
       "<IPython.core.display.HTML object>"
      ]
     },
     "metadata": {},
     "output_type": "display_data"
    },
    {
     "name": "stdout",
     "output_type": "stream",
     "text": [
      "Epoch 8/20\n",
      "804/804 [==============================] - ETA: 0s - loss: 0.6622 - accuracy: 0.68 - ETA: 0s - loss: 0.6687 - accuracy: 0.61 - ETA: 0s - loss: 0.6567 - accuracy: 0.63 - ETA: 0s - loss: 0.6524 - accuracy: 0.64 - ETA: 0s - loss: 0.6460 - accuracy: 0.64 - ETA: 0s - loss: 0.6396 - accuracy: 0.65 - ETA: 0s - loss: 0.6345 - accuracy: 0.66 - ETA: 0s - loss: 0.6285 - accuracy: 0.67 - ETA: 0s - loss: 0.6245 - accuracy: 0.67 - ETA: 0s - loss: 0.6189 - accuracy: 0.68 - ETA: 0s - loss: 0.6156 - accuracy: 0.68 - ETA: 0s - loss: 0.6131 - accuracy: 0.68 - ETA: 0s - loss: 0.6123 - accuracy: 0.69 - ETA: 0s - loss: 0.6096 - accuracy: 0.69 - 1s 1ms/step - loss: 0.6086 - accuracy: 0.6954 - val_loss: 0.5859 - val_accuracy: 0.7208\n",
      "Epoch 9/20\n",
      "804/804 [==============================] - ETA: 0s - loss: 0.5565 - accuracy: 0.75 - ETA: 0s - loss: 0.5801 - accuracy: 0.72 - ETA: 0s - loss: 0.5853 - accuracy: 0.71 - ETA: 0s - loss: 0.5807 - accuracy: 0.72 - ETA: 0s - loss: 0.5783 - accuracy: 0.72 - ETA: 0s - loss: 0.5800 - accuracy: 0.72 - ETA: 0s - loss: 0.5821 - accuracy: 0.72 - ETA: 0s - loss: 0.5831 - accuracy: 0.72 - ETA: 0s - loss: 0.5834 - accuracy: 0.72 - ETA: 0s - loss: 0.5825 - accuracy: 0.72 - ETA: 0s - loss: 0.5821 - accuracy: 0.72 - ETA: 0s - loss: 0.5815 - accuracy: 0.72 - ETA: 0s - loss: 0.5808 - accuracy: 0.72 - ETA: 0s - loss: 0.5809 - accuracy: 0.72 - ETA: 0s - loss: 0.5802 - accuracy: 0.72 - ETA: 0s - loss: 0.5799 - accuracy: 0.72 - 1s 1ms/step - loss: 0.5792 - accuracy: 0.7210 - val_loss: 0.5715 - val_accuracy: 0.7228\n",
      "Epoch 10/20\n",
      "804/804 [==============================] - ETA: 0s - loss: 0.6397 - accuracy: 0.62 - ETA: 0s - loss: 0.5686 - accuracy: 0.71 - ETA: 0s - loss: 0.5774 - accuracy: 0.71 - ETA: 0s - loss: 0.5658 - accuracy: 0.72 - ETA: 0s - loss: 0.5718 - accuracy: 0.71 - ETA: 0s - loss: 0.5734 - accuracy: 0.71 - ETA: 0s - loss: 0.5669 - accuracy: 0.72 - ETA: 0s - loss: 0.5643 - accuracy: 0.72 - ETA: 0s - loss: 0.5656 - accuracy: 0.72 - ETA: 0s - loss: 0.5675 - accuracy: 0.72 - ETA: 0s - loss: 0.5660 - accuracy: 0.72 - ETA: 0s - loss: 0.5676 - accuracy: 0.72 - ETA: 0s - loss: 0.5672 - accuracy: 0.72 - ETA: 0s - loss: 0.5665 - accuracy: 0.72 - 1s 1ms/step - loss: 0.5670 - accuracy: 0.7253 - val_loss: 0.5676 - val_accuracy: 0.7209\n",
      "Epoch 11/20\n",
      "804/804 [==============================] - ETA: 0s - loss: 0.5372 - accuracy: 0.75 - ETA: 0s - loss: 0.5758 - accuracy: 0.71 - ETA: 0s - loss: 0.5684 - accuracy: 0.72 - ETA: 0s - loss: 0.5665 - accuracy: 0.72 - ETA: 0s - loss: 0.5602 - accuracy: 0.73 - ETA: 0s - loss: 0.5611 - accuracy: 0.72 - ETA: 0s - loss: 0.5602 - accuracy: 0.73 - ETA: 0s - loss: 0.5606 - accuracy: 0.73 - ETA: 0s - loss: 0.5611 - accuracy: 0.72 - ETA: 0s - loss: 0.5624 - accuracy: 0.72 - ETA: 0s - loss: 0.5628 - accuracy: 0.72 - ETA: 0s - loss: 0.5638 - accuracy: 0.72 - ETA: 0s - loss: 0.5623 - accuracy: 0.72 - ETA: 0s - loss: 0.5630 - accuracy: 0.72 - 1s 1ms/step - loss: 0.5628 - accuracy: 0.7266 - val_loss: 0.5644 - val_accuracy: 0.7240\n",
      "Epoch 12/20\n",
      "804/804 [==============================] - ETA: 0s - loss: 0.4862 - accuracy: 0.84 - ETA: 0s - loss: 0.5764 - accuracy: 0.71 - ETA: 0s - loss: 0.5624 - accuracy: 0.72 - ETA: 0s - loss: 0.5555 - accuracy: 0.73 - ETA: 0s - loss: 0.5562 - accuracy: 0.73 - ETA: 0s - loss: 0.5603 - accuracy: 0.73 - ETA: 0s - loss: 0.5577 - accuracy: 0.73 - ETA: 0s - loss: 0.5573 - accuracy: 0.73 - ETA: 0s - loss: 0.5561 - accuracy: 0.73 - ETA: 0s - loss: 0.5583 - accuracy: 0.73 - ETA: 0s - loss: 0.5595 - accuracy: 0.73 - ETA: 0s - loss: 0.5589 - accuracy: 0.73 - ETA: 0s - loss: 0.5603 - accuracy: 0.72 - ETA: 0s - loss: 0.5602 - accuracy: 0.72 - ETA: 0s - loss: 0.5600 - accuracy: 0.72 - 1s 1ms/step - loss: 0.5602 - accuracy: 0.7295 - val_loss: 0.5644 - val_accuracy: 0.7261\n",
      "Epoch 13/20\n",
      "804/804 [==============================] - ETA: 0s - loss: 0.5485 - accuracy: 0.75 - ETA: 0s - loss: 0.5587 - accuracy: 0.73 - ETA: 0s - loss: 0.5576 - accuracy: 0.73 - ETA: 0s - loss: 0.5594 - accuracy: 0.73 - ETA: 0s - loss: 0.5582 - accuracy: 0.73 - ETA: 0s - loss: 0.5555 - accuracy: 0.73 - ETA: 0s - loss: 0.5585 - accuracy: 0.73 - ETA: 0s - loss: 0.5588 - accuracy: 0.73 - ETA: 0s - loss: 0.5598 - accuracy: 0.72 - ETA: 0s - loss: 0.5582 - accuracy: 0.73 - ETA: 0s - loss: 0.5594 - accuracy: 0.72 - ETA: 0s - loss: 0.5597 - accuracy: 0.72 - ETA: 0s - loss: 0.5591 - accuracy: 0.72 - ETA: 0s - loss: 0.5589 - accuracy: 0.72 - ETA: 0s - loss: 0.5579 - accuracy: 0.72 - ETA: 0s - loss: 0.5579 - accuracy: 0.72 - ETA: 0s - loss: 0.5584 - accuracy: 0.72 - ETA: 0s - loss: 0.5583 - accuracy: 0.72 - 1s 1ms/step - loss: 0.5583 - accuracy: 0.7290 - val_loss: 0.5615 - val_accuracy: 0.7248\n",
      "Epoch 14/20\n",
      "804/804 [==============================] - ETA: 0s - loss: 0.7732 - accuracy: 0.56 - ETA: 0s - loss: 0.5623 - accuracy: 0.72 - ETA: 0s - loss: 0.5558 - accuracy: 0.73 - ETA: 0s - loss: 0.5560 - accuracy: 0.73 - ETA: 0s - loss: 0.5556 - accuracy: 0.73 - ETA: 0s - loss: 0.5581 - accuracy: 0.72 - ETA: 0s - loss: 0.5551 - accuracy: 0.73 - ETA: 0s - loss: 0.5532 - accuracy: 0.73 - ETA: 0s - loss: 0.5561 - accuracy: 0.73 - ETA: 0s - loss: 0.5583 - accuracy: 0.72 - ETA: 0s - loss: 0.5576 - accuracy: 0.73 - ETA: 0s - loss: 0.5574 - accuracy: 0.72 - ETA: 0s - loss: 0.5570 - accuracy: 0.73 - ETA: 0s - loss: 0.5561 - accuracy: 0.73 - ETA: 0s - loss: 0.5569 - accuracy: 0.72 - 1s 1ms/step - loss: 0.5569 - accuracy: 0.7297 - val_loss: 0.5598 - val_accuracy: 0.7255\n",
      "Epoch 15/20\n",
      "804/804 [==============================] - ETA: 0s - loss: 0.6003 - accuracy: 0.81 - ETA: 1s - loss: 0.5754 - accuracy: 0.72 - ETA: 0s - loss: 0.5677 - accuracy: 0.72 - ETA: 0s - loss: 0.5633 - accuracy: 0.72 - ETA: 0s - loss: 0.5627 - accuracy: 0.72 - ETA: 0s - loss: 0.5585 - accuracy: 0.72 - ETA: 0s - loss: 0.5578 - accuracy: 0.72 - ETA: 0s - loss: 0.5543 - accuracy: 0.73 - ETA: 0s - loss: 0.5569 - accuracy: 0.72 - ETA: 0s - loss: 0.5568 - accuracy: 0.72 - ETA: 0s - loss: 0.5530 - accuracy: 0.73 - ETA: 0s - loss: 0.5539 - accuracy: 0.73 - ETA: 0s - loss: 0.5554 - accuracy: 0.72 - ETA: 0s - loss: 0.5557 - accuracy: 0.72 - ETA: 0s - loss: 0.5552 - accuracy: 0.72 - ETA: 0s - loss: 0.5553 - accuracy: 0.72 - ETA: 0s - loss: 0.5566 - accuracy: 0.72 - 1s 1ms/step - loss: 0.5563 - accuracy: 0.7293 - val_loss: 0.5586 - val_accuracy: 0.7287\n",
      "Epoch 16/20\n",
      "804/804 [==============================] - ETA: 0s - loss: 0.5315 - accuracy: 0.75 - ETA: 0s - loss: 0.5472 - accuracy: 0.74 - ETA: 0s - loss: 0.5437 - accuracy: 0.73 - ETA: 0s - loss: 0.5519 - accuracy: 0.73 - ETA: 0s - loss: 0.5575 - accuracy: 0.72 - ETA: 0s - loss: 0.5580 - accuracy: 0.72 - ETA: 0s - loss: 0.5552 - accuracy: 0.73 - ETA: 0s - loss: 0.5558 - accuracy: 0.73 - ETA: 0s - loss: 0.5567 - accuracy: 0.72 - ETA: 0s - loss: 0.5570 - accuracy: 0.72 - ETA: 0s - loss: 0.5560 - accuracy: 0.72 - ETA: 0s - loss: 0.5548 - accuracy: 0.73 - ETA: 0s - loss: 0.5562 - accuracy: 0.72 - 1s 975us/step - loss: 0.5555 - accuracy: 0.7302 - val_loss: 0.5577 - val_accuracy: 0.7283\n",
      "Epoch 17/20\n",
      "804/804 [==============================] - ETA: 0s - loss: 0.5924 - accuracy: 0.65 - ETA: 0s - loss: 0.5644 - accuracy: 0.72 - ETA: 0s - loss: 0.5556 - accuracy: 0.73 - ETA: 0s - loss: 0.5597 - accuracy: 0.72 - ETA: 0s - loss: 0.5565 - accuracy: 0.72 - ETA: 0s - loss: 0.5587 - accuracy: 0.72 - ETA: 0s - loss: 0.5592 - accuracy: 0.72 - ETA: 0s - loss: 0.5588 - accuracy: 0.72 - ETA: 0s - loss: 0.5566 - accuracy: 0.72 - ETA: 0s - loss: 0.5562 - accuracy: 0.72 - ETA: 0s - loss: 0.5556 - accuracy: 0.72 - ETA: 0s - loss: 0.5564 - accuracy: 0.72 - ETA: 0s - loss: 0.5544 - accuracy: 0.72 - ETA: 0s - loss: 0.5535 - accuracy: 0.72 - ETA: 0s - loss: 0.5539 - accuracy: 0.72 - ETA: 0s - loss: 0.5547 - accuracy: 0.72 - 1s 1ms/step - loss: 0.5546 - accuracy: 0.7290 - val_loss: 0.5575 - val_accuracy: 0.7290\n",
      "Epoch 18/20\n"
     ]
    },
    {
     "name": "stdout",
     "output_type": "stream",
     "text": [
      "804/804 [==============================] - ETA: 0s - loss: 0.5117 - accuracy: 0.78 - ETA: 0s - loss: 0.5696 - accuracy: 0.71 - ETA: 0s - loss: 0.5682 - accuracy: 0.71 - ETA: 0s - loss: 0.5648 - accuracy: 0.72 - ETA: 0s - loss: 0.5625 - accuracy: 0.72 - ETA: 0s - loss: 0.5628 - accuracy: 0.72 - ETA: 0s - loss: 0.5583 - accuracy: 0.72 - ETA: 0s - loss: 0.5583 - accuracy: 0.72 - ETA: 0s - loss: 0.5563 - accuracy: 0.72 - ETA: 0s - loss: 0.5556 - accuracy: 0.72 - ETA: 0s - loss: 0.5575 - accuracy: 0.72 - ETA: 0s - loss: 0.5573 - accuracy: 0.72 - ETA: 0s - loss: 0.5571 - accuracy: 0.72 - ETA: 0s - loss: 0.5557 - accuracy: 0.72 - 1s 1ms/step - loss: 0.5540 - accuracy: 0.7297 - val_loss: 0.5616 - val_accuracy: 0.7272\n",
      "Epoch 19/20\n",
      "804/804 [==============================] - ETA: 0s - loss: 0.5897 - accuracy: 0.75 - ETA: 0s - loss: 0.5579 - accuracy: 0.73 - ETA: 0s - loss: 0.5529 - accuracy: 0.73 - ETA: 0s - loss: 0.5510 - accuracy: 0.73 - ETA: 0s - loss: 0.5509 - accuracy: 0.73 - ETA: 0s - loss: 0.5522 - accuracy: 0.73 - ETA: 0s - loss: 0.5533 - accuracy: 0.73 - ETA: 0s - loss: 0.5542 - accuracy: 0.73 - ETA: 0s - loss: 0.5522 - accuracy: 0.73 - ETA: 0s - loss: 0.5522 - accuracy: 0.73 - ETA: 0s - loss: 0.5529 - accuracy: 0.72 - ETA: 0s - loss: 0.5520 - accuracy: 0.73 - ETA: 0s - loss: 0.5532 - accuracy: 0.73 - 1s 1ms/step - loss: 0.5534 - accuracy: 0.7299 - val_loss: 0.5581 - val_accuracy: 0.7296\n",
      "Epoch 20/20\n",
      "804/804 [==============================] - ETA: 0s - loss: 0.5203 - accuracy: 0.84 - ETA: 0s - loss: 0.5685 - accuracy: 0.71 - ETA: 0s - loss: 0.5662 - accuracy: 0.72 - ETA: 0s - loss: 0.5655 - accuracy: 0.72 - ETA: 0s - loss: 0.5605 - accuracy: 0.72 - ETA: 0s - loss: 0.5602 - accuracy: 0.72 - ETA: 0s - loss: 0.5559 - accuracy: 0.72 - ETA: 0s - loss: 0.5562 - accuracy: 0.73 - ETA: 0s - loss: 0.5558 - accuracy: 0.72 - ETA: 0s - loss: 0.5551 - accuracy: 0.73 - ETA: 0s - loss: 0.5540 - accuracy: 0.73 - ETA: 0s - loss: 0.5538 - accuracy: 0.73 - ETA: 0s - loss: 0.5538 - accuracy: 0.73 - ETA: 0s - loss: 0.5538 - accuracy: 0.73 - ETA: 0s - loss: 0.5532 - accuracy: 0.73 - 1s 1ms/step - loss: 0.5532 - accuracy: 0.7315 - val_loss: 0.5565 - val_accuracy: 0.7292\n"
     ]
    },
    {
     "data": {
      "text/html": [
       "<span style=\"color:#4527A0\"><h1 style=\"font-size:18px\">Trial complete</h1></span>"
      ],
      "text/plain": [
       "<IPython.core.display.HTML object>"
      ]
     },
     "metadata": {},
     "output_type": "display_data"
    },
    {
     "data": {
      "text/html": [
       "<span style=\"color:#4527A0\"><h1 style=\"font-size:18px\">Trial summary</h1></span>"
      ],
      "text/plain": [
       "<IPython.core.display.HTML object>"
      ]
     },
     "metadata": {},
     "output_type": "display_data"
    },
    {
     "data": {
      "text/html": [
       "<span style=\"color:cyan\"> |-Trial ID: f532a16c6d9b0e637c9f63cef0ac43f2</span>"
      ],
      "text/plain": [
       "<IPython.core.display.HTML object>"
      ]
     },
     "metadata": {},
     "output_type": "display_data"
    },
    {
     "data": {
      "text/html": [
       "<span style=\"color:cyan\"> |-Score: 0.7295626997947693</span>"
      ],
      "text/plain": [
       "<IPython.core.display.HTML object>"
      ]
     },
     "metadata": {},
     "output_type": "display_data"
    },
    {
     "data": {
      "text/html": [
       "<span style=\"color:cyan\"> |-Best step: 0</span>"
      ],
      "text/plain": [
       "<IPython.core.display.HTML object>"
      ]
     },
     "metadata": {},
     "output_type": "display_data"
    },
    {
     "data": {
      "text/html": [
       "<span style=\"color:#7E57C2\"><h2 style=\"font-size:16px\">Hyperparameters:</h2></span>"
      ],
      "text/plain": [
       "<IPython.core.display.HTML object>"
      ]
     },
     "metadata": {},
     "output_type": "display_data"
    },
    {
     "data": {
      "text/html": [
       "<span style=\"color:cyan\"> |-activation: tanh</span>"
      ],
      "text/plain": [
       "<IPython.core.display.HTML object>"
      ]
     },
     "metadata": {},
     "output_type": "display_data"
    },
    {
     "data": {
      "text/html": [
       "<span style=\"color:blue\"> |-first_units: 5</span>"
      ],
      "text/plain": [
       "<IPython.core.display.HTML object>"
      ]
     },
     "metadata": {},
     "output_type": "display_data"
    },
    {
     "data": {
      "text/html": [
       "<span style=\"color:cyan\"> |-num_layers: 6</span>"
      ],
      "text/plain": [
       "<IPython.core.display.HTML object>"
      ]
     },
     "metadata": {},
     "output_type": "display_data"
    },
    {
     "data": {
      "text/html": [
       "<span style=\"color:blue\"> |-tuner/bracket: 1</span>"
      ],
      "text/plain": [
       "<IPython.core.display.HTML object>"
      ]
     },
     "metadata": {},
     "output_type": "display_data"
    },
    {
     "data": {
      "text/html": [
       "<span style=\"color:cyan\"> |-tuner/epochs: 20</span>"
      ],
      "text/plain": [
       "<IPython.core.display.HTML object>"
      ]
     },
     "metadata": {},
     "output_type": "display_data"
    },
    {
     "data": {
      "text/html": [
       "<span style=\"color:blue\"> |-tuner/initial_epoch: 7</span>"
      ],
      "text/plain": [
       "<IPython.core.display.HTML object>"
      ]
     },
     "metadata": {},
     "output_type": "display_data"
    },
    {
     "data": {
      "text/html": [
       "<span style=\"color:cyan\"> |-tuner/round: 1</span>"
      ],
      "text/plain": [
       "<IPython.core.display.HTML object>"
      ]
     },
     "metadata": {},
     "output_type": "display_data"
    },
    {
     "data": {
      "text/html": [
       "<span style=\"color:blue\"> |-tuner/trial_id: 5381b277b9938bd4f343bd8102d69b15</span>"
      ],
      "text/plain": [
       "<IPython.core.display.HTML object>"
      ]
     },
     "metadata": {},
     "output_type": "display_data"
    },
    {
     "data": {
      "text/html": [
       "<span style=\"color:cyan\"> |-units_0: 5</span>"
      ],
      "text/plain": [
       "<IPython.core.display.HTML object>"
      ]
     },
     "metadata": {},
     "output_type": "display_data"
    },
    {
     "data": {
      "text/html": [
       "<span style=\"color:blue\"> |-units_1: 3</span>"
      ],
      "text/plain": [
       "<IPython.core.display.HTML object>"
      ]
     },
     "metadata": {},
     "output_type": "display_data"
    },
    {
     "data": {
      "text/html": [
       "<span style=\"color:cyan\"> |-units_2: 3</span>"
      ],
      "text/plain": [
       "<IPython.core.display.HTML object>"
      ]
     },
     "metadata": {},
     "output_type": "display_data"
    },
    {
     "data": {
      "text/html": [
       "<span style=\"color:blue\"> |-units_3: 7</span>"
      ],
      "text/plain": [
       "<IPython.core.display.HTML object>"
      ]
     },
     "metadata": {},
     "output_type": "display_data"
    },
    {
     "data": {
      "text/html": [
       "<span style=\"color:cyan\"> |-units_4: 7</span>"
      ],
      "text/plain": [
       "<IPython.core.display.HTML object>"
      ]
     },
     "metadata": {},
     "output_type": "display_data"
    },
    {
     "data": {
      "text/html": [
       "<span style=\"color:blue\"> |-units_5: 9</span>"
      ],
      "text/plain": [
       "<IPython.core.display.HTML object>"
      ]
     },
     "metadata": {},
     "output_type": "display_data"
    },
    {
     "name": "stdout",
     "output_type": "stream",
     "text": [
      "Epoch 1/20\n",
      "804/804 [==============================] - ETA: 0s - loss: 0.6943 - accuracy: 0.56 - ETA: 0s - loss: 0.6926 - accuracy: 0.50 - ETA: 0s - loss: 0.6903 - accuracy: 0.51 - ETA: 0s - loss: 0.6899 - accuracy: 0.51 - ETA: 0s - loss: 0.6852 - accuracy: 0.52 - ETA: 0s - loss: 0.6758 - accuracy: 0.54 - ETA: 0s - loss: 0.6649 - accuracy: 0.57 - ETA: 0s - loss: 0.6554 - accuracy: 0.59 - ETA: 0s - loss: 0.6449 - accuracy: 0.61 - ETA: 0s - loss: 0.6376 - accuracy: 0.62 - ETA: 0s - loss: 0.6308 - accuracy: 0.63 - ETA: 0s - loss: 0.6269 - accuracy: 0.64 - ETA: 0s - loss: 0.6230 - accuracy: 0.65 - ETA: 0s - loss: 0.6204 - accuracy: 0.65 - 1s 1ms/step - loss: 0.6202 - accuracy: 0.6581 - val_loss: 0.5827 - val_accuracy: 0.7096\n",
      "Epoch 2/20\n",
      "804/804 [==============================] - ETA: 0s - loss: 0.6155 - accuracy: 0.62 - ETA: 0s - loss: 0.5662 - accuracy: 0.73 - ETA: 0s - loss: 0.5613 - accuracy: 0.73 - ETA: 0s - loss: 0.5633 - accuracy: 0.73 - ETA: 0s - loss: 0.5687 - accuracy: 0.72 - ETA: 0s - loss: 0.5695 - accuracy: 0.72 - ETA: 0s - loss: 0.5752 - accuracy: 0.72 - ETA: 0s - loss: 0.5762 - accuracy: 0.72 - ETA: 0s - loss: 0.5763 - accuracy: 0.72 - ETA: 0s - loss: 0.5752 - accuracy: 0.72 - ETA: 0s - loss: 0.5748 - accuracy: 0.72 - ETA: 0s - loss: 0.5745 - accuracy: 0.72 - ETA: 0s - loss: 0.5737 - accuracy: 0.72 - ETA: 0s - loss: 0.5744 - accuracy: 0.72 - ETA: 0s - loss: 0.5731 - accuracy: 0.72 - 1s 1ms/step - loss: 0.5731 - accuracy: 0.7238 - val_loss: 0.5694 - val_accuracy: 0.7212\n",
      "Epoch 3/20\n",
      "804/804 [==============================] - ETA: 0s - loss: 0.5441 - accuracy: 0.71 - ETA: 0s - loss: 0.5663 - accuracy: 0.71 - ETA: 0s - loss: 0.5660 - accuracy: 0.72 - ETA: 0s - loss: 0.5630 - accuracy: 0.72 - ETA: 0s - loss: 0.5601 - accuracy: 0.72 - ETA: 0s - loss: 0.5578 - accuracy: 0.73 - ETA: 0s - loss: 0.5576 - accuracy: 0.73 - ETA: 0s - loss: 0.5591 - accuracy: 0.72 - ETA: 0s - loss: 0.5599 - accuracy: 0.72 - ETA: 0s - loss: 0.5608 - accuracy: 0.72 - ETA: 0s - loss: 0.5611 - accuracy: 0.72 - ETA: 0s - loss: 0.5626 - accuracy: 0.72 - ETA: 0s - loss: 0.5623 - accuracy: 0.72 - ETA: 0s - loss: 0.5632 - accuracy: 0.72 - ETA: 0s - loss: 0.5630 - accuracy: 0.72 - 1s 1ms/step - loss: 0.5626 - accuracy: 0.7276 - val_loss: 0.5627 - val_accuracy: 0.7226\n",
      "Epoch 4/20\n",
      "804/804 [==============================] - ETA: 0s - loss: 0.5869 - accuracy: 0.78 - ETA: 0s - loss: 0.5472 - accuracy: 0.74 - ETA: 0s - loss: 0.5522 - accuracy: 0.73 - ETA: 0s - loss: 0.5535 - accuracy: 0.73 - ETA: 0s - loss: 0.5577 - accuracy: 0.72 - ETA: 0s - loss: 0.5599 - accuracy: 0.72 - ETA: 0s - loss: 0.5582 - accuracy: 0.73 - ETA: 0s - loss: 0.5579 - accuracy: 0.73 - ETA: 0s - loss: 0.5590 - accuracy: 0.72 - ETA: 0s - loss: 0.5611 - accuracy: 0.72 - ETA: 0s - loss: 0.5608 - accuracy: 0.72 - ETA: 0s - loss: 0.5595 - accuracy: 0.72 - ETA: 0s - loss: 0.5587 - accuracy: 0.72 - ETA: 0s - loss: 0.5588 - accuracy: 0.72 - 1s 1ms/step - loss: 0.5584 - accuracy: 0.7290 - val_loss: 0.5612 - val_accuracy: 0.7283\n",
      "Epoch 5/20\n",
      "804/804 [==============================] - ETA: 0s - loss: 0.5942 - accuracy: 0.71 - ETA: 0s - loss: 0.5492 - accuracy: 0.73 - ETA: 0s - loss: 0.5602 - accuracy: 0.72 - ETA: 0s - loss: 0.5618 - accuracy: 0.72 - ETA: 0s - loss: 0.5614 - accuracy: 0.72 - ETA: 0s - loss: 0.5594 - accuracy: 0.72 - ETA: 0s - loss: 0.5605 - accuracy: 0.72 - ETA: 0s - loss: 0.5578 - accuracy: 0.72 - ETA: 0s - loss: 0.5562 - accuracy: 0.72 - ETA: 0s - loss: 0.5559 - accuracy: 0.72 - ETA: 0s - loss: 0.5564 - accuracy: 0.72 - ETA: 0s - loss: 0.5553 - accuracy: 0.72 - ETA: 0s - loss: 0.5551 - accuracy: 0.73 - ETA: 0s - loss: 0.5559 - accuracy: 0.72 - ETA: 0s - loss: 0.5559 - accuracy: 0.72 - 1s 1ms/step - loss: 0.5561 - accuracy: 0.7295 - val_loss: 0.5597 - val_accuracy: 0.7279\n",
      "Epoch 6/20\n",
      "804/804 [==============================] - ETA: 0s - loss: 0.5290 - accuracy: 0.71 - ETA: 0s - loss: 0.5395 - accuracy: 0.74 - ETA: 0s - loss: 0.5362 - accuracy: 0.74 - ETA: 0s - loss: 0.5414 - accuracy: 0.74 - ETA: 0s - loss: 0.5450 - accuracy: 0.73 - ETA: 0s - loss: 0.5441 - accuracy: 0.73 - ETA: 0s - loss: 0.5437 - accuracy: 0.74 - ETA: 0s - loss: 0.5447 - accuracy: 0.73 - ETA: 0s - loss: 0.5488 - accuracy: 0.73 - ETA: 0s - loss: 0.5471 - accuracy: 0.73 - ETA: 0s - loss: 0.5472 - accuracy: 0.73 - ETA: 0s - loss: 0.5487 - accuracy: 0.73 - ETA: 0s - loss: 0.5499 - accuracy: 0.73 - ETA: 0s - loss: 0.5514 - accuracy: 0.73 - ETA: 0s - loss: 0.5522 - accuracy: 0.73 - ETA: 0s - loss: 0.5533 - accuracy: 0.73 - ETA: 0s - loss: 0.5545 - accuracy: 0.73 - 1s 1ms/step - loss: 0.5545 - accuracy: 0.7303 - val_loss: 0.5582 - val_accuracy: 0.7271\n",
      "Epoch 7/20\n",
      "804/804 [==============================] - ETA: 0s - loss: 0.6334 - accuracy: 0.65 - ETA: 0s - loss: 0.5390 - accuracy: 0.73 - ETA: 0s - loss: 0.5546 - accuracy: 0.72 - ETA: 0s - loss: 0.5547 - accuracy: 0.72 - ETA: 0s - loss: 0.5488 - accuracy: 0.73 - ETA: 0s - loss: 0.5482 - accuracy: 0.73 - ETA: 0s - loss: 0.5513 - accuracy: 0.73 - ETA: 0s - loss: 0.5529 - accuracy: 0.73 - ETA: 0s - loss: 0.5533 - accuracy: 0.72 - ETA: 0s - loss: 0.5527 - accuracy: 0.72 - ETA: 0s - loss: 0.5510 - accuracy: 0.73 - ETA: 0s - loss: 0.5522 - accuracy: 0.73 - ETA: 0s - loss: 0.5528 - accuracy: 0.72 - ETA: 0s - loss: 0.5532 - accuracy: 0.72 - 1s 1ms/step - loss: 0.5529 - accuracy: 0.7297 - val_loss: 0.5579 - val_accuracy: 0.7256\n",
      "Epoch 8/20\n",
      "804/804 [==============================] - ETA: 0s - loss: 0.4372 - accuracy: 0.84 - ETA: 0s - loss: 0.5465 - accuracy: 0.73 - ETA: 0s - loss: 0.5493 - accuracy: 0.73 - ETA: 0s - loss: 0.5534 - accuracy: 0.72 - ETA: 0s - loss: 0.5504 - accuracy: 0.73 - ETA: 0s - loss: 0.5486 - accuracy: 0.73 - ETA: 0s - loss: 0.5507 - accuracy: 0.73 - ETA: 0s - loss: 0.5507 - accuracy: 0.73 - ETA: 0s - loss: 0.5505 - accuracy: 0.73 - ETA: 0s - loss: 0.5493 - accuracy: 0.73 - ETA: 0s - loss: 0.5486 - accuracy: 0.73 - ETA: 0s - loss: 0.5487 - accuracy: 0.73 - ETA: 0s - loss: 0.5500 - accuracy: 0.73 - ETA: 0s - loss: 0.5521 - accuracy: 0.72 - 1s 1ms/step - loss: 0.5521 - accuracy: 0.7296 - val_loss: 0.5575 - val_accuracy: 0.7277\n",
      "Epoch 9/20\n",
      "804/804 [==============================] - ETA: 0s - loss: 0.6264 - accuracy: 0.68 - ETA: 0s - loss: 0.5595 - accuracy: 0.72 - ETA: 0s - loss: 0.5517 - accuracy: 0.73 - ETA: 0s - loss: 0.5528 - accuracy: 0.73 - ETA: 0s - loss: 0.5489 - accuracy: 0.73 - ETA: 0s - loss: 0.5513 - accuracy: 0.73 - ETA: 0s - loss: 0.5497 - accuracy: 0.73 - ETA: 0s - loss: 0.5497 - accuracy: 0.73 - ETA: 0s - loss: 0.5506 - accuracy: 0.73 - ETA: 0s - loss: 0.5489 - accuracy: 0.73 - ETA: 0s - loss: 0.5499 - accuracy: 0.73 - ETA: 0s - loss: 0.5517 - accuracy: 0.73 - ETA: 0s - loss: 0.5530 - accuracy: 0.73 - ETA: 0s - loss: 0.5511 - accuracy: 0.73 - ETA: 0s - loss: 0.5511 - accuracy: 0.73 - 1s 1ms/step - loss: 0.5517 - accuracy: 0.7316 - val_loss: 0.5566 - val_accuracy: 0.7286\n",
      "Epoch 10/20\n",
      "804/804 [==============================] - ETA: 0s - loss: 0.6562 - accuracy: 0.65 - ETA: 0s - loss: 0.5500 - accuracy: 0.72 - ETA: 0s - loss: 0.5543 - accuracy: 0.71 - ETA: 0s - loss: 0.5582 - accuracy: 0.71 - ETA: 0s - loss: 0.5581 - accuracy: 0.72 - ETA: 0s - loss: 0.5577 - accuracy: 0.72 - ETA: 0s - loss: 0.5581 - accuracy: 0.72 - ETA: 0s - loss: 0.5558 - accuracy: 0.72 - ETA: 0s - loss: 0.5527 - accuracy: 0.72 - ETA: 0s - loss: 0.5515 - accuracy: 0.72 - ETA: 0s - loss: 0.5516 - accuracy: 0.73 - ETA: 0s - loss: 0.5517 - accuracy: 0.73 - ETA: 0s - loss: 0.5525 - accuracy: 0.73 - ETA: 0s - loss: 0.5515 - accuracy: 0.73 - ETA: 0s - loss: 0.5503 - accuracy: 0.73 - 1s 1ms/step - loss: 0.5510 - accuracy: 0.7312 - val_loss: 0.5553 - val_accuracy: 0.7289\n",
      "Epoch 11/20\n"
     ]
    },
    {
     "name": "stdout",
     "output_type": "stream",
     "text": [
      "804/804 [==============================] - ETA: 0s - loss: 0.6982 - accuracy: 0.50 - ETA: 0s - loss: 0.5386 - accuracy: 0.74 - ETA: 0s - loss: 0.5499 - accuracy: 0.73 - ETA: 0s - loss: 0.5496 - accuracy: 0.73 - ETA: 0s - loss: 0.5487 - accuracy: 0.73 - ETA: 0s - loss: 0.5473 - accuracy: 0.73 - ETA: 0s - loss: 0.5443 - accuracy: 0.73 - ETA: 0s - loss: 0.5453 - accuracy: 0.73 - ETA: 0s - loss: 0.5449 - accuracy: 0.73 - ETA: 0s - loss: 0.5473 - accuracy: 0.73 - ETA: 0s - loss: 0.5473 - accuracy: 0.73 - ETA: 0s - loss: 0.5483 - accuracy: 0.73 - ETA: 0s - loss: 0.5509 - accuracy: 0.73 - ETA: 0s - loss: 0.5502 - accuracy: 0.73 - ETA: 0s - loss: 0.5510 - accuracy: 0.73 - 1s 1ms/step - loss: 0.5505 - accuracy: 0.7316 - val_loss: 0.5561 - val_accuracy: 0.7276\n",
      "Epoch 12/20\n",
      "804/804 [==============================] - ETA: 0s - loss: 0.4962 - accuracy: 0.75 - ETA: 0s - loss: 0.5411 - accuracy: 0.73 - ETA: 0s - loss: 0.5467 - accuracy: 0.73 - ETA: 0s - loss: 0.5479 - accuracy: 0.73 - ETA: 0s - loss: 0.5496 - accuracy: 0.73 - ETA: 0s - loss: 0.5470 - accuracy: 0.73 - ETA: 0s - loss: 0.5455 - accuracy: 0.73 - ETA: 0s - loss: 0.5449 - accuracy: 0.73 - ETA: 0s - loss: 0.5454 - accuracy: 0.73 - ETA: 0s - loss: 0.5469 - accuracy: 0.73 - ETA: 0s - loss: 0.5486 - accuracy: 0.73 - ETA: 0s - loss: 0.5483 - accuracy: 0.73 - ETA: 0s - loss: 0.5502 - accuracy: 0.73 - ETA: 0s - loss: 0.5495 - accuracy: 0.73 - 1s 1ms/step - loss: 0.5496 - accuracy: 0.7322 - val_loss: 0.5550 - val_accuracy: 0.7296\n",
      "Epoch 13/20\n",
      "804/804 [==============================] - ETA: 0s - loss: 0.5716 - accuracy: 0.65 - ETA: 0s - loss: 0.5280 - accuracy: 0.74 - ETA: 0s - loss: 0.5344 - accuracy: 0.73 - ETA: 0s - loss: 0.5430 - accuracy: 0.73 - ETA: 0s - loss: 0.5432 - accuracy: 0.73 - ETA: 0s - loss: 0.5420 - accuracy: 0.73 - ETA: 0s - loss: 0.5421 - accuracy: 0.73 - ETA: 0s - loss: 0.5455 - accuracy: 0.73 - ETA: 0s - loss: 0.5458 - accuracy: 0.73 - ETA: 0s - loss: 0.5460 - accuracy: 0.73 - ETA: 0s - loss: 0.5475 - accuracy: 0.73 - ETA: 0s - loss: 0.5464 - accuracy: 0.73 - ETA: 0s - loss: 0.5467 - accuracy: 0.73 - ETA: 0s - loss: 0.5471 - accuracy: 0.73 - ETA: 0s - loss: 0.5468 - accuracy: 0.73 - ETA: 0s - loss: 0.5493 - accuracy: 0.73 - 1s 1ms/step - loss: 0.5498 - accuracy: 0.7318 - val_loss: 0.5552 - val_accuracy: 0.7303\n",
      "Epoch 14/20\n",
      "804/804 [==============================] - ETA: 0s - loss: 0.5513 - accuracy: 0.78 - ETA: 0s - loss: 0.5386 - accuracy: 0.73 - ETA: 0s - loss: 0.5480 - accuracy: 0.72 - ETA: 0s - loss: 0.5542 - accuracy: 0.72 - ETA: 0s - loss: 0.5485 - accuracy: 0.73 - ETA: 0s - loss: 0.5521 - accuracy: 0.72 - ETA: 0s - loss: 0.5493 - accuracy: 0.73 - ETA: 0s - loss: 0.5503 - accuracy: 0.73 - ETA: 0s - loss: 0.5480 - accuracy: 0.73 - ETA: 0s - loss: 0.5491 - accuracy: 0.73 - ETA: 0s - loss: 0.5488 - accuracy: 0.73 - ETA: 0s - loss: 0.5496 - accuracy: 0.73 - ETA: 0s - loss: 0.5492 - accuracy: 0.73 - ETA: 0s - loss: 0.5494 - accuracy: 0.73 - ETA: 0s - loss: 0.5501 - accuracy: 0.73 - 1s 1ms/step - loss: 0.5493 - accuracy: 0.7324 - val_loss: 0.5551 - val_accuracy: 0.7289\n",
      "Epoch 15/20\n",
      "804/804 [==============================] - ETA: 0s - loss: 0.6082 - accuracy: 0.65 - ETA: 0s - loss: 0.5455 - accuracy: 0.73 - ETA: 0s - loss: 0.5436 - accuracy: 0.73 - ETA: 0s - loss: 0.5495 - accuracy: 0.72 - ETA: 0s - loss: 0.5498 - accuracy: 0.72 - ETA: 0s - loss: 0.5501 - accuracy: 0.72 - ETA: 0s - loss: 0.5492 - accuracy: 0.72 - ETA: 0s - loss: 0.5512 - accuracy: 0.72 - ETA: 0s - loss: 0.5521 - accuracy: 0.72 - ETA: 0s - loss: 0.5529 - accuracy: 0.72 - ETA: 0s - loss: 0.5520 - accuracy: 0.72 - ETA: 0s - loss: 0.5505 - accuracy: 0.73 - ETA: 0s - loss: 0.5504 - accuracy: 0.73 - ETA: 0s - loss: 0.5488 - accuracy: 0.73 - 1s 1ms/step - loss: 0.5492 - accuracy: 0.7320 - val_loss: 0.5534 - val_accuracy: 0.7314\n",
      "Epoch 16/20\n",
      "804/804 [==============================] - ETA: 0s - loss: 0.4666 - accuracy: 0.78 - ETA: 0s - loss: 0.5515 - accuracy: 0.73 - ETA: 0s - loss: 0.5501 - accuracy: 0.73 - ETA: 0s - loss: 0.5489 - accuracy: 0.73 - ETA: 0s - loss: 0.5561 - accuracy: 0.72 - ETA: 0s - loss: 0.5531 - accuracy: 0.72 - ETA: 0s - loss: 0.5516 - accuracy: 0.72 - ETA: 0s - loss: 0.5497 - accuracy: 0.73 - ETA: 0s - loss: 0.5479 - accuracy: 0.73 - ETA: 0s - loss: 0.5500 - accuracy: 0.73 - ETA: 0s - loss: 0.5488 - accuracy: 0.73 - ETA: 0s - loss: 0.5489 - accuracy: 0.73 - ETA: 0s - loss: 0.5487 - accuracy: 0.73 - ETA: 0s - loss: 0.5497 - accuracy: 0.73 - ETA: 0s - loss: 0.5495 - accuracy: 0.73 - 1s 1ms/step - loss: 0.5486 - accuracy: 0.7311 - val_loss: 0.5543 - val_accuracy: 0.7303\n",
      "Epoch 17/20\n",
      "804/804 [==============================] - ETA: 0s - loss: 0.4033 - accuracy: 0.87 - ETA: 0s - loss: 0.5774 - accuracy: 0.70 - ETA: 0s - loss: 0.5564 - accuracy: 0.72 - ETA: 0s - loss: 0.5529 - accuracy: 0.72 - ETA: 0s - loss: 0.5491 - accuracy: 0.72 - ETA: 0s - loss: 0.5541 - accuracy: 0.72 - ETA: 0s - loss: 0.5526 - accuracy: 0.72 - ETA: 0s - loss: 0.5519 - accuracy: 0.72 - ETA: 0s - loss: 0.5510 - accuracy: 0.72 - ETA: 0s - loss: 0.5513 - accuracy: 0.72 - ETA: 0s - loss: 0.5496 - accuracy: 0.72 - ETA: 0s - loss: 0.5496 - accuracy: 0.72 - ETA: 0s - loss: 0.5490 - accuracy: 0.73 - ETA: 0s - loss: 0.5494 - accuracy: 0.72 - ETA: 0s - loss: 0.5482 - accuracy: 0.73 - 1s 1ms/step - loss: 0.5481 - accuracy: 0.7312 - val_loss: 0.5538 - val_accuracy: 0.7280\n",
      "Epoch 18/20\n",
      "804/804 [==============================] - ETA: 0s - loss: 0.5719 - accuracy: 0.68 - ETA: 0s - loss: 0.5420 - accuracy: 0.73 - ETA: 0s - loss: 0.5442 - accuracy: 0.73 - ETA: 0s - loss: 0.5489 - accuracy: 0.73 - ETA: 0s - loss: 0.5490 - accuracy: 0.73 - ETA: 0s - loss: 0.5466 - accuracy: 0.73 - ETA: 0s - loss: 0.5440 - accuracy: 0.73 - ETA: 0s - loss: 0.5455 - accuracy: 0.73 - ETA: 0s - loss: 0.5441 - accuracy: 0.73 - ETA: 0s - loss: 0.5458 - accuracy: 0.73 - ETA: 0s - loss: 0.5459 - accuracy: 0.73 - ETA: 0s - loss: 0.5471 - accuracy: 0.73 - ETA: 0s - loss: 0.5475 - accuracy: 0.73 - ETA: 0s - loss: 0.5481 - accuracy: 0.73 - ETA: 0s - loss: 0.5484 - accuracy: 0.73 - 1s 1ms/step - loss: 0.5480 - accuracy: 0.7314 - val_loss: 0.5537 - val_accuracy: 0.7300\n",
      "Epoch 19/20\n",
      "804/804 [==============================] - ETA: 0s - loss: 0.5429 - accuracy: 0.81 - ETA: 0s - loss: 0.5623 - accuracy: 0.72 - ETA: 0s - loss: 0.5518 - accuracy: 0.72 - ETA: 0s - loss: 0.5468 - accuracy: 0.73 - ETA: 0s - loss: 0.5477 - accuracy: 0.73 - ETA: 0s - loss: 0.5493 - accuracy: 0.73 - ETA: 0s - loss: 0.5473 - accuracy: 0.73 - ETA: 0s - loss: 0.5441 - accuracy: 0.73 - ETA: 0s - loss: 0.5450 - accuracy: 0.73 - ETA: 0s - loss: 0.5460 - accuracy: 0.73 - ETA: 0s - loss: 0.5484 - accuracy: 0.73 - ETA: 0s - loss: 0.5485 - accuracy: 0.73 - ETA: 0s - loss: 0.5483 - accuracy: 0.73 - 1s 969us/step - loss: 0.5479 - accuracy: 0.7317 - val_loss: 0.5541 - val_accuracy: 0.7284\n",
      "Epoch 20/20\n",
      "804/804 [==============================] - ETA: 0s - loss: 0.6184 - accuracy: 0.68 - ETA: 0s - loss: 0.5819 - accuracy: 0.69 - ETA: 0s - loss: 0.5539 - accuracy: 0.72 - ETA: 0s - loss: 0.5527 - accuracy: 0.72 - ETA: 0s - loss: 0.5511 - accuracy: 0.72 - ETA: 0s - loss: 0.5513 - accuracy: 0.72 - ETA: 0s - loss: 0.5531 - accuracy: 0.72 - ETA: 0s - loss: 0.5497 - accuracy: 0.72 - ETA: 0s - loss: 0.5466 - accuracy: 0.73 - ETA: 0s - loss: 0.5465 - accuracy: 0.73 - ETA: 0s - loss: 0.5462 - accuracy: 0.73 - ETA: 0s - loss: 0.5465 - accuracy: 0.73 - ETA: 0s - loss: 0.5463 - accuracy: 0.73 - ETA: 0s - loss: 0.5493 - accuracy: 0.72 - ETA: 0s - loss: 0.5489 - accuracy: 0.73 - 1s 1ms/step - loss: 0.5476 - accuracy: 0.7317 - val_loss: 0.5558 - val_accuracy: 0.7322\n"
     ]
    },
    {
     "data": {
      "text/html": [
       "<span style=\"color:#4527A0\"><h1 style=\"font-size:18px\">Trial complete</h1></span>"
      ],
      "text/plain": [
       "<IPython.core.display.HTML object>"
      ]
     },
     "metadata": {},
     "output_type": "display_data"
    },
    {
     "data": {
      "text/html": [
       "<span style=\"color:#4527A0\"><h1 style=\"font-size:18px\">Trial summary</h1></span>"
      ],
      "text/plain": [
       "<IPython.core.display.HTML object>"
      ]
     },
     "metadata": {},
     "output_type": "display_data"
    },
    {
     "data": {
      "text/html": [
       "<span style=\"color:cyan\"> |-Trial ID: 18665cb856b2dc353e3a8dc618cc2ea7</span>"
      ],
      "text/plain": [
       "<IPython.core.display.HTML object>"
      ]
     },
     "metadata": {},
     "output_type": "display_data"
    },
    {
     "data": {
      "text/html": [
       "<span style=\"color:cyan\"> |-Score: 0.7322449088096619</span>"
      ],
      "text/plain": [
       "<IPython.core.display.HTML object>"
      ]
     },
     "metadata": {},
     "output_type": "display_data"
    },
    {
     "data": {
      "text/html": [
       "<span style=\"color:cyan\"> |-Best step: 0</span>"
      ],
      "text/plain": [
       "<IPython.core.display.HTML object>"
      ]
     },
     "metadata": {},
     "output_type": "display_data"
    },
    {
     "data": {
      "text/html": [
       "<span style=\"color:#7E57C2\"><h2 style=\"font-size:16px\">Hyperparameters:</h2></span>"
      ],
      "text/plain": [
       "<IPython.core.display.HTML object>"
      ]
     },
     "metadata": {},
     "output_type": "display_data"
    },
    {
     "data": {
      "text/html": [
       "<span style=\"color:cyan\"> |-activation: relu</span>"
      ],
      "text/plain": [
       "<IPython.core.display.HTML object>"
      ]
     },
     "metadata": {},
     "output_type": "display_data"
    },
    {
     "data": {
      "text/html": [
       "<span style=\"color:blue\"> |-first_units: 9</span>"
      ],
      "text/plain": [
       "<IPython.core.display.HTML object>"
      ]
     },
     "metadata": {},
     "output_type": "display_data"
    },
    {
     "data": {
      "text/html": [
       "<span style=\"color:cyan\"> |-num_layers: 4</span>"
      ],
      "text/plain": [
       "<IPython.core.display.HTML object>"
      ]
     },
     "metadata": {},
     "output_type": "display_data"
    },
    {
     "data": {
      "text/html": [
       "<span style=\"color:blue\"> |-tuner/bracket: 0</span>"
      ],
      "text/plain": [
       "<IPython.core.display.HTML object>"
      ]
     },
     "metadata": {},
     "output_type": "display_data"
    },
    {
     "data": {
      "text/html": [
       "<span style=\"color:cyan\"> |-tuner/epochs: 20</span>"
      ],
      "text/plain": [
       "<IPython.core.display.HTML object>"
      ]
     },
     "metadata": {},
     "output_type": "display_data"
    },
    {
     "data": {
      "text/html": [
       "<span style=\"color:blue\"> |-tuner/initial_epoch: 0</span>"
      ],
      "text/plain": [
       "<IPython.core.display.HTML object>"
      ]
     },
     "metadata": {},
     "output_type": "display_data"
    },
    {
     "data": {
      "text/html": [
       "<span style=\"color:cyan\"> |-tuner/round: 0</span>"
      ],
      "text/plain": [
       "<IPython.core.display.HTML object>"
      ]
     },
     "metadata": {},
     "output_type": "display_data"
    },
    {
     "data": {
      "text/html": [
       "<span style=\"color:blue\"> |-units_0: 5</span>"
      ],
      "text/plain": [
       "<IPython.core.display.HTML object>"
      ]
     },
     "metadata": {},
     "output_type": "display_data"
    },
    {
     "data": {
      "text/html": [
       "<span style=\"color:cyan\"> |-units_1: 7</span>"
      ],
      "text/plain": [
       "<IPython.core.display.HTML object>"
      ]
     },
     "metadata": {},
     "output_type": "display_data"
    },
    {
     "data": {
      "text/html": [
       "<span style=\"color:blue\"> |-units_2: 7</span>"
      ],
      "text/plain": [
       "<IPython.core.display.HTML object>"
      ]
     },
     "metadata": {},
     "output_type": "display_data"
    },
    {
     "data": {
      "text/html": [
       "<span style=\"color:cyan\"> |-units_3: 9</span>"
      ],
      "text/plain": [
       "<IPython.core.display.HTML object>"
      ]
     },
     "metadata": {},
     "output_type": "display_data"
    },
    {
     "data": {
      "text/html": [
       "<span style=\"color:blue\"> |-units_4: 5</span>"
      ],
      "text/plain": [
       "<IPython.core.display.HTML object>"
      ]
     },
     "metadata": {},
     "output_type": "display_data"
    },
    {
     "data": {
      "text/html": [
       "<span style=\"color:cyan\"> |-units_5: 9</span>"
      ],
      "text/plain": [
       "<IPython.core.display.HTML object>"
      ]
     },
     "metadata": {},
     "output_type": "display_data"
    },
    {
     "name": "stdout",
     "output_type": "stream",
     "text": [
      "Epoch 1/20\n",
      "804/804 [==============================] - ETA: 0s - loss: 0.9815 - accuracy: 0.46 - ETA: 0s - loss: 0.8524 - accuracy: 0.51 - ETA: 0s - loss: 0.7981 - accuracy: 0.53 - ETA: 0s - loss: 0.7764 - accuracy: 0.53 - ETA: 0s - loss: 0.7575 - accuracy: 0.52 - ETA: 0s - loss: 0.7461 - accuracy: 0.52 - ETA: 0s - loss: 0.7366 - accuracy: 0.53 - ETA: 0s - loss: 0.7300 - accuracy: 0.53 - ETA: 0s - loss: 0.7269 - accuracy: 0.53 - ETA: 0s - loss: 0.7235 - accuracy: 0.53 - ETA: 0s - loss: 0.7203 - accuracy: 0.53 - ETA: 0s - loss: 0.7168 - accuracy: 0.53 - ETA: 0s - loss: 0.7140 - accuracy: 0.52 - ETA: 0s - loss: 0.7116 - accuracy: 0.52 - ETA: 0s - loss: 0.7093 - accuracy: 0.53 - ETA: 0s - loss: 0.7073 - accuracy: 0.53 - 1s 1ms/step - loss: 0.7059 - accuracy: 0.5318 - val_loss: 0.6833 - val_accuracy: 0.5343\n",
      "Epoch 2/20\n",
      "804/804 [==============================] - ETA: 0s - loss: 0.6965 - accuracy: 0.43 - ETA: 0s - loss: 0.6839 - accuracy: 0.52 - ETA: 0s - loss: 0.6808 - accuracy: 0.53 - ETA: 0s - loss: 0.6795 - accuracy: 0.52 - ETA: 0s - loss: 0.6761 - accuracy: 0.54 - ETA: 0s - loss: 0.6736 - accuracy: 0.54 - ETA: 0s - loss: 0.6704 - accuracy: 0.57 - ETA: 0s - loss: 0.6671 - accuracy: 0.60 - ETA: 0s - loss: 0.6635 - accuracy: 0.61 - ETA: 0s - loss: 0.6598 - accuracy: 0.62 - ETA: 0s - loss: 0.6555 - accuracy: 0.64 - ETA: 0s - loss: 0.6513 - accuracy: 0.64 - ETA: 0s - loss: 0.6482 - accuracy: 0.65 - ETA: 0s - loss: 0.6450 - accuracy: 0.66 - ETA: 0s - loss: 0.6418 - accuracy: 0.66 - ETA: 0s - loss: 0.6383 - accuracy: 0.66 - 1s 1ms/step - loss: 0.6374 - accuracy: 0.6711 - val_loss: 0.5933 - val_accuracy: 0.7244\n",
      "Epoch 3/20\n",
      "804/804 [==============================] - ETA: 0s - loss: 0.4753 - accuracy: 0.90 - ETA: 0s - loss: 0.5855 - accuracy: 0.73 - ETA: 0s - loss: 0.5972 - accuracy: 0.71 - ETA: 0s - loss: 0.5980 - accuracy: 0.71 - ETA: 0s - loss: 0.5949 - accuracy: 0.71 - ETA: 0s - loss: 0.5936 - accuracy: 0.71 - ETA: 0s - loss: 0.5910 - accuracy: 0.72 - ETA: 0s - loss: 0.5903 - accuracy: 0.72 - ETA: 0s - loss: 0.5892 - accuracy: 0.72 - ETA: 0s - loss: 0.5881 - accuracy: 0.72 - ETA: 0s - loss: 0.5872 - accuracy: 0.72 - ETA: 0s - loss: 0.5850 - accuracy: 0.72 - ETA: 0s - loss: 0.5845 - accuracy: 0.72 - ETA: 0s - loss: 0.5813 - accuracy: 0.72 - 1s 1ms/step - loss: 0.5810 - accuracy: 0.7296 - val_loss: 0.5805 - val_accuracy: 0.7279\n",
      "Epoch 4/20\n",
      "804/804 [==============================] - ETA: 0s - loss: 0.7462 - accuracy: 0.56 - ETA: 0s - loss: 0.5880 - accuracy: 0.72 - ETA: 0s - loss: 0.5930 - accuracy: 0.71 - ETA: 0s - loss: 0.5814 - accuracy: 0.72 - ETA: 0s - loss: 0.5830 - accuracy: 0.72 - ETA: 0s - loss: 0.5824 - accuracy: 0.72 - ETA: 0s - loss: 0.5804 - accuracy: 0.72 - ETA: 0s - loss: 0.5779 - accuracy: 0.73 - ETA: 0s - loss: 0.5781 - accuracy: 0.73 - ETA: 0s - loss: 0.5771 - accuracy: 0.73 - ETA: 0s - loss: 0.5763 - accuracy: 0.73 - ETA: 0s - loss: 0.5754 - accuracy: 0.73 - ETA: 0s - loss: 0.5746 - accuracy: 0.73 - ETA: 0s - loss: 0.5751 - accuracy: 0.73 - ETA: 0s - loss: 0.5769 - accuracy: 0.73 - 1s 1ms/step - loss: 0.5774 - accuracy: 0.7303 - val_loss: 0.5792 - val_accuracy: 0.7254\n",
      "Epoch 5/20\n",
      "804/804 [==============================] - ETA: 0s - loss: 0.5538 - accuracy: 0.78 - ETA: 0s - loss: 0.5818 - accuracy: 0.72 - ETA: 0s - loss: 0.5823 - accuracy: 0.72 - ETA: 0s - loss: 0.5816 - accuracy: 0.72 - ETA: 0s - loss: 0.5804 - accuracy: 0.72 - ETA: 0s - loss: 0.5768 - accuracy: 0.73 - ETA: 0s - loss: 0.5769 - accuracy: 0.73 - ETA: 0s - loss: 0.5746 - accuracy: 0.73 - ETA: 0s - loss: 0.5759 - accuracy: 0.73 - ETA: 0s - loss: 0.5764 - accuracy: 0.73 - ETA: 0s - loss: 0.5763 - accuracy: 0.73 - ETA: 0s - loss: 0.5753 - accuracy: 0.73 - ETA: 0s - loss: 0.5761 - accuracy: 0.73 - ETA: 0s - loss: 0.5764 - accuracy: 0.73 - 1s 990us/step - loss: 0.5762 - accuracy: 0.7308 - val_loss: 0.5784 - val_accuracy: 0.7276\n",
      "Epoch 6/20\n",
      "804/804 [==============================] - ETA: 0s - loss: 0.5595 - accuracy: 0.75 - ETA: 0s - loss: 0.5917 - accuracy: 0.71 - ETA: 0s - loss: 0.5872 - accuracy: 0.71 - ETA: 0s - loss: 0.5856 - accuracy: 0.71 - ETA: 0s - loss: 0.5887 - accuracy: 0.71 - ETA: 0s - loss: 0.5830 - accuracy: 0.72 - ETA: 0s - loss: 0.5803 - accuracy: 0.72 - ETA: 0s - loss: 0.5794 - accuracy: 0.72 - ETA: 0s - loss: 0.5772 - accuracy: 0.72 - ETA: 0s - loss: 0.5776 - accuracy: 0.72 - ETA: 0s - loss: 0.5788 - accuracy: 0.72 - ETA: 0s - loss: 0.5779 - accuracy: 0.72 - ETA: 0s - loss: 0.5776 - accuracy: 0.72 - ETA: 0s - loss: 0.5766 - accuracy: 0.73 - 1s 1ms/step - loss: 0.5756 - accuracy: 0.7312 - val_loss: 0.5779 - val_accuracy: 0.7256\n",
      "Epoch 7/20\n",
      "804/804 [==============================] - ETA: 0s - loss: 0.5510 - accuracy: 0.75 - ETA: 0s - loss: 0.5538 - accuracy: 0.75 - ETA: 0s - loss: 0.5611 - accuracy: 0.74 - ETA: 0s - loss: 0.5692 - accuracy: 0.73 - ETA: 0s - loss: 0.5727 - accuracy: 0.73 - ETA: 0s - loss: 0.5779 - accuracy: 0.72 - ETA: 0s - loss: 0.5764 - accuracy: 0.72 - ETA: 0s - loss: 0.5749 - accuracy: 0.73 - ETA: 0s - loss: 0.5740 - accuracy: 0.73 - ETA: 0s - loss: 0.5751 - accuracy: 0.73 - ETA: 0s - loss: 0.5755 - accuracy: 0.73 - ETA: 0s - loss: 0.5749 - accuracy: 0.73 - ETA: 0s - loss: 0.5750 - accuracy: 0.73 - 1s 968us/step - loss: 0.5751 - accuracy: 0.7311 - val_loss: 0.5771 - val_accuracy: 0.7291\n",
      "Epoch 8/20\n",
      "804/804 [==============================] - ETA: 0s - loss: 0.5968 - accuracy: 0.71 - ETA: 0s - loss: 0.5814 - accuracy: 0.72 - ETA: 0s - loss: 0.5854 - accuracy: 0.72 - ETA: 0s - loss: 0.5794 - accuracy: 0.72 - ETA: 0s - loss: 0.5809 - accuracy: 0.72 - ETA: 0s - loss: 0.5810 - accuracy: 0.72 - ETA: 0s - loss: 0.5786 - accuracy: 0.72 - ETA: 0s - loss: 0.5810 - accuracy: 0.72 - ETA: 0s - loss: 0.5803 - accuracy: 0.72 - ETA: 0s - loss: 0.5794 - accuracy: 0.72 - ETA: 0s - loss: 0.5783 - accuracy: 0.72 - ETA: 0s - loss: 0.5757 - accuracy: 0.73 - ETA: 0s - loss: 0.5745 - accuracy: 0.73 - ETA: 0s - loss: 0.5738 - accuracy: 0.73 - 1s 1ms/step - loss: 0.5747 - accuracy: 0.7311 - val_loss: 0.5764 - val_accuracy: 0.7275\n",
      "Epoch 9/20\n",
      "804/804 [==============================] - ETA: 0s - loss: 0.4087 - accuracy: 0.87 - ETA: 0s - loss: 0.5713 - accuracy: 0.73 - ETA: 0s - loss: 0.5729 - accuracy: 0.73 - ETA: 0s - loss: 0.5687 - accuracy: 0.73 - ETA: 0s - loss: 0.5676 - accuracy: 0.73 - ETA: 0s - loss: 0.5657 - accuracy: 0.74 - ETA: 0s - loss: 0.5673 - accuracy: 0.73 - ETA: 0s - loss: 0.5701 - accuracy: 0.73 - ETA: 0s - loss: 0.5696 - accuracy: 0.73 - ETA: 0s - loss: 0.5710 - accuracy: 0.73 - ETA: 0s - loss: 0.5713 - accuracy: 0.73 - ETA: 0s - loss: 0.5727 - accuracy: 0.73 - ETA: 0s - loss: 0.5728 - accuracy: 0.73 - ETA: 0s - loss: 0.5731 - accuracy: 0.73 - ETA: 0s - loss: 0.5736 - accuracy: 0.73 - ETA: 0s - loss: 0.5741 - accuracy: 0.73 - 1s 1ms/step - loss: 0.5741 - accuracy: 0.7310 - val_loss: 0.5763 - val_accuracy: 0.7263\n",
      "Epoch 10/20\n",
      "804/804 [==============================] - ETA: 0s - loss: 0.5094 - accuracy: 0.78 - ETA: 0s - loss: 0.5816 - accuracy: 0.72 - ETA: 0s - loss: 0.5710 - accuracy: 0.73 - ETA: 0s - loss: 0.5678 - accuracy: 0.73 - ETA: 0s - loss: 0.5691 - accuracy: 0.73 - ETA: 0s - loss: 0.5709 - accuracy: 0.73 - ETA: 0s - loss: 0.5708 - accuracy: 0.73 - ETA: 0s - loss: 0.5720 - accuracy: 0.73 - ETA: 0s - loss: 0.5709 - accuracy: 0.73 - ETA: 0s - loss: 0.5714 - accuracy: 0.73 - ETA: 0s - loss: 0.5717 - accuracy: 0.73 - ETA: 0s - loss: 0.5715 - accuracy: 0.73 - ETA: 0s - loss: 0.5724 - accuracy: 0.73 - 1s 979us/step - loss: 0.5736 - accuracy: 0.7318 - val_loss: 0.5753 - val_accuracy: 0.7300\n",
      "Epoch 11/20\n",
      "804/804 [==============================] - ETA: 0s - loss: 0.6210 - accuracy: 0.71 - ETA: 0s - loss: 0.5799 - accuracy: 0.72 - ETA: 0s - loss: 0.5782 - accuracy: 0.72 - ETA: 0s - loss: 0.5816 - accuracy: 0.72 - ETA: 0s - loss: 0.5810 - accuracy: 0.72 - ETA: 0s - loss: 0.5808 - accuracy: 0.72 - ETA: 0s - loss: 0.5773 - accuracy: 0.72 - ETA: 0s - loss: 0.5759 - accuracy: 0.72 - ETA: 0s - loss: 0.5769 - accuracy: 0.72 - ETA: 0s - loss: 0.5760 - accuracy: 0.72 - ETA: 0s - loss: 0.5753 - accuracy: 0.72 - ETA: 0s - loss: 0.5743 - accuracy: 0.73 - ETA: 0s - loss: 0.5738 - accuracy: 0.73 - ETA: 0s - loss: 0.5738 - accuracy: 0.73 - 1s 999us/step - loss: 0.5735 - accuracy: 0.7309 - val_loss: 0.5749 - val_accuracy: 0.7268\n"
     ]
    },
    {
     "name": "stdout",
     "output_type": "stream",
     "text": [
      "Epoch 12/20\n",
      "804/804 [==============================] - ETA: 0s - loss: 0.4927 - accuracy: 0.81 - ETA: 0s - loss: 0.5327 - accuracy: 0.77 - ETA: 0s - loss: 0.5576 - accuracy: 0.74 - ETA: 0s - loss: 0.5635 - accuracy: 0.73 - ETA: 0s - loss: 0.5642 - accuracy: 0.73 - ETA: 0s - loss: 0.5656 - accuracy: 0.73 - ETA: 0s - loss: 0.5658 - accuracy: 0.73 - ETA: 0s - loss: 0.5689 - accuracy: 0.73 - ETA: 0s - loss: 0.5703 - accuracy: 0.73 - ETA: 0s - loss: 0.5719 - accuracy: 0.73 - ETA: 0s - loss: 0.5705 - accuracy: 0.73 - ETA: 0s - loss: 0.5715 - accuracy: 0.73 - ETA: 0s - loss: 0.5725 - accuracy: 0.73 - 1s 982us/step - loss: 0.5732 - accuracy: 0.7317 - val_loss: 0.5749 - val_accuracy: 0.7293\n",
      "Epoch 13/20\n",
      "804/804 [==============================] - ETA: 0s - loss: 0.6630 - accuracy: 0.59 - ETA: 0s - loss: 0.5859 - accuracy: 0.72 - ETA: 0s - loss: 0.5826 - accuracy: 0.72 - ETA: 0s - loss: 0.5755 - accuracy: 0.72 - ETA: 0s - loss: 0.5749 - accuracy: 0.72 - ETA: 0s - loss: 0.5752 - accuracy: 0.72 - ETA: 0s - loss: 0.5725 - accuracy: 0.73 - ETA: 0s - loss: 0.5720 - accuracy: 0.73 - ETA: 0s - loss: 0.5716 - accuracy: 0.73 - ETA: 0s - loss: 0.5718 - accuracy: 0.73 - ETA: 0s - loss: 0.5728 - accuracy: 0.73 - ETA: 0s - loss: 0.5730 - accuracy: 0.73 - ETA: 0s - loss: 0.5725 - accuracy: 0.73 - ETA: 0s - loss: 0.5734 - accuracy: 0.73 - 1s 1ms/step - loss: 0.5730 - accuracy: 0.7310 - val_loss: 0.5742 - val_accuracy: 0.7284\n",
      "Epoch 14/20\n",
      "804/804 [==============================] - ETA: 0s - loss: 0.4528 - accuracy: 0.84 - ETA: 0s - loss: 0.5622 - accuracy: 0.74 - ETA: 0s - loss: 0.5653 - accuracy: 0.73 - ETA: 0s - loss: 0.5688 - accuracy: 0.73 - ETA: 0s - loss: 0.5694 - accuracy: 0.73 - ETA: 0s - loss: 0.5718 - accuracy: 0.73 - ETA: 0s - loss: 0.5698 - accuracy: 0.73 - ETA: 0s - loss: 0.5710 - accuracy: 0.73 - ETA: 0s - loss: 0.5703 - accuracy: 0.73 - ETA: 0s - loss: 0.5724 - accuracy: 0.73 - ETA: 0s - loss: 0.5735 - accuracy: 0.73 - ETA: 0s - loss: 0.5736 - accuracy: 0.73 - ETA: 0s - loss: 0.5727 - accuracy: 0.73 - 1s 971us/step - loss: 0.5728 - accuracy: 0.7310 - val_loss: 0.5744 - val_accuracy: 0.7291\n",
      "Epoch 15/20\n",
      "804/804 [==============================] - ETA: 0s - loss: 0.5648 - accuracy: 0.71 - ETA: 0s - loss: 0.5559 - accuracy: 0.74 - ETA: 0s - loss: 0.5704 - accuracy: 0.73 - ETA: 0s - loss: 0.5683 - accuracy: 0.73 - ETA: 0s - loss: 0.5720 - accuracy: 0.73 - ETA: 0s - loss: 0.5726 - accuracy: 0.73 - ETA: 0s - loss: 0.5693 - accuracy: 0.73 - ETA: 0s - loss: 0.5697 - accuracy: 0.73 - ETA: 0s - loss: 0.5704 - accuracy: 0.73 - ETA: 0s - loss: 0.5710 - accuracy: 0.73 - ETA: 0s - loss: 0.5706 - accuracy: 0.73 - ETA: 0s - loss: 0.5723 - accuracy: 0.73 - ETA: 0s - loss: 0.5732 - accuracy: 0.73 - ETA: 0s - loss: 0.5735 - accuracy: 0.73 - ETA: 0s - loss: 0.5727 - accuracy: 0.73 - 1s 1ms/step - loss: 0.5724 - accuracy: 0.7315 - val_loss: 0.5746 - val_accuracy: 0.7282\n",
      "Epoch 16/20\n",
      "804/804 [==============================] - ETA: 0s - loss: 0.5537 - accuracy: 0.78 - ETA: 0s - loss: 0.5760 - accuracy: 0.72 - ETA: 0s - loss: 0.5769 - accuracy: 0.72 - ETA: 0s - loss: 0.5730 - accuracy: 0.72 - ETA: 0s - loss: 0.5725 - accuracy: 0.72 - ETA: 0s - loss: 0.5731 - accuracy: 0.72 - ETA: 0s - loss: 0.5733 - accuracy: 0.72 - ETA: 0s - loss: 0.5746 - accuracy: 0.72 - ETA: 0s - loss: 0.5734 - accuracy: 0.72 - ETA: 0s - loss: 0.5733 - accuracy: 0.72 - ETA: 0s - loss: 0.5730 - accuracy: 0.72 - ETA: 0s - loss: 0.5722 - accuracy: 0.73 - ETA: 0s - loss: 0.5737 - accuracy: 0.72 - ETA: 0s - loss: 0.5732 - accuracy: 0.72 - ETA: 0s - loss: 0.5727 - accuracy: 0.73 - 1s 1ms/step - loss: 0.5723 - accuracy: 0.7309 - val_loss: 0.5743 - val_accuracy: 0.7264\n",
      "Epoch 17/20\n",
      "804/804 [==============================] - ETA: 0s - loss: 0.6033 - accuracy: 0.71 - ETA: 0s - loss: 0.5839 - accuracy: 0.71 - ETA: 0s - loss: 0.5766 - accuracy: 0.72 - ETA: 0s - loss: 0.5703 - accuracy: 0.73 - ETA: 0s - loss: 0.5720 - accuracy: 0.73 - ETA: 0s - loss: 0.5726 - accuracy: 0.73 - ETA: 0s - loss: 0.5713 - accuracy: 0.73 - ETA: 0s - loss: 0.5714 - accuracy: 0.73 - ETA: 0s - loss: 0.5704 - accuracy: 0.73 - ETA: 0s - loss: 0.5720 - accuracy: 0.73 - ETA: 0s - loss: 0.5728 - accuracy: 0.72 - ETA: 0s - loss: 0.5724 - accuracy: 0.73 - ETA: 0s - loss: 0.5722 - accuracy: 0.73 - 1s 945us/step - loss: 0.5719 - accuracy: 0.7310 - val_loss: 0.5741 - val_accuracy: 0.7287\n",
      "Epoch 18/20\n",
      "804/804 [==============================] - ETA: 0s - loss: 0.4989 - accuracy: 0.81 - ETA: 0s - loss: 0.5885 - accuracy: 0.71 - ETA: 0s - loss: 0.5848 - accuracy: 0.71 - ETA: 0s - loss: 0.5781 - accuracy: 0.72 - ETA: 0s - loss: 0.5754 - accuracy: 0.72 - ETA: 0s - loss: 0.5725 - accuracy: 0.73 - ETA: 0s - loss: 0.5721 - accuracy: 0.73 - ETA: 0s - loss: 0.5745 - accuracy: 0.72 - ETA: 0s - loss: 0.5726 - accuracy: 0.73 - ETA: 0s - loss: 0.5728 - accuracy: 0.73 - ETA: 0s - loss: 0.5719 - accuracy: 0.73 - ETA: 0s - loss: 0.5729 - accuracy: 0.72 - ETA: 0s - loss: 0.5721 - accuracy: 0.73 - ETA: 0s - loss: 0.5725 - accuracy: 0.73 - 1s 1ms/step - loss: 0.5717 - accuracy: 0.7320 - val_loss: 0.5739 - val_accuracy: 0.7283\n",
      "Epoch 19/20\n",
      "804/804 [==============================] - ETA: 0s - loss: 0.4942 - accuracy: 0.84 - ETA: 0s - loss: 0.5608 - accuracy: 0.74 - ETA: 0s - loss: 0.5658 - accuracy: 0.73 - ETA: 0s - loss: 0.5712 - accuracy: 0.73 - ETA: 0s - loss: 0.5695 - accuracy: 0.73 - ETA: 0s - loss: 0.5728 - accuracy: 0.72 - ETA: 0s - loss: 0.5705 - accuracy: 0.73 - ETA: 0s - loss: 0.5695 - accuracy: 0.73 - ETA: 0s - loss: 0.5702 - accuracy: 0.73 - ETA: 0s - loss: 0.5707 - accuracy: 0.73 - ETA: 0s - loss: 0.5713 - accuracy: 0.73 - ETA: 0s - loss: 0.5712 - accuracy: 0.73 - ETA: 0s - loss: 0.5723 - accuracy: 0.73 - ETA: 0s - loss: 0.5724 - accuracy: 0.73 - ETA: 0s - loss: 0.5713 - accuracy: 0.73 - 1s 1ms/step - loss: 0.5716 - accuracy: 0.7315 - val_loss: 0.5736 - val_accuracy: 0.7291\n",
      "Epoch 20/20\n",
      "804/804 [==============================] - ETA: 0s - loss: 0.6621 - accuracy: 0.65 - ETA: 0s - loss: 0.5670 - accuracy: 0.73 - ETA: 0s - loss: 0.5719 - accuracy: 0.73 - ETA: 0s - loss: 0.5713 - accuracy: 0.73 - ETA: 0s - loss: 0.5721 - accuracy: 0.73 - ETA: 0s - loss: 0.5739 - accuracy: 0.72 - ETA: 0s - loss: 0.5767 - accuracy: 0.72 - ETA: 0s - loss: 0.5742 - accuracy: 0.72 - ETA: 0s - loss: 0.5714 - accuracy: 0.73 - ETA: 0s - loss: 0.5703 - accuracy: 0.73 - ETA: 0s - loss: 0.5706 - accuracy: 0.73 - ETA: 0s - loss: 0.5700 - accuracy: 0.73 - ETA: 0s - loss: 0.5710 - accuracy: 0.73 - 1s 932us/step - loss: 0.5713 - accuracy: 0.7319 - val_loss: 0.5734 - val_accuracy: 0.7287\n"
     ]
    },
    {
     "data": {
      "text/html": [
       "<span style=\"color:#4527A0\"><h1 style=\"font-size:18px\">Trial complete</h1></span>"
      ],
      "text/plain": [
       "<IPython.core.display.HTML object>"
      ]
     },
     "metadata": {},
     "output_type": "display_data"
    },
    {
     "data": {
      "text/html": [
       "<span style=\"color:#4527A0\"><h1 style=\"font-size:18px\">Trial summary</h1></span>"
      ],
      "text/plain": [
       "<IPython.core.display.HTML object>"
      ]
     },
     "metadata": {},
     "output_type": "display_data"
    },
    {
     "data": {
      "text/html": [
       "<span style=\"color:cyan\"> |-Trial ID: d532daa8833444cc2b85487ee21e1dc9</span>"
      ],
      "text/plain": [
       "<IPython.core.display.HTML object>"
      ]
     },
     "metadata": {},
     "output_type": "display_data"
    },
    {
     "data": {
      "text/html": [
       "<span style=\"color:cyan\"> |-Score: 0.7300291657447815</span>"
      ],
      "text/plain": [
       "<IPython.core.display.HTML object>"
      ]
     },
     "metadata": {},
     "output_type": "display_data"
    },
    {
     "data": {
      "text/html": [
       "<span style=\"color:cyan\"> |-Best step: 0</span>"
      ],
      "text/plain": [
       "<IPython.core.display.HTML object>"
      ]
     },
     "metadata": {},
     "output_type": "display_data"
    },
    {
     "data": {
      "text/html": [
       "<span style=\"color:#7E57C2\"><h2 style=\"font-size:16px\">Hyperparameters:</h2></span>"
      ],
      "text/plain": [
       "<IPython.core.display.HTML object>"
      ]
     },
     "metadata": {},
     "output_type": "display_data"
    },
    {
     "data": {
      "text/html": [
       "<span style=\"color:cyan\"> |-activation: sigmoid</span>"
      ],
      "text/plain": [
       "<IPython.core.display.HTML object>"
      ]
     },
     "metadata": {},
     "output_type": "display_data"
    },
    {
     "data": {
      "text/html": [
       "<span style=\"color:blue\"> |-first_units: 7</span>"
      ],
      "text/plain": [
       "<IPython.core.display.HTML object>"
      ]
     },
     "metadata": {},
     "output_type": "display_data"
    },
    {
     "data": {
      "text/html": [
       "<span style=\"color:cyan\"> |-num_layers: 4</span>"
      ],
      "text/plain": [
       "<IPython.core.display.HTML object>"
      ]
     },
     "metadata": {},
     "output_type": "display_data"
    },
    {
     "data": {
      "text/html": [
       "<span style=\"color:blue\"> |-tuner/bracket: 0</span>"
      ],
      "text/plain": [
       "<IPython.core.display.HTML object>"
      ]
     },
     "metadata": {},
     "output_type": "display_data"
    },
    {
     "data": {
      "text/html": [
       "<span style=\"color:cyan\"> |-tuner/epochs: 20</span>"
      ],
      "text/plain": [
       "<IPython.core.display.HTML object>"
      ]
     },
     "metadata": {},
     "output_type": "display_data"
    },
    {
     "data": {
      "text/html": [
       "<span style=\"color:blue\"> |-tuner/initial_epoch: 0</span>"
      ],
      "text/plain": [
       "<IPython.core.display.HTML object>"
      ]
     },
     "metadata": {},
     "output_type": "display_data"
    },
    {
     "data": {
      "text/html": [
       "<span style=\"color:cyan\"> |-tuner/round: 0</span>"
      ],
      "text/plain": [
       "<IPython.core.display.HTML object>"
      ]
     },
     "metadata": {},
     "output_type": "display_data"
    },
    {
     "data": {
      "text/html": [
       "<span style=\"color:blue\"> |-units_0: 5</span>"
      ],
      "text/plain": [
       "<IPython.core.display.HTML object>"
      ]
     },
     "metadata": {},
     "output_type": "display_data"
    },
    {
     "data": {
      "text/html": [
       "<span style=\"color:cyan\"> |-units_1: 5</span>"
      ],
      "text/plain": [
       "<IPython.core.display.HTML object>"
      ]
     },
     "metadata": {},
     "output_type": "display_data"
    },
    {
     "data": {
      "text/html": [
       "<span style=\"color:blue\"> |-units_2: 3</span>"
      ],
      "text/plain": [
       "<IPython.core.display.HTML object>"
      ]
     },
     "metadata": {},
     "output_type": "display_data"
    },
    {
     "data": {
      "text/html": [
       "<span style=\"color:cyan\"> |-units_3: 9</span>"
      ],
      "text/plain": [
       "<IPython.core.display.HTML object>"
      ]
     },
     "metadata": {},
     "output_type": "display_data"
    },
    {
     "data": {
      "text/html": [
       "<span style=\"color:blue\"> |-units_4: 7</span>"
      ],
      "text/plain": [
       "<IPython.core.display.HTML object>"
      ]
     },
     "metadata": {},
     "output_type": "display_data"
    },
    {
     "data": {
      "text/html": [
       "<span style=\"color:cyan\"> |-units_5: 3</span>"
      ],
      "text/plain": [
       "<IPython.core.display.HTML object>"
      ]
     },
     "metadata": {},
     "output_type": "display_data"
    },
    {
     "name": "stdout",
     "output_type": "stream",
     "text": [
      "Epoch 1/20\n",
      "804/804 [==============================] - ETA: 0s - loss: 0.7549 - accuracy: 0.37 - ETA: 0s - loss: 0.6996 - accuracy: 0.48 - ETA: 0s - loss: 0.6942 - accuracy: 0.52 - ETA: 0s - loss: 0.6917 - accuracy: 0.52 - ETA: 0s - loss: 0.6898 - accuracy: 0.52 - ETA: 0s - loss: 0.6873 - accuracy: 0.52 - ETA: 0s - loss: 0.6856 - accuracy: 0.53 - ETA: 0s - loss: 0.6838 - accuracy: 0.53 - ETA: 0s - loss: 0.6815 - accuracy: 0.55 - ETA: 0s - loss: 0.6786 - accuracy: 0.57 - ETA: 0s - loss: 0.6751 - accuracy: 0.58 - ETA: 0s - loss: 0.6713 - accuracy: 0.59 - 1s 1ms/step - loss: 0.6696 - accuracy: 0.6037 - val_loss: 0.6250 - val_accuracy: 0.7259\n",
      "Epoch 2/20\n",
      "804/804 [==============================] - ETA: 0s - loss: 0.6184 - accuracy: 0.78 - ETA: 0s - loss: 0.6218 - accuracy: 0.72 - ETA: 0s - loss: 0.6187 - accuracy: 0.72 - ETA: 0s - loss: 0.6147 - accuracy: 0.72 - ETA: 0s - loss: 0.6125 - accuracy: 0.72 - ETA: 0s - loss: 0.6091 - accuracy: 0.72 - ETA: 0s - loss: 0.6075 - accuracy: 0.72 - ETA: 0s - loss: 0.6059 - accuracy: 0.72 - ETA: 0s - loss: 0.6037 - accuracy: 0.72 - ETA: 0s - loss: 0.6010 - accuracy: 0.72 - ETA: 0s - loss: 0.5989 - accuracy: 0.72 - ETA: 0s - loss: 0.5962 - accuracy: 0.72 - ETA: 0s - loss: 0.5950 - accuracy: 0.72 - ETA: 0s - loss: 0.5915 - accuracy: 0.72 - 1s 1ms/step - loss: 0.5916 - accuracy: 0.7256 - val_loss: 0.5776 - val_accuracy: 0.7289\n",
      "Epoch 3/20\n",
      "804/804 [==============================] - ETA: 0s - loss: 0.4608 - accuracy: 0.84 - ETA: 0s - loss: 0.5738 - accuracy: 0.73 - ETA: 0s - loss: 0.5765 - accuracy: 0.72 - ETA: 0s - loss: 0.5755 - accuracy: 0.72 - ETA: 0s - loss: 0.5739 - accuracy: 0.72 - ETA: 0s - loss: 0.5780 - accuracy: 0.72 - ETA: 0s - loss: 0.5751 - accuracy: 0.73 - ETA: 0s - loss: 0.5745 - accuracy: 0.73 - ETA: 0s - loss: 0.5758 - accuracy: 0.72 - ETA: 0s - loss: 0.5747 - accuracy: 0.73 - ETA: 0s - loss: 0.5758 - accuracy: 0.72 - ETA: 0s - loss: 0.5763 - accuracy: 0.72 - 1s 866us/step - loss: 0.5755 - accuracy: 0.7296 - val_loss: 0.5748 - val_accuracy: 0.7266\n",
      "Epoch 4/20\n",
      "804/804 [==============================] - ETA: 0s - loss: 0.5193 - accuracy: 0.78 - ETA: 0s - loss: 0.5671 - accuracy: 0.73 - ETA: 0s - loss: 0.5746 - accuracy: 0.72 - ETA: 0s - loss: 0.5748 - accuracy: 0.72 - ETA: 0s - loss: 0.5777 - accuracy: 0.72 - ETA: 0s - loss: 0.5757 - accuracy: 0.72 - ETA: 0s - loss: 0.5750 - accuracy: 0.72 - ETA: 0s - loss: 0.5746 - accuracy: 0.72 - ETA: 0s - loss: 0.5737 - accuracy: 0.72 - ETA: 0s - loss: 0.5737 - accuracy: 0.72 - ETA: 0s - loss: 0.5738 - accuracy: 0.72 - 1s 846us/step - loss: 0.5736 - accuracy: 0.7298 - val_loss: 0.5744 - val_accuracy: 0.7271\n",
      "Epoch 5/20\n",
      "804/804 [==============================] - ETA: 0s - loss: 0.5583 - accuracy: 0.71 - ETA: 0s - loss: 0.5651 - accuracy: 0.73 - ETA: 0s - loss: 0.5681 - accuracy: 0.73 - ETA: 0s - loss: 0.5688 - accuracy: 0.73 - ETA: 0s - loss: 0.5710 - accuracy: 0.73 - ETA: 0s - loss: 0.5707 - accuracy: 0.73 - ETA: 0s - loss: 0.5701 - accuracy: 0.73 - ETA: 0s - loss: 0.5717 - accuracy: 0.73 - ETA: 0s - loss: 0.5708 - accuracy: 0.73 - ETA: 0s - loss: 0.5730 - accuracy: 0.73 - ETA: 0s - loss: 0.5716 - accuracy: 0.73 - ETA: 0s - loss: 0.5725 - accuracy: 0.73 - ETA: 0s - loss: 0.5730 - accuracy: 0.73 - 1s 934us/step - loss: 0.5729 - accuracy: 0.7306 - val_loss: 0.5736 - val_accuracy: 0.7265\n",
      "Epoch 6/20\n",
      "804/804 [==============================] - ETA: 0s - loss: 0.5480 - accuracy: 0.68 - ETA: 0s - loss: 0.5586 - accuracy: 0.74 - ETA: 0s - loss: 0.5646 - accuracy: 0.73 - ETA: 0s - loss: 0.5650 - accuracy: 0.73 - ETA: 0s - loss: 0.5673 - accuracy: 0.73 - ETA: 0s - loss: 0.5679 - accuracy: 0.73 - ETA: 0s - loss: 0.5703 - accuracy: 0.73 - ETA: 0s - loss: 0.5709 - accuracy: 0.73 - ETA: 0s - loss: 0.5699 - accuracy: 0.73 - ETA: 0s - loss: 0.5715 - accuracy: 0.73 - ETA: 0s - loss: 0.5732 - accuracy: 0.72 - ETA: 0s - loss: 0.5721 - accuracy: 0.73 - 1s 894us/step - loss: 0.5722 - accuracy: 0.7303 - val_loss: 0.5734 - val_accuracy: 0.7271\n",
      "Epoch 7/20\n",
      "804/804 [==============================] - ETA: 0s - loss: 0.7347 - accuracy: 0.59 - ETA: 0s - loss: 0.5573 - accuracy: 0.74 - ETA: 0s - loss: 0.5626 - accuracy: 0.74 - ETA: 0s - loss: 0.5728 - accuracy: 0.73 - ETA: 0s - loss: 0.5695 - accuracy: 0.73 - ETA: 0s - loss: 0.5703 - accuracy: 0.73 - ETA: 0s - loss: 0.5709 - accuracy: 0.73 - ETA: 0s - loss: 0.5706 - accuracy: 0.73 - ETA: 0s - loss: 0.5698 - accuracy: 0.73 - ETA: 0s - loss: 0.5685 - accuracy: 0.73 - ETA: 0s - loss: 0.5705 - accuracy: 0.73 - ETA: 0s - loss: 0.5712 - accuracy: 0.73 - 1s 893us/step - loss: 0.5719 - accuracy: 0.7308 - val_loss: 0.5730 - val_accuracy: 0.7272\n",
      "Epoch 8/20\n",
      "804/804 [==============================] - ETA: 0s - loss: 0.6781 - accuracy: 0.62 - ETA: 0s - loss: 0.5601 - accuracy: 0.74 - ETA: 0s - loss: 0.5629 - accuracy: 0.74 - ETA: 0s - loss: 0.5664 - accuracy: 0.73 - ETA: 0s - loss: 0.5693 - accuracy: 0.73 - ETA: 0s - loss: 0.5682 - accuracy: 0.73 - ETA: 0s - loss: 0.5676 - accuracy: 0.73 - ETA: 0s - loss: 0.5689 - accuracy: 0.73 - ETA: 0s - loss: 0.5716 - accuracy: 0.73 - ETA: 0s - loss: 0.5725 - accuracy: 0.73 - ETA: 0s - loss: 0.5710 - accuracy: 0.73 - ETA: 0s - loss: 0.5715 - accuracy: 0.73 - 1s 893us/step - loss: 0.5715 - accuracy: 0.7315 - val_loss: 0.5738 - val_accuracy: 0.7255\n",
      "Epoch 9/20\n",
      "804/804 [==============================] - ETA: 0s - loss: 0.4084 - accuracy: 0.90 - ETA: 0s - loss: 0.5728 - accuracy: 0.72 - ETA: 0s - loss: 0.5798 - accuracy: 0.72 - ETA: 0s - loss: 0.5822 - accuracy: 0.71 - ETA: 0s - loss: 0.5775 - accuracy: 0.72 - ETA: 0s - loss: 0.5764 - accuracy: 0.72 - ETA: 0s - loss: 0.5747 - accuracy: 0.72 - ETA: 0s - loss: 0.5734 - accuracy: 0.73 - ETA: 0s - loss: 0.5715 - accuracy: 0.73 - ETA: 0s - loss: 0.5701 - accuracy: 0.73 - ETA: 0s - loss: 0.5709 - accuracy: 0.73 - ETA: 0s - loss: 0.5706 - accuracy: 0.73 - ETA: 0s - loss: 0.5711 - accuracy: 0.73 - 1s 936us/step - loss: 0.5713 - accuracy: 0.7311 - val_loss: 0.5727 - val_accuracy: 0.7270\n",
      "Epoch 10/20\n",
      "804/804 [==============================] - ETA: 0s - loss: 0.4695 - accuracy: 0.84 - ETA: 0s - loss: 0.5672 - accuracy: 0.73 - ETA: 0s - loss: 0.5717 - accuracy: 0.72 - ETA: 0s - loss: 0.5751 - accuracy: 0.72 - ETA: 0s - loss: 0.5747 - accuracy: 0.72 - ETA: 0s - loss: 0.5716 - accuracy: 0.73 - ETA: 0s - loss: 0.5735 - accuracy: 0.72 - ETA: 0s - loss: 0.5721 - accuracy: 0.73 - ETA: 0s - loss: 0.5728 - accuracy: 0.72 - ETA: 0s - loss: 0.5719 - accuracy: 0.73 - ETA: 0s - loss: 0.5727 - accuracy: 0.72 - ETA: 0s - loss: 0.5730 - accuracy: 0.72 - ETA: 0s - loss: 0.5713 - accuracy: 0.73 - 1s 985us/step - loss: 0.5710 - accuracy: 0.7310 - val_loss: 0.5726 - val_accuracy: 0.7296\n",
      "Epoch 11/20\n",
      "804/804 [==============================] - ETA: 0s - loss: 0.6215 - accuracy: 0.65 - ETA: 0s - loss: 0.5623 - accuracy: 0.73 - ETA: 0s - loss: 0.5703 - accuracy: 0.73 - ETA: 0s - loss: 0.5694 - accuracy: 0.73 - ETA: 0s - loss: 0.5707 - accuracy: 0.73 - ETA: 0s - loss: 0.5670 - accuracy: 0.73 - ETA: 0s - loss: 0.5659 - accuracy: 0.73 - ETA: 0s - loss: 0.5673 - accuracy: 0.73 - ETA: 0s - loss: 0.5669 - accuracy: 0.73 - ETA: 0s - loss: 0.5673 - accuracy: 0.73 - ETA: 0s - loss: 0.5702 - accuracy: 0.73 - ETA: 0s - loss: 0.5720 - accuracy: 0.72 - ETA: 0s - loss: 0.5701 - accuracy: 0.73 - 1s 979us/step - loss: 0.5707 - accuracy: 0.7306 - val_loss: 0.5720 - val_accuracy: 0.7273\n",
      "Epoch 12/20\n",
      "804/804 [==============================] - ETA: 0s - loss: 0.5855 - accuracy: 0.75 - ETA: 0s - loss: 0.5650 - accuracy: 0.73 - ETA: 0s - loss: 0.5645 - accuracy: 0.73 - ETA: 0s - loss: 0.5660 - accuracy: 0.73 - ETA: 0s - loss: 0.5704 - accuracy: 0.72 - ETA: 0s - loss: 0.5718 - accuracy: 0.72 - ETA: 0s - loss: 0.5706 - accuracy: 0.72 - ETA: 0s - loss: 0.5678 - accuracy: 0.73 - ETA: 0s - loss: 0.5691 - accuracy: 0.73 - ETA: 0s - loss: 0.5676 - accuracy: 0.73 - ETA: 0s - loss: 0.5669 - accuracy: 0.73 - ETA: 0s - loss: 0.5683 - accuracy: 0.73 - ETA: 0s - loss: 0.5692 - accuracy: 0.73 - ETA: 0s - loss: 0.5686 - accuracy: 0.73 - ETA: 0s - loss: 0.5704 - accuracy: 0.73 - 1s 1ms/step - loss: 0.5701 - accuracy: 0.7310 - val_loss: 0.5717 - val_accuracy: 0.7254\n",
      "Epoch 13/20\n"
     ]
    },
    {
     "name": "stdout",
     "output_type": "stream",
     "text": [
      "804/804 [==============================] - ETA: 0s - loss: 0.4567 - accuracy: 0.84 - ETA: 0s - loss: 0.5682 - accuracy: 0.73 - ETA: 0s - loss: 0.5609 - accuracy: 0.74 - ETA: 0s - loss: 0.5608 - accuracy: 0.73 - ETA: 0s - loss: 0.5656 - accuracy: 0.73 - ETA: 0s - loss: 0.5661 - accuracy: 0.73 - ETA: 0s - loss: 0.5677 - accuracy: 0.73 - ETA: 0s - loss: 0.5680 - accuracy: 0.73 - ETA: 0s - loss: 0.5703 - accuracy: 0.73 - ETA: 0s - loss: 0.5691 - accuracy: 0.73 - ETA: 0s - loss: 0.5688 - accuracy: 0.73 - 1s 818us/step - loss: 0.5690 - accuracy: 0.7315 - val_loss: 0.5703 - val_accuracy: 0.7254\n",
      "Epoch 14/20\n",
      "804/804 [==============================] - ETA: 0s - loss: 0.6877 - accuracy: 0.65 - ETA: 0s - loss: 0.5671 - accuracy: 0.73 - ETA: 0s - loss: 0.5620 - accuracy: 0.73 - ETA: 0s - loss: 0.5617 - accuracy: 0.73 - ETA: 0s - loss: 0.5653 - accuracy: 0.73 - ETA: 0s - loss: 0.5639 - accuracy: 0.73 - ETA: 0s - loss: 0.5655 - accuracy: 0.73 - ETA: 0s - loss: 0.5677 - accuracy: 0.73 - ETA: 0s - loss: 0.5675 - accuracy: 0.73 - ETA: 0s - loss: 0.5687 - accuracy: 0.73 - ETA: 0s - loss: 0.5694 - accuracy: 0.72 - ETA: 0s - loss: 0.5687 - accuracy: 0.72 - 1s 932us/step - loss: 0.5673 - accuracy: 0.7309 - val_loss: 0.5680 - val_accuracy: 0.7298\n",
      "Epoch 15/20\n",
      "804/804 [==============================] - ETA: 0s - loss: 0.5577 - accuracy: 0.78 - ETA: 0s - loss: 0.5756 - accuracy: 0.72 - ETA: 0s - loss: 0.5604 - accuracy: 0.73 - ETA: 0s - loss: 0.5626 - accuracy: 0.73 - ETA: 0s - loss: 0.5641 - accuracy: 0.73 - ETA: 0s - loss: 0.5639 - accuracy: 0.73 - ETA: 0s - loss: 0.5643 - accuracy: 0.73 - ETA: 0s - loss: 0.5664 - accuracy: 0.73 - ETA: 0s - loss: 0.5652 - accuracy: 0.73 - ETA: 0s - loss: 0.5666 - accuracy: 0.73 - ETA: 0s - loss: 0.5665 - accuracy: 0.73 - ETA: 0s - loss: 0.5650 - accuracy: 0.73 - 1s 953us/step - loss: 0.5652 - accuracy: 0.7313 - val_loss: 0.5662 - val_accuracy: 0.7311\n",
      "Epoch 16/20\n",
      "804/804 [==============================] - ETA: 0s - loss: 0.5752 - accuracy: 0.68 - ETA: 0s - loss: 0.5481 - accuracy: 0.74 - ETA: 0s - loss: 0.5596 - accuracy: 0.73 - ETA: 0s - loss: 0.5630 - accuracy: 0.73 - ETA: 0s - loss: 0.5638 - accuracy: 0.72 - ETA: 0s - loss: 0.5602 - accuracy: 0.73 - ETA: 0s - loss: 0.5599 - accuracy: 0.73 - ETA: 0s - loss: 0.5622 - accuracy: 0.73 - ETA: 0s - loss: 0.5629 - accuracy: 0.73 - ETA: 0s - loss: 0.5615 - accuracy: 0.73 - ETA: 0s - loss: 0.5634 - accuracy: 0.73 - ETA: 0s - loss: 0.5636 - accuracy: 0.73 - 1s 871us/step - loss: 0.5632 - accuracy: 0.7312 - val_loss: 0.5647 - val_accuracy: 0.7310\n",
      "Epoch 17/20\n",
      "804/804 [==============================] - ETA: 0s - loss: 0.5317 - accuracy: 0.75 - ETA: 0s - loss: 0.5643 - accuracy: 0.72 - ETA: 0s - loss: 0.5619 - accuracy: 0.73 - ETA: 0s - loss: 0.5577 - accuracy: 0.73 - ETA: 0s - loss: 0.5631 - accuracy: 0.73 - ETA: 0s - loss: 0.5621 - accuracy: 0.73 - ETA: 0s - loss: 0.5634 - accuracy: 0.73 - ETA: 0s - loss: 0.5643 - accuracy: 0.73 - ETA: 0s - loss: 0.5640 - accuracy: 0.73 - ETA: 0s - loss: 0.5641 - accuracy: 0.72 - ETA: 0s - loss: 0.5627 - accuracy: 0.73 - 1s 892us/step - loss: 0.5616 - accuracy: 0.7317 - val_loss: 0.5635 - val_accuracy: 0.7313\n",
      "Epoch 18/20\n",
      "804/804 [==============================] - ETA: 0s - loss: 0.6452 - accuracy: 0.65 - ETA: 0s - loss: 0.5802 - accuracy: 0.71 - ETA: 0s - loss: 0.5757 - accuracy: 0.72 - ETA: 0s - loss: 0.5727 - accuracy: 0.72 - ETA: 0s - loss: 0.5687 - accuracy: 0.72 - ETA: 0s - loss: 0.5652 - accuracy: 0.72 - ETA: 0s - loss: 0.5644 - accuracy: 0.72 - ETA: 0s - loss: 0.5648 - accuracy: 0.72 - ETA: 0s - loss: 0.5638 - accuracy: 0.72 - ETA: 0s - loss: 0.5633 - accuracy: 0.72 - ETA: 0s - loss: 0.5618 - accuracy: 0.73 - ETA: 0s - loss: 0.5600 - accuracy: 0.73 - 1s 897us/step - loss: 0.5601 - accuracy: 0.7317 - val_loss: 0.5627 - val_accuracy: 0.7311\n",
      "Epoch 19/20\n",
      "804/804 [==============================] - ETA: 0s - loss: 0.4933 - accuracy: 0.78 - ETA: 0s - loss: 0.5580 - accuracy: 0.73 - ETA: 0s - loss: 0.5535 - accuracy: 0.73 - ETA: 0s - loss: 0.5560 - accuracy: 0.73 - ETA: 0s - loss: 0.5542 - accuracy: 0.73 - ETA: 0s - loss: 0.5593 - accuracy: 0.73 - ETA: 0s - loss: 0.5569 - accuracy: 0.73 - ETA: 0s - loss: 0.5557 - accuracy: 0.73 - ETA: 0s - loss: 0.5566 - accuracy: 0.73 - ETA: 0s - loss: 0.5582 - accuracy: 0.73 - ETA: 0s - loss: 0.5585 - accuracy: 0.73 - ETA: 0s - loss: 0.5571 - accuracy: 0.73 - ETA: 0s - loss: 0.5588 - accuracy: 0.73 - 1s 938us/step - loss: 0.5591 - accuracy: 0.7312 - val_loss: 0.5617 - val_accuracy: 0.7310\n",
      "Epoch 20/20\n",
      "804/804 [==============================] - ETA: 0s - loss: 0.4626 - accuracy: 0.87 - ETA: 0s - loss: 0.5579 - accuracy: 0.73 - ETA: 0s - loss: 0.5547 - accuracy: 0.73 - ETA: 0s - loss: 0.5582 - accuracy: 0.73 - ETA: 0s - loss: 0.5598 - accuracy: 0.73 - ETA: 0s - loss: 0.5585 - accuracy: 0.73 - ETA: 0s - loss: 0.5584 - accuracy: 0.73 - ETA: 0s - loss: 0.5573 - accuracy: 0.73 - ETA: 0s - loss: 0.5590 - accuracy: 0.73 - ETA: 0s - loss: 0.5588 - accuracy: 0.73 - ETA: 0s - loss: 0.5584 - accuracy: 0.73 - ETA: 0s - loss: 0.5579 - accuracy: 0.73 - ETA: 0s - loss: 0.5574 - accuracy: 0.73 - 1s 994us/step - loss: 0.5584 - accuracy: 0.7310 - val_loss: 0.5611 - val_accuracy: 0.7308\n"
     ]
    },
    {
     "data": {
      "text/html": [
       "<span style=\"color:#4527A0\"><h1 style=\"font-size:18px\">Trial complete</h1></span>"
      ],
      "text/plain": [
       "<IPython.core.display.HTML object>"
      ]
     },
     "metadata": {},
     "output_type": "display_data"
    },
    {
     "data": {
      "text/html": [
       "<span style=\"color:#4527A0\"><h1 style=\"font-size:18px\">Trial summary</h1></span>"
      ],
      "text/plain": [
       "<IPython.core.display.HTML object>"
      ]
     },
     "metadata": {},
     "output_type": "display_data"
    },
    {
     "data": {
      "text/html": [
       "<span style=\"color:cyan\"> |-Trial ID: 91d0b5c8aded3479219f6f7cc60f437f</span>"
      ],
      "text/plain": [
       "<IPython.core.display.HTML object>"
      ]
     },
     "metadata": {},
     "output_type": "display_data"
    },
    {
     "data": {
      "text/html": [
       "<span style=\"color:cyan\"> |-Score: 0.7313119769096375</span>"
      ],
      "text/plain": [
       "<IPython.core.display.HTML object>"
      ]
     },
     "metadata": {},
     "output_type": "display_data"
    },
    {
     "data": {
      "text/html": [
       "<span style=\"color:cyan\"> |-Best step: 0</span>"
      ],
      "text/plain": [
       "<IPython.core.display.HTML object>"
      ]
     },
     "metadata": {},
     "output_type": "display_data"
    },
    {
     "data": {
      "text/html": [
       "<span style=\"color:#7E57C2\"><h2 style=\"font-size:16px\">Hyperparameters:</h2></span>"
      ],
      "text/plain": [
       "<IPython.core.display.HTML object>"
      ]
     },
     "metadata": {},
     "output_type": "display_data"
    },
    {
     "data": {
      "text/html": [
       "<span style=\"color:cyan\"> |-activation: sigmoid</span>"
      ],
      "text/plain": [
       "<IPython.core.display.HTML object>"
      ]
     },
     "metadata": {},
     "output_type": "display_data"
    },
    {
     "data": {
      "text/html": [
       "<span style=\"color:blue\"> |-first_units: 5</span>"
      ],
      "text/plain": [
       "<IPython.core.display.HTML object>"
      ]
     },
     "metadata": {},
     "output_type": "display_data"
    },
    {
     "data": {
      "text/html": [
       "<span style=\"color:cyan\"> |-num_layers: 2</span>"
      ],
      "text/plain": [
       "<IPython.core.display.HTML object>"
      ]
     },
     "metadata": {},
     "output_type": "display_data"
    },
    {
     "data": {
      "text/html": [
       "<span style=\"color:blue\"> |-tuner/bracket: 0</span>"
      ],
      "text/plain": [
       "<IPython.core.display.HTML object>"
      ]
     },
     "metadata": {},
     "output_type": "display_data"
    },
    {
     "data": {
      "text/html": [
       "<span style=\"color:cyan\"> |-tuner/epochs: 20</span>"
      ],
      "text/plain": [
       "<IPython.core.display.HTML object>"
      ]
     },
     "metadata": {},
     "output_type": "display_data"
    },
    {
     "data": {
      "text/html": [
       "<span style=\"color:blue\"> |-tuner/initial_epoch: 0</span>"
      ],
      "text/plain": [
       "<IPython.core.display.HTML object>"
      ]
     },
     "metadata": {},
     "output_type": "display_data"
    },
    {
     "data": {
      "text/html": [
       "<span style=\"color:cyan\"> |-tuner/round: 0</span>"
      ],
      "text/plain": [
       "<IPython.core.display.HTML object>"
      ]
     },
     "metadata": {},
     "output_type": "display_data"
    },
    {
     "data": {
      "text/html": [
       "<span style=\"color:blue\"> |-units_0: 3</span>"
      ],
      "text/plain": [
       "<IPython.core.display.HTML object>"
      ]
     },
     "metadata": {},
     "output_type": "display_data"
    },
    {
     "data": {
      "text/html": [
       "<span style=\"color:cyan\"> |-units_1: 9</span>"
      ],
      "text/plain": [
       "<IPython.core.display.HTML object>"
      ]
     },
     "metadata": {},
     "output_type": "display_data"
    },
    {
     "data": {
      "text/html": [
       "<span style=\"color:blue\"> |-units_2: 1</span>"
      ],
      "text/plain": [
       "<IPython.core.display.HTML object>"
      ]
     },
     "metadata": {},
     "output_type": "display_data"
    },
    {
     "data": {
      "text/html": [
       "<span style=\"color:cyan\"> |-units_3: 9</span>"
      ],
      "text/plain": [
       "<IPython.core.display.HTML object>"
      ]
     },
     "metadata": {},
     "output_type": "display_data"
    },
    {
     "data": {
      "text/html": [
       "<span style=\"color:blue\"> |-units_4: 5</span>"
      ],
      "text/plain": [
       "<IPython.core.display.HTML object>"
      ]
     },
     "metadata": {},
     "output_type": "display_data"
    },
    {
     "data": {
      "text/html": [
       "<span style=\"color:cyan\"> |-units_5: 3</span>"
      ],
      "text/plain": [
       "<IPython.core.display.HTML object>"
      ]
     },
     "metadata": {},
     "output_type": "display_data"
    },
    {
     "name": "stdout",
     "output_type": "stream",
     "text": [
      "Epoch 1/20\n",
      "767/804 [===========================>..] - ETA: 0s - loss: 0.8266 - accuracy: 0.62 - ETA: 0s - loss: 0.9474 - accuracy: 0.51 - ETA: 0s - loss: 0.8733 - accuracy: 0.53 - ETA: 0s - loss: 0.8384 - accuracy: 0.53 - ETA: 0s - loss: 0.8097 - accuracy: 0.53 - ETA: 0s - loss: 0.7908 - accuracy: 0.53 - ETA: 0s - loss: 0.7759 - accuracy: 0.52 - ETA: 0s - loss: 0.7639 - accuracy: 0.52 - ETA: 0s - loss: 0.7556 - accuracy: 0.52 - ETA: 0s - loss: 0.7479 - accuracy: 0.52 - ETA: 0s - loss: 0.7416 - accuracy: 0.53 - ETA: 0s - loss: 0.7371 - accuracy: 0.53 - ETA: 0s - loss: 0.7341 - accuracy: 0.53 - ETA: 0s - loss: 0.7310 - accuracy: 0.5320WARNING:tensorflow:Callbacks method `on_test_batch_end` is slow compared to the batch time (batch time: 0.0000s vs `on_test_batch_end` time: 0.0010s). Check your callbacks.\n",
      "804/804 [==============================] - 1s 1ms/step - loss: 0.7291 - accuracy: 0.5318 - val_loss: 0.6889 - val_accuracy: 0.5343\n",
      "Epoch 2/20\n",
      "804/804 [==============================] - ETA: 0s - loss: 0.7098 - accuracy: 0.40 - ETA: 0s - loss: 0.6888 - accuracy: 0.53 - ETA: 0s - loss: 0.6884 - accuracy: 0.53 - ETA: 0s - loss: 0.6883 - accuracy: 0.53 - ETA: 0s - loss: 0.6872 - accuracy: 0.53 - ETA: 0s - loss: 0.6871 - accuracy: 0.53 - ETA: 0s - loss: 0.6869 - accuracy: 0.53 - ETA: 0s - loss: 0.6860 - accuracy: 0.53 - ETA: 0s - loss: 0.6850 - accuracy: 0.53 - ETA: 0s - loss: 0.6838 - accuracy: 0.53 - ETA: 0s - loss: 0.6821 - accuracy: 0.53 - ETA: 0s - loss: 0.6804 - accuracy: 0.53 - ETA: 0s - loss: 0.6780 - accuracy: 0.53 - ETA: 0s - loss: 0.6755 - accuracy: 0.54 - 1s 1ms/step - loss: 0.6735 - accuracy: 0.5537 - val_loss: 0.6365 - val_accuracy: 0.7257\n",
      "Epoch 3/20\n",
      "804/804 [==============================] - ETA: 0s - loss: 0.5612 - accuracy: 0.87 - ETA: 0s - loss: 0.6349 - accuracy: 0.71 - ETA: 0s - loss: 0.6313 - accuracy: 0.72 - ETA: 0s - loss: 0.6262 - accuracy: 0.72 - ETA: 0s - loss: 0.6237 - accuracy: 0.72 - ETA: 0s - loss: 0.6199 - accuracy: 0.72 - ETA: 0s - loss: 0.6173 - accuracy: 0.72 - ETA: 0s - loss: 0.6149 - accuracy: 0.72 - ETA: 0s - loss: 0.6157 - accuracy: 0.72 - ETA: 0s - loss: 0.6129 - accuracy: 0.72 - ETA: 0s - loss: 0.6103 - accuracy: 0.72 - ETA: 0s - loss: 0.6086 - accuracy: 0.72 - ETA: 0s - loss: 0.6079 - accuracy: 0.72 - 1s 997us/step - loss: 0.6052 - accuracy: 0.7280 - val_loss: 0.5911 - val_accuracy: 0.7266\n",
      "Epoch 4/20\n",
      "804/804 [==============================] - ETA: 0s - loss: 0.5296 - accuracy: 0.81 - ETA: 0s - loss: 0.5819 - accuracy: 0.73 - ETA: 0s - loss: 0.5813 - accuracy: 0.73 - ETA: 0s - loss: 0.5849 - accuracy: 0.73 - ETA: 0s - loss: 0.5827 - accuracy: 0.73 - ETA: 0s - loss: 0.5835 - accuracy: 0.73 - ETA: 0s - loss: 0.5835 - accuracy: 0.73 - ETA: 0s - loss: 0.5837 - accuracy: 0.73 - ETA: 0s - loss: 0.5840 - accuracy: 0.73 - ETA: 0s - loss: 0.5851 - accuracy: 0.73 - ETA: 0s - loss: 0.5851 - accuracy: 0.73 - ETA: 0s - loss: 0.5846 - accuracy: 0.73 - ETA: 0s - loss: 0.5844 - accuracy: 0.73 - ETA: 0s - loss: 0.5838 - accuracy: 0.73 - 1s 1ms/step - loss: 0.5840 - accuracy: 0.7306 - val_loss: 0.5829 - val_accuracy: 0.7269\n",
      "Epoch 5/20\n",
      "804/804 [==============================] - ETA: 0s - loss: 0.5064 - accuracy: 0.81 - ETA: 0s - loss: 0.5612 - accuracy: 0.74 - ETA: 0s - loss: 0.5738 - accuracy: 0.73 - ETA: 0s - loss: 0.5775 - accuracy: 0.73 - ETA: 0s - loss: 0.5785 - accuracy: 0.73 - ETA: 0s - loss: 0.5788 - accuracy: 0.73 - ETA: 0s - loss: 0.5789 - accuracy: 0.73 - ETA: 0s - loss: 0.5785 - accuracy: 0.73 - ETA: 0s - loss: 0.5781 - accuracy: 0.73 - ETA: 0s - loss: 0.5792 - accuracy: 0.73 - ETA: 0s - loss: 0.5786 - accuracy: 0.73 - ETA: 0s - loss: 0.5784 - accuracy: 0.73 - ETA: 0s - loss: 0.5788 - accuracy: 0.73 - ETA: 0s - loss: 0.5792 - accuracy: 0.72 - 1s 1ms/step - loss: 0.5790 - accuracy: 0.7298 - val_loss: 0.5805 - val_accuracy: 0.7254\n",
      "Epoch 6/20\n",
      "804/804 [==============================] - ETA: 0s - loss: 0.5049 - accuracy: 0.81 - ETA: 0s - loss: 0.5738 - accuracy: 0.73 - ETA: 0s - loss: 0.5759 - accuracy: 0.72 - ETA: 0s - loss: 0.5791 - accuracy: 0.72 - ETA: 0s - loss: 0.5784 - accuracy: 0.72 - ETA: 0s - loss: 0.5770 - accuracy: 0.72 - ETA: 0s - loss: 0.5765 - accuracy: 0.72 - ETA: 0s - loss: 0.5742 - accuracy: 0.73 - ETA: 0s - loss: 0.5728 - accuracy: 0.73 - ETA: 0s - loss: 0.5755 - accuracy: 0.73 - ETA: 0s - loss: 0.5760 - accuracy: 0.73 - ETA: 0s - loss: 0.5769 - accuracy: 0.72 - ETA: 0s - loss: 0.5768 - accuracy: 0.73 - 1s 1ms/step - loss: 0.5771 - accuracy: 0.7298 - val_loss: 0.5787 - val_accuracy: 0.7307\n",
      "Epoch 7/20\n",
      "804/804 [==============================] - ETA: 0s - loss: 0.5561 - accuracy: 0.75 - ETA: 0s - loss: 0.5722 - accuracy: 0.74 - ETA: 0s - loss: 0.5758 - accuracy: 0.73 - ETA: 0s - loss: 0.5760 - accuracy: 0.73 - ETA: 0s - loss: 0.5770 - accuracy: 0.73 - ETA: 0s - loss: 0.5786 - accuracy: 0.73 - ETA: 0s - loss: 0.5782 - accuracy: 0.73 - ETA: 0s - loss: 0.5747 - accuracy: 0.73 - ETA: 0s - loss: 0.5727 - accuracy: 0.73 - ETA: 0s - loss: 0.5738 - accuracy: 0.73 - ETA: 0s - loss: 0.5734 - accuracy: 0.73 - ETA: 0s - loss: 0.5741 - accuracy: 0.73 - ETA: 0s - loss: 0.5736 - accuracy: 0.73 - ETA: 0s - loss: 0.5727 - accuracy: 0.73 - ETA: 0s - loss: 0.5732 - accuracy: 0.73 - ETA: 0s - loss: 0.5750 - accuracy: 0.73 - ETA: 0s - loss: 0.5762 - accuracy: 0.73 - ETA: 0s - loss: 0.5765 - accuracy: 0.73 - 1s 1ms/step - loss: 0.5762 - accuracy: 0.7317 - val_loss: 0.5787 - val_accuracy: 0.7262\n",
      "Epoch 8/20\n",
      "804/804 [==============================] - ETA: 0s - loss: 0.6913 - accuracy: 0.62 - ETA: 0s - loss: 0.5780 - accuracy: 0.72 - ETA: 0s - loss: 0.5749 - accuracy: 0.73 - ETA: 0s - loss: 0.5740 - accuracy: 0.73 - ETA: 0s - loss: 0.5741 - accuracy: 0.73 - ETA: 0s - loss: 0.5723 - accuracy: 0.73 - ETA: 0s - loss: 0.5729 - accuracy: 0.73 - ETA: 0s - loss: 0.5753 - accuracy: 0.73 - ETA: 0s - loss: 0.5756 - accuracy: 0.73 - ETA: 0s - loss: 0.5752 - accuracy: 0.73 - ETA: 0s - loss: 0.5766 - accuracy: 0.73 - ETA: 0s - loss: 0.5767 - accuracy: 0.73 - ETA: 0s - loss: 0.5753 - accuracy: 0.73 - ETA: 0s - loss: 0.5762 - accuracy: 0.73 - ETA: 0s - loss: 0.5761 - accuracy: 0.73 - 1s 1ms/step - loss: 0.5761 - accuracy: 0.7309 - val_loss: 0.5783 - val_accuracy: 0.7299\n",
      "Epoch 9/20\n",
      "804/804 [==============================] - ETA: 0s - loss: 0.6553 - accuracy: 0.65 - ETA: 0s - loss: 0.5812 - accuracy: 0.72 - ETA: 0s - loss: 0.5782 - accuracy: 0.72 - ETA: 0s - loss: 0.5758 - accuracy: 0.72 - ETA: 0s - loss: 0.5768 - accuracy: 0.72 - ETA: 0s - loss: 0.5744 - accuracy: 0.73 - ETA: 0s - loss: 0.5747 - accuracy: 0.73 - ETA: 0s - loss: 0.5755 - accuracy: 0.73 - ETA: 0s - loss: 0.5763 - accuracy: 0.72 - ETA: 0s - loss: 0.5760 - accuracy: 0.73 - ETA: 0s - loss: 0.5755 - accuracy: 0.73 - 1s 858us/step - loss: 0.5756 - accuracy: 0.7307 - val_loss: 0.5781 - val_accuracy: 0.7275\n",
      "Epoch 10/20\n",
      "804/804 [==============================] - ETA: 0s - loss: 0.5767 - accuracy: 0.71 - ETA: 0s - loss: 0.5725 - accuracy: 0.73 - ETA: 0s - loss: 0.5736 - accuracy: 0.73 - ETA: 0s - loss: 0.5740 - accuracy: 0.73 - ETA: 0s - loss: 0.5771 - accuracy: 0.73 - ETA: 0s - loss: 0.5759 - accuracy: 0.73 - ETA: 0s - loss: 0.5767 - accuracy: 0.73 - ETA: 0s - loss: 0.5779 - accuracy: 0.72 - ETA: 0s - loss: 0.5768 - accuracy: 0.73 - ETA: 0s - loss: 0.5756 - accuracy: 0.73 - ETA: 0s - loss: 0.5763 - accuracy: 0.73 - ETA: 0s - loss: 0.5752 - accuracy: 0.73 - ETA: 0s - loss: 0.5756 - accuracy: 0.73 - ETA: 0s - loss: 0.5748 - accuracy: 0.73 - 1s 1ms/step - loss: 0.5754 - accuracy: 0.7320 - val_loss: 0.5771 - val_accuracy: 0.7268\n",
      "Epoch 11/20\n",
      "804/804 [==============================] - ETA: 0s - loss: 0.5237 - accuracy: 0.78 - ETA: 0s - loss: 0.5892 - accuracy: 0.71 - ETA: 0s - loss: 0.5860 - accuracy: 0.72 - ETA: 0s - loss: 0.5853 - accuracy: 0.72 - ETA: 0s - loss: 0.5814 - accuracy: 0.72 - ETA: 0s - loss: 0.5806 - accuracy: 0.72 - ETA: 0s - loss: 0.5794 - accuracy: 0.72 - ETA: 0s - loss: 0.5792 - accuracy: 0.72 - ETA: 0s - loss: 0.5772 - accuracy: 0.72 - ETA: 0s - loss: 0.5762 - accuracy: 0.73 - ETA: 0s - loss: 0.5755 - accuracy: 0.73 - ETA: 0s - loss: 0.5762 - accuracy: 0.73 - ETA: 0s - loss: 0.5766 - accuracy: 0.72 - ETA: 0s - loss: 0.5749 - accuracy: 0.73 - 1s 1ms/step - loss: 0.5754 - accuracy: 0.7310 - val_loss: 0.5769 - val_accuracy: 0.7276\n"
     ]
    },
    {
     "name": "stdout",
     "output_type": "stream",
     "text": [
      "Epoch 12/20\n",
      "804/804 [==============================] - ETA: 0s - loss: 0.6114 - accuracy: 0.65 - ETA: 0s - loss: 0.5538 - accuracy: 0.75 - ETA: 0s - loss: 0.5642 - accuracy: 0.74 - ETA: 0s - loss: 0.5730 - accuracy: 0.73 - ETA: 0s - loss: 0.5759 - accuracy: 0.73 - ETA: 0s - loss: 0.5798 - accuracy: 0.72 - ETA: 0s - loss: 0.5798 - accuracy: 0.72 - ETA: 0s - loss: 0.5779 - accuracy: 0.72 - ETA: 0s - loss: 0.5763 - accuracy: 0.73 - ETA: 0s - loss: 0.5765 - accuracy: 0.73 - ETA: 0s - loss: 0.5747 - accuracy: 0.73 - ETA: 0s - loss: 0.5755 - accuracy: 0.73 - ETA: 0s - loss: 0.5769 - accuracy: 0.72 - ETA: 0s - loss: 0.5756 - accuracy: 0.73 - ETA: 0s - loss: 0.5747 - accuracy: 0.73 - 1s 1ms/step - loss: 0.5751 - accuracy: 0.7311 - val_loss: 0.5767 - val_accuracy: 0.7291\n",
      "Epoch 13/20\n",
      "804/804 [==============================] - ETA: 0s - loss: 0.4078 - accuracy: 0.87 - ETA: 0s - loss: 0.5790 - accuracy: 0.72 - ETA: 0s - loss: 0.5812 - accuracy: 0.72 - ETA: 0s - loss: 0.5818 - accuracy: 0.72 - ETA: 0s - loss: 0.5782 - accuracy: 0.72 - ETA: 0s - loss: 0.5752 - accuracy: 0.73 - ETA: 0s - loss: 0.5737 - accuracy: 0.73 - ETA: 0s - loss: 0.5761 - accuracy: 0.73 - ETA: 0s - loss: 0.5758 - accuracy: 0.73 - ETA: 0s - loss: 0.5763 - accuracy: 0.73 - ETA: 0s - loss: 0.5752 - accuracy: 0.73 - ETA: 0s - loss: 0.5753 - accuracy: 0.73 - 1s 930us/step - loss: 0.5748 - accuracy: 0.7312 - val_loss: 0.5768 - val_accuracy: 0.7293\n",
      "Epoch 14/20\n",
      "804/804 [==============================] - ETA: 0s - loss: 0.4856 - accuracy: 0.84 - ETA: 0s - loss: 0.5581 - accuracy: 0.74 - ETA: 0s - loss: 0.5583 - accuracy: 0.74 - ETA: 0s - loss: 0.5676 - accuracy: 0.73 - ETA: 0s - loss: 0.5723 - accuracy: 0.73 - ETA: 0s - loss: 0.5713 - accuracy: 0.73 - ETA: 0s - loss: 0.5747 - accuracy: 0.73 - ETA: 0s - loss: 0.5751 - accuracy: 0.73 - ETA: 0s - loss: 0.5756 - accuracy: 0.72 - ETA: 0s - loss: 0.5750 - accuracy: 0.73 - ETA: 0s - loss: 0.5743 - accuracy: 0.73 - ETA: 0s - loss: 0.5742 - accuracy: 0.73 - 1s 904us/step - loss: 0.5747 - accuracy: 0.7315 - val_loss: 0.5770 - val_accuracy: 0.7268\n",
      "Epoch 15/20\n",
      "804/804 [==============================] - ETA: 0s - loss: 0.5605 - accuracy: 0.75 - ETA: 0s - loss: 0.5663 - accuracy: 0.73 - ETA: 0s - loss: 0.5620 - accuracy: 0.74 - ETA: 0s - loss: 0.5691 - accuracy: 0.73 - ETA: 0s - loss: 0.5694 - accuracy: 0.73 - ETA: 0s - loss: 0.5695 - accuracy: 0.73 - ETA: 0s - loss: 0.5675 - accuracy: 0.73 - ETA: 0s - loss: 0.5701 - accuracy: 0.73 - ETA: 0s - loss: 0.5708 - accuracy: 0.73 - ETA: 0s - loss: 0.5733 - accuracy: 0.73 - ETA: 0s - loss: 0.5739 - accuracy: 0.73 - ETA: 0s - loss: 0.5734 - accuracy: 0.73 - ETA: 0s - loss: 0.5742 - accuracy: 0.73 - ETA: 0s - loss: 0.5739 - accuracy: 0.73 - ETA: 0s - loss: 0.5736 - accuracy: 0.73 - ETA: 0s - loss: 0.5744 - accuracy: 0.73 - 1s 1ms/step - loss: 0.5745 - accuracy: 0.7310 - val_loss: 0.5766 - val_accuracy: 0.7289\n",
      "Epoch 16/20\n",
      "804/804 [==============================] - ETA: 0s - loss: 0.4976 - accuracy: 0.81 - ETA: 0s - loss: 0.5586 - accuracy: 0.74 - ETA: 0s - loss: 0.5627 - accuracy: 0.74 - ETA: 0s - loss: 0.5695 - accuracy: 0.73 - ETA: 0s - loss: 0.5676 - accuracy: 0.73 - ETA: 0s - loss: 0.5687 - accuracy: 0.73 - ETA: 0s - loss: 0.5722 - accuracy: 0.73 - ETA: 0s - loss: 0.5729 - accuracy: 0.73 - ETA: 0s - loss: 0.5702 - accuracy: 0.73 - ETA: 0s - loss: 0.5727 - accuracy: 0.73 - ETA: 0s - loss: 0.5729 - accuracy: 0.73 - ETA: 0s - loss: 0.5747 - accuracy: 0.73 - 1s 890us/step - loss: 0.5743 - accuracy: 0.7311 - val_loss: 0.5761 - val_accuracy: 0.7291\n",
      "Epoch 17/20\n",
      "804/804 [==============================] - ETA: 0s - loss: 0.4741 - accuracy: 0.84 - ETA: 0s - loss: 0.5763 - accuracy: 0.72 - ETA: 0s - loss: 0.5649 - accuracy: 0.73 - ETA: 0s - loss: 0.5685 - accuracy: 0.73 - ETA: 0s - loss: 0.5723 - accuracy: 0.73 - ETA: 0s - loss: 0.5744 - accuracy: 0.72 - ETA: 0s - loss: 0.5730 - accuracy: 0.73 - ETA: 0s - loss: 0.5724 - accuracy: 0.73 - ETA: 0s - loss: 0.5726 - accuracy: 0.73 - ETA: 0s - loss: 0.5729 - accuracy: 0.73 - ETA: 0s - loss: 0.5728 - accuracy: 0.73 - ETA: 0s - loss: 0.5733 - accuracy: 0.73 - ETA: 0s - loss: 0.5734 - accuracy: 0.73 - ETA: 0s - loss: 0.5746 - accuracy: 0.73 - 1s 1ms/step - loss: 0.5740 - accuracy: 0.7307 - val_loss: 0.5767 - val_accuracy: 0.7266\n",
      "Epoch 18/20\n",
      "804/804 [==============================] - ETA: 0s - loss: 0.5089 - accuracy: 0.84 - ETA: 0s - loss: 0.5772 - accuracy: 0.73 - ETA: 0s - loss: 0.5795 - accuracy: 0.73 - ETA: 0s - loss: 0.5720 - accuracy: 0.73 - ETA: 0s - loss: 0.5745 - accuracy: 0.73 - ETA: 0s - loss: 0.5714 - accuracy: 0.73 - ETA: 0s - loss: 0.5719 - accuracy: 0.73 - ETA: 0s - loss: 0.5722 - accuracy: 0.73 - ETA: 0s - loss: 0.5710 - accuracy: 0.73 - ETA: 0s - loss: 0.5716 - accuracy: 0.73 - ETA: 0s - loss: 0.5724 - accuracy: 0.73 - ETA: 0s - loss: 0.5734 - accuracy: 0.73 - ETA: 0s - loss: 0.5738 - accuracy: 0.73 - 1s 983us/step - loss: 0.5742 - accuracy: 0.7317 - val_loss: 0.5767 - val_accuracy: 0.7270\n",
      "Epoch 19/20\n",
      "804/804 [==============================] - ETA: 0s - loss: 0.5423 - accuracy: 0.75 - ETA: 0s - loss: 0.5741 - accuracy: 0.73 - ETA: 0s - loss: 0.5745 - accuracy: 0.73 - ETA: 0s - loss: 0.5720 - accuracy: 0.73 - ETA: 0s - loss: 0.5740 - accuracy: 0.73 - ETA: 0s - loss: 0.5731 - accuracy: 0.73 - ETA: 0s - loss: 0.5721 - accuracy: 0.73 - ETA: 0s - loss: 0.5715 - accuracy: 0.73 - ETA: 0s - loss: 0.5696 - accuracy: 0.73 - ETA: 0s - loss: 0.5710 - accuracy: 0.73 - ETA: 0s - loss: 0.5732 - accuracy: 0.73 - ETA: 0s - loss: 0.5730 - accuracy: 0.73 - ETA: 0s - loss: 0.5739 - accuracy: 0.73 - 1s 970us/step - loss: 0.5739 - accuracy: 0.7321 - val_loss: 0.5767 - val_accuracy: 0.7272\n",
      "Epoch 20/20\n",
      "804/804 [==============================] - ETA: 0s - loss: 0.6051 - accuracy: 0.71 - ETA: 0s - loss: 0.5697 - accuracy: 0.73 - ETA: 0s - loss: 0.5757 - accuracy: 0.72 - ETA: 0s - loss: 0.5693 - accuracy: 0.73 - ETA: 0s - loss: 0.5708 - accuracy: 0.73 - ETA: 0s - loss: 0.5738 - accuracy: 0.73 - ETA: 0s - loss: 0.5732 - accuracy: 0.73 - ETA: 0s - loss: 0.5728 - accuracy: 0.73 - ETA: 0s - loss: 0.5740 - accuracy: 0.73 - ETA: 0s - loss: 0.5738 - accuracy: 0.73 - ETA: 0s - loss: 0.5742 - accuracy: 0.73 - ETA: 0s - loss: 0.5727 - accuracy: 0.73 - ETA: 0s - loss: 0.5737 - accuracy: 0.73 - 1s 955us/step - loss: 0.5738 - accuracy: 0.7311 - val_loss: 0.5759 - val_accuracy: 0.7300\n"
     ]
    },
    {
     "data": {
      "text/html": [
       "<span style=\"color:#4527A0\"><h1 style=\"font-size:18px\">Trial complete</h1></span>"
      ],
      "text/plain": [
       "<IPython.core.display.HTML object>"
      ]
     },
     "metadata": {},
     "output_type": "display_data"
    },
    {
     "data": {
      "text/html": [
       "<span style=\"color:#4527A0\"><h1 style=\"font-size:18px\">Trial summary</h1></span>"
      ],
      "text/plain": [
       "<IPython.core.display.HTML object>"
      ]
     },
     "metadata": {},
     "output_type": "display_data"
    },
    {
     "data": {
      "text/html": [
       "<span style=\"color:cyan\"> |-Trial ID: d445388bb65aad5654df55a3e47c601b</span>"
      ],
      "text/plain": [
       "<IPython.core.display.HTML object>"
      ]
     },
     "metadata": {},
     "output_type": "display_data"
    },
    {
     "data": {
      "text/html": [
       "<span style=\"color:cyan\"> |-Score: 0.7307288646697998</span>"
      ],
      "text/plain": [
       "<IPython.core.display.HTML object>"
      ]
     },
     "metadata": {},
     "output_type": "display_data"
    },
    {
     "data": {
      "text/html": [
       "<span style=\"color:cyan\"> |-Best step: 0</span>"
      ],
      "text/plain": [
       "<IPython.core.display.HTML object>"
      ]
     },
     "metadata": {},
     "output_type": "display_data"
    },
    {
     "data": {
      "text/html": [
       "<span style=\"color:#7E57C2\"><h2 style=\"font-size:16px\">Hyperparameters:</h2></span>"
      ],
      "text/plain": [
       "<IPython.core.display.HTML object>"
      ]
     },
     "metadata": {},
     "output_type": "display_data"
    },
    {
     "data": {
      "text/html": [
       "<span style=\"color:cyan\"> |-activation: sigmoid</span>"
      ],
      "text/plain": [
       "<IPython.core.display.HTML object>"
      ]
     },
     "metadata": {},
     "output_type": "display_data"
    },
    {
     "data": {
      "text/html": [
       "<span style=\"color:blue\"> |-first_units: 3</span>"
      ],
      "text/plain": [
       "<IPython.core.display.HTML object>"
      ]
     },
     "metadata": {},
     "output_type": "display_data"
    },
    {
     "data": {
      "text/html": [
       "<span style=\"color:cyan\"> |-num_layers: 4</span>"
      ],
      "text/plain": [
       "<IPython.core.display.HTML object>"
      ]
     },
     "metadata": {},
     "output_type": "display_data"
    },
    {
     "data": {
      "text/html": [
       "<span style=\"color:blue\"> |-tuner/bracket: 0</span>"
      ],
      "text/plain": [
       "<IPython.core.display.HTML object>"
      ]
     },
     "metadata": {},
     "output_type": "display_data"
    },
    {
     "data": {
      "text/html": [
       "<span style=\"color:cyan\"> |-tuner/epochs: 20</span>"
      ],
      "text/plain": [
       "<IPython.core.display.HTML object>"
      ]
     },
     "metadata": {},
     "output_type": "display_data"
    },
    {
     "data": {
      "text/html": [
       "<span style=\"color:blue\"> |-tuner/initial_epoch: 0</span>"
      ],
      "text/plain": [
       "<IPython.core.display.HTML object>"
      ]
     },
     "metadata": {},
     "output_type": "display_data"
    },
    {
     "data": {
      "text/html": [
       "<span style=\"color:cyan\"> |-tuner/round: 0</span>"
      ],
      "text/plain": [
       "<IPython.core.display.HTML object>"
      ]
     },
     "metadata": {},
     "output_type": "display_data"
    },
    {
     "data": {
      "text/html": [
       "<span style=\"color:blue\"> |-units_0: 7</span>"
      ],
      "text/plain": [
       "<IPython.core.display.HTML object>"
      ]
     },
     "metadata": {},
     "output_type": "display_data"
    },
    {
     "data": {
      "text/html": [
       "<span style=\"color:cyan\"> |-units_1: 3</span>"
      ],
      "text/plain": [
       "<IPython.core.display.HTML object>"
      ]
     },
     "metadata": {},
     "output_type": "display_data"
    },
    {
     "data": {
      "text/html": [
       "<span style=\"color:blue\"> |-units_2: 9</span>"
      ],
      "text/plain": [
       "<IPython.core.display.HTML object>"
      ]
     },
     "metadata": {},
     "output_type": "display_data"
    },
    {
     "data": {
      "text/html": [
       "<span style=\"color:cyan\"> |-units_3: 5</span>"
      ],
      "text/plain": [
       "<IPython.core.display.HTML object>"
      ]
     },
     "metadata": {},
     "output_type": "display_data"
    },
    {
     "data": {
      "text/html": [
       "<span style=\"color:blue\"> |-units_4: 7</span>"
      ],
      "text/plain": [
       "<IPython.core.display.HTML object>"
      ]
     },
     "metadata": {},
     "output_type": "display_data"
    },
    {
     "data": {
      "text/html": [
       "<span style=\"color:cyan\"> |-units_5: 9</span>"
      ],
      "text/plain": [
       "<IPython.core.display.HTML object>"
      ]
     },
     "metadata": {},
     "output_type": "display_data"
    },
    {
     "name": "stdout",
     "output_type": "stream",
     "text": [
      "Epoch 1/3\n",
      "804/804 [==============================] - ETA: 0s - loss: 0.7066 - accuracy: 0.46 - ETA: 0s - loss: 0.6953 - accuracy: 0.52 - ETA: 0s - loss: 0.6879 - accuracy: 0.56 - ETA: 0s - loss: 0.6798 - accuracy: 0.59 - ETA: 0s - loss: 0.6701 - accuracy: 0.60 - ETA: 0s - loss: 0.6587 - accuracy: 0.61 - ETA: 0s - loss: 0.6476 - accuracy: 0.63 - ETA: 0s - loss: 0.6397 - accuracy: 0.63 - ETA: 0s - loss: 0.6337 - accuracy: 0.64 - ETA: 0s - loss: 0.6303 - accuracy: 0.64 - ETA: 0s - loss: 0.6255 - accuracy: 0.65 - 1s 1ms/step - loss: 0.6221 - accuracy: 0.6564 - val_loss: 0.5874 - val_accuracy: 0.6999\n",
      "Epoch 2/3\n",
      "804/804 [==============================] - ETA: 0s - loss: 0.5948 - accuracy: 0.62 - ETA: 0s - loss: 0.5866 - accuracy: 0.68 - ETA: 0s - loss: 0.5793 - accuracy: 0.69 - ETA: 0s - loss: 0.5752 - accuracy: 0.70 - ETA: 0s - loss: 0.5744 - accuracy: 0.70 - ETA: 0s - loss: 0.5740 - accuracy: 0.70 - ETA: 0s - loss: 0.5748 - accuracy: 0.70 - ETA: 0s - loss: 0.5761 - accuracy: 0.70 - ETA: 0s - loss: 0.5782 - accuracy: 0.70 - ETA: 0s - loss: 0.5787 - accuracy: 0.70 - ETA: 0s - loss: 0.5782 - accuracy: 0.70 - ETA: 0s - loss: 0.5774 - accuracy: 0.70 - 1s 886us/step - loss: 0.5777 - accuracy: 0.7055 - val_loss: 0.5783 - val_accuracy: 0.7094\n",
      "Epoch 3/3\n",
      "804/804 [==============================] - ETA: 0s - loss: 0.5094 - accuracy: 0.75 - ETA: 0s - loss: 0.5608 - accuracy: 0.72 - ETA: 0s - loss: 0.5730 - accuracy: 0.71 - ETA: 0s - loss: 0.5741 - accuracy: 0.70 - ETA: 0s - loss: 0.5733 - accuracy: 0.70 - ETA: 0s - loss: 0.5718 - accuracy: 0.71 - ETA: 0s - loss: 0.5720 - accuracy: 0.71 - ETA: 0s - loss: 0.5712 - accuracy: 0.71 - ETA: 0s - loss: 0.5733 - accuracy: 0.70 - ETA: 0s - loss: 0.5737 - accuracy: 0.70 - ETA: 0s - loss: 0.5730 - accuracy: 0.70 - ETA: 0s - loss: 0.5733 - accuracy: 0.70 - ETA: 0s - loss: 0.5732 - accuracy: 0.71 - 1s 984us/step - loss: 0.5714 - accuracy: 0.7117 - val_loss: 0.5742 - val_accuracy: 0.7113\n"
     ]
    },
    {
     "data": {
      "text/html": [
       "<span style=\"color:#4527A0\"><h1 style=\"font-size:18px\">Trial complete</h1></span>"
      ],
      "text/plain": [
       "<IPython.core.display.HTML object>"
      ]
     },
     "metadata": {},
     "output_type": "display_data"
    },
    {
     "data": {
      "text/html": [
       "<span style=\"color:#4527A0\"><h1 style=\"font-size:18px\">Trial summary</h1></span>"
      ],
      "text/plain": [
       "<IPython.core.display.HTML object>"
      ]
     },
     "metadata": {},
     "output_type": "display_data"
    },
    {
     "data": {
      "text/html": [
       "<span style=\"color:cyan\"> |-Trial ID: 152ba00f76ad549db42542e6d0148b1f</span>"
      ],
      "text/plain": [
       "<IPython.core.display.HTML object>"
      ]
     },
     "metadata": {},
     "output_type": "display_data"
    },
    {
     "data": {
      "text/html": [
       "<span style=\"color:cyan\"> |-Score: 0.7112536430358887</span>"
      ],
      "text/plain": [
       "<IPython.core.display.HTML object>"
      ]
     },
     "metadata": {},
     "output_type": "display_data"
    },
    {
     "data": {
      "text/html": [
       "<span style=\"color:cyan\"> |-Best step: 0</span>"
      ],
      "text/plain": [
       "<IPython.core.display.HTML object>"
      ]
     },
     "metadata": {},
     "output_type": "display_data"
    },
    {
     "data": {
      "text/html": [
       "<span style=\"color:#7E57C2\"><h2 style=\"font-size:16px\">Hyperparameters:</h2></span>"
      ],
      "text/plain": [
       "<IPython.core.display.HTML object>"
      ]
     },
     "metadata": {},
     "output_type": "display_data"
    },
    {
     "data": {
      "text/html": [
       "<span style=\"color:cyan\"> |-activation: relu</span>"
      ],
      "text/plain": [
       "<IPython.core.display.HTML object>"
      ]
     },
     "metadata": {},
     "output_type": "display_data"
    },
    {
     "data": {
      "text/html": [
       "<span style=\"color:blue\"> |-first_units: 3</span>"
      ],
      "text/plain": [
       "<IPython.core.display.HTML object>"
      ]
     },
     "metadata": {},
     "output_type": "display_data"
    },
    {
     "data": {
      "text/html": [
       "<span style=\"color:cyan\"> |-num_layers: 1</span>"
      ],
      "text/plain": [
       "<IPython.core.display.HTML object>"
      ]
     },
     "metadata": {},
     "output_type": "display_data"
    },
    {
     "data": {
      "text/html": [
       "<span style=\"color:blue\"> |-tuner/bracket: 2</span>"
      ],
      "text/plain": [
       "<IPython.core.display.HTML object>"
      ]
     },
     "metadata": {},
     "output_type": "display_data"
    },
    {
     "data": {
      "text/html": [
       "<span style=\"color:cyan\"> |-tuner/epochs: 3</span>"
      ],
      "text/plain": [
       "<IPython.core.display.HTML object>"
      ]
     },
     "metadata": {},
     "output_type": "display_data"
    },
    {
     "data": {
      "text/html": [
       "<span style=\"color:blue\"> |-tuner/initial_epoch: 0</span>"
      ],
      "text/plain": [
       "<IPython.core.display.HTML object>"
      ]
     },
     "metadata": {},
     "output_type": "display_data"
    },
    {
     "data": {
      "text/html": [
       "<span style=\"color:cyan\"> |-tuner/round: 0</span>"
      ],
      "text/plain": [
       "<IPython.core.display.HTML object>"
      ]
     },
     "metadata": {},
     "output_type": "display_data"
    },
    {
     "data": {
      "text/html": [
       "<span style=\"color:blue\"> |-units_0: 5</span>"
      ],
      "text/plain": [
       "<IPython.core.display.HTML object>"
      ]
     },
     "metadata": {},
     "output_type": "display_data"
    },
    {
     "data": {
      "text/html": [
       "<span style=\"color:cyan\"> |-units_1: 3</span>"
      ],
      "text/plain": [
       "<IPython.core.display.HTML object>"
      ]
     },
     "metadata": {},
     "output_type": "display_data"
    },
    {
     "data": {
      "text/html": [
       "<span style=\"color:blue\"> |-units_2: 9</span>"
      ],
      "text/plain": [
       "<IPython.core.display.HTML object>"
      ]
     },
     "metadata": {},
     "output_type": "display_data"
    },
    {
     "data": {
      "text/html": [
       "<span style=\"color:cyan\"> |-units_3: 3</span>"
      ],
      "text/plain": [
       "<IPython.core.display.HTML object>"
      ]
     },
     "metadata": {},
     "output_type": "display_data"
    },
    {
     "data": {
      "text/html": [
       "<span style=\"color:blue\"> |-units_4: 7</span>"
      ],
      "text/plain": [
       "<IPython.core.display.HTML object>"
      ]
     },
     "metadata": {},
     "output_type": "display_data"
    },
    {
     "data": {
      "text/html": [
       "<span style=\"color:cyan\"> |-units_5: 3</span>"
      ],
      "text/plain": [
       "<IPython.core.display.HTML object>"
      ]
     },
     "metadata": {},
     "output_type": "display_data"
    },
    {
     "name": "stdout",
     "output_type": "stream",
     "text": [
      "Epoch 1/3\n",
      "804/804 [==============================] - ETA: 0s - loss: 0.7006 - accuracy: 0.40 - ETA: 0s - loss: 0.6922 - accuracy: 0.51 - ETA: 0s - loss: 0.6903 - accuracy: 0.53 - ETA: 0s - loss: 0.6913 - accuracy: 0.52 - ETA: 0s - loss: 0.6916 - accuracy: 0.52 - ETA: 0s - loss: 0.6915 - accuracy: 0.52 - ETA: 0s - loss: 0.6914 - accuracy: 0.52 - ETA: 0s - loss: 0.6909 - accuracy: 0.53 - ETA: 0s - loss: 0.6911 - accuracy: 0.53 - ETA: 0s - loss: 0.6913 - accuracy: 0.53 - ETA: 0s - loss: 0.6914 - accuracy: 0.52 - ETA: 0s - loss: 0.6914 - accuracy: 0.52 - ETA: 0s - loss: 0.6914 - accuracy: 0.52 - ETA: 0s - loss: 0.6914 - accuracy: 0.52 - 1s 1ms/step - loss: 0.6913 - accuracy: 0.5291 - val_loss: 0.6894 - val_accuracy: 0.5343\n",
      "Epoch 2/3\n",
      "804/804 [==============================] - ETA: 0s - loss: 0.7021 - accuracy: 0.43 - ETA: 0s - loss: 0.6910 - accuracy: 0.51 - ETA: 0s - loss: 0.6900 - accuracy: 0.52 - ETA: 0s - loss: 0.6897 - accuracy: 0.52 - ETA: 0s - loss: 0.6891 - accuracy: 0.52 - ETA: 0s - loss: 0.6887 - accuracy: 0.52 - ETA: 0s - loss: 0.6873 - accuracy: 0.53 - ETA: 0s - loss: 0.6862 - accuracy: 0.52 - ETA: 0s - loss: 0.6846 - accuracy: 0.54 - ETA: 0s - loss: 0.6822 - accuracy: 0.55 - ETA: 0s - loss: 0.6804 - accuracy: 0.56 - ETA: 0s - loss: 0.6790 - accuracy: 0.57 - ETA: 0s - loss: 0.6766 - accuracy: 0.59 - ETA: 0s - loss: 0.6746 - accuracy: 0.59 - ETA: 0s - loss: 0.6719 - accuracy: 0.60 - ETA: 0s - loss: 0.6676 - accuracy: 0.61 - ETA: 0s - loss: 0.6632 - accuracy: 0.62 - 1s 1ms/step - loss: 0.6629 - accuracy: 0.6294 - val_loss: 0.6117 - val_accuracy: 0.7273\n",
      "Epoch 3/3\n",
      "804/804 [==============================] - ETA: 0s - loss: 0.6342 - accuracy: 0.71 - ETA: 0s - loss: 0.6101 - accuracy: 0.72 - ETA: 0s - loss: 0.6070 - accuracy: 0.72 - ETA: 0s - loss: 0.6033 - accuracy: 0.72 - ETA: 0s - loss: 0.6005 - accuracy: 0.72 - ETA: 0s - loss: 0.5992 - accuracy: 0.72 - ETA: 0s - loss: 0.5977 - accuracy: 0.72 - ETA: 0s - loss: 0.5948 - accuracy: 0.72 - ETA: 0s - loss: 0.5929 - accuracy: 0.72 - ETA: 0s - loss: 0.5919 - accuracy: 0.72 - ETA: 0s - loss: 0.5918 - accuracy: 0.72 - ETA: 0s - loss: 0.5894 - accuracy: 0.72 - ETA: 0s - loss: 0.5898 - accuracy: 0.72 - ETA: 0s - loss: 0.5881 - accuracy: 0.72 - ETA: 0s - loss: 0.5868 - accuracy: 0.72 - ETA: 0s - loss: 0.5875 - accuracy: 0.72 - 1s 1ms/step - loss: 0.5874 - accuracy: 0.7283 - val_loss: 0.5806 - val_accuracy: 0.7284\n"
     ]
    },
    {
     "data": {
      "text/html": [
       "<span style=\"color:#4527A0\"><h1 style=\"font-size:18px\">Trial complete</h1></span>"
      ],
      "text/plain": [
       "<IPython.core.display.HTML object>"
      ]
     },
     "metadata": {},
     "output_type": "display_data"
    },
    {
     "data": {
      "text/html": [
       "<span style=\"color:#4527A0\"><h1 style=\"font-size:18px\">Trial summary</h1></span>"
      ],
      "text/plain": [
       "<IPython.core.display.HTML object>"
      ]
     },
     "metadata": {},
     "output_type": "display_data"
    },
    {
     "data": {
      "text/html": [
       "<span style=\"color:cyan\"> |-Trial ID: 6a1ebb99c8151559a32a7f0cb98308e2</span>"
      ],
      "text/plain": [
       "<IPython.core.display.HTML object>"
      ]
     },
     "metadata": {},
     "output_type": "display_data"
    },
    {
     "data": {
      "text/html": [
       "<span style=\"color:cyan\"> |-Score: 0.728396475315094</span>"
      ],
      "text/plain": [
       "<IPython.core.display.HTML object>"
      ]
     },
     "metadata": {},
     "output_type": "display_data"
    },
    {
     "data": {
      "text/html": [
       "<span style=\"color:cyan\"> |-Best step: 0</span>"
      ],
      "text/plain": [
       "<IPython.core.display.HTML object>"
      ]
     },
     "metadata": {},
     "output_type": "display_data"
    },
    {
     "data": {
      "text/html": [
       "<span style=\"color:#7E57C2\"><h2 style=\"font-size:16px\">Hyperparameters:</h2></span>"
      ],
      "text/plain": [
       "<IPython.core.display.HTML object>"
      ]
     },
     "metadata": {},
     "output_type": "display_data"
    },
    {
     "data": {
      "text/html": [
       "<span style=\"color:cyan\"> |-activation: sigmoid</span>"
      ],
      "text/plain": [
       "<IPython.core.display.HTML object>"
      ]
     },
     "metadata": {},
     "output_type": "display_data"
    },
    {
     "data": {
      "text/html": [
       "<span style=\"color:blue\"> |-first_units: 3</span>"
      ],
      "text/plain": [
       "<IPython.core.display.HTML object>"
      ]
     },
     "metadata": {},
     "output_type": "display_data"
    },
    {
     "data": {
      "text/html": [
       "<span style=\"color:cyan\"> |-num_layers: 5</span>"
      ],
      "text/plain": [
       "<IPython.core.display.HTML object>"
      ]
     },
     "metadata": {},
     "output_type": "display_data"
    },
    {
     "data": {
      "text/html": [
       "<span style=\"color:blue\"> |-tuner/bracket: 2</span>"
      ],
      "text/plain": [
       "<IPython.core.display.HTML object>"
      ]
     },
     "metadata": {},
     "output_type": "display_data"
    },
    {
     "data": {
      "text/html": [
       "<span style=\"color:cyan\"> |-tuner/epochs: 3</span>"
      ],
      "text/plain": [
       "<IPython.core.display.HTML object>"
      ]
     },
     "metadata": {},
     "output_type": "display_data"
    },
    {
     "data": {
      "text/html": [
       "<span style=\"color:blue\"> |-tuner/initial_epoch: 0</span>"
      ],
      "text/plain": [
       "<IPython.core.display.HTML object>"
      ]
     },
     "metadata": {},
     "output_type": "display_data"
    },
    {
     "data": {
      "text/html": [
       "<span style=\"color:cyan\"> |-tuner/round: 0</span>"
      ],
      "text/plain": [
       "<IPython.core.display.HTML object>"
      ]
     },
     "metadata": {},
     "output_type": "display_data"
    },
    {
     "data": {
      "text/html": [
       "<span style=\"color:blue\"> |-units_0: 9</span>"
      ],
      "text/plain": [
       "<IPython.core.display.HTML object>"
      ]
     },
     "metadata": {},
     "output_type": "display_data"
    },
    {
     "data": {
      "text/html": [
       "<span style=\"color:cyan\"> |-units_1: 3</span>"
      ],
      "text/plain": [
       "<IPython.core.display.HTML object>"
      ]
     },
     "metadata": {},
     "output_type": "display_data"
    },
    {
     "data": {
      "text/html": [
       "<span style=\"color:blue\"> |-units_2: 1</span>"
      ],
      "text/plain": [
       "<IPython.core.display.HTML object>"
      ]
     },
     "metadata": {},
     "output_type": "display_data"
    },
    {
     "data": {
      "text/html": [
       "<span style=\"color:cyan\"> |-units_3: 7</span>"
      ],
      "text/plain": [
       "<IPython.core.display.HTML object>"
      ]
     },
     "metadata": {},
     "output_type": "display_data"
    },
    {
     "data": {
      "text/html": [
       "<span style=\"color:blue\"> |-units_4: 9</span>"
      ],
      "text/plain": [
       "<IPython.core.display.HTML object>"
      ]
     },
     "metadata": {},
     "output_type": "display_data"
    },
    {
     "data": {
      "text/html": [
       "<span style=\"color:cyan\"> |-units_5: 5</span>"
      ],
      "text/plain": [
       "<IPython.core.display.HTML object>"
      ]
     },
     "metadata": {},
     "output_type": "display_data"
    },
    {
     "name": "stdout",
     "output_type": "stream",
     "text": [
      "Epoch 1/3\n",
      "804/804 [==============================] - ETA: 0s - loss: 0.6741 - accuracy: 0.56 - ETA: 0s - loss: 0.6719 - accuracy: 0.54 - ETA: 0s - loss: 0.6627 - accuracy: 0.56 - ETA: 0s - loss: 0.6531 - accuracy: 0.59 - ETA: 0s - loss: 0.6522 - accuracy: 0.61 - ETA: 0s - loss: 0.6478 - accuracy: 0.63 - ETA: 0s - loss: 0.6443 - accuracy: 0.64 - ETA: 0s - loss: 0.6397 - accuracy: 0.65 - ETA: 0s - loss: 0.6379 - accuracy: 0.65 - ETA: 0s - loss: 0.6346 - accuracy: 0.66 - ETA: 0s - loss: 0.6317 - accuracy: 0.66 - ETA: 0s - loss: 0.6289 - accuracy: 0.67 - ETA: 0s - loss: 0.6268 - accuracy: 0.67 - 1s 1ms/step - loss: 0.6241 - accuracy: 0.6785 - val_loss: 0.6042 - val_accuracy: 0.7085\n",
      "Epoch 2/3\n",
      "804/804 [==============================] - ETA: 0s - loss: 0.7152 - accuracy: 0.59 - ETA: 0s - loss: 0.6056 - accuracy: 0.70 - ETA: 0s - loss: 0.6060 - accuracy: 0.71 - ETA: 0s - loss: 0.6046 - accuracy: 0.71 - ETA: 0s - loss: 0.6036 - accuracy: 0.71 - ETA: 0s - loss: 0.6005 - accuracy: 0.71 - ETA: 0s - loss: 0.5986 - accuracy: 0.71 - ETA: 0s - loss: 0.5958 - accuracy: 0.71 - ETA: 0s - loss: 0.5943 - accuracy: 0.71 - ETA: 0s - loss: 0.5939 - accuracy: 0.71 - ETA: 0s - loss: 0.5943 - accuracy: 0.71 - ETA: 0s - loss: 0.5933 - accuracy: 0.71 - ETA: 0s - loss: 0.5922 - accuracy: 0.71 - ETA: 0s - loss: 0.5904 - accuracy: 0.72 - 1s 1ms/step - loss: 0.5912 - accuracy: 0.7192 - val_loss: 0.5896 - val_accuracy: 0.7184\n",
      "Epoch 3/3\n",
      "804/804 [==============================] - ETA: 0s - loss: 0.6798 - accuracy: 0.59 - ETA: 0s - loss: 0.5790 - accuracy: 0.73 - ETA: 0s - loss: 0.5747 - accuracy: 0.73 - ETA: 0s - loss: 0.5789 - accuracy: 0.72 - ETA: 0s - loss: 0.5825 - accuracy: 0.72 - ETA: 0s - loss: 0.5811 - accuracy: 0.72 - ETA: 0s - loss: 0.5815 - accuracy: 0.72 - ETA: 0s - loss: 0.5823 - accuracy: 0.72 - ETA: 0s - loss: 0.5832 - accuracy: 0.72 - ETA: 0s - loss: 0.5832 - accuracy: 0.72 - ETA: 0s - loss: 0.5830 - accuracy: 0.72 - ETA: 0s - loss: 0.5817 - accuracy: 0.72 - ETA: 0s - loss: 0.5814 - accuracy: 0.72 - ETA: 0s - loss: 0.5802 - accuracy: 0.72 - 1s 1ms/step - loss: 0.5814 - accuracy: 0.7211 - val_loss: 0.5843 - val_accuracy: 0.7150\n"
     ]
    },
    {
     "data": {
      "text/html": [
       "<span style=\"color:#4527A0\"><h1 style=\"font-size:18px\">Trial complete</h1></span>"
      ],
      "text/plain": [
       "<IPython.core.display.HTML object>"
      ]
     },
     "metadata": {},
     "output_type": "display_data"
    },
    {
     "data": {
      "text/html": [
       "<span style=\"color:#4527A0\"><h1 style=\"font-size:18px\">Trial summary</h1></span>"
      ],
      "text/plain": [
       "<IPython.core.display.HTML object>"
      ]
     },
     "metadata": {},
     "output_type": "display_data"
    },
    {
     "data": {
      "text/html": [
       "<span style=\"color:cyan\"> |-Trial ID: f34e2750921b01ab5733add8d0fc548b</span>"
      ],
      "text/plain": [
       "<IPython.core.display.HTML object>"
      ]
     },
     "metadata": {},
     "output_type": "display_data"
    },
    {
     "data": {
      "text/html": [
       "<span style=\"color:cyan\"> |-Score: 0.718367338180542</span>"
      ],
      "text/plain": [
       "<IPython.core.display.HTML object>"
      ]
     },
     "metadata": {},
     "output_type": "display_data"
    },
    {
     "data": {
      "text/html": [
       "<span style=\"color:cyan\"> |-Best step: 0</span>"
      ],
      "text/plain": [
       "<IPython.core.display.HTML object>"
      ]
     },
     "metadata": {},
     "output_type": "display_data"
    },
    {
     "data": {
      "text/html": [
       "<span style=\"color:#7E57C2\"><h2 style=\"font-size:16px\">Hyperparameters:</h2></span>"
      ],
      "text/plain": [
       "<IPython.core.display.HTML object>"
      ]
     },
     "metadata": {},
     "output_type": "display_data"
    },
    {
     "data": {
      "text/html": [
       "<span style=\"color:cyan\"> |-activation: relu</span>"
      ],
      "text/plain": [
       "<IPython.core.display.HTML object>"
      ]
     },
     "metadata": {},
     "output_type": "display_data"
    },
    {
     "data": {
      "text/html": [
       "<span style=\"color:blue\"> |-first_units: 9</span>"
      ],
      "text/plain": [
       "<IPython.core.display.HTML object>"
      ]
     },
     "metadata": {},
     "output_type": "display_data"
    },
    {
     "data": {
      "text/html": [
       "<span style=\"color:cyan\"> |-num_layers: 5</span>"
      ],
      "text/plain": [
       "<IPython.core.display.HTML object>"
      ]
     },
     "metadata": {},
     "output_type": "display_data"
    },
    {
     "data": {
      "text/html": [
       "<span style=\"color:blue\"> |-tuner/bracket: 2</span>"
      ],
      "text/plain": [
       "<IPython.core.display.HTML object>"
      ]
     },
     "metadata": {},
     "output_type": "display_data"
    },
    {
     "data": {
      "text/html": [
       "<span style=\"color:cyan\"> |-tuner/epochs: 3</span>"
      ],
      "text/plain": [
       "<IPython.core.display.HTML object>"
      ]
     },
     "metadata": {},
     "output_type": "display_data"
    },
    {
     "data": {
      "text/html": [
       "<span style=\"color:blue\"> |-tuner/initial_epoch: 0</span>"
      ],
      "text/plain": [
       "<IPython.core.display.HTML object>"
      ]
     },
     "metadata": {},
     "output_type": "display_data"
    },
    {
     "data": {
      "text/html": [
       "<span style=\"color:cyan\"> |-tuner/round: 0</span>"
      ],
      "text/plain": [
       "<IPython.core.display.HTML object>"
      ]
     },
     "metadata": {},
     "output_type": "display_data"
    },
    {
     "data": {
      "text/html": [
       "<span style=\"color:blue\"> |-units_0: 5</span>"
      ],
      "text/plain": [
       "<IPython.core.display.HTML object>"
      ]
     },
     "metadata": {},
     "output_type": "display_data"
    },
    {
     "data": {
      "text/html": [
       "<span style=\"color:cyan\"> |-units_1: 9</span>"
      ],
      "text/plain": [
       "<IPython.core.display.HTML object>"
      ]
     },
     "metadata": {},
     "output_type": "display_data"
    },
    {
     "data": {
      "text/html": [
       "<span style=\"color:blue\"> |-units_2: 7</span>"
      ],
      "text/plain": [
       "<IPython.core.display.HTML object>"
      ]
     },
     "metadata": {},
     "output_type": "display_data"
    },
    {
     "data": {
      "text/html": [
       "<span style=\"color:cyan\"> |-units_3: 1</span>"
      ],
      "text/plain": [
       "<IPython.core.display.HTML object>"
      ]
     },
     "metadata": {},
     "output_type": "display_data"
    },
    {
     "data": {
      "text/html": [
       "<span style=\"color:blue\"> |-units_4: 7</span>"
      ],
      "text/plain": [
       "<IPython.core.display.HTML object>"
      ]
     },
     "metadata": {},
     "output_type": "display_data"
    },
    {
     "data": {
      "text/html": [
       "<span style=\"color:cyan\"> |-units_5: 9</span>"
      ],
      "text/plain": [
       "<IPython.core.display.HTML object>"
      ]
     },
     "metadata": {},
     "output_type": "display_data"
    },
    {
     "name": "stdout",
     "output_type": "stream",
     "text": [
      "Epoch 1/3\n",
      "804/804 [==============================] - ETA: 0s - loss: 0.6931 - accuracy: 0.43 - ETA: 0s - loss: 0.6928 - accuracy: 0.53 - ETA: 0s - loss: 0.6925 - accuracy: 0.53 - ETA: 0s - loss: 0.6922 - accuracy: 0.53 - ETA: 0s - loss: 0.6920 - accuracy: 0.53 - ETA: 0s - loss: 0.6919 - accuracy: 0.53 - ETA: 0s - loss: 0.6919 - accuracy: 0.53 - ETA: 0s - loss: 0.6921 - accuracy: 0.53 - ETA: 0s - loss: 0.6921 - accuracy: 0.52 - ETA: 0s - loss: 0.6921 - accuracy: 0.52 - ETA: 0s - loss: 0.6920 - accuracy: 0.52 - ETA: 0s - loss: 0.6920 - accuracy: 0.52 - ETA: 0s - loss: 0.6918 - accuracy: 0.53 - ETA: 0s - loss: 0.6916 - accuracy: 0.53 - 1s 1ms/step - loss: 0.6916 - accuracy: 0.5316 - val_loss: 0.6908 - val_accuracy: 0.5343\n",
      "Epoch 2/3\n",
      "804/804 [==============================] - ETA: 0s - loss: 0.6912 - accuracy: 0.53 - ETA: 0s - loss: 0.6923 - accuracy: 0.52 - ETA: 0s - loss: 0.6913 - accuracy: 0.53 - ETA: 0s - loss: 0.6918 - accuracy: 0.52 - ETA: 0s - loss: 0.6907 - accuracy: 0.53 - ETA: 0s - loss: 0.6904 - accuracy: 0.53 - ETA: 0s - loss: 0.6902 - accuracy: 0.53 - ETA: 0s - loss: 0.6903 - accuracy: 0.53 - ETA: 0s - loss: 0.6908 - accuracy: 0.53 - ETA: 0s - loss: 0.6911 - accuracy: 0.53 - ETA: 0s - loss: 0.6910 - accuracy: 0.53 - ETA: 0s - loss: 0.6911 - accuracy: 0.53 - ETA: 0s - loss: 0.6910 - accuracy: 0.53 - ETA: 0s - loss: 0.6910 - accuracy: 0.53 - 1s 1ms/step - loss: 0.6912 - accuracy: 0.5318 - val_loss: 0.6908 - val_accuracy: 0.5343\n",
      "Epoch 3/3\n",
      "804/804 [==============================] - ETA: 0s - loss: 0.6837 - accuracy: 0.59 - ETA: 0s - loss: 0.6901 - accuracy: 0.54 - ETA: 0s - loss: 0.6908 - accuracy: 0.53 - ETA: 0s - loss: 0.6903 - accuracy: 0.53 - ETA: 0s - loss: 0.6908 - accuracy: 0.53 - ETA: 0s - loss: 0.6905 - accuracy: 0.53 - ETA: 0s - loss: 0.6910 - accuracy: 0.53 - ETA: 0s - loss: 0.6907 - accuracy: 0.53 - ETA: 0s - loss: 0.6908 - accuracy: 0.53 - ETA: 0s - loss: 0.6910 - accuracy: 0.53 - ETA: 0s - loss: 0.6911 - accuracy: 0.53 - ETA: 0s - loss: 0.6910 - accuracy: 0.53 - ETA: 0s - loss: 0.6912 - accuracy: 0.53 - ETA: 0s - loss: 0.6912 - accuracy: 0.53 - 1s 1ms/step - loss: 0.6912 - accuracy: 0.5318 - val_loss: 0.6908 - val_accuracy: 0.5343\n"
     ]
    },
    {
     "data": {
      "text/html": [
       "<span style=\"color:#4527A0\"><h1 style=\"font-size:18px\">Trial complete</h1></span>"
      ],
      "text/plain": [
       "<IPython.core.display.HTML object>"
      ]
     },
     "metadata": {},
     "output_type": "display_data"
    },
    {
     "data": {
      "text/html": [
       "<span style=\"color:#4527A0\"><h1 style=\"font-size:18px\">Trial summary</h1></span>"
      ],
      "text/plain": [
       "<IPython.core.display.HTML object>"
      ]
     },
     "metadata": {},
     "output_type": "display_data"
    },
    {
     "data": {
      "text/html": [
       "<span style=\"color:cyan\"> |-Trial ID: 209fd18dfe94d5e11bfcf0f194543489</span>"
      ],
      "text/plain": [
       "<IPython.core.display.HTML object>"
      ]
     },
     "metadata": {},
     "output_type": "display_data"
    },
    {
     "data": {
      "text/html": [
       "<span style=\"color:cyan\"> |-Score: 0.5343440175056458</span>"
      ],
      "text/plain": [
       "<IPython.core.display.HTML object>"
      ]
     },
     "metadata": {},
     "output_type": "display_data"
    },
    {
     "data": {
      "text/html": [
       "<span style=\"color:cyan\"> |-Best step: 0</span>"
      ],
      "text/plain": [
       "<IPython.core.display.HTML object>"
      ]
     },
     "metadata": {},
     "output_type": "display_data"
    },
    {
     "data": {
      "text/html": [
       "<span style=\"color:#7E57C2\"><h2 style=\"font-size:16px\">Hyperparameters:</h2></span>"
      ],
      "text/plain": [
       "<IPython.core.display.HTML object>"
      ]
     },
     "metadata": {},
     "output_type": "display_data"
    },
    {
     "data": {
      "text/html": [
       "<span style=\"color:cyan\"> |-activation: relu</span>"
      ],
      "text/plain": [
       "<IPython.core.display.HTML object>"
      ]
     },
     "metadata": {},
     "output_type": "display_data"
    },
    {
     "data": {
      "text/html": [
       "<span style=\"color:blue\"> |-first_units: 9</span>"
      ],
      "text/plain": [
       "<IPython.core.display.HTML object>"
      ]
     },
     "metadata": {},
     "output_type": "display_data"
    },
    {
     "data": {
      "text/html": [
       "<span style=\"color:cyan\"> |-num_layers: 6</span>"
      ],
      "text/plain": [
       "<IPython.core.display.HTML object>"
      ]
     },
     "metadata": {},
     "output_type": "display_data"
    },
    {
     "data": {
      "text/html": [
       "<span style=\"color:blue\"> |-tuner/bracket: 2</span>"
      ],
      "text/plain": [
       "<IPython.core.display.HTML object>"
      ]
     },
     "metadata": {},
     "output_type": "display_data"
    },
    {
     "data": {
      "text/html": [
       "<span style=\"color:cyan\"> |-tuner/epochs: 3</span>"
      ],
      "text/plain": [
       "<IPython.core.display.HTML object>"
      ]
     },
     "metadata": {},
     "output_type": "display_data"
    },
    {
     "data": {
      "text/html": [
       "<span style=\"color:blue\"> |-tuner/initial_epoch: 0</span>"
      ],
      "text/plain": [
       "<IPython.core.display.HTML object>"
      ]
     },
     "metadata": {},
     "output_type": "display_data"
    },
    {
     "data": {
      "text/html": [
       "<span style=\"color:cyan\"> |-tuner/round: 0</span>"
      ],
      "text/plain": [
       "<IPython.core.display.HTML object>"
      ]
     },
     "metadata": {},
     "output_type": "display_data"
    },
    {
     "data": {
      "text/html": [
       "<span style=\"color:blue\"> |-units_0: 1</span>"
      ],
      "text/plain": [
       "<IPython.core.display.HTML object>"
      ]
     },
     "metadata": {},
     "output_type": "display_data"
    },
    {
     "data": {
      "text/html": [
       "<span style=\"color:cyan\"> |-units_1: 1</span>"
      ],
      "text/plain": [
       "<IPython.core.display.HTML object>"
      ]
     },
     "metadata": {},
     "output_type": "display_data"
    },
    {
     "data": {
      "text/html": [
       "<span style=\"color:blue\"> |-units_2: 1</span>"
      ],
      "text/plain": [
       "<IPython.core.display.HTML object>"
      ]
     },
     "metadata": {},
     "output_type": "display_data"
    },
    {
     "data": {
      "text/html": [
       "<span style=\"color:cyan\"> |-units_3: 7</span>"
      ],
      "text/plain": [
       "<IPython.core.display.HTML object>"
      ]
     },
     "metadata": {},
     "output_type": "display_data"
    },
    {
     "data": {
      "text/html": [
       "<span style=\"color:blue\"> |-units_4: 5</span>"
      ],
      "text/plain": [
       "<IPython.core.display.HTML object>"
      ]
     },
     "metadata": {},
     "output_type": "display_data"
    },
    {
     "data": {
      "text/html": [
       "<span style=\"color:cyan\"> |-units_5: 9</span>"
      ],
      "text/plain": [
       "<IPython.core.display.HTML object>"
      ]
     },
     "metadata": {},
     "output_type": "display_data"
    },
    {
     "name": "stdout",
     "output_type": "stream",
     "text": [
      "Epoch 1/3\n",
      "804/804 [==============================] - ETA: 0s - loss: 0.7031 - accuracy: 0.50 - ETA: 0s - loss: 0.6596 - accuracy: 0.61 - ETA: 0s - loss: 0.6407 - accuracy: 0.65 - ETA: 0s - loss: 0.6217 - accuracy: 0.67 - ETA: 0s - loss: 0.6145 - accuracy: 0.68 - ETA: 0s - loss: 0.6110 - accuracy: 0.68 - ETA: 0s - loss: 0.6052 - accuracy: 0.68 - ETA: 0s - loss: 0.6008 - accuracy: 0.69 - ETA: 0s - loss: 0.5967 - accuracy: 0.69 - ETA: 0s - loss: 0.5930 - accuracy: 0.70 - ETA: 0s - loss: 0.5896 - accuracy: 0.70 - ETA: 0s - loss: 0.5888 - accuracy: 0.70 - ETA: 0s - loss: 0.5870 - accuracy: 0.70 - ETA: 0s - loss: 0.5859 - accuracy: 0.70 - 1s 1ms/step - loss: 0.5859 - accuracy: 0.7086 - val_loss: 0.5687 - val_accuracy: 0.7259\n",
      "Epoch 2/3\n",
      "804/804 [==============================] - ETA: 0s - loss: 0.4851 - accuracy: 0.78 - ETA: 0s - loss: 0.5821 - accuracy: 0.72 - ETA: 0s - loss: 0.5729 - accuracy: 0.72 - ETA: 0s - loss: 0.5686 - accuracy: 0.72 - ETA: 0s - loss: 0.5682 - accuracy: 0.72 - ETA: 0s - loss: 0.5707 - accuracy: 0.72 - ETA: 0s - loss: 0.5693 - accuracy: 0.72 - ETA: 0s - loss: 0.5673 - accuracy: 0.72 - ETA: 0s - loss: 0.5642 - accuracy: 0.72 - ETA: 0s - loss: 0.5636 - accuracy: 0.72 - ETA: 0s - loss: 0.5620 - accuracy: 0.72 - ETA: 0s - loss: 0.5625 - accuracy: 0.72 - ETA: 0s - loss: 0.5620 - accuracy: 0.72 - ETA: 0s - loss: 0.5604 - accuracy: 0.72 - ETA: 0s - loss: 0.5613 - accuracy: 0.72 - ETA: 0s - loss: 0.5616 - accuracy: 0.72 - 1s 1ms/step - loss: 0.5618 - accuracy: 0.7271 - val_loss: 0.5646 - val_accuracy: 0.7230\n",
      "Epoch 3/3\n",
      "804/804 [==============================] - ETA: 0s - loss: 0.5321 - accuracy: 0.78 - ETA: 0s - loss: 0.5710 - accuracy: 0.71 - ETA: 0s - loss: 0.5640 - accuracy: 0.72 - ETA: 0s - loss: 0.5595 - accuracy: 0.72 - ETA: 0s - loss: 0.5621 - accuracy: 0.72 - ETA: 0s - loss: 0.5611 - accuracy: 0.72 - ETA: 0s - loss: 0.5606 - accuracy: 0.72 - ETA: 0s - loss: 0.5585 - accuracy: 0.72 - ETA: 0s - loss: 0.5594 - accuracy: 0.72 - ETA: 0s - loss: 0.5595 - accuracy: 0.72 - ETA: 0s - loss: 0.5583 - accuracy: 0.72 - ETA: 0s - loss: 0.5586 - accuracy: 0.72 - ETA: 0s - loss: 0.5579 - accuracy: 0.72 - ETA: 0s - loss: 0.5584 - accuracy: 0.72 - 1s 1ms/step - loss: 0.5585 - accuracy: 0.7289 - val_loss: 0.5603 - val_accuracy: 0.7266\n"
     ]
    },
    {
     "data": {
      "text/html": [
       "<span style=\"color:#4527A0\"><h1 style=\"font-size:18px\">Trial complete</h1></span>"
      ],
      "text/plain": [
       "<IPython.core.display.HTML object>"
      ]
     },
     "metadata": {},
     "output_type": "display_data"
    },
    {
     "data": {
      "text/html": [
       "<span style=\"color:#4527A0\"><h1 style=\"font-size:18px\">Trial summary</h1></span>"
      ],
      "text/plain": [
       "<IPython.core.display.HTML object>"
      ]
     },
     "metadata": {},
     "output_type": "display_data"
    },
    {
     "data": {
      "text/html": [
       "<span style=\"color:cyan\"> |-Trial ID: ce4600a3ec560fcd2ecbaef3b7ab4a32</span>"
      ],
      "text/plain": [
       "<IPython.core.display.HTML object>"
      ]
     },
     "metadata": {},
     "output_type": "display_data"
    },
    {
     "data": {
      "text/html": [
       "<span style=\"color:cyan\"> |-Score: 0.7266472578048706</span>"
      ],
      "text/plain": [
       "<IPython.core.display.HTML object>"
      ]
     },
     "metadata": {},
     "output_type": "display_data"
    },
    {
     "data": {
      "text/html": [
       "<span style=\"color:cyan\"> |-Best step: 0</span>"
      ],
      "text/plain": [
       "<IPython.core.display.HTML object>"
      ]
     },
     "metadata": {},
     "output_type": "display_data"
    },
    {
     "data": {
      "text/html": [
       "<span style=\"color:#7E57C2\"><h2 style=\"font-size:16px\">Hyperparameters:</h2></span>"
      ],
      "text/plain": [
       "<IPython.core.display.HTML object>"
      ]
     },
     "metadata": {},
     "output_type": "display_data"
    },
    {
     "data": {
      "text/html": [
       "<span style=\"color:cyan\"> |-activation: tanh</span>"
      ],
      "text/plain": [
       "<IPython.core.display.HTML object>"
      ]
     },
     "metadata": {},
     "output_type": "display_data"
    },
    {
     "data": {
      "text/html": [
       "<span style=\"color:blue\"> |-first_units: 7</span>"
      ],
      "text/plain": [
       "<IPython.core.display.HTML object>"
      ]
     },
     "metadata": {},
     "output_type": "display_data"
    },
    {
     "data": {
      "text/html": [
       "<span style=\"color:cyan\"> |-num_layers: 4</span>"
      ],
      "text/plain": [
       "<IPython.core.display.HTML object>"
      ]
     },
     "metadata": {},
     "output_type": "display_data"
    },
    {
     "data": {
      "text/html": [
       "<span style=\"color:blue\"> |-tuner/bracket: 2</span>"
      ],
      "text/plain": [
       "<IPython.core.display.HTML object>"
      ]
     },
     "metadata": {},
     "output_type": "display_data"
    },
    {
     "data": {
      "text/html": [
       "<span style=\"color:cyan\"> |-tuner/epochs: 3</span>"
      ],
      "text/plain": [
       "<IPython.core.display.HTML object>"
      ]
     },
     "metadata": {},
     "output_type": "display_data"
    },
    {
     "data": {
      "text/html": [
       "<span style=\"color:blue\"> |-tuner/initial_epoch: 0</span>"
      ],
      "text/plain": [
       "<IPython.core.display.HTML object>"
      ]
     },
     "metadata": {},
     "output_type": "display_data"
    },
    {
     "data": {
      "text/html": [
       "<span style=\"color:cyan\"> |-tuner/round: 0</span>"
      ],
      "text/plain": [
       "<IPython.core.display.HTML object>"
      ]
     },
     "metadata": {},
     "output_type": "display_data"
    },
    {
     "data": {
      "text/html": [
       "<span style=\"color:blue\"> |-units_0: 7</span>"
      ],
      "text/plain": [
       "<IPython.core.display.HTML object>"
      ]
     },
     "metadata": {},
     "output_type": "display_data"
    },
    {
     "data": {
      "text/html": [
       "<span style=\"color:cyan\"> |-units_1: 7</span>"
      ],
      "text/plain": [
       "<IPython.core.display.HTML object>"
      ]
     },
     "metadata": {},
     "output_type": "display_data"
    },
    {
     "data": {
      "text/html": [
       "<span style=\"color:blue\"> |-units_2: 9</span>"
      ],
      "text/plain": [
       "<IPython.core.display.HTML object>"
      ]
     },
     "metadata": {},
     "output_type": "display_data"
    },
    {
     "data": {
      "text/html": [
       "<span style=\"color:cyan\"> |-units_3: 9</span>"
      ],
      "text/plain": [
       "<IPython.core.display.HTML object>"
      ]
     },
     "metadata": {},
     "output_type": "display_data"
    },
    {
     "data": {
      "text/html": [
       "<span style=\"color:blue\"> |-units_4: 9</span>"
      ],
      "text/plain": [
       "<IPython.core.display.HTML object>"
      ]
     },
     "metadata": {},
     "output_type": "display_data"
    },
    {
     "data": {
      "text/html": [
       "<span style=\"color:cyan\"> |-units_5: 1</span>"
      ],
      "text/plain": [
       "<IPython.core.display.HTML object>"
      ]
     },
     "metadata": {},
     "output_type": "display_data"
    },
    {
     "name": "stdout",
     "output_type": "stream",
     "text": [
      "Epoch 1/3\n",
      "774/804 [===========================>..] - ETA: 0s - loss: 0.6760 - accuracy: 0.65 - ETA: 0s - loss: 0.6915 - accuracy: 0.52 - ETA: 0s - loss: 0.6929 - accuracy: 0.51 - ETA: 0s - loss: 0.6922 - accuracy: 0.52 - ETA: 0s - loss: 0.6920 - accuracy: 0.52 - ETA: 0s - loss: 0.6919 - accuracy: 0.52 - ETA: 0s - loss: 0.6919 - accuracy: 0.52 - ETA: 0s - loss: 0.6912 - accuracy: 0.52 - ETA: 0s - loss: 0.6905 - accuracy: 0.52 - ETA: 0s - loss: 0.6902 - accuracy: 0.52 - ETA: 0s - loss: 0.6899 - accuracy: 0.52 - ETA: 0s - loss: 0.6893 - accuracy: 0.52 - ETA: 0s - loss: 0.6887 - accuracy: 0.52 - ETA: 0s - loss: 0.6874 - accuracy: 0.53 - ETA: 0s - loss: 0.6864 - accuracy: 0.53 - ETA: 0s - loss: 0.6847 - accuracy: 0.5316WARNING:tensorflow:Callbacks method `on_test_batch_begin` is slow compared to the batch time (batch time: 0.0003s vs `on_test_batch_begin` time: 0.0010s). Check your callbacks.\n",
      "804/804 [==============================] - 1s 1ms/step - loss: 0.6838 - accuracy: 0.5318 - val_loss: 0.6588 - val_accuracy: 0.5343\n",
      "Epoch 2/3\n",
      "804/804 [==============================] - ETA: 0s - loss: 0.7118 - accuracy: 0.40 - ETA: 0s - loss: 0.6563 - accuracy: 0.53 - ETA: 0s - loss: 0.6512 - accuracy: 0.53 - ETA: 0s - loss: 0.6483 - accuracy: 0.59 - ETA: 0s - loss: 0.6471 - accuracy: 0.61 - ETA: 0s - loss: 0.6429 - accuracy: 0.64 - ETA: 0s - loss: 0.6408 - accuracy: 0.65 - ETA: 0s - loss: 0.6401 - accuracy: 0.66 - ETA: 0s - loss: 0.6383 - accuracy: 0.67 - ETA: 0s - loss: 0.6349 - accuracy: 0.67 - ETA: 0s - loss: 0.6331 - accuracy: 0.68 - ETA: 0s - loss: 0.6302 - accuracy: 0.68 - ETA: 0s - loss: 0.6277 - accuracy: 0.69 - ETA: 0s - loss: 0.6257 - accuracy: 0.69 - 1s 1ms/step - loss: 0.6255 - accuracy: 0.6972 - val_loss: 0.6051 - val_accuracy: 0.7251\n",
      "Epoch 3/3\n",
      "804/804 [==============================] - ETA: 0s - loss: 0.5566 - accuracy: 0.81 - ETA: 0s - loss: 0.6132 - accuracy: 0.71 - ETA: 0s - loss: 0.6077 - accuracy: 0.72 - ETA: 0s - loss: 0.6071 - accuracy: 0.72 - ETA: 0s - loss: 0.6054 - accuracy: 0.72 - ETA: 0s - loss: 0.6041 - accuracy: 0.72 - ETA: 0s - loss: 0.6022 - accuracy: 0.72 - ETA: 0s - loss: 0.6001 - accuracy: 0.72 - ETA: 0s - loss: 0.5997 - accuracy: 0.72 - ETA: 0s - loss: 0.5972 - accuracy: 0.72 - ETA: 0s - loss: 0.5961 - accuracy: 0.72 - ETA: 0s - loss: 0.5948 - accuracy: 0.73 - 1s 938us/step - loss: 0.5943 - accuracy: 0.7298 - val_loss: 0.5894 - val_accuracy: 0.7269\n"
     ]
    },
    {
     "data": {
      "text/html": [
       "<span style=\"color:#4527A0\"><h1 style=\"font-size:18px\">Trial complete</h1></span>"
      ],
      "text/plain": [
       "<IPython.core.display.HTML object>"
      ]
     },
     "metadata": {},
     "output_type": "display_data"
    },
    {
     "data": {
      "text/html": [
       "<span style=\"color:#4527A0\"><h1 style=\"font-size:18px\">Trial summary</h1></span>"
      ],
      "text/plain": [
       "<IPython.core.display.HTML object>"
      ]
     },
     "metadata": {},
     "output_type": "display_data"
    },
    {
     "data": {
      "text/html": [
       "<span style=\"color:cyan\"> |-Trial ID: bee29831b61cf6993fe8c6c2e42ae89e</span>"
      ],
      "text/plain": [
       "<IPython.core.display.HTML object>"
      ]
     },
     "metadata": {},
     "output_type": "display_data"
    },
    {
     "data": {
      "text/html": [
       "<span style=\"color:cyan\"> |-Score: 0.7268804907798767</span>"
      ],
      "text/plain": [
       "<IPython.core.display.HTML object>"
      ]
     },
     "metadata": {},
     "output_type": "display_data"
    },
    {
     "data": {
      "text/html": [
       "<span style=\"color:cyan\"> |-Best step: 0</span>"
      ],
      "text/plain": [
       "<IPython.core.display.HTML object>"
      ]
     },
     "metadata": {},
     "output_type": "display_data"
    },
    {
     "data": {
      "text/html": [
       "<span style=\"color:#7E57C2\"><h2 style=\"font-size:16px\">Hyperparameters:</h2></span>"
      ],
      "text/plain": [
       "<IPython.core.display.HTML object>"
      ]
     },
     "metadata": {},
     "output_type": "display_data"
    },
    {
     "data": {
      "text/html": [
       "<span style=\"color:cyan\"> |-activation: sigmoid</span>"
      ],
      "text/plain": [
       "<IPython.core.display.HTML object>"
      ]
     },
     "metadata": {},
     "output_type": "display_data"
    },
    {
     "data": {
      "text/html": [
       "<span style=\"color:blue\"> |-first_units: 7</span>"
      ],
      "text/plain": [
       "<IPython.core.display.HTML object>"
      ]
     },
     "metadata": {},
     "output_type": "display_data"
    },
    {
     "data": {
      "text/html": [
       "<span style=\"color:cyan\"> |-num_layers: 3</span>"
      ],
      "text/plain": [
       "<IPython.core.display.HTML object>"
      ]
     },
     "metadata": {},
     "output_type": "display_data"
    },
    {
     "data": {
      "text/html": [
       "<span style=\"color:blue\"> |-tuner/bracket: 2</span>"
      ],
      "text/plain": [
       "<IPython.core.display.HTML object>"
      ]
     },
     "metadata": {},
     "output_type": "display_data"
    },
    {
     "data": {
      "text/html": [
       "<span style=\"color:cyan\"> |-tuner/epochs: 3</span>"
      ],
      "text/plain": [
       "<IPython.core.display.HTML object>"
      ]
     },
     "metadata": {},
     "output_type": "display_data"
    },
    {
     "data": {
      "text/html": [
       "<span style=\"color:blue\"> |-tuner/initial_epoch: 0</span>"
      ],
      "text/plain": [
       "<IPython.core.display.HTML object>"
      ]
     },
     "metadata": {},
     "output_type": "display_data"
    },
    {
     "data": {
      "text/html": [
       "<span style=\"color:cyan\"> |-tuner/round: 0</span>"
      ],
      "text/plain": [
       "<IPython.core.display.HTML object>"
      ]
     },
     "metadata": {},
     "output_type": "display_data"
    },
    {
     "data": {
      "text/html": [
       "<span style=\"color:blue\"> |-units_0: 3</span>"
      ],
      "text/plain": [
       "<IPython.core.display.HTML object>"
      ]
     },
     "metadata": {},
     "output_type": "display_data"
    },
    {
     "data": {
      "text/html": [
       "<span style=\"color:cyan\"> |-units_1: 9</span>"
      ],
      "text/plain": [
       "<IPython.core.display.HTML object>"
      ]
     },
     "metadata": {},
     "output_type": "display_data"
    },
    {
     "data": {
      "text/html": [
       "<span style=\"color:blue\"> |-units_2: 1</span>"
      ],
      "text/plain": [
       "<IPython.core.display.HTML object>"
      ]
     },
     "metadata": {},
     "output_type": "display_data"
    },
    {
     "data": {
      "text/html": [
       "<span style=\"color:cyan\"> |-units_3: 9</span>"
      ],
      "text/plain": [
       "<IPython.core.display.HTML object>"
      ]
     },
     "metadata": {},
     "output_type": "display_data"
    },
    {
     "data": {
      "text/html": [
       "<span style=\"color:blue\"> |-units_4: 7</span>"
      ],
      "text/plain": [
       "<IPython.core.display.HTML object>"
      ]
     },
     "metadata": {},
     "output_type": "display_data"
    },
    {
     "data": {
      "text/html": [
       "<span style=\"color:cyan\"> |-units_5: 3</span>"
      ],
      "text/plain": [
       "<IPython.core.display.HTML object>"
      ]
     },
     "metadata": {},
     "output_type": "display_data"
    },
    {
     "name": "stdout",
     "output_type": "stream",
     "text": [
      "Epoch 1/3\n",
      "804/804 [==============================] - ETA: 0s - loss: 0.6952 - accuracy: 0.40 - ETA: 0s - loss: 0.6840 - accuracy: 0.59 - ETA: 0s - loss: 0.6846 - accuracy: 0.58 - ETA: 0s - loss: 0.6828 - accuracy: 0.58 - ETA: 0s - loss: 0.6805 - accuracy: 0.59 - ETA: 0s - loss: 0.6789 - accuracy: 0.59 - ETA: 0s - loss: 0.6772 - accuracy: 0.59 - ETA: 0s - loss: 0.6726 - accuracy: 0.60 - ETA: 0s - loss: 0.6644 - accuracy: 0.62 - ETA: 0s - loss: 0.6583 - accuracy: 0.62 - ETA: 0s - loss: 0.6511 - accuracy: 0.64 - ETA: 0s - loss: 0.6435 - accuracy: 0.65 - ETA: 0s - loss: 0.6397 - accuracy: 0.65 - 1s 1ms/step - loss: 0.6343 - accuracy: 0.6626 - val_loss: 0.5997 - val_accuracy: 0.7029\n",
      "Epoch 2/3\n",
      "804/804 [==============================] - ETA: 0s - loss: 0.6454 - accuracy: 0.68 - ETA: 0s - loss: 0.6078 - accuracy: 0.69 - ETA: 0s - loss: 0.6038 - accuracy: 0.69 - ETA: 0s - loss: 0.5988 - accuracy: 0.70 - ETA: 0s - loss: 0.5999 - accuracy: 0.70 - ETA: 0s - loss: 0.5947 - accuracy: 0.71 - ETA: 0s - loss: 0.5956 - accuracy: 0.71 - ETA: 0s - loss: 0.5942 - accuracy: 0.71 - ETA: 0s - loss: 0.5934 - accuracy: 0.71 - ETA: 0s - loss: 0.5919 - accuracy: 0.71 - ETA: 0s - loss: 0.5910 - accuracy: 0.71 - ETA: 0s - loss: 0.5901 - accuracy: 0.71 - 1s 954us/step - loss: 0.5890 - accuracy: 0.7156 - val_loss: 0.5809 - val_accuracy: 0.7206\n",
      "Epoch 3/3\n",
      "804/804 [==============================] - ETA: 0s - loss: 0.6773 - accuracy: 0.65 - ETA: 0s - loss: 0.5683 - accuracy: 0.73 - ETA: 0s - loss: 0.5741 - accuracy: 0.73 - ETA: 0s - loss: 0.5832 - accuracy: 0.72 - ETA: 0s - loss: 0.5803 - accuracy: 0.72 - ETA: 0s - loss: 0.5813 - accuracy: 0.72 - ETA: 0s - loss: 0.5790 - accuracy: 0.72 - ETA: 0s - loss: 0.5771 - accuracy: 0.72 - ETA: 0s - loss: 0.5798 - accuracy: 0.72 - ETA: 0s - loss: 0.5781 - accuracy: 0.72 - ETA: 0s - loss: 0.5788 - accuracy: 0.72 - ETA: 0s - loss: 0.5792 - accuracy: 0.72 - 1s 909us/step - loss: 0.5797 - accuracy: 0.7251 - val_loss: 0.5782 - val_accuracy: 0.7243\n"
     ]
    },
    {
     "data": {
      "text/html": [
       "<span style=\"color:#4527A0\"><h1 style=\"font-size:18px\">Trial complete</h1></span>"
      ],
      "text/plain": [
       "<IPython.core.display.HTML object>"
      ]
     },
     "metadata": {},
     "output_type": "display_data"
    },
    {
     "data": {
      "text/html": [
       "<span style=\"color:#4527A0\"><h1 style=\"font-size:18px\">Trial summary</h1></span>"
      ],
      "text/plain": [
       "<IPython.core.display.HTML object>"
      ]
     },
     "metadata": {},
     "output_type": "display_data"
    },
    {
     "data": {
      "text/html": [
       "<span style=\"color:cyan\"> |-Trial ID: 84c1093fb074c5a8cfa88e304ece6332</span>"
      ],
      "text/plain": [
       "<IPython.core.display.HTML object>"
      ]
     },
     "metadata": {},
     "output_type": "display_data"
    },
    {
     "data": {
      "text/html": [
       "<span style=\"color:cyan\"> |-Score: 0.7243148684501648</span>"
      ],
      "text/plain": [
       "<IPython.core.display.HTML object>"
      ]
     },
     "metadata": {},
     "output_type": "display_data"
    },
    {
     "data": {
      "text/html": [
       "<span style=\"color:cyan\"> |-Best step: 0</span>"
      ],
      "text/plain": [
       "<IPython.core.display.HTML object>"
      ]
     },
     "metadata": {},
     "output_type": "display_data"
    },
    {
     "data": {
      "text/html": [
       "<span style=\"color:#7E57C2\"><h2 style=\"font-size:16px\">Hyperparameters:</h2></span>"
      ],
      "text/plain": [
       "<IPython.core.display.HTML object>"
      ]
     },
     "metadata": {},
     "output_type": "display_data"
    },
    {
     "data": {
      "text/html": [
       "<span style=\"color:cyan\"> |-activation: tanh</span>"
      ],
      "text/plain": [
       "<IPython.core.display.HTML object>"
      ]
     },
     "metadata": {},
     "output_type": "display_data"
    },
    {
     "data": {
      "text/html": [
       "<span style=\"color:blue\"> |-first_units: 1</span>"
      ],
      "text/plain": [
       "<IPython.core.display.HTML object>"
      ]
     },
     "metadata": {},
     "output_type": "display_data"
    },
    {
     "data": {
      "text/html": [
       "<span style=\"color:cyan\"> |-num_layers: 1</span>"
      ],
      "text/plain": [
       "<IPython.core.display.HTML object>"
      ]
     },
     "metadata": {},
     "output_type": "display_data"
    },
    {
     "data": {
      "text/html": [
       "<span style=\"color:blue\"> |-tuner/bracket: 2</span>"
      ],
      "text/plain": [
       "<IPython.core.display.HTML object>"
      ]
     },
     "metadata": {},
     "output_type": "display_data"
    },
    {
     "data": {
      "text/html": [
       "<span style=\"color:cyan\"> |-tuner/epochs: 3</span>"
      ],
      "text/plain": [
       "<IPython.core.display.HTML object>"
      ]
     },
     "metadata": {},
     "output_type": "display_data"
    },
    {
     "data": {
      "text/html": [
       "<span style=\"color:blue\"> |-tuner/initial_epoch: 0</span>"
      ],
      "text/plain": [
       "<IPython.core.display.HTML object>"
      ]
     },
     "metadata": {},
     "output_type": "display_data"
    },
    {
     "data": {
      "text/html": [
       "<span style=\"color:cyan\"> |-tuner/round: 0</span>"
      ],
      "text/plain": [
       "<IPython.core.display.HTML object>"
      ]
     },
     "metadata": {},
     "output_type": "display_data"
    },
    {
     "data": {
      "text/html": [
       "<span style=\"color:blue\"> |-units_0: 3</span>"
      ],
      "text/plain": [
       "<IPython.core.display.HTML object>"
      ]
     },
     "metadata": {},
     "output_type": "display_data"
    },
    {
     "data": {
      "text/html": [
       "<span style=\"color:cyan\"> |-units_1: 5</span>"
      ],
      "text/plain": [
       "<IPython.core.display.HTML object>"
      ]
     },
     "metadata": {},
     "output_type": "display_data"
    },
    {
     "data": {
      "text/html": [
       "<span style=\"color:blue\"> |-units_2: 9</span>"
      ],
      "text/plain": [
       "<IPython.core.display.HTML object>"
      ]
     },
     "metadata": {},
     "output_type": "display_data"
    },
    {
     "data": {
      "text/html": [
       "<span style=\"color:cyan\"> |-units_3: 5</span>"
      ],
      "text/plain": [
       "<IPython.core.display.HTML object>"
      ]
     },
     "metadata": {},
     "output_type": "display_data"
    },
    {
     "data": {
      "text/html": [
       "<span style=\"color:blue\"> |-units_4: 7</span>"
      ],
      "text/plain": [
       "<IPython.core.display.HTML object>"
      ]
     },
     "metadata": {},
     "output_type": "display_data"
    },
    {
     "data": {
      "text/html": [
       "<span style=\"color:cyan\"> |-units_5: 9</span>"
      ],
      "text/plain": [
       "<IPython.core.display.HTML object>"
      ]
     },
     "metadata": {},
     "output_type": "display_data"
    },
    {
     "name": "stdout",
     "output_type": "stream",
     "text": [
      "Epoch 1/3\n",
      "  1/804 [..............................] - ETA: 0s - loss: 0.7034 - accuracy: 0.5312WARNING:tensorflow:Callbacks method `on_train_batch_begin` is slow compared to the batch time (batch time: 0.0000s vs `on_train_batch_begin` time: 0.0010s). Check your callbacks.\n",
      "WARNING:tensorflow:Callbacks method `on_train_batch_end` is slow compared to the batch time (batch time: 0.0000s vs `on_train_batch_end` time: 0.0010s). Check your callbacks.\n",
      "804/804 [==============================] - ETA: 0s - loss: 0.6818 - accuracy: 0.59 - ETA: 0s - loss: 0.6546 - accuracy: 0.63 - ETA: 0s - loss: 0.6392 - accuracy: 0.65 - ETA: 0s - loss: 0.6280 - accuracy: 0.66 - ETA: 0s - loss: 0.6194 - accuracy: 0.67 - ETA: 0s - loss: 0.6139 - accuracy: 0.68 - ETA: 0s - loss: 0.6079 - accuracy: 0.68 - ETA: 0s - loss: 0.6044 - accuracy: 0.69 - ETA: 0s - loss: 0.6021 - accuracy: 0.69 - ETA: 0s - loss: 0.5988 - accuracy: 0.69 - ETA: 0s - loss: 0.5955 - accuracy: 0.70 - ETA: 0s - loss: 0.5932 - accuracy: 0.70 - ETA: 0s - loss: 0.5928 - accuracy: 0.70 - 1s 1ms/step - loss: 0.5919 - accuracy: 0.7054 - val_loss: 0.5675 - val_accuracy: 0.7251\n",
      "Epoch 2/3\n",
      "804/804 [==============================] - ETA: 0s - loss: 0.5614 - accuracy: 0.71 - ETA: 0s - loss: 0.5695 - accuracy: 0.72 - ETA: 0s - loss: 0.5646 - accuracy: 0.72 - ETA: 0s - loss: 0.5590 - accuracy: 0.73 - ETA: 0s - loss: 0.5584 - accuracy: 0.73 - ETA: 0s - loss: 0.5589 - accuracy: 0.73 - ETA: 0s - loss: 0.5620 - accuracy: 0.72 - ETA: 0s - loss: 0.5655 - accuracy: 0.72 - ETA: 0s - loss: 0.5640 - accuracy: 0.72 - ETA: 0s - loss: 0.5631 - accuracy: 0.72 - ETA: 0s - loss: 0.5648 - accuracy: 0.72 - ETA: 0s - loss: 0.5653 - accuracy: 0.72 - ETA: 0s - loss: 0.5637 - accuracy: 0.72 - 1s 1ms/step - loss: 0.5628 - accuracy: 0.7285 - val_loss: 0.5622 - val_accuracy: 0.7280\n",
      "Epoch 3/3\n",
      "804/804 [==============================] - ETA: 0s - loss: 0.5565 - accuracy: 0.65 - ETA: 0s - loss: 0.5597 - accuracy: 0.72 - ETA: 0s - loss: 0.5481 - accuracy: 0.73 - ETA: 0s - loss: 0.5513 - accuracy: 0.73 - ETA: 0s - loss: 0.5532 - accuracy: 0.73 - ETA: 0s - loss: 0.5538 - accuracy: 0.73 - ETA: 0s - loss: 0.5536 - accuracy: 0.73 - ETA: 0s - loss: 0.5556 - accuracy: 0.73 - ETA: 0s - loss: 0.5576 - accuracy: 0.72 - ETA: 0s - loss: 0.5569 - accuracy: 0.73 - ETA: 0s - loss: 0.5573 - accuracy: 0.73 - ETA: 0s - loss: 0.5596 - accuracy: 0.72 - ETA: 0s - loss: 0.5589 - accuracy: 0.72 - 1s 1ms/step - loss: 0.5589 - accuracy: 0.7287 - val_loss: 0.5630 - val_accuracy: 0.7300\n"
     ]
    },
    {
     "data": {
      "text/html": [
       "<span style=\"color:#4527A0\"><h1 style=\"font-size:18px\">Trial complete</h1></span>"
      ],
      "text/plain": [
       "<IPython.core.display.HTML object>"
      ]
     },
     "metadata": {},
     "output_type": "display_data"
    },
    {
     "data": {
      "text/html": [
       "<span style=\"color:#4527A0\"><h1 style=\"font-size:18px\">Trial summary</h1></span>"
      ],
      "text/plain": [
       "<IPython.core.display.HTML object>"
      ]
     },
     "metadata": {},
     "output_type": "display_data"
    },
    {
     "data": {
      "text/html": [
       "<span style=\"color:cyan\"> |-Trial ID: 8520bae713451cab1e0cc64bf2093d89</span>"
      ],
      "text/plain": [
       "<IPython.core.display.HTML object>"
      ]
     },
     "metadata": {},
     "output_type": "display_data"
    },
    {
     "data": {
      "text/html": [
       "<span style=\"color:cyan\"> |-Score: 0.7300291657447815</span>"
      ],
      "text/plain": [
       "<IPython.core.display.HTML object>"
      ]
     },
     "metadata": {},
     "output_type": "display_data"
    },
    {
     "data": {
      "text/html": [
       "<span style=\"color:cyan\"> |-Best step: 0</span>"
      ],
      "text/plain": [
       "<IPython.core.display.HTML object>"
      ]
     },
     "metadata": {},
     "output_type": "display_data"
    },
    {
     "data": {
      "text/html": [
       "<span style=\"color:#7E57C2\"><h2 style=\"font-size:16px\">Hyperparameters:</h2></span>"
      ],
      "text/plain": [
       "<IPython.core.display.HTML object>"
      ]
     },
     "metadata": {},
     "output_type": "display_data"
    },
    {
     "data": {
      "text/html": [
       "<span style=\"color:cyan\"> |-activation: tanh</span>"
      ],
      "text/plain": [
       "<IPython.core.display.HTML object>"
      ]
     },
     "metadata": {},
     "output_type": "display_data"
    },
    {
     "data": {
      "text/html": [
       "<span style=\"color:blue\"> |-first_units: 9</span>"
      ],
      "text/plain": [
       "<IPython.core.display.HTML object>"
      ]
     },
     "metadata": {},
     "output_type": "display_data"
    },
    {
     "data": {
      "text/html": [
       "<span style=\"color:cyan\"> |-num_layers: 2</span>"
      ],
      "text/plain": [
       "<IPython.core.display.HTML object>"
      ]
     },
     "metadata": {},
     "output_type": "display_data"
    },
    {
     "data": {
      "text/html": [
       "<span style=\"color:blue\"> |-tuner/bracket: 2</span>"
      ],
      "text/plain": [
       "<IPython.core.display.HTML object>"
      ]
     },
     "metadata": {},
     "output_type": "display_data"
    },
    {
     "data": {
      "text/html": [
       "<span style=\"color:cyan\"> |-tuner/epochs: 3</span>"
      ],
      "text/plain": [
       "<IPython.core.display.HTML object>"
      ]
     },
     "metadata": {},
     "output_type": "display_data"
    },
    {
     "data": {
      "text/html": [
       "<span style=\"color:blue\"> |-tuner/initial_epoch: 0</span>"
      ],
      "text/plain": [
       "<IPython.core.display.HTML object>"
      ]
     },
     "metadata": {},
     "output_type": "display_data"
    },
    {
     "data": {
      "text/html": [
       "<span style=\"color:cyan\"> |-tuner/round: 0</span>"
      ],
      "text/plain": [
       "<IPython.core.display.HTML object>"
      ]
     },
     "metadata": {},
     "output_type": "display_data"
    },
    {
     "data": {
      "text/html": [
       "<span style=\"color:blue\"> |-units_0: 3</span>"
      ],
      "text/plain": [
       "<IPython.core.display.HTML object>"
      ]
     },
     "metadata": {},
     "output_type": "display_data"
    },
    {
     "data": {
      "text/html": [
       "<span style=\"color:cyan\"> |-units_1: 9</span>"
      ],
      "text/plain": [
       "<IPython.core.display.HTML object>"
      ]
     },
     "metadata": {},
     "output_type": "display_data"
    },
    {
     "data": {
      "text/html": [
       "<span style=\"color:blue\"> |-units_2: 5</span>"
      ],
      "text/plain": [
       "<IPython.core.display.HTML object>"
      ]
     },
     "metadata": {},
     "output_type": "display_data"
    },
    {
     "data": {
      "text/html": [
       "<span style=\"color:cyan\"> |-units_3: 3</span>"
      ],
      "text/plain": [
       "<IPython.core.display.HTML object>"
      ]
     },
     "metadata": {},
     "output_type": "display_data"
    },
    {
     "data": {
      "text/html": [
       "<span style=\"color:blue\"> |-units_4: 7</span>"
      ],
      "text/plain": [
       "<IPython.core.display.HTML object>"
      ]
     },
     "metadata": {},
     "output_type": "display_data"
    },
    {
     "data": {
      "text/html": [
       "<span style=\"color:cyan\"> |-units_5: 9</span>"
      ],
      "text/plain": [
       "<IPython.core.display.HTML object>"
      ]
     },
     "metadata": {},
     "output_type": "display_data"
    },
    {
     "name": "stdout",
     "output_type": "stream",
     "text": [
      "Epoch 1/3\n",
      "804/804 [==============================] - ETA: 0s - loss: 0.7345 - accuracy: 0.43 - ETA: 0s - loss: 0.6974 - accuracy: 0.51 - ETA: 0s - loss: 0.6931 - accuracy: 0.52 - ETA: 0s - loss: 0.6902 - accuracy: 0.53 - ETA: 0s - loss: 0.6839 - accuracy: 0.55 - ETA: 0s - loss: 0.6734 - accuracy: 0.57 - ETA: 0s - loss: 0.6615 - accuracy: 0.59 - ETA: 0s - loss: 0.6528 - accuracy: 0.61 - ETA: 0s - loss: 0.6460 - accuracy: 0.62 - ETA: 0s - loss: 0.6380 - accuracy: 0.63 - ETA: 0s - loss: 0.6326 - accuracy: 0.64 - ETA: 0s - loss: 0.6292 - accuracy: 0.65 - ETA: 0s - loss: 0.6258 - accuracy: 0.65 - ETA: 0s - loss: 0.6236 - accuracy: 0.66 - 1s 1ms/step - loss: 0.6212 - accuracy: 0.6660 - val_loss: 0.5895 - val_accuracy: 0.7167\n",
      "Epoch 2/3\n",
      "804/804 [==============================] - ETA: 0s - loss: 0.5852 - accuracy: 0.71 - ETA: 0s - loss: 0.5878 - accuracy: 0.71 - ETA: 0s - loss: 0.5860 - accuracy: 0.71 - ETA: 0s - loss: 0.5914 - accuracy: 0.71 - ETA: 0s - loss: 0.5911 - accuracy: 0.71 - ETA: 0s - loss: 0.5902 - accuracy: 0.71 - ETA: 0s - loss: 0.5885 - accuracy: 0.71 - ETA: 0s - loss: 0.5897 - accuracy: 0.71 - ETA: 0s - loss: 0.5869 - accuracy: 0.71 - ETA: 0s - loss: 0.5885 - accuracy: 0.71 - ETA: 0s - loss: 0.5865 - accuracy: 0.72 - ETA: 0s - loss: 0.5859 - accuracy: 0.72 - ETA: 0s - loss: 0.5857 - accuracy: 0.72 - ETA: 0s - loss: 0.5852 - accuracy: 0.72 - ETA: 0s - loss: 0.5858 - accuracy: 0.72 - 1s 1ms/step - loss: 0.5858 - accuracy: 0.7206 - val_loss: 0.5820 - val_accuracy: 0.7203\n",
      "Epoch 3/3\n",
      "804/804 [==============================] - ETA: 0s - loss: 0.5604 - accuracy: 0.75 - ETA: 0s - loss: 0.5758 - accuracy: 0.72 - ETA: 0s - loss: 0.5744 - accuracy: 0.72 - ETA: 0s - loss: 0.5760 - accuracy: 0.72 - ETA: 0s - loss: 0.5787 - accuracy: 0.72 - ETA: 0s - loss: 0.5805 - accuracy: 0.72 - ETA: 0s - loss: 0.5813 - accuracy: 0.72 - ETA: 0s - loss: 0.5843 - accuracy: 0.72 - ETA: 0s - loss: 0.5808 - accuracy: 0.72 - ETA: 0s - loss: 0.5821 - accuracy: 0.72 - ETA: 0s - loss: 0.5803 - accuracy: 0.72 - ETA: 0s - loss: 0.5806 - accuracy: 0.72 - ETA: 0s - loss: 0.5807 - accuracy: 0.72 - ETA: 0s - loss: 0.5804 - accuracy: 0.72 - 1s 1ms/step - loss: 0.5806 - accuracy: 0.7238 - val_loss: 0.5810 - val_accuracy: 0.7200\n"
     ]
    },
    {
     "data": {
      "text/html": [
       "<span style=\"color:#4527A0\"><h1 style=\"font-size:18px\">Trial complete</h1></span>"
      ],
      "text/plain": [
       "<IPython.core.display.HTML object>"
      ]
     },
     "metadata": {},
     "output_type": "display_data"
    },
    {
     "data": {
      "text/html": [
       "<span style=\"color:#4527A0\"><h1 style=\"font-size:18px\">Trial summary</h1></span>"
      ],
      "text/plain": [
       "<IPython.core.display.HTML object>"
      ]
     },
     "metadata": {},
     "output_type": "display_data"
    },
    {
     "data": {
      "text/html": [
       "<span style=\"color:cyan\"> |-Trial ID: 709a5332061b0a68a2a24bf399003dd9</span>"
      ],
      "text/plain": [
       "<IPython.core.display.HTML object>"
      ]
     },
     "metadata": {},
     "output_type": "display_data"
    },
    {
     "data": {
      "text/html": [
       "<span style=\"color:cyan\"> |-Score: 0.7203498482704163</span>"
      ],
      "text/plain": [
       "<IPython.core.display.HTML object>"
      ]
     },
     "metadata": {},
     "output_type": "display_data"
    },
    {
     "data": {
      "text/html": [
       "<span style=\"color:cyan\"> |-Best step: 0</span>"
      ],
      "text/plain": [
       "<IPython.core.display.HTML object>"
      ]
     },
     "metadata": {},
     "output_type": "display_data"
    },
    {
     "data": {
      "text/html": [
       "<span style=\"color:#7E57C2\"><h2 style=\"font-size:16px\">Hyperparameters:</h2></span>"
      ],
      "text/plain": [
       "<IPython.core.display.HTML object>"
      ]
     },
     "metadata": {},
     "output_type": "display_data"
    },
    {
     "data": {
      "text/html": [
       "<span style=\"color:cyan\"> |-activation: tanh</span>"
      ],
      "text/plain": [
       "<IPython.core.display.HTML object>"
      ]
     },
     "metadata": {},
     "output_type": "display_data"
    },
    {
     "data": {
      "text/html": [
       "<span style=\"color:blue\"> |-first_units: 1</span>"
      ],
      "text/plain": [
       "<IPython.core.display.HTML object>"
      ]
     },
     "metadata": {},
     "output_type": "display_data"
    },
    {
     "data": {
      "text/html": [
       "<span style=\"color:cyan\"> |-num_layers: 6</span>"
      ],
      "text/plain": [
       "<IPython.core.display.HTML object>"
      ]
     },
     "metadata": {},
     "output_type": "display_data"
    },
    {
     "data": {
      "text/html": [
       "<span style=\"color:blue\"> |-tuner/bracket: 2</span>"
      ],
      "text/plain": [
       "<IPython.core.display.HTML object>"
      ]
     },
     "metadata": {},
     "output_type": "display_data"
    },
    {
     "data": {
      "text/html": [
       "<span style=\"color:cyan\"> |-tuner/epochs: 3</span>"
      ],
      "text/plain": [
       "<IPython.core.display.HTML object>"
      ]
     },
     "metadata": {},
     "output_type": "display_data"
    },
    {
     "data": {
      "text/html": [
       "<span style=\"color:blue\"> |-tuner/initial_epoch: 0</span>"
      ],
      "text/plain": [
       "<IPython.core.display.HTML object>"
      ]
     },
     "metadata": {},
     "output_type": "display_data"
    },
    {
     "data": {
      "text/html": [
       "<span style=\"color:cyan\"> |-tuner/round: 0</span>"
      ],
      "text/plain": [
       "<IPython.core.display.HTML object>"
      ]
     },
     "metadata": {},
     "output_type": "display_data"
    },
    {
     "data": {
      "text/html": [
       "<span style=\"color:blue\"> |-units_0: 3</span>"
      ],
      "text/plain": [
       "<IPython.core.display.HTML object>"
      ]
     },
     "metadata": {},
     "output_type": "display_data"
    },
    {
     "data": {
      "text/html": [
       "<span style=\"color:cyan\"> |-units_1: 7</span>"
      ],
      "text/plain": [
       "<IPython.core.display.HTML object>"
      ]
     },
     "metadata": {},
     "output_type": "display_data"
    },
    {
     "data": {
      "text/html": [
       "<span style=\"color:blue\"> |-units_2: 9</span>"
      ],
      "text/plain": [
       "<IPython.core.display.HTML object>"
      ]
     },
     "metadata": {},
     "output_type": "display_data"
    },
    {
     "data": {
      "text/html": [
       "<span style=\"color:cyan\"> |-units_3: 7</span>"
      ],
      "text/plain": [
       "<IPython.core.display.HTML object>"
      ]
     },
     "metadata": {},
     "output_type": "display_data"
    },
    {
     "data": {
      "text/html": [
       "<span style=\"color:blue\"> |-units_4: 7</span>"
      ],
      "text/plain": [
       "<IPython.core.display.HTML object>"
      ]
     },
     "metadata": {},
     "output_type": "display_data"
    },
    {
     "data": {
      "text/html": [
       "<span style=\"color:cyan\"> |-units_5: 7</span>"
      ],
      "text/plain": [
       "<IPython.core.display.HTML object>"
      ]
     },
     "metadata": {},
     "output_type": "display_data"
    },
    {
     "name": "stdout",
     "output_type": "stream",
     "text": [
      "Epoch 1/3\n",
      "804/804 [==============================] - ETA: 0s - loss: 0.7311 - accuracy: 0.34 - ETA: 0s - loss: 0.6900 - accuracy: 0.54 - ETA: 0s - loss: 0.6889 - accuracy: 0.54 - ETA: 0s - loss: 0.6901 - accuracy: 0.53 - ETA: 0s - loss: 0.6903 - accuracy: 0.53 - ETA: 0s - loss: 0.6906 - accuracy: 0.53 - ETA: 0s - loss: 0.6907 - accuracy: 0.53 - ETA: 0s - loss: 0.6906 - accuracy: 0.53 - ETA: 0s - loss: 0.6909 - accuracy: 0.53 - ETA: 0s - loss: 0.6909 - accuracy: 0.53 - ETA: 0s - loss: 0.6909 - accuracy: 0.53 - ETA: 0s - loss: 0.6907 - accuracy: 0.53 - ETA: 0s - loss: 0.6909 - accuracy: 0.53 - ETA: 0s - loss: 0.6910 - accuracy: 0.53 - 1s 1ms/step - loss: 0.6910 - accuracy: 0.5318 - val_loss: 0.6896 - val_accuracy: 0.5343\n",
      "Epoch 2/3\n",
      "804/804 [==============================] - ETA: 0s - loss: 0.6897 - accuracy: 0.53 - ETA: 0s - loss: 0.6898 - accuracy: 0.52 - ETA: 0s - loss: 0.6887 - accuracy: 0.53 - ETA: 0s - loss: 0.6885 - accuracy: 0.53 - ETA: 0s - loss: 0.6879 - accuracy: 0.53 - ETA: 0s - loss: 0.6869 - accuracy: 0.53 - ETA: 0s - loss: 0.6852 - accuracy: 0.53 - ETA: 0s - loss: 0.6836 - accuracy: 0.53 - ETA: 0s - loss: 0.6818 - accuracy: 0.55 - ETA: 0s - loss: 0.6791 - accuracy: 0.57 - ETA: 0s - loss: 0.6768 - accuracy: 0.58 - ETA: 0s - loss: 0.6738 - accuracy: 0.59 - ETA: 0s - loss: 0.6708 - accuracy: 0.61 - ETA: 0s - loss: 0.6678 - accuracy: 0.62 - 1s 1ms/step - loss: 0.6672 - accuracy: 0.6223 - val_loss: 0.6310 - val_accuracy: 0.7237\n",
      "Epoch 3/3\n",
      "804/804 [==============================] - ETA: 0s - loss: 0.5681 - accuracy: 0.90 - ETA: 0s - loss: 0.6282 - accuracy: 0.73 - ETA: 0s - loss: 0.6217 - accuracy: 0.74 - ETA: 0s - loss: 0.6206 - accuracy: 0.73 - ETA: 0s - loss: 0.6206 - accuracy: 0.72 - ETA: 0s - loss: 0.6183 - accuracy: 0.72 - ETA: 0s - loss: 0.6170 - accuracy: 0.72 - ETA: 0s - loss: 0.6166 - accuracy: 0.72 - ETA: 0s - loss: 0.6148 - accuracy: 0.72 - ETA: 0s - loss: 0.6119 - accuracy: 0.72 - ETA: 0s - loss: 0.6107 - accuracy: 0.72 - ETA: 0s - loss: 0.6085 - accuracy: 0.72 - ETA: 0s - loss: 0.6076 - accuracy: 0.72 - ETA: 0s - loss: 0.6069 - accuracy: 0.72 - ETA: 0s - loss: 0.6055 - accuracy: 0.72 - 1s 1ms/step - loss: 0.6046 - accuracy: 0.7292 - val_loss: 0.5899 - val_accuracy: 0.7237\n"
     ]
    },
    {
     "data": {
      "text/html": [
       "<span style=\"color:#4527A0\"><h1 style=\"font-size:18px\">Trial complete</h1></span>"
      ],
      "text/plain": [
       "<IPython.core.display.HTML object>"
      ]
     },
     "metadata": {},
     "output_type": "display_data"
    },
    {
     "data": {
      "text/html": [
       "<span style=\"color:#4527A0\"><h1 style=\"font-size:18px\">Trial summary</h1></span>"
      ],
      "text/plain": [
       "<IPython.core.display.HTML object>"
      ]
     },
     "metadata": {},
     "output_type": "display_data"
    },
    {
     "data": {
      "text/html": [
       "<span style=\"color:cyan\"> |-Trial ID: 96fb12a0414f908778b288c5a0955ca2</span>"
      ],
      "text/plain": [
       "<IPython.core.display.HTML object>"
      ]
     },
     "metadata": {},
     "output_type": "display_data"
    },
    {
     "data": {
      "text/html": [
       "<span style=\"color:cyan\"> |-Score: 0.7237317562103271</span>"
      ],
      "text/plain": [
       "<IPython.core.display.HTML object>"
      ]
     },
     "metadata": {},
     "output_type": "display_data"
    },
    {
     "data": {
      "text/html": [
       "<span style=\"color:cyan\"> |-Best step: 0</span>"
      ],
      "text/plain": [
       "<IPython.core.display.HTML object>"
      ]
     },
     "metadata": {},
     "output_type": "display_data"
    },
    {
     "data": {
      "text/html": [
       "<span style=\"color:#7E57C2\"><h2 style=\"font-size:16px\">Hyperparameters:</h2></span>"
      ],
      "text/plain": [
       "<IPython.core.display.HTML object>"
      ]
     },
     "metadata": {},
     "output_type": "display_data"
    },
    {
     "data": {
      "text/html": [
       "<span style=\"color:cyan\"> |-activation: sigmoid</span>"
      ],
      "text/plain": [
       "<IPython.core.display.HTML object>"
      ]
     },
     "metadata": {},
     "output_type": "display_data"
    },
    {
     "data": {
      "text/html": [
       "<span style=\"color:blue\"> |-first_units: 1</span>"
      ],
      "text/plain": [
       "<IPython.core.display.HTML object>"
      ]
     },
     "metadata": {},
     "output_type": "display_data"
    },
    {
     "data": {
      "text/html": [
       "<span style=\"color:cyan\"> |-num_layers: 4</span>"
      ],
      "text/plain": [
       "<IPython.core.display.HTML object>"
      ]
     },
     "metadata": {},
     "output_type": "display_data"
    },
    {
     "data": {
      "text/html": [
       "<span style=\"color:blue\"> |-tuner/bracket: 2</span>"
      ],
      "text/plain": [
       "<IPython.core.display.HTML object>"
      ]
     },
     "metadata": {},
     "output_type": "display_data"
    },
    {
     "data": {
      "text/html": [
       "<span style=\"color:cyan\"> |-tuner/epochs: 3</span>"
      ],
      "text/plain": [
       "<IPython.core.display.HTML object>"
      ]
     },
     "metadata": {},
     "output_type": "display_data"
    },
    {
     "data": {
      "text/html": [
       "<span style=\"color:blue\"> |-tuner/initial_epoch: 0</span>"
      ],
      "text/plain": [
       "<IPython.core.display.HTML object>"
      ]
     },
     "metadata": {},
     "output_type": "display_data"
    },
    {
     "data": {
      "text/html": [
       "<span style=\"color:cyan\"> |-tuner/round: 0</span>"
      ],
      "text/plain": [
       "<IPython.core.display.HTML object>"
      ]
     },
     "metadata": {},
     "output_type": "display_data"
    },
    {
     "data": {
      "text/html": [
       "<span style=\"color:blue\"> |-units_0: 9</span>"
      ],
      "text/plain": [
       "<IPython.core.display.HTML object>"
      ]
     },
     "metadata": {},
     "output_type": "display_data"
    },
    {
     "data": {
      "text/html": [
       "<span style=\"color:cyan\"> |-units_1: 9</span>"
      ],
      "text/plain": [
       "<IPython.core.display.HTML object>"
      ]
     },
     "metadata": {},
     "output_type": "display_data"
    },
    {
     "data": {
      "text/html": [
       "<span style=\"color:blue\"> |-units_2: 1</span>"
      ],
      "text/plain": [
       "<IPython.core.display.HTML object>"
      ]
     },
     "metadata": {},
     "output_type": "display_data"
    },
    {
     "data": {
      "text/html": [
       "<span style=\"color:cyan\"> |-units_3: 7</span>"
      ],
      "text/plain": [
       "<IPython.core.display.HTML object>"
      ]
     },
     "metadata": {},
     "output_type": "display_data"
    },
    {
     "data": {
      "text/html": [
       "<span style=\"color:blue\"> |-units_4: 5</span>"
      ],
      "text/plain": [
       "<IPython.core.display.HTML object>"
      ]
     },
     "metadata": {},
     "output_type": "display_data"
    },
    {
     "data": {
      "text/html": [
       "<span style=\"color:cyan\"> |-units_5: 3</span>"
      ],
      "text/plain": [
       "<IPython.core.display.HTML object>"
      ]
     },
     "metadata": {},
     "output_type": "display_data"
    },
    {
     "name": "stdout",
     "output_type": "stream",
     "text": [
      "Epoch 1/3\n",
      "774/804 [===========================>..] - ETA: 0s - loss: 0.8696 - accuracy: 0.46 - ETA: 0s - loss: 0.7680 - accuracy: 0.52 - ETA: 0s - loss: 0.7384 - accuracy: 0.53 - ETA: 0s - loss: 0.7238 - accuracy: 0.53 - ETA: 0s - loss: 0.7154 - accuracy: 0.53 - ETA: 0s - loss: 0.7115 - accuracy: 0.53 - ETA: 0s - loss: 0.7081 - accuracy: 0.53 - ETA: 0s - loss: 0.7063 - accuracy: 0.53 - ETA: 0s - loss: 0.7052 - accuracy: 0.53 - ETA: 0s - loss: 0.7037 - accuracy: 0.53 - ETA: 0s - loss: 0.7024 - accuracy: 0.53 - ETA: 0s - loss: 0.7016 - accuracy: 0.53 - ETA: 0s - loss: 0.7007 - accuracy: 0.53 - ETA: 0s - loss: 0.7001 - accuracy: 0.53 - ETA: 0s - loss: 0.6995 - accuracy: 0.53 - ETA: 0s - loss: 0.6990 - accuracy: 0.5323WARNING:tensorflow:Callbacks method `on_test_batch_begin` is slow compared to the batch time (batch time: 0.0000s vs `on_test_batch_begin` time: 0.0010s). Check your callbacks.\n",
      "804/804 [==============================] - 1s 2ms/step - loss: 0.6988 - accuracy: 0.5318 - val_loss: 0.6911 - val_accuracy: 0.5343\n",
      "Epoch 2/3\n",
      "804/804 [==============================] - ETA: 0s - loss: 0.6806 - accuracy: 0.65 - ETA: 0s - loss: 0.6936 - accuracy: 0.50 - ETA: 0s - loss: 0.6920 - accuracy: 0.52 - ETA: 0s - loss: 0.6921 - accuracy: 0.52 - ETA: 0s - loss: 0.6919 - accuracy: 0.52 - ETA: 0s - loss: 0.6915 - accuracy: 0.53 - ETA: 0s - loss: 0.6914 - accuracy: 0.53 - ETA: 0s - loss: 0.6912 - accuracy: 0.53 - ETA: 0s - loss: 0.6912 - accuracy: 0.53 - ETA: 0s - loss: 0.6911 - accuracy: 0.53 - ETA: 0s - loss: 0.6911 - accuracy: 0.53 - ETA: 0s - loss: 0.6913 - accuracy: 0.53 - ETA: 0s - loss: 0.6912 - accuracy: 0.53 - ETA: 0s - loss: 0.6909 - accuracy: 0.53 - ETA: 0s - loss: 0.6910 - accuracy: 0.53 - ETA: 0s - loss: 0.6909 - accuracy: 0.53 - ETA: 0s - loss: 0.6910 - accuracy: 0.53 - ETA: 0s - loss: 0.6909 - accuracy: 0.53 - ETA: 0s - loss: 0.6908 - accuracy: 0.53 - 1s 1ms/step - loss: 0.6908 - accuracy: 0.5318 - val_loss: 0.6890 - val_accuracy: 0.5343\n",
      "Epoch 3/3\n",
      "804/804 [==============================] - ETA: 0s - loss: 0.6922 - accuracy: 0.50 - ETA: 0s - loss: 0.6874 - accuracy: 0.54 - ETA: 0s - loss: 0.6879 - accuracy: 0.53 - ETA: 0s - loss: 0.6871 - accuracy: 0.54 - ETA: 0s - loss: 0.6871 - accuracy: 0.53 - ETA: 0s - loss: 0.6866 - accuracy: 0.53 - ETA: 0s - loss: 0.6863 - accuracy: 0.53 - ETA: 0s - loss: 0.6852 - accuracy: 0.53 - ETA: 0s - loss: 0.6847 - accuracy: 0.53 - ETA: 0s - loss: 0.6835 - accuracy: 0.53 - ETA: 0s - loss: 0.6816 - accuracy: 0.53 - ETA: 0s - loss: 0.6792 - accuracy: 0.55 - ETA: 0s - loss: 0.6757 - accuracy: 0.57 - ETA: 0s - loss: 0.6715 - accuracy: 0.58 - 1s 1ms/step - loss: 0.6696 - accuracy: 0.5940 - val_loss: 0.6170 - val_accuracy: 0.7243\n"
     ]
    },
    {
     "data": {
      "text/html": [
       "<span style=\"color:#4527A0\"><h1 style=\"font-size:18px\">Trial complete</h1></span>"
      ],
      "text/plain": [
       "<IPython.core.display.HTML object>"
      ]
     },
     "metadata": {},
     "output_type": "display_data"
    },
    {
     "data": {
      "text/html": [
       "<span style=\"color:#4527A0\"><h1 style=\"font-size:18px\">Trial summary</h1></span>"
      ],
      "text/plain": [
       "<IPython.core.display.HTML object>"
      ]
     },
     "metadata": {},
     "output_type": "display_data"
    },
    {
     "data": {
      "text/html": [
       "<span style=\"color:cyan\"> |-Trial ID: 5007cd78e0088bf4e40d6b2d6e68cc58</span>"
      ],
      "text/plain": [
       "<IPython.core.display.HTML object>"
      ]
     },
     "metadata": {},
     "output_type": "display_data"
    },
    {
     "data": {
      "text/html": [
       "<span style=\"color:cyan\"> |-Score: 0.7243148684501648</span>"
      ],
      "text/plain": [
       "<IPython.core.display.HTML object>"
      ]
     },
     "metadata": {},
     "output_type": "display_data"
    },
    {
     "data": {
      "text/html": [
       "<span style=\"color:cyan\"> |-Best step: 0</span>"
      ],
      "text/plain": [
       "<IPython.core.display.HTML object>"
      ]
     },
     "metadata": {},
     "output_type": "display_data"
    },
    {
     "data": {
      "text/html": [
       "<span style=\"color:#7E57C2\"><h2 style=\"font-size:16px\">Hyperparameters:</h2></span>"
      ],
      "text/plain": [
       "<IPython.core.display.HTML object>"
      ]
     },
     "metadata": {},
     "output_type": "display_data"
    },
    {
     "data": {
      "text/html": [
       "<span style=\"color:cyan\"> |-activation: sigmoid</span>"
      ],
      "text/plain": [
       "<IPython.core.display.HTML object>"
      ]
     },
     "metadata": {},
     "output_type": "display_data"
    },
    {
     "data": {
      "text/html": [
       "<span style=\"color:blue\"> |-first_units: 1</span>"
      ],
      "text/plain": [
       "<IPython.core.display.HTML object>"
      ]
     },
     "metadata": {},
     "output_type": "display_data"
    },
    {
     "data": {
      "text/html": [
       "<span style=\"color:cyan\"> |-num_layers: 4</span>"
      ],
      "text/plain": [
       "<IPython.core.display.HTML object>"
      ]
     },
     "metadata": {},
     "output_type": "display_data"
    },
    {
     "data": {
      "text/html": [
       "<span style=\"color:blue\"> |-tuner/bracket: 2</span>"
      ],
      "text/plain": [
       "<IPython.core.display.HTML object>"
      ]
     },
     "metadata": {},
     "output_type": "display_data"
    },
    {
     "data": {
      "text/html": [
       "<span style=\"color:cyan\"> |-tuner/epochs: 3</span>"
      ],
      "text/plain": [
       "<IPython.core.display.HTML object>"
      ]
     },
     "metadata": {},
     "output_type": "display_data"
    },
    {
     "data": {
      "text/html": [
       "<span style=\"color:blue\"> |-tuner/initial_epoch: 0</span>"
      ],
      "text/plain": [
       "<IPython.core.display.HTML object>"
      ]
     },
     "metadata": {},
     "output_type": "display_data"
    },
    {
     "data": {
      "text/html": [
       "<span style=\"color:cyan\"> |-tuner/round: 0</span>"
      ],
      "text/plain": [
       "<IPython.core.display.HTML object>"
      ]
     },
     "metadata": {},
     "output_type": "display_data"
    },
    {
     "data": {
      "text/html": [
       "<span style=\"color:blue\"> |-units_0: 7</span>"
      ],
      "text/plain": [
       "<IPython.core.display.HTML object>"
      ]
     },
     "metadata": {},
     "output_type": "display_data"
    },
    {
     "data": {
      "text/html": [
       "<span style=\"color:cyan\"> |-units_1: 5</span>"
      ],
      "text/plain": [
       "<IPython.core.display.HTML object>"
      ]
     },
     "metadata": {},
     "output_type": "display_data"
    },
    {
     "data": {
      "text/html": [
       "<span style=\"color:blue\"> |-units_2: 9</span>"
      ],
      "text/plain": [
       "<IPython.core.display.HTML object>"
      ]
     },
     "metadata": {},
     "output_type": "display_data"
    },
    {
     "data": {
      "text/html": [
       "<span style=\"color:cyan\"> |-units_3: 5</span>"
      ],
      "text/plain": [
       "<IPython.core.display.HTML object>"
      ]
     },
     "metadata": {},
     "output_type": "display_data"
    },
    {
     "data": {
      "text/html": [
       "<span style=\"color:blue\"> |-units_4: 3</span>"
      ],
      "text/plain": [
       "<IPython.core.display.HTML object>"
      ]
     },
     "metadata": {},
     "output_type": "display_data"
    },
    {
     "data": {
      "text/html": [
       "<span style=\"color:cyan\"> |-units_5: 7</span>"
      ],
      "text/plain": [
       "<IPython.core.display.HTML object>"
      ]
     },
     "metadata": {},
     "output_type": "display_data"
    },
    {
     "name": "stdout",
     "output_type": "stream",
     "text": [
      "Epoch 1/3\n",
      "804/804 [==============================] - ETA: 0s - loss: 0.6953 - accuracy: 0.46 - ETA: 0s - loss: 0.6919 - accuracy: 0.52 - ETA: 0s - loss: 0.6888 - accuracy: 0.53 - ETA: 0s - loss: 0.6794 - accuracy: 0.56 - ETA: 0s - loss: 0.6643 - accuracy: 0.59 - ETA: 0s - loss: 0.6560 - accuracy: 0.61 - ETA: 0s - loss: 0.6505 - accuracy: 0.62 - ETA: 0s - loss: 0.6453 - accuracy: 0.63 - ETA: 0s - loss: 0.6442 - accuracy: 0.63 - ETA: 0s - loss: 0.6418 - accuracy: 0.64 - ETA: 0s - loss: 0.6410 - accuracy: 0.64 - ETA: 0s - loss: 0.6370 - accuracy: 0.65 - ETA: 0s - loss: 0.6365 - accuracy: 0.65 - 1s 1ms/step - loss: 0.6350 - accuracy: 0.6554 - val_loss: 0.6165 - val_accuracy: 0.6836\n",
      "Epoch 2/3\n",
      "804/804 [==============================] - ETA: 0s - loss: 0.5117 - accuracy: 0.78 - ETA: 0s - loss: 0.6029 - accuracy: 0.70 - ETA: 0s - loss: 0.6103 - accuracy: 0.69 - ETA: 0s - loss: 0.6168 - accuracy: 0.68 - ETA: 0s - loss: 0.6189 - accuracy: 0.68 - ETA: 0s - loss: 0.6206 - accuracy: 0.67 - ETA: 0s - loss: 0.6205 - accuracy: 0.67 - ETA: 0s - loss: 0.6189 - accuracy: 0.68 - ETA: 0s - loss: 0.6193 - accuracy: 0.68 - ETA: 0s - loss: 0.6182 - accuracy: 0.68 - ETA: 0s - loss: 0.6171 - accuracy: 0.68 - ETA: 0s - loss: 0.6153 - accuracy: 0.68 - ETA: 0s - loss: 0.6159 - accuracy: 0.68 - ETA: 0s - loss: 0.6153 - accuracy: 0.68 - 1s 1ms/step - loss: 0.6148 - accuracy: 0.6827 - val_loss: 0.6041 - val_accuracy: 0.6828\n",
      "Epoch 3/3\n",
      "804/804 [==============================] - ETA: 0s - loss: 0.5825 - accuracy: 0.71 - ETA: 0s - loss: 0.6049 - accuracy: 0.67 - ETA: 0s - loss: 0.6013 - accuracy: 0.68 - ETA: 0s - loss: 0.5982 - accuracy: 0.69 - ETA: 0s - loss: 0.5979 - accuracy: 0.69 - ETA: 0s - loss: 0.5960 - accuracy: 0.69 - ETA: 0s - loss: 0.5934 - accuracy: 0.70 - ETA: 0s - loss: 0.5895 - accuracy: 0.70 - ETA: 0s - loss: 0.5881 - accuracy: 0.70 - ETA: 0s - loss: 0.5875 - accuracy: 0.70 - ETA: 0s - loss: 0.5874 - accuracy: 0.70 - ETA: 0s - loss: 0.5864 - accuracy: 0.71 - ETA: 0s - loss: 0.5857 - accuracy: 0.71 - ETA: 0s - loss: 0.5861 - accuracy: 0.70 - 1s 1ms/step - loss: 0.5859 - accuracy: 0.7095 - val_loss: 0.5744 - val_accuracy: 0.7231\n"
     ]
    },
    {
     "data": {
      "text/html": [
       "<span style=\"color:#4527A0\"><h1 style=\"font-size:18px\">Trial complete</h1></span>"
      ],
      "text/plain": [
       "<IPython.core.display.HTML object>"
      ]
     },
     "metadata": {},
     "output_type": "display_data"
    },
    {
     "data": {
      "text/html": [
       "<span style=\"color:#4527A0\"><h1 style=\"font-size:18px\">Trial summary</h1></span>"
      ],
      "text/plain": [
       "<IPython.core.display.HTML object>"
      ]
     },
     "metadata": {},
     "output_type": "display_data"
    },
    {
     "data": {
      "text/html": [
       "<span style=\"color:cyan\"> |-Trial ID: 651349416d189e0a78c87708ad632e70</span>"
      ],
      "text/plain": [
       "<IPython.core.display.HTML object>"
      ]
     },
     "metadata": {},
     "output_type": "display_data"
    },
    {
     "data": {
      "text/html": [
       "<span style=\"color:cyan\"> |-Score: 0.7231487035751343</span>"
      ],
      "text/plain": [
       "<IPython.core.display.HTML object>"
      ]
     },
     "metadata": {},
     "output_type": "display_data"
    },
    {
     "data": {
      "text/html": [
       "<span style=\"color:cyan\"> |-Best step: 0</span>"
      ],
      "text/plain": [
       "<IPython.core.display.HTML object>"
      ]
     },
     "metadata": {},
     "output_type": "display_data"
    },
    {
     "data": {
      "text/html": [
       "<span style=\"color:#7E57C2\"><h2 style=\"font-size:16px\">Hyperparameters:</h2></span>"
      ],
      "text/plain": [
       "<IPython.core.display.HTML object>"
      ]
     },
     "metadata": {},
     "output_type": "display_data"
    },
    {
     "data": {
      "text/html": [
       "<span style=\"color:cyan\"> |-activation: tanh</span>"
      ],
      "text/plain": [
       "<IPython.core.display.HTML object>"
      ]
     },
     "metadata": {},
     "output_type": "display_data"
    },
    {
     "data": {
      "text/html": [
       "<span style=\"color:blue\"> |-first_units: 1</span>"
      ],
      "text/plain": [
       "<IPython.core.display.HTML object>"
      ]
     },
     "metadata": {},
     "output_type": "display_data"
    },
    {
     "data": {
      "text/html": [
       "<span style=\"color:cyan\"> |-num_layers: 5</span>"
      ],
      "text/plain": [
       "<IPython.core.display.HTML object>"
      ]
     },
     "metadata": {},
     "output_type": "display_data"
    },
    {
     "data": {
      "text/html": [
       "<span style=\"color:blue\"> |-tuner/bracket: 2</span>"
      ],
      "text/plain": [
       "<IPython.core.display.HTML object>"
      ]
     },
     "metadata": {},
     "output_type": "display_data"
    },
    {
     "data": {
      "text/html": [
       "<span style=\"color:cyan\"> |-tuner/epochs: 3</span>"
      ],
      "text/plain": [
       "<IPython.core.display.HTML object>"
      ]
     },
     "metadata": {},
     "output_type": "display_data"
    },
    {
     "data": {
      "text/html": [
       "<span style=\"color:blue\"> |-tuner/initial_epoch: 0</span>"
      ],
      "text/plain": [
       "<IPython.core.display.HTML object>"
      ]
     },
     "metadata": {},
     "output_type": "display_data"
    },
    {
     "data": {
      "text/html": [
       "<span style=\"color:cyan\"> |-tuner/round: 0</span>"
      ],
      "text/plain": [
       "<IPython.core.display.HTML object>"
      ]
     },
     "metadata": {},
     "output_type": "display_data"
    },
    {
     "data": {
      "text/html": [
       "<span style=\"color:blue\"> |-units_0: 7</span>"
      ],
      "text/plain": [
       "<IPython.core.display.HTML object>"
      ]
     },
     "metadata": {},
     "output_type": "display_data"
    },
    {
     "data": {
      "text/html": [
       "<span style=\"color:cyan\"> |-units_1: 3</span>"
      ],
      "text/plain": [
       "<IPython.core.display.HTML object>"
      ]
     },
     "metadata": {},
     "output_type": "display_data"
    },
    {
     "data": {
      "text/html": [
       "<span style=\"color:blue\"> |-units_2: 5</span>"
      ],
      "text/plain": [
       "<IPython.core.display.HTML object>"
      ]
     },
     "metadata": {},
     "output_type": "display_data"
    },
    {
     "data": {
      "text/html": [
       "<span style=\"color:cyan\"> |-units_3: 9</span>"
      ],
      "text/plain": [
       "<IPython.core.display.HTML object>"
      ]
     },
     "metadata": {},
     "output_type": "display_data"
    },
    {
     "data": {
      "text/html": [
       "<span style=\"color:blue\"> |-units_4: 7</span>"
      ],
      "text/plain": [
       "<IPython.core.display.HTML object>"
      ]
     },
     "metadata": {},
     "output_type": "display_data"
    },
    {
     "data": {
      "text/html": [
       "<span style=\"color:cyan\"> |-units_5: 5</span>"
      ],
      "text/plain": [
       "<IPython.core.display.HTML object>"
      ]
     },
     "metadata": {},
     "output_type": "display_data"
    },
    {
     "name": "stdout",
     "output_type": "stream",
     "text": [
      "Epoch 4/7\n",
      "804/804 [==============================] - ETA: 0s - loss: 0.7045 - accuracy: 0.46 - ETA: 0s - loss: 0.6826 - accuracy: 0.58 - ETA: 0s - loss: 0.6666 - accuracy: 0.61 - ETA: 0s - loss: 0.6469 - accuracy: 0.65 - ETA: 0s - loss: 0.6254 - accuracy: 0.67 - ETA: 0s - loss: 0.6157 - accuracy: 0.68 - ETA: 0s - loss: 0.6079 - accuracy: 0.69 - ETA: 0s - loss: 0.6038 - accuracy: 0.69 - ETA: 0s - loss: 0.5997 - accuracy: 0.70 - ETA: 0s - loss: 0.5982 - accuracy: 0.70 - ETA: 0s - loss: 0.5947 - accuracy: 0.70 - ETA: 0s - loss: 0.5918 - accuracy: 0.70 - 1s 1ms/step - loss: 0.5923 - accuracy: 0.7083 - val_loss: 0.5716 - val_accuracy: 0.7249\n",
      "Epoch 5/7\n",
      "804/804 [==============================] - ETA: 0s - loss: 0.6475 - accuracy: 0.65 - ETA: 0s - loss: 0.5616 - accuracy: 0.72 - ETA: 0s - loss: 0.5650 - accuracy: 0.72 - ETA: 0s - loss: 0.5684 - accuracy: 0.72 - ETA: 0s - loss: 0.5668 - accuracy: 0.72 - ETA: 0s - loss: 0.5681 - accuracy: 0.72 - ETA: 0s - loss: 0.5682 - accuracy: 0.72 - ETA: 0s - loss: 0.5675 - accuracy: 0.72 - ETA: 0s - loss: 0.5662 - accuracy: 0.72 - ETA: 0s - loss: 0.5646 - accuracy: 0.72 - ETA: 0s - loss: 0.5652 - accuracy: 0.72 - ETA: 0s - loss: 0.5643 - accuracy: 0.72 - 1s 942us/step - loss: 0.5653 - accuracy: 0.7278 - val_loss: 0.5655 - val_accuracy: 0.7265\n",
      "Epoch 6/7\n",
      "804/804 [==============================] - ETA: 0s - loss: 0.4060 - accuracy: 0.87 - ETA: 0s - loss: 0.5560 - accuracy: 0.72 - ETA: 0s - loss: 0.5615 - accuracy: 0.72 - ETA: 0s - loss: 0.5656 - accuracy: 0.72 - ETA: 0s - loss: 0.5638 - accuracy: 0.72 - ETA: 0s - loss: 0.5664 - accuracy: 0.71 - ETA: 0s - loss: 0.5649 - accuracy: 0.72 - ETA: 0s - loss: 0.5642 - accuracy: 0.72 - ETA: 0s - loss: 0.5637 - accuracy: 0.72 - ETA: 0s - loss: 0.5638 - accuracy: 0.72 - ETA: 0s - loss: 0.5636 - accuracy: 0.72 - ETA: 0s - loss: 0.5614 - accuracy: 0.72 - ETA: 0s - loss: 0.5615 - accuracy: 0.72 - ETA: 0s - loss: 0.5598 - accuracy: 0.72 - ETA: 0s - loss: 0.5601 - accuracy: 0.72 - 1s 1ms/step - loss: 0.5602 - accuracy: 0.7287 - val_loss: 0.5612 - val_accuracy: 0.7264\n",
      "Epoch 7/7\n",
      "804/804 [==============================] - ETA: 0s - loss: 0.6161 - accuracy: 0.65 - ETA: 0s - loss: 0.5674 - accuracy: 0.71 - ETA: 0s - loss: 0.5552 - accuracy: 0.72 - ETA: 0s - loss: 0.5530 - accuracy: 0.73 - ETA: 0s - loss: 0.5516 - accuracy: 0.73 - ETA: 0s - loss: 0.5526 - accuracy: 0.73 - ETA: 0s - loss: 0.5545 - accuracy: 0.73 - ETA: 0s - loss: 0.5548 - accuracy: 0.73 - ETA: 0s - loss: 0.5576 - accuracy: 0.72 - ETA: 0s - loss: 0.5563 - accuracy: 0.72 - ETA: 0s - loss: 0.5576 - accuracy: 0.72 - ETA: 0s - loss: 0.5564 - accuracy: 0.72 - ETA: 0s - loss: 0.5570 - accuracy: 0.72 - 1s 998us/step - loss: 0.5572 - accuracy: 0.7284 - val_loss: 0.5589 - val_accuracy: 0.7291\n"
     ]
    },
    {
     "data": {
      "text/html": [
       "<span style=\"color:#4527A0\"><h1 style=\"font-size:18px\">Trial complete</h1></span>"
      ],
      "text/plain": [
       "<IPython.core.display.HTML object>"
      ]
     },
     "metadata": {},
     "output_type": "display_data"
    },
    {
     "data": {
      "text/html": [
       "<span style=\"color:#4527A0\"><h1 style=\"font-size:18px\">Trial summary</h1></span>"
      ],
      "text/plain": [
       "<IPython.core.display.HTML object>"
      ]
     },
     "metadata": {},
     "output_type": "display_data"
    },
    {
     "data": {
      "text/html": [
       "<span style=\"color:cyan\"> |-Trial ID: 767fb745a45f66286fb0609a989036af</span>"
      ],
      "text/plain": [
       "<IPython.core.display.HTML object>"
      ]
     },
     "metadata": {},
     "output_type": "display_data"
    },
    {
     "data": {
      "text/html": [
       "<span style=\"color:cyan\"> |-Score: 0.7290962338447571</span>"
      ],
      "text/plain": [
       "<IPython.core.display.HTML object>"
      ]
     },
     "metadata": {},
     "output_type": "display_data"
    },
    {
     "data": {
      "text/html": [
       "<span style=\"color:cyan\"> |-Best step: 0</span>"
      ],
      "text/plain": [
       "<IPython.core.display.HTML object>"
      ]
     },
     "metadata": {},
     "output_type": "display_data"
    },
    {
     "data": {
      "text/html": [
       "<span style=\"color:#7E57C2\"><h2 style=\"font-size:16px\">Hyperparameters:</h2></span>"
      ],
      "text/plain": [
       "<IPython.core.display.HTML object>"
      ]
     },
     "metadata": {},
     "output_type": "display_data"
    },
    {
     "data": {
      "text/html": [
       "<span style=\"color:cyan\"> |-activation: tanh</span>"
      ],
      "text/plain": [
       "<IPython.core.display.HTML object>"
      ]
     },
     "metadata": {},
     "output_type": "display_data"
    },
    {
     "data": {
      "text/html": [
       "<span style=\"color:blue\"> |-first_units: 9</span>"
      ],
      "text/plain": [
       "<IPython.core.display.HTML object>"
      ]
     },
     "metadata": {},
     "output_type": "display_data"
    },
    {
     "data": {
      "text/html": [
       "<span style=\"color:cyan\"> |-num_layers: 2</span>"
      ],
      "text/plain": [
       "<IPython.core.display.HTML object>"
      ]
     },
     "metadata": {},
     "output_type": "display_data"
    },
    {
     "data": {
      "text/html": [
       "<span style=\"color:blue\"> |-tuner/bracket: 2</span>"
      ],
      "text/plain": [
       "<IPython.core.display.HTML object>"
      ]
     },
     "metadata": {},
     "output_type": "display_data"
    },
    {
     "data": {
      "text/html": [
       "<span style=\"color:cyan\"> |-tuner/epochs: 7</span>"
      ],
      "text/plain": [
       "<IPython.core.display.HTML object>"
      ]
     },
     "metadata": {},
     "output_type": "display_data"
    },
    {
     "data": {
      "text/html": [
       "<span style=\"color:blue\"> |-tuner/initial_epoch: 3</span>"
      ],
      "text/plain": [
       "<IPython.core.display.HTML object>"
      ]
     },
     "metadata": {},
     "output_type": "display_data"
    },
    {
     "data": {
      "text/html": [
       "<span style=\"color:cyan\"> |-tuner/round: 1</span>"
      ],
      "text/plain": [
       "<IPython.core.display.HTML object>"
      ]
     },
     "metadata": {},
     "output_type": "display_data"
    },
    {
     "data": {
      "text/html": [
       "<span style=\"color:blue\"> |-tuner/trial_id: 8520bae713451cab1e0cc64bf2093d89</span>"
      ],
      "text/plain": [
       "<IPython.core.display.HTML object>"
      ]
     },
     "metadata": {},
     "output_type": "display_data"
    },
    {
     "data": {
      "text/html": [
       "<span style=\"color:cyan\"> |-units_0: 3</span>"
      ],
      "text/plain": [
       "<IPython.core.display.HTML object>"
      ]
     },
     "metadata": {},
     "output_type": "display_data"
    },
    {
     "data": {
      "text/html": [
       "<span style=\"color:blue\"> |-units_1: 9</span>"
      ],
      "text/plain": [
       "<IPython.core.display.HTML object>"
      ]
     },
     "metadata": {},
     "output_type": "display_data"
    },
    {
     "data": {
      "text/html": [
       "<span style=\"color:cyan\"> |-units_2: 5</span>"
      ],
      "text/plain": [
       "<IPython.core.display.HTML object>"
      ]
     },
     "metadata": {},
     "output_type": "display_data"
    },
    {
     "data": {
      "text/html": [
       "<span style=\"color:blue\"> |-units_3: 3</span>"
      ],
      "text/plain": [
       "<IPython.core.display.HTML object>"
      ]
     },
     "metadata": {},
     "output_type": "display_data"
    },
    {
     "data": {
      "text/html": [
       "<span style=\"color:cyan\"> |-units_4: 7</span>"
      ],
      "text/plain": [
       "<IPython.core.display.HTML object>"
      ]
     },
     "metadata": {},
     "output_type": "display_data"
    },
    {
     "data": {
      "text/html": [
       "<span style=\"color:blue\"> |-units_5: 9</span>"
      ],
      "text/plain": [
       "<IPython.core.display.HTML object>"
      ]
     },
     "metadata": {},
     "output_type": "display_data"
    },
    {
     "name": "stdout",
     "output_type": "stream",
     "text": [
      "Epoch 4/7\n",
      "795/804 [============================>.] - ETA: 0s - loss: 0.7456 - accuracy: 0.50 - ETA: 0s - loss: 0.7004 - accuracy: 0.54 - ETA: 0s - loss: 0.6978 - accuracy: 0.53 - ETA: 0s - loss: 0.6960 - accuracy: 0.52 - ETA: 0s - loss: 0.6949 - accuracy: 0.52 - ETA: 0s - loss: 0.6945 - accuracy: 0.52 - ETA: 0s - loss: 0.6941 - accuracy: 0.52 - ETA: 0s - loss: 0.6935 - accuracy: 0.53 - ETA: 0s - loss: 0.6933 - accuracy: 0.52 - ETA: 0s - loss: 0.6926 - accuracy: 0.53 - ETA: 0s - loss: 0.6926 - accuracy: 0.53 - ETA: 0s - loss: 0.6924 - accuracy: 0.53 - ETA: 0s - loss: 0.6923 - accuracy: 0.53 - ETA: 0s - loss: 0.6923 - accuracy: 0.5314WARNING:tensorflow:Callbacks method `on_test_batch_end` is slow compared to the batch time (batch time: 0.0000s vs `on_test_batch_end` time: 0.0010s). Check your callbacks.\n",
      "804/804 [==============================] - 1s 1ms/step - loss: 0.6922 - accuracy: 0.5318 - val_loss: 0.6901 - val_accuracy: 0.5343\n",
      "Epoch 5/7\n",
      "804/804 [==============================] - ETA: 0s - loss: 0.7039 - accuracy: 0.40 - ETA: 0s - loss: 0.6888 - accuracy: 0.54 - ETA: 0s - loss: 0.6905 - accuracy: 0.52 - ETA: 0s - loss: 0.6900 - accuracy: 0.52 - ETA: 0s - loss: 0.6884 - accuracy: 0.53 - ETA: 0s - loss: 0.6881 - accuracy: 0.53 - ETA: 0s - loss: 0.6879 - accuracy: 0.53 - ETA: 0s - loss: 0.6874 - accuracy: 0.53 - ETA: 0s - loss: 0.6868 - accuracy: 0.53 - ETA: 0s - loss: 0.6863 - accuracy: 0.54 - ETA: 0s - loss: 0.6853 - accuracy: 0.54 - ETA: 0s - loss: 0.6841 - accuracy: 0.54 - ETA: 0s - loss: 0.6824 - accuracy: 0.55 - ETA: 0s - loss: 0.6812 - accuracy: 0.55 - ETA: 0s - loss: 0.6797 - accuracy: 0.56 - 1s 1ms/step - loss: 0.6784 - accuracy: 0.5704 - val_loss: 0.6520 - val_accuracy: 0.7244\n",
      "Epoch 6/7\n",
      "804/804 [==============================] - ETA: 0s - loss: 0.6352 - accuracy: 0.78 - ETA: 0s - loss: 0.6469 - accuracy: 0.72 - ETA: 0s - loss: 0.6424 - accuracy: 0.73 - ETA: 0s - loss: 0.6421 - accuracy: 0.72 - ETA: 0s - loss: 0.6372 - accuracy: 0.73 - ETA: 0s - loss: 0.6335 - accuracy: 0.73 - ETA: 0s - loss: 0.6306 - accuracy: 0.72 - ETA: 0s - loss: 0.6267 - accuracy: 0.72 - ETA: 0s - loss: 0.6220 - accuracy: 0.72 - ETA: 0s - loss: 0.6179 - accuracy: 0.73 - ETA: 0s - loss: 0.6150 - accuracy: 0.73 - ETA: 0s - loss: 0.6118 - accuracy: 0.73 - ETA: 0s - loss: 0.6097 - accuracy: 0.73 - ETA: 0s - loss: 0.6083 - accuracy: 0.73 - ETA: 0s - loss: 0.6070 - accuracy: 0.72 - 1s 1ms/step - loss: 0.6069 - accuracy: 0.7295 - val_loss: 0.5870 - val_accuracy: 0.7249\n",
      "Epoch 7/7\n",
      "804/804 [==============================] - ETA: 0s - loss: 0.4980 - accuracy: 0.81 - ETA: 0s - loss: 0.5829 - accuracy: 0.72 - ETA: 0s - loss: 0.5874 - accuracy: 0.72 - ETA: 0s - loss: 0.5845 - accuracy: 0.72 - ETA: 0s - loss: 0.5780 - accuracy: 0.73 - ETA: 0s - loss: 0.5755 - accuracy: 0.73 - ETA: 0s - loss: 0.5769 - accuracy: 0.73 - ETA: 0s - loss: 0.5759 - accuracy: 0.73 - ETA: 0s - loss: 0.5775 - accuracy: 0.73 - ETA: 0s - loss: 0.5783 - accuracy: 0.73 - ETA: 0s - loss: 0.5792 - accuracy: 0.73 - ETA: 0s - loss: 0.5792 - accuracy: 0.73 - ETA: 0s - loss: 0.5794 - accuracy: 0.73 - ETA: 0s - loss: 0.5793 - accuracy: 0.73 - ETA: 0s - loss: 0.5803 - accuracy: 0.73 - 1s 1ms/step - loss: 0.5804 - accuracy: 0.7306 - val_loss: 0.5830 - val_accuracy: 0.7238\n"
     ]
    },
    {
     "data": {
      "text/html": [
       "<span style=\"color:#4527A0\"><h1 style=\"font-size:18px\">Trial complete</h1></span>"
      ],
      "text/plain": [
       "<IPython.core.display.HTML object>"
      ]
     },
     "metadata": {},
     "output_type": "display_data"
    },
    {
     "data": {
      "text/html": [
       "<span style=\"color:#4527A0\"><h1 style=\"font-size:18px\">Trial summary</h1></span>"
      ],
      "text/plain": [
       "<IPython.core.display.HTML object>"
      ]
     },
     "metadata": {},
     "output_type": "display_data"
    },
    {
     "data": {
      "text/html": [
       "<span style=\"color:cyan\"> |-Trial ID: a9dc4d220a9e9db13e34bce0cbd5b3e8</span>"
      ],
      "text/plain": [
       "<IPython.core.display.HTML object>"
      ]
     },
     "metadata": {},
     "output_type": "display_data"
    },
    {
     "data": {
      "text/html": [
       "<span style=\"color:cyan\"> |-Score: 0.7248979806900024</span>"
      ],
      "text/plain": [
       "<IPython.core.display.HTML object>"
      ]
     },
     "metadata": {},
     "output_type": "display_data"
    },
    {
     "data": {
      "text/html": [
       "<span style=\"color:cyan\"> |-Best step: 0</span>"
      ],
      "text/plain": [
       "<IPython.core.display.HTML object>"
      ]
     },
     "metadata": {},
     "output_type": "display_data"
    },
    {
     "data": {
      "text/html": [
       "<span style=\"color:#7E57C2\"><h2 style=\"font-size:16px\">Hyperparameters:</h2></span>"
      ],
      "text/plain": [
       "<IPython.core.display.HTML object>"
      ]
     },
     "metadata": {},
     "output_type": "display_data"
    },
    {
     "data": {
      "text/html": [
       "<span style=\"color:cyan\"> |-activation: sigmoid</span>"
      ],
      "text/plain": [
       "<IPython.core.display.HTML object>"
      ]
     },
     "metadata": {},
     "output_type": "display_data"
    },
    {
     "data": {
      "text/html": [
       "<span style=\"color:blue\"> |-first_units: 3</span>"
      ],
      "text/plain": [
       "<IPython.core.display.HTML object>"
      ]
     },
     "metadata": {},
     "output_type": "display_data"
    },
    {
     "data": {
      "text/html": [
       "<span style=\"color:cyan\"> |-num_layers: 5</span>"
      ],
      "text/plain": [
       "<IPython.core.display.HTML object>"
      ]
     },
     "metadata": {},
     "output_type": "display_data"
    },
    {
     "data": {
      "text/html": [
       "<span style=\"color:blue\"> |-tuner/bracket: 2</span>"
      ],
      "text/plain": [
       "<IPython.core.display.HTML object>"
      ]
     },
     "metadata": {},
     "output_type": "display_data"
    },
    {
     "data": {
      "text/html": [
       "<span style=\"color:cyan\"> |-tuner/epochs: 7</span>"
      ],
      "text/plain": [
       "<IPython.core.display.HTML object>"
      ]
     },
     "metadata": {},
     "output_type": "display_data"
    },
    {
     "data": {
      "text/html": [
       "<span style=\"color:blue\"> |-tuner/initial_epoch: 3</span>"
      ],
      "text/plain": [
       "<IPython.core.display.HTML object>"
      ]
     },
     "metadata": {},
     "output_type": "display_data"
    },
    {
     "data": {
      "text/html": [
       "<span style=\"color:cyan\"> |-tuner/round: 1</span>"
      ],
      "text/plain": [
       "<IPython.core.display.HTML object>"
      ]
     },
     "metadata": {},
     "output_type": "display_data"
    },
    {
     "data": {
      "text/html": [
       "<span style=\"color:blue\"> |-tuner/trial_id: 6a1ebb99c8151559a32a7f0cb98308e2</span>"
      ],
      "text/plain": [
       "<IPython.core.display.HTML object>"
      ]
     },
     "metadata": {},
     "output_type": "display_data"
    },
    {
     "data": {
      "text/html": [
       "<span style=\"color:cyan\"> |-units_0: 9</span>"
      ],
      "text/plain": [
       "<IPython.core.display.HTML object>"
      ]
     },
     "metadata": {},
     "output_type": "display_data"
    },
    {
     "data": {
      "text/html": [
       "<span style=\"color:blue\"> |-units_1: 3</span>"
      ],
      "text/plain": [
       "<IPython.core.display.HTML object>"
      ]
     },
     "metadata": {},
     "output_type": "display_data"
    },
    {
     "data": {
      "text/html": [
       "<span style=\"color:cyan\"> |-units_2: 1</span>"
      ],
      "text/plain": [
       "<IPython.core.display.HTML object>"
      ]
     },
     "metadata": {},
     "output_type": "display_data"
    },
    {
     "data": {
      "text/html": [
       "<span style=\"color:blue\"> |-units_3: 7</span>"
      ],
      "text/plain": [
       "<IPython.core.display.HTML object>"
      ]
     },
     "metadata": {},
     "output_type": "display_data"
    },
    {
     "data": {
      "text/html": [
       "<span style=\"color:cyan\"> |-units_4: 9</span>"
      ],
      "text/plain": [
       "<IPython.core.display.HTML object>"
      ]
     },
     "metadata": {},
     "output_type": "display_data"
    },
    {
     "data": {
      "text/html": [
       "<span style=\"color:blue\"> |-units_5: 5</span>"
      ],
      "text/plain": [
       "<IPython.core.display.HTML object>"
      ]
     },
     "metadata": {},
     "output_type": "display_data"
    },
    {
     "name": "stdout",
     "output_type": "stream",
     "text": [
      "Epoch 4/7\n",
      "804/804 [==============================] - ETA: 0s - loss: 0.6707 - accuracy: 0.62 - ETA: 0s - loss: 0.6903 - accuracy: 0.54 - ETA: 0s - loss: 0.6910 - accuracy: 0.53 - ETA: 0s - loss: 0.6912 - accuracy: 0.53 - ETA: 0s - loss: 0.6921 - accuracy: 0.52 - ETA: 0s - loss: 0.6915 - accuracy: 0.53 - ETA: 0s - loss: 0.6916 - accuracy: 0.52 - ETA: 0s - loss: 0.6912 - accuracy: 0.53 - ETA: 0s - loss: 0.6910 - accuracy: 0.53 - ETA: 0s - loss: 0.6907 - accuracy: 0.53 - ETA: 0s - loss: 0.6901 - accuracy: 0.53 - ETA: 0s - loss: 0.6896 - accuracy: 0.53 - ETA: 0s - loss: 0.6888 - accuracy: 0.53 - ETA: 0s - loss: 0.6876 - accuracy: 0.53 - 1s 1ms/step - loss: 0.6870 - accuracy: 0.5318 - val_loss: 0.6681 - val_accuracy: 0.5343\n",
      "Epoch 5/7\n",
      "804/804 [==============================] - ETA: 0s - loss: 0.6603 - accuracy: 0.50 - ETA: 0s - loss: 0.6684 - accuracy: 0.51 - ETA: 0s - loss: 0.6656 - accuracy: 0.51 - ETA: 0s - loss: 0.6603 - accuracy: 0.54 - ETA: 0s - loss: 0.6578 - accuracy: 0.58 - ETA: 0s - loss: 0.6545 - accuracy: 0.61 - ETA: 0s - loss: 0.6507 - accuracy: 0.64 - ETA: 0s - loss: 0.6480 - accuracy: 0.65 - ETA: 0s - loss: 0.6441 - accuracy: 0.66 - ETA: 0s - loss: 0.6403 - accuracy: 0.67 - ETA: 0s - loss: 0.6383 - accuracy: 0.67 - ETA: 0s - loss: 0.6363 - accuracy: 0.68 - ETA: 0s - loss: 0.6337 - accuracy: 0.68 - ETA: 0s - loss: 0.6323 - accuracy: 0.68 - 1s 1ms/step - loss: 0.6317 - accuracy: 0.6898 - val_loss: 0.6081 - val_accuracy: 0.7238\n",
      "Epoch 6/7\n",
      "804/804 [==============================] - ETA: 0s - loss: 0.6934 - accuracy: 0.59 - ETA: 0s - loss: 0.6130 - accuracy: 0.72 - ETA: 0s - loss: 0.6082 - accuracy: 0.72 - ETA: 0s - loss: 0.6067 - accuracy: 0.72 - ETA: 0s - loss: 0.6029 - accuracy: 0.73 - ETA: 0s - loss: 0.5998 - accuracy: 0.73 - ETA: 0s - loss: 0.5989 - accuracy: 0.73 - ETA: 0s - loss: 0.5997 - accuracy: 0.73 - ETA: 0s - loss: 0.5994 - accuracy: 0.73 - ETA: 0s - loss: 0.5981 - accuracy: 0.73 - ETA: 0s - loss: 0.5974 - accuracy: 0.73 - ETA: 0s - loss: 0.5974 - accuracy: 0.73 - ETA: 0s - loss: 0.5980 - accuracy: 0.72 - ETA: 0s - loss: 0.5966 - accuracy: 0.73 - 1s 1ms/step - loss: 0.5963 - accuracy: 0.7301 - val_loss: 0.5910 - val_accuracy: 0.7287\n",
      "Epoch 7/7\n",
      "804/804 [==============================] - ETA: 0s - loss: 0.6263 - accuracy: 0.65 - ETA: 0s - loss: 0.5841 - accuracy: 0.73 - ETA: 0s - loss: 0.5877 - accuracy: 0.73 - ETA: 0s - loss: 0.5902 - accuracy: 0.72 - ETA: 0s - loss: 0.5885 - accuracy: 0.73 - ETA: 0s - loss: 0.5867 - accuracy: 0.73 - ETA: 0s - loss: 0.5869 - accuracy: 0.72 - ETA: 0s - loss: 0.5879 - accuracy: 0.72 - ETA: 0s - loss: 0.5853 - accuracy: 0.73 - ETA: 0s - loss: 0.5856 - accuracy: 0.73 - ETA: 0s - loss: 0.5852 - accuracy: 0.73 - ETA: 0s - loss: 0.5842 - accuracy: 0.73 - ETA: 0s - loss: 0.5846 - accuracy: 0.73 - ETA: 0s - loss: 0.5839 - accuracy: 0.73 - 1s 1ms/step - loss: 0.5848 - accuracy: 0.7306 - val_loss: 0.5841 - val_accuracy: 0.7291\n"
     ]
    },
    {
     "data": {
      "text/html": [
       "<span style=\"color:#4527A0\"><h1 style=\"font-size:18px\">Trial complete</h1></span>"
      ],
      "text/plain": [
       "<IPython.core.display.HTML object>"
      ]
     },
     "metadata": {},
     "output_type": "display_data"
    },
    {
     "data": {
      "text/html": [
       "<span style=\"color:#4527A0\"><h1 style=\"font-size:18px\">Trial summary</h1></span>"
      ],
      "text/plain": [
       "<IPython.core.display.HTML object>"
      ]
     },
     "metadata": {},
     "output_type": "display_data"
    },
    {
     "data": {
      "text/html": [
       "<span style=\"color:cyan\"> |-Trial ID: cc6f519931a797c2caa0c08badf90b82</span>"
      ],
      "text/plain": [
       "<IPython.core.display.HTML object>"
      ]
     },
     "metadata": {},
     "output_type": "display_data"
    },
    {
     "data": {
      "text/html": [
       "<span style=\"color:cyan\"> |-Score: 0.7290962338447571</span>"
      ],
      "text/plain": [
       "<IPython.core.display.HTML object>"
      ]
     },
     "metadata": {},
     "output_type": "display_data"
    },
    {
     "data": {
      "text/html": [
       "<span style=\"color:cyan\"> |-Best step: 0</span>"
      ],
      "text/plain": [
       "<IPython.core.display.HTML object>"
      ]
     },
     "metadata": {},
     "output_type": "display_data"
    },
    {
     "data": {
      "text/html": [
       "<span style=\"color:#7E57C2\"><h2 style=\"font-size:16px\">Hyperparameters:</h2></span>"
      ],
      "text/plain": [
       "<IPython.core.display.HTML object>"
      ]
     },
     "metadata": {},
     "output_type": "display_data"
    },
    {
     "data": {
      "text/html": [
       "<span style=\"color:cyan\"> |-activation: sigmoid</span>"
      ],
      "text/plain": [
       "<IPython.core.display.HTML object>"
      ]
     },
     "metadata": {},
     "output_type": "display_data"
    },
    {
     "data": {
      "text/html": [
       "<span style=\"color:blue\"> |-first_units: 7</span>"
      ],
      "text/plain": [
       "<IPython.core.display.HTML object>"
      ]
     },
     "metadata": {},
     "output_type": "display_data"
    },
    {
     "data": {
      "text/html": [
       "<span style=\"color:cyan\"> |-num_layers: 3</span>"
      ],
      "text/plain": [
       "<IPython.core.display.HTML object>"
      ]
     },
     "metadata": {},
     "output_type": "display_data"
    },
    {
     "data": {
      "text/html": [
       "<span style=\"color:blue\"> |-tuner/bracket: 2</span>"
      ],
      "text/plain": [
       "<IPython.core.display.HTML object>"
      ]
     },
     "metadata": {},
     "output_type": "display_data"
    },
    {
     "data": {
      "text/html": [
       "<span style=\"color:cyan\"> |-tuner/epochs: 7</span>"
      ],
      "text/plain": [
       "<IPython.core.display.HTML object>"
      ]
     },
     "metadata": {},
     "output_type": "display_data"
    },
    {
     "data": {
      "text/html": [
       "<span style=\"color:blue\"> |-tuner/initial_epoch: 3</span>"
      ],
      "text/plain": [
       "<IPython.core.display.HTML object>"
      ]
     },
     "metadata": {},
     "output_type": "display_data"
    },
    {
     "data": {
      "text/html": [
       "<span style=\"color:cyan\"> |-tuner/round: 1</span>"
      ],
      "text/plain": [
       "<IPython.core.display.HTML object>"
      ]
     },
     "metadata": {},
     "output_type": "display_data"
    },
    {
     "data": {
      "text/html": [
       "<span style=\"color:blue\"> |-tuner/trial_id: bee29831b61cf6993fe8c6c2e42ae89e</span>"
      ],
      "text/plain": [
       "<IPython.core.display.HTML object>"
      ]
     },
     "metadata": {},
     "output_type": "display_data"
    },
    {
     "data": {
      "text/html": [
       "<span style=\"color:cyan\"> |-units_0: 3</span>"
      ],
      "text/plain": [
       "<IPython.core.display.HTML object>"
      ]
     },
     "metadata": {},
     "output_type": "display_data"
    },
    {
     "data": {
      "text/html": [
       "<span style=\"color:blue\"> |-units_1: 9</span>"
      ],
      "text/plain": [
       "<IPython.core.display.HTML object>"
      ]
     },
     "metadata": {},
     "output_type": "display_data"
    },
    {
     "data": {
      "text/html": [
       "<span style=\"color:cyan\"> |-units_2: 1</span>"
      ],
      "text/plain": [
       "<IPython.core.display.HTML object>"
      ]
     },
     "metadata": {},
     "output_type": "display_data"
    },
    {
     "data": {
      "text/html": [
       "<span style=\"color:blue\"> |-units_3: 9</span>"
      ],
      "text/plain": [
       "<IPython.core.display.HTML object>"
      ]
     },
     "metadata": {},
     "output_type": "display_data"
    },
    {
     "data": {
      "text/html": [
       "<span style=\"color:cyan\"> |-units_4: 7</span>"
      ],
      "text/plain": [
       "<IPython.core.display.HTML object>"
      ]
     },
     "metadata": {},
     "output_type": "display_data"
    },
    {
     "data": {
      "text/html": [
       "<span style=\"color:blue\"> |-units_5: 3</span>"
      ],
      "text/plain": [
       "<IPython.core.display.HTML object>"
      ]
     },
     "metadata": {},
     "output_type": "display_data"
    },
    {
     "name": "stdout",
     "output_type": "stream",
     "text": [
      "Epoch 4/7\n",
      "804/804 [==============================] - ETA: 0s - loss: 0.7105 - accuracy: 0.46 - ETA: 0s - loss: 0.6946 - accuracy: 0.53 - ETA: 0s - loss: 0.6801 - accuracy: 0.57 - ETA: 0s - loss: 0.6624 - accuracy: 0.60 - ETA: 0s - loss: 0.6491 - accuracy: 0.62 - ETA: 0s - loss: 0.6386 - accuracy: 0.64 - ETA: 0s - loss: 0.6327 - accuracy: 0.64 - ETA: 0s - loss: 0.6278 - accuracy: 0.65 - ETA: 0s - loss: 0.6213 - accuracy: 0.66 - ETA: 0s - loss: 0.6176 - accuracy: 0.66 - ETA: 0s - loss: 0.6138 - accuracy: 0.67 - ETA: 0s - loss: 0.6107 - accuracy: 0.67 - ETA: 0s - loss: 0.6069 - accuracy: 0.68 - ETA: 0s - loss: 0.6037 - accuracy: 0.68 - ETA: 0s - loss: 0.6011 - accuracy: 0.68 - ETA: 0s - loss: 0.6006 - accuracy: 0.68 - ETA: 0s - loss: 0.5989 - accuracy: 0.69 - ETA: 0s - loss: 0.5977 - accuracy: 0.69 - 1s 2ms/step - loss: 0.5966 - accuracy: 0.6924 - val_loss: 0.5647 - val_accuracy: 0.7258\n",
      "Epoch 5/7\n",
      "804/804 [==============================] - ETA: 0s - loss: 0.5912 - accuracy: 0.71 - ETA: 0s - loss: 0.5717 - accuracy: 0.72 - ETA: 0s - loss: 0.5692 - accuracy: 0.72 - ETA: 0s - loss: 0.5722 - accuracy: 0.71 - ETA: 0s - loss: 0.5653 - accuracy: 0.72 - ETA: 0s - loss: 0.5621 - accuracy: 0.72 - ETA: 0s - loss: 0.5611 - accuracy: 0.72 - ETA: 0s - loss: 0.5611 - accuracy: 0.72 - ETA: 0s - loss: 0.5638 - accuracy: 0.72 - ETA: 0s - loss: 0.5629 - accuracy: 0.72 - ETA: 0s - loss: 0.5629 - accuracy: 0.72 - ETA: 0s - loss: 0.5643 - accuracy: 0.72 - ETA: 0s - loss: 0.5632 - accuracy: 0.72 - ETA: 0s - loss: 0.5614 - accuracy: 0.72 - ETA: 0s - loss: 0.5627 - accuracy: 0.72 - ETA: 0s - loss: 0.5615 - accuracy: 0.72 - 1s 1ms/step - loss: 0.5615 - accuracy: 0.7256 - val_loss: 0.5600 - val_accuracy: 0.7277\n",
      "Epoch 6/7\n",
      "804/804 [==============================] - ETA: 0s - loss: 0.4914 - accuracy: 0.78 - ETA: 0s - loss: 0.5500 - accuracy: 0.73 - ETA: 0s - loss: 0.5545 - accuracy: 0.72 - ETA: 0s - loss: 0.5537 - accuracy: 0.73 - ETA: 0s - loss: 0.5546 - accuracy: 0.73 - ETA: 0s - loss: 0.5545 - accuracy: 0.73 - ETA: 0s - loss: 0.5543 - accuracy: 0.73 - ETA: 0s - loss: 0.5546 - accuracy: 0.73 - ETA: 0s - loss: 0.5561 - accuracy: 0.73 - ETA: 0s - loss: 0.5588 - accuracy: 0.72 - ETA: 0s - loss: 0.5600 - accuracy: 0.72 - ETA: 0s - loss: 0.5598 - accuracy: 0.72 - ETA: 0s - loss: 0.5588 - accuracy: 0.72 - ETA: 0s - loss: 0.5577 - accuracy: 0.72 - ETA: 0s - loss: 0.5570 - accuracy: 0.73 - ETA: 0s - loss: 0.5572 - accuracy: 0.72 - 1s 1ms/step - loss: 0.5570 - accuracy: 0.7297 - val_loss: 0.5592 - val_accuracy: 0.7293\n",
      "Epoch 7/7\n",
      "804/804 [==============================] - ETA: 0s - loss: 0.5208 - accuracy: 0.75 - ETA: 0s - loss: 0.5531 - accuracy: 0.72 - ETA: 0s - loss: 0.5525 - accuracy: 0.72 - ETA: 0s - loss: 0.5491 - accuracy: 0.73 - ETA: 0s - loss: 0.5492 - accuracy: 0.73 - ETA: 0s - loss: 0.5500 - accuracy: 0.73 - ETA: 0s - loss: 0.5514 - accuracy: 0.73 - ETA: 0s - loss: 0.5540 - accuracy: 0.72 - ETA: 0s - loss: 0.5559 - accuracy: 0.72 - ETA: 0s - loss: 0.5549 - accuracy: 0.72 - ETA: 0s - loss: 0.5531 - accuracy: 0.72 - ETA: 0s - loss: 0.5524 - accuracy: 0.72 - ETA: 0s - loss: 0.5539 - accuracy: 0.72 - ETA: 0s - loss: 0.5539 - accuracy: 0.72 - 1s 1ms/step - loss: 0.5545 - accuracy: 0.7292 - val_loss: 0.5562 - val_accuracy: 0.7325\n"
     ]
    },
    {
     "data": {
      "text/html": [
       "<span style=\"color:#4527A0\"><h1 style=\"font-size:18px\">Trial complete</h1></span>"
      ],
      "text/plain": [
       "<IPython.core.display.HTML object>"
      ]
     },
     "metadata": {},
     "output_type": "display_data"
    },
    {
     "data": {
      "text/html": [
       "<span style=\"color:#4527A0\"><h1 style=\"font-size:18px\">Trial summary</h1></span>"
      ],
      "text/plain": [
       "<IPython.core.display.HTML object>"
      ]
     },
     "metadata": {},
     "output_type": "display_data"
    },
    {
     "data": {
      "text/html": [
       "<span style=\"color:cyan\"> |-Trial ID: 2e4d1bba3af367347a1d3dd3879daa08</span>"
      ],
      "text/plain": [
       "<IPython.core.display.HTML object>"
      ]
     },
     "metadata": {},
     "output_type": "display_data"
    },
    {
     "data": {
      "text/html": [
       "<span style=\"color:cyan\"> |-Score: 0.732478141784668</span>"
      ],
      "text/plain": [
       "<IPython.core.display.HTML object>"
      ]
     },
     "metadata": {},
     "output_type": "display_data"
    },
    {
     "data": {
      "text/html": [
       "<span style=\"color:cyan\"> |-Best step: 0</span>"
      ],
      "text/plain": [
       "<IPython.core.display.HTML object>"
      ]
     },
     "metadata": {},
     "output_type": "display_data"
    },
    {
     "data": {
      "text/html": [
       "<span style=\"color:#7E57C2\"><h2 style=\"font-size:16px\">Hyperparameters:</h2></span>"
      ],
      "text/plain": [
       "<IPython.core.display.HTML object>"
      ]
     },
     "metadata": {},
     "output_type": "display_data"
    },
    {
     "data": {
      "text/html": [
       "<span style=\"color:cyan\"> |-activation: tanh</span>"
      ],
      "text/plain": [
       "<IPython.core.display.HTML object>"
      ]
     },
     "metadata": {},
     "output_type": "display_data"
    },
    {
     "data": {
      "text/html": [
       "<span style=\"color:blue\"> |-first_units: 7</span>"
      ],
      "text/plain": [
       "<IPython.core.display.HTML object>"
      ]
     },
     "metadata": {},
     "output_type": "display_data"
    },
    {
     "data": {
      "text/html": [
       "<span style=\"color:cyan\"> |-num_layers: 4</span>"
      ],
      "text/plain": [
       "<IPython.core.display.HTML object>"
      ]
     },
     "metadata": {},
     "output_type": "display_data"
    },
    {
     "data": {
      "text/html": [
       "<span style=\"color:blue\"> |-tuner/bracket: 2</span>"
      ],
      "text/plain": [
       "<IPython.core.display.HTML object>"
      ]
     },
     "metadata": {},
     "output_type": "display_data"
    },
    {
     "data": {
      "text/html": [
       "<span style=\"color:cyan\"> |-tuner/epochs: 7</span>"
      ],
      "text/plain": [
       "<IPython.core.display.HTML object>"
      ]
     },
     "metadata": {},
     "output_type": "display_data"
    },
    {
     "data": {
      "text/html": [
       "<span style=\"color:blue\"> |-tuner/initial_epoch: 3</span>"
      ],
      "text/plain": [
       "<IPython.core.display.HTML object>"
      ]
     },
     "metadata": {},
     "output_type": "display_data"
    },
    {
     "data": {
      "text/html": [
       "<span style=\"color:cyan\"> |-tuner/round: 1</span>"
      ],
      "text/plain": [
       "<IPython.core.display.HTML object>"
      ]
     },
     "metadata": {},
     "output_type": "display_data"
    },
    {
     "data": {
      "text/html": [
       "<span style=\"color:blue\"> |-tuner/trial_id: ce4600a3ec560fcd2ecbaef3b7ab4a32</span>"
      ],
      "text/plain": [
       "<IPython.core.display.HTML object>"
      ]
     },
     "metadata": {},
     "output_type": "display_data"
    },
    {
     "data": {
      "text/html": [
       "<span style=\"color:cyan\"> |-units_0: 7</span>"
      ],
      "text/plain": [
       "<IPython.core.display.HTML object>"
      ]
     },
     "metadata": {},
     "output_type": "display_data"
    },
    {
     "data": {
      "text/html": [
       "<span style=\"color:blue\"> |-units_1: 7</span>"
      ],
      "text/plain": [
       "<IPython.core.display.HTML object>"
      ]
     },
     "metadata": {},
     "output_type": "display_data"
    },
    {
     "data": {
      "text/html": [
       "<span style=\"color:cyan\"> |-units_2: 9</span>"
      ],
      "text/plain": [
       "<IPython.core.display.HTML object>"
      ]
     },
     "metadata": {},
     "output_type": "display_data"
    },
    {
     "data": {
      "text/html": [
       "<span style=\"color:blue\"> |-units_3: 9</span>"
      ],
      "text/plain": [
       "<IPython.core.display.HTML object>"
      ]
     },
     "metadata": {},
     "output_type": "display_data"
    },
    {
     "data": {
      "text/html": [
       "<span style=\"color:cyan\"> |-units_4: 9</span>"
      ],
      "text/plain": [
       "<IPython.core.display.HTML object>"
      ]
     },
     "metadata": {},
     "output_type": "display_data"
    },
    {
     "data": {
      "text/html": [
       "<span style=\"color:blue\"> |-units_5: 1</span>"
      ],
      "text/plain": [
       "<IPython.core.display.HTML object>"
      ]
     },
     "metadata": {},
     "output_type": "display_data"
    },
    {
     "name": "stdout",
     "output_type": "stream",
     "text": [
      "Epoch 8/20\n",
      "804/804 [==============================] - ETA: 0s - loss: 0.7062 - accuracy: 0.43 - ETA: 0s - loss: 0.6841 - accuracy: 0.56 - ETA: 0s - loss: 0.6646 - accuracy: 0.61 - ETA: 0s - loss: 0.6351 - accuracy: 0.65 - ETA: 0s - loss: 0.6235 - accuracy: 0.66 - ETA: 0s - loss: 0.6137 - accuracy: 0.67 - ETA: 0s - loss: 0.6040 - accuracy: 0.69 - ETA: 0s - loss: 0.5977 - accuracy: 0.69 - ETA: 0s - loss: 0.5967 - accuracy: 0.69 - ETA: 0s - loss: 0.5942 - accuracy: 0.70 - ETA: 0s - loss: 0.5919 - accuracy: 0.70 - ETA: 0s - loss: 0.5900 - accuracy: 0.70 - ETA: 0s - loss: 0.5903 - accuracy: 0.70 - ETA: 0s - loss: 0.5902 - accuracy: 0.70 - ETA: 0s - loss: 0.5889 - accuracy: 0.70 - 1s 1ms/step - loss: 0.5882 - accuracy: 0.7059 - val_loss: 0.5690 - val_accuracy: 0.7207\n",
      "Epoch 9/20\n",
      "804/804 [==============================] - ETA: 0s - loss: 0.4506 - accuracy: 0.87 - ETA: 0s - loss: 0.5643 - accuracy: 0.72 - ETA: 0s - loss: 0.5695 - accuracy: 0.72 - ETA: 0s - loss: 0.5634 - accuracy: 0.72 - ETA: 0s - loss: 0.5667 - accuracy: 0.72 - ETA: 0s - loss: 0.5649 - accuracy: 0.72 - ETA: 0s - loss: 0.5647 - accuracy: 0.72 - ETA: 0s - loss: 0.5653 - accuracy: 0.72 - ETA: 0s - loss: 0.5635 - accuracy: 0.72 - ETA: 0s - loss: 0.5616 - accuracy: 0.72 - ETA: 0s - loss: 0.5617 - accuracy: 0.72 - ETA: 0s - loss: 0.5643 - accuracy: 0.72 - ETA: 0s - loss: 0.5627 - accuracy: 0.72 - ETA: 0s - loss: 0.5637 - accuracy: 0.72 - ETA: 0s - loss: 0.5634 - accuracy: 0.72 - ETA: 0s - loss: 0.5640 - accuracy: 0.72 - ETA: 0s - loss: 0.5623 - accuracy: 0.72 - 1s 1ms/step - loss: 0.5623 - accuracy: 0.7266 - val_loss: 0.5591 - val_accuracy: 0.7294\n",
      "Epoch 10/20\n",
      "804/804 [==============================] - ETA: 0s - loss: 0.5408 - accuracy: 0.71 - ETA: 0s - loss: 0.5642 - accuracy: 0.72 - ETA: 0s - loss: 0.5578 - accuracy: 0.72 - ETA: 0s - loss: 0.5553 - accuracy: 0.73 - ETA: 0s - loss: 0.5522 - accuracy: 0.73 - ETA: 0s - loss: 0.5564 - accuracy: 0.73 - ETA: 0s - loss: 0.5542 - accuracy: 0.73 - ETA: 0s - loss: 0.5523 - accuracy: 0.73 - ETA: 0s - loss: 0.5557 - accuracy: 0.73 - ETA: 0s - loss: 0.5572 - accuracy: 0.73 - ETA: 0s - loss: 0.5579 - accuracy: 0.72 - ETA: 0s - loss: 0.5580 - accuracy: 0.72 - ETA: 0s - loss: 0.5584 - accuracy: 0.72 - ETA: 0s - loss: 0.5586 - accuracy: 0.72 - 1s 1ms/step - loss: 0.5579 - accuracy: 0.7282 - val_loss: 0.5581 - val_accuracy: 0.7256\n",
      "Epoch 11/20\n",
      "804/804 [==============================] - ETA: 0s - loss: 0.6041 - accuracy: 0.65 - ETA: 0s - loss: 0.5760 - accuracy: 0.70 - ETA: 0s - loss: 0.5531 - accuracy: 0.72 - ETA: 0s - loss: 0.5595 - accuracy: 0.72 - ETA: 0s - loss: 0.5606 - accuracy: 0.72 - ETA: 0s - loss: 0.5576 - accuracy: 0.72 - ETA: 0s - loss: 0.5585 - accuracy: 0.72 - ETA: 0s - loss: 0.5563 - accuracy: 0.72 - ETA: 0s - loss: 0.5552 - accuracy: 0.72 - ETA: 0s - loss: 0.5562 - accuracy: 0.72 - ETA: 0s - loss: 0.5560 - accuracy: 0.72 - ETA: 0s - loss: 0.5563 - accuracy: 0.72 - ETA: 0s - loss: 0.5556 - accuracy: 0.72 - ETA: 0s - loss: 0.5550 - accuracy: 0.72 - ETA: 0s - loss: 0.5558 - accuracy: 0.72 - 1s 1ms/step - loss: 0.5559 - accuracy: 0.7282 - val_loss: 0.5563 - val_accuracy: 0.7297\n",
      "Epoch 12/20\n",
      "804/804 [==============================] - ETA: 0s - loss: 0.5480 - accuracy: 0.68 - ETA: 0s - loss: 0.5417 - accuracy: 0.74 - ETA: 0s - loss: 0.5390 - accuracy: 0.74 - ETA: 0s - loss: 0.5488 - accuracy: 0.73 - ETA: 0s - loss: 0.5497 - accuracy: 0.73 - ETA: 0s - loss: 0.5534 - accuracy: 0.73 - ETA: 0s - loss: 0.5524 - accuracy: 0.73 - ETA: 0s - loss: 0.5551 - accuracy: 0.72 - ETA: 0s - loss: 0.5566 - accuracy: 0.72 - ETA: 0s - loss: 0.5549 - accuracy: 0.72 - ETA: 0s - loss: 0.5559 - accuracy: 0.72 - ETA: 0s - loss: 0.5556 - accuracy: 0.72 - ETA: 0s - loss: 0.5535 - accuracy: 0.73 - ETA: 0s - loss: 0.5537 - accuracy: 0.73 - ETA: 0s - loss: 0.5550 - accuracy: 0.72 - ETA: 0s - loss: 0.5545 - accuracy: 0.72 - 1s 1ms/step - loss: 0.5544 - accuracy: 0.7290 - val_loss: 0.5560 - val_accuracy: 0.7314\n",
      "Epoch 13/20\n",
      "804/804 [==============================] - ETA: 0s - loss: 0.5645 - accuracy: 0.68 - ETA: 0s - loss: 0.5610 - accuracy: 0.72 - ETA: 0s - loss: 0.5655 - accuracy: 0.71 - ETA: 0s - loss: 0.5628 - accuracy: 0.72 - ETA: 0s - loss: 0.5581 - accuracy: 0.72 - ETA: 0s - loss: 0.5590 - accuracy: 0.72 - ETA: 0s - loss: 0.5571 - accuracy: 0.72 - ETA: 0s - loss: 0.5568 - accuracy: 0.72 - ETA: 0s - loss: 0.5566 - accuracy: 0.72 - ETA: 0s - loss: 0.5542 - accuracy: 0.72 - ETA: 0s - loss: 0.5552 - accuracy: 0.72 - ETA: 0s - loss: 0.5546 - accuracy: 0.72 - ETA: 0s - loss: 0.5545 - accuracy: 0.72 - ETA: 0s - loss: 0.5549 - accuracy: 0.72 - ETA: 0s - loss: 0.5532 - accuracy: 0.73 - 1s 1ms/step - loss: 0.5540 - accuracy: 0.7295 - val_loss: 0.5543 - val_accuracy: 0.7297\n",
      "Epoch 14/20\n",
      "804/804 [==============================] - ETA: 0s - loss: 0.5171 - accuracy: 0.78 - ETA: 0s - loss: 0.5434 - accuracy: 0.72 - ETA: 0s - loss: 0.5504 - accuracy: 0.72 - ETA: 0s - loss: 0.5514 - accuracy: 0.72 - ETA: 0s - loss: 0.5503 - accuracy: 0.72 - ETA: 0s - loss: 0.5527 - accuracy: 0.72 - ETA: 0s - loss: 0.5519 - accuracy: 0.72 - ETA: 0s - loss: 0.5504 - accuracy: 0.72 - ETA: 0s - loss: 0.5501 - accuracy: 0.72 - ETA: 0s - loss: 0.5516 - accuracy: 0.72 - ETA: 0s - loss: 0.5516 - accuracy: 0.72 - ETA: 0s - loss: 0.5519 - accuracy: 0.72 - ETA: 0s - loss: 0.5518 - accuracy: 0.72 - ETA: 0s - loss: 0.5511 - accuracy: 0.72 - ETA: 0s - loss: 0.5513 - accuracy: 0.72 - ETA: 0s - loss: 0.5525 - accuracy: 0.72 - 1s 1ms/step - loss: 0.5526 - accuracy: 0.7287 - val_loss: 0.5565 - val_accuracy: 0.7304\n",
      "Epoch 15/20\n",
      "804/804 [==============================] - ETA: 0s - loss: 0.5890 - accuracy: 0.65 - ETA: 0s - loss: 0.5521 - accuracy: 0.72 - ETA: 0s - loss: 0.5476 - accuracy: 0.73 - ETA: 0s - loss: 0.5525 - accuracy: 0.72 - ETA: 0s - loss: 0.5468 - accuracy: 0.73 - ETA: 0s - loss: 0.5481 - accuracy: 0.73 - ETA: 0s - loss: 0.5497 - accuracy: 0.73 - ETA: 0s - loss: 0.5504 - accuracy: 0.73 - ETA: 0s - loss: 0.5509 - accuracy: 0.73 - ETA: 0s - loss: 0.5502 - accuracy: 0.73 - ETA: 0s - loss: 0.5498 - accuracy: 0.73 - ETA: 0s - loss: 0.5508 - accuracy: 0.73 - ETA: 0s - loss: 0.5496 - accuracy: 0.73 - ETA: 0s - loss: 0.5503 - accuracy: 0.73 - ETA: 0s - loss: 0.5513 - accuracy: 0.73 - 1s 1ms/step - loss: 0.5520 - accuracy: 0.7320 - val_loss: 0.5549 - val_accuracy: 0.7286\n",
      "Epoch 16/20\n",
      "804/804 [==============================] - ETA: 0s - loss: 0.4843 - accuracy: 0.75 - ETA: 0s - loss: 0.5540 - accuracy: 0.73 - ETA: 0s - loss: 0.5486 - accuracy: 0.73 - ETA: 0s - loss: 0.5435 - accuracy: 0.73 - ETA: 0s - loss: 0.5425 - accuracy: 0.74 - ETA: 0s - loss: 0.5397 - accuracy: 0.74 - ETA: 0s - loss: 0.5392 - accuracy: 0.74 - ETA: 0s - loss: 0.5409 - accuracy: 0.74 - ETA: 0s - loss: 0.5417 - accuracy: 0.74 - ETA: 0s - loss: 0.5451 - accuracy: 0.73 - ETA: 0s - loss: 0.5468 - accuracy: 0.73 - ETA: 0s - loss: 0.5483 - accuracy: 0.73 - ETA: 0s - loss: 0.5496 - accuracy: 0.73 - ETA: 0s - loss: 0.5515 - accuracy: 0.73 - ETA: 0s - loss: 0.5510 - accuracy: 0.73 - 1s 1ms/step - loss: 0.5516 - accuracy: 0.7314 - val_loss: 0.5550 - val_accuracy: 0.7301\n",
      "Epoch 17/20\n",
      "804/804 [==============================] - ETA: 0s - loss: 0.5515 - accuracy: 0.75 - ETA: 0s - loss: 0.5407 - accuracy: 0.74 - ETA: 0s - loss: 0.5363 - accuracy: 0.74 - ETA: 0s - loss: 0.5360 - accuracy: 0.74 - ETA: 0s - loss: 0.5394 - accuracy: 0.74 - ETA: 0s - loss: 0.5447 - accuracy: 0.73 - ETA: 0s - loss: 0.5435 - accuracy: 0.73 - ETA: 0s - loss: 0.5463 - accuracy: 0.73 - ETA: 0s - loss: 0.5474 - accuracy: 0.73 - ETA: 0s - loss: 0.5494 - accuracy: 0.73 - ETA: 0s - loss: 0.5493 - accuracy: 0.73 - ETA: 0s - loss: 0.5492 - accuracy: 0.73 - ETA: 0s - loss: 0.5499 - accuracy: 0.73 - ETA: 0s - loss: 0.5501 - accuracy: 0.73 - ETA: 0s - loss: 0.5501 - accuracy: 0.73 - 1s 1ms/step - loss: 0.5518 - accuracy: 0.7303 - val_loss: 0.5543 - val_accuracy: 0.7303\n",
      "Epoch 18/20\n"
     ]
    },
    {
     "name": "stdout",
     "output_type": "stream",
     "text": [
      "804/804 [==============================] - ETA: 0s - loss: 0.5823 - accuracy: 0.68 - ETA: 0s - loss: 0.5679 - accuracy: 0.71 - ETA: 0s - loss: 0.5549 - accuracy: 0.72 - ETA: 0s - loss: 0.5459 - accuracy: 0.73 - ETA: 0s - loss: 0.5470 - accuracy: 0.73 - ETA: 0s - loss: 0.5472 - accuracy: 0.73 - ETA: 0s - loss: 0.5473 - accuracy: 0.73 - ETA: 0s - loss: 0.5507 - accuracy: 0.73 - ETA: 0s - loss: 0.5521 - accuracy: 0.73 - ETA: 0s - loss: 0.5512 - accuracy: 0.73 - ETA: 0s - loss: 0.5515 - accuracy: 0.72 - ETA: 0s - loss: 0.5524 - accuracy: 0.72 - ETA: 0s - loss: 0.5518 - accuracy: 0.72 - ETA: 0s - loss: 0.5512 - accuracy: 0.73 - 1s 1ms/step - loss: 0.5508 - accuracy: 0.7316 - val_loss: 0.5541 - val_accuracy: 0.7328\n",
      "Epoch 19/20\n",
      "804/804 [==============================] - ETA: 0s - loss: 0.5420 - accuracy: 0.78 - ETA: 0s - loss: 0.5462 - accuracy: 0.73 - ETA: 0s - loss: 0.5407 - accuracy: 0.73 - ETA: 0s - loss: 0.5435 - accuracy: 0.73 - ETA: 0s - loss: 0.5458 - accuracy: 0.73 - ETA: 0s - loss: 0.5462 - accuracy: 0.73 - ETA: 0s - loss: 0.5463 - accuracy: 0.73 - ETA: 0s - loss: 0.5464 - accuracy: 0.73 - ETA: 0s - loss: 0.5475 - accuracy: 0.73 - ETA: 0s - loss: 0.5505 - accuracy: 0.73 - ETA: 0s - loss: 0.5507 - accuracy: 0.73 - ETA: 0s - loss: 0.5504 - accuracy: 0.73 - ETA: 0s - loss: 0.5503 - accuracy: 0.73 - ETA: 0s - loss: 0.5498 - accuracy: 0.73 - 1s 1ms/step - loss: 0.5510 - accuracy: 0.7300 - val_loss: 0.5544 - val_accuracy: 0.7277\n",
      "Epoch 20/20\n",
      "804/804 [==============================] - ETA: 0s - loss: 0.4431 - accuracy: 0.84 - ETA: 0s - loss: 0.5497 - accuracy: 0.72 - ETA: 0s - loss: 0.5607 - accuracy: 0.72 - ETA: 0s - loss: 0.5541 - accuracy: 0.72 - ETA: 0s - loss: 0.5580 - accuracy: 0.72 - ETA: 0s - loss: 0.5591 - accuracy: 0.72 - ETA: 0s - loss: 0.5542 - accuracy: 0.72 - ETA: 0s - loss: 0.5554 - accuracy: 0.72 - ETA: 0s - loss: 0.5538 - accuracy: 0.72 - ETA: 0s - loss: 0.5535 - accuracy: 0.72 - ETA: 0s - loss: 0.5505 - accuracy: 0.73 - ETA: 0s - loss: 0.5503 - accuracy: 0.73 - ETA: 0s - loss: 0.5504 - accuracy: 0.73 - ETA: 0s - loss: 0.5519 - accuracy: 0.73 - ETA: 0s - loss: 0.5513 - accuracy: 0.73 - 1s 1ms/step - loss: 0.5509 - accuracy: 0.7318 - val_loss: 0.5570 - val_accuracy: 0.7245\n"
     ]
    },
    {
     "data": {
      "text/html": [
       "<span style=\"color:#4527A0\"><h1 style=\"font-size:18px\">Trial complete</h1></span>"
      ],
      "text/plain": [
       "<IPython.core.display.HTML object>"
      ]
     },
     "metadata": {},
     "output_type": "display_data"
    },
    {
     "data": {
      "text/html": [
       "<span style=\"color:#4527A0\"><h1 style=\"font-size:18px\">Trial summary</h1></span>"
      ],
      "text/plain": [
       "<IPython.core.display.HTML object>"
      ]
     },
     "metadata": {},
     "output_type": "display_data"
    },
    {
     "data": {
      "text/html": [
       "<span style=\"color:cyan\"> |-Trial ID: 2c9770e988553ae766e4acbbd390fe2d</span>"
      ],
      "text/plain": [
       "<IPython.core.display.HTML object>"
      ]
     },
     "metadata": {},
     "output_type": "display_data"
    },
    {
     "data": {
      "text/html": [
       "<span style=\"color:cyan\"> |-Score: 0.7328279614448547</span>"
      ],
      "text/plain": [
       "<IPython.core.display.HTML object>"
      ]
     },
     "metadata": {},
     "output_type": "display_data"
    },
    {
     "data": {
      "text/html": [
       "<span style=\"color:cyan\"> |-Best step: 0</span>"
      ],
      "text/plain": [
       "<IPython.core.display.HTML object>"
      ]
     },
     "metadata": {},
     "output_type": "display_data"
    },
    {
     "data": {
      "text/html": [
       "<span style=\"color:#7E57C2\"><h2 style=\"font-size:16px\">Hyperparameters:</h2></span>"
      ],
      "text/plain": [
       "<IPython.core.display.HTML object>"
      ]
     },
     "metadata": {},
     "output_type": "display_data"
    },
    {
     "data": {
      "text/html": [
       "<span style=\"color:cyan\"> |-activation: tanh</span>"
      ],
      "text/plain": [
       "<IPython.core.display.HTML object>"
      ]
     },
     "metadata": {},
     "output_type": "display_data"
    },
    {
     "data": {
      "text/html": [
       "<span style=\"color:blue\"> |-first_units: 7</span>"
      ],
      "text/plain": [
       "<IPython.core.display.HTML object>"
      ]
     },
     "metadata": {},
     "output_type": "display_data"
    },
    {
     "data": {
      "text/html": [
       "<span style=\"color:cyan\"> |-num_layers: 4</span>"
      ],
      "text/plain": [
       "<IPython.core.display.HTML object>"
      ]
     },
     "metadata": {},
     "output_type": "display_data"
    },
    {
     "data": {
      "text/html": [
       "<span style=\"color:blue\"> |-tuner/bracket: 2</span>"
      ],
      "text/plain": [
       "<IPython.core.display.HTML object>"
      ]
     },
     "metadata": {},
     "output_type": "display_data"
    },
    {
     "data": {
      "text/html": [
       "<span style=\"color:cyan\"> |-tuner/epochs: 20</span>"
      ],
      "text/plain": [
       "<IPython.core.display.HTML object>"
      ]
     },
     "metadata": {},
     "output_type": "display_data"
    },
    {
     "data": {
      "text/html": [
       "<span style=\"color:blue\"> |-tuner/initial_epoch: 7</span>"
      ],
      "text/plain": [
       "<IPython.core.display.HTML object>"
      ]
     },
     "metadata": {},
     "output_type": "display_data"
    },
    {
     "data": {
      "text/html": [
       "<span style=\"color:cyan\"> |-tuner/round: 2</span>"
      ],
      "text/plain": [
       "<IPython.core.display.HTML object>"
      ]
     },
     "metadata": {},
     "output_type": "display_data"
    },
    {
     "data": {
      "text/html": [
       "<span style=\"color:blue\"> |-tuner/trial_id: 2e4d1bba3af367347a1d3dd3879daa08</span>"
      ],
      "text/plain": [
       "<IPython.core.display.HTML object>"
      ]
     },
     "metadata": {},
     "output_type": "display_data"
    },
    {
     "data": {
      "text/html": [
       "<span style=\"color:cyan\"> |-units_0: 7</span>"
      ],
      "text/plain": [
       "<IPython.core.display.HTML object>"
      ]
     },
     "metadata": {},
     "output_type": "display_data"
    },
    {
     "data": {
      "text/html": [
       "<span style=\"color:blue\"> |-units_1: 7</span>"
      ],
      "text/plain": [
       "<IPython.core.display.HTML object>"
      ]
     },
     "metadata": {},
     "output_type": "display_data"
    },
    {
     "data": {
      "text/html": [
       "<span style=\"color:cyan\"> |-units_2: 9</span>"
      ],
      "text/plain": [
       "<IPython.core.display.HTML object>"
      ]
     },
     "metadata": {},
     "output_type": "display_data"
    },
    {
     "data": {
      "text/html": [
       "<span style=\"color:blue\"> |-units_3: 9</span>"
      ],
      "text/plain": [
       "<IPython.core.display.HTML object>"
      ]
     },
     "metadata": {},
     "output_type": "display_data"
    },
    {
     "data": {
      "text/html": [
       "<span style=\"color:cyan\"> |-units_4: 9</span>"
      ],
      "text/plain": [
       "<IPython.core.display.HTML object>"
      ]
     },
     "metadata": {},
     "output_type": "display_data"
    },
    {
     "data": {
      "text/html": [
       "<span style=\"color:blue\"> |-units_5: 1</span>"
      ],
      "text/plain": [
       "<IPython.core.display.HTML object>"
      ]
     },
     "metadata": {},
     "output_type": "display_data"
    },
    {
     "name": "stdout",
     "output_type": "stream",
     "text": [
      "Epoch 8/20\n",
      "804/804 [==============================] - ETA: 0s - loss: 0.7231 - accuracy: 0.46 - ETA: 0s - loss: 0.6917 - accuracy: 0.53 - ETA: 0s - loss: 0.6811 - accuracy: 0.57 - ETA: 0s - loss: 0.6645 - accuracy: 0.61 - ETA: 0s - loss: 0.6467 - accuracy: 0.63 - ETA: 0s - loss: 0.6341 - accuracy: 0.65 - ETA: 0s - loss: 0.6266 - accuracy: 0.66 - ETA: 0s - loss: 0.6174 - accuracy: 0.67 - ETA: 0s - loss: 0.6125 - accuracy: 0.68 - ETA: 0s - loss: 0.6092 - accuracy: 0.68 - ETA: 0s - loss: 0.6065 - accuracy: 0.68 - ETA: 0s - loss: 0.6057 - accuracy: 0.68 - ETA: 0s - loss: 0.6026 - accuracy: 0.69 - 1s 1ms/step - loss: 0.6020 - accuracy: 0.6939 - val_loss: 0.5749 - val_accuracy: 0.7231\n",
      "Epoch 9/20\n",
      "804/804 [==============================] - ETA: 0s - loss: 0.6434 - accuracy: 0.62 - ETA: 0s - loss: 0.5706 - accuracy: 0.72 - ETA: 0s - loss: 0.5668 - accuracy: 0.72 - ETA: 0s - loss: 0.5639 - accuracy: 0.73 - ETA: 0s - loss: 0.5683 - accuracy: 0.72 - ETA: 0s - loss: 0.5691 - accuracy: 0.72 - ETA: 0s - loss: 0.5682 - accuracy: 0.72 - ETA: 0s - loss: 0.5705 - accuracy: 0.72 - ETA: 0s - loss: 0.5704 - accuracy: 0.72 - ETA: 0s - loss: 0.5703 - accuracy: 0.72 - ETA: 0s - loss: 0.5697 - accuracy: 0.72 - ETA: 0s - loss: 0.5702 - accuracy: 0.72 - ETA: 0s - loss: 0.5707 - accuracy: 0.72 - ETA: 0s - loss: 0.5695 - accuracy: 0.72 - ETA: 0s - loss: 0.5698 - accuracy: 0.72 - ETA: 0s - loss: 0.5695 - accuracy: 0.72 - 1s 1ms/step - loss: 0.5694 - accuracy: 0.7274 - val_loss: 0.5679 - val_accuracy: 0.7275\n",
      "Epoch 10/20\n",
      "804/804 [==============================] - ETA: 0s - loss: 0.5574 - accuracy: 0.68 - ETA: 0s - loss: 0.5550 - accuracy: 0.73 - ETA: 0s - loss: 0.5602 - accuracy: 0.72 - ETA: 0s - loss: 0.5618 - accuracy: 0.72 - ETA: 0s - loss: 0.5628 - accuracy: 0.72 - ETA: 0s - loss: 0.5612 - accuracy: 0.72 - ETA: 0s - loss: 0.5618 - accuracy: 0.72 - ETA: 0s - loss: 0.5630 - accuracy: 0.72 - ETA: 0s - loss: 0.5623 - accuracy: 0.72 - ETA: 0s - loss: 0.5617 - accuracy: 0.72 - ETA: 0s - loss: 0.5620 - accuracy: 0.72 - ETA: 0s - loss: 0.5625 - accuracy: 0.72 - ETA: 0s - loss: 0.5625 - accuracy: 0.72 - ETA: 0s - loss: 0.5622 - accuracy: 0.72 - ETA: 0s - loss: 0.5612 - accuracy: 0.72 - 1s 1ms/step - loss: 0.5613 - accuracy: 0.7283 - val_loss: 0.5632 - val_accuracy: 0.7252\n",
      "Epoch 11/20\n",
      "804/804 [==============================] - ETA: 0s - loss: 0.6041 - accuracy: 0.71 - ETA: 0s - loss: 0.5863 - accuracy: 0.70 - ETA: 0s - loss: 0.5643 - accuracy: 0.72 - ETA: 0s - loss: 0.5629 - accuracy: 0.72 - ETA: 0s - loss: 0.5598 - accuracy: 0.72 - ETA: 0s - loss: 0.5578 - accuracy: 0.72 - ETA: 0s - loss: 0.5580 - accuracy: 0.72 - ETA: 0s - loss: 0.5600 - accuracy: 0.72 - ETA: 0s - loss: 0.5609 - accuracy: 0.72 - ETA: 0s - loss: 0.5582 - accuracy: 0.72 - ETA: 0s - loss: 0.5585 - accuracy: 0.72 - ETA: 0s - loss: 0.5586 - accuracy: 0.72 - ETA: 0s - loss: 0.5578 - accuracy: 0.72 - 1s 958us/step - loss: 0.5579 - accuracy: 0.7296 - val_loss: 0.5612 - val_accuracy: 0.7269\n",
      "Epoch 12/20\n",
      "804/804 [==============================] - ETA: 0s - loss: 0.5411 - accuracy: 0.75 - ETA: 0s - loss: 0.5524 - accuracy: 0.74 - ETA: 0s - loss: 0.5593 - accuracy: 0.72 - ETA: 0s - loss: 0.5508 - accuracy: 0.73 - ETA: 0s - loss: 0.5550 - accuracy: 0.73 - ETA: 0s - loss: 0.5553 - accuracy: 0.72 - ETA: 0s - loss: 0.5561 - accuracy: 0.73 - ETA: 0s - loss: 0.5551 - accuracy: 0.73 - ETA: 0s - loss: 0.5542 - accuracy: 0.73 - ETA: 0s - loss: 0.5536 - accuracy: 0.73 - ETA: 0s - loss: 0.5551 - accuracy: 0.72 - ETA: 0s - loss: 0.5551 - accuracy: 0.73 - 1s 918us/step - loss: 0.5559 - accuracy: 0.7295 - val_loss: 0.5599 - val_accuracy: 0.7297\n",
      "Epoch 13/20\n",
      "804/804 [==============================] - ETA: 0s - loss: 0.5877 - accuracy: 0.71 - ETA: 0s - loss: 0.5631 - accuracy: 0.72 - ETA: 0s - loss: 0.5555 - accuracy: 0.72 - ETA: 0s - loss: 0.5542 - accuracy: 0.72 - ETA: 0s - loss: 0.5567 - accuracy: 0.72 - ETA: 0s - loss: 0.5530 - accuracy: 0.73 - ETA: 0s - loss: 0.5523 - accuracy: 0.73 - ETA: 0s - loss: 0.5539 - accuracy: 0.72 - ETA: 0s - loss: 0.5542 - accuracy: 0.72 - ETA: 0s - loss: 0.5553 - accuracy: 0.72 - ETA: 0s - loss: 0.5553 - accuracy: 0.72 - ETA: 0s - loss: 0.5553 - accuracy: 0.72 - ETA: 0s - loss: 0.5546 - accuracy: 0.72 - 1s 930us/step - loss: 0.5549 - accuracy: 0.7297 - val_loss: 0.5596 - val_accuracy: 0.7283\n",
      "Epoch 14/20\n",
      "804/804 [==============================] - ETA: 0s - loss: 0.7457 - accuracy: 0.56 - ETA: 0s - loss: 0.5572 - accuracy: 0.72 - ETA: 0s - loss: 0.5656 - accuracy: 0.72 - ETA: 0s - loss: 0.5617 - accuracy: 0.72 - ETA: 0s - loss: 0.5566 - accuracy: 0.72 - ETA: 0s - loss: 0.5538 - accuracy: 0.73 - ETA: 0s - loss: 0.5516 - accuracy: 0.73 - ETA: 0s - loss: 0.5514 - accuracy: 0.73 - ETA: 0s - loss: 0.5517 - accuracy: 0.73 - ETA: 0s - loss: 0.5514 - accuracy: 0.73 - ETA: 0s - loss: 0.5503 - accuracy: 0.73 - ETA: 0s - loss: 0.5512 - accuracy: 0.73 - ETA: 0s - loss: 0.5525 - accuracy: 0.73 - ETA: 0s - loss: 0.5526 - accuracy: 0.73 - ETA: 0s - loss: 0.5534 - accuracy: 0.73 - 1s 1ms/step - loss: 0.5532 - accuracy: 0.7309 - val_loss: 0.5589 - val_accuracy: 0.7265\n",
      "Epoch 15/20\n",
      "804/804 [==============================] - ETA: 0s - loss: 0.4388 - accuracy: 0.84 - ETA: 0s - loss: 0.5536 - accuracy: 0.73 - ETA: 0s - loss: 0.5471 - accuracy: 0.73 - ETA: 0s - loss: 0.5479 - accuracy: 0.73 - ETA: 0s - loss: 0.5470 - accuracy: 0.73 - ETA: 0s - loss: 0.5489 - accuracy: 0.73 - ETA: 0s - loss: 0.5491 - accuracy: 0.73 - ETA: 0s - loss: 0.5512 - accuracy: 0.73 - ETA: 0s - loss: 0.5506 - accuracy: 0.73 - ETA: 0s - loss: 0.5514 - accuracy: 0.73 - ETA: 0s - loss: 0.5508 - accuracy: 0.73 - ETA: 0s - loss: 0.5518 - accuracy: 0.73 - ETA: 0s - loss: 0.5526 - accuracy: 0.73 - ETA: 0s - loss: 0.5528 - accuracy: 0.73 - 1s 1ms/step - loss: 0.5528 - accuracy: 0.7306 - val_loss: 0.5581 - val_accuracy: 0.7301\n",
      "Epoch 16/20\n",
      "804/804 [==============================] - ETA: 0s - loss: 0.6718 - accuracy: 0.68 - ETA: 0s - loss: 0.5454 - accuracy: 0.73 - ETA: 0s - loss: 0.5533 - accuracy: 0.72 - ETA: 0s - loss: 0.5429 - accuracy: 0.73 - ETA: 0s - loss: 0.5526 - accuracy: 0.73 - ETA: 0s - loss: 0.5524 - accuracy: 0.73 - ETA: 0s - loss: 0.5521 - accuracy: 0.73 - ETA: 0s - loss: 0.5499 - accuracy: 0.73 - ETA: 0s - loss: 0.5519 - accuracy: 0.72 - ETA: 0s - loss: 0.5504 - accuracy: 0.73 - ETA: 0s - loss: 0.5497 - accuracy: 0.73 - ETA: 0s - loss: 0.5525 - accuracy: 0.72 - ETA: 0s - loss: 0.5517 - accuracy: 0.72 - ETA: 0s - loss: 0.5516 - accuracy: 0.73 - 1s 1ms/step - loss: 0.5517 - accuracy: 0.7306 - val_loss: 0.5568 - val_accuracy: 0.7310\n",
      "Epoch 17/20\n",
      "804/804 [==============================] - ETA: 0s - loss: 0.5441 - accuracy: 0.75 - ETA: 0s - loss: 0.5344 - accuracy: 0.73 - ETA: 0s - loss: 0.5489 - accuracy: 0.72 - ETA: 0s - loss: 0.5438 - accuracy: 0.73 - ETA: 0s - loss: 0.5484 - accuracy: 0.73 - ETA: 0s - loss: 0.5519 - accuracy: 0.72 - ETA: 0s - loss: 0.5491 - accuracy: 0.73 - ETA: 0s - loss: 0.5478 - accuracy: 0.73 - ETA: 0s - loss: 0.5513 - accuracy: 0.72 - ETA: 0s - loss: 0.5517 - accuracy: 0.72 - ETA: 0s - loss: 0.5514 - accuracy: 0.73 - ETA: 0s - loss: 0.5505 - accuracy: 0.73 - ETA: 0s - loss: 0.5520 - accuracy: 0.73 - ETA: 0s - loss: 0.5517 - accuracy: 0.73 - 1s 1ms/step - loss: 0.5514 - accuracy: 0.7318 - val_loss: 0.5573 - val_accuracy: 0.7272\n",
      "Epoch 18/20\n",
      "804/804 [==============================] - ETA: 0s - loss: 0.5609 - accuracy: 0.75 - ETA: 0s - loss: 0.5529 - accuracy: 0.72 - ETA: 0s - loss: 0.5590 - accuracy: 0.72 - ETA: 0s - loss: 0.5606 - accuracy: 0.72 - ETA: 0s - loss: 0.5569 - accuracy: 0.72 - ETA: 0s - loss: 0.5529 - accuracy: 0.72 - ETA: 0s - loss: 0.5475 - accuracy: 0.73 - ETA: 0s - loss: 0.5475 - accuracy: 0.73 - ETA: 0s - loss: 0.5494 - accuracy: 0.73 - ETA: 0s - loss: 0.5502 - accuracy: 0.73 - ETA: 0s - loss: 0.5498 - accuracy: 0.73 - ETA: 0s - loss: 0.5508 - accuracy: 0.73 - ETA: 0s - loss: 0.5511 - accuracy: 0.73 - 1s 917us/step - loss: 0.5507 - accuracy: 0.7315 - val_loss: 0.5554 - val_accuracy: 0.7298\n",
      "Epoch 19/20\n"
     ]
    },
    {
     "name": "stdout",
     "output_type": "stream",
     "text": [
      "804/804 [==============================] - ETA: 0s - loss: 0.5374 - accuracy: 0.75 - ETA: 0s - loss: 0.5309 - accuracy: 0.74 - ETA: 0s - loss: 0.5421 - accuracy: 0.73 - ETA: 0s - loss: 0.5456 - accuracy: 0.73 - ETA: 0s - loss: 0.5470 - accuracy: 0.73 - ETA: 0s - loss: 0.5484 - accuracy: 0.72 - ETA: 0s - loss: 0.5480 - accuracy: 0.73 - ETA: 0s - loss: 0.5477 - accuracy: 0.73 - ETA: 0s - loss: 0.5481 - accuracy: 0.73 - ETA: 0s - loss: 0.5499 - accuracy: 0.73 - ETA: 0s - loss: 0.5495 - accuracy: 0.73 - ETA: 0s - loss: 0.5504 - accuracy: 0.73 - ETA: 0s - loss: 0.5504 - accuracy: 0.73 - 1s 968us/step - loss: 0.5506 - accuracy: 0.7308 - val_loss: 0.5551 - val_accuracy: 0.7300\n",
      "Epoch 20/20\n",
      "804/804 [==============================] - ETA: 0s - loss: 0.4428 - accuracy: 0.81 - ETA: 0s - loss: 0.5368 - accuracy: 0.74 - ETA: 0s - loss: 0.5428 - accuracy: 0.74 - ETA: 0s - loss: 0.5451 - accuracy: 0.73 - ETA: 0s - loss: 0.5458 - accuracy: 0.73 - ETA: 0s - loss: 0.5444 - accuracy: 0.73 - ETA: 0s - loss: 0.5487 - accuracy: 0.73 - ETA: 0s - loss: 0.5494 - accuracy: 0.73 - ETA: 0s - loss: 0.5485 - accuracy: 0.73 - ETA: 0s - loss: 0.5492 - accuracy: 0.73 - ETA: 0s - loss: 0.5487 - accuracy: 0.73 - ETA: 0s - loss: 0.5490 - accuracy: 0.73 - ETA: 0s - loss: 0.5489 - accuracy: 0.73 - ETA: 0s - loss: 0.5507 - accuracy: 0.73 - ETA: 0s - loss: 0.5501 - accuracy: 0.73 - 1s 1ms/step - loss: 0.5503 - accuracy: 0.7316 - val_loss: 0.5564 - val_accuracy: 0.7270\n"
     ]
    },
    {
     "data": {
      "text/html": [
       "<span style=\"color:#4527A0\"><h1 style=\"font-size:18px\">Trial complete</h1></span>"
      ],
      "text/plain": [
       "<IPython.core.display.HTML object>"
      ]
     },
     "metadata": {},
     "output_type": "display_data"
    },
    {
     "data": {
      "text/html": [
       "<span style=\"color:#4527A0\"><h1 style=\"font-size:18px\">Trial summary</h1></span>"
      ],
      "text/plain": [
       "<IPython.core.display.HTML object>"
      ]
     },
     "metadata": {},
     "output_type": "display_data"
    },
    {
     "data": {
      "text/html": [
       "<span style=\"color:cyan\"> |-Trial ID: 4ed4e08f8b3ccafacf83411a12cb5e49</span>"
      ],
      "text/plain": [
       "<IPython.core.display.HTML object>"
      ]
     },
     "metadata": {},
     "output_type": "display_data"
    },
    {
     "data": {
      "text/html": [
       "<span style=\"color:cyan\"> |-Score: 0.7309620976448059</span>"
      ],
      "text/plain": [
       "<IPython.core.display.HTML object>"
      ]
     },
     "metadata": {},
     "output_type": "display_data"
    },
    {
     "data": {
      "text/html": [
       "<span style=\"color:cyan\"> |-Best step: 0</span>"
      ],
      "text/plain": [
       "<IPython.core.display.HTML object>"
      ]
     },
     "metadata": {},
     "output_type": "display_data"
    },
    {
     "data": {
      "text/html": [
       "<span style=\"color:#7E57C2\"><h2 style=\"font-size:16px\">Hyperparameters:</h2></span>"
      ],
      "text/plain": [
       "<IPython.core.display.HTML object>"
      ]
     },
     "metadata": {},
     "output_type": "display_data"
    },
    {
     "data": {
      "text/html": [
       "<span style=\"color:cyan\"> |-activation: tanh</span>"
      ],
      "text/plain": [
       "<IPython.core.display.HTML object>"
      ]
     },
     "metadata": {},
     "output_type": "display_data"
    },
    {
     "data": {
      "text/html": [
       "<span style=\"color:blue\"> |-first_units: 9</span>"
      ],
      "text/plain": [
       "<IPython.core.display.HTML object>"
      ]
     },
     "metadata": {},
     "output_type": "display_data"
    },
    {
     "data": {
      "text/html": [
       "<span style=\"color:cyan\"> |-num_layers: 2</span>"
      ],
      "text/plain": [
       "<IPython.core.display.HTML object>"
      ]
     },
     "metadata": {},
     "output_type": "display_data"
    },
    {
     "data": {
      "text/html": [
       "<span style=\"color:blue\"> |-tuner/bracket: 2</span>"
      ],
      "text/plain": [
       "<IPython.core.display.HTML object>"
      ]
     },
     "metadata": {},
     "output_type": "display_data"
    },
    {
     "data": {
      "text/html": [
       "<span style=\"color:cyan\"> |-tuner/epochs: 20</span>"
      ],
      "text/plain": [
       "<IPython.core.display.HTML object>"
      ]
     },
     "metadata": {},
     "output_type": "display_data"
    },
    {
     "data": {
      "text/html": [
       "<span style=\"color:blue\"> |-tuner/initial_epoch: 7</span>"
      ],
      "text/plain": [
       "<IPython.core.display.HTML object>"
      ]
     },
     "metadata": {},
     "output_type": "display_data"
    },
    {
     "data": {
      "text/html": [
       "<span style=\"color:cyan\"> |-tuner/round: 2</span>"
      ],
      "text/plain": [
       "<IPython.core.display.HTML object>"
      ]
     },
     "metadata": {},
     "output_type": "display_data"
    },
    {
     "data": {
      "text/html": [
       "<span style=\"color:blue\"> |-tuner/trial_id: 767fb745a45f66286fb0609a989036af</span>"
      ],
      "text/plain": [
       "<IPython.core.display.HTML object>"
      ]
     },
     "metadata": {},
     "output_type": "display_data"
    },
    {
     "data": {
      "text/html": [
       "<span style=\"color:cyan\"> |-units_0: 3</span>"
      ],
      "text/plain": [
       "<IPython.core.display.HTML object>"
      ]
     },
     "metadata": {},
     "output_type": "display_data"
    },
    {
     "data": {
      "text/html": [
       "<span style=\"color:blue\"> |-units_1: 9</span>"
      ],
      "text/plain": [
       "<IPython.core.display.HTML object>"
      ]
     },
     "metadata": {},
     "output_type": "display_data"
    },
    {
     "data": {
      "text/html": [
       "<span style=\"color:cyan\"> |-units_2: 5</span>"
      ],
      "text/plain": [
       "<IPython.core.display.HTML object>"
      ]
     },
     "metadata": {},
     "output_type": "display_data"
    },
    {
     "data": {
      "text/html": [
       "<span style=\"color:blue\"> |-units_3: 3</span>"
      ],
      "text/plain": [
       "<IPython.core.display.HTML object>"
      ]
     },
     "metadata": {},
     "output_type": "display_data"
    },
    {
     "data": {
      "text/html": [
       "<span style=\"color:cyan\"> |-units_4: 7</span>"
      ],
      "text/plain": [
       "<IPython.core.display.HTML object>"
      ]
     },
     "metadata": {},
     "output_type": "display_data"
    },
    {
     "data": {
      "text/html": [
       "<span style=\"color:blue\"> |-units_5: 9</span>"
      ],
      "text/plain": [
       "<IPython.core.display.HTML object>"
      ]
     },
     "metadata": {},
     "output_type": "display_data"
    },
    {
     "name": "stdout",
     "output_type": "stream",
     "text": [
      "Epoch 1/7\n",
      "804/804 [==============================] - ETA: 0s - loss: 0.7016 - accuracy: 0.53 - ETA: 0s - loss: 0.6966 - accuracy: 0.50 - ETA: 0s - loss: 0.6722 - accuracy: 0.57 - ETA: 0s - loss: 0.6499 - accuracy: 0.62 - ETA: 0s - loss: 0.6309 - accuracy: 0.64 - ETA: 0s - loss: 0.6214 - accuracy: 0.66 - ETA: 0s - loss: 0.6163 - accuracy: 0.67 - ETA: 0s - loss: 0.6112 - accuracy: 0.67 - ETA: 0s - loss: 0.6065 - accuracy: 0.68 - ETA: 0s - loss: 0.6024 - accuracy: 0.68 - ETA: 0s - loss: 0.5989 - accuracy: 0.69 - ETA: 0s - loss: 0.5952 - accuracy: 0.69 - ETA: 0s - loss: 0.5937 - accuracy: 0.69 - 1s 1ms/step - loss: 0.5928 - accuracy: 0.6985 - val_loss: 0.5702 - val_accuracy: 0.7210\n",
      "Epoch 2/7\n",
      "804/804 [==============================] - ETA: 0s - loss: 0.4485 - accuracy: 0.78 - ETA: 0s - loss: 0.5658 - accuracy: 0.73 - ETA: 0s - loss: 0.5633 - accuracy: 0.72 - ETA: 0s - loss: 0.5643 - accuracy: 0.72 - ETA: 0s - loss: 0.5684 - accuracy: 0.72 - ETA: 0s - loss: 0.5656 - accuracy: 0.72 - ETA: 0s - loss: 0.5668 - accuracy: 0.72 - ETA: 0s - loss: 0.5661 - accuracy: 0.72 - ETA: 0s - loss: 0.5657 - accuracy: 0.72 - ETA: 0s - loss: 0.5638 - accuracy: 0.72 - ETA: 0s - loss: 0.5655 - accuracy: 0.72 - ETA: 0s - loss: 0.5653 - accuracy: 0.72 - ETA: 0s - loss: 0.5646 - accuracy: 0.72 - ETA: 0s - loss: 0.5641 - accuracy: 0.72 - 1s 1ms/step - loss: 0.5638 - accuracy: 0.7255 - val_loss: 0.5659 - val_accuracy: 0.7261\n",
      "Epoch 3/7\n",
      "804/804 [==============================] - ETA: 0s - loss: 0.5873 - accuracy: 0.68 - ETA: 0s - loss: 0.5778 - accuracy: 0.69 - ETA: 0s - loss: 0.5696 - accuracy: 0.71 - ETA: 0s - loss: 0.5632 - accuracy: 0.72 - ETA: 0s - loss: 0.5636 - accuracy: 0.72 - ETA: 0s - loss: 0.5649 - accuracy: 0.72 - ETA: 0s - loss: 0.5631 - accuracy: 0.72 - ETA: 0s - loss: 0.5635 - accuracy: 0.72 - ETA: 0s - loss: 0.5635 - accuracy: 0.72 - ETA: 0s - loss: 0.5607 - accuracy: 0.72 - ETA: 0s - loss: 0.5602 - accuracy: 0.72 - ETA: 0s - loss: 0.5589 - accuracy: 0.72 - ETA: 0s - loss: 0.5581 - accuracy: 0.72 - ETA: 0s - loss: 0.5584 - accuracy: 0.72 - ETA: 0s - loss: 0.5570 - accuracy: 0.72 - 1s 1ms/step - loss: 0.5587 - accuracy: 0.7273 - val_loss: 0.5598 - val_accuracy: 0.7269\n",
      "Epoch 4/7\n",
      "804/804 [==============================] - ETA: 0s - loss: 0.5724 - accuracy: 0.75 - ETA: 0s - loss: 0.5537 - accuracy: 0.72 - ETA: 0s - loss: 0.5620 - accuracy: 0.72 - ETA: 0s - loss: 0.5603 - accuracy: 0.72 - ETA: 0s - loss: 0.5612 - accuracy: 0.72 - ETA: 0s - loss: 0.5581 - accuracy: 0.72 - ETA: 0s - loss: 0.5586 - accuracy: 0.72 - ETA: 0s - loss: 0.5574 - accuracy: 0.72 - ETA: 0s - loss: 0.5578 - accuracy: 0.72 - ETA: 0s - loss: 0.5583 - accuracy: 0.72 - ETA: 0s - loss: 0.5563 - accuracy: 0.72 - ETA: 0s - loss: 0.5574 - accuracy: 0.72 - 1s 932us/step - loss: 0.5565 - accuracy: 0.7271 - val_loss: 0.5595 - val_accuracy: 0.7286\n",
      "Epoch 5/7\n",
      "804/804 [==============================] - ETA: 0s - loss: 0.5309 - accuracy: 0.65 - ETA: 0s - loss: 0.5473 - accuracy: 0.72 - ETA: 0s - loss: 0.5502 - accuracy: 0.72 - ETA: 0s - loss: 0.5558 - accuracy: 0.72 - ETA: 0s - loss: 0.5551 - accuracy: 0.72 - ETA: 0s - loss: 0.5544 - accuracy: 0.72 - ETA: 0s - loss: 0.5567 - accuracy: 0.72 - ETA: 0s - loss: 0.5573 - accuracy: 0.72 - ETA: 0s - loss: 0.5574 - accuracy: 0.72 - ETA: 0s - loss: 0.5573 - accuracy: 0.72 - ETA: 0s - loss: 0.5560 - accuracy: 0.72 - ETA: 0s - loss: 0.5556 - accuracy: 0.72 - ETA: 0s - loss: 0.5549 - accuracy: 0.72 - 1s 997us/step - loss: 0.5552 - accuracy: 0.7289 - val_loss: 0.5567 - val_accuracy: 0.7283\n",
      "Epoch 6/7\n",
      "804/804 [==============================] - ETA: 0s - loss: 0.5493 - accuracy: 0.75 - ETA: 0s - loss: 0.5435 - accuracy: 0.74 - ETA: 0s - loss: 0.5475 - accuracy: 0.73 - ETA: 0s - loss: 0.5488 - accuracy: 0.73 - ETA: 0s - loss: 0.5501 - accuracy: 0.73 - ETA: 0s - loss: 0.5541 - accuracy: 0.73 - ETA: 0s - loss: 0.5534 - accuracy: 0.73 - ETA: 0s - loss: 0.5526 - accuracy: 0.73 - ETA: 0s - loss: 0.5515 - accuracy: 0.73 - ETA: 0s - loss: 0.5522 - accuracy: 0.73 - ETA: 0s - loss: 0.5525 - accuracy: 0.72 - ETA: 0s - loss: 0.5523 - accuracy: 0.72 - ETA: 0s - loss: 0.5526 - accuracy: 0.73 - ETA: 0s - loss: 0.5522 - accuracy: 0.73 - ETA: 0s - loss: 0.5525 - accuracy: 0.73 - 1s 1ms/step - loss: 0.5534 - accuracy: 0.7292 - val_loss: 0.5617 - val_accuracy: 0.7270\n",
      "Epoch 7/7\n",
      "804/804 [==============================] - ETA: 0s - loss: 0.5826 - accuracy: 0.75 - ETA: 0s - loss: 0.5534 - accuracy: 0.73 - ETA: 0s - loss: 0.5539 - accuracy: 0.73 - ETA: 0s - loss: 0.5536 - accuracy: 0.73 - ETA: 0s - loss: 0.5471 - accuracy: 0.73 - ETA: 0s - loss: 0.5466 - accuracy: 0.73 - ETA: 0s - loss: 0.5455 - accuracy: 0.73 - ETA: 0s - loss: 0.5461 - accuracy: 0.73 - ETA: 0s - loss: 0.5491 - accuracy: 0.73 - ETA: 0s - loss: 0.5505 - accuracy: 0.73 - ETA: 0s - loss: 0.5517 - accuracy: 0.73 - ETA: 0s - loss: 0.5515 - accuracy: 0.73 - ETA: 0s - loss: 0.5530 - accuracy: 0.73 - 1s 965us/step - loss: 0.5531 - accuracy: 0.7301 - val_loss: 0.5562 - val_accuracy: 0.7289\n"
     ]
    },
    {
     "data": {
      "text/html": [
       "<span style=\"color:#4527A0\"><h1 style=\"font-size:18px\">Trial complete</h1></span>"
      ],
      "text/plain": [
       "<IPython.core.display.HTML object>"
      ]
     },
     "metadata": {},
     "output_type": "display_data"
    },
    {
     "data": {
      "text/html": [
       "<span style=\"color:#4527A0\"><h1 style=\"font-size:18px\">Trial summary</h1></span>"
      ],
      "text/plain": [
       "<IPython.core.display.HTML object>"
      ]
     },
     "metadata": {},
     "output_type": "display_data"
    },
    {
     "data": {
      "text/html": [
       "<span style=\"color:cyan\"> |-Trial ID: da4dbd8d2e023717f8a35f9097e067f0</span>"
      ],
      "text/plain": [
       "<IPython.core.display.HTML object>"
      ]
     },
     "metadata": {},
     "output_type": "display_data"
    },
    {
     "data": {
      "text/html": [
       "<span style=\"color:cyan\"> |-Score: 0.728863000869751</span>"
      ],
      "text/plain": [
       "<IPython.core.display.HTML object>"
      ]
     },
     "metadata": {},
     "output_type": "display_data"
    },
    {
     "data": {
      "text/html": [
       "<span style=\"color:cyan\"> |-Best step: 0</span>"
      ],
      "text/plain": [
       "<IPython.core.display.HTML object>"
      ]
     },
     "metadata": {},
     "output_type": "display_data"
    },
    {
     "data": {
      "text/html": [
       "<span style=\"color:#7E57C2\"><h2 style=\"font-size:16px\">Hyperparameters:</h2></span>"
      ],
      "text/plain": [
       "<IPython.core.display.HTML object>"
      ]
     },
     "metadata": {},
     "output_type": "display_data"
    },
    {
     "data": {
      "text/html": [
       "<span style=\"color:cyan\"> |-activation: tanh</span>"
      ],
      "text/plain": [
       "<IPython.core.display.HTML object>"
      ]
     },
     "metadata": {},
     "output_type": "display_data"
    },
    {
     "data": {
      "text/html": [
       "<span style=\"color:blue\"> |-first_units: 7</span>"
      ],
      "text/plain": [
       "<IPython.core.display.HTML object>"
      ]
     },
     "metadata": {},
     "output_type": "display_data"
    },
    {
     "data": {
      "text/html": [
       "<span style=\"color:cyan\"> |-num_layers: 3</span>"
      ],
      "text/plain": [
       "<IPython.core.display.HTML object>"
      ]
     },
     "metadata": {},
     "output_type": "display_data"
    },
    {
     "data": {
      "text/html": [
       "<span style=\"color:blue\"> |-tuner/bracket: 1</span>"
      ],
      "text/plain": [
       "<IPython.core.display.HTML object>"
      ]
     },
     "metadata": {},
     "output_type": "display_data"
    },
    {
     "data": {
      "text/html": [
       "<span style=\"color:cyan\"> |-tuner/epochs: 7</span>"
      ],
      "text/plain": [
       "<IPython.core.display.HTML object>"
      ]
     },
     "metadata": {},
     "output_type": "display_data"
    },
    {
     "data": {
      "text/html": [
       "<span style=\"color:blue\"> |-tuner/initial_epoch: 0</span>"
      ],
      "text/plain": [
       "<IPython.core.display.HTML object>"
      ]
     },
     "metadata": {},
     "output_type": "display_data"
    },
    {
     "data": {
      "text/html": [
       "<span style=\"color:cyan\"> |-tuner/round: 0</span>"
      ],
      "text/plain": [
       "<IPython.core.display.HTML object>"
      ]
     },
     "metadata": {},
     "output_type": "display_data"
    },
    {
     "data": {
      "text/html": [
       "<span style=\"color:blue\"> |-units_0: 7</span>"
      ],
      "text/plain": [
       "<IPython.core.display.HTML object>"
      ]
     },
     "metadata": {},
     "output_type": "display_data"
    },
    {
     "data": {
      "text/html": [
       "<span style=\"color:cyan\"> |-units_1: 7</span>"
      ],
      "text/plain": [
       "<IPython.core.display.HTML object>"
      ]
     },
     "metadata": {},
     "output_type": "display_data"
    },
    {
     "data": {
      "text/html": [
       "<span style=\"color:blue\"> |-units_2: 9</span>"
      ],
      "text/plain": [
       "<IPython.core.display.HTML object>"
      ]
     },
     "metadata": {},
     "output_type": "display_data"
    },
    {
     "data": {
      "text/html": [
       "<span style=\"color:cyan\"> |-units_3: 3</span>"
      ],
      "text/plain": [
       "<IPython.core.display.HTML object>"
      ]
     },
     "metadata": {},
     "output_type": "display_data"
    },
    {
     "data": {
      "text/html": [
       "<span style=\"color:blue\"> |-units_4: 5</span>"
      ],
      "text/plain": [
       "<IPython.core.display.HTML object>"
      ]
     },
     "metadata": {},
     "output_type": "display_data"
    },
    {
     "data": {
      "text/html": [
       "<span style=\"color:cyan\"> |-units_5: 9</span>"
      ],
      "text/plain": [
       "<IPython.core.display.HTML object>"
      ]
     },
     "metadata": {},
     "output_type": "display_data"
    },
    {
     "name": "stdout",
     "output_type": "stream",
     "text": [
      "Epoch 1/7\n",
      "804/804 [==============================] - ETA: 0s - loss: 0.7523 - accuracy: 0.56 - ETA: 0s - loss: 0.7890 - accuracy: 0.47 - ETA: 0s - loss: 0.7584 - accuracy: 0.47 - ETA: 0s - loss: 0.7364 - accuracy: 0.47 - ETA: 0s - loss: 0.7228 - accuracy: 0.50 - ETA: 0s - loss: 0.7148 - accuracy: 0.52 - ETA: 0s - loss: 0.7081 - accuracy: 0.54 - ETA: 0s - loss: 0.7031 - accuracy: 0.55 - ETA: 0s - loss: 0.6990 - accuracy: 0.56 - ETA: 0s - loss: 0.6939 - accuracy: 0.58 - ETA: 0s - loss: 0.6902 - accuracy: 0.59 - ETA: 0s - loss: 0.6877 - accuracy: 0.59 - ETA: 0s - loss: 0.6845 - accuracy: 0.60 - ETA: 0s - loss: 0.6802 - accuracy: 0.61 - ETA: 0s - loss: 0.6750 - accuracy: 0.62 - 1s 1ms/step - loss: 0.6707 - accuracy: 0.6324 - val_loss: 0.6085 - val_accuracy: 0.7240\n",
      "Epoch 2/7\n",
      "804/804 [==============================] - ETA: 0s - loss: 0.6380 - accuracy: 0.65 - ETA: 0s - loss: 0.6132 - accuracy: 0.70 - ETA: 0s - loss: 0.6067 - accuracy: 0.71 - ETA: 0s - loss: 0.6017 - accuracy: 0.72 - ETA: 0s - loss: 0.5990 - accuracy: 0.72 - ETA: 0s - loss: 0.5934 - accuracy: 0.72 - ETA: 0s - loss: 0.5943 - accuracy: 0.72 - ETA: 0s - loss: 0.5936 - accuracy: 0.72 - ETA: 0s - loss: 0.5937 - accuracy: 0.72 - ETA: 0s - loss: 0.5917 - accuracy: 0.72 - ETA: 0s - loss: 0.5898 - accuracy: 0.72 - ETA: 0s - loss: 0.5873 - accuracy: 0.72 - ETA: 0s - loss: 0.5852 - accuracy: 0.72 - ETA: 0s - loss: 0.5855 - accuracy: 0.72 - ETA: 0s - loss: 0.5851 - accuracy: 0.72 - 1s 1ms/step - loss: 0.5849 - accuracy: 0.7260 - val_loss: 0.5766 - val_accuracy: 0.7265\n",
      "Epoch 3/7\n",
      "804/804 [==============================] - ETA: 0s - loss: 0.5488 - accuracy: 0.78 - ETA: 0s - loss: 0.5653 - accuracy: 0.74 - ETA: 0s - loss: 0.5706 - accuracy: 0.73 - ETA: 0s - loss: 0.5685 - accuracy: 0.73 - ETA: 0s - loss: 0.5660 - accuracy: 0.73 - ETA: 0s - loss: 0.5688 - accuracy: 0.73 - ETA: 0s - loss: 0.5691 - accuracy: 0.73 - ETA: 0s - loss: 0.5703 - accuracy: 0.73 - ETA: 0s - loss: 0.5700 - accuracy: 0.73 - ETA: 0s - loss: 0.5719 - accuracy: 0.73 - ETA: 0s - loss: 0.5729 - accuracy: 0.73 - ETA: 0s - loss: 0.5734 - accuracy: 0.73 - ETA: 0s - loss: 0.5748 - accuracy: 0.72 - 1s 907us/step - loss: 0.5748 - accuracy: 0.7295 - val_loss: 0.5739 - val_accuracy: 0.7265\n",
      "Epoch 4/7\n",
      "804/804 [==============================] - ETA: 0s - loss: 0.6212 - accuracy: 0.68 - ETA: 0s - loss: 0.5631 - accuracy: 0.73 - ETA: 0s - loss: 0.5718 - accuracy: 0.73 - ETA: 0s - loss: 0.5714 - accuracy: 0.73 - ETA: 0s - loss: 0.5719 - accuracy: 0.73 - ETA: 0s - loss: 0.5713 - accuracy: 0.73 - ETA: 0s - loss: 0.5714 - accuracy: 0.73 - ETA: 0s - loss: 0.5717 - accuracy: 0.73 - ETA: 0s - loss: 0.5714 - accuracy: 0.73 - ETA: 0s - loss: 0.5703 - accuracy: 0.73 - ETA: 0s - loss: 0.5713 - accuracy: 0.73 - ETA: 0s - loss: 0.5697 - accuracy: 0.73 - ETA: 0s - loss: 0.5697 - accuracy: 0.73 - ETA: 0s - loss: 0.5726 - accuracy: 0.72 - ETA: 0s - loss: 0.5717 - accuracy: 0.72 - 1s 1ms/step - loss: 0.5721 - accuracy: 0.7292 - val_loss: 0.5711 - val_accuracy: 0.7258\n",
      "Epoch 5/7\n",
      "804/804 [==============================] - ETA: 0s - loss: 0.5857 - accuracy: 0.68 - ETA: 0s - loss: 0.5714 - accuracy: 0.72 - ETA: 0s - loss: 0.5673 - accuracy: 0.73 - ETA: 0s - loss: 0.5677 - accuracy: 0.73 - ETA: 0s - loss: 0.5642 - accuracy: 0.73 - ETA: 0s - loss: 0.5678 - accuracy: 0.73 - ETA: 0s - loss: 0.5686 - accuracy: 0.73 - ETA: 0s - loss: 0.5650 - accuracy: 0.73 - ETA: 0s - loss: 0.5661 - accuracy: 0.73 - ETA: 0s - loss: 0.5665 - accuracy: 0.73 - ETA: 0s - loss: 0.5686 - accuracy: 0.72 - ETA: 0s - loss: 0.5686 - accuracy: 0.72 - ETA: 0s - loss: 0.5683 - accuracy: 0.72 - ETA: 0s - loss: 0.5685 - accuracy: 0.72 - 1s 1ms/step - loss: 0.5683 - accuracy: 0.7299 - val_loss: 0.5677 - val_accuracy: 0.7251\n",
      "Epoch 6/7\n",
      "804/804 [==============================] - ETA: 0s - loss: 0.5700 - accuracy: 0.68 - ETA: 0s - loss: 0.5651 - accuracy: 0.72 - ETA: 0s - loss: 0.5726 - accuracy: 0.72 - ETA: 0s - loss: 0.5623 - accuracy: 0.72 - ETA: 0s - loss: 0.5602 - accuracy: 0.73 - ETA: 0s - loss: 0.5611 - accuracy: 0.73 - ETA: 0s - loss: 0.5594 - accuracy: 0.73 - ETA: 0s - loss: 0.5617 - accuracy: 0.73 - ETA: 0s - loss: 0.5616 - accuracy: 0.73 - ETA: 0s - loss: 0.5624 - accuracy: 0.73 - ETA: 0s - loss: 0.5633 - accuracy: 0.73 - ETA: 0s - loss: 0.5645 - accuracy: 0.72 - ETA: 0s - loss: 0.5641 - accuracy: 0.72 - 1s 974us/step - loss: 0.5639 - accuracy: 0.7297 - val_loss: 0.5647 - val_accuracy: 0.7255\n",
      "Epoch 7/7\n",
      "804/804 [==============================] - ETA: 0s - loss: 0.4832 - accuracy: 0.81 - ETA: 0s - loss: 0.5591 - accuracy: 0.73 - ETA: 0s - loss: 0.5592 - accuracy: 0.73 - ETA: 0s - loss: 0.5660 - accuracy: 0.72 - ETA: 0s - loss: 0.5649 - accuracy: 0.72 - ETA: 0s - loss: 0.5626 - accuracy: 0.73 - ETA: 0s - loss: 0.5637 - accuracy: 0.72 - ETA: 0s - loss: 0.5623 - accuracy: 0.73 - ETA: 0s - loss: 0.5614 - accuracy: 0.73 - ETA: 0s - loss: 0.5607 - accuracy: 0.73 - ETA: 0s - loss: 0.5605 - accuracy: 0.73 - ETA: 0s - loss: 0.5596 - accuracy: 0.73 - ETA: 0s - loss: 0.5597 - accuracy: 0.73 - ETA: 0s - loss: 0.5603 - accuracy: 0.73 - 1s 1ms/step - loss: 0.5610 - accuracy: 0.7308 - val_loss: 0.5628 - val_accuracy: 0.7265\n"
     ]
    },
    {
     "data": {
      "text/html": [
       "<span style=\"color:#4527A0\"><h1 style=\"font-size:18px\">Trial complete</h1></span>"
      ],
      "text/plain": [
       "<IPython.core.display.HTML object>"
      ]
     },
     "metadata": {},
     "output_type": "display_data"
    },
    {
     "data": {
      "text/html": [
       "<span style=\"color:#4527A0\"><h1 style=\"font-size:18px\">Trial summary</h1></span>"
      ],
      "text/plain": [
       "<IPython.core.display.HTML object>"
      ]
     },
     "metadata": {},
     "output_type": "display_data"
    },
    {
     "data": {
      "text/html": [
       "<span style=\"color:cyan\"> |-Trial ID: ef33913476a00347ea970273d8814f93</span>"
      ],
      "text/plain": [
       "<IPython.core.display.HTML object>"
      ]
     },
     "metadata": {},
     "output_type": "display_data"
    },
    {
     "data": {
      "text/html": [
       "<span style=\"color:cyan\"> |-Score: 0.7265306115150452</span>"
      ],
      "text/plain": [
       "<IPython.core.display.HTML object>"
      ]
     },
     "metadata": {},
     "output_type": "display_data"
    },
    {
     "data": {
      "text/html": [
       "<span style=\"color:cyan\"> |-Best step: 0</span>"
      ],
      "text/plain": [
       "<IPython.core.display.HTML object>"
      ]
     },
     "metadata": {},
     "output_type": "display_data"
    },
    {
     "data": {
      "text/html": [
       "<span style=\"color:#7E57C2\"><h2 style=\"font-size:16px\">Hyperparameters:</h2></span>"
      ],
      "text/plain": [
       "<IPython.core.display.HTML object>"
      ]
     },
     "metadata": {},
     "output_type": "display_data"
    },
    {
     "data": {
      "text/html": [
       "<span style=\"color:cyan\"> |-activation: sigmoid</span>"
      ],
      "text/plain": [
       "<IPython.core.display.HTML object>"
      ]
     },
     "metadata": {},
     "output_type": "display_data"
    },
    {
     "data": {
      "text/html": [
       "<span style=\"color:blue\"> |-first_units: 9</span>"
      ],
      "text/plain": [
       "<IPython.core.display.HTML object>"
      ]
     },
     "metadata": {},
     "output_type": "display_data"
    },
    {
     "data": {
      "text/html": [
       "<span style=\"color:cyan\"> |-num_layers: 2</span>"
      ],
      "text/plain": [
       "<IPython.core.display.HTML object>"
      ]
     },
     "metadata": {},
     "output_type": "display_data"
    },
    {
     "data": {
      "text/html": [
       "<span style=\"color:blue\"> |-tuner/bracket: 1</span>"
      ],
      "text/plain": [
       "<IPython.core.display.HTML object>"
      ]
     },
     "metadata": {},
     "output_type": "display_data"
    },
    {
     "data": {
      "text/html": [
       "<span style=\"color:cyan\"> |-tuner/epochs: 7</span>"
      ],
      "text/plain": [
       "<IPython.core.display.HTML object>"
      ]
     },
     "metadata": {},
     "output_type": "display_data"
    },
    {
     "data": {
      "text/html": [
       "<span style=\"color:blue\"> |-tuner/initial_epoch: 0</span>"
      ],
      "text/plain": [
       "<IPython.core.display.HTML object>"
      ]
     },
     "metadata": {},
     "output_type": "display_data"
    },
    {
     "data": {
      "text/html": [
       "<span style=\"color:cyan\"> |-tuner/round: 0</span>"
      ],
      "text/plain": [
       "<IPython.core.display.HTML object>"
      ]
     },
     "metadata": {},
     "output_type": "display_data"
    },
    {
     "data": {
      "text/html": [
       "<span style=\"color:blue\"> |-units_0: 9</span>"
      ],
      "text/plain": [
       "<IPython.core.display.HTML object>"
      ]
     },
     "metadata": {},
     "output_type": "display_data"
    },
    {
     "data": {
      "text/html": [
       "<span style=\"color:cyan\"> |-units_1: 9</span>"
      ],
      "text/plain": [
       "<IPython.core.display.HTML object>"
      ]
     },
     "metadata": {},
     "output_type": "display_data"
    },
    {
     "data": {
      "text/html": [
       "<span style=\"color:blue\"> |-units_2: 9</span>"
      ],
      "text/plain": [
       "<IPython.core.display.HTML object>"
      ]
     },
     "metadata": {},
     "output_type": "display_data"
    },
    {
     "data": {
      "text/html": [
       "<span style=\"color:cyan\"> |-units_3: 3</span>"
      ],
      "text/plain": [
       "<IPython.core.display.HTML object>"
      ]
     },
     "metadata": {},
     "output_type": "display_data"
    },
    {
     "data": {
      "text/html": [
       "<span style=\"color:blue\"> |-units_4: 3</span>"
      ],
      "text/plain": [
       "<IPython.core.display.HTML object>"
      ]
     },
     "metadata": {},
     "output_type": "display_data"
    },
    {
     "data": {
      "text/html": [
       "<span style=\"color:cyan\"> |-units_5: 7</span>"
      ],
      "text/plain": [
       "<IPython.core.display.HTML object>"
      ]
     },
     "metadata": {},
     "output_type": "display_data"
    },
    {
     "name": "stdout",
     "output_type": "stream",
     "text": [
      "Epoch 1/7\n",
      "804/804 [==============================] - ETA: 0s - loss: 0.8405 - accuracy: 0.28 - ETA: 0s - loss: 0.7636 - accuracy: 0.44 - ETA: 0s - loss: 0.7215 - accuracy: 0.51 - ETA: 0s - loss: 0.6935 - accuracy: 0.55 - ETA: 0s - loss: 0.6732 - accuracy: 0.59 - ETA: 0s - loss: 0.6568 - accuracy: 0.61 - ETA: 0s - loss: 0.6450 - accuracy: 0.63 - ETA: 0s - loss: 0.6356 - accuracy: 0.64 - ETA: 0s - loss: 0.6298 - accuracy: 0.65 - ETA: 0s - loss: 0.6243 - accuracy: 0.65 - ETA: 0s - loss: 0.6204 - accuracy: 0.66 - ETA: 0s - loss: 0.6155 - accuracy: 0.66 - ETA: 0s - loss: 0.6135 - accuracy: 0.67 - ETA: 0s - loss: 0.6106 - accuracy: 0.67 - 1s 1ms/step - loss: 0.6103 - accuracy: 0.6758 - val_loss: 0.5731 - val_accuracy: 0.7205\n",
      "Epoch 2/7\n",
      "804/804 [==============================] - ETA: 0s - loss: 0.5251 - accuracy: 0.78 - ETA: 0s - loss: 0.5726 - accuracy: 0.71 - ETA: 0s - loss: 0.5713 - accuracy: 0.71 - ETA: 0s - loss: 0.5780 - accuracy: 0.71 - ETA: 0s - loss: 0.5742 - accuracy: 0.71 - ETA: 0s - loss: 0.5720 - accuracy: 0.71 - ETA: 0s - loss: 0.5696 - accuracy: 0.72 - ETA: 0s - loss: 0.5712 - accuracy: 0.71 - ETA: 0s - loss: 0.5709 - accuracy: 0.71 - ETA: 0s - loss: 0.5697 - accuracy: 0.72 - ETA: 0s - loss: 0.5703 - accuracy: 0.71 - ETA: 0s - loss: 0.5690 - accuracy: 0.72 - ETA: 0s - loss: 0.5666 - accuracy: 0.72 - ETA: 0s - loss: 0.5659 - accuracy: 0.72 - 1s 1ms/step - loss: 0.5656 - accuracy: 0.7239 - val_loss: 0.5658 - val_accuracy: 0.7220\n",
      "Epoch 3/7\n",
      "804/804 [==============================] - ETA: 0s - loss: 0.6435 - accuracy: 0.65 - ETA: 0s - loss: 0.5644 - accuracy: 0.72 - ETA: 0s - loss: 0.5641 - accuracy: 0.72 - ETA: 0s - loss: 0.5630 - accuracy: 0.72 - ETA: 0s - loss: 0.5595 - accuracy: 0.72 - ETA: 0s - loss: 0.5618 - accuracy: 0.72 - ETA: 0s - loss: 0.5623 - accuracy: 0.72 - ETA: 0s - loss: 0.5622 - accuracy: 0.72 - ETA: 0s - loss: 0.5614 - accuracy: 0.72 - ETA: 0s - loss: 0.5617 - accuracy: 0.72 - ETA: 0s - loss: 0.5621 - accuracy: 0.72 - ETA: 0s - loss: 0.5626 - accuracy: 0.72 - ETA: 0s - loss: 0.5613 - accuracy: 0.72 - 1s 992us/step - loss: 0.5603 - accuracy: 0.7268 - val_loss: 0.5621 - val_accuracy: 0.7254\n",
      "Epoch 4/7\n",
      "804/804 [==============================] - ETA: 0s - loss: 0.5643 - accuracy: 0.71 - ETA: 0s - loss: 0.5454 - accuracy: 0.74 - ETA: 0s - loss: 0.5516 - accuracy: 0.73 - ETA: 0s - loss: 0.5603 - accuracy: 0.72 - ETA: 0s - loss: 0.5594 - accuracy: 0.72 - ETA: 0s - loss: 0.5608 - accuracy: 0.72 - ETA: 0s - loss: 0.5608 - accuracy: 0.72 - ETA: 0s - loss: 0.5606 - accuracy: 0.72 - ETA: 0s - loss: 0.5607 - accuracy: 0.72 - ETA: 0s - loss: 0.5605 - accuracy: 0.72 - ETA: 0s - loss: 0.5590 - accuracy: 0.72 - ETA: 0s - loss: 0.5573 - accuracy: 0.72 - ETA: 0s - loss: 0.5588 - accuracy: 0.72 - 1s 989us/step - loss: 0.5578 - accuracy: 0.7272 - val_loss: 0.5611 - val_accuracy: 0.7269\n",
      "Epoch 5/7\n",
      "804/804 [==============================] - ETA: 0s - loss: 0.7072 - accuracy: 0.56 - ETA: 0s - loss: 0.5494 - accuracy: 0.72 - ETA: 0s - loss: 0.5536 - accuracy: 0.72 - ETA: 0s - loss: 0.5585 - accuracy: 0.72 - ETA: 0s - loss: 0.5545 - accuracy: 0.72 - ETA: 0s - loss: 0.5534 - accuracy: 0.72 - ETA: 0s - loss: 0.5525 - accuracy: 0.72 - ETA: 0s - loss: 0.5531 - accuracy: 0.72 - ETA: 0s - loss: 0.5551 - accuracy: 0.72 - ETA: 0s - loss: 0.5549 - accuracy: 0.72 - ETA: 0s - loss: 0.5559 - accuracy: 0.72 - ETA: 0s - loss: 0.5554 - accuracy: 0.72 - 1s 923us/step - loss: 0.5568 - accuracy: 0.7286 - val_loss: 0.5599 - val_accuracy: 0.7276\n",
      "Epoch 6/7\n",
      "804/804 [==============================] - ETA: 0s - loss: 0.5594 - accuracy: 0.71 - ETA: 0s - loss: 0.5422 - accuracy: 0.73 - ETA: 0s - loss: 0.5575 - accuracy: 0.72 - ETA: 0s - loss: 0.5448 - accuracy: 0.73 - ETA: 0s - loss: 0.5509 - accuracy: 0.72 - ETA: 0s - loss: 0.5505 - accuracy: 0.73 - ETA: 0s - loss: 0.5523 - accuracy: 0.73 - ETA: 0s - loss: 0.5533 - accuracy: 0.73 - ETA: 0s - loss: 0.5545 - accuracy: 0.72 - ETA: 0s - loss: 0.5556 - accuracy: 0.72 - ETA: 0s - loss: 0.5555 - accuracy: 0.72 - ETA: 0s - loss: 0.5554 - accuracy: 0.72 - 1s 915us/step - loss: 0.5554 - accuracy: 0.7287 - val_loss: 0.5600 - val_accuracy: 0.7280\n",
      "Epoch 7/7\n",
      "804/804 [==============================] - ETA: 0s - loss: 0.6252 - accuracy: 0.71 - ETA: 0s - loss: 0.5532 - accuracy: 0.73 - ETA: 0s - loss: 0.5533 - accuracy: 0.73 - ETA: 0s - loss: 0.5560 - accuracy: 0.73 - ETA: 0s - loss: 0.5546 - accuracy: 0.72 - ETA: 0s - loss: 0.5544 - accuracy: 0.72 - ETA: 0s - loss: 0.5513 - accuracy: 0.73 - ETA: 0s - loss: 0.5515 - accuracy: 0.73 - ETA: 0s - loss: 0.5516 - accuracy: 0.73 - ETA: 0s - loss: 0.5540 - accuracy: 0.72 - ETA: 0s - loss: 0.5526 - accuracy: 0.73 - ETA: 0s - loss: 0.5538 - accuracy: 0.73 - ETA: 0s - loss: 0.5541 - accuracy: 0.73 - ETA: 0s - loss: 0.5542 - accuracy: 0.73 - 1s 1ms/step - loss: 0.5546 - accuracy: 0.7301 - val_loss: 0.5588 - val_accuracy: 0.7311\n"
     ]
    },
    {
     "data": {
      "text/html": [
       "<span style=\"color:#4527A0\"><h1 style=\"font-size:18px\">Trial complete</h1></span>"
      ],
      "text/plain": [
       "<IPython.core.display.HTML object>"
      ]
     },
     "metadata": {},
     "output_type": "display_data"
    },
    {
     "data": {
      "text/html": [
       "<span style=\"color:#4527A0\"><h1 style=\"font-size:18px\">Trial summary</h1></span>"
      ],
      "text/plain": [
       "<IPython.core.display.HTML object>"
      ]
     },
     "metadata": {},
     "output_type": "display_data"
    },
    {
     "data": {
      "text/html": [
       "<span style=\"color:cyan\"> |-Trial ID: 65cbfe066de4632c504085132f892251</span>"
      ],
      "text/plain": [
       "<IPython.core.display.HTML object>"
      ]
     },
     "metadata": {},
     "output_type": "display_data"
    },
    {
     "data": {
      "text/html": [
       "<span style=\"color:cyan\"> |-Score: 0.7310787439346313</span>"
      ],
      "text/plain": [
       "<IPython.core.display.HTML object>"
      ]
     },
     "metadata": {},
     "output_type": "display_data"
    },
    {
     "data": {
      "text/html": [
       "<span style=\"color:cyan\"> |-Best step: 0</span>"
      ],
      "text/plain": [
       "<IPython.core.display.HTML object>"
      ]
     },
     "metadata": {},
     "output_type": "display_data"
    },
    {
     "data": {
      "text/html": [
       "<span style=\"color:#7E57C2\"><h2 style=\"font-size:16px\">Hyperparameters:</h2></span>"
      ],
      "text/plain": [
       "<IPython.core.display.HTML object>"
      ]
     },
     "metadata": {},
     "output_type": "display_data"
    },
    {
     "data": {
      "text/html": [
       "<span style=\"color:cyan\"> |-activation: tanh</span>"
      ],
      "text/plain": [
       "<IPython.core.display.HTML object>"
      ]
     },
     "metadata": {},
     "output_type": "display_data"
    },
    {
     "data": {
      "text/html": [
       "<span style=\"color:blue\"> |-first_units: 5</span>"
      ],
      "text/plain": [
       "<IPython.core.display.HTML object>"
      ]
     },
     "metadata": {},
     "output_type": "display_data"
    },
    {
     "data": {
      "text/html": [
       "<span style=\"color:cyan\"> |-num_layers: 2</span>"
      ],
      "text/plain": [
       "<IPython.core.display.HTML object>"
      ]
     },
     "metadata": {},
     "output_type": "display_data"
    },
    {
     "data": {
      "text/html": [
       "<span style=\"color:blue\"> |-tuner/bracket: 1</span>"
      ],
      "text/plain": [
       "<IPython.core.display.HTML object>"
      ]
     },
     "metadata": {},
     "output_type": "display_data"
    },
    {
     "data": {
      "text/html": [
       "<span style=\"color:cyan\"> |-tuner/epochs: 7</span>"
      ],
      "text/plain": [
       "<IPython.core.display.HTML object>"
      ]
     },
     "metadata": {},
     "output_type": "display_data"
    },
    {
     "data": {
      "text/html": [
       "<span style=\"color:blue\"> |-tuner/initial_epoch: 0</span>"
      ],
      "text/plain": [
       "<IPython.core.display.HTML object>"
      ]
     },
     "metadata": {},
     "output_type": "display_data"
    },
    {
     "data": {
      "text/html": [
       "<span style=\"color:cyan\"> |-tuner/round: 0</span>"
      ],
      "text/plain": [
       "<IPython.core.display.HTML object>"
      ]
     },
     "metadata": {},
     "output_type": "display_data"
    },
    {
     "data": {
      "text/html": [
       "<span style=\"color:blue\"> |-units_0: 5</span>"
      ],
      "text/plain": [
       "<IPython.core.display.HTML object>"
      ]
     },
     "metadata": {},
     "output_type": "display_data"
    },
    {
     "data": {
      "text/html": [
       "<span style=\"color:cyan\"> |-units_1: 3</span>"
      ],
      "text/plain": [
       "<IPython.core.display.HTML object>"
      ]
     },
     "metadata": {},
     "output_type": "display_data"
    },
    {
     "data": {
      "text/html": [
       "<span style=\"color:blue\"> |-units_2: 7</span>"
      ],
      "text/plain": [
       "<IPython.core.display.HTML object>"
      ]
     },
     "metadata": {},
     "output_type": "display_data"
    },
    {
     "data": {
      "text/html": [
       "<span style=\"color:cyan\"> |-units_3: 1</span>"
      ],
      "text/plain": [
       "<IPython.core.display.HTML object>"
      ]
     },
     "metadata": {},
     "output_type": "display_data"
    },
    {
     "data": {
      "text/html": [
       "<span style=\"color:blue\"> |-units_4: 3</span>"
      ],
      "text/plain": [
       "<IPython.core.display.HTML object>"
      ]
     },
     "metadata": {},
     "output_type": "display_data"
    },
    {
     "data": {
      "text/html": [
       "<span style=\"color:cyan\"> |-units_5: 9</span>"
      ],
      "text/plain": [
       "<IPython.core.display.HTML object>"
      ]
     },
     "metadata": {},
     "output_type": "display_data"
    },
    {
     "name": "stdout",
     "output_type": "stream",
     "text": [
      "Epoch 1/7\n",
      "804/804 [==============================] - ETA: 0s - loss: 0.7074 - accuracy: 0.65 - ETA: 0s - loss: 0.6961 - accuracy: 0.53 - ETA: 0s - loss: 0.6866 - accuracy: 0.54 - ETA: 0s - loss: 0.6808 - accuracy: 0.54 - ETA: 0s - loss: 0.6750 - accuracy: 0.55 - ETA: 0s - loss: 0.6701 - accuracy: 0.58 - ETA: 0s - loss: 0.6662 - accuracy: 0.59 - ETA: 0s - loss: 0.6623 - accuracy: 0.61 - ETA: 0s - loss: 0.6595 - accuracy: 0.62 - ETA: 0s - loss: 0.6554 - accuracy: 0.63 - ETA: 0s - loss: 0.6521 - accuracy: 0.64 - ETA: 0s - loss: 0.6514 - accuracy: 0.64 - ETA: 0s - loss: 0.6495 - accuracy: 0.65 - ETA: 0s - loss: 0.6469 - accuracy: 0.65 - 1s 1ms/step - loss: 0.6464 - accuracy: 0.6564 - val_loss: 0.6144 - val_accuracy: 0.7099\n",
      "Epoch 2/7\n",
      "804/804 [==============================] - ETA: 0s - loss: 0.6459 - accuracy: 0.68 - ETA: 0s - loss: 0.6069 - accuracy: 0.72 - ETA: 0s - loss: 0.6132 - accuracy: 0.71 - ETA: 0s - loss: 0.6122 - accuracy: 0.71 - ETA: 0s - loss: 0.6084 - accuracy: 0.71 - ETA: 0s - loss: 0.6084 - accuracy: 0.71 - ETA: 0s - loss: 0.6046 - accuracy: 0.71 - ETA: 0s - loss: 0.6006 - accuracy: 0.71 - ETA: 0s - loss: 0.5994 - accuracy: 0.71 - ETA: 0s - loss: 0.5987 - accuracy: 0.71 - ETA: 0s - loss: 0.5979 - accuracy: 0.71 - ETA: 0s - loss: 0.5975 - accuracy: 0.71 - 1s 901us/step - loss: 0.5976 - accuracy: 0.7186 - val_loss: 0.5886 - val_accuracy: 0.7245\n",
      "Epoch 3/7\n",
      "804/804 [==============================] - ETA: 0s - loss: 0.6038 - accuracy: 0.75 - ETA: 0s - loss: 0.5919 - accuracy: 0.72 - ETA: 0s - loss: 0.5884 - accuracy: 0.72 - ETA: 0s - loss: 0.5882 - accuracy: 0.72 - ETA: 0s - loss: 0.5878 - accuracy: 0.72 - ETA: 0s - loss: 0.5872 - accuracy: 0.72 - ETA: 0s - loss: 0.5875 - accuracy: 0.72 - ETA: 0s - loss: 0.5863 - accuracy: 0.72 - ETA: 0s - loss: 0.5851 - accuracy: 0.72 - ETA: 0s - loss: 0.5838 - accuracy: 0.72 - ETA: 0s - loss: 0.5817 - accuracy: 0.72 - ETA: 0s - loss: 0.5811 - accuracy: 0.72 - ETA: 0s - loss: 0.5814 - accuracy: 0.72 - 1s 961us/step - loss: 0.5808 - accuracy: 0.7261 - val_loss: 0.5810 - val_accuracy: 0.7209\n",
      "Epoch 4/7\n",
      "804/804 [==============================] - ETA: 0s - loss: 0.5639 - accuracy: 0.75 - ETA: 0s - loss: 0.5636 - accuracy: 0.73 - ETA: 0s - loss: 0.5665 - accuracy: 0.73 - ETA: 0s - loss: 0.5681 - accuracy: 0.73 - ETA: 0s - loss: 0.5688 - accuracy: 0.73 - ETA: 0s - loss: 0.5699 - accuracy: 0.73 - ETA: 0s - loss: 0.5700 - accuracy: 0.73 - ETA: 0s - loss: 0.5692 - accuracy: 0.73 - ETA: 0s - loss: 0.5718 - accuracy: 0.73 - ETA: 0s - loss: 0.5734 - accuracy: 0.73 - ETA: 0s - loss: 0.5761 - accuracy: 0.72 - ETA: 0s - loss: 0.5766 - accuracy: 0.72 - 1s 916us/step - loss: 0.5758 - accuracy: 0.7278 - val_loss: 0.5779 - val_accuracy: 0.7231\n",
      "Epoch 5/7\n",
      "804/804 [==============================] - ETA: 0s - loss: 0.5186 - accuracy: 0.68 - ETA: 0s - loss: 0.5774 - accuracy: 0.72 - ETA: 0s - loss: 0.5790 - accuracy: 0.72 - ETA: 0s - loss: 0.5789 - accuracy: 0.72 - ETA: 0s - loss: 0.5734 - accuracy: 0.72 - ETA: 0s - loss: 0.5734 - accuracy: 0.72 - ETA: 0s - loss: 0.5747 - accuracy: 0.72 - ETA: 0s - loss: 0.5733 - accuracy: 0.72 - ETA: 0s - loss: 0.5746 - accuracy: 0.72 - ETA: 0s - loss: 0.5715 - accuracy: 0.73 - ETA: 0s - loss: 0.5698 - accuracy: 0.73 - ETA: 0s - loss: 0.5716 - accuracy: 0.72 - ETA: 0s - loss: 0.5739 - accuracy: 0.72 - ETA: 0s - loss: 0.5742 - accuracy: 0.72 - 1s 1ms/step - loss: 0.5733 - accuracy: 0.7281 - val_loss: 0.5785 - val_accuracy: 0.7214\n",
      "Epoch 6/7\n",
      "804/804 [==============================] - ETA: 0s - loss: 0.5944 - accuracy: 0.68 - ETA: 0s - loss: 0.5677 - accuracy: 0.73 - ETA: 0s - loss: 0.5779 - accuracy: 0.72 - ETA: 0s - loss: 0.5776 - accuracy: 0.72 - ETA: 0s - loss: 0.5757 - accuracy: 0.72 - ETA: 0s - loss: 0.5746 - accuracy: 0.72 - ETA: 0s - loss: 0.5750 - accuracy: 0.72 - ETA: 0s - loss: 0.5729 - accuracy: 0.72 - ETA: 0s - loss: 0.5725 - accuracy: 0.72 - ETA: 0s - loss: 0.5719 - accuracy: 0.72 - ETA: 0s - loss: 0.5729 - accuracy: 0.72 - ETA: 0s - loss: 0.5716 - accuracy: 0.72 - ETA: 0s - loss: 0.5721 - accuracy: 0.72 - 1s 935us/step - loss: 0.5720 - accuracy: 0.7284 - val_loss: 0.5755 - val_accuracy: 0.7237\n",
      "Epoch 7/7\n",
      "804/804 [==============================] - ETA: 0s - loss: 0.8075 - accuracy: 0.56 - ETA: 0s - loss: 0.5797 - accuracy: 0.71 - ETA: 0s - loss: 0.5747 - accuracy: 0.72 - ETA: 0s - loss: 0.5688 - accuracy: 0.73 - ETA: 0s - loss: 0.5699 - accuracy: 0.72 - ETA: 0s - loss: 0.5691 - accuracy: 0.73 - ETA: 0s - loss: 0.5703 - accuracy: 0.72 - ETA: 0s - loss: 0.5697 - accuracy: 0.73 - ETA: 0s - loss: 0.5681 - accuracy: 0.73 - ETA: 0s - loss: 0.5696 - accuracy: 0.73 - ETA: 0s - loss: 0.5707 - accuracy: 0.72 - ETA: 0s - loss: 0.5710 - accuracy: 0.72 - ETA: 0s - loss: 0.5706 - accuracy: 0.72 - ETA: 0s - loss: 0.5707 - accuracy: 0.72 - 1s 1ms/step - loss: 0.5707 - accuracy: 0.7292 - val_loss: 0.5749 - val_accuracy: 0.7220\n"
     ]
    },
    {
     "data": {
      "text/html": [
       "<span style=\"color:#4527A0\"><h1 style=\"font-size:18px\">Trial complete</h1></span>"
      ],
      "text/plain": [
       "<IPython.core.display.HTML object>"
      ]
     },
     "metadata": {},
     "output_type": "display_data"
    },
    {
     "data": {
      "text/html": [
       "<span style=\"color:#4527A0\"><h1 style=\"font-size:18px\">Trial summary</h1></span>"
      ],
      "text/plain": [
       "<IPython.core.display.HTML object>"
      ]
     },
     "metadata": {},
     "output_type": "display_data"
    },
    {
     "data": {
      "text/html": [
       "<span style=\"color:cyan\"> |-Trial ID: 9f89d674b9b07112f1a55bb473740634</span>"
      ],
      "text/plain": [
       "<IPython.core.display.HTML object>"
      ]
     },
     "metadata": {},
     "output_type": "display_data"
    },
    {
     "data": {
      "text/html": [
       "<span style=\"color:cyan\"> |-Score: 0.7245481014251709</span>"
      ],
      "text/plain": [
       "<IPython.core.display.HTML object>"
      ]
     },
     "metadata": {},
     "output_type": "display_data"
    },
    {
     "data": {
      "text/html": [
       "<span style=\"color:cyan\"> |-Best step: 0</span>"
      ],
      "text/plain": [
       "<IPython.core.display.HTML object>"
      ]
     },
     "metadata": {},
     "output_type": "display_data"
    },
    {
     "data": {
      "text/html": [
       "<span style=\"color:#7E57C2\"><h2 style=\"font-size:16px\">Hyperparameters:</h2></span>"
      ],
      "text/plain": [
       "<IPython.core.display.HTML object>"
      ]
     },
     "metadata": {},
     "output_type": "display_data"
    },
    {
     "data": {
      "text/html": [
       "<span style=\"color:cyan\"> |-activation: relu</span>"
      ],
      "text/plain": [
       "<IPython.core.display.HTML object>"
      ]
     },
     "metadata": {},
     "output_type": "display_data"
    },
    {
     "data": {
      "text/html": [
       "<span style=\"color:blue\"> |-first_units: 3</span>"
      ],
      "text/plain": [
       "<IPython.core.display.HTML object>"
      ]
     },
     "metadata": {},
     "output_type": "display_data"
    },
    {
     "data": {
      "text/html": [
       "<span style=\"color:cyan\"> |-num_layers: 2</span>"
      ],
      "text/plain": [
       "<IPython.core.display.HTML object>"
      ]
     },
     "metadata": {},
     "output_type": "display_data"
    },
    {
     "data": {
      "text/html": [
       "<span style=\"color:blue\"> |-tuner/bracket: 1</span>"
      ],
      "text/plain": [
       "<IPython.core.display.HTML object>"
      ]
     },
     "metadata": {},
     "output_type": "display_data"
    },
    {
     "data": {
      "text/html": [
       "<span style=\"color:cyan\"> |-tuner/epochs: 7</span>"
      ],
      "text/plain": [
       "<IPython.core.display.HTML object>"
      ]
     },
     "metadata": {},
     "output_type": "display_data"
    },
    {
     "data": {
      "text/html": [
       "<span style=\"color:blue\"> |-tuner/initial_epoch: 0</span>"
      ],
      "text/plain": [
       "<IPython.core.display.HTML object>"
      ]
     },
     "metadata": {},
     "output_type": "display_data"
    },
    {
     "data": {
      "text/html": [
       "<span style=\"color:cyan\"> |-tuner/round: 0</span>"
      ],
      "text/plain": [
       "<IPython.core.display.HTML object>"
      ]
     },
     "metadata": {},
     "output_type": "display_data"
    },
    {
     "data": {
      "text/html": [
       "<span style=\"color:blue\"> |-units_0: 7</span>"
      ],
      "text/plain": [
       "<IPython.core.display.HTML object>"
      ]
     },
     "metadata": {},
     "output_type": "display_data"
    },
    {
     "data": {
      "text/html": [
       "<span style=\"color:cyan\"> |-units_1: 3</span>"
      ],
      "text/plain": [
       "<IPython.core.display.HTML object>"
      ]
     },
     "metadata": {},
     "output_type": "display_data"
    },
    {
     "data": {
      "text/html": [
       "<span style=\"color:blue\"> |-units_2: 7</span>"
      ],
      "text/plain": [
       "<IPython.core.display.HTML object>"
      ]
     },
     "metadata": {},
     "output_type": "display_data"
    },
    {
     "data": {
      "text/html": [
       "<span style=\"color:cyan\"> |-units_3: 9</span>"
      ],
      "text/plain": [
       "<IPython.core.display.HTML object>"
      ]
     },
     "metadata": {},
     "output_type": "display_data"
    },
    {
     "data": {
      "text/html": [
       "<span style=\"color:blue\"> |-units_4: 7</span>"
      ],
      "text/plain": [
       "<IPython.core.display.HTML object>"
      ]
     },
     "metadata": {},
     "output_type": "display_data"
    },
    {
     "data": {
      "text/html": [
       "<span style=\"color:cyan\"> |-units_5: 9</span>"
      ],
      "text/plain": [
       "<IPython.core.display.HTML object>"
      ]
     },
     "metadata": {},
     "output_type": "display_data"
    },
    {
     "name": "stdout",
     "output_type": "stream",
     "text": [
      "Epoch 1/7\n",
      "777/804 [===========================>..] - ETA: 0s - loss: 0.7800 - accuracy: 0.53 - ETA: 0s - loss: 0.6800 - accuracy: 0.61 - ETA: 0s - loss: 0.6647 - accuracy: 0.62 - ETA: 0s - loss: 0.6434 - accuracy: 0.65 - ETA: 0s - loss: 0.6263 - accuracy: 0.67 - ETA: 0s - loss: 0.6187 - accuracy: 0.68 - ETA: 0s - loss: 0.6119 - accuracy: 0.69 - ETA: 0s - loss: 0.6074 - accuracy: 0.69 - ETA: 0s - loss: 0.6035 - accuracy: 0.69 - ETA: 0s - loss: 0.6006 - accuracy: 0.70 - ETA: 0s - loss: 0.5982 - accuracy: 0.70 - ETA: 0s - loss: 0.5954 - accuracy: 0.7073WARNING:tensorflow:Callbacks method `on_test_batch_end` is slow compared to the batch time (batch time: 0.0000s vs `on_test_batch_end` time: 0.0010s). Check your callbacks.\n",
      "804/804 [==============================] - 1s 1ms/step - loss: 0.5950 - accuracy: 0.7074 - val_loss: 0.5739 - val_accuracy: 0.7266\n",
      "Epoch 2/7\n",
      "804/804 [==============================] - ETA: 0s - loss: 0.6478 - accuracy: 0.68 - ETA: 0s - loss: 0.5711 - accuracy: 0.73 - ETA: 0s - loss: 0.5771 - accuracy: 0.72 - ETA: 0s - loss: 0.5760 - accuracy: 0.72 - ETA: 0s - loss: 0.5716 - accuracy: 0.72 - ETA: 0s - loss: 0.5731 - accuracy: 0.72 - ETA: 0s - loss: 0.5725 - accuracy: 0.72 - ETA: 0s - loss: 0.5707 - accuracy: 0.72 - ETA: 0s - loss: 0.5708 - accuracy: 0.72 - ETA: 0s - loss: 0.5711 - accuracy: 0.72 - ETA: 0s - loss: 0.5707 - accuracy: 0.72 - ETA: 0s - loss: 0.5704 - accuracy: 0.72 - ETA: 0s - loss: 0.5712 - accuracy: 0.72 - 1s 1ms/step - loss: 0.5712 - accuracy: 0.7273 - val_loss: 0.5691 - val_accuracy: 0.7289\n",
      "Epoch 3/7\n",
      "804/804 [==============================] - ETA: 0s - loss: 0.5125 - accuracy: 0.78 - ETA: 0s - loss: 0.5538 - accuracy: 0.73 - ETA: 0s - loss: 0.5630 - accuracy: 0.73 - ETA: 0s - loss: 0.5666 - accuracy: 0.72 - ETA: 0s - loss: 0.5669 - accuracy: 0.72 - ETA: 0s - loss: 0.5653 - accuracy: 0.72 - ETA: 0s - loss: 0.5664 - accuracy: 0.72 - ETA: 0s - loss: 0.5649 - accuracy: 0.72 - ETA: 0s - loss: 0.5653 - accuracy: 0.72 - ETA: 0s - loss: 0.5654 - accuracy: 0.72 - ETA: 0s - loss: 0.5643 - accuracy: 0.73 - ETA: 0s - loss: 0.5648 - accuracy: 0.73 - ETA: 0s - loss: 0.5670 - accuracy: 0.72 - 1s 947us/step - loss: 0.5670 - accuracy: 0.7283 - val_loss: 0.5674 - val_accuracy: 0.7279\n",
      "Epoch 4/7\n",
      "804/804 [==============================] - ETA: 0s - loss: 0.6668 - accuracy: 0.62 - ETA: 0s - loss: 0.5934 - accuracy: 0.70 - ETA: 0s - loss: 0.5765 - accuracy: 0.71 - ETA: 0s - loss: 0.5654 - accuracy: 0.72 - ETA: 0s - loss: 0.5679 - accuracy: 0.72 - ETA: 0s - loss: 0.5691 - accuracy: 0.72 - ETA: 0s - loss: 0.5708 - accuracy: 0.72 - ETA: 0s - loss: 0.5696 - accuracy: 0.72 - ETA: 0s - loss: 0.5692 - accuracy: 0.72 - ETA: 0s - loss: 0.5679 - accuracy: 0.72 - ETA: 0s - loss: 0.5675 - accuracy: 0.72 - ETA: 0s - loss: 0.5654 - accuracy: 0.72 - ETA: 0s - loss: 0.5640 - accuracy: 0.72 - 1s 977us/step - loss: 0.5646 - accuracy: 0.7290 - val_loss: 0.5651 - val_accuracy: 0.7303\n",
      "Epoch 5/7\n",
      "804/804 [==============================] - ETA: 0s - loss: 0.6549 - accuracy: 0.62 - ETA: 0s - loss: 0.5558 - accuracy: 0.73 - ETA: 0s - loss: 0.5542 - accuracy: 0.73 - ETA: 0s - loss: 0.5545 - accuracy: 0.73 - ETA: 0s - loss: 0.5588 - accuracy: 0.73 - ETA: 0s - loss: 0.5599 - accuracy: 0.72 - ETA: 0s - loss: 0.5598 - accuracy: 0.73 - ETA: 0s - loss: 0.5615 - accuracy: 0.72 - ETA: 0s - loss: 0.5613 - accuracy: 0.72 - ETA: 0s - loss: 0.5609 - accuracy: 0.72 - ETA: 0s - loss: 0.5613 - accuracy: 0.72 - ETA: 0s - loss: 0.5617 - accuracy: 0.72 - ETA: 0s - loss: 0.5615 - accuracy: 0.72 - 1s 974us/step - loss: 0.5620 - accuracy: 0.7274 - val_loss: 0.5643 - val_accuracy: 0.7306\n",
      "Epoch 6/7\n",
      "804/804 [==============================] - ETA: 0s - loss: 0.5193 - accuracy: 0.78 - ETA: 0s - loss: 0.5912 - accuracy: 0.70 - ETA: 0s - loss: 0.5728 - accuracy: 0.71 - ETA: 0s - loss: 0.5630 - accuracy: 0.73 - ETA: 0s - loss: 0.5659 - accuracy: 0.72 - ETA: 0s - loss: 0.5604 - accuracy: 0.73 - ETA: 0s - loss: 0.5597 - accuracy: 0.73 - ETA: 0s - loss: 0.5604 - accuracy: 0.72 - ETA: 0s - loss: 0.5590 - accuracy: 0.73 - ETA: 0s - loss: 0.5603 - accuracy: 0.72 - ETA: 0s - loss: 0.5598 - accuracy: 0.72 - ETA: 0s - loss: 0.5609 - accuracy: 0.72 - ETA: 0s - loss: 0.5600 - accuracy: 0.72 - ETA: 0s - loss: 0.5599 - accuracy: 0.72 - 1s 989us/step - loss: 0.5597 - accuracy: 0.7292 - val_loss: 0.5620 - val_accuracy: 0.7289\n",
      "Epoch 7/7\n",
      "804/804 [==============================] - ETA: 0s - loss: 0.5261 - accuracy: 0.78 - ETA: 0s - loss: 0.5575 - accuracy: 0.73 - ETA: 0s - loss: 0.5700 - accuracy: 0.71 - ETA: 0s - loss: 0.5637 - accuracy: 0.72 - ETA: 0s - loss: 0.5653 - accuracy: 0.72 - ETA: 0s - loss: 0.5629 - accuracy: 0.72 - ETA: 0s - loss: 0.5593 - accuracy: 0.72 - ETA: 0s - loss: 0.5591 - accuracy: 0.72 - ETA: 0s - loss: 0.5590 - accuracy: 0.73 - ETA: 0s - loss: 0.5588 - accuracy: 0.72 - ETA: 0s - loss: 0.5583 - accuracy: 0.72 - ETA: 0s - loss: 0.5581 - accuracy: 0.72 - 1s 886us/step - loss: 0.5578 - accuracy: 0.7290 - val_loss: 0.5612 - val_accuracy: 0.7278\n"
     ]
    },
    {
     "data": {
      "text/html": [
       "<span style=\"color:#4527A0\"><h1 style=\"font-size:18px\">Trial complete</h1></span>"
      ],
      "text/plain": [
       "<IPython.core.display.HTML object>"
      ]
     },
     "metadata": {},
     "output_type": "display_data"
    },
    {
     "data": {
      "text/html": [
       "<span style=\"color:#4527A0\"><h1 style=\"font-size:18px\">Trial summary</h1></span>"
      ],
      "text/plain": [
       "<IPython.core.display.HTML object>"
      ]
     },
     "metadata": {},
     "output_type": "display_data"
    },
    {
     "data": {
      "text/html": [
       "<span style=\"color:cyan\"> |-Trial ID: a6afb0fbb8938b9af3aff59a6893b2b1</span>"
      ],
      "text/plain": [
       "<IPython.core.display.HTML object>"
      ]
     },
     "metadata": {},
     "output_type": "display_data"
    },
    {
     "data": {
      "text/html": [
       "<span style=\"color:cyan\"> |-Score: 0.7306122183799744</span>"
      ],
      "text/plain": [
       "<IPython.core.display.HTML object>"
      ]
     },
     "metadata": {},
     "output_type": "display_data"
    },
    {
     "data": {
      "text/html": [
       "<span style=\"color:cyan\"> |-Best step: 0</span>"
      ],
      "text/plain": [
       "<IPython.core.display.HTML object>"
      ]
     },
     "metadata": {},
     "output_type": "display_data"
    },
    {
     "data": {
      "text/html": [
       "<span style=\"color:#7E57C2\"><h2 style=\"font-size:16px\">Hyperparameters:</h2></span>"
      ],
      "text/plain": [
       "<IPython.core.display.HTML object>"
      ]
     },
     "metadata": {},
     "output_type": "display_data"
    },
    {
     "data": {
      "text/html": [
       "<span style=\"color:cyan\"> |-activation: tanh</span>"
      ],
      "text/plain": [
       "<IPython.core.display.HTML object>"
      ]
     },
     "metadata": {},
     "output_type": "display_data"
    },
    {
     "data": {
      "text/html": [
       "<span style=\"color:blue\"> |-first_units: 7</span>"
      ],
      "text/plain": [
       "<IPython.core.display.HTML object>"
      ]
     },
     "metadata": {},
     "output_type": "display_data"
    },
    {
     "data": {
      "text/html": [
       "<span style=\"color:cyan\"> |-num_layers: 1</span>"
      ],
      "text/plain": [
       "<IPython.core.display.HTML object>"
      ]
     },
     "metadata": {},
     "output_type": "display_data"
    },
    {
     "data": {
      "text/html": [
       "<span style=\"color:blue\"> |-tuner/bracket: 1</span>"
      ],
      "text/plain": [
       "<IPython.core.display.HTML object>"
      ]
     },
     "metadata": {},
     "output_type": "display_data"
    },
    {
     "data": {
      "text/html": [
       "<span style=\"color:cyan\"> |-tuner/epochs: 7</span>"
      ],
      "text/plain": [
       "<IPython.core.display.HTML object>"
      ]
     },
     "metadata": {},
     "output_type": "display_data"
    },
    {
     "data": {
      "text/html": [
       "<span style=\"color:blue\"> |-tuner/initial_epoch: 0</span>"
      ],
      "text/plain": [
       "<IPython.core.display.HTML object>"
      ]
     },
     "metadata": {},
     "output_type": "display_data"
    },
    {
     "data": {
      "text/html": [
       "<span style=\"color:cyan\"> |-tuner/round: 0</span>"
      ],
      "text/plain": [
       "<IPython.core.display.HTML object>"
      ]
     },
     "metadata": {},
     "output_type": "display_data"
    },
    {
     "data": {
      "text/html": [
       "<span style=\"color:blue\"> |-units_0: 1</span>"
      ],
      "text/plain": [
       "<IPython.core.display.HTML object>"
      ]
     },
     "metadata": {},
     "output_type": "display_data"
    },
    {
     "data": {
      "text/html": [
       "<span style=\"color:cyan\"> |-units_1: 5</span>"
      ],
      "text/plain": [
       "<IPython.core.display.HTML object>"
      ]
     },
     "metadata": {},
     "output_type": "display_data"
    },
    {
     "data": {
      "text/html": [
       "<span style=\"color:blue\"> |-units_2: 7</span>"
      ],
      "text/plain": [
       "<IPython.core.display.HTML object>"
      ]
     },
     "metadata": {},
     "output_type": "display_data"
    },
    {
     "data": {
      "text/html": [
       "<span style=\"color:cyan\"> |-units_3: 9</span>"
      ],
      "text/plain": [
       "<IPython.core.display.HTML object>"
      ]
     },
     "metadata": {},
     "output_type": "display_data"
    },
    {
     "data": {
      "text/html": [
       "<span style=\"color:blue\"> |-units_4: 3</span>"
      ],
      "text/plain": [
       "<IPython.core.display.HTML object>"
      ]
     },
     "metadata": {},
     "output_type": "display_data"
    },
    {
     "data": {
      "text/html": [
       "<span style=\"color:cyan\"> |-units_5: 1</span>"
      ],
      "text/plain": [
       "<IPython.core.display.HTML object>"
      ]
     },
     "metadata": {},
     "output_type": "display_data"
    },
    {
     "name": "stdout",
     "output_type": "stream",
     "text": [
      "Epoch 1/7\n",
      "804/804 [==============================] - ETA: 0s - loss: 0.7434 - accuracy: 0.46 - ETA: 0s - loss: 0.7165 - accuracy: 0.45 - ETA: 0s - loss: 0.6971 - accuracy: 0.51 - ETA: 0s - loss: 0.6788 - accuracy: 0.57 - ETA: 0s - loss: 0.6637 - accuracy: 0.60 - ETA: 0s - loss: 0.6513 - accuracy: 0.62 - ETA: 0s - loss: 0.6397 - accuracy: 0.64 - ETA: 0s - loss: 0.6318 - accuracy: 0.65 - ETA: 0s - loss: 0.6243 - accuracy: 0.66 - ETA: 0s - loss: 0.6206 - accuracy: 0.67 - ETA: 0s - loss: 0.6167 - accuracy: 0.67 - ETA: 0s - loss: 0.6120 - accuracy: 0.68 - 1s 1ms/step - loss: 0.6109 - accuracy: 0.6824 - val_loss: 0.5740 - val_accuracy: 0.7255\n",
      "Epoch 2/7\n",
      "804/804 [==============================] - ETA: 0s - loss: 0.6697 - accuracy: 0.65 - ETA: 0s - loss: 0.5756 - accuracy: 0.72 - ETA: 0s - loss: 0.5699 - accuracy: 0.72 - ETA: 0s - loss: 0.5779 - accuracy: 0.72 - ETA: 0s - loss: 0.5801 - accuracy: 0.72 - ETA: 0s - loss: 0.5776 - accuracy: 0.72 - ETA: 0s - loss: 0.5774 - accuracy: 0.72 - ETA: 0s - loss: 0.5767 - accuracy: 0.72 - ETA: 0s - loss: 0.5741 - accuracy: 0.72 - ETA: 0s - loss: 0.5722 - accuracy: 0.72 - ETA: 0s - loss: 0.5709 - accuracy: 0.72 - ETA: 0s - loss: 0.5715 - accuracy: 0.72 - ETA: 0s - loss: 0.5724 - accuracy: 0.72 - ETA: 0s - loss: 0.5713 - accuracy: 0.72 - 1s 1ms/step - loss: 0.5708 - accuracy: 0.7265 - val_loss: 0.5681 - val_accuracy: 0.7276\n",
      "Epoch 3/7\n",
      "804/804 [==============================] - ETA: 0s - loss: 0.5963 - accuracy: 0.68 - ETA: 0s - loss: 0.5583 - accuracy: 0.73 - ETA: 0s - loss: 0.5611 - accuracy: 0.73 - ETA: 0s - loss: 0.5590 - accuracy: 0.73 - ETA: 0s - loss: 0.5594 - accuracy: 0.73 - ETA: 0s - loss: 0.5612 - accuracy: 0.73 - ETA: 0s - loss: 0.5637 - accuracy: 0.72 - ETA: 0s - loss: 0.5629 - accuracy: 0.73 - ETA: 0s - loss: 0.5665 - accuracy: 0.72 - ETA: 0s - loss: 0.5655 - accuracy: 0.72 - ETA: 0s - loss: 0.5640 - accuracy: 0.72 - ETA: 0s - loss: 0.5634 - accuracy: 0.72 - ETA: 0s - loss: 0.5651 - accuracy: 0.72 - 1s 1ms/step - loss: 0.5647 - accuracy: 0.7287 - val_loss: 0.5658 - val_accuracy: 0.7284\n",
      "Epoch 4/7\n",
      "804/804 [==============================] - ETA: 0s - loss: 0.4228 - accuracy: 0.81 - ETA: 0s - loss: 0.5500 - accuracy: 0.73 - ETA: 0s - loss: 0.5572 - accuracy: 0.72 - ETA: 0s - loss: 0.5565 - accuracy: 0.73 - ETA: 0s - loss: 0.5575 - accuracy: 0.73 - ETA: 0s - loss: 0.5586 - accuracy: 0.73 - ETA: 0s - loss: 0.5595 - accuracy: 0.73 - ETA: 0s - loss: 0.5611 - accuracy: 0.72 - ETA: 0s - loss: 0.5608 - accuracy: 0.72 - ETA: 0s - loss: 0.5617 - accuracy: 0.72 - ETA: 0s - loss: 0.5618 - accuracy: 0.72 - ETA: 0s - loss: 0.5625 - accuracy: 0.72 - ETA: 0s - loss: 0.5620 - accuracy: 0.72 - 1s 958us/step - loss: 0.5611 - accuracy: 0.7293 - val_loss: 0.5637 - val_accuracy: 0.7294\n",
      "Epoch 5/7\n",
      "804/804 [==============================] - ETA: 0s - loss: 0.5933 - accuracy: 0.75 - ETA: 0s - loss: 0.5719 - accuracy: 0.71 - ETA: 0s - loss: 0.5691 - accuracy: 0.71 - ETA: 0s - loss: 0.5667 - accuracy: 0.72 - ETA: 0s - loss: 0.5661 - accuracy: 0.72 - ETA: 0s - loss: 0.5613 - accuracy: 0.72 - ETA: 0s - loss: 0.5599 - accuracy: 0.73 - ETA: 0s - loss: 0.5588 - accuracy: 0.73 - ETA: 0s - loss: 0.5570 - accuracy: 0.73 - ETA: 0s - loss: 0.5550 - accuracy: 0.73 - ETA: 0s - loss: 0.5567 - accuracy: 0.73 - ETA: 0s - loss: 0.5589 - accuracy: 0.73 - 1s 886us/step - loss: 0.5588 - accuracy: 0.7304 - val_loss: 0.5620 - val_accuracy: 0.7293\n",
      "Epoch 6/7\n",
      "804/804 [==============================] - ETA: 0s - loss: 0.5014 - accuracy: 0.75 - ETA: 0s - loss: 0.5698 - accuracy: 0.71 - ETA: 0s - loss: 0.5546 - accuracy: 0.73 - ETA: 0s - loss: 0.5570 - accuracy: 0.73 - ETA: 0s - loss: 0.5612 - accuracy: 0.73 - ETA: 0s - loss: 0.5589 - accuracy: 0.73 - ETA: 0s - loss: 0.5573 - accuracy: 0.73 - ETA: 0s - loss: 0.5556 - accuracy: 0.73 - ETA: 0s - loss: 0.5547 - accuracy: 0.73 - ETA: 0s - loss: 0.5566 - accuracy: 0.73 - ETA: 0s - loss: 0.5583 - accuracy: 0.72 - ETA: 0s - loss: 0.5575 - accuracy: 0.73 - 1s 853us/step - loss: 0.5570 - accuracy: 0.7309 - val_loss: 0.5608 - val_accuracy: 0.7279\n",
      "Epoch 7/7\n",
      "804/804 [==============================] - ETA: 0s - loss: 0.3612 - accuracy: 0.90 - ETA: 0s - loss: 0.5356 - accuracy: 0.74 - ETA: 0s - loss: 0.5484 - accuracy: 0.73 - ETA: 0s - loss: 0.5517 - accuracy: 0.73 - ETA: 0s - loss: 0.5522 - accuracy: 0.73 - ETA: 0s - loss: 0.5512 - accuracy: 0.73 - ETA: 0s - loss: 0.5533 - accuracy: 0.73 - ETA: 0s - loss: 0.5543 - accuracy: 0.73 - ETA: 0s - loss: 0.5548 - accuracy: 0.73 - ETA: 0s - loss: 0.5541 - accuracy: 0.73 - ETA: 0s - loss: 0.5544 - accuracy: 0.73 - ETA: 0s - loss: 0.5554 - accuracy: 0.73 - 1s 905us/step - loss: 0.5559 - accuracy: 0.7302 - val_loss: 0.5592 - val_accuracy: 0.7308\n"
     ]
    },
    {
     "data": {
      "text/html": [
       "<span style=\"color:#4527A0\"><h1 style=\"font-size:18px\">Trial complete</h1></span>"
      ],
      "text/plain": [
       "<IPython.core.display.HTML object>"
      ]
     },
     "metadata": {},
     "output_type": "display_data"
    },
    {
     "data": {
      "text/html": [
       "<span style=\"color:#4527A0\"><h1 style=\"font-size:18px\">Trial summary</h1></span>"
      ],
      "text/plain": [
       "<IPython.core.display.HTML object>"
      ]
     },
     "metadata": {},
     "output_type": "display_data"
    },
    {
     "data": {
      "text/html": [
       "<span style=\"color:cyan\"> |-Trial ID: 5322b669be6ef495407dc2bbab1c7e42</span>"
      ],
      "text/plain": [
       "<IPython.core.display.HTML object>"
      ]
     },
     "metadata": {},
     "output_type": "display_data"
    },
    {
     "data": {
      "text/html": [
       "<span style=\"color:cyan\"> |-Score: 0.7308454513549805</span>"
      ],
      "text/plain": [
       "<IPython.core.display.HTML object>"
      ]
     },
     "metadata": {},
     "output_type": "display_data"
    },
    {
     "data": {
      "text/html": [
       "<span style=\"color:cyan\"> |-Best step: 0</span>"
      ],
      "text/plain": [
       "<IPython.core.display.HTML object>"
      ]
     },
     "metadata": {},
     "output_type": "display_data"
    },
    {
     "data": {
      "text/html": [
       "<span style=\"color:#7E57C2\"><h2 style=\"font-size:16px\">Hyperparameters:</h2></span>"
      ],
      "text/plain": [
       "<IPython.core.display.HTML object>"
      ]
     },
     "metadata": {},
     "output_type": "display_data"
    },
    {
     "data": {
      "text/html": [
       "<span style=\"color:cyan\"> |-activation: tanh</span>"
      ],
      "text/plain": [
       "<IPython.core.display.HTML object>"
      ]
     },
     "metadata": {},
     "output_type": "display_data"
    },
    {
     "data": {
      "text/html": [
       "<span style=\"color:blue\"> |-first_units: 5</span>"
      ],
      "text/plain": [
       "<IPython.core.display.HTML object>"
      ]
     },
     "metadata": {},
     "output_type": "display_data"
    },
    {
     "data": {
      "text/html": [
       "<span style=\"color:cyan\"> |-num_layers: 2</span>"
      ],
      "text/plain": [
       "<IPython.core.display.HTML object>"
      ]
     },
     "metadata": {},
     "output_type": "display_data"
    },
    {
     "data": {
      "text/html": [
       "<span style=\"color:blue\"> |-tuner/bracket: 1</span>"
      ],
      "text/plain": [
       "<IPython.core.display.HTML object>"
      ]
     },
     "metadata": {},
     "output_type": "display_data"
    },
    {
     "data": {
      "text/html": [
       "<span style=\"color:cyan\"> |-tuner/epochs: 7</span>"
      ],
      "text/plain": [
       "<IPython.core.display.HTML object>"
      ]
     },
     "metadata": {},
     "output_type": "display_data"
    },
    {
     "data": {
      "text/html": [
       "<span style=\"color:blue\"> |-tuner/initial_epoch: 0</span>"
      ],
      "text/plain": [
       "<IPython.core.display.HTML object>"
      ]
     },
     "metadata": {},
     "output_type": "display_data"
    },
    {
     "data": {
      "text/html": [
       "<span style=\"color:cyan\"> |-tuner/round: 0</span>"
      ],
      "text/plain": [
       "<IPython.core.display.HTML object>"
      ]
     },
     "metadata": {},
     "output_type": "display_data"
    },
    {
     "data": {
      "text/html": [
       "<span style=\"color:blue\"> |-units_0: 3</span>"
      ],
      "text/plain": [
       "<IPython.core.display.HTML object>"
      ]
     },
     "metadata": {},
     "output_type": "display_data"
    },
    {
     "data": {
      "text/html": [
       "<span style=\"color:cyan\"> |-units_1: 3</span>"
      ],
      "text/plain": [
       "<IPython.core.display.HTML object>"
      ]
     },
     "metadata": {},
     "output_type": "display_data"
    },
    {
     "data": {
      "text/html": [
       "<span style=\"color:blue\"> |-units_2: 3</span>"
      ],
      "text/plain": [
       "<IPython.core.display.HTML object>"
      ]
     },
     "metadata": {},
     "output_type": "display_data"
    },
    {
     "data": {
      "text/html": [
       "<span style=\"color:cyan\"> |-units_3: 5</span>"
      ],
      "text/plain": [
       "<IPython.core.display.HTML object>"
      ]
     },
     "metadata": {},
     "output_type": "display_data"
    },
    {
     "data": {
      "text/html": [
       "<span style=\"color:blue\"> |-units_4: 1</span>"
      ],
      "text/plain": [
       "<IPython.core.display.HTML object>"
      ]
     },
     "metadata": {},
     "output_type": "display_data"
    },
    {
     "data": {
      "text/html": [
       "<span style=\"color:cyan\"> |-units_5: 3</span>"
      ],
      "text/plain": [
       "<IPython.core.display.HTML object>"
      ]
     },
     "metadata": {},
     "output_type": "display_data"
    },
    {
     "name": "stdout",
     "output_type": "stream",
     "text": [
      "Epoch 8/20\n",
      "804/804 [==============================] - ETA: 0s - loss: 0.7072 - accuracy: 0.56 - ETA: 0s - loss: 0.6818 - accuracy: 0.58 - ETA: 0s - loss: 0.6671 - accuracy: 0.59 - ETA: 0s - loss: 0.6516 - accuracy: 0.61 - ETA: 0s - loss: 0.6412 - accuracy: 0.63 - ETA: 0s - loss: 0.6326 - accuracy: 0.64 - ETA: 0s - loss: 0.6278 - accuracy: 0.65 - ETA: 0s - loss: 0.6237 - accuracy: 0.66 - ETA: 0s - loss: 0.6193 - accuracy: 0.67 - ETA: 0s - loss: 0.6149 - accuracy: 0.67 - ETA: 0s - loss: 0.6113 - accuracy: 0.68 - ETA: 0s - loss: 0.6082 - accuracy: 0.68 - ETA: 0s - loss: 0.6065 - accuracy: 0.68 - ETA: 0s - loss: 0.6053 - accuracy: 0.68 - 1s 1ms/step - loss: 0.6048 - accuracy: 0.6885 - val_loss: 0.5722 - val_accuracy: 0.7220\n",
      "Epoch 9/20\n",
      "804/804 [==============================] - ETA: 0s - loss: 0.7364 - accuracy: 0.56 - ETA: 0s - loss: 0.5695 - accuracy: 0.72 - ETA: 0s - loss: 0.5692 - accuracy: 0.72 - ETA: 0s - loss: 0.5688 - accuracy: 0.72 - ETA: 0s - loss: 0.5678 - accuracy: 0.72 - ETA: 0s - loss: 0.5673 - accuracy: 0.72 - ETA: 0s - loss: 0.5669 - accuracy: 0.72 - ETA: 0s - loss: 0.5666 - accuracy: 0.72 - ETA: 0s - loss: 0.5661 - accuracy: 0.72 - ETA: 0s - loss: 0.5659 - accuracy: 0.72 - ETA: 0s - loss: 0.5649 - accuracy: 0.72 - ETA: 0s - loss: 0.5646 - accuracy: 0.72 - ETA: 0s - loss: 0.5652 - accuracy: 0.72 - 1s 989us/step - loss: 0.5659 - accuracy: 0.7255 - val_loss: 0.5647 - val_accuracy: 0.7265\n",
      "Epoch 10/20\n",
      "804/804 [==============================] - ETA: 0s - loss: 0.6536 - accuracy: 0.62 - ETA: 0s - loss: 0.5827 - accuracy: 0.70 - ETA: 0s - loss: 0.5700 - accuracy: 0.72 - ETA: 0s - loss: 0.5653 - accuracy: 0.72 - ETA: 0s - loss: 0.5629 - accuracy: 0.72 - ETA: 0s - loss: 0.5594 - accuracy: 0.72 - ETA: 0s - loss: 0.5599 - accuracy: 0.72 - ETA: 0s - loss: 0.5584 - accuracy: 0.72 - ETA: 0s - loss: 0.5597 - accuracy: 0.72 - ETA: 0s - loss: 0.5612 - accuracy: 0.72 - ETA: 0s - loss: 0.5603 - accuracy: 0.72 - ETA: 0s - loss: 0.5612 - accuracy: 0.72 - ETA: 0s - loss: 0.5598 - accuracy: 0.72 - 1s 949us/step - loss: 0.5590 - accuracy: 0.7283 - val_loss: 0.5593 - val_accuracy: 0.7256\n",
      "Epoch 11/20\n",
      "804/804 [==============================] - ETA: 0s - loss: 0.5730 - accuracy: 0.75 - ETA: 0s - loss: 0.5408 - accuracy: 0.74 - ETA: 0s - loss: 0.5563 - accuracy: 0.73 - ETA: 0s - loss: 0.5598 - accuracy: 0.73 - ETA: 0s - loss: 0.5611 - accuracy: 0.73 - ETA: 0s - loss: 0.5581 - accuracy: 0.73 - ETA: 0s - loss: 0.5557 - accuracy: 0.73 - ETA: 0s - loss: 0.5559 - accuracy: 0.73 - ETA: 0s - loss: 0.5542 - accuracy: 0.73 - ETA: 0s - loss: 0.5550 - accuracy: 0.73 - ETA: 0s - loss: 0.5567 - accuracy: 0.72 - ETA: 0s - loss: 0.5565 - accuracy: 0.72 - 1s 898us/step - loss: 0.5564 - accuracy: 0.7290 - val_loss: 0.5570 - val_accuracy: 0.7319\n",
      "Epoch 12/20\n",
      "804/804 [==============================] - ETA: 0s - loss: 0.4775 - accuracy: 0.81 - ETA: 0s - loss: 0.5579 - accuracy: 0.72 - ETA: 0s - loss: 0.5501 - accuracy: 0.73 - ETA: 0s - loss: 0.5557 - accuracy: 0.72 - ETA: 0s - loss: 0.5562 - accuracy: 0.72 - ETA: 0s - loss: 0.5600 - accuracy: 0.72 - ETA: 0s - loss: 0.5596 - accuracy: 0.72 - ETA: 0s - loss: 0.5590 - accuracy: 0.72 - ETA: 0s - loss: 0.5572 - accuracy: 0.72 - ETA: 0s - loss: 0.5569 - accuracy: 0.72 - ETA: 0s - loss: 0.5556 - accuracy: 0.72 - ETA: 0s - loss: 0.5558 - accuracy: 0.72 - ETA: 0s - loss: 0.5546 - accuracy: 0.73 - ETA: 0s - loss: 0.5544 - accuracy: 0.73 - 1s 983us/step - loss: 0.5544 - accuracy: 0.7303 - val_loss: 0.5567 - val_accuracy: 0.7310\n",
      "Epoch 13/20\n",
      "804/804 [==============================] - ETA: 0s - loss: 0.5125 - accuracy: 0.71 - ETA: 0s - loss: 0.5564 - accuracy: 0.72 - ETA: 0s - loss: 0.5623 - accuracy: 0.71 - ETA: 0s - loss: 0.5641 - accuracy: 0.71 - ETA: 0s - loss: 0.5589 - accuracy: 0.72 - ETA: 0s - loss: 0.5567 - accuracy: 0.72 - ETA: 0s - loss: 0.5566 - accuracy: 0.72 - ETA: 0s - loss: 0.5572 - accuracy: 0.72 - ETA: 0s - loss: 0.5565 - accuracy: 0.72 - ETA: 0s - loss: 0.5534 - accuracy: 0.72 - ETA: 0s - loss: 0.5523 - accuracy: 0.73 - 1s 837us/step - loss: 0.5538 - accuracy: 0.7296 - val_loss: 0.5548 - val_accuracy: 0.7307\n",
      "Epoch 14/20\n",
      "804/804 [==============================] - ETA: 0s - loss: 0.5709 - accuracy: 0.68 - ETA: 0s - loss: 0.5470 - accuracy: 0.73 - ETA: 0s - loss: 0.5475 - accuracy: 0.73 - ETA: 0s - loss: 0.5473 - accuracy: 0.73 - ETA: 0s - loss: 0.5484 - accuracy: 0.73 - ETA: 0s - loss: 0.5505 - accuracy: 0.73 - ETA: 0s - loss: 0.5533 - accuracy: 0.72 - ETA: 0s - loss: 0.5525 - accuracy: 0.72 - ETA: 0s - loss: 0.5528 - accuracy: 0.72 - ETA: 0s - loss: 0.5511 - accuracy: 0.72 - ETA: 0s - loss: 0.5521 - accuracy: 0.72 - 1s 837us/step - loss: 0.5528 - accuracy: 0.7290 - val_loss: 0.5561 - val_accuracy: 0.7292\n",
      "Epoch 15/20\n",
      "804/804 [==============================] - ETA: 0s - loss: 0.4235 - accuracy: 0.84 - ETA: 0s - loss: 0.5702 - accuracy: 0.71 - ETA: 0s - loss: 0.5562 - accuracy: 0.72 - ETA: 0s - loss: 0.5548 - accuracy: 0.72 - ETA: 0s - loss: 0.5546 - accuracy: 0.72 - ETA: 0s - loss: 0.5558 - accuracy: 0.72 - ETA: 0s - loss: 0.5546 - accuracy: 0.72 - ETA: 0s - loss: 0.5525 - accuracy: 0.72 - ETA: 0s - loss: 0.5516 - accuracy: 0.73 - ETA: 0s - loss: 0.5521 - accuracy: 0.72 - ETA: 0s - loss: 0.5520 - accuracy: 0.73 - ETA: 0s - loss: 0.5523 - accuracy: 0.73 - 1s 864us/step - loss: 0.5521 - accuracy: 0.7299 - val_loss: 0.5573 - val_accuracy: 0.7227\n",
      "Epoch 16/20\n",
      "804/804 [==============================] - ETA: 0s - loss: 0.6052 - accuracy: 0.68 - ETA: 0s - loss: 0.5511 - accuracy: 0.73 - ETA: 0s - loss: 0.5444 - accuracy: 0.73 - ETA: 0s - loss: 0.5450 - accuracy: 0.73 - ETA: 0s - loss: 0.5457 - accuracy: 0.73 - ETA: 0s - loss: 0.5485 - accuracy: 0.73 - ETA: 0s - loss: 0.5488 - accuracy: 0.73 - ETA: 0s - loss: 0.5514 - accuracy: 0.73 - ETA: 0s - loss: 0.5515 - accuracy: 0.73 - ETA: 0s - loss: 0.5524 - accuracy: 0.72 - ETA: 0s - loss: 0.5512 - accuracy: 0.73 - ETA: 0s - loss: 0.5523 - accuracy: 0.72 - 1s 875us/step - loss: 0.5519 - accuracy: 0.7291 - val_loss: 0.5561 - val_accuracy: 0.7291\n",
      "Epoch 17/20\n",
      "804/804 [==============================] - ETA: 0s - loss: 0.6044 - accuracy: 0.68 - ETA: 0s - loss: 0.5483 - accuracy: 0.73 - ETA: 0s - loss: 0.5517 - accuracy: 0.72 - ETA: 0s - loss: 0.5544 - accuracy: 0.72 - ETA: 0s - loss: 0.5519 - accuracy: 0.72 - ETA: 0s - loss: 0.5519 - accuracy: 0.72 - ETA: 0s - loss: 0.5507 - accuracy: 0.73 - ETA: 0s - loss: 0.5523 - accuracy: 0.72 - ETA: 0s - loss: 0.5545 - accuracy: 0.72 - ETA: 0s - loss: 0.5534 - accuracy: 0.72 - ETA: 0s - loss: 0.5519 - accuracy: 0.73 - ETA: 0s - loss: 0.5515 - accuracy: 0.73 - 1s 910us/step - loss: 0.5516 - accuracy: 0.7300 - val_loss: 0.5536 - val_accuracy: 0.7314\n",
      "Epoch 18/20\n",
      "804/804 [==============================] - ETA: 0s - loss: 0.4125 - accuracy: 0.81 - ETA: 0s - loss: 0.5470 - accuracy: 0.72 - ETA: 0s - loss: 0.5511 - accuracy: 0.72 - ETA: 0s - loss: 0.5552 - accuracy: 0.72 - ETA: 0s - loss: 0.5562 - accuracy: 0.72 - ETA: 0s - loss: 0.5583 - accuracy: 0.72 - ETA: 0s - loss: 0.5547 - accuracy: 0.72 - ETA: 0s - loss: 0.5540 - accuracy: 0.72 - ETA: 0s - loss: 0.5549 - accuracy: 0.72 - ETA: 0s - loss: 0.5547 - accuracy: 0.72 - ETA: 0s - loss: 0.5538 - accuracy: 0.72 - ETA: 0s - loss: 0.5510 - accuracy: 0.72 - ETA: 0s - loss: 0.5507 - accuracy: 0.73 - 1s 909us/step - loss: 0.5506 - accuracy: 0.7304 - val_loss: 0.5549 - val_accuracy: 0.7285\n",
      "Epoch 19/20\n",
      "804/804 [==============================] - ETA: 0s - loss: 0.4927 - accuracy: 0.81 - ETA: 0s - loss: 0.5503 - accuracy: 0.72 - ETA: 0s - loss: 0.5501 - accuracy: 0.72 - ETA: 0s - loss: 0.5536 - accuracy: 0.72 - ETA: 0s - loss: 0.5524 - accuracy: 0.73 - ETA: 0s - loss: 0.5499 - accuracy: 0.73 - ETA: 0s - loss: 0.5505 - accuracy: 0.73 - ETA: 0s - loss: 0.5516 - accuracy: 0.73 - ETA: 0s - loss: 0.5516 - accuracy: 0.73 - ETA: 0s - loss: 0.5499 - accuracy: 0.73 - ETA: 0s - loss: 0.5503 - accuracy: 0.73 - ETA: 0s - loss: 0.5509 - accuracy: 0.73 - 1s 853us/step - loss: 0.5507 - accuracy: 0.7308 - val_loss: 0.5537 - val_accuracy: 0.7319\n",
      "Epoch 20/20\n"
     ]
    },
    {
     "name": "stdout",
     "output_type": "stream",
     "text": [
      "804/804 [==============================] - ETA: 0s - loss: 0.5362 - accuracy: 0.75 - ETA: 0s - loss: 0.5491 - accuracy: 0.73 - ETA: 0s - loss: 0.5494 - accuracy: 0.72 - ETA: 0s - loss: 0.5470 - accuracy: 0.73 - ETA: 0s - loss: 0.5482 - accuracy: 0.73 - ETA: 0s - loss: 0.5449 - accuracy: 0.73 - ETA: 0s - loss: 0.5468 - accuracy: 0.73 - ETA: 0s - loss: 0.5488 - accuracy: 0.73 - ETA: 0s - loss: 0.5493 - accuracy: 0.73 - ETA: 0s - loss: 0.5500 - accuracy: 0.73 - ETA: 0s - loss: 0.5502 - accuracy: 0.72 - 1s 806us/step - loss: 0.5500 - accuracy: 0.7298 - val_loss: 0.5547 - val_accuracy: 0.7259\n"
     ]
    },
    {
     "data": {
      "text/html": [
       "<span style=\"color:#4527A0\"><h1 style=\"font-size:18px\">Trial complete</h1></span>"
      ],
      "text/plain": [
       "<IPython.core.display.HTML object>"
      ]
     },
     "metadata": {},
     "output_type": "display_data"
    },
    {
     "data": {
      "text/html": [
       "<span style=\"color:#4527A0\"><h1 style=\"font-size:18px\">Trial summary</h1></span>"
      ],
      "text/plain": [
       "<IPython.core.display.HTML object>"
      ]
     },
     "metadata": {},
     "output_type": "display_data"
    },
    {
     "data": {
      "text/html": [
       "<span style=\"color:cyan\"> |-Trial ID: b4c1edf3362d24010ab3d3ed3a8f6c46</span>"
      ],
      "text/plain": [
       "<IPython.core.display.HTML object>"
      ]
     },
     "metadata": {},
     "output_type": "display_data"
    },
    {
     "data": {
      "text/html": [
       "<span style=\"color:cyan\"> |-Score: 0.7318950295448303</span>"
      ],
      "text/plain": [
       "<IPython.core.display.HTML object>"
      ]
     },
     "metadata": {},
     "output_type": "display_data"
    },
    {
     "data": {
      "text/html": [
       "<span style=\"color:cyan\"> |-Best step: 0</span>"
      ],
      "text/plain": [
       "<IPython.core.display.HTML object>"
      ]
     },
     "metadata": {},
     "output_type": "display_data"
    },
    {
     "data": {
      "text/html": [
       "<span style=\"color:#7E57C2\"><h2 style=\"font-size:16px\">Hyperparameters:</h2></span>"
      ],
      "text/plain": [
       "<IPython.core.display.HTML object>"
      ]
     },
     "metadata": {},
     "output_type": "display_data"
    },
    {
     "data": {
      "text/html": [
       "<span style=\"color:cyan\"> |-activation: tanh</span>"
      ],
      "text/plain": [
       "<IPython.core.display.HTML object>"
      ]
     },
     "metadata": {},
     "output_type": "display_data"
    },
    {
     "data": {
      "text/html": [
       "<span style=\"color:blue\"> |-first_units: 5</span>"
      ],
      "text/plain": [
       "<IPython.core.display.HTML object>"
      ]
     },
     "metadata": {},
     "output_type": "display_data"
    },
    {
     "data": {
      "text/html": [
       "<span style=\"color:cyan\"> |-num_layers: 2</span>"
      ],
      "text/plain": [
       "<IPython.core.display.HTML object>"
      ]
     },
     "metadata": {},
     "output_type": "display_data"
    },
    {
     "data": {
      "text/html": [
       "<span style=\"color:blue\"> |-tuner/bracket: 1</span>"
      ],
      "text/plain": [
       "<IPython.core.display.HTML object>"
      ]
     },
     "metadata": {},
     "output_type": "display_data"
    },
    {
     "data": {
      "text/html": [
       "<span style=\"color:cyan\"> |-tuner/epochs: 20</span>"
      ],
      "text/plain": [
       "<IPython.core.display.HTML object>"
      ]
     },
     "metadata": {},
     "output_type": "display_data"
    },
    {
     "data": {
      "text/html": [
       "<span style=\"color:blue\"> |-tuner/initial_epoch: 7</span>"
      ],
      "text/plain": [
       "<IPython.core.display.HTML object>"
      ]
     },
     "metadata": {},
     "output_type": "display_data"
    },
    {
     "data": {
      "text/html": [
       "<span style=\"color:cyan\"> |-tuner/round: 1</span>"
      ],
      "text/plain": [
       "<IPython.core.display.HTML object>"
      ]
     },
     "metadata": {},
     "output_type": "display_data"
    },
    {
     "data": {
      "text/html": [
       "<span style=\"color:blue\"> |-tuner/trial_id: 65cbfe066de4632c504085132f892251</span>"
      ],
      "text/plain": [
       "<IPython.core.display.HTML object>"
      ]
     },
     "metadata": {},
     "output_type": "display_data"
    },
    {
     "data": {
      "text/html": [
       "<span style=\"color:cyan\"> |-units_0: 5</span>"
      ],
      "text/plain": [
       "<IPython.core.display.HTML object>"
      ]
     },
     "metadata": {},
     "output_type": "display_data"
    },
    {
     "data": {
      "text/html": [
       "<span style=\"color:blue\"> |-units_1: 3</span>"
      ],
      "text/plain": [
       "<IPython.core.display.HTML object>"
      ]
     },
     "metadata": {},
     "output_type": "display_data"
    },
    {
     "data": {
      "text/html": [
       "<span style=\"color:cyan\"> |-units_2: 7</span>"
      ],
      "text/plain": [
       "<IPython.core.display.HTML object>"
      ]
     },
     "metadata": {},
     "output_type": "display_data"
    },
    {
     "data": {
      "text/html": [
       "<span style=\"color:blue\"> |-units_3: 1</span>"
      ],
      "text/plain": [
       "<IPython.core.display.HTML object>"
      ]
     },
     "metadata": {},
     "output_type": "display_data"
    },
    {
     "data": {
      "text/html": [
       "<span style=\"color:cyan\"> |-units_4: 3</span>"
      ],
      "text/plain": [
       "<IPython.core.display.HTML object>"
      ]
     },
     "metadata": {},
     "output_type": "display_data"
    },
    {
     "data": {
      "text/html": [
       "<span style=\"color:blue\"> |-units_5: 9</span>"
      ],
      "text/plain": [
       "<IPython.core.display.HTML object>"
      ]
     },
     "metadata": {},
     "output_type": "display_data"
    },
    {
     "name": "stdout",
     "output_type": "stream",
     "text": [
      "Epoch 8/20\n",
      "804/804 [==============================] - ETA: 0s - loss: 0.6312 - accuracy: 0.68 - ETA: 0s - loss: 0.6725 - accuracy: 0.61 - ETA: 0s - loss: 0.6609 - accuracy: 0.63 - ETA: 0s - loss: 0.6478 - accuracy: 0.65 - ETA: 0s - loss: 0.6357 - accuracy: 0.67 - ETA: 0s - loss: 0.6276 - accuracy: 0.67 - ETA: 0s - loss: 0.6212 - accuracy: 0.68 - ETA: 0s - loss: 0.6153 - accuracy: 0.68 - ETA: 0s - loss: 0.6115 - accuracy: 0.69 - ETA: 0s - loss: 0.6074 - accuracy: 0.69 - ETA: 0s - loss: 0.6050 - accuracy: 0.69 - ETA: 0s - loss: 0.6030 - accuracy: 0.69 - ETA: 0s - loss: 0.6009 - accuracy: 0.70 - 1s 1ms/step - loss: 0.5996 - accuracy: 0.7017 - val_loss: 0.5760 - val_accuracy: 0.7202\n",
      "Epoch 9/20\n",
      "804/804 [==============================] - ETA: 0s - loss: 0.6304 - accuracy: 0.68 - ETA: 0s - loss: 0.5647 - accuracy: 0.72 - ETA: 0s - loss: 0.5703 - accuracy: 0.72 - ETA: 0s - loss: 0.5751 - accuracy: 0.71 - ETA: 0s - loss: 0.5730 - accuracy: 0.71 - ETA: 0s - loss: 0.5705 - accuracy: 0.72 - ETA: 0s - loss: 0.5719 - accuracy: 0.72 - ETA: 0s - loss: 0.5724 - accuracy: 0.72 - ETA: 0s - loss: 0.5710 - accuracy: 0.72 - ETA: 0s - loss: 0.5698 - accuracy: 0.72 - ETA: 0s - loss: 0.5704 - accuracy: 0.72 - ETA: 0s - loss: 0.5698 - accuracy: 0.72 - ETA: 0s - loss: 0.5705 - accuracy: 0.72 - 1s 999us/step - loss: 0.5694 - accuracy: 0.7227 - val_loss: 0.5703 - val_accuracy: 0.7223\n",
      "Epoch 10/20\n",
      "804/804 [==============================] - ETA: 0s - loss: 0.4941 - accuracy: 0.81 - ETA: 0s - loss: 0.5819 - accuracy: 0.70 - ETA: 0s - loss: 0.5710 - accuracy: 0.72 - ETA: 0s - loss: 0.5641 - accuracy: 0.72 - ETA: 0s - loss: 0.5593 - accuracy: 0.73 - ETA: 0s - loss: 0.5578 - accuracy: 0.73 - ETA: 0s - loss: 0.5627 - accuracy: 0.72 - ETA: 0s - loss: 0.5616 - accuracy: 0.72 - ETA: 0s - loss: 0.5620 - accuracy: 0.72 - ETA: 0s - loss: 0.5615 - accuracy: 0.72 - ETA: 0s - loss: 0.5623 - accuracy: 0.72 - ETA: 0s - loss: 0.5627 - accuracy: 0.72 - 1s 912us/step - loss: 0.5640 - accuracy: 0.7245 - val_loss: 0.5663 - val_accuracy: 0.7237\n",
      "Epoch 11/20\n",
      "804/804 [==============================] - ETA: 0s - loss: 0.5786 - accuracy: 0.75 - ETA: 0s - loss: 0.5564 - accuracy: 0.73 - ETA: 0s - loss: 0.5622 - accuracy: 0.72 - ETA: 0s - loss: 0.5559 - accuracy: 0.73 - ETA: 0s - loss: 0.5577 - accuracy: 0.73 - ETA: 0s - loss: 0.5610 - accuracy: 0.72 - ETA: 0s - loss: 0.5612 - accuracy: 0.72 - ETA: 0s - loss: 0.5585 - accuracy: 0.73 - ETA: 0s - loss: 0.5586 - accuracy: 0.73 - ETA: 0s - loss: 0.5592 - accuracy: 0.72 - ETA: 0s - loss: 0.5595 - accuracy: 0.72 - ETA: 0s - loss: 0.5599 - accuracy: 0.72 - 1s 937us/step - loss: 0.5610 - accuracy: 0.7267 - val_loss: 0.5644 - val_accuracy: 0.7255\n",
      "Epoch 12/20\n",
      "804/804 [==============================] - ETA: 0s - loss: 0.5673 - accuracy: 0.71 - ETA: 0s - loss: 0.5472 - accuracy: 0.73 - ETA: 0s - loss: 0.5468 - accuracy: 0.73 - ETA: 0s - loss: 0.5539 - accuracy: 0.73 - ETA: 0s - loss: 0.5591 - accuracy: 0.72 - ETA: 0s - loss: 0.5606 - accuracy: 0.72 - ETA: 0s - loss: 0.5622 - accuracy: 0.72 - ETA: 0s - loss: 0.5620 - accuracy: 0.72 - ETA: 0s - loss: 0.5613 - accuracy: 0.72 - ETA: 0s - loss: 0.5609 - accuracy: 0.72 - ETA: 0s - loss: 0.5584 - accuracy: 0.72 - ETA: 0s - loss: 0.5592 - accuracy: 0.72 - 1s 855us/step - loss: 0.5593 - accuracy: 0.7281 - val_loss: 0.5631 - val_accuracy: 0.7242\n",
      "Epoch 13/20\n",
      "804/804 [==============================] - ETA: 0s - loss: 0.5208 - accuracy: 0.71 - ETA: 0s - loss: 0.5558 - accuracy: 0.72 - ETA: 0s - loss: 0.5570 - accuracy: 0.72 - ETA: 0s - loss: 0.5606 - accuracy: 0.72 - ETA: 0s - loss: 0.5567 - accuracy: 0.72 - ETA: 0s - loss: 0.5558 - accuracy: 0.72 - ETA: 0s - loss: 0.5573 - accuracy: 0.72 - ETA: 0s - loss: 0.5589 - accuracy: 0.72 - ETA: 0s - loss: 0.5560 - accuracy: 0.72 - ETA: 0s - loss: 0.5577 - accuracy: 0.72 - ETA: 0s - loss: 0.5579 - accuracy: 0.72 - ETA: 0s - loss: 0.5564 - accuracy: 0.72 - ETA: 0s - loss: 0.5572 - accuracy: 0.72 - 1s 929us/step - loss: 0.5577 - accuracy: 0.7266 - val_loss: 0.5632 - val_accuracy: 0.7249\n",
      "Epoch 14/20\n",
      "804/804 [==============================] - ETA: 0s - loss: 0.6318 - accuracy: 0.62 - ETA: 0s - loss: 0.5609 - accuracy: 0.71 - ETA: 0s - loss: 0.5575 - accuracy: 0.72 - ETA: 0s - loss: 0.5570 - accuracy: 0.72 - ETA: 0s - loss: 0.5528 - accuracy: 0.73 - ETA: 0s - loss: 0.5530 - accuracy: 0.73 - ETA: 0s - loss: 0.5533 - accuracy: 0.73 - ETA: 0s - loss: 0.5553 - accuracy: 0.72 - ETA: 0s - loss: 0.5560 - accuracy: 0.72 - ETA: 0s - loss: 0.5568 - accuracy: 0.72 - ETA: 0s - loss: 0.5579 - accuracy: 0.72 - ETA: 0s - loss: 0.5572 - accuracy: 0.72 - 1s 921us/step - loss: 0.5566 - accuracy: 0.7278 - val_loss: 0.5611 - val_accuracy: 0.7261\n",
      "Epoch 15/20\n",
      "804/804 [==============================] - ETA: 0s - loss: 0.5293 - accuracy: 0.75 - ETA: 0s - loss: 0.5588 - accuracy: 0.72 - ETA: 0s - loss: 0.5476 - accuracy: 0.73 - ETA: 0s - loss: 0.5512 - accuracy: 0.73 - ETA: 0s - loss: 0.5494 - accuracy: 0.73 - ETA: 0s - loss: 0.5531 - accuracy: 0.73 - ETA: 0s - loss: 0.5507 - accuracy: 0.73 - ETA: 0s - loss: 0.5520 - accuracy: 0.73 - ETA: 0s - loss: 0.5550 - accuracy: 0.72 - ETA: 0s - loss: 0.5561 - accuracy: 0.72 - ETA: 0s - loss: 0.5559 - accuracy: 0.72 - ETA: 0s - loss: 0.5551 - accuracy: 0.72 - 1s 919us/step - loss: 0.5555 - accuracy: 0.7291 - val_loss: 0.5613 - val_accuracy: 0.7273\n",
      "Epoch 16/20\n",
      "804/804 [==============================] - ETA: 0s - loss: 0.6250 - accuracy: 0.71 - ETA: 0s - loss: 0.5672 - accuracy: 0.72 - ETA: 0s - loss: 0.5652 - accuracy: 0.71 - ETA: 0s - loss: 0.5561 - accuracy: 0.72 - ETA: 0s - loss: 0.5580 - accuracy: 0.72 - ETA: 0s - loss: 0.5568 - accuracy: 0.72 - ETA: 0s - loss: 0.5551 - accuracy: 0.72 - ETA: 0s - loss: 0.5569 - accuracy: 0.72 - ETA: 0s - loss: 0.5553 - accuracy: 0.72 - ETA: 0s - loss: 0.5547 - accuracy: 0.72 - ETA: 0s - loss: 0.5542 - accuracy: 0.72 - ETA: 0s - loss: 0.5550 - accuracy: 0.72 - ETA: 0s - loss: 0.5551 - accuracy: 0.72 - ETA: 0s - loss: 0.5550 - accuracy: 0.72 - 1s 1ms/step - loss: 0.5547 - accuracy: 0.7282 - val_loss: 0.5604 - val_accuracy: 0.7272\n",
      "Epoch 17/20\n",
      "804/804 [==============================] - ETA: 0s - loss: 0.5685 - accuracy: 0.75 - ETA: 0s - loss: 0.5499 - accuracy: 0.73 - ETA: 0s - loss: 0.5468 - accuracy: 0.73 - ETA: 0s - loss: 0.5481 - accuracy: 0.73 - ETA: 0s - loss: 0.5519 - accuracy: 0.73 - ETA: 0s - loss: 0.5511 - accuracy: 0.73 - ETA: 0s - loss: 0.5504 - accuracy: 0.73 - ETA: 0s - loss: 0.5508 - accuracy: 0.73 - ETA: 0s - loss: 0.5537 - accuracy: 0.73 - ETA: 0s - loss: 0.5540 - accuracy: 0.73 - ETA: 0s - loss: 0.5533 - accuracy: 0.73 - ETA: 0s - loss: 0.5536 - accuracy: 0.72 - 1s 882us/step - loss: 0.5542 - accuracy: 0.7294 - val_loss: 0.5601 - val_accuracy: 0.7270\n",
      "Epoch 18/20\n",
      "804/804 [==============================] - ETA: 0s - loss: 0.6323 - accuracy: 0.62 - ETA: 0s - loss: 0.5554 - accuracy: 0.72 - ETA: 0s - loss: 0.5482 - accuracy: 0.73 - ETA: 0s - loss: 0.5505 - accuracy: 0.73 - ETA: 0s - loss: 0.5516 - accuracy: 0.73 - ETA: 0s - loss: 0.5538 - accuracy: 0.72 - ETA: 0s - loss: 0.5487 - accuracy: 0.73 - ETA: 0s - loss: 0.5484 - accuracy: 0.73 - ETA: 0s - loss: 0.5498 - accuracy: 0.73 - ETA: 0s - loss: 0.5506 - accuracy: 0.73 - ETA: 0s - loss: 0.5526 - accuracy: 0.72 - ETA: 0s - loss: 0.5528 - accuracy: 0.72 - ETA: 0s - loss: 0.5531 - accuracy: 0.72 - 1s 1ms/step - loss: 0.5534 - accuracy: 0.7288 - val_loss: 0.5597 - val_accuracy: 0.7282\n",
      "Epoch 19/20\n",
      "804/804 [==============================] - ETA: 0s - loss: 0.6613 - accuracy: 0.68 - ETA: 0s - loss: 0.5736 - accuracy: 0.71 - ETA: 0s - loss: 0.5577 - accuracy: 0.72 - ETA: 0s - loss: 0.5545 - accuracy: 0.72 - ETA: 0s - loss: 0.5572 - accuracy: 0.72 - ETA: 0s - loss: 0.5540 - accuracy: 0.72 - ETA: 0s - loss: 0.5574 - accuracy: 0.72 - ETA: 0s - loss: 0.5552 - accuracy: 0.72 - ETA: 0s - loss: 0.5541 - accuracy: 0.72 - ETA: 0s - loss: 0.5514 - accuracy: 0.72 - ETA: 0s - loss: 0.5513 - accuracy: 0.72 - ETA: 0s - loss: 0.5529 - accuracy: 0.72 - ETA: 0s - loss: 0.5538 - accuracy: 0.72 - 1s 992us/step - loss: 0.5531 - accuracy: 0.7288 - val_loss: 0.5588 - val_accuracy: 0.7284\n",
      "Epoch 20/20\n"
     ]
    },
    {
     "name": "stdout",
     "output_type": "stream",
     "text": [
      "804/804 [==============================] - ETA: 0s - loss: 0.5344 - accuracy: 0.71 - ETA: 0s - loss: 0.5611 - accuracy: 0.73 - ETA: 0s - loss: 0.5547 - accuracy: 0.73 - ETA: 0s - loss: 0.5471 - accuracy: 0.73 - ETA: 0s - loss: 0.5473 - accuracy: 0.73 - ETA: 0s - loss: 0.5489 - accuracy: 0.73 - ETA: 0s - loss: 0.5519 - accuracy: 0.73 - ETA: 0s - loss: 0.5534 - accuracy: 0.72 - ETA: 0s - loss: 0.5543 - accuracy: 0.72 - ETA: 0s - loss: 0.5548 - accuracy: 0.72 - ETA: 0s - loss: 0.5550 - accuracy: 0.72 - ETA: 0s - loss: 0.5542 - accuracy: 0.72 - ETA: 0s - loss: 0.5532 - accuracy: 0.72 - ETA: 0s - loss: 0.5525 - accuracy: 0.72 - ETA: 0s - loss: 0.5521 - accuracy: 0.72 - 1s 1ms/step - loss: 0.5527 - accuracy: 0.7296 - val_loss: 0.5585 - val_accuracy: 0.7283\n"
     ]
    },
    {
     "data": {
      "text/html": [
       "<span style=\"color:#4527A0\"><h1 style=\"font-size:18px\">Trial complete</h1></span>"
      ],
      "text/plain": [
       "<IPython.core.display.HTML object>"
      ]
     },
     "metadata": {},
     "output_type": "display_data"
    },
    {
     "data": {
      "text/html": [
       "<span style=\"color:#4527A0\"><h1 style=\"font-size:18px\">Trial summary</h1></span>"
      ],
      "text/plain": [
       "<IPython.core.display.HTML object>"
      ]
     },
     "metadata": {},
     "output_type": "display_data"
    },
    {
     "data": {
      "text/html": [
       "<span style=\"color:cyan\"> |-Trial ID: b2ae5901de69ac4a3a614eb110e860a8</span>"
      ],
      "text/plain": [
       "<IPython.core.display.HTML object>"
      ]
     },
     "metadata": {},
     "output_type": "display_data"
    },
    {
     "data": {
      "text/html": [
       "<span style=\"color:cyan\"> |-Score: 0.728396475315094</span>"
      ],
      "text/plain": [
       "<IPython.core.display.HTML object>"
      ]
     },
     "metadata": {},
     "output_type": "display_data"
    },
    {
     "data": {
      "text/html": [
       "<span style=\"color:cyan\"> |-Best step: 0</span>"
      ],
      "text/plain": [
       "<IPython.core.display.HTML object>"
      ]
     },
     "metadata": {},
     "output_type": "display_data"
    },
    {
     "data": {
      "text/html": [
       "<span style=\"color:#7E57C2\"><h2 style=\"font-size:16px\">Hyperparameters:</h2></span>"
      ],
      "text/plain": [
       "<IPython.core.display.HTML object>"
      ]
     },
     "metadata": {},
     "output_type": "display_data"
    },
    {
     "data": {
      "text/html": [
       "<span style=\"color:cyan\"> |-activation: tanh</span>"
      ],
      "text/plain": [
       "<IPython.core.display.HTML object>"
      ]
     },
     "metadata": {},
     "output_type": "display_data"
    },
    {
     "data": {
      "text/html": [
       "<span style=\"color:blue\"> |-first_units: 5</span>"
      ],
      "text/plain": [
       "<IPython.core.display.HTML object>"
      ]
     },
     "metadata": {},
     "output_type": "display_data"
    },
    {
     "data": {
      "text/html": [
       "<span style=\"color:cyan\"> |-num_layers: 2</span>"
      ],
      "text/plain": [
       "<IPython.core.display.HTML object>"
      ]
     },
     "metadata": {},
     "output_type": "display_data"
    },
    {
     "data": {
      "text/html": [
       "<span style=\"color:blue\"> |-tuner/bracket: 1</span>"
      ],
      "text/plain": [
       "<IPython.core.display.HTML object>"
      ]
     },
     "metadata": {},
     "output_type": "display_data"
    },
    {
     "data": {
      "text/html": [
       "<span style=\"color:cyan\"> |-tuner/epochs: 20</span>"
      ],
      "text/plain": [
       "<IPython.core.display.HTML object>"
      ]
     },
     "metadata": {},
     "output_type": "display_data"
    },
    {
     "data": {
      "text/html": [
       "<span style=\"color:blue\"> |-tuner/initial_epoch: 7</span>"
      ],
      "text/plain": [
       "<IPython.core.display.HTML object>"
      ]
     },
     "metadata": {},
     "output_type": "display_data"
    },
    {
     "data": {
      "text/html": [
       "<span style=\"color:cyan\"> |-tuner/round: 1</span>"
      ],
      "text/plain": [
       "<IPython.core.display.HTML object>"
      ]
     },
     "metadata": {},
     "output_type": "display_data"
    },
    {
     "data": {
      "text/html": [
       "<span style=\"color:blue\"> |-tuner/trial_id: 5322b669be6ef495407dc2bbab1c7e42</span>"
      ],
      "text/plain": [
       "<IPython.core.display.HTML object>"
      ]
     },
     "metadata": {},
     "output_type": "display_data"
    },
    {
     "data": {
      "text/html": [
       "<span style=\"color:cyan\"> |-units_0: 3</span>"
      ],
      "text/plain": [
       "<IPython.core.display.HTML object>"
      ]
     },
     "metadata": {},
     "output_type": "display_data"
    },
    {
     "data": {
      "text/html": [
       "<span style=\"color:blue\"> |-units_1: 3</span>"
      ],
      "text/plain": [
       "<IPython.core.display.HTML object>"
      ]
     },
     "metadata": {},
     "output_type": "display_data"
    },
    {
     "data": {
      "text/html": [
       "<span style=\"color:cyan\"> |-units_2: 3</span>"
      ],
      "text/plain": [
       "<IPython.core.display.HTML object>"
      ]
     },
     "metadata": {},
     "output_type": "display_data"
    },
    {
     "data": {
      "text/html": [
       "<span style=\"color:blue\"> |-units_3: 5</span>"
      ],
      "text/plain": [
       "<IPython.core.display.HTML object>"
      ]
     },
     "metadata": {},
     "output_type": "display_data"
    },
    {
     "data": {
      "text/html": [
       "<span style=\"color:cyan\"> |-units_4: 1</span>"
      ],
      "text/plain": [
       "<IPython.core.display.HTML object>"
      ]
     },
     "metadata": {},
     "output_type": "display_data"
    },
    {
     "data": {
      "text/html": [
       "<span style=\"color:blue\"> |-units_5: 3</span>"
      ],
      "text/plain": [
       "<IPython.core.display.HTML object>"
      ]
     },
     "metadata": {},
     "output_type": "display_data"
    },
    {
     "name": "stdout",
     "output_type": "stream",
     "text": [
      "Epoch 1/20\n",
      "804/804 [==============================] - ETA: 0s - loss: 0.6933 - accuracy: 0.46 - ETA: 0s - loss: 0.6926 - accuracy: 0.53 - ETA: 0s - loss: 0.6921 - accuracy: 0.53 - ETA: 0s - loss: 0.6911 - accuracy: 0.53 - ETA: 0s - loss: 0.6888 - accuracy: 0.54 - ETA: 0s - loss: 0.6828 - accuracy: 0.57 - ETA: 0s - loss: 0.6752 - accuracy: 0.59 - ETA: 0s - loss: 0.6695 - accuracy: 0.60 - ETA: 0s - loss: 0.6646 - accuracy: 0.61 - ETA: 0s - loss: 0.6584 - accuracy: 0.63 - ETA: 0s - loss: 0.6546 - accuracy: 0.63 - ETA: 0s - loss: 0.6504 - accuracy: 0.64 - ETA: 0s - loss: 0.6473 - accuracy: 0.64 - 1s 1ms/step - loss: 0.6467 - accuracy: 0.6475 - val_loss: 0.6119 - val_accuracy: 0.6973\n",
      "Epoch 2/20\n",
      "804/804 [==============================] - ETA: 0s - loss: 0.6580 - accuracy: 0.65 - ETA: 0s - loss: 0.6057 - accuracy: 0.70 - ETA: 0s - loss: 0.6078 - accuracy: 0.70 - ETA: 0s - loss: 0.6173 - accuracy: 0.69 - ETA: 0s - loss: 0.6149 - accuracy: 0.69 - ETA: 0s - loss: 0.6139 - accuracy: 0.69 - ETA: 0s - loss: 0.6142 - accuracy: 0.69 - ETA: 0s - loss: 0.6127 - accuracy: 0.69 - ETA: 0s - loss: 0.6137 - accuracy: 0.69 - ETA: 0s - loss: 0.6128 - accuracy: 0.69 - ETA: 0s - loss: 0.6122 - accuracy: 0.69 - ETA: 0s - loss: 0.6115 - accuracy: 0.69 - ETA: 0s - loss: 0.6110 - accuracy: 0.69 - ETA: 0s - loss: 0.6105 - accuracy: 0.69 - 1s 1ms/step - loss: 0.6100 - accuracy: 0.6990 - val_loss: 0.6041 - val_accuracy: 0.7051\n",
      "Epoch 3/20\n",
      "804/804 [==============================] - ETA: 0s - loss: 0.5676 - accuracy: 0.75 - ETA: 0s - loss: 0.6148 - accuracy: 0.69 - ETA: 0s - loss: 0.6104 - accuracy: 0.69 - ETA: 0s - loss: 0.6096 - accuracy: 0.69 - ETA: 0s - loss: 0.6077 - accuracy: 0.70 - ETA: 0s - loss: 0.6053 - accuracy: 0.70 - ETA: 0s - loss: 0.6026 - accuracy: 0.70 - ETA: 0s - loss: 0.6028 - accuracy: 0.70 - ETA: 0s - loss: 0.6007 - accuracy: 0.70 - ETA: 0s - loss: 0.5994 - accuracy: 0.71 - ETA: 0s - loss: 0.5992 - accuracy: 0.71 - ETA: 0s - loss: 0.5992 - accuracy: 0.71 - ETA: 0s - loss: 0.5991 - accuracy: 0.71 - ETA: 0s - loss: 0.5983 - accuracy: 0.71 - 1s 1ms/step - loss: 0.5985 - accuracy: 0.7110 - val_loss: 0.5871 - val_accuracy: 0.7233\n",
      "Epoch 4/20\n",
      "804/804 [==============================] - ETA: 0s - loss: 0.5442 - accuracy: 0.78 - ETA: 0s - loss: 0.5908 - accuracy: 0.72 - ETA: 0s - loss: 0.5858 - accuracy: 0.72 - ETA: 0s - loss: 0.5837 - accuracy: 0.72 - ETA: 0s - loss: 0.5852 - accuracy: 0.72 - ETA: 0s - loss: 0.5831 - accuracy: 0.72 - ETA: 0s - loss: 0.5843 - accuracy: 0.72 - ETA: 0s - loss: 0.5846 - accuracy: 0.72 - ETA: 0s - loss: 0.5847 - accuracy: 0.72 - ETA: 0s - loss: 0.5843 - accuracy: 0.72 - ETA: 0s - loss: 0.5853 - accuracy: 0.72 - ETA: 0s - loss: 0.5857 - accuracy: 0.72 - ETA: 0s - loss: 0.5875 - accuracy: 0.72 - 1s 993us/step - loss: 0.5883 - accuracy: 0.7224 - val_loss: 0.5849 - val_accuracy: 0.7256\n",
      "Epoch 5/20\n",
      "804/804 [==============================] - ETA: 0s - loss: 0.5884 - accuracy: 0.71 - ETA: 0s - loss: 0.5865 - accuracy: 0.72 - ETA: 0s - loss: 0.5857 - accuracy: 0.72 - ETA: 0s - loss: 0.5811 - accuracy: 0.72 - ETA: 0s - loss: 0.5871 - accuracy: 0.72 - ETA: 0s - loss: 0.5908 - accuracy: 0.71 - ETA: 0s - loss: 0.5885 - accuracy: 0.71 - ETA: 0s - loss: 0.5897 - accuracy: 0.71 - ETA: 0s - loss: 0.5879 - accuracy: 0.72 - ETA: 0s - loss: 0.5882 - accuracy: 0.71 - ETA: 0s - loss: 0.5871 - accuracy: 0.72 - ETA: 0s - loss: 0.5861 - accuracy: 0.72 - 1s 899us/step - loss: 0.5862 - accuracy: 0.7215 - val_loss: 0.5813 - val_accuracy: 0.7272\n",
      "Epoch 6/20\n",
      "804/804 [==============================] - ETA: 0s - loss: 0.4537 - accuracy: 0.87 - ETA: 0s - loss: 0.5806 - accuracy: 0.72 - ETA: 0s - loss: 0.5759 - accuracy: 0.73 - ETA: 0s - loss: 0.5780 - accuracy: 0.72 - ETA: 0s - loss: 0.5748 - accuracy: 0.73 - ETA: 0s - loss: 0.5786 - accuracy: 0.72 - ETA: 0s - loss: 0.5794 - accuracy: 0.72 - ETA: 0s - loss: 0.5792 - accuracy: 0.72 - ETA: 0s - loss: 0.5807 - accuracy: 0.72 - ETA: 0s - loss: 0.5811 - accuracy: 0.72 - ETA: 0s - loss: 0.5820 - accuracy: 0.72 - ETA: 0s - loss: 0.5818 - accuracy: 0.72 - 1s 928us/step - loss: 0.5821 - accuracy: 0.7257 - val_loss: 0.5806 - val_accuracy: 0.7278\n",
      "Epoch 7/20\n",
      "804/804 [==============================] - ETA: 0s - loss: 0.4798 - accuracy: 0.81 - ETA: 0s - loss: 0.5902 - accuracy: 0.72 - ETA: 0s - loss: 0.5865 - accuracy: 0.72 - ETA: 0s - loss: 0.5847 - accuracy: 0.72 - ETA: 0s - loss: 0.5838 - accuracy: 0.72 - ETA: 0s - loss: 0.5844 - accuracy: 0.72 - ETA: 0s - loss: 0.5848 - accuracy: 0.72 - ETA: 0s - loss: 0.5859 - accuracy: 0.72 - ETA: 0s - loss: 0.5848 - accuracy: 0.72 - ETA: 0s - loss: 0.5847 - accuracy: 0.72 - ETA: 0s - loss: 0.5854 - accuracy: 0.72 - ETA: 0s - loss: 0.5827 - accuracy: 0.72 - ETA: 0s - loss: 0.5834 - accuracy: 0.72 - ETA: 0s - loss: 0.5821 - accuracy: 0.72 - 1s 1ms/step - loss: 0.5817 - accuracy: 0.7251 - val_loss: 0.5804 - val_accuracy: 0.7255\n",
      "Epoch 8/20\n",
      "804/804 [==============================] - ETA: 0s - loss: 0.5613 - accuracy: 0.71 - ETA: 0s - loss: 0.5919 - accuracy: 0.71 - ETA: 0s - loss: 0.5789 - accuracy: 0.72 - ETA: 0s - loss: 0.5771 - accuracy: 0.72 - ETA: 0s - loss: 0.5767 - accuracy: 0.72 - ETA: 0s - loss: 0.5800 - accuracy: 0.72 - ETA: 0s - loss: 0.5800 - accuracy: 0.72 - ETA: 0s - loss: 0.5794 - accuracy: 0.72 - ETA: 0s - loss: 0.5790 - accuracy: 0.72 - ETA: 0s - loss: 0.5815 - accuracy: 0.72 - ETA: 0s - loss: 0.5812 - accuracy: 0.72 - ETA: 0s - loss: 0.5813 - accuracy: 0.72 - 1s 865us/step - loss: 0.5813 - accuracy: 0.7255 - val_loss: 0.5800 - val_accuracy: 0.7275\n",
      "Epoch 9/20\n",
      "804/804 [==============================] - ETA: 0s - loss: 0.5863 - accuracy: 0.71 - ETA: 0s - loss: 0.5714 - accuracy: 0.73 - ETA: 0s - loss: 0.5702 - accuracy: 0.73 - ETA: 0s - loss: 0.5751 - accuracy: 0.72 - ETA: 0s - loss: 0.5762 - accuracy: 0.72 - ETA: 0s - loss: 0.5786 - accuracy: 0.72 - ETA: 0s - loss: 0.5789 - accuracy: 0.72 - ETA: 0s - loss: 0.5805 - accuracy: 0.72 - ETA: 0s - loss: 0.5826 - accuracy: 0.72 - ETA: 0s - loss: 0.5822 - accuracy: 0.72 - ETA: 0s - loss: 0.5815 - accuracy: 0.72 - ETA: 0s - loss: 0.5805 - accuracy: 0.72 - 1s 907us/step - loss: 0.5809 - accuracy: 0.7263 - val_loss: 0.5798 - val_accuracy: 0.7287\n",
      "Epoch 10/20\n",
      "804/804 [==============================] - ETA: 0s - loss: 0.5374 - accuracy: 0.75 - ETA: 0s - loss: 0.5871 - accuracy: 0.72 - ETA: 0s - loss: 0.5784 - accuracy: 0.73 - ETA: 0s - loss: 0.5781 - accuracy: 0.73 - ETA: 0s - loss: 0.5780 - accuracy: 0.73 - ETA: 0s - loss: 0.5808 - accuracy: 0.72 - ETA: 0s - loss: 0.5814 - accuracy: 0.72 - ETA: 0s - loss: 0.5818 - accuracy: 0.72 - ETA: 0s - loss: 0.5818 - accuracy: 0.72 - ETA: 0s - loss: 0.5805 - accuracy: 0.72 - ETA: 0s - loss: 0.5794 - accuracy: 0.72 - ETA: 0s - loss: 0.5799 - accuracy: 0.72 - ETA: 0s - loss: 0.5809 - accuracy: 0.72 - 1s 915us/step - loss: 0.5809 - accuracy: 0.7266 - val_loss: 0.5801 - val_accuracy: 0.7272\n",
      "Epoch 11/20\n",
      "804/804 [==============================] - ETA: 0s - loss: 0.6228 - accuracy: 0.68 - ETA: 0s - loss: 0.5739 - accuracy: 0.72 - ETA: 0s - loss: 0.5798 - accuracy: 0.72 - ETA: 0s - loss: 0.5790 - accuracy: 0.72 - ETA: 0s - loss: 0.5797 - accuracy: 0.72 - ETA: 0s - loss: 0.5806 - accuracy: 0.72 - ETA: 0s - loss: 0.5814 - accuracy: 0.72 - ETA: 0s - loss: 0.5804 - accuracy: 0.72 - ETA: 0s - loss: 0.5803 - accuracy: 0.72 - ETA: 0s - loss: 0.5811 - accuracy: 0.72 - ETA: 0s - loss: 0.5805 - accuracy: 0.72 - ETA: 0s - loss: 0.5806 - accuracy: 0.72 - ETA: 0s - loss: 0.5813 - accuracy: 0.72 - 1s 985us/step - loss: 0.5808 - accuracy: 0.7258 - val_loss: 0.5798 - val_accuracy: 0.7285\n",
      "Epoch 12/20\n",
      "804/804 [==============================] - ETA: 0s - loss: 0.5418 - accuracy: 0.78 - ETA: 0s - loss: 0.5947 - accuracy: 0.71 - ETA: 0s - loss: 0.5793 - accuracy: 0.72 - ETA: 0s - loss: 0.5811 - accuracy: 0.72 - ETA: 0s - loss: 0.5788 - accuracy: 0.72 - ETA: 0s - loss: 0.5794 - accuracy: 0.72 - ETA: 0s - loss: 0.5809 - accuracy: 0.72 - ETA: 0s - loss: 0.5828 - accuracy: 0.72 - ETA: 0s - loss: 0.5827 - accuracy: 0.72 - ETA: 0s - loss: 0.5821 - accuracy: 0.72 - ETA: 0s - loss: 0.5822 - accuracy: 0.72 - ETA: 0s - loss: 0.5816 - accuracy: 0.72 - ETA: 0s - loss: 0.5808 - accuracy: 0.72 - 1s 967us/step - loss: 0.5808 - accuracy: 0.7256 - val_loss: 0.5797 - val_accuracy: 0.7289\n"
     ]
    },
    {
     "name": "stdout",
     "output_type": "stream",
     "text": [
      "Epoch 13/20\n",
      "804/804 [==============================] - ETA: 0s - loss: 0.5738 - accuracy: 0.75 - ETA: 0s - loss: 0.5808 - accuracy: 0.72 - ETA: 0s - loss: 0.5831 - accuracy: 0.72 - ETA: 0s - loss: 0.5846 - accuracy: 0.72 - ETA: 0s - loss: 0.5829 - accuracy: 0.72 - ETA: 0s - loss: 0.5801 - accuracy: 0.72 - ETA: 0s - loss: 0.5808 - accuracy: 0.72 - ETA: 0s - loss: 0.5815 - accuracy: 0.72 - ETA: 0s - loss: 0.5812 - accuracy: 0.72 - ETA: 0s - loss: 0.5807 - accuracy: 0.72 - ETA: 0s - loss: 0.5815 - accuracy: 0.72 - ETA: 0s - loss: 0.5812 - accuracy: 0.72 - ETA: 0s - loss: 0.5807 - accuracy: 0.72 - 1s 1ms/step - loss: 0.5806 - accuracy: 0.7263 - val_loss: 0.5798 - val_accuracy: 0.7290\n",
      "Epoch 14/20\n",
      "804/804 [==============================] - ETA: 0s - loss: 0.7705 - accuracy: 0.53 - ETA: 0s - loss: 0.5775 - accuracy: 0.72 - ETA: 0s - loss: 0.5804 - accuracy: 0.72 - ETA: 0s - loss: 0.5795 - accuracy: 0.72 - ETA: 0s - loss: 0.5793 - accuracy: 0.72 - ETA: 0s - loss: 0.5792 - accuracy: 0.72 - ETA: 0s - loss: 0.5793 - accuracy: 0.72 - ETA: 0s - loss: 0.5765 - accuracy: 0.73 - ETA: 0s - loss: 0.5780 - accuracy: 0.72 - ETA: 0s - loss: 0.5798 - accuracy: 0.72 - ETA: 0s - loss: 0.5801 - accuracy: 0.72 - ETA: 0s - loss: 0.5807 - accuracy: 0.72 - ETA: 0s - loss: 0.5802 - accuracy: 0.72 - ETA: 0s - loss: 0.5807 - accuracy: 0.72 - 1s 994us/step - loss: 0.5807 - accuracy: 0.7259 - val_loss: 0.5796 - val_accuracy: 0.7285\n",
      "Epoch 15/20\n",
      "804/804 [==============================] - ETA: 0s - loss: 0.5454 - accuracy: 0.78 - ETA: 0s - loss: 0.5803 - accuracy: 0.72 - ETA: 0s - loss: 0.5902 - accuracy: 0.71 - ETA: 0s - loss: 0.5893 - accuracy: 0.71 - ETA: 0s - loss: 0.5841 - accuracy: 0.72 - ETA: 0s - loss: 0.5839 - accuracy: 0.72 - ETA: 0s - loss: 0.5837 - accuracy: 0.72 - ETA: 0s - loss: 0.5844 - accuracy: 0.72 - ETA: 0s - loss: 0.5856 - accuracy: 0.72 - ETA: 0s - loss: 0.5857 - accuracy: 0.72 - ETA: 0s - loss: 0.5842 - accuracy: 0.72 - ETA: 0s - loss: 0.5832 - accuracy: 0.72 - ETA: 0s - loss: 0.5808 - accuracy: 0.72 - 1s 932us/step - loss: 0.5807 - accuracy: 0.7254 - val_loss: 0.5796 - val_accuracy: 0.7285\n",
      "Epoch 16/20\n",
      "804/804 [==============================] - ETA: 0s - loss: 0.6598 - accuracy: 0.65 - ETA: 0s - loss: 0.5688 - accuracy: 0.73 - ETA: 0s - loss: 0.5746 - accuracy: 0.73 - ETA: 0s - loss: 0.5755 - accuracy: 0.73 - ETA: 0s - loss: 0.5770 - accuracy: 0.72 - ETA: 0s - loss: 0.5756 - accuracy: 0.73 - ETA: 0s - loss: 0.5748 - accuracy: 0.73 - ETA: 0s - loss: 0.5778 - accuracy: 0.72 - ETA: 0s - loss: 0.5780 - accuracy: 0.72 - ETA: 0s - loss: 0.5791 - accuracy: 0.72 - ETA: 0s - loss: 0.5781 - accuracy: 0.72 - ETA: 0s - loss: 0.5788 - accuracy: 0.72 - ETA: 0s - loss: 0.5804 - accuracy: 0.72 - 1s 995us/step - loss: 0.5807 - accuracy: 0.7257 - val_loss: 0.5795 - val_accuracy: 0.7291\n",
      "Epoch 17/20\n",
      "804/804 [==============================] - ETA: 0s - loss: 0.5432 - accuracy: 0.78 - ETA: 0s - loss: 0.5839 - accuracy: 0.72 - ETA: 0s - loss: 0.5831 - accuracy: 0.72 - ETA: 0s - loss: 0.5837 - accuracy: 0.72 - ETA: 0s - loss: 0.5806 - accuracy: 0.72 - ETA: 0s - loss: 0.5824 - accuracy: 0.72 - ETA: 0s - loss: 0.5835 - accuracy: 0.72 - ETA: 0s - loss: 0.5853 - accuracy: 0.72 - ETA: 0s - loss: 0.5839 - accuracy: 0.72 - ETA: 0s - loss: 0.5849 - accuracy: 0.72 - ETA: 0s - loss: 0.5812 - accuracy: 0.72 - ETA: 0s - loss: 0.5807 - accuracy: 0.72 - ETA: 0s - loss: 0.5796 - accuracy: 0.72 - ETA: 0s - loss: 0.5803 - accuracy: 0.72 - 1s 986us/step - loss: 0.5805 - accuracy: 0.7257 - val_loss: 0.5795 - val_accuracy: 0.7256\n",
      "Epoch 18/20\n",
      "804/804 [==============================] - ETA: 0s - loss: 0.4449 - accuracy: 0.87 - ETA: 0s - loss: 0.5929 - accuracy: 0.71 - ETA: 0s - loss: 0.5867 - accuracy: 0.71 - ETA: 0s - loss: 0.5862 - accuracy: 0.71 - ETA: 0s - loss: 0.5801 - accuracy: 0.72 - ETA: 0s - loss: 0.5815 - accuracy: 0.72 - ETA: 0s - loss: 0.5824 - accuracy: 0.72 - ETA: 0s - loss: 0.5816 - accuracy: 0.72 - ETA: 0s - loss: 0.5815 - accuracy: 0.72 - ETA: 0s - loss: 0.5802 - accuracy: 0.72 - ETA: 0s - loss: 0.5812 - accuracy: 0.72 - ETA: 0s - loss: 0.5807 - accuracy: 0.72 - ETA: 0s - loss: 0.5808 - accuracy: 0.72 - ETA: 0s - loss: 0.5801 - accuracy: 0.72 - 1s 1ms/step - loss: 0.5802 - accuracy: 0.7257 - val_loss: 0.5792 - val_accuracy: 0.7268\n",
      "Epoch 19/20\n",
      "804/804 [==============================] - ETA: 0s - loss: 0.5731 - accuracy: 0.71 - ETA: 0s - loss: 0.5754 - accuracy: 0.72 - ETA: 0s - loss: 0.5831 - accuracy: 0.72 - ETA: 0s - loss: 0.5856 - accuracy: 0.71 - ETA: 0s - loss: 0.5815 - accuracy: 0.72 - ETA: 0s - loss: 0.5786 - accuracy: 0.72 - ETA: 0s - loss: 0.5746 - accuracy: 0.72 - ETA: 0s - loss: 0.5750 - accuracy: 0.72 - ETA: 0s - loss: 0.5766 - accuracy: 0.72 - ETA: 0s - loss: 0.5765 - accuracy: 0.72 - ETA: 0s - loss: 0.5777 - accuracy: 0.72 - ETA: 0s - loss: 0.5789 - accuracy: 0.72 - 1s 888us/step - loss: 0.5791 - accuracy: 0.7263 - val_loss: 0.5789 - val_accuracy: 0.7276\n",
      "Epoch 20/20\n",
      "804/804 [==============================] - ETA: 0s - loss: 0.5143 - accuracy: 0.78 - ETA: 0s - loss: 0.5831 - accuracy: 0.72 - ETA: 0s - loss: 0.5816 - accuracy: 0.72 - ETA: 0s - loss: 0.5800 - accuracy: 0.72 - ETA: 0s - loss: 0.5759 - accuracy: 0.73 - ETA: 0s - loss: 0.5750 - accuracy: 0.73 - ETA: 0s - loss: 0.5746 - accuracy: 0.73 - ETA: 0s - loss: 0.5775 - accuracy: 0.72 - ETA: 0s - loss: 0.5759 - accuracy: 0.73 - ETA: 0s - loss: 0.5751 - accuracy: 0.73 - ETA: 0s - loss: 0.5769 - accuracy: 0.72 - ETA: 0s - loss: 0.5765 - accuracy: 0.73 - 1s 950us/step - loss: 0.5777 - accuracy: 0.7293 - val_loss: 0.5774 - val_accuracy: 0.7294\n"
     ]
    },
    {
     "data": {
      "text/html": [
       "<span style=\"color:#4527A0\"><h1 style=\"font-size:18px\">Trial complete</h1></span>"
      ],
      "text/plain": [
       "<IPython.core.display.HTML object>"
      ]
     },
     "metadata": {},
     "output_type": "display_data"
    },
    {
     "data": {
      "text/html": [
       "<span style=\"color:#4527A0\"><h1 style=\"font-size:18px\">Trial summary</h1></span>"
      ],
      "text/plain": [
       "<IPython.core.display.HTML object>"
      ]
     },
     "metadata": {},
     "output_type": "display_data"
    },
    {
     "data": {
      "text/html": [
       "<span style=\"color:cyan\"> |-Trial ID: 42e15c38dd8b46ff996940acb9674235</span>"
      ],
      "text/plain": [
       "<IPython.core.display.HTML object>"
      ]
     },
     "metadata": {},
     "output_type": "display_data"
    },
    {
     "data": {
      "text/html": [
       "<span style=\"color:cyan\"> |-Score: 0.7294460535049438</span>"
      ],
      "text/plain": [
       "<IPython.core.display.HTML object>"
      ]
     },
     "metadata": {},
     "output_type": "display_data"
    },
    {
     "data": {
      "text/html": [
       "<span style=\"color:cyan\"> |-Best step: 0</span>"
      ],
      "text/plain": [
       "<IPython.core.display.HTML object>"
      ]
     },
     "metadata": {},
     "output_type": "display_data"
    },
    {
     "data": {
      "text/html": [
       "<span style=\"color:#7E57C2\"><h2 style=\"font-size:16px\">Hyperparameters:</h2></span>"
      ],
      "text/plain": [
       "<IPython.core.display.HTML object>"
      ]
     },
     "metadata": {},
     "output_type": "display_data"
    },
    {
     "data": {
      "text/html": [
       "<span style=\"color:cyan\"> |-activation: tanh</span>"
      ],
      "text/plain": [
       "<IPython.core.display.HTML object>"
      ]
     },
     "metadata": {},
     "output_type": "display_data"
    },
    {
     "data": {
      "text/html": [
       "<span style=\"color:blue\"> |-first_units: 1</span>"
      ],
      "text/plain": [
       "<IPython.core.display.HTML object>"
      ]
     },
     "metadata": {},
     "output_type": "display_data"
    },
    {
     "data": {
      "text/html": [
       "<span style=\"color:cyan\"> |-num_layers: 2</span>"
      ],
      "text/plain": [
       "<IPython.core.display.HTML object>"
      ]
     },
     "metadata": {},
     "output_type": "display_data"
    },
    {
     "data": {
      "text/html": [
       "<span style=\"color:blue\"> |-tuner/bracket: 0</span>"
      ],
      "text/plain": [
       "<IPython.core.display.HTML object>"
      ]
     },
     "metadata": {},
     "output_type": "display_data"
    },
    {
     "data": {
      "text/html": [
       "<span style=\"color:cyan\"> |-tuner/epochs: 20</span>"
      ],
      "text/plain": [
       "<IPython.core.display.HTML object>"
      ]
     },
     "metadata": {},
     "output_type": "display_data"
    },
    {
     "data": {
      "text/html": [
       "<span style=\"color:blue\"> |-tuner/initial_epoch: 0</span>"
      ],
      "text/plain": [
       "<IPython.core.display.HTML object>"
      ]
     },
     "metadata": {},
     "output_type": "display_data"
    },
    {
     "data": {
      "text/html": [
       "<span style=\"color:cyan\"> |-tuner/round: 0</span>"
      ],
      "text/plain": [
       "<IPython.core.display.HTML object>"
      ]
     },
     "metadata": {},
     "output_type": "display_data"
    },
    {
     "data": {
      "text/html": [
       "<span style=\"color:blue\"> |-units_0: 5</span>"
      ],
      "text/plain": [
       "<IPython.core.display.HTML object>"
      ]
     },
     "metadata": {},
     "output_type": "display_data"
    },
    {
     "data": {
      "text/html": [
       "<span style=\"color:cyan\"> |-units_1: 1</span>"
      ],
      "text/plain": [
       "<IPython.core.display.HTML object>"
      ]
     },
     "metadata": {},
     "output_type": "display_data"
    },
    {
     "data": {
      "text/html": [
       "<span style=\"color:blue\"> |-units_2: 3</span>"
      ],
      "text/plain": [
       "<IPython.core.display.HTML object>"
      ]
     },
     "metadata": {},
     "output_type": "display_data"
    },
    {
     "data": {
      "text/html": [
       "<span style=\"color:cyan\"> |-units_3: 9</span>"
      ],
      "text/plain": [
       "<IPython.core.display.HTML object>"
      ]
     },
     "metadata": {},
     "output_type": "display_data"
    },
    {
     "data": {
      "text/html": [
       "<span style=\"color:blue\"> |-units_4: 9</span>"
      ],
      "text/plain": [
       "<IPython.core.display.HTML object>"
      ]
     },
     "metadata": {},
     "output_type": "display_data"
    },
    {
     "data": {
      "text/html": [
       "<span style=\"color:cyan\"> |-units_5: 7</span>"
      ],
      "text/plain": [
       "<IPython.core.display.HTML object>"
      ]
     },
     "metadata": {},
     "output_type": "display_data"
    },
    {
     "name": "stdout",
     "output_type": "stream",
     "text": [
      "Epoch 1/20\n",
      "804/804 [==============================] - ETA: 0s - loss: 0.6838 - accuracy: 0.46 - ETA: 0s - loss: 0.6894 - accuracy: 0.57 - ETA: 0s - loss: 0.6849 - accuracy: 0.59 - ETA: 0s - loss: 0.6785 - accuracy: 0.62 - ETA: 0s - loss: 0.6719 - accuracy: 0.64 - ETA: 0s - loss: 0.6654 - accuracy: 0.65 - ETA: 0s - loss: 0.6611 - accuracy: 0.66 - ETA: 0s - loss: 0.6543 - accuracy: 0.67 - ETA: 0s - loss: 0.6498 - accuracy: 0.67 - ETA: 0s - loss: 0.6450 - accuracy: 0.68 - ETA: 0s - loss: 0.6426 - accuracy: 0.68 - ETA: 0s - loss: 0.6387 - accuracy: 0.68 - ETA: 0s - loss: 0.6354 - accuracy: 0.69 - ETA: 0s - loss: 0.6318 - accuracy: 0.69 - 1s 1ms/step - loss: 0.6296 - accuracy: 0.6944 - val_loss: 0.5934 - val_accuracy: 0.7163\n",
      "Epoch 2/20\n",
      "804/804 [==============================] - ETA: 0s - loss: 0.6237 - accuracy: 0.62 - ETA: 0s - loss: 0.5870 - accuracy: 0.72 - ETA: 0s - loss: 0.5888 - accuracy: 0.72 - ETA: 0s - loss: 0.5844 - accuracy: 0.72 - ETA: 0s - loss: 0.5804 - accuracy: 0.72 - ETA: 0s - loss: 0.5816 - accuracy: 0.72 - ETA: 0s - loss: 0.5824 - accuracy: 0.72 - ETA: 0s - loss: 0.5821 - accuracy: 0.72 - ETA: 0s - loss: 0.5827 - accuracy: 0.72 - ETA: 0s - loss: 0.5835 - accuracy: 0.72 - ETA: 0s - loss: 0.5838 - accuracy: 0.71 - ETA: 0s - loss: 0.5827 - accuracy: 0.72 - ETA: 0s - loss: 0.5817 - accuracy: 0.72 - ETA: 0s - loss: 0.5817 - accuracy: 0.71 - 1s 1ms/step - loss: 0.5817 - accuracy: 0.7193 - val_loss: 0.5787 - val_accuracy: 0.7217\n",
      "Epoch 3/20\n",
      "804/804 [==============================] - ETA: 0s - loss: 0.5504 - accuracy: 0.75 - ETA: 0s - loss: 0.5775 - accuracy: 0.72 - ETA: 0s - loss: 0.5729 - accuracy: 0.72 - ETA: 0s - loss: 0.5709 - accuracy: 0.72 - ETA: 0s - loss: 0.5733 - accuracy: 0.72 - ETA: 0s - loss: 0.5705 - accuracy: 0.72 - ETA: 0s - loss: 0.5716 - accuracy: 0.72 - ETA: 0s - loss: 0.5731 - accuracy: 0.72 - ETA: 0s - loss: 0.5724 - accuracy: 0.72 - ETA: 0s - loss: 0.5712 - accuracy: 0.72 - ETA: 0s - loss: 0.5718 - accuracy: 0.72 - ETA: 0s - loss: 0.5742 - accuracy: 0.72 - 1s 863us/step - loss: 0.5743 - accuracy: 0.7215 - val_loss: 0.5758 - val_accuracy: 0.7203\n",
      "Epoch 4/20\n",
      "804/804 [==============================] - ETA: 0s - loss: 0.5894 - accuracy: 0.62 - ETA: 0s - loss: 0.5993 - accuracy: 0.69 - ETA: 0s - loss: 0.5806 - accuracy: 0.71 - ETA: 0s - loss: 0.5805 - accuracy: 0.71 - ETA: 0s - loss: 0.5765 - accuracy: 0.72 - ETA: 0s - loss: 0.5762 - accuracy: 0.71 - ETA: 0s - loss: 0.5767 - accuracy: 0.71 - ETA: 0s - loss: 0.5751 - accuracy: 0.72 - ETA: 0s - loss: 0.5738 - accuracy: 0.72 - ETA: 0s - loss: 0.5755 - accuracy: 0.71 - ETA: 0s - loss: 0.5738 - accuracy: 0.72 - ETA: 0s - loss: 0.5730 - accuracy: 0.72 - 1s 861us/step - loss: 0.5722 - accuracy: 0.7221 - val_loss: 0.5751 - val_accuracy: 0.7217\n",
      "Epoch 5/20\n",
      "804/804 [==============================] - ETA: 0s - loss: 0.5880 - accuracy: 0.68 - ETA: 0s - loss: 0.5748 - accuracy: 0.71 - ETA: 0s - loss: 0.5749 - accuracy: 0.71 - ETA: 0s - loss: 0.5767 - accuracy: 0.71 - ETA: 0s - loss: 0.5751 - accuracy: 0.71 - ETA: 0s - loss: 0.5747 - accuracy: 0.71 - ETA: 0s - loss: 0.5757 - accuracy: 0.71 - ETA: 0s - loss: 0.5739 - accuracy: 0.71 - ETA: 0s - loss: 0.5726 - accuracy: 0.72 - ETA: 0s - loss: 0.5731 - accuracy: 0.71 - ETA: 0s - loss: 0.5726 - accuracy: 0.72 - ETA: 0s - loss: 0.5728 - accuracy: 0.72 - ETA: 0s - loss: 0.5726 - accuracy: 0.72 - ETA: 0s - loss: 0.5713 - accuracy: 0.72 - 1s 1ms/step - loss: 0.5711 - accuracy: 0.7231 - val_loss: 0.5748 - val_accuracy: 0.7240\n",
      "Epoch 6/20\n",
      "804/804 [==============================] - ETA: 0s - loss: 0.4860 - accuracy: 0.78 - ETA: 0s - loss: 0.5777 - accuracy: 0.71 - ETA: 0s - loss: 0.5656 - accuracy: 0.72 - ETA: 0s - loss: 0.5693 - accuracy: 0.72 - ETA: 0s - loss: 0.5715 - accuracy: 0.72 - ETA: 0s - loss: 0.5709 - accuracy: 0.72 - ETA: 0s - loss: 0.5693 - accuracy: 0.72 - ETA: 0s - loss: 0.5699 - accuracy: 0.72 - ETA: 0s - loss: 0.5699 - accuracy: 0.72 - ETA: 0s - loss: 0.5703 - accuracy: 0.72 - ETA: 0s - loss: 0.5713 - accuracy: 0.72 - ETA: 0s - loss: 0.5698 - accuracy: 0.72 - ETA: 0s - loss: 0.5703 - accuracy: 0.72 - 1s 913us/step - loss: 0.5704 - accuracy: 0.7237 - val_loss: 0.5739 - val_accuracy: 0.7224\n",
      "Epoch 7/20\n",
      "804/804 [==============================] - ETA: 0s - loss: 0.5923 - accuracy: 0.65 - ETA: 0s - loss: 0.5706 - accuracy: 0.72 - ETA: 0s - loss: 0.5775 - accuracy: 0.71 - ETA: 0s - loss: 0.5700 - accuracy: 0.72 - ETA: 0s - loss: 0.5715 - accuracy: 0.72 - ETA: 0s - loss: 0.5726 - accuracy: 0.72 - ETA: 0s - loss: 0.5729 - accuracy: 0.72 - ETA: 0s - loss: 0.5721 - accuracy: 0.72 - ETA: 0s - loss: 0.5710 - accuracy: 0.72 - ETA: 0s - loss: 0.5711 - accuracy: 0.72 - ETA: 0s - loss: 0.5718 - accuracy: 0.72 - ETA: 0s - loss: 0.5709 - accuracy: 0.72 - ETA: 0s - loss: 0.5703 - accuracy: 0.72 - 1s 981us/step - loss: 0.5697 - accuracy: 0.7255 - val_loss: 0.5726 - val_accuracy: 0.7258\n",
      "Epoch 8/20\n",
      "804/804 [==============================] - ETA: 0s - loss: 0.6713 - accuracy: 0.62 - ETA: 0s - loss: 0.5874 - accuracy: 0.71 - ETA: 0s - loss: 0.5809 - accuracy: 0.72 - ETA: 0s - loss: 0.5737 - accuracy: 0.72 - ETA: 0s - loss: 0.5732 - accuracy: 0.72 - ETA: 0s - loss: 0.5730 - accuracy: 0.72 - ETA: 0s - loss: 0.5732 - accuracy: 0.72 - ETA: 0s - loss: 0.5740 - accuracy: 0.72 - ETA: 0s - loss: 0.5713 - accuracy: 0.72 - ETA: 0s - loss: 0.5714 - accuracy: 0.72 - ETA: 0s - loss: 0.5706 - accuracy: 0.72 - ETA: 0s - loss: 0.5689 - accuracy: 0.72 - 1s 870us/step - loss: 0.5692 - accuracy: 0.7260 - val_loss: 0.5733 - val_accuracy: 0.7251\n",
      "Epoch 9/20\n",
      "804/804 [==============================] - ETA: 0s - loss: 0.4680 - accuracy: 0.78 - ETA: 0s - loss: 0.5731 - accuracy: 0.72 - ETA: 0s - loss: 0.5657 - accuracy: 0.72 - ETA: 0s - loss: 0.5702 - accuracy: 0.72 - ETA: 0s - loss: 0.5639 - accuracy: 0.73 - ETA: 0s - loss: 0.5653 - accuracy: 0.72 - ETA: 0s - loss: 0.5686 - accuracy: 0.72 - ETA: 0s - loss: 0.5724 - accuracy: 0.72 - ETA: 0s - loss: 0.5709 - accuracy: 0.72 - ETA: 0s - loss: 0.5683 - accuracy: 0.72 - ETA: 0s - loss: 0.5678 - accuracy: 0.72 - ETA: 0s - loss: 0.5679 - accuracy: 0.72 - 1s 882us/step - loss: 0.5689 - accuracy: 0.7258 - val_loss: 0.5729 - val_accuracy: 0.7248\n",
      "Epoch 10/20\n",
      "804/804 [==============================] - ETA: 0s - loss: 0.5712 - accuracy: 0.71 - ETA: 0s - loss: 0.5663 - accuracy: 0.72 - ETA: 0s - loss: 0.5692 - accuracy: 0.72 - ETA: 0s - loss: 0.5724 - accuracy: 0.72 - ETA: 0s - loss: 0.5717 - accuracy: 0.72 - ETA: 0s - loss: 0.5734 - accuracy: 0.72 - ETA: 0s - loss: 0.5729 - accuracy: 0.72 - ETA: 0s - loss: 0.5715 - accuracy: 0.72 - ETA: 0s - loss: 0.5714 - accuracy: 0.72 - ETA: 0s - loss: 0.5705 - accuracy: 0.72 - ETA: 0s - loss: 0.5696 - accuracy: 0.72 - ETA: 0s - loss: 0.5693 - accuracy: 0.72 - ETA: 0s - loss: 0.5684 - accuracy: 0.72 - 1s 959us/step - loss: 0.5683 - accuracy: 0.7267 - val_loss: 0.5727 - val_accuracy: 0.7251\n",
      "Epoch 11/20\n",
      "804/804 [==============================] - ETA: 0s - loss: 0.4014 - accuracy: 0.87 - ETA: 0s - loss: 0.5620 - accuracy: 0.73 - ETA: 0s - loss: 0.5608 - accuracy: 0.73 - ETA: 0s - loss: 0.5606 - accuracy: 0.73 - ETA: 0s - loss: 0.5643 - accuracy: 0.72 - ETA: 0s - loss: 0.5659 - accuracy: 0.72 - ETA: 0s - loss: 0.5655 - accuracy: 0.72 - ETA: 0s - loss: 0.5647 - accuracy: 0.72 - ETA: 0s - loss: 0.5631 - accuracy: 0.73 - ETA: 0s - loss: 0.5643 - accuracy: 0.72 - ETA: 0s - loss: 0.5669 - accuracy: 0.72 - ETA: 0s - loss: 0.5681 - accuracy: 0.72 - ETA: 0s - loss: 0.5673 - accuracy: 0.72 - ETA: 0s - loss: 0.5674 - accuracy: 0.72 - 1s 1ms/step - loss: 0.5683 - accuracy: 0.7257 - val_loss: 0.5723 - val_accuracy: 0.7248\n",
      "Epoch 12/20\n"
     ]
    },
    {
     "name": "stdout",
     "output_type": "stream",
     "text": [
      "804/804 [==============================] - ETA: 0s - loss: 0.6491 - accuracy: 0.68 - ETA: 0s - loss: 0.5768 - accuracy: 0.72 - ETA: 0s - loss: 0.5784 - accuracy: 0.72 - ETA: 0s - loss: 0.5733 - accuracy: 0.72 - ETA: 0s - loss: 0.5708 - accuracy: 0.72 - ETA: 0s - loss: 0.5693 - accuracy: 0.72 - ETA: 0s - loss: 0.5681 - accuracy: 0.72 - ETA: 0s - loss: 0.5679 - accuracy: 0.72 - ETA: 0s - loss: 0.5699 - accuracy: 0.72 - ETA: 0s - loss: 0.5692 - accuracy: 0.72 - ETA: 0s - loss: 0.5682 - accuracy: 0.72 - ETA: 0s - loss: 0.5698 - accuracy: 0.72 - ETA: 0s - loss: 0.5686 - accuracy: 0.72 - ETA: 0s - loss: 0.5687 - accuracy: 0.72 - ETA: 0s - loss: 0.5681 - accuracy: 0.72 - 1s 1ms/step - loss: 0.5681 - accuracy: 0.7261 - val_loss: 0.5726 - val_accuracy: 0.7249\n",
      "Epoch 13/20\n",
      "804/804 [==============================] - ETA: 0s - loss: 0.6437 - accuracy: 0.68 - ETA: 0s - loss: 0.5588 - accuracy: 0.73 - ETA: 0s - loss: 0.5691 - accuracy: 0.72 - ETA: 0s - loss: 0.5659 - accuracy: 0.72 - ETA: 0s - loss: 0.5699 - accuracy: 0.72 - ETA: 0s - loss: 0.5649 - accuracy: 0.72 - ETA: 0s - loss: 0.5659 - accuracy: 0.72 - ETA: 0s - loss: 0.5655 - accuracy: 0.72 - ETA: 0s - loss: 0.5674 - accuracy: 0.72 - ETA: 0s - loss: 0.5681 - accuracy: 0.72 - ETA: 0s - loss: 0.5692 - accuracy: 0.72 - ETA: 0s - loss: 0.5684 - accuracy: 0.72 - 1s 853us/step - loss: 0.5680 - accuracy: 0.7264 - val_loss: 0.5722 - val_accuracy: 0.7250\n",
      "Epoch 14/20\n",
      "804/804 [==============================] - ETA: 0s - loss: 0.4803 - accuracy: 0.78 - ETA: 0s - loss: 0.5671 - accuracy: 0.72 - ETA: 0s - loss: 0.5721 - accuracy: 0.72 - ETA: 0s - loss: 0.5661 - accuracy: 0.73 - ETA: 0s - loss: 0.5661 - accuracy: 0.72 - ETA: 0s - loss: 0.5646 - accuracy: 0.73 - ETA: 0s - loss: 0.5652 - accuracy: 0.72 - ETA: 0s - loss: 0.5672 - accuracy: 0.72 - ETA: 0s - loss: 0.5677 - accuracy: 0.72 - ETA: 0s - loss: 0.5682 - accuracy: 0.72 - ETA: 0s - loss: 0.5677 - accuracy: 0.72 - 1s 859us/step - loss: 0.5677 - accuracy: 0.7260 - val_loss: 0.5721 - val_accuracy: 0.7265\n",
      "Epoch 15/20\n",
      "804/804 [==============================] - ETA: 0s - loss: 0.7105 - accuracy: 0.65 - ETA: 0s - loss: 0.5612 - accuracy: 0.72 - ETA: 0s - loss: 0.5652 - accuracy: 0.72 - ETA: 0s - loss: 0.5627 - accuracy: 0.73 - ETA: 0s - loss: 0.5622 - accuracy: 0.73 - ETA: 0s - loss: 0.5645 - accuracy: 0.73 - ETA: 0s - loss: 0.5645 - accuracy: 0.72 - ETA: 0s - loss: 0.5667 - accuracy: 0.72 - ETA: 0s - loss: 0.5677 - accuracy: 0.72 - ETA: 0s - loss: 0.5689 - accuracy: 0.72 - ETA: 0s - loss: 0.5683 - accuracy: 0.72 - ETA: 0s - loss: 0.5676 - accuracy: 0.72 - 1s 913us/step - loss: 0.5676 - accuracy: 0.7262 - val_loss: 0.5731 - val_accuracy: 0.7233\n",
      "Epoch 16/20\n",
      "804/804 [==============================] - ETA: 0s - loss: 0.6431 - accuracy: 0.68 - ETA: 0s - loss: 0.5804 - accuracy: 0.71 - ETA: 0s - loss: 0.5710 - accuracy: 0.72 - ETA: 0s - loss: 0.5708 - accuracy: 0.72 - ETA: 0s - loss: 0.5672 - accuracy: 0.72 - ETA: 0s - loss: 0.5644 - accuracy: 0.72 - ETA: 0s - loss: 0.5636 - accuracy: 0.73 - ETA: 0s - loss: 0.5656 - accuracy: 0.72 - ETA: 0s - loss: 0.5658 - accuracy: 0.72 - ETA: 0s - loss: 0.5656 - accuracy: 0.72 - ETA: 0s - loss: 0.5665 - accuracy: 0.72 - ETA: 0s - loss: 0.5660 - accuracy: 0.72 - ETA: 0s - loss: 0.5663 - accuracy: 0.72 - ETA: 0s - loss: 0.5667 - accuracy: 0.72 - 1s 1ms/step - loss: 0.5673 - accuracy: 0.7259 - val_loss: 0.5726 - val_accuracy: 0.7233\n",
      "Epoch 17/20\n",
      "804/804 [==============================] - ETA: 0s - loss: 0.5839 - accuracy: 0.71 - ETA: 0s - loss: 0.5655 - accuracy: 0.72 - ETA: 0s - loss: 0.5682 - accuracy: 0.72 - ETA: 0s - loss: 0.5669 - accuracy: 0.72 - ETA: 0s - loss: 0.5655 - accuracy: 0.72 - ETA: 0s - loss: 0.5647 - accuracy: 0.72 - ETA: 0s - loss: 0.5638 - accuracy: 0.72 - ETA: 0s - loss: 0.5656 - accuracy: 0.72 - ETA: 0s - loss: 0.5667 - accuracy: 0.72 - ETA: 0s - loss: 0.5685 - accuracy: 0.72 - ETA: 0s - loss: 0.5676 - accuracy: 0.72 - 1s 839us/step - loss: 0.5673 - accuracy: 0.7260 - val_loss: 0.5722 - val_accuracy: 0.7251\n",
      "Epoch 18/20\n",
      "804/804 [==============================] - ETA: 0s - loss: 0.6149 - accuracy: 0.75 - ETA: 0s - loss: 0.5618 - accuracy: 0.73 - ETA: 0s - loss: 0.5595 - accuracy: 0.73 - ETA: 0s - loss: 0.5645 - accuracy: 0.72 - ETA: 0s - loss: 0.5650 - accuracy: 0.72 - ETA: 0s - loss: 0.5654 - accuracy: 0.72 - ETA: 0s - loss: 0.5647 - accuracy: 0.72 - ETA: 0s - loss: 0.5674 - accuracy: 0.72 - ETA: 0s - loss: 0.5679 - accuracy: 0.72 - ETA: 0s - loss: 0.5675 - accuracy: 0.72 - 1s 746us/step - loss: 0.5675 - accuracy: 0.7260 - val_loss: 0.5719 - val_accuracy: 0.7262\n",
      "Epoch 19/20\n",
      "804/804 [==============================] - ETA: 0s - loss: 0.6627 - accuracy: 0.65 - ETA: 0s - loss: 0.5620 - accuracy: 0.73 - ETA: 0s - loss: 0.5644 - accuracy: 0.73 - ETA: 0s - loss: 0.5660 - accuracy: 0.72 - ETA: 0s - loss: 0.5660 - accuracy: 0.72 - ETA: 0s - loss: 0.5687 - accuracy: 0.72 - ETA: 0s - loss: 0.5694 - accuracy: 0.72 - ETA: 0s - loss: 0.5681 - accuracy: 0.72 - ETA: 0s - loss: 0.5665 - accuracy: 0.72 - ETA: 0s - loss: 0.5659 - accuracy: 0.72 - 1s 748us/step - loss: 0.5673 - accuracy: 0.7263 - val_loss: 0.5726 - val_accuracy: 0.7263\n",
      "Epoch 20/20\n",
      "804/804 [==============================] - ETA: 0s - loss: 0.5412 - accuracy: 0.71 - ETA: 0s - loss: 0.5572 - accuracy: 0.73 - ETA: 0s - loss: 0.5584 - accuracy: 0.73 - ETA: 0s - loss: 0.5569 - accuracy: 0.73 - ETA: 0s - loss: 0.5600 - accuracy: 0.73 - ETA: 0s - loss: 0.5613 - accuracy: 0.72 - ETA: 0s - loss: 0.5625 - accuracy: 0.72 - ETA: 0s - loss: 0.5640 - accuracy: 0.72 - ETA: 0s - loss: 0.5663 - accuracy: 0.72 - ETA: 0s - loss: 0.5647 - accuracy: 0.72 - ETA: 0s - loss: 0.5638 - accuracy: 0.72 - ETA: 0s - loss: 0.5640 - accuracy: 0.72 - ETA: 0s - loss: 0.5654 - accuracy: 0.72 - ETA: 0s - loss: 0.5650 - accuracy: 0.72 - ETA: 0s - loss: 0.5668 - accuracy: 0.72 - 1s 1ms/step - loss: 0.5671 - accuracy: 0.7264 - val_loss: 0.5728 - val_accuracy: 0.7249\n"
     ]
    },
    {
     "data": {
      "text/html": [
       "<span style=\"color:#4527A0\"><h1 style=\"font-size:18px\">Trial complete</h1></span>"
      ],
      "text/plain": [
       "<IPython.core.display.HTML object>"
      ]
     },
     "metadata": {},
     "output_type": "display_data"
    },
    {
     "data": {
      "text/html": [
       "<span style=\"color:#4527A0\"><h1 style=\"font-size:18px\">Trial summary</h1></span>"
      ],
      "text/plain": [
       "<IPython.core.display.HTML object>"
      ]
     },
     "metadata": {},
     "output_type": "display_data"
    },
    {
     "data": {
      "text/html": [
       "<span style=\"color:cyan\"> |-Trial ID: b0b91639c55d9835bef2995961933844</span>"
      ],
      "text/plain": [
       "<IPython.core.display.HTML object>"
      ]
     },
     "metadata": {},
     "output_type": "display_data"
    },
    {
     "data": {
      "text/html": [
       "<span style=\"color:cyan\"> |-Score: 0.7265306115150452</span>"
      ],
      "text/plain": [
       "<IPython.core.display.HTML object>"
      ]
     },
     "metadata": {},
     "output_type": "display_data"
    },
    {
     "data": {
      "text/html": [
       "<span style=\"color:cyan\"> |-Best step: 0</span>"
      ],
      "text/plain": [
       "<IPython.core.display.HTML object>"
      ]
     },
     "metadata": {},
     "output_type": "display_data"
    },
    {
     "data": {
      "text/html": [
       "<span style=\"color:#7E57C2\"><h2 style=\"font-size:16px\">Hyperparameters:</h2></span>"
      ],
      "text/plain": [
       "<IPython.core.display.HTML object>"
      ]
     },
     "metadata": {},
     "output_type": "display_data"
    },
    {
     "data": {
      "text/html": [
       "<span style=\"color:cyan\"> |-activation: relu</span>"
      ],
      "text/plain": [
       "<IPython.core.display.HTML object>"
      ]
     },
     "metadata": {},
     "output_type": "display_data"
    },
    {
     "data": {
      "text/html": [
       "<span style=\"color:blue\"> |-first_units: 3</span>"
      ],
      "text/plain": [
       "<IPython.core.display.HTML object>"
      ]
     },
     "metadata": {},
     "output_type": "display_data"
    },
    {
     "data": {
      "text/html": [
       "<span style=\"color:cyan\"> |-num_layers: 2</span>"
      ],
      "text/plain": [
       "<IPython.core.display.HTML object>"
      ]
     },
     "metadata": {},
     "output_type": "display_data"
    },
    {
     "data": {
      "text/html": [
       "<span style=\"color:blue\"> |-tuner/bracket: 0</span>"
      ],
      "text/plain": [
       "<IPython.core.display.HTML object>"
      ]
     },
     "metadata": {},
     "output_type": "display_data"
    },
    {
     "data": {
      "text/html": [
       "<span style=\"color:cyan\"> |-tuner/epochs: 20</span>"
      ],
      "text/plain": [
       "<IPython.core.display.HTML object>"
      ]
     },
     "metadata": {},
     "output_type": "display_data"
    },
    {
     "data": {
      "text/html": [
       "<span style=\"color:blue\"> |-tuner/initial_epoch: 0</span>"
      ],
      "text/plain": [
       "<IPython.core.display.HTML object>"
      ]
     },
     "metadata": {},
     "output_type": "display_data"
    },
    {
     "data": {
      "text/html": [
       "<span style=\"color:cyan\"> |-tuner/round: 0</span>"
      ],
      "text/plain": [
       "<IPython.core.display.HTML object>"
      ]
     },
     "metadata": {},
     "output_type": "display_data"
    },
    {
     "data": {
      "text/html": [
       "<span style=\"color:blue\"> |-units_0: 1</span>"
      ],
      "text/plain": [
       "<IPython.core.display.HTML object>"
      ]
     },
     "metadata": {},
     "output_type": "display_data"
    },
    {
     "data": {
      "text/html": [
       "<span style=\"color:cyan\"> |-units_1: 9</span>"
      ],
      "text/plain": [
       "<IPython.core.display.HTML object>"
      ]
     },
     "metadata": {},
     "output_type": "display_data"
    },
    {
     "data": {
      "text/html": [
       "<span style=\"color:blue\"> |-units_2: 9</span>"
      ],
      "text/plain": [
       "<IPython.core.display.HTML object>"
      ]
     },
     "metadata": {},
     "output_type": "display_data"
    },
    {
     "data": {
      "text/html": [
       "<span style=\"color:cyan\"> |-units_3: 3</span>"
      ],
      "text/plain": [
       "<IPython.core.display.HTML object>"
      ]
     },
     "metadata": {},
     "output_type": "display_data"
    },
    {
     "data": {
      "text/html": [
       "<span style=\"color:blue\"> |-units_4: 5</span>"
      ],
      "text/plain": [
       "<IPython.core.display.HTML object>"
      ]
     },
     "metadata": {},
     "output_type": "display_data"
    },
    {
     "data": {
      "text/html": [
       "<span style=\"color:cyan\"> |-units_5: 9</span>"
      ],
      "text/plain": [
       "<IPython.core.display.HTML object>"
      ]
     },
     "metadata": {},
     "output_type": "display_data"
    },
    {
     "name": "stdout",
     "output_type": "stream",
     "text": [
      "Epoch 1/20\n",
      "761/804 [===========================>..] - ETA: 0s - loss: 0.7087 - accuracy: 0.46 - ETA: 0s - loss: 0.6940 - accuracy: 0.49 - ETA: 0s - loss: 0.6890 - accuracy: 0.52 - ETA: 0s - loss: 0.6860 - accuracy: 0.53 - ETA: 0s - loss: 0.6806 - accuracy: 0.56 - ETA: 0s - loss: 0.6752 - accuracy: 0.58 - ETA: 0s - loss: 0.6686 - accuracy: 0.60 - ETA: 0s - loss: 0.6626 - accuracy: 0.62 - ETA: 0s - loss: 0.6586 - accuracy: 0.62 - ETA: 0s - loss: 0.6509 - accuracy: 0.64 - ETA: 0s - loss: 0.6438 - accuracy: 0.65 - ETA: 0s - loss: 0.6405 - accuracy: 0.65 - ETA: 0s - loss: 0.6362 - accuracy: 0.6610WARNING:tensorflow:Callbacks method `on_test_batch_end` is slow compared to the batch time (batch time: 0.0000s vs `on_test_batch_end` time: 0.0010s). Check your callbacks.\n",
      "804/804 [==============================] - 1s 1ms/step - loss: 0.6327 - accuracy: 0.6649 - val_loss: 0.5841 - val_accuracy: 0.7224\n",
      "Epoch 2/20\n",
      "804/804 [==============================] - ETA: 0s - loss: 0.5726 - accuracy: 0.71 - ETA: 0s - loss: 0.5813 - accuracy: 0.73 - ETA: 0s - loss: 0.5822 - accuracy: 0.72 - ETA: 0s - loss: 0.5777 - accuracy: 0.73 - ETA: 0s - loss: 0.5798 - accuracy: 0.72 - ETA: 0s - loss: 0.5786 - accuracy: 0.72 - ETA: 0s - loss: 0.5760 - accuracy: 0.72 - ETA: 0s - loss: 0.5754 - accuracy: 0.72 - ETA: 0s - loss: 0.5745 - accuracy: 0.72 - ETA: 0s - loss: 0.5778 - accuracy: 0.72 - ETA: 0s - loss: 0.5772 - accuracy: 0.72 - ETA: 0s - loss: 0.5765 - accuracy: 0.72 - ETA: 0s - loss: 0.5771 - accuracy: 0.72 - 1s 926us/step - loss: 0.5768 - accuracy: 0.7243 - val_loss: 0.5755 - val_accuracy: 0.7200\n",
      "Epoch 3/20\n",
      "804/804 [==============================] - ETA: 0s - loss: 0.4632 - accuracy: 0.81 - ETA: 0s - loss: 0.5681 - accuracy: 0.72 - ETA: 0s - loss: 0.5740 - accuracy: 0.72 - ETA: 0s - loss: 0.5787 - accuracy: 0.71 - ETA: 0s - loss: 0.5791 - accuracy: 0.71 - ETA: 0s - loss: 0.5743 - accuracy: 0.72 - ETA: 0s - loss: 0.5763 - accuracy: 0.72 - ETA: 0s - loss: 0.5746 - accuracy: 0.72 - ETA: 0s - loss: 0.5728 - accuracy: 0.72 - ETA: 0s - loss: 0.5704 - accuracy: 0.72 - ETA: 0s - loss: 0.5708 - accuracy: 0.72 - ETA: 0s - loss: 0.5714 - accuracy: 0.72 - ETA: 0s - loss: 0.5708 - accuracy: 0.72 - ETA: 0s - loss: 0.5715 - accuracy: 0.72 - ETA: 0s - loss: 0.5713 - accuracy: 0.72 - 1s 1ms/step - loss: 0.5716 - accuracy: 0.7250 - val_loss: 0.5717 - val_accuracy: 0.7217\n",
      "Epoch 4/20\n",
      "804/804 [==============================] - ETA: 0s - loss: 0.6357 - accuracy: 0.65 - ETA: 0s - loss: 0.5700 - accuracy: 0.73 - ETA: 0s - loss: 0.5700 - accuracy: 0.72 - ETA: 0s - loss: 0.5725 - accuracy: 0.72 - ETA: 0s - loss: 0.5761 - accuracy: 0.71 - ETA: 0s - loss: 0.5712 - accuracy: 0.72 - ETA: 0s - loss: 0.5713 - accuracy: 0.72 - ETA: 0s - loss: 0.5709 - accuracy: 0.72 - ETA: 0s - loss: 0.5700 - accuracy: 0.72 - ETA: 0s - loss: 0.5684 - accuracy: 0.72 - ETA: 0s - loss: 0.5682 - accuracy: 0.72 - ETA: 0s - loss: 0.5679 - accuracy: 0.72 - 1s 908us/step - loss: 0.5680 - accuracy: 0.7269 - val_loss: 0.5693 - val_accuracy: 0.7244\n",
      "Epoch 5/20\n",
      "804/804 [==============================] - ETA: 0s - loss: 0.5427 - accuracy: 0.75 - ETA: 0s - loss: 0.5557 - accuracy: 0.74 - ETA: 0s - loss: 0.5619 - accuracy: 0.73 - ETA: 0s - loss: 0.5620 - accuracy: 0.73 - ETA: 0s - loss: 0.5602 - accuracy: 0.73 - ETA: 0s - loss: 0.5651 - accuracy: 0.72 - ETA: 0s - loss: 0.5636 - accuracy: 0.73 - ETA: 0s - loss: 0.5663 - accuracy: 0.72 - ETA: 0s - loss: 0.5661 - accuracy: 0.72 - ETA: 0s - loss: 0.5643 - accuracy: 0.72 - ETA: 0s - loss: 0.5643 - accuracy: 0.72 - ETA: 0s - loss: 0.5648 - accuracy: 0.72 - ETA: 0s - loss: 0.5655 - accuracy: 0.72 - ETA: 0s - loss: 0.5652 - accuracy: 0.72 - 1s 1ms/step - loss: 0.5651 - accuracy: 0.7283 - val_loss: 0.5669 - val_accuracy: 0.7250\n",
      "Epoch 6/20\n",
      "804/804 [==============================] - ETA: 0s - loss: 0.4622 - accuracy: 0.81 - ETA: 0s - loss: 0.5460 - accuracy: 0.74 - ETA: 0s - loss: 0.5518 - accuracy: 0.73 - ETA: 0s - loss: 0.5574 - accuracy: 0.73 - ETA: 0s - loss: 0.5593 - accuracy: 0.73 - ETA: 0s - loss: 0.5589 - accuracy: 0.73 - ETA: 0s - loss: 0.5606 - accuracy: 0.73 - ETA: 0s - loss: 0.5592 - accuracy: 0.73 - ETA: 0s - loss: 0.5597 - accuracy: 0.73 - ETA: 0s - loss: 0.5602 - accuracy: 0.73 - ETA: 0s - loss: 0.5609 - accuracy: 0.73 - ETA: 0s - loss: 0.5616 - accuracy: 0.72 - ETA: 0s - loss: 0.5630 - accuracy: 0.72 - ETA: 0s - loss: 0.5630 - accuracy: 0.72 - 1s 1ms/step - loss: 0.5629 - accuracy: 0.7291 - val_loss: 0.5659 - val_accuracy: 0.7273\n",
      "Epoch 7/20\n",
      "804/804 [==============================] - ETA: 0s - loss: 0.5002 - accuracy: 0.78 - ETA: 1s - loss: 0.5393 - accuracy: 0.74 - ETA: 0s - loss: 0.5451 - accuracy: 0.74 - ETA: 0s - loss: 0.5526 - accuracy: 0.73 - ETA: 0s - loss: 0.5549 - accuracy: 0.73 - ETA: 0s - loss: 0.5569 - accuracy: 0.73 - ETA: 0s - loss: 0.5604 - accuracy: 0.72 - ETA: 0s - loss: 0.5607 - accuracy: 0.72 - ETA: 0s - loss: 0.5601 - accuracy: 0.73 - ETA: 0s - loss: 0.5609 - accuracy: 0.72 - ETA: 0s - loss: 0.5605 - accuracy: 0.72 - ETA: 0s - loss: 0.5597 - accuracy: 0.73 - ETA: 0s - loss: 0.5602 - accuracy: 0.73 - ETA: 0s - loss: 0.5604 - accuracy: 0.73 - ETA: 0s - loss: 0.5611 - accuracy: 0.72 - 1s 1ms/step - loss: 0.5611 - accuracy: 0.7294 - val_loss: 0.5647 - val_accuracy: 0.7244\n",
      "Epoch 8/20\n",
      "804/804 [==============================] - ETA: 0s - loss: 0.5451 - accuracy: 0.75 - ETA: 0s - loss: 0.5704 - accuracy: 0.72 - ETA: 0s - loss: 0.5643 - accuracy: 0.72 - ETA: 0s - loss: 0.5603 - accuracy: 0.72 - ETA: 0s - loss: 0.5579 - accuracy: 0.73 - ETA: 0s - loss: 0.5564 - accuracy: 0.73 - ETA: 0s - loss: 0.5562 - accuracy: 0.73 - ETA: 0s - loss: 0.5591 - accuracy: 0.73 - ETA: 0s - loss: 0.5602 - accuracy: 0.72 - ETA: 0s - loss: 0.5594 - accuracy: 0.73 - ETA: 0s - loss: 0.5597 - accuracy: 0.72 - ETA: 0s - loss: 0.5605 - accuracy: 0.72 - 1s 942us/step - loss: 0.5598 - accuracy: 0.7292 - val_loss: 0.5627 - val_accuracy: 0.7251\n",
      "Epoch 9/20\n",
      "804/804 [==============================] - ETA: 0s - loss: 0.5559 - accuracy: 0.71 - ETA: 0s - loss: 0.5746 - accuracy: 0.71 - ETA: 0s - loss: 0.5623 - accuracy: 0.72 - ETA: 0s - loss: 0.5590 - accuracy: 0.72 - ETA: 0s - loss: 0.5617 - accuracy: 0.72 - ETA: 0s - loss: 0.5596 - accuracy: 0.72 - ETA: 0s - loss: 0.5599 - accuracy: 0.72 - ETA: 0s - loss: 0.5611 - accuracy: 0.72 - ETA: 0s - loss: 0.5602 - accuracy: 0.72 - ETA: 0s - loss: 0.5591 - accuracy: 0.72 - ETA: 0s - loss: 0.5585 - accuracy: 0.72 - ETA: 0s - loss: 0.5579 - accuracy: 0.72 - ETA: 0s - loss: 0.5584 - accuracy: 0.72 - 1s 981us/step - loss: 0.5586 - accuracy: 0.7286 - val_loss: 0.5618 - val_accuracy: 0.7248\n",
      "Epoch 10/20\n",
      "804/804 [==============================] - ETA: 0s - loss: 0.5152 - accuracy: 0.78 - ETA: 0s - loss: 0.5558 - accuracy: 0.73 - ETA: 0s - loss: 0.5559 - accuracy: 0.72 - ETA: 0s - loss: 0.5559 - accuracy: 0.72 - ETA: 0s - loss: 0.5588 - accuracy: 0.72 - ETA: 0s - loss: 0.5575 - accuracy: 0.72 - ETA: 0s - loss: 0.5577 - accuracy: 0.72 - ETA: 0s - loss: 0.5600 - accuracy: 0.72 - ETA: 0s - loss: 0.5579 - accuracy: 0.72 - ETA: 0s - loss: 0.5568 - accuracy: 0.72 - ETA: 0s - loss: 0.5574 - accuracy: 0.72 - ETA: 0s - loss: 0.5580 - accuracy: 0.72 - ETA: 0s - loss: 0.5580 - accuracy: 0.72 - 1s 995us/step - loss: 0.5576 - accuracy: 0.7279 - val_loss: 0.5611 - val_accuracy: 0.7248\n",
      "Epoch 11/20\n",
      "804/804 [==============================] - ETA: 0s - loss: 0.5463 - accuracy: 0.78 - ETA: 0s - loss: 0.5592 - accuracy: 0.72 - ETA: 0s - loss: 0.5513 - accuracy: 0.73 - ETA: 0s - loss: 0.5498 - accuracy: 0.73 - ETA: 0s - loss: 0.5478 - accuracy: 0.74 - ETA: 0s - loss: 0.5488 - accuracy: 0.73 - ETA: 0s - loss: 0.5500 - accuracy: 0.73 - ETA: 0s - loss: 0.5519 - accuracy: 0.73 - ETA: 0s - loss: 0.5556 - accuracy: 0.73 - ETA: 0s - loss: 0.5571 - accuracy: 0.73 - ETA: 0s - loss: 0.5577 - accuracy: 0.72 - ETA: 0s - loss: 0.5571 - accuracy: 0.72 - 1s 934us/step - loss: 0.5567 - accuracy: 0.7297 - val_loss: 0.5600 - val_accuracy: 0.7277\n",
      "Epoch 12/20\n"
     ]
    },
    {
     "name": "stdout",
     "output_type": "stream",
     "text": [
      "804/804 [==============================] - ETA: 0s - loss: 0.5578 - accuracy: 0.68 - ETA: 0s - loss: 0.5434 - accuracy: 0.74 - ETA: 0s - loss: 0.5431 - accuracy: 0.74 - ETA: 0s - loss: 0.5423 - accuracy: 0.74 - ETA: 0s - loss: 0.5455 - accuracy: 0.73 - ETA: 0s - loss: 0.5493 - accuracy: 0.73 - ETA: 0s - loss: 0.5527 - accuracy: 0.73 - ETA: 0s - loss: 0.5542 - accuracy: 0.73 - ETA: 0s - loss: 0.5514 - accuracy: 0.73 - ETA: 0s - loss: 0.5500 - accuracy: 0.73 - ETA: 0s - loss: 0.5533 - accuracy: 0.73 - ETA: 0s - loss: 0.5540 - accuracy: 0.73 - ETA: 0s - loss: 0.5553 - accuracy: 0.73 - 1s 988us/step - loss: 0.5559 - accuracy: 0.7303 - val_loss: 0.5604 - val_accuracy: 0.7261\n",
      "Epoch 13/20\n",
      "804/804 [==============================] - ETA: 0s - loss: 0.4709 - accuracy: 0.78 - ETA: 0s - loss: 0.5540 - accuracy: 0.73 - ETA: 0s - loss: 0.5585 - accuracy: 0.72 - ETA: 0s - loss: 0.5573 - accuracy: 0.72 - ETA: 0s - loss: 0.5581 - accuracy: 0.72 - ETA: 0s - loss: 0.5596 - accuracy: 0.72 - ETA: 0s - loss: 0.5569 - accuracy: 0.72 - ETA: 0s - loss: 0.5587 - accuracy: 0.72 - ETA: 0s - loss: 0.5589 - accuracy: 0.72 - ETA: 0s - loss: 0.5592 - accuracy: 0.72 - ETA: 0s - loss: 0.5558 - accuracy: 0.72 - ETA: 0s - loss: 0.5545 - accuracy: 0.73 - ETA: 0s - loss: 0.5552 - accuracy: 0.72 - ETA: 0s - loss: 0.5552 - accuracy: 0.73 - 1s 1ms/step - loss: 0.5554 - accuracy: 0.7298 - val_loss: 0.5597 - val_accuracy: 0.7269\n",
      "Epoch 14/20\n",
      "804/804 [==============================] - ETA: 0s - loss: 0.5662 - accuracy: 0.68 - ETA: 0s - loss: 0.5601 - accuracy: 0.72 - ETA: 0s - loss: 0.5638 - accuracy: 0.71 - ETA: 0s - loss: 0.5663 - accuracy: 0.71 - ETA: 0s - loss: 0.5601 - accuracy: 0.72 - ETA: 0s - loss: 0.5595 - accuracy: 0.72 - ETA: 0s - loss: 0.5575 - accuracy: 0.72 - ETA: 0s - loss: 0.5567 - accuracy: 0.72 - ETA: 0s - loss: 0.5559 - accuracy: 0.72 - ETA: 0s - loss: 0.5564 - accuracy: 0.72 - ETA: 0s - loss: 0.5573 - accuracy: 0.72 - ETA: 0s - loss: 0.5569 - accuracy: 0.72 - ETA: 0s - loss: 0.5549 - accuracy: 0.72 - ETA: 0s - loss: 0.5553 - accuracy: 0.72 - 1s 1ms/step - loss: 0.5549 - accuracy: 0.7290 - val_loss: 0.5590 - val_accuracy: 0.7273\n",
      "Epoch 15/20\n",
      "804/804 [==============================] - ETA: 0s - loss: 0.4235 - accuracy: 0.87 - ETA: 0s - loss: 0.5631 - accuracy: 0.71 - ETA: 0s - loss: 0.5632 - accuracy: 0.72 - ETA: 0s - loss: 0.5658 - accuracy: 0.71 - ETA: 0s - loss: 0.5643 - accuracy: 0.71 - ETA: 0s - loss: 0.5596 - accuracy: 0.72 - ETA: 0s - loss: 0.5573 - accuracy: 0.72 - ETA: 0s - loss: 0.5539 - accuracy: 0.72 - ETA: 0s - loss: 0.5531 - accuracy: 0.72 - ETA: 0s - loss: 0.5541 - accuracy: 0.72 - ETA: 0s - loss: 0.5531 - accuracy: 0.73 - 1s 824us/step - loss: 0.5544 - accuracy: 0.7290 - val_loss: 0.5584 - val_accuracy: 0.7270\n",
      "Epoch 16/20\n",
      "804/804 [==============================] - ETA: 0s - loss: 0.6216 - accuracy: 0.68 - ETA: 0s - loss: 0.5552 - accuracy: 0.72 - ETA: 0s - loss: 0.5467 - accuracy: 0.73 - ETA: 0s - loss: 0.5557 - accuracy: 0.72 - ETA: 0s - loss: 0.5501 - accuracy: 0.73 - ETA: 0s - loss: 0.5533 - accuracy: 0.73 - ETA: 0s - loss: 0.5560 - accuracy: 0.72 - ETA: 0s - loss: 0.5562 - accuracy: 0.72 - ETA: 0s - loss: 0.5563 - accuracy: 0.72 - ETA: 0s - loss: 0.5552 - accuracy: 0.72 - ETA: 0s - loss: 0.5540 - accuracy: 0.72 - 1s 837us/step - loss: 0.5540 - accuracy: 0.7289 - val_loss: 0.5582 - val_accuracy: 0.7265\n",
      "Epoch 17/20\n",
      "804/804 [==============================] - ETA: 0s - loss: 0.6222 - accuracy: 0.71 - ETA: 0s - loss: 0.5650 - accuracy: 0.72 - ETA: 0s - loss: 0.5643 - accuracy: 0.72 - ETA: 0s - loss: 0.5655 - accuracy: 0.72 - ETA: 0s - loss: 0.5605 - accuracy: 0.72 - ETA: 0s - loss: 0.5583 - accuracy: 0.72 - ETA: 0s - loss: 0.5573 - accuracy: 0.72 - ETA: 0s - loss: 0.5584 - accuracy: 0.72 - ETA: 0s - loss: 0.5550 - accuracy: 0.72 - ETA: 0s - loss: 0.5547 - accuracy: 0.72 - ETA: 0s - loss: 0.5542 - accuracy: 0.72 - ETA: 0s - loss: 0.5538 - accuracy: 0.72 - 1s 894us/step - loss: 0.5536 - accuracy: 0.7289 - val_loss: 0.5575 - val_accuracy: 0.7280\n",
      "Epoch 18/20\n",
      "804/804 [==============================] - ETA: 0s - loss: 0.6308 - accuracy: 0.68 - ETA: 0s - loss: 0.5522 - accuracy: 0.73 - ETA: 0s - loss: 0.5490 - accuracy: 0.73 - ETA: 0s - loss: 0.5467 - accuracy: 0.73 - ETA: 0s - loss: 0.5479 - accuracy: 0.72 - ETA: 0s - loss: 0.5514 - accuracy: 0.72 - ETA: 0s - loss: 0.5547 - accuracy: 0.72 - ETA: 0s - loss: 0.5546 - accuracy: 0.72 - ETA: 0s - loss: 0.5526 - accuracy: 0.72 - ETA: 0s - loss: 0.5514 - accuracy: 0.73 - ETA: 0s - loss: 0.5509 - accuracy: 0.73 - ETA: 0s - loss: 0.5533 - accuracy: 0.72 - 1s 866us/step - loss: 0.5531 - accuracy: 0.7292 - val_loss: 0.5571 - val_accuracy: 0.7279\n",
      "Epoch 19/20\n",
      "804/804 [==============================] - ETA: 0s - loss: 0.6308 - accuracy: 0.71 - ETA: 0s - loss: 0.5468 - accuracy: 0.73 - ETA: 0s - loss: 0.5458 - accuracy: 0.73 - ETA: 0s - loss: 0.5495 - accuracy: 0.73 - ETA: 0s - loss: 0.5512 - accuracy: 0.73 - ETA: 0s - loss: 0.5481 - accuracy: 0.73 - ETA: 0s - loss: 0.5496 - accuracy: 0.73 - ETA: 0s - loss: 0.5511 - accuracy: 0.73 - ETA: 0s - loss: 0.5504 - accuracy: 0.73 - ETA: 0s - loss: 0.5521 - accuracy: 0.73 - ETA: 0s - loss: 0.5521 - accuracy: 0.73 - ETA: 0s - loss: 0.5529 - accuracy: 0.73 - ETA: 0s - loss: 0.5535 - accuracy: 0.72 - ETA: 0s - loss: 0.5536 - accuracy: 0.72 - ETA: 0s - loss: 0.5531 - accuracy: 0.72 - 1s 1ms/step - loss: 0.5525 - accuracy: 0.7296 - val_loss: 0.5569 - val_accuracy: 0.7303\n",
      "Epoch 20/20\n",
      "804/804 [==============================] - ETA: 0s - loss: 0.6203 - accuracy: 0.65 - ETA: 0s - loss: 0.5440 - accuracy: 0.73 - ETA: 0s - loss: 0.5421 - accuracy: 0.73 - ETA: 0s - loss: 0.5470 - accuracy: 0.73 - ETA: 0s - loss: 0.5504 - accuracy: 0.73 - ETA: 0s - loss: 0.5527 - accuracy: 0.72 - ETA: 0s - loss: 0.5512 - accuracy: 0.72 - ETA: 0s - loss: 0.5507 - accuracy: 0.73 - ETA: 0s - loss: 0.5532 - accuracy: 0.72 - ETA: 0s - loss: 0.5544 - accuracy: 0.72 - ETA: 0s - loss: 0.5531 - accuracy: 0.72 - ETA: 0s - loss: 0.5530 - accuracy: 0.72 - ETA: 0s - loss: 0.5520 - accuracy: 0.73 - 1s 995us/step - loss: 0.5524 - accuracy: 0.7301 - val_loss: 0.5565 - val_accuracy: 0.7285\n"
     ]
    },
    {
     "data": {
      "text/html": [
       "<span style=\"color:#4527A0\"><h1 style=\"font-size:18px\">Trial complete</h1></span>"
      ],
      "text/plain": [
       "<IPython.core.display.HTML object>"
      ]
     },
     "metadata": {},
     "output_type": "display_data"
    },
    {
     "data": {
      "text/html": [
       "<span style=\"color:#4527A0\"><h1 style=\"font-size:18px\">Trial summary</h1></span>"
      ],
      "text/plain": [
       "<IPython.core.display.HTML object>"
      ]
     },
     "metadata": {},
     "output_type": "display_data"
    },
    {
     "data": {
      "text/html": [
       "<span style=\"color:cyan\"> |-Trial ID: 3d9181054d1592c883c11e8dea96be9e</span>"
      ],
      "text/plain": [
       "<IPython.core.display.HTML object>"
      ]
     },
     "metadata": {},
     "output_type": "display_data"
    },
    {
     "data": {
      "text/html": [
       "<span style=\"color:cyan\"> |-Score: 0.7302623987197876</span>"
      ],
      "text/plain": [
       "<IPython.core.display.HTML object>"
      ]
     },
     "metadata": {},
     "output_type": "display_data"
    },
    {
     "data": {
      "text/html": [
       "<span style=\"color:cyan\"> |-Best step: 0</span>"
      ],
      "text/plain": [
       "<IPython.core.display.HTML object>"
      ]
     },
     "metadata": {},
     "output_type": "display_data"
    },
    {
     "data": {
      "text/html": [
       "<span style=\"color:#7E57C2\"><h2 style=\"font-size:16px\">Hyperparameters:</h2></span>"
      ],
      "text/plain": [
       "<IPython.core.display.HTML object>"
      ]
     },
     "metadata": {},
     "output_type": "display_data"
    },
    {
     "data": {
      "text/html": [
       "<span style=\"color:cyan\"> |-activation: sigmoid</span>"
      ],
      "text/plain": [
       "<IPython.core.display.HTML object>"
      ]
     },
     "metadata": {},
     "output_type": "display_data"
    },
    {
     "data": {
      "text/html": [
       "<span style=\"color:blue\"> |-first_units: 7</span>"
      ],
      "text/plain": [
       "<IPython.core.display.HTML object>"
      ]
     },
     "metadata": {},
     "output_type": "display_data"
    },
    {
     "data": {
      "text/html": [
       "<span style=\"color:cyan\"> |-num_layers: 1</span>"
      ],
      "text/plain": [
       "<IPython.core.display.HTML object>"
      ]
     },
     "metadata": {},
     "output_type": "display_data"
    },
    {
     "data": {
      "text/html": [
       "<span style=\"color:blue\"> |-tuner/bracket: 0</span>"
      ],
      "text/plain": [
       "<IPython.core.display.HTML object>"
      ]
     },
     "metadata": {},
     "output_type": "display_data"
    },
    {
     "data": {
      "text/html": [
       "<span style=\"color:cyan\"> |-tuner/epochs: 20</span>"
      ],
      "text/plain": [
       "<IPython.core.display.HTML object>"
      ]
     },
     "metadata": {},
     "output_type": "display_data"
    },
    {
     "data": {
      "text/html": [
       "<span style=\"color:blue\"> |-tuner/initial_epoch: 0</span>"
      ],
      "text/plain": [
       "<IPython.core.display.HTML object>"
      ]
     },
     "metadata": {},
     "output_type": "display_data"
    },
    {
     "data": {
      "text/html": [
       "<span style=\"color:cyan\"> |-tuner/round: 0</span>"
      ],
      "text/plain": [
       "<IPython.core.display.HTML object>"
      ]
     },
     "metadata": {},
     "output_type": "display_data"
    },
    {
     "data": {
      "text/html": [
       "<span style=\"color:blue\"> |-units_0: 9</span>"
      ],
      "text/plain": [
       "<IPython.core.display.HTML object>"
      ]
     },
     "metadata": {},
     "output_type": "display_data"
    },
    {
     "data": {
      "text/html": [
       "<span style=\"color:cyan\"> |-units_1: 7</span>"
      ],
      "text/plain": [
       "<IPython.core.display.HTML object>"
      ]
     },
     "metadata": {},
     "output_type": "display_data"
    },
    {
     "data": {
      "text/html": [
       "<span style=\"color:blue\"> |-units_2: 5</span>"
      ],
      "text/plain": [
       "<IPython.core.display.HTML object>"
      ]
     },
     "metadata": {},
     "output_type": "display_data"
    },
    {
     "data": {
      "text/html": [
       "<span style=\"color:cyan\"> |-units_3: 3</span>"
      ],
      "text/plain": [
       "<IPython.core.display.HTML object>"
      ]
     },
     "metadata": {},
     "output_type": "display_data"
    },
    {
     "data": {
      "text/html": [
       "<span style=\"color:blue\"> |-units_4: 3</span>"
      ],
      "text/plain": [
       "<IPython.core.display.HTML object>"
      ]
     },
     "metadata": {},
     "output_type": "display_data"
    },
    {
     "data": {
      "text/html": [
       "<span style=\"color:cyan\"> |-units_5: 7</span>"
      ],
      "text/plain": [
       "<IPython.core.display.HTML object>"
      ]
     },
     "metadata": {},
     "output_type": "display_data"
    },
    {
     "name": "stdout",
     "output_type": "stream",
     "text": [
      "Epoch 1/20\n",
      "804/804 [==============================] - ETA: 0s - loss: 0.6919 - accuracy: 0.56 - ETA: 0s - loss: 0.6938 - accuracy: 0.49 - ETA: 0s - loss: 0.6932 - accuracy: 0.51 - ETA: 0s - loss: 0.6929 - accuracy: 0.51 - ETA: 0s - loss: 0.6924 - accuracy: 0.51 - ETA: 0s - loss: 0.6916 - accuracy: 0.52 - ETA: 0s - loss: 0.6883 - accuracy: 0.55 - ETA: 0s - loss: 0.6821 - accuracy: 0.56 - ETA: 0s - loss: 0.6736 - accuracy: 0.58 - ETA: 0s - loss: 0.6677 - accuracy: 0.60 - ETA: 0s - loss: 0.6627 - accuracy: 0.61 - ETA: 0s - loss: 0.6569 - accuracy: 0.62 - 1s 1ms/step - loss: 0.6514 - accuracy: 0.6321 - val_loss: 0.5959 - val_accuracy: 0.7210\n",
      "Epoch 2/20\n",
      "804/804 [==============================] - ETA: 0s - loss: 0.5267 - accuracy: 0.75 - ETA: 1s - loss: 0.6078 - accuracy: 0.71 - ETA: 0s - loss: 0.5908 - accuracy: 0.72 - ETA: 0s - loss: 0.5910 - accuracy: 0.71 - ETA: 0s - loss: 0.5915 - accuracy: 0.71 - ETA: 0s - loss: 0.5871 - accuracy: 0.71 - ETA: 0s - loss: 0.5874 - accuracy: 0.71 - ETA: 0s - loss: 0.5851 - accuracy: 0.72 - ETA: 0s - loss: 0.5850 - accuracy: 0.72 - ETA: 0s - loss: 0.5839 - accuracy: 0.72 - ETA: 0s - loss: 0.5830 - accuracy: 0.72 - ETA: 0s - loss: 0.5823 - accuracy: 0.72 - 1s 964us/step - loss: 0.5825 - accuracy: 0.7217 - val_loss: 0.5769 - val_accuracy: 0.7226\n",
      "Epoch 3/20\n",
      "804/804 [==============================] - ETA: 0s - loss: 0.6957 - accuracy: 0.62 - ETA: 0s - loss: 0.5619 - accuracy: 0.72 - ETA: 0s - loss: 0.5769 - accuracy: 0.71 - ETA: 0s - loss: 0.5780 - accuracy: 0.71 - ETA: 0s - loss: 0.5756 - accuracy: 0.72 - ETA: 0s - loss: 0.5756 - accuracy: 0.71 - ETA: 0s - loss: 0.5746 - accuracy: 0.72 - ETA: 0s - loss: 0.5735 - accuracy: 0.72 - ETA: 0s - loss: 0.5748 - accuracy: 0.72 - ETA: 0s - loss: 0.5744 - accuracy: 0.72 - ETA: 0s - loss: 0.5734 - accuracy: 0.72 - 1s 874us/step - loss: 0.5729 - accuracy: 0.7230 - val_loss: 0.5729 - val_accuracy: 0.7269\n",
      "Epoch 4/20\n",
      "804/804 [==============================] - ETA: 0s - loss: 0.5564 - accuracy: 0.75 - ETA: 0s - loss: 0.5770 - accuracy: 0.71 - ETA: 0s - loss: 0.5719 - accuracy: 0.72 - ETA: 0s - loss: 0.5717 - accuracy: 0.72 - ETA: 0s - loss: 0.5720 - accuracy: 0.72 - ETA: 0s - loss: 0.5727 - accuracy: 0.72 - ETA: 0s - loss: 0.5719 - accuracy: 0.72 - ETA: 0s - loss: 0.5722 - accuracy: 0.72 - ETA: 0s - loss: 0.5727 - accuracy: 0.72 - ETA: 0s - loss: 0.5706 - accuracy: 0.72 - ETA: 0s - loss: 0.5697 - accuracy: 0.72 - 1s 869us/step - loss: 0.5699 - accuracy: 0.7247 - val_loss: 0.5699 - val_accuracy: 0.7283\n",
      "Epoch 5/20\n",
      "804/804 [==============================] - ETA: 0s - loss: 0.6540 - accuracy: 0.62 - ETA: 0s - loss: 0.5826 - accuracy: 0.71 - ETA: 0s - loss: 0.5687 - accuracy: 0.72 - ETA: 0s - loss: 0.5735 - accuracy: 0.72 - ETA: 0s - loss: 0.5725 - accuracy: 0.72 - ETA: 0s - loss: 0.5694 - accuracy: 0.72 - ETA: 0s - loss: 0.5697 - accuracy: 0.72 - ETA: 0s - loss: 0.5677 - accuracy: 0.72 - ETA: 0s - loss: 0.5676 - accuracy: 0.72 - ETA: 0s - loss: 0.5663 - accuracy: 0.72 - ETA: 0s - loss: 0.5662 - accuracy: 0.72 - 1s 834us/step - loss: 0.5664 - accuracy: 0.7265 - val_loss: 0.5690 - val_accuracy: 0.7275\n",
      "Epoch 6/20\n",
      "804/804 [==============================] - ETA: 0s - loss: 0.5355 - accuracy: 0.78 - ETA: 0s - loss: 0.5538 - accuracy: 0.73 - ETA: 0s - loss: 0.5549 - accuracy: 0.73 - ETA: 0s - loss: 0.5584 - accuracy: 0.73 - ETA: 0s - loss: 0.5623 - accuracy: 0.73 - ETA: 0s - loss: 0.5649 - accuracy: 0.72 - ETA: 0s - loss: 0.5677 - accuracy: 0.72 - ETA: 0s - loss: 0.5687 - accuracy: 0.72 - ETA: 0s - loss: 0.5661 - accuracy: 0.72 - ETA: 0s - loss: 0.5655 - accuracy: 0.72 - ETA: 0s - loss: 0.5666 - accuracy: 0.72 - 1s 913us/step - loss: 0.5653 - accuracy: 0.7280 - val_loss: 0.5685 - val_accuracy: 0.7265\n",
      "Epoch 7/20\n",
      "804/804 [==============================] - ETA: 0s - loss: 0.7504 - accuracy: 0.53 - ETA: 0s - loss: 0.5623 - accuracy: 0.74 - ETA: 0s - loss: 0.5563 - accuracy: 0.74 - ETA: 0s - loss: 0.5566 - accuracy: 0.73 - ETA: 0s - loss: 0.5627 - accuracy: 0.73 - ETA: 0s - loss: 0.5622 - accuracy: 0.73 - ETA: 0s - loss: 0.5626 - accuracy: 0.73 - ETA: 0s - loss: 0.5633 - accuracy: 0.73 - ETA: 0s - loss: 0.5616 - accuracy: 0.73 - ETA: 0s - loss: 0.5630 - accuracy: 0.73 - ETA: 0s - loss: 0.5650 - accuracy: 0.72 - ETA: 0s - loss: 0.5648 - accuracy: 0.72 - ETA: 0s - loss: 0.5650 - accuracy: 0.72 - 1s 922us/step - loss: 0.5652 - accuracy: 0.7287 - val_loss: 0.5680 - val_accuracy: 0.7273\n",
      "Epoch 8/20\n",
      "804/804 [==============================] - ETA: 0s - loss: 0.5680 - accuracy: 0.71 - ETA: 0s - loss: 0.5728 - accuracy: 0.72 - ETA: 0s - loss: 0.5687 - accuracy: 0.72 - ETA: 0s - loss: 0.5681 - accuracy: 0.72 - ETA: 0s - loss: 0.5659 - accuracy: 0.72 - ETA: 0s - loss: 0.5653 - accuracy: 0.72 - ETA: 0s - loss: 0.5633 - accuracy: 0.73 - ETA: 0s - loss: 0.5628 - accuracy: 0.73 - ETA: 0s - loss: 0.5629 - accuracy: 0.73 - ETA: 0s - loss: 0.5641 - accuracy: 0.72 - ETA: 0s - loss: 0.5643 - accuracy: 0.72 - ETA: 0s - loss: 0.5648 - accuracy: 0.72 - 1s 944us/step - loss: 0.5648 - accuracy: 0.7285 - val_loss: 0.5676 - val_accuracy: 0.7272\n",
      "Epoch 9/20\n",
      "804/804 [==============================] - ETA: 0s - loss: 0.7422 - accuracy: 0.46 - ETA: 0s - loss: 0.5661 - accuracy: 0.72 - ETA: 0s - loss: 0.5742 - accuracy: 0.71 - ETA: 0s - loss: 0.5693 - accuracy: 0.72 - ETA: 0s - loss: 0.5644 - accuracy: 0.72 - ETA: 0s - loss: 0.5639 - accuracy: 0.72 - ETA: 0s - loss: 0.5639 - accuracy: 0.72 - ETA: 0s - loss: 0.5644 - accuracy: 0.72 - ETA: 0s - loss: 0.5639 - accuracy: 0.72 - ETA: 0s - loss: 0.5652 - accuracy: 0.72 - ETA: 0s - loss: 0.5648 - accuracy: 0.72 - ETA: 0s - loss: 0.5645 - accuracy: 0.72 - 1s 856us/step - loss: 0.5646 - accuracy: 0.7279 - val_loss: 0.5681 - val_accuracy: 0.7275\n",
      "Epoch 10/20\n",
      "804/804 [==============================] - ETA: 0s - loss: 0.5423 - accuracy: 0.78 - ETA: 0s - loss: 0.5722 - accuracy: 0.72 - ETA: 0s - loss: 0.5806 - accuracy: 0.71 - ETA: 0s - loss: 0.5723 - accuracy: 0.71 - ETA: 0s - loss: 0.5662 - accuracy: 0.72 - ETA: 0s - loss: 0.5665 - accuracy: 0.72 - ETA: 0s - loss: 0.5655 - accuracy: 0.72 - ETA: 0s - loss: 0.5657 - accuracy: 0.72 - ETA: 0s - loss: 0.5659 - accuracy: 0.72 - ETA: 0s - loss: 0.5651 - accuracy: 0.72 - ETA: 0s - loss: 0.5637 - accuracy: 0.72 - 1s 824us/step - loss: 0.5643 - accuracy: 0.7279 - val_loss: 0.5682 - val_accuracy: 0.7273\n",
      "Epoch 11/20\n",
      "804/804 [==============================] - ETA: 0s - loss: 0.6192 - accuracy: 0.68 - ETA: 0s - loss: 0.5551 - accuracy: 0.73 - ETA: 0s - loss: 0.5585 - accuracy: 0.72 - ETA: 0s - loss: 0.5555 - accuracy: 0.73 - ETA: 0s - loss: 0.5580 - accuracy: 0.73 - ETA: 0s - loss: 0.5594 - accuracy: 0.73 - ETA: 0s - loss: 0.5578 - accuracy: 0.73 - ETA: 0s - loss: 0.5601 - accuracy: 0.73 - ETA: 0s - loss: 0.5621 - accuracy: 0.72 - ETA: 0s - loss: 0.5626 - accuracy: 0.72 - ETA: 0s - loss: 0.5647 - accuracy: 0.72 - ETA: 0s - loss: 0.5645 - accuracy: 0.72 - ETA: 0s - loss: 0.5644 - accuracy: 0.72 - 1s 972us/step - loss: 0.5641 - accuracy: 0.7282 - val_loss: 0.5694 - val_accuracy: 0.7272\n",
      "Epoch 12/20\n",
      "804/804 [==============================] - ETA: 0s - loss: 0.6674 - accuracy: 0.65 - ETA: 0s - loss: 0.5716 - accuracy: 0.72 - ETA: 0s - loss: 0.5540 - accuracy: 0.73 - ETA: 0s - loss: 0.5586 - accuracy: 0.73 - ETA: 0s - loss: 0.5626 - accuracy: 0.72 - ETA: 0s - loss: 0.5664 - accuracy: 0.72 - ETA: 0s - loss: 0.5688 - accuracy: 0.72 - ETA: 0s - loss: 0.5713 - accuracy: 0.72 - ETA: 0s - loss: 0.5705 - accuracy: 0.72 - ETA: 0s - loss: 0.5692 - accuracy: 0.72 - ETA: 0s - loss: 0.5683 - accuracy: 0.72 - ETA: 0s - loss: 0.5664 - accuracy: 0.72 - 1s 888us/step - loss: 0.5639 - accuracy: 0.7284 - val_loss: 0.5684 - val_accuracy: 0.7269\n",
      "Epoch 13/20\n"
     ]
    },
    {
     "name": "stdout",
     "output_type": "stream",
     "text": [
      "804/804 [==============================] - ETA: 0s - loss: 0.6068 - accuracy: 0.71 - ETA: 0s - loss: 0.5819 - accuracy: 0.71 - ETA: 0s - loss: 0.5611 - accuracy: 0.73 - ETA: 0s - loss: 0.5614 - accuracy: 0.73 - ETA: 0s - loss: 0.5613 - accuracy: 0.73 - ETA: 0s - loss: 0.5625 - accuracy: 0.73 - ETA: 0s - loss: 0.5630 - accuracy: 0.73 - ETA: 0s - loss: 0.5633 - accuracy: 0.72 - ETA: 0s - loss: 0.5629 - accuracy: 0.72 - ETA: 0s - loss: 0.5649 - accuracy: 0.72 - ETA: 0s - loss: 0.5644 - accuracy: 0.72 - ETA: 0s - loss: 0.5645 - accuracy: 0.72 - 1s 854us/step - loss: 0.5640 - accuracy: 0.7282 - val_loss: 0.5672 - val_accuracy: 0.7257\n",
      "Epoch 14/20\n",
      "804/804 [==============================] - ETA: 0s - loss: 0.7629 - accuracy: 0.62 - ETA: 0s - loss: 0.5517 - accuracy: 0.73 - ETA: 0s - loss: 0.5611 - accuracy: 0.72 - ETA: 0s - loss: 0.5637 - accuracy: 0.72 - ETA: 0s - loss: 0.5610 - accuracy: 0.72 - ETA: 0s - loss: 0.5608 - accuracy: 0.72 - ETA: 0s - loss: 0.5622 - accuracy: 0.72 - ETA: 0s - loss: 0.5607 - accuracy: 0.72 - ETA: 0s - loss: 0.5606 - accuracy: 0.72 - ETA: 0s - loss: 0.5612 - accuracy: 0.72 - ETA: 0s - loss: 0.5634 - accuracy: 0.72 - ETA: 0s - loss: 0.5637 - accuracy: 0.72 - ETA: 0s - loss: 0.5647 - accuracy: 0.72 - ETA: 0s - loss: 0.5640 - accuracy: 0.72 - 1s 1ms/step - loss: 0.5637 - accuracy: 0.7273 - val_loss: 0.5675 - val_accuracy: 0.7256\n",
      "Epoch 15/20\n",
      "804/804 [==============================] - ETA: 0s - loss: 0.6050 - accuracy: 0.68 - ETA: 0s - loss: 0.5661 - accuracy: 0.72 - ETA: 0s - loss: 0.5692 - accuracy: 0.72 - ETA: 0s - loss: 0.5698 - accuracy: 0.72 - ETA: 0s - loss: 0.5681 - accuracy: 0.72 - ETA: 0s - loss: 0.5646 - accuracy: 0.72 - ETA: 0s - loss: 0.5663 - accuracy: 0.72 - ETA: 0s - loss: 0.5656 - accuracy: 0.72 - ETA: 0s - loss: 0.5649 - accuracy: 0.72 - ETA: 0s - loss: 0.5647 - accuracy: 0.72 - ETA: 0s - loss: 0.5653 - accuracy: 0.72 - ETA: 0s - loss: 0.5645 - accuracy: 0.72 - 1s 868us/step - loss: 0.5638 - accuracy: 0.7284 - val_loss: 0.5674 - val_accuracy: 0.7258\n",
      "Epoch 16/20\n",
      "804/804 [==============================] - ETA: 0s - loss: 0.5861 - accuracy: 0.68 - ETA: 0s - loss: 0.5679 - accuracy: 0.72 - ETA: 0s - loss: 0.5733 - accuracy: 0.71 - ETA: 0s - loss: 0.5698 - accuracy: 0.72 - ETA: 0s - loss: 0.5694 - accuracy: 0.72 - ETA: 0s - loss: 0.5665 - accuracy: 0.72 - ETA: 0s - loss: 0.5648 - accuracy: 0.72 - ETA: 0s - loss: 0.5646 - accuracy: 0.72 - ETA: 0s - loss: 0.5646 - accuracy: 0.72 - ETA: 0s - loss: 0.5627 - accuracy: 0.72 - ETA: 0s - loss: 0.5641 - accuracy: 0.72 - ETA: 0s - loss: 0.5636 - accuracy: 0.72 - 1s 888us/step - loss: 0.5636 - accuracy: 0.7282 - val_loss: 0.5670 - val_accuracy: 0.7259\n",
      "Epoch 17/20\n",
      "804/804 [==============================] - ETA: 0s - loss: 0.5150 - accuracy: 0.78 - ETA: 0s - loss: 0.5717 - accuracy: 0.71 - ETA: 0s - loss: 0.5687 - accuracy: 0.72 - ETA: 0s - loss: 0.5741 - accuracy: 0.71 - ETA: 0s - loss: 0.5697 - accuracy: 0.72 - ETA: 0s - loss: 0.5694 - accuracy: 0.72 - ETA: 0s - loss: 0.5693 - accuracy: 0.72 - ETA: 0s - loss: 0.5676 - accuracy: 0.72 - ETA: 0s - loss: 0.5678 - accuracy: 0.72 - ETA: 0s - loss: 0.5683 - accuracy: 0.72 - ETA: 0s - loss: 0.5662 - accuracy: 0.72 - ETA: 0s - loss: 0.5644 - accuracy: 0.72 - ETA: 0s - loss: 0.5644 - accuracy: 0.72 - ETA: 0s - loss: 0.5637 - accuracy: 0.72 - 1s 1ms/step - loss: 0.5636 - accuracy: 0.7285 - val_loss: 0.5677 - val_accuracy: 0.7258\n",
      "Epoch 18/20\n",
      "804/804 [==============================] - ETA: 0s - loss: 0.7057 - accuracy: 0.62 - ETA: 0s - loss: 0.5767 - accuracy: 0.71 - ETA: 0s - loss: 0.5626 - accuracy: 0.72 - ETA: 0s - loss: 0.5600 - accuracy: 0.72 - ETA: 0s - loss: 0.5604 - accuracy: 0.72 - ETA: 0s - loss: 0.5617 - accuracy: 0.72 - ETA: 0s - loss: 0.5600 - accuracy: 0.73 - ETA: 0s - loss: 0.5637 - accuracy: 0.72 - ETA: 0s - loss: 0.5646 - accuracy: 0.72 - ETA: 0s - loss: 0.5660 - accuracy: 0.72 - ETA: 0s - loss: 0.5652 - accuracy: 0.72 - ETA: 0s - loss: 0.5655 - accuracy: 0.72 - ETA: 0s - loss: 0.5632 - accuracy: 0.72 - 1s 990us/step - loss: 0.5635 - accuracy: 0.7279 - val_loss: 0.5673 - val_accuracy: 0.7266\n",
      "Epoch 19/20\n",
      "804/804 [==============================] - ETA: 0s - loss: 0.5805 - accuracy: 0.71 - ETA: 0s - loss: 0.5708 - accuracy: 0.72 - ETA: 0s - loss: 0.5710 - accuracy: 0.72 - ETA: 0s - loss: 0.5648 - accuracy: 0.72 - ETA: 0s - loss: 0.5623 - accuracy: 0.73 - ETA: 0s - loss: 0.5636 - accuracy: 0.72 - ETA: 0s - loss: 0.5646 - accuracy: 0.72 - ETA: 0s - loss: 0.5622 - accuracy: 0.72 - ETA: 0s - loss: 0.5639 - accuracy: 0.72 - ETA: 0s - loss: 0.5631 - accuracy: 0.72 - ETA: 0s - loss: 0.5631 - accuracy: 0.72 - 1s 805us/step - loss: 0.5636 - accuracy: 0.7279 - val_loss: 0.5668 - val_accuracy: 0.7259\n",
      "Epoch 20/20\n",
      "804/804 [==============================] - ETA: 0s - loss: 0.5044 - accuracy: 0.75 - ETA: 0s - loss: 0.5670 - accuracy: 0.72 - ETA: 0s - loss: 0.5689 - accuracy: 0.72 - ETA: 0s - loss: 0.5731 - accuracy: 0.71 - ETA: 0s - loss: 0.5677 - accuracy: 0.72 - ETA: 0s - loss: 0.5678 - accuracy: 0.72 - ETA: 0s - loss: 0.5652 - accuracy: 0.72 - ETA: 0s - loss: 0.5641 - accuracy: 0.72 - ETA: 0s - loss: 0.5660 - accuracy: 0.72 - ETA: 0s - loss: 0.5643 - accuracy: 0.72 - ETA: 0s - loss: 0.5631 - accuracy: 0.72 - 1s 804us/step - loss: 0.5631 - accuracy: 0.7284 - val_loss: 0.5672 - val_accuracy: 0.7276\n"
     ]
    },
    {
     "data": {
      "text/html": [
       "<span style=\"color:#4527A0\"><h1 style=\"font-size:18px\">Trial complete</h1></span>"
      ],
      "text/plain": [
       "<IPython.core.display.HTML object>"
      ]
     },
     "metadata": {},
     "output_type": "display_data"
    },
    {
     "data": {
      "text/html": [
       "<span style=\"color:#4527A0\"><h1 style=\"font-size:18px\">Trial summary</h1></span>"
      ],
      "text/plain": [
       "<IPython.core.display.HTML object>"
      ]
     },
     "metadata": {},
     "output_type": "display_data"
    },
    {
     "data": {
      "text/html": [
       "<span style=\"color:cyan\"> |-Trial ID: 8696cd6978695ef8ec8fbfc08ea838b2</span>"
      ],
      "text/plain": [
       "<IPython.core.display.HTML object>"
      ]
     },
     "metadata": {},
     "output_type": "display_data"
    },
    {
     "data": {
      "text/html": [
       "<span style=\"color:cyan\"> |-Score: 0.7282798886299133</span>"
      ],
      "text/plain": [
       "<IPython.core.display.HTML object>"
      ]
     },
     "metadata": {},
     "output_type": "display_data"
    },
    {
     "data": {
      "text/html": [
       "<span style=\"color:cyan\"> |-Best step: 0</span>"
      ],
      "text/plain": [
       "<IPython.core.display.HTML object>"
      ]
     },
     "metadata": {},
     "output_type": "display_data"
    },
    {
     "data": {
      "text/html": [
       "<span style=\"color:#7E57C2\"><h2 style=\"font-size:16px\">Hyperparameters:</h2></span>"
      ],
      "text/plain": [
       "<IPython.core.display.HTML object>"
      ]
     },
     "metadata": {},
     "output_type": "display_data"
    },
    {
     "data": {
      "text/html": [
       "<span style=\"color:cyan\"> |-activation: relu</span>"
      ],
      "text/plain": [
       "<IPython.core.display.HTML object>"
      ]
     },
     "metadata": {},
     "output_type": "display_data"
    },
    {
     "data": {
      "text/html": [
       "<span style=\"color:blue\"> |-first_units: 3</span>"
      ],
      "text/plain": [
       "<IPython.core.display.HTML object>"
      ]
     },
     "metadata": {},
     "output_type": "display_data"
    },
    {
     "data": {
      "text/html": [
       "<span style=\"color:cyan\"> |-num_layers: 2</span>"
      ],
      "text/plain": [
       "<IPython.core.display.HTML object>"
      ]
     },
     "metadata": {},
     "output_type": "display_data"
    },
    {
     "data": {
      "text/html": [
       "<span style=\"color:blue\"> |-tuner/bracket: 0</span>"
      ],
      "text/plain": [
       "<IPython.core.display.HTML object>"
      ]
     },
     "metadata": {},
     "output_type": "display_data"
    },
    {
     "data": {
      "text/html": [
       "<span style=\"color:cyan\"> |-tuner/epochs: 20</span>"
      ],
      "text/plain": [
       "<IPython.core.display.HTML object>"
      ]
     },
     "metadata": {},
     "output_type": "display_data"
    },
    {
     "data": {
      "text/html": [
       "<span style=\"color:blue\"> |-tuner/initial_epoch: 0</span>"
      ],
      "text/plain": [
       "<IPython.core.display.HTML object>"
      ]
     },
     "metadata": {},
     "output_type": "display_data"
    },
    {
     "data": {
      "text/html": [
       "<span style=\"color:cyan\"> |-tuner/round: 0</span>"
      ],
      "text/plain": [
       "<IPython.core.display.HTML object>"
      ]
     },
     "metadata": {},
     "output_type": "display_data"
    },
    {
     "data": {
      "text/html": [
       "<span style=\"color:blue\"> |-units_0: 7</span>"
      ],
      "text/plain": [
       "<IPython.core.display.HTML object>"
      ]
     },
     "metadata": {},
     "output_type": "display_data"
    },
    {
     "data": {
      "text/html": [
       "<span style=\"color:cyan\"> |-units_1: 1</span>"
      ],
      "text/plain": [
       "<IPython.core.display.HTML object>"
      ]
     },
     "metadata": {},
     "output_type": "display_data"
    },
    {
     "data": {
      "text/html": [
       "<span style=\"color:blue\"> |-units_2: 3</span>"
      ],
      "text/plain": [
       "<IPython.core.display.HTML object>"
      ]
     },
     "metadata": {},
     "output_type": "display_data"
    },
    {
     "data": {
      "text/html": [
       "<span style=\"color:cyan\"> |-units_3: 3</span>"
      ],
      "text/plain": [
       "<IPython.core.display.HTML object>"
      ]
     },
     "metadata": {},
     "output_type": "display_data"
    },
    {
     "data": {
      "text/html": [
       "<span style=\"color:blue\"> |-units_4: 5</span>"
      ],
      "text/plain": [
       "<IPython.core.display.HTML object>"
      ]
     },
     "metadata": {},
     "output_type": "display_data"
    },
    {
     "data": {
      "text/html": [
       "<span style=\"color:cyan\"> |-units_5: 7</span>"
      ],
      "text/plain": [
       "<IPython.core.display.HTML object>"
      ]
     },
     "metadata": {},
     "output_type": "display_data"
    },
    {
     "name": "stdout",
     "output_type": "stream",
     "text": [
      "INFO:tensorflow:Oracle triggered exit\n"
     ]
    }
   ],
   "source": [
    "# Run the kerastuner search for best hyperparameters\n",
    "#tuner.search(X_train_scaled,y_train,epochs=20,validation_data=(X_test_scaled,y_test))"
   ]
  },
  {
   "cell_type": "code",
   "execution_count": 49,
   "metadata": {
    "scrolled": true
   },
   "outputs": [
    {
     "data": {
      "text/plain": [
       "{'activation': 'tanh',\n",
       " 'first_units': 7,\n",
       " 'num_layers': 4,\n",
       " 'units_0': 7,\n",
       " 'units_1': 7,\n",
       " 'units_2': 9,\n",
       " 'units_3': 9,\n",
       " 'units_4': 9,\n",
       " 'units_5': 1,\n",
       " 'tuner/epochs': 20,\n",
       " 'tuner/initial_epoch': 7,\n",
       " 'tuner/bracket': 2,\n",
       " 'tuner/round': 2,\n",
       " 'tuner/trial_id': '2e4d1bba3af367347a1d3dd3879daa08'}"
      ]
     },
     "execution_count": 49,
     "metadata": {},
     "output_type": "execute_result"
    }
   ],
   "source": [
    "# Get best model hyperparameters\n",
    "#best_hyper = tuner.get_best_hyperparameters(1)[0]\n",
    "#best_hyper.values"
   ]
  },
  {
   "cell_type": "code",
   "execution_count": 30,
   "metadata": {},
   "outputs": [
    {
     "name": "stdout",
     "output_type": "stream",
     "text": [
      "WARNING:tensorflow:Callbacks method `on_test_batch_end` is slow compared to the batch time (batch time: 0.0000s vs `on_test_batch_end` time: 0.0010s). Check your callbacks.\n",
      "268/268 - 0s - loss: 0.5541 - accuracy: 0.7328\n",
      "Loss: 0.5540841221809387, Accuracy: 0.7328279614448547\n"
     ]
    }
   ],
   "source": [
    "# Evaluate best model against full test data\n",
    "#best_model = tuner.get_best_models(1)[0]\n",
    "#model_loss, model_accuracy = best_model.evaluate(X_test_scaled,y_test,verbose=2)\n",
    "#print(f\"Loss: {model_loss}, Accuracy: {model_accuracy}\")"
   ]
  },
  {
   "cell_type": "markdown",
   "metadata": {},
   "source": [
    "## Attempt 1 - Additional neurons added to hidden layers"
   ]
  },
  {
   "cell_type": "code",
   "execution_count": 78,
   "metadata": {},
   "outputs": [
    {
     "name": "stdout",
     "output_type": "stream",
     "text": [
      "Model: \"sequential_10\"\n",
      "_________________________________________________________________\n",
      "Layer (type)                 Output Shape              Param #   \n",
      "=================================================================\n",
      "dense_42 (Dense)             (None, 100)               4500      \n",
      "_________________________________________________________________\n",
      "dense_43 (Dense)             (None, 50)                5050      \n",
      "_________________________________________________________________\n",
      "dense_44 (Dense)             (None, 1)                 51        \n",
      "=================================================================\n",
      "Total params: 9,601\n",
      "Trainable params: 9,601\n",
      "Non-trainable params: 0\n",
      "_________________________________________________________________\n"
     ]
    }
   ],
   "source": [
    "# Define the model - deep neural net, i.e., the number of input features and hidden nodes for each layer.\n",
    "number_input_features = len(X_train[0])\n",
    "hidden_nodes_layer1 =  100\n",
    "hidden_nodes_layer2 = 50\n",
    "\n",
    "nn = tf.keras.models.Sequential()\n",
    "\n",
    "# First hidden layer\n",
    "nn.add(tf.keras.layers.Dense(units=hidden_nodes_layer1, input_dim=number_input_features, activation=\"relu\"))\n",
    "\n",
    "# Second hidden layer\n",
    "nn.add(tf.keras.layers.Dense(units=hidden_nodes_layer2, activation=\"relu\"))\n",
    "\n",
    "# Output layer\n",
    "nn.add(tf.keras.layers.Dense(units=1, activation=\"sigmoid\"))\n",
    "\n",
    "# Check the structure of the model\n",
    "nn.summary()"
   ]
  },
  {
   "cell_type": "code",
   "execution_count": 79,
   "metadata": {},
   "outputs": [],
   "source": [
    "# Import checkpoint dependencies\n",
    "import os\n",
    "from tensorflow.keras.callbacks import ModelCheckpoint\n",
    "\n",
    "# Define the checkpoint path and filenames\n",
    "os.makedirs(\"checkpoints/\",exist_ok=True)\n",
    "checkpoint_path = \"checkpoints/weights.{epoch:02d}.hdf5\""
   ]
  },
  {
   "cell_type": "code",
   "execution_count": 80,
   "metadata": {},
   "outputs": [],
   "source": [
    "# Compile the model\n",
    "nn.compile(loss=\"binary_crossentropy\", optimizer=\"adam\", metrics=[\"accuracy\"])"
   ]
  },
  {
   "cell_type": "code",
   "execution_count": 81,
   "metadata": {},
   "outputs": [],
   "source": [
    "# Create a callback that saves the model's weights every 5 epochs\n",
    "cp_callback = ModelCheckpoint(\n",
    "    filepath=checkpoint_path,\n",
    "    verbose=1,\n",
    "    save_weights_only=True,\n",
    "    save_freq=100)"
   ]
  },
  {
   "cell_type": "code",
   "execution_count": 82,
   "metadata": {},
   "outputs": [
    {
     "name": "stdout",
     "output_type": "stream",
     "text": [
      "Epoch 1/100\n",
      "804/804 [==============================] - ETA: 0s - loss: 59848.6172 - accuracy: 0.53 - ETA: 0s - loss: 19921.3066 - accuracy: 0.48 - ETA: 0s - loss: 103440.2188 - accuracy: 0.515 - ETA: 0s - loss: 69509.2500 - accuracy: 0.498 - ETA: 0s - loss: 62289.4766 - accuracy: 0.49 - ETA: 0s - loss: 53104.1172 - accuracy: 0.49 - ETA: 0s - loss: 44342.1211 - accuracy: 0.49 - ETA: 0s - loss: 39423.7227 - accuracy: 0.49 - ETA: 0s - loss: 47566.7617 - accuracy: 0.49 - ETA: 0s - loss: 44425.4570 - accuracy: 0.49 - ETA: 0s - loss: 41143.7617 - accuracy: 0.49 - ETA: 0s - loss: 38126.3672 - accuracy: 0.49 - ETA: 0s - loss: 57101.6562 - accuracy: 0.49 - ETA: 0s - loss: 54508.6680 - accuracy: 0.49 - ETA: 0s - loss: 54827.8945 - accuracy: 0.48 - ETA: 0s - loss: 55287.5625 - accuracy: 0.48 - 1s 993us/step - loss: 53373.1094 - accuracy: 0.4860\n",
      "Epoch 2/100\n",
      "804/804 [==============================] - ETA: 0s - loss: 487.9547 - accuracy: 0.56 - ETA: 0s - loss: 1278.3209 - accuracy: 0.459 - ETA: 0s - loss: 16649.8613 - accuracy: 0.48 - ETA: 0s - loss: 24819.9551 - accuracy: 0.48 - ETA: 0s - loss: 81335.9297 - accuracy: 0.48 - ETA: 0s - loss: 92018.8203 - accuracy: 0.47 - ETA: 0s - loss: 99533.7344 - accuracy: 0.47 - ETA: 0s - loss: 84845.3828 - accuracy: 0.48 - ETA: 0s - loss: 76630.3203 - accuracy: 0.48 - ETA: 0s - loss: 71419.2422 - accuracy: 0.48 - ETA: 0s - loss: 64410.3711 - accuracy: 0.48 - ETA: 0s - loss: 58980.3398 - accuracy: 0.48 - ETA: 0s - loss: 54405.8320 - accuracy: 0.48 - ETA: 0s - loss: 50433.3398 - accuracy: 0.48 - ETA: 0s - loss: 53568.1719 - accuracy: 0.48 - ETA: 0s - loss: 50831.0078 - accuracy: 0.48 - ETA: 0s - loss: 48160.7188 - accuracy: 0.48 - 1s 1ms/step - loss: 48092.3438 - accuracy: 0.4838\n",
      "Epoch 3/100\n",
      "804/804 [==============================] - ETA: 0s - loss: 65.4871 - accuracy: 0.468 - ETA: 0s - loss: 21484.4395 - accuracy: 0.48 - ETA: 0s - loss: 24071.0703 - accuracy: 0.47 - ETA: 0s - loss: 50816.8906 - accuracy: 0.48 - ETA: 0s - loss: 40866.3828 - accuracy: 0.47 - ETA: 0s - loss: 33799.5664 - accuracy: 0.48 - ETA: 0s - loss: 29729.4336 - accuracy: 0.48 - ETA: 0s - loss: 26014.0312 - accuracy: 0.48 - ETA: 0s - loss: 27179.3672 - accuracy: 0.48 - ETA: 0s - loss: 46825.9414 - accuracy: 0.48 - ETA: 0s - loss: 101270.7500 - accuracy: 0.482 - ETA: 0s - loss: 117779.1641 - accuracy: 0.487 - ETA: 0s - loss: 112323.3047 - accuracy: 0.490 - ETA: 0s - loss: 103972.8672 - accuracy: 0.491 - ETA: 0s - loss: 96547.9531 - accuracy: 0.493 - ETA: 0s - loss: 89411.4297 - accuracy: 0.49 - ETA: 0s - loss: 84916.6719 - accuracy: 0.49 - ETA: 0s - loss: 87712.3828 - accuracy: 0.48 - 1s 1ms/step - loss: 91541.4062 - accuracy: 0.4887\n",
      "Epoch 4/100\n",
      "804/804 [==============================] - ETA: 0s - loss: 12151.9668 - accuracy: 0.40 - ETA: 0s - loss: 37346.7617 - accuracy: 0.44 - ETA: 0s - loss: 80838.9141 - accuracy: 0.46 - ETA: 0s - loss: 67458.1719 - accuracy: 0.46 - ETA: 0s - loss: 50214.1406 - accuracy: 0.46 - ETA: 0s - loss: 42424.6953 - accuracy: 0.47 - ETA: 0s - loss: 40108.8477 - accuracy: 0.48 - ETA: 0s - loss: 34715.1602 - accuracy: 0.48 - ETA: 0s - loss: 32396.9375 - accuracy: 0.48 - ETA: 0s - loss: 28887.1738 - accuracy: 0.48 - ETA: 0s - loss: 37334.0000 - accuracy: 0.48 - ETA: 0s - loss: 43749.7266 - accuracy: 0.48 - ETA: 0s - loss: 77101.4844 - accuracy: 0.49 - ETA: 0s - loss: 73633.6250 - accuracy: 0.49 - ETA: 0s - loss: 69420.0312 - accuracy: 0.49 - ETA: 0s - loss: 65872.8906 - accuracy: 0.48 - 1s 992us/step - loss: 64072.1797 - accuracy: 0.4883\n",
      "Epoch 5/100\n",
      "804/804 [==============================] - ETA: 0s - loss: 7915.7769 - accuracy: 0.437 - ETA: 0s - loss: 13114.9766 - accuracy: 0.46 - ETA: 0s - loss: 13248.3691 - accuracy: 0.46 - ETA: 0s - loss: 12483.9102 - accuracy: 0.47 - ETA: 0s - loss: 13744.6992 - accuracy: 0.47 - ETA: 0s - loss: 16124.9043 - accuracy: 0.47 - ETA: 0s - loss: 17248.1738 - accuracy: 0.47 - ETA: 0s - loss: 76534.5234 - accuracy: 0.47 - ETA: 0s - loss: 67499.5391 - accuracy: 0.47 - ETA: 0s - loss: 60208.4414 - accuracy: 0.47 - ETA: 0s - loss: 54912.9297 - accuracy: 0.48 - ETA: 0s - loss: 50336.9297 - accuracy: 0.48 - ETA: 0s - loss: 46815.5547 - accuracy: 0.48 - ETA: 0s - loss: 44341.8750 - accuracy: 0.48 - ETA: 0s - loss: 41915.8945 - accuracy: 0.48 - ETA: 0s - loss: 39019.0078 - accuracy: 0.49 - 1s 980us/step - loss: 37845.2266 - accuracy: 0.4946\n",
      "Epoch 6/100\n",
      "804/804 [==============================] - ETA: 0s - loss: 1145.4347 - accuracy: 0.250 - ETA: 1s - loss: 8263.6143 - accuracy: 0.527 - ETA: 0s - loss: 14313.1406 - accuracy: 0.52 - ETA: 0s - loss: 9471.1494 - accuracy: 0.5163 - ETA: 0s - loss: 6887.1089 - accuracy: 0.522 - ETA: 0s - loss: 6090.8315 - accuracy: 0.514 - ETA: 0s - loss: 5069.7749 - accuracy: 0.518 - ETA: 0s - loss: 4425.1655 - accuracy: 0.518 - ETA: 0s - loss: 4914.3882 - accuracy: 0.512 - ETA: 0s - loss: 32261.4883 - accuracy: 0.51 - ETA: 0s - loss: 42926.7188 - accuracy: 0.50 - ETA: 0s - loss: 39786.3789 - accuracy: 0.50 - ETA: 0s - loss: 37040.6094 - accuracy: 0.50 - ETA: 0s - loss: 34688.8242 - accuracy: 0.49 - ETA: 0s - loss: 33138.2227 - accuracy: 0.49 - ETA: 0s - loss: 34547.4492 - accuracy: 0.49 - ETA: 0s - loss: 32617.4941 - accuracy: 0.49 - ETA: 0s - loss: 31045.8945 - accuracy: 0.49 - ETA: 0s - loss: 29295.4551 - accuracy: 0.49 - 1s 1ms/step - loss: 28405.5039 - accuracy: 0.4919\n",
      "Epoch 7/100\n",
      "804/804 [==============================] - ETA: 0s - loss: 7032.2461 - accuracy: 0.343 - ETA: 0s - loss: 1105.0532 - accuracy: 0.541 - ETA: 0s - loss: 711.1336 - accuracy: 0.528 - ETA: 0s - loss: 16109.3223 - accuracy: 0.50 - ETA: 0s - loss: 12761.8623 - accuracy: 0.50 - ETA: 0s - loss: 21771.5488 - accuracy: 0.51 - ETA: 0s - loss: 18179.9473 - accuracy: 0.52 - ETA: 0s - loss: 15883.3242 - accuracy: 0.52 - ETA: 0s - loss: 14254.9268 - accuracy: 0.51 - ETA: 0s - loss: 13363.1904 - accuracy: 0.51 - ETA: 0s - loss: 12248.5332 - accuracy: 0.51 - ETA: 0s - loss: 11360.8975 - accuracy: 0.51 - ETA: 0s - loss: 11187.8984 - accuracy: 0.51 - ETA: 0s - loss: 10612.5498 - accuracy: 0.51 - ETA: 0s - loss: 10046.2148 - accuracy: 0.50 - ETA: 0s - loss: 9497.0469 - accuracy: 0.5099 - ETA: 0s - loss: 9119.1250 - accuracy: 0.509 - 1s 1ms/step - loss: 8964.3516 - accuracy: 0.5093\n",
      "Epoch 8/100\n",
      "804/804 [==============================] - ETA: 0s - loss: 148.0967 - accuracy: 0.65 - ETA: 0s - loss: 148.2584 - accuracy: 0.52 - ETA: 0s - loss: 20361.3438 - accuracy: 0.49 - ETA: 0s - loss: 60849.6562 - accuracy: 0.48 - ETA: 0s - loss: 51097.4453 - accuracy: 0.49 - ETA: 0s - loss: 44106.4648 - accuracy: 0.50 - ETA: 0s - loss: 38408.8320 - accuracy: 0.50 - ETA: 0s - loss: 32937.3281 - accuracy: 0.51 - ETA: 0s - loss: 28506.1035 - accuracy: 0.51 - ETA: 0s - loss: 25291.5898 - accuracy: 0.52 - ETA: 0s - loss: 22596.6875 - accuracy: 0.52 - ETA: 0s - loss: 20658.0449 - accuracy: 0.51 - ETA: 0s - loss: 19282.6973 - accuracy: 0.51 - ETA: 0s - loss: 18164.9941 - accuracy: 0.51 - ETA: 0s - loss: 17062.3164 - accuracy: 0.51 - ETA: 0s - loss: 16102.3818 - accuracy: 0.51 - ETA: 0s - loss: 15243.6279 - accuracy: 0.51 - ETA: 0s - loss: 14444.2354 - accuracy: 0.51 - 1s 1ms/step - loss: 14260.7568 - accuracy: 0.5150\n",
      "Epoch 9/100\n",
      "804/804 [==============================] - ETA: 0s - loss: 5465.2158 - accuracy: 0.468 - ETA: 0s - loss: 2407.1677 - accuracy: 0.472 - ETA: 0s - loss: 1479.7444 - accuracy: 0.463 - ETA: 0s - loss: 1182.9694 - accuracy: 0.481 - ETA: 0s - loss: 832.2045 - accuracy: 0.492 - ETA: 0s - loss: 10339.0283 - accuracy: 0.50 - ETA: 0s - loss: 10325.6182 - accuracy: 0.50 - ETA: 0s - loss: 8987.6396 - accuracy: 0.5091 - ETA: 0s - loss: 7921.8438 - accuracy: 0.514 - ETA: 0s - loss: 7172.7886 - accuracy: 0.515 - ETA: 0s - loss: 6382.9097 - accuracy: 0.518 - ETA: 0s - loss: 5846.7827 - accuracy: 0.521 - ETA: 0s - loss: 5399.1196 - accuracy: 0.522 - ETA: 0s - loss: 4985.0703 - accuracy: 0.522 - ETA: 0s - loss: 4717.6152 - accuracy: 0.523 - ETA: 0s - loss: 4412.9814 - accuracy: 0.522 - ETA: 0s - loss: 4230.3984 - accuracy: 0.520 - 1s 1ms/step - loss: 4117.5723 - accuracy: 0.5199\n",
      "Epoch 10/100\n"
     ]
    },
    {
     "name": "stdout",
     "output_type": "stream",
     "text": [
      "804/804 [==============================] - ETA: 0s - loss: 16.6871 - accuracy: 0.500 - ETA: 0s - loss: 1348.8248 - accuracy: 0.471 - ETA: 0s - loss: 1908.5079 - accuracy: 0.486 - ETA: 0s - loss: 1264.2114 - accuracy: 0.501 - ETA: 0s - loss: 2452.9058 - accuracy: 0.512 - ETA: 0s - loss: 3359.9807 - accuracy: 0.520 - ETA: 0s - loss: 21061.7129 - accuracy: 0.52 - ETA: 0s - loss: 18787.7969 - accuracy: 0.51 - ETA: 0s - loss: 16727.4609 - accuracy: 0.51 - ETA: 0s - loss: 14905.7803 - accuracy: 0.51 - ETA: 0s - loss: 13314.9014 - accuracy: 0.51 - ETA: 0s - loss: 12146.4375 - accuracy: 0.51 - ETA: 0s - loss: 11198.8857 - accuracy: 0.51 - ETA: 0s - loss: 10514.3760 - accuracy: 0.51 - ETA: 0s - loss: 9954.2568 - accuracy: 0.5197 - ETA: 0s - loss: 9407.2441 - accuracy: 0.519 - ETA: 0s - loss: 8822.6377 - accuracy: 0.520 - ETA: 0s - loss: 8346.7959 - accuracy: 0.520 - ETA: 0s - loss: 7989.3789 - accuracy: 0.518 - 1s 1ms/step - loss: 7839.2300 - accuracy: 0.5171\n",
      "Epoch 11/100\n",
      "804/804 [==============================] - ETA: 0s - loss: 55.1050 - accuracy: 0.562 - ETA: 5s - loss: 109.0045 - accuracy: 0.50 - ETA: 2s - loss: 118.2122 - accuracy: 0.52 - ETA: 1s - loss: 86.6631 - accuracy: 0.5342 - ETA: 0s - loss: 1206.2393 - accuracy: 0.533 - ETA: 0s - loss: 1052.9945 - accuracy: 0.543 - ETA: 0s - loss: 840.6276 - accuracy: 0.537 - ETA: 0s - loss: 892.9800 - accuracy: 0.53 - ETA: 0s - loss: 795.5995 - accuracy: 0.52 - ETA: 0s - loss: 1140.2542 - accuracy: 0.520 - ETA: 0s - loss: 2629.9619 - accuracy: 0.515 - ETA: 0s - loss: 2642.4343 - accuracy: 0.509 - ETA: 0s - loss: 2458.1650 - accuracy: 0.505 - ETA: 0s - loss: 2260.3477 - accuracy: 0.504 - ETA: 0s - loss: 2154.0977 - accuracy: 0.507 - ETA: 0s - loss: 2057.8315 - accuracy: 0.507 - 1s 978us/step - loss: 2032.6649 - accuracy: 0.5074\n",
      "Epoch 12/100\n",
      "804/804 [==============================] - ETA: 0s - loss: 140.3447 - accuracy: 0.56 - ETA: 0s - loss: 1475.7925 - accuracy: 0.508 - ETA: 0s - loss: 12737.3945 - accuracy: 0.51 - ETA: 0s - loss: 8405.8750 - accuracy: 0.5176 - ETA: 0s - loss: 6371.3521 - accuracy: 0.517 - ETA: 0s - loss: 5238.2002 - accuracy: 0.514 - ETA: 0s - loss: 4414.9185 - accuracy: 0.516 - ETA: 0s - loss: 3796.1562 - accuracy: 0.517 - ETA: 0s - loss: 3586.4172 - accuracy: 0.515 - ETA: 0s - loss: 3333.5845 - accuracy: 0.510 - ETA: 0s - loss: 3278.6821 - accuracy: 0.510 - ETA: 0s - loss: 3040.4146 - accuracy: 0.511 - ETA: 0s - loss: 2830.5027 - accuracy: 0.512 - ETA: 0s - loss: 2659.2407 - accuracy: 0.512 - ETA: 0s - loss: 2509.5894 - accuracy: 0.514 - ETA: 0s - loss: 2367.5476 - accuracy: 0.514 - ETA: 0s - loss: 2238.7776 - accuracy: 0.516 - 1s 1ms/step - loss: 2148.0032 - accuracy: 0.5166\n",
      "Epoch 13/100\n",
      "804/804 [==============================] - ETA: 0s - loss: 3.1959 - accuracy: 0.40 - ETA: 0s - loss: 177.1806 - accuracy: 0.53 - ETA: 0s - loss: 100.4295 - accuracy: 0.51 - ETA: 0s - loss: 210.0463 - accuracy: 0.52 - ETA: 0s - loss: 1432.3315 - accuracy: 0.510 - ETA: 0s - loss: 1414.7859 - accuracy: 0.502 - ETA: 0s - loss: 1318.7343 - accuracy: 0.502 - ETA: 0s - loss: 1523.0052 - accuracy: 0.506 - ETA: 0s - loss: 1887.9696 - accuracy: 0.509 - ETA: 0s - loss: 1715.4407 - accuracy: 0.511 - ETA: 0s - loss: 1583.5828 - accuracy: 0.511 - ETA: 0s - loss: 1456.5303 - accuracy: 0.512 - ETA: 0s - loss: 1390.9026 - accuracy: 0.513 - ETA: 0s - loss: 1306.4412 - accuracy: 0.509 - ETA: 0s - loss: 1214.7527 - accuracy: 0.501 - 1s 895us/step - loss: 1204.6628 - accuracy: 0.5009\n",
      "Epoch 14/100\n",
      "804/804 [==============================] - ETA: 0s - loss: 178.4448 - accuracy: 0.56 - ETA: 0s - loss: 23.3308 - accuracy: 0.3970 - ETA: 0s - loss: 69.7893 - accuracy: 0.433 - ETA: 0s - loss: 65.4352 - accuracy: 0.456 - ETA: 0s - loss: 122.9407 - accuracy: 0.45 - ETA: 0s - loss: 106.1579 - accuracy: 0.45 - ETA: 0s - loss: 91.4451 - accuracy: 0.4558 - ETA: 0s - loss: 88.0490 - accuracy: 0.456 - ETA: 0s - loss: 101.3783 - accuracy: 0.45 - ETA: 0s - loss: 121.1369 - accuracy: 0.45 - ETA: 0s - loss: 173.1915 - accuracy: 0.46 - ETA: 0s - loss: 167.2407 - accuracy: 0.46 - ETA: 0s - loss: 155.1810 - accuracy: 0.47 - ETA: 0s - loss: 161.4032 - accuracy: 0.47 - ETA: 0s - loss: 157.3528 - accuracy: 0.47 - 1s 908us/step - loss: 197.6601 - accuracy: 0.4754\n",
      "Epoch 15/100\n",
      "804/804 [==============================] - ETA: 0s - loss: 0.7137 - accuracy: 0.59 - ETA: 0s - loss: 0.7370 - accuracy: 0.54 - ETA: 0s - loss: 0.7292 - accuracy: 0.52 - ETA: 0s - loss: 0.7179 - accuracy: 0.52 - ETA: 0s - loss: 0.7038 - accuracy: 0.53 - ETA: 0s - loss: 0.6940 - accuracy: 0.53 - ETA: 0s - loss: 0.6892 - accuracy: 0.53 - ETA: 0s - loss: 0.6854 - accuracy: 0.53 - ETA: 0s - loss: 0.6795 - accuracy: 0.53 - ETA: 0s - loss: 0.6762 - accuracy: 0.53 - ETA: 0s - loss: 0.6740 - accuracy: 0.54 - ETA: 0s - loss: 0.6707 - accuracy: 0.54 - ETA: 0s - loss: 0.6687 - accuracy: 0.55 - ETA: 0s - loss: 0.6667 - accuracy: 0.56 - 1s 860us/step - loss: 0.6661 - accuracy: 0.5639\n",
      "Epoch 16/100\n",
      "804/804 [==============================] - ETA: 0s - loss: 0.6702 - accuracy: 0.59 - ETA: 0s - loss: 0.6497 - accuracy: 0.62 - ETA: 0s - loss: 0.6444 - accuracy: 0.63 - ETA: 0s - loss: 0.6451 - accuracy: 0.63 - ETA: 0s - loss: 0.6446 - accuracy: 0.63 - ETA: 0s - loss: 0.6435 - accuracy: 0.63 - ETA: 0s - loss: 0.6433 - accuracy: 0.63 - ETA: 0s - loss: 0.6414 - accuracy: 0.63 - ETA: 0s - loss: 0.6406 - accuracy: 0.63 - ETA: 0s - loss: 0.6406 - accuracy: 0.63 - ETA: 0s - loss: 0.6413 - accuracy: 0.63 - ETA: 0s - loss: 0.6407 - accuracy: 0.63 - ETA: 0s - loss: 0.6405 - accuracy: 0.63 - ETA: 0s - loss: 0.6399 - accuracy: 0.63 - ETA: 0s - loss: 0.6397 - accuracy: 0.63 - ETA: 0s - loss: 0.6391 - accuracy: 0.63 - 1s 968us/step - loss: 0.6389 - accuracy: 0.6316\n",
      "Epoch 17/100\n",
      "804/804 [==============================] - ETA: 0s - loss: 0.6291 - accuracy: 0.75 - ETA: 0s - loss: 0.6368 - accuracy: 0.63 - ETA: 0s - loss: 0.6398 - accuracy: 0.62 - ETA: 0s - loss: 0.6358 - accuracy: 0.63 - ETA: 0s - loss: 0.6319 - accuracy: 0.63 - ETA: 0s - loss: 0.6323 - accuracy: 0.63 - ETA: 0s - loss: 0.6342 - accuracy: 0.63 - ETA: 0s - loss: 0.6345 - accuracy: 0.63 - ETA: 0s - loss: 0.6354 - accuracy: 0.63 - ETA: 0s - loss: 0.6361 - accuracy: 0.63 - ETA: 0s - loss: 0.6366 - accuracy: 0.63 - ETA: 0s - loss: 0.6374 - accuracy: 0.63 - ETA: 0s - loss: 0.6363 - accuracy: 0.63 - ETA: 0s - loss: 0.6361 - accuracy: 0.63 - 1s 851us/step - loss: 0.6363 - accuracy: 0.6354\n",
      "Epoch 18/100\n",
      "804/804 [==============================] - ETA: 0s - loss: 0.6008 - accuracy: 0.53 - ETA: 0s - loss: 0.6280 - accuracy: 0.64 - ETA: 0s - loss: 0.6323 - accuracy: 0.64 - ETA: 0s - loss: 0.6324 - accuracy: 0.63 - ETA: 0s - loss: 0.6320 - accuracy: 0.63 - ETA: 0s - loss: 0.6321 - accuracy: 0.64 - ETA: 0s - loss: 0.6335 - accuracy: 0.63 - ETA: 0s - loss: 0.6335 - accuracy: 0.63 - ETA: 0s - loss: 0.6334 - accuracy: 0.63 - ETA: 0s - loss: 0.6341 - accuracy: 0.63 - ETA: 0s - loss: 0.6345 - accuracy: 0.63 - ETA: 0s - loss: 0.6340 - accuracy: 0.64 - ETA: 0s - loss: 0.6341 - accuracy: 0.63 - ETA: 0s - loss: 0.6339 - accuracy: 0.64 - 1s 848us/step - loss: 0.6341 - accuracy: 0.6412\n",
      "Epoch 19/100\n",
      "804/804 [==============================] - ETA: 0s - loss: 0.6146 - accuracy: 0.65 - ETA: 0s - loss: 0.6307 - accuracy: 0.64 - ETA: 0s - loss: 0.6331 - accuracy: 0.64 - ETA: 0s - loss: 0.6356 - accuracy: 0.64 - ETA: 0s - loss: 0.6361 - accuracy: 0.64 - ETA: 0s - loss: 0.6322 - accuracy: 0.64 - ETA: 0s - loss: 0.6328 - accuracy: 0.64 - ETA: 0s - loss: 0.6322 - accuracy: 0.64 - ETA: 0s - loss: 0.6317 - accuracy: 0.64 - ETA: 0s - loss: 0.6325 - accuracy: 0.64 - ETA: 0s - loss: 0.6341 - accuracy: 0.64 - ETA: 0s - loss: 0.6336 - accuracy: 0.64 - ETA: 0s - loss: 0.6328 - accuracy: 0.64 - ETA: 0s - loss: 0.6324 - accuracy: 0.64 - 1s 865us/step - loss: 0.6319 - accuracy: 0.6483\n",
      "Epoch 20/100\n"
     ]
    },
    {
     "name": "stdout",
     "output_type": "stream",
     "text": [
      "804/804 [==============================] - ETA: 0s - loss: 0.7577 - accuracy: 0.46 - ETA: 0s - loss: 0.6414 - accuracy: 0.63 - ETA: 0s - loss: 0.6356 - accuracy: 0.64 - ETA: 0s - loss: 0.6375 - accuracy: 0.64 - ETA: 0s - loss: 0.6372 - accuracy: 0.64 - ETA: 0s - loss: 0.6355 - accuracy: 0.64 - ETA: 0s - loss: 0.6326 - accuracy: 0.64 - ETA: 0s - loss: 0.6325 - accuracy: 0.64 - ETA: 0s - loss: 0.6322 - accuracy: 0.64 - ETA: 0s - loss: 0.6330 - accuracy: 0.64 - ETA: 0s - loss: 0.6329 - accuracy: 0.64 - ETA: 0s - loss: 0.6317 - accuracy: 0.64 - ETA: 0s - loss: 0.6318 - accuracy: 0.64 - ETA: 0s - loss: 0.6313 - accuracy: 0.64 - 1s 878us/step - loss: 0.6308 - accuracy: 0.6495\n",
      "Epoch 21/100\n",
      "804/804 [==============================] - ETA: 0s - loss: 0.5819 - accuracy: 0.65 - ETA: 0s - loss: 0.6326 - accuracy: 0.63 - ETA: 0s - loss: 0.6311 - accuracy: 0.64 - ETA: 0s - loss: 0.6323 - accuracy: 0.64 - ETA: 0s - loss: 0.6346 - accuracy: 0.64 - ETA: 0s - loss: 0.6328 - accuracy: 0.64 - ETA: 0s - loss: 0.6349 - accuracy: 0.64 - ETA: 0s - loss: 0.6352 - accuracy: 0.64 - ETA: 0s - loss: 0.6340 - accuracy: 0.64 - ETA: 0s - loss: 0.6338 - accuracy: 0.64 - ETA: 0s - loss: 0.6345 - accuracy: 0.64 - ETA: 0s - loss: 0.6324 - accuracy: 0.64 - ETA: 0s - loss: 0.6320 - accuracy: 0.64 - ETA: 0s - loss: 0.6306 - accuracy: 0.65 - ETA: 0s - loss: 0.6297 - accuracy: 0.65 - ETA: 0s - loss: 0.6299 - accuracy: 0.65 - 1s 989us/step - loss: 0.6295 - accuracy: 0.6518\n",
      "Epoch 22/100\n",
      "804/804 [==============================] - ETA: 0s - loss: 0.6740 - accuracy: 0.56 - ETA: 0s - loss: 0.6452 - accuracy: 0.62 - ETA: 1s - loss: 0.6419 - accuracy: 0.62 - ETA: 1s - loss: 0.6404 - accuracy: 0.63 - ETA: 0s - loss: 0.6309 - accuracy: 0.65 - ETA: 0s - loss: 0.6296 - accuracy: 0.64 - ETA: 0s - loss: 0.6318 - accuracy: 0.64 - ETA: 0s - loss: 0.6331 - accuracy: 0.64 - ETA: 0s - loss: 0.6330 - accuracy: 0.64 - ETA: 0s - loss: 0.6298 - accuracy: 0.65 - ETA: 0s - loss: 0.6294 - accuracy: 0.65 - ETA: 0s - loss: 0.6287 - accuracy: 0.65 - ETA: 0s - loss: 0.6286 - accuracy: 0.65 - ETA: 0s - loss: 0.6291 - accuracy: 0.65 - ETA: 0s - loss: 0.6284 - accuracy: 0.65 - ETA: 0s - loss: 0.6269 - accuracy: 0.65 - ETA: 0s - loss: 0.6268 - accuracy: 0.65 - ETA: 0s - loss: 0.6283 - accuracy: 0.65 - 1s 1ms/step - loss: 0.6297 - accuracy: 0.6534\n",
      "Epoch 23/100\n",
      "804/804 [==============================] - ETA: 0s - loss: 0.7268 - accuracy: 0.46 - ETA: 0s - loss: 0.7112 - accuracy: 0.48 - ETA: 0s - loss: 0.7049 - accuracy: 0.48 - ETA: 0s - loss: 0.7000 - accuracy: 0.49 - ETA: 0s - loss: 0.6965 - accuracy: 0.50 - ETA: 0s - loss: 0.6929 - accuracy: 0.50 - ETA: 0s - loss: 0.6873 - accuracy: 0.51 - ETA: 0s - loss: 0.6803 - accuracy: 0.52 - ETA: 0s - loss: 0.6765 - accuracy: 0.54 - ETA: 0s - loss: 0.6744 - accuracy: 0.54 - ETA: 0s - loss: 0.6677 - accuracy: 0.56 - ETA: 0s - loss: 0.6645 - accuracy: 0.56 - ETA: 0s - loss: 0.6616 - accuracy: 0.57 - ETA: 0s - loss: 0.6598 - accuracy: 0.58 - ETA: 0s - loss: 0.6573 - accuracy: 0.58 - ETA: 0s - loss: 0.6559 - accuracy: 0.58 - ETA: 0s - loss: 0.6548 - accuracy: 0.59 - 1s 1ms/step - loss: 0.6540 - accuracy: 0.5954\n",
      "Epoch 24/100\n",
      "804/804 [==============================] - ETA: 0s - loss: 0.5843 - accuracy: 0.75 - ETA: 0s - loss: 0.6332 - accuracy: 0.63 - ETA: 0s - loss: 0.6307 - accuracy: 0.65 - ETA: 0s - loss: 0.6343 - accuracy: 0.64 - ETA: 0s - loss: 0.6294 - accuracy: 0.65 - ETA: 0s - loss: 0.6285 - accuracy: 0.65 - ETA: 0s - loss: 0.6294 - accuracy: 0.65 - ETA: 0s - loss: 0.6317 - accuracy: 0.65 - ETA: 0s - loss: 0.6299 - accuracy: 0.65 - ETA: 0s - loss: 0.6287 - accuracy: 0.65 - ETA: 0s - loss: 0.6295 - accuracy: 0.65 - ETA: 0s - loss: 0.6293 - accuracy: 0.65 - ETA: 0s - loss: 0.6280 - accuracy: 0.65 - ETA: 0s - loss: 0.6308 - accuracy: 0.65 - ETA: 0s - loss: 0.6372 - accuracy: 0.64 - ETA: 0s - loss: 0.6420 - accuracy: 0.63 - 1s 975us/step - loss: 0.6432 - accuracy: 0.6263\n",
      "Epoch 25/100\n",
      "804/804 [==============================] - ETA: 0s - loss: 0.7041 - accuracy: 0.31 - ETA: 0s - loss: 0.6939 - accuracy: 0.49 - ETA: 0s - loss: 0.6926 - accuracy: 0.51 - ETA: 0s - loss: 0.6926 - accuracy: 0.52 - ETA: 0s - loss: 0.6918 - accuracy: 0.52 - ETA: 0s - loss: 0.6921 - accuracy: 0.52 - ETA: 0s - loss: 0.6918 - accuracy: 0.52 - ETA: 0s - loss: 0.6917 - accuracy: 0.52 - ETA: 0s - loss: 0.6918 - accuracy: 0.52 - ETA: 0s - loss: 0.6918 - accuracy: 0.52 - ETA: 0s - loss: 0.6916 - accuracy: 0.52 - ETA: 0s - loss: 0.6915 - accuracy: 0.52 - ETA: 0s - loss: 0.6917 - accuracy: 0.52 - ETA: 0s - loss: 0.6916 - accuracy: 0.52 - ETA: 0s - loss: 0.6915 - accuracy: 0.52 - ETA: 0s - loss: 0.6916 - accuracy: 0.52 - ETA: 0s - loss: 0.6916 - accuracy: 0.52 - 1s 1ms/step - loss: 0.6915 - accuracy: 0.5294\n",
      "Epoch 26/100\n",
      "804/804 [==============================] - ETA: 0s - loss: 0.7022 - accuracy: 0.43 - ETA: 0s - loss: 0.6908 - accuracy: 0.53 - ETA: 0s - loss: 0.6900 - accuracy: 0.54 - ETA: 0s - loss: 0.6900 - accuracy: 0.54 - ETA: 0s - loss: 0.6906 - accuracy: 0.53 - ETA: 0s - loss: 0.6906 - accuracy: 0.53 - ETA: 0s - loss: 0.6906 - accuracy: 0.53 - ETA: 0s - loss: 0.6909 - accuracy: 0.53 - ETA: 0s - loss: 0.6908 - accuracy: 0.53 - ETA: 0s - loss: 0.6909 - accuracy: 0.53 - ETA: 0s - loss: 0.6910 - accuracy: 0.53 - ETA: 0s - loss: 0.6912 - accuracy: 0.53 - ETA: 0s - loss: 0.6911 - accuracy: 0.53 - ETA: 0s - loss: 0.6911 - accuracy: 0.53 - ETA: 0s - loss: 0.6911 - accuracy: 0.53 - ETA: 0s - loss: 0.6911 - accuracy: 0.53 - 1s 968us/step - loss: 0.6912 - accuracy: 0.5318\n",
      "Epoch 27/100\n",
      "804/804 [==============================] - ETA: 0s - loss: 0.6948 - accuracy: 0.50 - ETA: 0s - loss: 0.6913 - accuracy: 0.53 - ETA: 0s - loss: 0.6918 - accuracy: 0.52 - ETA: 0s - loss: 0.6922 - accuracy: 0.52 - ETA: 0s - loss: 0.6915 - accuracy: 0.52 - ETA: 0s - loss: 0.6917 - accuracy: 0.52 - ETA: 0s - loss: 0.6911 - accuracy: 0.53 - ETA: 0s - loss: 0.6912 - accuracy: 0.53 - ETA: 0s - loss: 0.6913 - accuracy: 0.53 - ETA: 0s - loss: 0.6915 - accuracy: 0.52 - ETA: 0s - loss: 0.6913 - accuracy: 0.53 - ETA: 0s - loss: 0.6911 - accuracy: 0.53 - ETA: 0s - loss: 0.6912 - accuracy: 0.53 - ETA: 0s - loss: 0.6911 - accuracy: 0.53 - ETA: 0s - loss: 0.6911 - accuracy: 0.53 - ETA: 0s - loss: 0.6911 - accuracy: 0.53 - 1s 999us/step - loss: 0.6912 - accuracy: 0.5318\n",
      "Epoch 28/100\n",
      "804/804 [==============================] - ETA: 0s - loss: 0.6878 - accuracy: 0.56 - ETA: 0s - loss: 0.6929 - accuracy: 0.51 - ETA: 0s - loss: 0.6930 - accuracy: 0.51 - ETA: 0s - loss: 0.6920 - accuracy: 0.52 - ETA: 0s - loss: 0.6921 - accuracy: 0.52 - ETA: 0s - loss: 0.6922 - accuracy: 0.52 - ETA: 0s - loss: 0.6920 - accuracy: 0.52 - ETA: 0s - loss: 0.6912 - accuracy: 0.53 - ETA: 0s - loss: 0.6913 - accuracy: 0.53 - ETA: 0s - loss: 0.6911 - accuracy: 0.53 - ETA: 0s - loss: 0.6913 - accuracy: 0.53 - ETA: 0s - loss: 0.6912 - accuracy: 0.53 - ETA: 0s - loss: 0.6913 - accuracy: 0.53 - ETA: 0s - loss: 0.6913 - accuracy: 0.53 - ETA: 0s - loss: 0.6914 - accuracy: 0.53 - ETA: 0s - loss: 0.6914 - accuracy: 0.53 - ETA: 0s - loss: 0.6912 - accuracy: 0.53 - 1s 1ms/step - loss: 0.6912 - accuracy: 0.5318\n",
      "Epoch 29/100\n",
      "804/804 [==============================] - ETA: 0s - loss: 0.6912 - accuracy: 0.53 - ETA: 0s - loss: 0.6907 - accuracy: 0.53 - ETA: 0s - loss: 0.6910 - accuracy: 0.53 - ETA: 0s - loss: 0.6900 - accuracy: 0.54 - ETA: 0s - loss: 0.6905 - accuracy: 0.53 - ETA: 0s - loss: 0.6913 - accuracy: 0.53 - ETA: 0s - loss: 0.6911 - accuracy: 0.53 - ETA: 0s - loss: 0.6909 - accuracy: 0.53 - ETA: 0s - loss: 0.6910 - accuracy: 0.53 - ETA: 0s - loss: 0.6909 - accuracy: 0.53 - ETA: 0s - loss: 0.6909 - accuracy: 0.53 - ETA: 0s - loss: 0.6909 - accuracy: 0.53 - ETA: 0s - loss: 0.6909 - accuracy: 0.53 - ETA: 0s - loss: 0.6909 - accuracy: 0.53 - ETA: 0s - loss: 0.6909 - accuracy: 0.53 - ETA: 0s - loss: 0.6912 - accuracy: 0.53 - ETA: 0s - loss: 0.6912 - accuracy: 0.53 - 1s 1ms/step - loss: 0.6912 - accuracy: 0.5318\n",
      "Epoch 30/100\n"
     ]
    },
    {
     "name": "stdout",
     "output_type": "stream",
     "text": [
      "804/804 [==============================] - ETA: 0s - loss: 0.6884 - accuracy: 0.56 - ETA: 0s - loss: 0.6901 - accuracy: 0.54 - ETA: 0s - loss: 0.6917 - accuracy: 0.52 - ETA: 0s - loss: 0.6922 - accuracy: 0.52 - ETA: 0s - loss: 0.6919 - accuracy: 0.52 - ETA: 0s - loss: 0.6919 - accuracy: 0.52 - ETA: 0s - loss: 0.6917 - accuracy: 0.52 - ETA: 0s - loss: 0.6915 - accuracy: 0.52 - ETA: 0s - loss: 0.6916 - accuracy: 0.52 - ETA: 0s - loss: 0.6915 - accuracy: 0.52 - ETA: 0s - loss: 0.6915 - accuracy: 0.52 - ETA: 0s - loss: 0.6917 - accuracy: 0.52 - ETA: 0s - loss: 0.6916 - accuracy: 0.52 - ETA: 0s - loss: 0.6915 - accuracy: 0.52 - ETA: 0s - loss: 0.6914 - accuracy: 0.53 - ETA: 0s - loss: 0.6913 - accuracy: 0.53 - ETA: 0s - loss: 0.6912 - accuracy: 0.53 - 1s 1ms/step - loss: 0.6912 - accuracy: 0.5318\n",
      "Epoch 31/100\n",
      "804/804 [==============================] - ETA: 0s - loss: 0.7052 - accuracy: 0.43 - ETA: 0s - loss: 0.6906 - accuracy: 0.53 - ETA: 0s - loss: 0.6908 - accuracy: 0.53 - ETA: 0s - loss: 0.6908 - accuracy: 0.53 - ETA: 0s - loss: 0.6912 - accuracy: 0.53 - ETA: 0s - loss: 0.6909 - accuracy: 0.53 - ETA: 0s - loss: 0.6912 - accuracy: 0.53 - ETA: 0s - loss: 0.6913 - accuracy: 0.53 - ETA: 0s - loss: 0.6914 - accuracy: 0.53 - ETA: 0s - loss: 0.6914 - accuracy: 0.53 - ETA: 0s - loss: 0.6912 - accuracy: 0.53 - ETA: 0s - loss: 0.6913 - accuracy: 0.53 - ETA: 0s - loss: 0.6913 - accuracy: 0.53 - ETA: 0s - loss: 0.6913 - accuracy: 0.53 - ETA: 0s - loss: 0.6915 - accuracy: 0.52 - ETA: 0s - loss: 0.6915 - accuracy: 0.52 - ETA: 0s - loss: 0.6914 - accuracy: 0.53 - 1s 1ms/step - loss: 0.6912 - accuracy: 0.5318\n",
      "Epoch 32/100\n",
      "804/804 [==============================] - ETA: 0s - loss: 0.7005 - accuracy: 0.46 - ETA: 0s - loss: 0.6938 - accuracy: 0.51 - ETA: 0s - loss: 0.6935 - accuracy: 0.51 - ETA: 0s - loss: 0.6934 - accuracy: 0.51 - ETA: 0s - loss: 0.6928 - accuracy: 0.51 - ETA: 0s - loss: 0.6927 - accuracy: 0.52 - ETA: 0s - loss: 0.6922 - accuracy: 0.52 - ETA: 0s - loss: 0.6919 - accuracy: 0.52 - ETA: 0s - loss: 0.6917 - accuracy: 0.52 - ETA: 0s - loss: 0.6917 - accuracy: 0.52 - ETA: 0s - loss: 0.6918 - accuracy: 0.52 - ETA: 0s - loss: 0.6916 - accuracy: 0.52 - ETA: 0s - loss: 0.6916 - accuracy: 0.52 - ETA: 0s - loss: 0.6915 - accuracy: 0.52 - ETA: 0s - loss: 0.6915 - accuracy: 0.52 - ETA: 0s - loss: 0.6914 - accuracy: 0.53 - ETA: 0s - loss: 0.6913 - accuracy: 0.53 - ETA: 0s - loss: 0.6913 - accuracy: 0.53 - 1s 1ms/step - loss: 0.6912 - accuracy: 0.5318\n",
      "Epoch 33/100\n",
      "804/804 [==============================] - ETA: 0s - loss: 0.6913 - accuracy: 0.53 - ETA: 0s - loss: 0.6893 - accuracy: 0.54 - ETA: 0s - loss: 0.6921 - accuracy: 0.52 - ETA: 0s - loss: 0.6920 - accuracy: 0.52 - ETA: 0s - loss: 0.6920 - accuracy: 0.52 - ETA: 0s - loss: 0.6918 - accuracy: 0.52 - ETA: 0s - loss: 0.6918 - accuracy: 0.52 - ETA: 0s - loss: 0.6916 - accuracy: 0.52 - ETA: 0s - loss: 0.6913 - accuracy: 0.53 - ETA: 0s - loss: 0.6913 - accuracy: 0.53 - ETA: 0s - loss: 0.6913 - accuracy: 0.53 - ETA: 0s - loss: 0.6912 - accuracy: 0.53 - ETA: 0s - loss: 0.6913 - accuracy: 0.53 - ETA: 0s - loss: 0.6912 - accuracy: 0.53 - ETA: 0s - loss: 0.6913 - accuracy: 0.53 - ETA: 0s - loss: 0.6913 - accuracy: 0.53 - ETA: 0s - loss: 0.6912 - accuracy: 0.53 - ETA: 0s - loss: 0.6912 - accuracy: 0.53 - 1s 1ms/step - loss: 0.6912 - accuracy: 0.5318\n",
      "Epoch 34/100\n",
      "804/804 [==============================] - ETA: 0s - loss: 0.6835 - accuracy: 0.59 - ETA: 0s - loss: 0.6914 - accuracy: 0.53 - ETA: 0s - loss: 0.6917 - accuracy: 0.52 - ETA: 0s - loss: 0.6912 - accuracy: 0.53 - ETA: 0s - loss: 0.6914 - accuracy: 0.53 - ETA: 0s - loss: 0.6917 - accuracy: 0.52 - ETA: 0s - loss: 0.6917 - accuracy: 0.52 - ETA: 0s - loss: 0.6916 - accuracy: 0.52 - ETA: 0s - loss: 0.6919 - accuracy: 0.52 - ETA: 0s - loss: 0.6918 - accuracy: 0.52 - ETA: 0s - loss: 0.6916 - accuracy: 0.52 - ETA: 0s - loss: 0.6914 - accuracy: 0.53 - ETA: 0s - loss: 0.6912 - accuracy: 0.53 - ETA: 0s - loss: 0.6911 - accuracy: 0.53 - ETA: 0s - loss: 0.6911 - accuracy: 0.53 - ETA: 0s - loss: 0.6912 - accuracy: 0.53 - ETA: 0s - loss: 0.6913 - accuracy: 0.53 - ETA: 0s - loss: 0.6912 - accuracy: 0.53 - 1s 1ms/step - loss: 0.6912 - accuracy: 0.5318\n",
      "Epoch 35/100\n",
      "804/804 [==============================] - ETA: 0s - loss: 0.6873 - accuracy: 0.56 - ETA: 0s - loss: 0.6920 - accuracy: 0.52 - ETA: 0s - loss: 0.6917 - accuracy: 0.52 - ETA: 0s - loss: 0.6913 - accuracy: 0.53 - ETA: 0s - loss: 0.6914 - accuracy: 0.53 - ETA: 0s - loss: 0.6914 - accuracy: 0.53 - ETA: 0s - loss: 0.6913 - accuracy: 0.53 - ETA: 0s - loss: 0.6913 - accuracy: 0.53 - ETA: 0s - loss: 0.6914 - accuracy: 0.53 - ETA: 0s - loss: 0.6912 - accuracy: 0.53 - ETA: 0s - loss: 0.6912 - accuracy: 0.53 - ETA: 0s - loss: 0.6912 - accuracy: 0.53 - ETA: 0s - loss: 0.6912 - accuracy: 0.53 - ETA: 0s - loss: 0.6914 - accuracy: 0.53 - ETA: 0s - loss: 0.6914 - accuracy: 0.53 - ETA: 0s - loss: 0.6912 - accuracy: 0.53 - ETA: 0s - loss: 0.6913 - accuracy: 0.53 - ETA: 0s - loss: 0.6912 - accuracy: 0.53 - 1s 1ms/step - loss: 0.6912 - accuracy: 0.5318\n",
      "Epoch 36/100\n",
      "804/804 [==============================] - ETA: 0s - loss: 0.6704 - accuracy: 0.68 - ETA: 0s - loss: 0.6953 - accuracy: 0.49 - ETA: 0s - loss: 0.6933 - accuracy: 0.51 - ETA: 0s - loss: 0.6930 - accuracy: 0.51 - ETA: 0s - loss: 0.6921 - accuracy: 0.52 - ETA: 0s - loss: 0.6918 - accuracy: 0.52 - ETA: 0s - loss: 0.6918 - accuracy: 0.52 - ETA: 0s - loss: 0.6916 - accuracy: 0.52 - ETA: 0s - loss: 0.6919 - accuracy: 0.52 - ETA: 0s - loss: 0.6918 - accuracy: 0.52 - ETA: 0s - loss: 0.6919 - accuracy: 0.52 - ETA: 0s - loss: 0.6918 - accuracy: 0.52 - ETA: 0s - loss: 0.6918 - accuracy: 0.52 - ETA: 0s - loss: 0.6917 - accuracy: 0.52 - ETA: 0s - loss: 0.6916 - accuracy: 0.52 - ETA: 0s - loss: 0.6913 - accuracy: 0.53 - ETA: 0s - loss: 0.6911 - accuracy: 0.53 - ETA: 0s - loss: 0.6910 - accuracy: 0.53 - 1s 1ms/step - loss: 0.6912 - accuracy: 0.5318\n",
      "Epoch 37/100\n",
      "804/804 [==============================] - ETA: 0s - loss: 0.6770 - accuracy: 0.62 - ETA: 0s - loss: 0.6920 - accuracy: 0.52 - ETA: 0s - loss: 0.6925 - accuracy: 0.52 - ETA: 0s - loss: 0.6922 - accuracy: 0.52 - ETA: 0s - loss: 0.6925 - accuracy: 0.52 - ETA: 0s - loss: 0.6925 - accuracy: 0.52 - ETA: 0s - loss: 0.6918 - accuracy: 0.52 - ETA: 0s - loss: 0.6918 - accuracy: 0.52 - ETA: 0s - loss: 0.6914 - accuracy: 0.53 - ETA: 0s - loss: 0.6911 - accuracy: 0.53 - ETA: 0s - loss: 0.6910 - accuracy: 0.53 - ETA: 0s - loss: 0.6910 - accuracy: 0.53 - ETA: 0s - loss: 0.6910 - accuracy: 0.53 - ETA: 0s - loss: 0.6910 - accuracy: 0.53 - ETA: 0s - loss: 0.6911 - accuracy: 0.53 - ETA: 0s - loss: 0.6912 - accuracy: 0.53 - ETA: 0s - loss: 0.6912 - accuracy: 0.53 - ETA: 0s - loss: 0.6911 - accuracy: 0.53 - 1s 1ms/step - loss: 0.6912 - accuracy: 0.5318\n",
      "Epoch 38/100\n",
      "804/804 [==============================] - ETA: 0s - loss: 0.6804 - accuracy: 0.62 - ETA: 0s - loss: 0.6933 - accuracy: 0.51 - ETA: 0s - loss: 0.6924 - accuracy: 0.52 - ETA: 0s - loss: 0.6916 - accuracy: 0.52 - ETA: 0s - loss: 0.6918 - accuracy: 0.52 - ETA: 0s - loss: 0.6914 - accuracy: 0.53 - ETA: 0s - loss: 0.6915 - accuracy: 0.52 - ETA: 0s - loss: 0.6912 - accuracy: 0.53 - ETA: 0s - loss: 0.6910 - accuracy: 0.53 - ETA: 0s - loss: 0.6911 - accuracy: 0.53 - ETA: 0s - loss: 0.6911 - accuracy: 0.53 - ETA: 0s - loss: 0.6910 - accuracy: 0.53 - ETA: 0s - loss: 0.6911 - accuracy: 0.53 - ETA: 0s - loss: 0.6910 - accuracy: 0.53 - ETA: 0s - loss: 0.6912 - accuracy: 0.53 - ETA: 0s - loss: 0.6910 - accuracy: 0.53 - ETA: 0s - loss: 0.6912 - accuracy: 0.53 - ETA: 0s - loss: 0.6911 - accuracy: 0.53 - ETA: 0s - loss: 0.6912 - accuracy: 0.53 - 1s 1ms/step - loss: 0.6912 - accuracy: 0.5318\n",
      "Epoch 39/100\n"
     ]
    },
    {
     "name": "stdout",
     "output_type": "stream",
     "text": [
      "804/804 [==============================] - ETA: 0s - loss: 0.6772 - accuracy: 0.65 - ETA: 0s - loss: 0.6931 - accuracy: 0.51 - ETA: 0s - loss: 0.6922 - accuracy: 0.52 - ETA: 0s - loss: 0.6919 - accuracy: 0.52 - ETA: 0s - loss: 0.6912 - accuracy: 0.53 - ETA: 0s - loss: 0.6916 - accuracy: 0.52 - ETA: 0s - loss: 0.6915 - accuracy: 0.52 - ETA: 0s - loss: 0.6918 - accuracy: 0.52 - ETA: 0s - loss: 0.6917 - accuracy: 0.52 - ETA: 0s - loss: 0.6918 - accuracy: 0.52 - ETA: 0s - loss: 0.6915 - accuracy: 0.52 - ETA: 0s - loss: 0.6916 - accuracy: 0.52 - ETA: 0s - loss: 0.6915 - accuracy: 0.52 - ETA: 0s - loss: 0.6916 - accuracy: 0.52 - ETA: 0s - loss: 0.6916 - accuracy: 0.52 - ETA: 0s - loss: 0.6916 - accuracy: 0.52 - ETA: 0s - loss: 0.6913 - accuracy: 0.53 - ETA: 0s - loss: 0.6913 - accuracy: 0.53 - 1s 1ms/step - loss: 0.6912 - accuracy: 0.5318\n",
      "Epoch 40/100\n",
      "804/804 [==============================] - ETA: 0s - loss: 0.6815 - accuracy: 0.59 - ETA: 0s - loss: 0.6910 - accuracy: 0.53 - ETA: 0s - loss: 0.6912 - accuracy: 0.53 - ETA: 0s - loss: 0.6916 - accuracy: 0.52 - ETA: 0s - loss: 0.6914 - accuracy: 0.53 - ETA: 0s - loss: 0.6911 - accuracy: 0.53 - ETA: 0s - loss: 0.6912 - accuracy: 0.53 - ETA: 0s - loss: 0.6913 - accuracy: 0.53 - ETA: 0s - loss: 0.6911 - accuracy: 0.53 - ETA: 0s - loss: 0.6913 - accuracy: 0.53 - ETA: 0s - loss: 0.6914 - accuracy: 0.53 - ETA: 0s - loss: 0.6915 - accuracy: 0.52 - ETA: 0s - loss: 0.6914 - accuracy: 0.53 - ETA: 0s - loss: 0.6915 - accuracy: 0.52 - ETA: 0s - loss: 0.6913 - accuracy: 0.53 - ETA: 0s - loss: 0.6913 - accuracy: 0.53 - 1s 1ms/step - loss: 0.6912 - accuracy: 0.5318\n",
      "Epoch 41/100\n",
      "804/804 [==============================] - ETA: 0s - loss: 0.6959 - accuracy: 0.50 - ETA: 0s - loss: 0.6915 - accuracy: 0.53 - ETA: 0s - loss: 0.6905 - accuracy: 0.53 - ETA: 0s - loss: 0.6909 - accuracy: 0.53 - ETA: 0s - loss: 0.6915 - accuracy: 0.52 - ETA: 0s - loss: 0.6919 - accuracy: 0.52 - ETA: 0s - loss: 0.6917 - accuracy: 0.52 - ETA: 0s - loss: 0.6913 - accuracy: 0.53 - ETA: 0s - loss: 0.6917 - accuracy: 0.52 - ETA: 0s - loss: 0.6918 - accuracy: 0.52 - ETA: 0s - loss: 0.6916 - accuracy: 0.52 - ETA: 0s - loss: 0.6916 - accuracy: 0.52 - ETA: 0s - loss: 0.6917 - accuracy: 0.52 - ETA: 0s - loss: 0.6915 - accuracy: 0.52 - ETA: 0s - loss: 0.6914 - accuracy: 0.53 - ETA: 0s - loss: 0.6914 - accuracy: 0.53 - ETA: 0s - loss: 0.6912 - accuracy: 0.53 - ETA: 0s - loss: 0.6912 - accuracy: 0.53 - 1s 1ms/step - loss: 0.6912 - accuracy: 0.5318\n",
      "Epoch 42/100\n",
      "804/804 [==============================] - ETA: 0s - loss: 0.6912 - accuracy: 0.53 - ETA: 0s - loss: 0.6885 - accuracy: 0.55 - ETA: 0s - loss: 0.6913 - accuracy: 0.53 - ETA: 0s - loss: 0.6915 - accuracy: 0.52 - ETA: 0s - loss: 0.6915 - accuracy: 0.52 - ETA: 0s - loss: 0.6918 - accuracy: 0.52 - ETA: 0s - loss: 0.6917 - accuracy: 0.52 - ETA: 0s - loss: 0.6917 - accuracy: 0.52 - ETA: 0s - loss: 0.6914 - accuracy: 0.53 - ETA: 0s - loss: 0.6913 - accuracy: 0.53 - ETA: 0s - loss: 0.6912 - accuracy: 0.53 - ETA: 0s - loss: 0.6910 - accuracy: 0.53 - ETA: 0s - loss: 0.6912 - accuracy: 0.53 - ETA: 0s - loss: 0.6913 - accuracy: 0.53 - ETA: 0s - loss: 0.6913 - accuracy: 0.53 - ETA: 0s - loss: 0.6912 - accuracy: 0.53 - 1s 965us/step - loss: 0.6912 - accuracy: 0.5318\n",
      "Epoch 43/100\n",
      "804/804 [==============================] - ETA: 0s - loss: 0.6835 - accuracy: 0.59 - ETA: 0s - loss: 0.6914 - accuracy: 0.53 - ETA: 0s - loss: 0.6918 - accuracy: 0.52 - ETA: 0s - loss: 0.6919 - accuracy: 0.52 - ETA: 0s - loss: 0.6920 - accuracy: 0.52 - ETA: 0s - loss: 0.6918 - accuracy: 0.52 - ETA: 0s - loss: 0.6911 - accuracy: 0.53 - ETA: 0s - loss: 0.6908 - accuracy: 0.53 - ETA: 0s - loss: 0.6908 - accuracy: 0.53 - ETA: 0s - loss: 0.6905 - accuracy: 0.53 - ETA: 0s - loss: 0.6908 - accuracy: 0.53 - ETA: 0s - loss: 0.6911 - accuracy: 0.53 - ETA: 0s - loss: 0.6912 - accuracy: 0.53 - ETA: 0s - loss: 0.6912 - accuracy: 0.53 - ETA: 0s - loss: 0.6913 - accuracy: 0.53 - ETA: 0s - loss: 0.6913 - accuracy: 0.53 - ETA: 0s - loss: 0.6913 - accuracy: 0.53 - ETA: 0s - loss: 0.6912 - accuracy: 0.53 - 1s 1ms/step - loss: 0.6912 - accuracy: 0.5318\n",
      "Epoch 44/100\n",
      "804/804 [==============================] - ETA: 0s - loss: 0.7000 - accuracy: 0.46 - ETA: 0s - loss: 0.6911 - accuracy: 0.53 - ETA: 0s - loss: 0.6909 - accuracy: 0.53 - ETA: 0s - loss: 0.6911 - accuracy: 0.53 - ETA: 0s - loss: 0.6913 - accuracy: 0.53 - ETA: 0s - loss: 0.6914 - accuracy: 0.53 - ETA: 0s - loss: 0.6912 - accuracy: 0.53 - ETA: 0s - loss: 0.6911 - accuracy: 0.53 - ETA: 0s - loss: 0.6912 - accuracy: 0.53 - ETA: 0s - loss: 0.6911 - accuracy: 0.53 - ETA: 0s - loss: 0.6911 - accuracy: 0.53 - ETA: 0s - loss: 0.6912 - accuracy: 0.53 - ETA: 0s - loss: 0.6912 - accuracy: 0.53 - ETA: 0s - loss: 0.6913 - accuracy: 0.53 - ETA: 0s - loss: 0.6913 - accuracy: 0.53 - ETA: 0s - loss: 0.6914 - accuracy: 0.53 - ETA: 0s - loss: 0.6914 - accuracy: 0.53 - 1s 1ms/step - loss: 0.6912 - accuracy: 0.5318\n",
      "Epoch 45/100\n",
      "804/804 [==============================] - ETA: 0s - loss: 0.6766 - accuracy: 0.62 - ETA: 0s - loss: 0.6931 - accuracy: 0.51 - ETA: 0s - loss: 0.6912 - accuracy: 0.53 - ETA: 0s - loss: 0.6913 - accuracy: 0.53 - ETA: 0s - loss: 0.6912 - accuracy: 0.53 - ETA: 0s - loss: 0.6901 - accuracy: 0.53 - ETA: 0s - loss: 0.6908 - accuracy: 0.53 - ETA: 0s - loss: 0.6910 - accuracy: 0.53 - ETA: 0s - loss: 0.6909 - accuracy: 0.53 - ETA: 0s - loss: 0.6909 - accuracy: 0.53 - ETA: 0s - loss: 0.6908 - accuracy: 0.53 - ETA: 0s - loss: 0.6911 - accuracy: 0.53 - ETA: 0s - loss: 0.6912 - accuracy: 0.53 - ETA: 0s - loss: 0.6910 - accuracy: 0.53 - ETA: 0s - loss: 0.6911 - accuracy: 0.53 - ETA: 0s - loss: 0.6912 - accuracy: 0.53 - ETA: 0s - loss: 0.6913 - accuracy: 0.53 - ETA: 0s - loss: 0.6913 - accuracy: 0.53 - 1s 1ms/step - loss: 0.6913 - accuracy: 0.5318\n",
      "Epoch 46/100\n",
      "804/804 [==============================] - ETA: 0s - loss: 0.6738 - accuracy: 0.68 - ETA: 0s - loss: 0.6918 - accuracy: 0.52 - ETA: 0s - loss: 0.6908 - accuracy: 0.53 - ETA: 0s - loss: 0.6913 - accuracy: 0.53 - ETA: 0s - loss: 0.6916 - accuracy: 0.52 - ETA: 0s - loss: 0.6917 - accuracy: 0.52 - ETA: 0s - loss: 0.6909 - accuracy: 0.53 - ETA: 0s - loss: 0.6905 - accuracy: 0.53 - ETA: 0s - loss: 0.6909 - accuracy: 0.53 - ETA: 0s - loss: 0.6908 - accuracy: 0.53 - ETA: 0s - loss: 0.6911 - accuracy: 0.53 - ETA: 0s - loss: 0.6913 - accuracy: 0.53 - ETA: 0s - loss: 0.6913 - accuracy: 0.53 - ETA: 0s - loss: 0.6913 - accuracy: 0.53 - ETA: 0s - loss: 0.6912 - accuracy: 0.53 - ETA: 0s - loss: 0.6914 - accuracy: 0.53 - ETA: 0s - loss: 0.6913 - accuracy: 0.53 - ETA: 0s - loss: 0.6912 - accuracy: 0.53 - ETA: 0s - loss: 0.6912 - accuracy: 0.53 - 1s 1ms/step - loss: 0.6912 - accuracy: 0.5318\n",
      "Epoch 47/100\n",
      "804/804 [==============================] - ETA: 0s - loss: 0.6569 - accuracy: 0.78 - ETA: 1s - loss: 0.6916 - accuracy: 0.53 - ETA: 0s - loss: 0.6911 - accuracy: 0.53 - ETA: 0s - loss: 0.6916 - accuracy: 0.52 - ETA: 0s - loss: 0.6921 - accuracy: 0.52 - ETA: 0s - loss: 0.6924 - accuracy: 0.52 - ETA: 0s - loss: 0.6923 - accuracy: 0.52 - ETA: 0s - loss: 0.6920 - accuracy: 0.52 - ETA: 0s - loss: 0.6920 - accuracy: 0.52 - ETA: 0s - loss: 0.6920 - accuracy: 0.52 - ETA: 0s - loss: 0.6918 - accuracy: 0.52 - ETA: 0s - loss: 0.6917 - accuracy: 0.52 - ETA: 0s - loss: 0.6916 - accuracy: 0.52 - ETA: 0s - loss: 0.6917 - accuracy: 0.52 - ETA: 0s - loss: 0.6916 - accuracy: 0.52 - ETA: 0s - loss: 0.6914 - accuracy: 0.53 - ETA: 0s - loss: 0.6914 - accuracy: 0.53 - ETA: 0s - loss: 0.6912 - accuracy: 0.53 - ETA: 0s - loss: 0.6913 - accuracy: 0.53 - 1s 1ms/step - loss: 0.6912 - accuracy: 0.5318\n",
      "Epoch 48/100\n"
     ]
    },
    {
     "name": "stdout",
     "output_type": "stream",
     "text": [
      "804/804 [==============================] - ETA: 0s - loss: 0.6722 - accuracy: 0.65 - ETA: 0s - loss: 0.6886 - accuracy: 0.54 - ETA: 0s - loss: 0.6894 - accuracy: 0.54 - ETA: 0s - loss: 0.6900 - accuracy: 0.54 - ETA: 0s - loss: 0.6895 - accuracy: 0.54 - ETA: 0s - loss: 0.6901 - accuracy: 0.54 - ETA: 0s - loss: 0.6909 - accuracy: 0.53 - ETA: 0s - loss: 0.6911 - accuracy: 0.53 - ETA: 0s - loss: 0.6911 - accuracy: 0.53 - ETA: 0s - loss: 0.6910 - accuracy: 0.53 - ETA: 0s - loss: 0.6914 - accuracy: 0.53 - ETA: 0s - loss: 0.6915 - accuracy: 0.52 - ETA: 0s - loss: 0.6916 - accuracy: 0.52 - ETA: 0s - loss: 0.6915 - accuracy: 0.52 - ETA: 0s - loss: 0.6914 - accuracy: 0.53 - ETA: 0s - loss: 0.6915 - accuracy: 0.53 - ETA: 0s - loss: 0.6913 - accuracy: 0.53 - 1s 1ms/step - loss: 0.6913 - accuracy: 0.5318\n",
      "Epoch 49/100\n",
      "804/804 [==============================] - ETA: 0s - loss: 0.7272 - accuracy: 0.31 - ETA: 0s - loss: 0.6920 - accuracy: 0.52 - ETA: 0s - loss: 0.6917 - accuracy: 0.52 - ETA: 0s - loss: 0.6914 - accuracy: 0.53 - ETA: 0s - loss: 0.6921 - accuracy: 0.52 - ETA: 0s - loss: 0.6923 - accuracy: 0.52 - ETA: 0s - loss: 0.6920 - accuracy: 0.52 - ETA: 0s - loss: 0.6915 - accuracy: 0.52 - ETA: 0s - loss: 0.6911 - accuracy: 0.53 - ETA: 0s - loss: 0.6906 - accuracy: 0.53 - ETA: 0s - loss: 0.6905 - accuracy: 0.53 - ETA: 0s - loss: 0.6903 - accuracy: 0.53 - ETA: 0s - loss: 0.6906 - accuracy: 0.53 - ETA: 0s - loss: 0.6907 - accuracy: 0.53 - ETA: 0s - loss: 0.6909 - accuracy: 0.53 - ETA: 0s - loss: 0.6909 - accuracy: 0.53 - ETA: 0s - loss: 0.6910 - accuracy: 0.53 - ETA: 0s - loss: 0.6910 - accuracy: 0.53 - 1s 1ms/step - loss: 0.6911 - accuracy: 0.5318\n",
      "Epoch 50/100\n",
      "804/804 [==============================] - ETA: 0s - loss: 0.6860 - accuracy: 0.59 - ETA: 0s - loss: 0.6906 - accuracy: 0.53 - ETA: 0s - loss: 0.6911 - accuracy: 0.53 - ETA: 0s - loss: 0.6921 - accuracy: 0.52 - ETA: 0s - loss: 0.6922 - accuracy: 0.52 - ETA: 0s - loss: 0.6923 - accuracy: 0.52 - ETA: 0s - loss: 0.6920 - accuracy: 0.52 - ETA: 0s - loss: 0.6919 - accuracy: 0.52 - ETA: 0s - loss: 0.6920 - accuracy: 0.52 - ETA: 0s - loss: 0.6921 - accuracy: 0.52 - ETA: 0s - loss: 0.6918 - accuracy: 0.52 - ETA: 0s - loss: 0.6915 - accuracy: 0.52 - ETA: 0s - loss: 0.6915 - accuracy: 0.52 - ETA: 0s - loss: 0.6914 - accuracy: 0.53 - ETA: 0s - loss: 0.6914 - accuracy: 0.53 - ETA: 0s - loss: 0.6914 - accuracy: 0.53 - ETA: 0s - loss: 0.6912 - accuracy: 0.53 - ETA: 0s - loss: 0.6913 - accuracy: 0.53 - 1s 1ms/step - loss: 0.6913 - accuracy: 0.5318\n",
      "Epoch 51/100\n",
      "804/804 [==============================] - ETA: 0s - loss: 0.6950 - accuracy: 0.50 - ETA: 0s - loss: 0.6922 - accuracy: 0.52 - ETA: 0s - loss: 0.6917 - accuracy: 0.52 - ETA: 0s - loss: 0.6917 - accuracy: 0.52 - ETA: 0s - loss: 0.6911 - accuracy: 0.53 - ETA: 0s - loss: 0.6916 - accuracy: 0.52 - ETA: 0s - loss: 0.6917 - accuracy: 0.52 - ETA: 0s - loss: 0.6914 - accuracy: 0.53 - ETA: 0s - loss: 0.6913 - accuracy: 0.53 - ETA: 0s - loss: 0.6911 - accuracy: 0.53 - ETA: 0s - loss: 0.6910 - accuracy: 0.53 - ETA: 0s - loss: 0.6910 - accuracy: 0.53 - ETA: 0s - loss: 0.6910 - accuracy: 0.53 - ETA: 0s - loss: 0.6912 - accuracy: 0.53 - ETA: 0s - loss: 0.6912 - accuracy: 0.53 - ETA: 0s - loss: 0.6911 - accuracy: 0.53 - ETA: 0s - loss: 0.6913 - accuracy: 0.53 - ETA: 0s - loss: 0.6913 - accuracy: 0.53 - 1s 1ms/step - loss: 0.6913 - accuracy: 0.5318\n",
      "Epoch 52/100\n",
      "804/804 [==============================] - ETA: 0s - loss: 0.6884 - accuracy: 0.56 - ETA: 0s - loss: 0.6915 - accuracy: 0.52 - ETA: 0s - loss: 0.6906 - accuracy: 0.53 - ETA: 0s - loss: 0.6896 - accuracy: 0.54 - ETA: 0s - loss: 0.6895 - accuracy: 0.54 - ETA: 0s - loss: 0.6901 - accuracy: 0.54 - ETA: 0s - loss: 0.6900 - accuracy: 0.54 - ETA: 0s - loss: 0.6898 - accuracy: 0.54 - ETA: 0s - loss: 0.6900 - accuracy: 0.54 - ETA: 0s - loss: 0.6900 - accuracy: 0.54 - ETA: 0s - loss: 0.6901 - accuracy: 0.54 - ETA: 0s - loss: 0.6904 - accuracy: 0.53 - ETA: 0s - loss: 0.6906 - accuracy: 0.53 - ETA: 0s - loss: 0.6906 - accuracy: 0.53 - ETA: 0s - loss: 0.6908 - accuracy: 0.53 - ETA: 0s - loss: 0.6909 - accuracy: 0.53 - ETA: 0s - loss: 0.6910 - accuracy: 0.53 - 1s 1ms/step - loss: 0.6911 - accuracy: 0.5318\n",
      "Epoch 53/100\n",
      "804/804 [==============================] - ETA: 0s - loss: 0.6864 - accuracy: 0.71 - ETA: 0s - loss: 0.6916 - accuracy: 0.53 - ETA: 0s - loss: 0.6914 - accuracy: 0.53 - ETA: 0s - loss: 0.6905 - accuracy: 0.53 - ETA: 0s - loss: 0.6905 - accuracy: 0.53 - ETA: 0s - loss: 0.6908 - accuracy: 0.53 - ETA: 0s - loss: 0.6913 - accuracy: 0.53 - ETA: 0s - loss: 0.6914 - accuracy: 0.53 - ETA: 0s - loss: 0.6914 - accuracy: 0.53 - ETA: 0s - loss: 0.6914 - accuracy: 0.53 - ETA: 0s - loss: 0.6913 - accuracy: 0.53 - ETA: 0s - loss: 0.6916 - accuracy: 0.52 - ETA: 0s - loss: 0.6915 - accuracy: 0.53 - ETA: 0s - loss: 0.6914 - accuracy: 0.53 - ETA: 0s - loss: 0.6915 - accuracy: 0.53 - ETA: 0s - loss: 0.6915 - accuracy: 0.53 - ETA: 0s - loss: 0.6915 - accuracy: 0.53 - 1s 1ms/step - loss: 0.6913 - accuracy: 0.5318\n",
      "Epoch 54/100\n",
      "804/804 [==============================] - ETA: 0s - loss: 0.7013 - accuracy: 0.46 - ETA: 0s - loss: 0.6904 - accuracy: 0.53 - ETA: 0s - loss: 0.6899 - accuracy: 0.54 - ETA: 0s - loss: 0.6906 - accuracy: 0.53 - ETA: 0s - loss: 0.6913 - accuracy: 0.53 - ETA: 0s - loss: 0.6915 - accuracy: 0.52 - ETA: 0s - loss: 0.6916 - accuracy: 0.52 - ETA: 0s - loss: 0.6919 - accuracy: 0.52 - ETA: 0s - loss: 0.6920 - accuracy: 0.52 - ETA: 0s - loss: 0.6921 - accuracy: 0.52 - ETA: 0s - loss: 0.6917 - accuracy: 0.52 - ETA: 0s - loss: 0.6917 - accuracy: 0.52 - ETA: 0s - loss: 0.6916 - accuracy: 0.52 - ETA: 0s - loss: 0.6913 - accuracy: 0.53 - ETA: 0s - loss: 0.6913 - accuracy: 0.53 - ETA: 0s - loss: 0.6914 - accuracy: 0.53 - 1s 998us/step - loss: 0.6912 - accuracy: 0.5318\n",
      "Epoch 55/100\n",
      "804/804 [==============================] - ETA: 0s - loss: 0.7019 - accuracy: 0.46 - ETA: 0s - loss: 0.6952 - accuracy: 0.50 - ETA: 0s - loss: 0.6934 - accuracy: 0.51 - ETA: 0s - loss: 0.6931 - accuracy: 0.51 - ETA: 0s - loss: 0.6925 - accuracy: 0.52 - ETA: 0s - loss: 0.6916 - accuracy: 0.52 - ETA: 0s - loss: 0.6912 - accuracy: 0.53 - ETA: 0s - loss: 0.6912 - accuracy: 0.53 - ETA: 0s - loss: 0.6914 - accuracy: 0.53 - ETA: 0s - loss: 0.6916 - accuracy: 0.52 - ETA: 0s - loss: 0.6915 - accuracy: 0.53 - ETA: 0s - loss: 0.6916 - accuracy: 0.52 - ETA: 0s - loss: 0.6916 - accuracy: 0.52 - ETA: 0s - loss: 0.6915 - accuracy: 0.53 - ETA: 0s - loss: 0.6913 - accuracy: 0.53 - ETA: 0s - loss: 0.6914 - accuracy: 0.53 - ETA: 0s - loss: 0.6913 - accuracy: 0.53 - 1s 1ms/step - loss: 0.6913 - accuracy: 0.5318\n",
      "Epoch 56/100\n",
      "804/804 [==============================] - ETA: 0s - loss: 0.6998 - accuracy: 0.46 - ETA: 0s - loss: 0.6932 - accuracy: 0.51 - ETA: 0s - loss: 0.6928 - accuracy: 0.51 - ETA: 0s - loss: 0.6923 - accuracy: 0.52 - ETA: 0s - loss: 0.6914 - accuracy: 0.52 - ETA: 0s - loss: 0.6912 - accuracy: 0.53 - ETA: 0s - loss: 0.6915 - accuracy: 0.53 - ETA: 0s - loss: 0.6913 - accuracy: 0.53 - ETA: 0s - loss: 0.6912 - accuracy: 0.53 - ETA: 0s - loss: 0.6912 - accuracy: 0.53 - ETA: 0s - loss: 0.6911 - accuracy: 0.53 - ETA: 0s - loss: 0.6911 - accuracy: 0.53 - ETA: 0s - loss: 0.6909 - accuracy: 0.53 - ETA: 0s - loss: 0.6911 - accuracy: 0.53 - ETA: 0s - loss: 0.6912 - accuracy: 0.53 - ETA: 0s - loss: 0.6911 - accuracy: 0.53 - ETA: 0s - loss: 0.6912 - accuracy: 0.53 - ETA: 0s - loss: 0.6912 - accuracy: 0.53 - ETA: 0s - loss: 0.6913 - accuracy: 0.53 - 1s 1ms/step - loss: 0.6913 - accuracy: 0.5318\n",
      "Epoch 57/100\n"
     ]
    },
    {
     "name": "stdout",
     "output_type": "stream",
     "text": [
      "804/804 [==============================] - ETA: 0s - loss: 0.6912 - accuracy: 0.53 - ETA: 0s - loss: 0.6935 - accuracy: 0.50 - ETA: 0s - loss: 0.6930 - accuracy: 0.51 - ETA: 0s - loss: 0.6925 - accuracy: 0.52 - ETA: 0s - loss: 0.6923 - accuracy: 0.52 - ETA: 0s - loss: 0.6919 - accuracy: 0.52 - ETA: 0s - loss: 0.6920 - accuracy: 0.52 - ETA: 0s - loss: 0.6919 - accuracy: 0.52 - ETA: 0s - loss: 0.6920 - accuracy: 0.52 - ETA: 0s - loss: 0.6919 - accuracy: 0.52 - ETA: 0s - loss: 0.6919 - accuracy: 0.52 - ETA: 0s - loss: 0.6918 - accuracy: 0.52 - ETA: 0s - loss: 0.6917 - accuracy: 0.52 - ETA: 0s - loss: 0.6913 - accuracy: 0.53 - ETA: 0s - loss: 0.6914 - accuracy: 0.53 - ETA: 0s - loss: 0.6912 - accuracy: 0.53 - ETA: 0s - loss: 0.6912 - accuracy: 0.53 - ETA: 0s - loss: 0.6912 - accuracy: 0.53 - 1s 1ms/step - loss: 0.6913 - accuracy: 0.5318\n",
      "Epoch 58/100\n",
      "804/804 [==============================] - ETA: 0s - loss: 0.6710 - accuracy: 0.68 - ETA: 0s - loss: 0.6919 - accuracy: 0.52 - ETA: 0s - loss: 0.6929 - accuracy: 0.51 - ETA: 0s - loss: 0.6927 - accuracy: 0.51 - ETA: 0s - loss: 0.6923 - accuracy: 0.52 - ETA: 0s - loss: 0.6918 - accuracy: 0.52 - ETA: 0s - loss: 0.6917 - accuracy: 0.52 - ETA: 0s - loss: 0.6918 - accuracy: 0.52 - ETA: 0s - loss: 0.6917 - accuracy: 0.52 - ETA: 0s - loss: 0.6918 - accuracy: 0.52 - ETA: 0s - loss: 0.6918 - accuracy: 0.52 - ETA: 0s - loss: 0.6917 - accuracy: 0.52 - ETA: 0s - loss: 0.6917 - accuracy: 0.52 - ETA: 0s - loss: 0.6917 - accuracy: 0.52 - ETA: 0s - loss: 0.6914 - accuracy: 0.53 - ETA: 0s - loss: 0.6914 - accuracy: 0.53 - 1s 1ms/step - loss: 0.6912 - accuracy: 0.5318\n",
      "Epoch 59/100\n",
      "804/804 [==============================] - ETA: 0s - loss: 0.6746 - accuracy: 0.62 - ETA: 0s - loss: 0.6907 - accuracy: 0.53 - ETA: 0s - loss: 0.6901 - accuracy: 0.54 - ETA: 0s - loss: 0.6906 - accuracy: 0.53 - ETA: 0s - loss: 0.6912 - accuracy: 0.53 - ETA: 0s - loss: 0.6915 - accuracy: 0.52 - ETA: 0s - loss: 0.6916 - accuracy: 0.52 - ETA: 0s - loss: 0.6917 - accuracy: 0.52 - ETA: 0s - loss: 0.6917 - accuracy: 0.52 - ETA: 0s - loss: 0.6915 - accuracy: 0.53 - ETA: 0s - loss: 0.6914 - accuracy: 0.53 - ETA: 0s - loss: 0.6914 - accuracy: 0.53 - ETA: 0s - loss: 0.6913 - accuracy: 0.53 - ETA: 0s - loss: 0.6913 - accuracy: 0.53 - ETA: 0s - loss: 0.6911 - accuracy: 0.53 - 1s 943us/step - loss: 0.6913 - accuracy: 0.5318\n",
      "Epoch 60/100\n",
      "804/804 [==============================] - ETA: 0s - loss: 0.7018 - accuracy: 0.43 - ETA: 0s - loss: 0.6929 - accuracy: 0.51 - ETA: 0s - loss: 0.6912 - accuracy: 0.53 - ETA: 0s - loss: 0.6914 - accuracy: 0.53 - ETA: 0s - loss: 0.6918 - accuracy: 0.52 - ETA: 0s - loss: 0.6914 - accuracy: 0.53 - ETA: 0s - loss: 0.6909 - accuracy: 0.53 - ETA: 0s - loss: 0.6910 - accuracy: 0.53 - ETA: 0s - loss: 0.6913 - accuracy: 0.53 - ETA: 0s - loss: 0.6913 - accuracy: 0.53 - ETA: 0s - loss: 0.6911 - accuracy: 0.53 - ETA: 0s - loss: 0.6909 - accuracy: 0.53 - ETA: 0s - loss: 0.6909 - accuracy: 0.53 - ETA: 0s - loss: 0.6911 - accuracy: 0.53 - ETA: 0s - loss: 0.6912 - accuracy: 0.53 - ETA: 0s - loss: 0.6912 - accuracy: 0.53 - 1s 969us/step - loss: 0.6912 - accuracy: 0.5318\n",
      "Epoch 61/100\n",
      "804/804 [==============================] - ETA: 0s - loss: 0.6807 - accuracy: 0.62 - ETA: 0s - loss: 0.6887 - accuracy: 0.55 - ETA: 0s - loss: 0.6893 - accuracy: 0.54 - ETA: 0s - loss: 0.6905 - accuracy: 0.53 - ETA: 0s - loss: 0.6908 - accuracy: 0.53 - ETA: 0s - loss: 0.6912 - accuracy: 0.53 - ETA: 0s - loss: 0.6917 - accuracy: 0.52 - ETA: 0s - loss: 0.6917 - accuracy: 0.52 - ETA: 0s - loss: 0.6914 - accuracy: 0.53 - ETA: 0s - loss: 0.6914 - accuracy: 0.53 - ETA: 0s - loss: 0.6912 - accuracy: 0.53 - ETA: 0s - loss: 0.6911 - accuracy: 0.53 - ETA: 0s - loss: 0.6910 - accuracy: 0.53 - ETA: 0s - loss: 0.6909 - accuracy: 0.53 - ETA: 0s - loss: 0.6911 - accuracy: 0.53 - 1s 942us/step - loss: 0.6912 - accuracy: 0.5318\n",
      "Epoch 62/100\n",
      "804/804 [==============================] - ETA: 0s - loss: 0.7050 - accuracy: 0.31 - ETA: 0s - loss: 0.6909 - accuracy: 0.53 - ETA: 0s - loss: 0.6905 - accuracy: 0.54 - ETA: 0s - loss: 0.6909 - accuracy: 0.53 - ETA: 0s - loss: 0.6911 - accuracy: 0.53 - ETA: 0s - loss: 0.6916 - accuracy: 0.52 - ETA: 0s - loss: 0.6916 - accuracy: 0.52 - ETA: 0s - loss: 0.6917 - accuracy: 0.52 - ETA: 0s - loss: 0.6917 - accuracy: 0.52 - ETA: 0s - loss: 0.6919 - accuracy: 0.52 - ETA: 0s - loss: 0.6918 - accuracy: 0.52 - ETA: 0s - loss: 0.6914 - accuracy: 0.53 - ETA: 0s - loss: 0.6915 - accuracy: 0.53 - ETA: 0s - loss: 0.6914 - accuracy: 0.53 - ETA: 0s - loss: 0.6913 - accuracy: 0.53 - ETA: 0s - loss: 0.6913 - accuracy: 0.53 - 1s 962us/step - loss: 0.6913 - accuracy: 0.5318\n",
      "Epoch 63/100\n",
      "804/804 [==============================] - ETA: 0s - loss: 0.6828 - accuracy: 0.59 - ETA: 0s - loss: 0.6915 - accuracy: 0.53 - ETA: 0s - loss: 0.6920 - accuracy: 0.52 - ETA: 0s - loss: 0.6917 - accuracy: 0.52 - ETA: 0s - loss: 0.6915 - accuracy: 0.53 - ETA: 0s - loss: 0.6918 - accuracy: 0.52 - ETA: 0s - loss: 0.6919 - accuracy: 0.52 - ETA: 0s - loss: 0.6918 - accuracy: 0.52 - ETA: 0s - loss: 0.6917 - accuracy: 0.52 - ETA: 0s - loss: 0.6919 - accuracy: 0.52 - ETA: 0s - loss: 0.6919 - accuracy: 0.52 - ETA: 0s - loss: 0.6921 - accuracy: 0.52 - ETA: 0s - loss: 0.6921 - accuracy: 0.52 - ETA: 0s - loss: 0.6918 - accuracy: 0.52 - ETA: 0s - loss: 0.6916 - accuracy: 0.52 - ETA: 0s - loss: 0.6911 - accuracy: 0.53 - 1s 970us/step - loss: 0.6911 - accuracy: 0.5318\n",
      "Epoch 64/100\n",
      "804/804 [==============================] - ETA: 0s - loss: 0.6771 - accuracy: 0.59 - ETA: 0s - loss: 0.6958 - accuracy: 0.51 - ETA: 0s - loss: 0.6928 - accuracy: 0.52 - ETA: 0s - loss: 0.6923 - accuracy: 0.52 - ETA: 0s - loss: 0.6923 - accuracy: 0.52 - ETA: 0s - loss: 0.6916 - accuracy: 0.53 - ETA: 0s - loss: 0.6913 - accuracy: 0.53 - ETA: 0s - loss: 0.6914 - accuracy: 0.53 - ETA: 0s - loss: 0.6914 - accuracy: 0.53 - ETA: 0s - loss: 0.6914 - accuracy: 0.53 - ETA: 0s - loss: 0.6914 - accuracy: 0.53 - ETA: 0s - loss: 0.6914 - accuracy: 0.53 - ETA: 0s - loss: 0.6914 - accuracy: 0.53 - ETA: 0s - loss: 0.6913 - accuracy: 0.53 - ETA: 0s - loss: 0.6915 - accuracy: 0.53 - ETA: 0s - loss: 0.6914 - accuracy: 0.53 - 1s 972us/step - loss: 0.6914 - accuracy: 0.5318\n",
      "Epoch 65/100\n",
      "804/804 [==============================] - ETA: 0s - loss: 0.6912 - accuracy: 0.53 - ETA: 0s - loss: 0.6919 - accuracy: 0.52 - ETA: 0s - loss: 0.6922 - accuracy: 0.52 - ETA: 0s - loss: 0.6916 - accuracy: 0.53 - ETA: 0s - loss: 0.6913 - accuracy: 0.53 - ETA: 0s - loss: 0.6913 - accuracy: 0.53 - ETA: 0s - loss: 0.6914 - accuracy: 0.53 - ETA: 0s - loss: 0.6915 - accuracy: 0.53 - ETA: 0s - loss: 0.6915 - accuracy: 0.53 - ETA: 0s - loss: 0.6914 - accuracy: 0.53 - ETA: 0s - loss: 0.6915 - accuracy: 0.53 - ETA: 0s - loss: 0.6916 - accuracy: 0.52 - ETA: 0s - loss: 0.6915 - accuracy: 0.53 - ETA: 0s - loss: 0.6915 - accuracy: 0.53 - ETA: 0s - loss: 0.6914 - accuracy: 0.53 - ETA: 0s - loss: 0.6913 - accuracy: 0.53 - 1s 967us/step - loss: 0.6913 - accuracy: 0.5318\n",
      "Epoch 66/100\n",
      "804/804 [==============================] - ETA: 0s - loss: 0.6865 - accuracy: 0.56 - ETA: 0s - loss: 0.6889 - accuracy: 0.54 - ETA: 0s - loss: 0.6891 - accuracy: 0.54 - ETA: 0s - loss: 0.6898 - accuracy: 0.54 - ETA: 0s - loss: 0.6902 - accuracy: 0.53 - ETA: 0s - loss: 0.6908 - accuracy: 0.53 - ETA: 0s - loss: 0.6910 - accuracy: 0.53 - ETA: 0s - loss: 0.6911 - accuracy: 0.53 - ETA: 0s - loss: 0.6911 - accuracy: 0.53 - ETA: 0s - loss: 0.6912 - accuracy: 0.53 - ETA: 0s - loss: 0.6910 - accuracy: 0.53 - ETA: 0s - loss: 0.6913 - accuracy: 0.53 - ETA: 0s - loss: 0.6914 - accuracy: 0.53 - ETA: 0s - loss: 0.6914 - accuracy: 0.53 - ETA: 0s - loss: 0.6914 - accuracy: 0.53 - ETA: 0s - loss: 0.6913 - accuracy: 0.53 - 1s 954us/step - loss: 0.6912 - accuracy: 0.5318\n",
      "Epoch 67/100\n"
     ]
    },
    {
     "name": "stdout",
     "output_type": "stream",
     "text": [
      "804/804 [==============================] - ETA: 0s - loss: 0.6699 - accuracy: 0.65 - ETA: 0s - loss: 0.6901 - accuracy: 0.54 - ETA: 0s - loss: 0.6903 - accuracy: 0.53 - ETA: 0s - loss: 0.6915 - accuracy: 0.52 - ETA: 0s - loss: 0.6916 - accuracy: 0.52 - ETA: 0s - loss: 0.6914 - accuracy: 0.52 - ETA: 0s - loss: 0.6911 - accuracy: 0.53 - ETA: 0s - loss: 0.6913 - accuracy: 0.53 - ETA: 0s - loss: 0.6916 - accuracy: 0.52 - ETA: 0s - loss: 0.6917 - accuracy: 0.52 - ETA: 0s - loss: 0.6915 - accuracy: 0.53 - ETA: 0s - loss: 0.6915 - accuracy: 0.53 - ETA: 0s - loss: 0.6915 - accuracy: 0.53 - ETA: 0s - loss: 0.6914 - accuracy: 0.53 - ETA: 0s - loss: 0.6912 - accuracy: 0.53 - ETA: 0s - loss: 0.6913 - accuracy: 0.53 - 1s 997us/step - loss: 0.6913 - accuracy: 0.5318\n",
      "Epoch 68/100\n",
      "804/804 [==============================] - ETA: 0s - loss: 0.6950 - accuracy: 0.50 - ETA: 0s - loss: 0.6885 - accuracy: 0.55 - ETA: 0s - loss: 0.6914 - accuracy: 0.53 - ETA: 0s - loss: 0.6919 - accuracy: 0.52 - ETA: 0s - loss: 0.6917 - accuracy: 0.52 - ETA: 0s - loss: 0.6913 - accuracy: 0.53 - ETA: 0s - loss: 0.6913 - accuracy: 0.53 - ETA: 0s - loss: 0.6914 - accuracy: 0.53 - ETA: 0s - loss: 0.6914 - accuracy: 0.53 - ETA: 0s - loss: 0.6915 - accuracy: 0.53 - ETA: 0s - loss: 0.6916 - accuracy: 0.52 - ETA: 0s - loss: 0.6916 - accuracy: 0.52 - ETA: 0s - loss: 0.6913 - accuracy: 0.53 - ETA: 0s - loss: 0.6911 - accuracy: 0.53 - ETA: 0s - loss: 0.6912 - accuracy: 0.53 - 1s 944us/step - loss: 0.6913 - accuracy: 0.5318\n",
      "Epoch 69/100\n",
      "804/804 [==============================] - ETA: 0s - loss: 0.6885 - accuracy: 0.56 - ETA: 0s - loss: 0.6918 - accuracy: 0.52 - ETA: 0s - loss: 0.6908 - accuracy: 0.53 - ETA: 0s - loss: 0.6908 - accuracy: 0.53 - ETA: 0s - loss: 0.6909 - accuracy: 0.53 - ETA: 0s - loss: 0.6899 - accuracy: 0.54 - ETA: 0s - loss: 0.6907 - accuracy: 0.53 - ETA: 0s - loss: 0.6910 - accuracy: 0.53 - ETA: 0s - loss: 0.6910 - accuracy: 0.53 - ETA: 0s - loss: 0.6913 - accuracy: 0.53 - ETA: 0s - loss: 0.6910 - accuracy: 0.53 - ETA: 0s - loss: 0.6911 - accuracy: 0.53 - ETA: 0s - loss: 0.6912 - accuracy: 0.53 - ETA: 0s - loss: 0.6912 - accuracy: 0.53 - ETA: 0s - loss: 0.6913 - accuracy: 0.53 - 1s 938us/step - loss: 0.6914 - accuracy: 0.5318\n",
      "Epoch 70/100\n",
      "804/804 [==============================] - ETA: 0s - loss: 0.7104 - accuracy: 0.34 - ETA: 0s - loss: 0.6930 - accuracy: 0.51 - ETA: 0s - loss: 0.6917 - accuracy: 0.52 - ETA: 0s - loss: 0.6923 - accuracy: 0.52 - ETA: 0s - loss: 0.6914 - accuracy: 0.53 - ETA: 0s - loss: 0.6912 - accuracy: 0.53 - ETA: 0s - loss: 0.6909 - accuracy: 0.53 - ETA: 0s - loss: 0.6908 - accuracy: 0.53 - ETA: 0s - loss: 0.6912 - accuracy: 0.53 - ETA: 0s - loss: 0.6914 - accuracy: 0.53 - ETA: 0s - loss: 0.6913 - accuracy: 0.53 - ETA: 0s - loss: 0.6911 - accuracy: 0.53 - ETA: 0s - loss: 0.6914 - accuracy: 0.53 - ETA: 0s - loss: 0.6914 - accuracy: 0.53 - ETA: 0s - loss: 0.6913 - accuracy: 0.53 - 1s 943us/step - loss: 0.6914 - accuracy: 0.5318\n",
      "Epoch 71/100\n",
      "804/804 [==============================] - ETA: 0s - loss: 0.6876 - accuracy: 0.56 - ETA: 0s - loss: 0.6921 - accuracy: 0.52 - ETA: 0s - loss: 0.6927 - accuracy: 0.51 - ETA: 0s - loss: 0.6921 - accuracy: 0.52 - ETA: 0s - loss: 0.6911 - accuracy: 0.53 - ETA: 0s - loss: 0.6912 - accuracy: 0.53 - ETA: 0s - loss: 0.6906 - accuracy: 0.53 - ETA: 0s - loss: 0.6909 - accuracy: 0.53 - ETA: 0s - loss: 0.6909 - accuracy: 0.53 - ETA: 0s - loss: 0.6910 - accuracy: 0.53 - ETA: 0s - loss: 0.6911 - accuracy: 0.53 - ETA: 0s - loss: 0.6912 - accuracy: 0.53 - ETA: 0s - loss: 0.6912 - accuracy: 0.53 - ETA: 0s - loss: 0.6912 - accuracy: 0.53 - ETA: 0s - loss: 0.6914 - accuracy: 0.53 - ETA: 0s - loss: 0.6913 - accuracy: 0.53 - 1s 951us/step - loss: 0.6913 - accuracy: 0.5318\n",
      "Epoch 72/100\n",
      "804/804 [==============================] - ETA: 0s - loss: 0.6819 - accuracy: 0.59 - ETA: 0s - loss: 0.6931 - accuracy: 0.51 - ETA: 0s - loss: 0.6921 - accuracy: 0.52 - ETA: 0s - loss: 0.6919 - accuracy: 0.52 - ETA: 0s - loss: 0.6918 - accuracy: 0.52 - ETA: 0s - loss: 0.6918 - accuracy: 0.52 - ETA: 0s - loss: 0.6915 - accuracy: 0.53 - ETA: 0s - loss: 0.6910 - accuracy: 0.53 - ETA: 0s - loss: 0.6914 - accuracy: 0.53 - ETA: 0s - loss: 0.6915 - accuracy: 0.53 - ETA: 0s - loss: 0.6915 - accuracy: 0.53 - ETA: 0s - loss: 0.6914 - accuracy: 0.53 - ETA: 0s - loss: 0.6912 - accuracy: 0.53 - ETA: 0s - loss: 0.6914 - accuracy: 0.53 - ETA: 0s - loss: 0.6914 - accuracy: 0.53 - 1s 936us/step - loss: 0.6914 - accuracy: 0.5318\n",
      "Epoch 73/100\n",
      "804/804 [==============================] - ETA: 0s - loss: 0.6948 - accuracy: 0.50 - ETA: 0s - loss: 0.6911 - accuracy: 0.53 - ETA: 0s - loss: 0.6915 - accuracy: 0.53 - ETA: 0s - loss: 0.6914 - accuracy: 0.53 - ETA: 0s - loss: 0.6911 - accuracy: 0.53 - ETA: 0s - loss: 0.6910 - accuracy: 0.53 - ETA: 0s - loss: 0.6913 - accuracy: 0.53 - ETA: 0s - loss: 0.6911 - accuracy: 0.53 - ETA: 0s - loss: 0.6912 - accuracy: 0.53 - ETA: 0s - loss: 0.6912 - accuracy: 0.53 - ETA: 0s - loss: 0.6911 - accuracy: 0.53 - ETA: 0s - loss: 0.6911 - accuracy: 0.53 - ETA: 0s - loss: 0.6911 - accuracy: 0.53 - ETA: 0s - loss: 0.6912 - accuracy: 0.53 - ETA: 0s - loss: 0.6913 - accuracy: 0.53 - 1s 937us/step - loss: 0.6913 - accuracy: 0.5318\n",
      "Epoch 74/100\n",
      "804/804 [==============================] - ETA: 0s - loss: 0.6940 - accuracy: 0.50 - ETA: 0s - loss: 0.6907 - accuracy: 0.53 - ETA: 0s - loss: 0.6919 - accuracy: 0.52 - ETA: 0s - loss: 0.6914 - accuracy: 0.53 - ETA: 0s - loss: 0.6920 - accuracy: 0.52 - ETA: 0s - loss: 0.6919 - accuracy: 0.52 - ETA: 0s - loss: 0.6921 - accuracy: 0.52 - ETA: 0s - loss: 0.6919 - accuracy: 0.52 - ETA: 0s - loss: 0.6914 - accuracy: 0.53 - ETA: 0s - loss: 0.6913 - accuracy: 0.53 - ETA: 0s - loss: 0.6913 - accuracy: 0.53 - ETA: 0s - loss: 0.6913 - accuracy: 0.53 - ETA: 0s - loss: 0.6912 - accuracy: 0.53 - ETA: 0s - loss: 0.6912 - accuracy: 0.53 - ETA: 0s - loss: 0.6913 - accuracy: 0.53 - ETA: 0s - loss: 0.6913 - accuracy: 0.53 - 1s 952us/step - loss: 0.6913 - accuracy: 0.5318\n",
      "Epoch 75/100\n",
      "804/804 [==============================] - ETA: 0s - loss: 0.6945 - accuracy: 0.50 - ETA: 0s - loss: 0.6926 - accuracy: 0.51 - ETA: 0s - loss: 0.6928 - accuracy: 0.51 - ETA: 0s - loss: 0.6930 - accuracy: 0.51 - ETA: 0s - loss: 0.6926 - accuracy: 0.51 - ETA: 0s - loss: 0.6920 - accuracy: 0.52 - ETA: 0s - loss: 0.6921 - accuracy: 0.52 - ETA: 0s - loss: 0.6918 - accuracy: 0.52 - ETA: 0s - loss: 0.6915 - accuracy: 0.52 - ETA: 0s - loss: 0.6915 - accuracy: 0.52 - ETA: 0s - loss: 0.6911 - accuracy: 0.53 - ETA: 0s - loss: 0.6914 - accuracy: 0.53 - ETA: 0s - loss: 0.6913 - accuracy: 0.53 - ETA: 0s - loss: 0.6912 - accuracy: 0.53 - ETA: 0s - loss: 0.6913 - accuracy: 0.53 - ETA: 0s - loss: 0.6912 - accuracy: 0.53 - 1s 969us/step - loss: 0.6912 - accuracy: 0.5318\n",
      "Epoch 76/100\n",
      "804/804 [==============================] - ETA: 0s - loss: 0.6687 - accuracy: 0.71 - ETA: 0s - loss: 0.6914 - accuracy: 0.53 - ETA: 0s - loss: 0.6910 - accuracy: 0.53 - ETA: 0s - loss: 0.6903 - accuracy: 0.53 - ETA: 0s - loss: 0.6905 - accuracy: 0.53 - ETA: 0s - loss: 0.6908 - accuracy: 0.53 - ETA: 0s - loss: 0.6907 - accuracy: 0.53 - ETA: 0s - loss: 0.6912 - accuracy: 0.53 - ETA: 0s - loss: 0.6909 - accuracy: 0.53 - ETA: 0s - loss: 0.6913 - accuracy: 0.53 - ETA: 0s - loss: 0.6915 - accuracy: 0.53 - ETA: 0s - loss: 0.6916 - accuracy: 0.52 - ETA: 0s - loss: 0.6918 - accuracy: 0.52 - ETA: 0s - loss: 0.6917 - accuracy: 0.52 - ETA: 0s - loss: 0.6915 - accuracy: 0.53 - 1s 942us/step - loss: 0.6913 - accuracy: 0.5318\n",
      "Epoch 77/100\n"
     ]
    },
    {
     "name": "stdout",
     "output_type": "stream",
     "text": [
      "804/804 [==============================] - ETA: 0s - loss: 0.6546 - accuracy: 0.71 - ETA: 0s - loss: 0.6931 - accuracy: 0.52 - ETA: 0s - loss: 0.6929 - accuracy: 0.51 - ETA: 0s - loss: 0.6921 - accuracy: 0.52 - ETA: 0s - loss: 0.6911 - accuracy: 0.53 - ETA: 0s - loss: 0.6912 - accuracy: 0.53 - ETA: 0s - loss: 0.6916 - accuracy: 0.53 - ETA: 0s - loss: 0.6916 - accuracy: 0.52 - ETA: 0s - loss: 0.6917 - accuracy: 0.52 - ETA: 0s - loss: 0.6915 - accuracy: 0.53 - ETA: 0s - loss: 0.6915 - accuracy: 0.53 - ETA: 0s - loss: 0.6912 - accuracy: 0.53 - ETA: 0s - loss: 0.6913 - accuracy: 0.53 - ETA: 0s - loss: 0.6914 - accuracy: 0.53 - ETA: 0s - loss: 0.6914 - accuracy: 0.53 - ETA: 0s - loss: 0.6914 - accuracy: 0.53 - 1s 956us/step - loss: 0.6914 - accuracy: 0.5318\n",
      "Epoch 78/100\n",
      "804/804 [==============================] - ETA: 0s - loss: 0.6950 - accuracy: 0.50 - ETA: 0s - loss: 0.6921 - accuracy: 0.52 - ETA: 0s - loss: 0.6911 - accuracy: 0.53 - ETA: 0s - loss: 0.6926 - accuracy: 0.51 - ETA: 0s - loss: 0.6928 - accuracy: 0.51 - ETA: 0s - loss: 0.6923 - accuracy: 0.52 - ETA: 0s - loss: 0.6920 - accuracy: 0.52 - ETA: 0s - loss: 0.6919 - accuracy: 0.52 - ETA: 0s - loss: 0.6920 - accuracy: 0.52 - ETA: 0s - loss: 0.6916 - accuracy: 0.52 - ETA: 0s - loss: 0.6911 - accuracy: 0.53 - ETA: 0s - loss: 0.6911 - accuracy: 0.53 - ETA: 0s - loss: 0.6913 - accuracy: 0.53 - ETA: 0s - loss: 0.6912 - accuracy: 0.53 - ETA: 0s - loss: 0.6912 - accuracy: 0.53 - 1s 933us/step - loss: 0.6912 - accuracy: 0.5318\n",
      "Epoch 79/100\n",
      "804/804 [==============================] - ETA: 0s - loss: 0.6958 - accuracy: 0.50 - ETA: 0s - loss: 0.6953 - accuracy: 0.48 - ETA: 0s - loss: 0.6941 - accuracy: 0.50 - ETA: 0s - loss: 0.6930 - accuracy: 0.51 - ETA: 0s - loss: 0.6918 - accuracy: 0.52 - ETA: 0s - loss: 0.6916 - accuracy: 0.52 - ETA: 0s - loss: 0.6913 - accuracy: 0.53 - ETA: 0s - loss: 0.6907 - accuracy: 0.53 - ETA: 0s - loss: 0.6906 - accuracy: 0.53 - ETA: 0s - loss: 0.6908 - accuracy: 0.53 - ETA: 0s - loss: 0.6904 - accuracy: 0.53 - ETA: 0s - loss: 0.6905 - accuracy: 0.53 - ETA: 0s - loss: 0.6909 - accuracy: 0.53 - ETA: 0s - loss: 0.6910 - accuracy: 0.53 - ETA: 0s - loss: 0.6910 - accuracy: 0.53 - 1s 944us/step - loss: 0.6912 - accuracy: 0.5318\n",
      "Epoch 80/100\n",
      "804/804 [==============================] - ETA: 0s - loss: 0.6872 - accuracy: 0.59 - ETA: 0s - loss: 0.6902 - accuracy: 0.54 - ETA: 0s - loss: 0.6911 - accuracy: 0.53 - ETA: 0s - loss: 0.6906 - accuracy: 0.53 - ETA: 0s - loss: 0.6908 - accuracy: 0.53 - ETA: 0s - loss: 0.6916 - accuracy: 0.52 - ETA: 0s - loss: 0.6912 - accuracy: 0.53 - ETA: 0s - loss: 0.6915 - accuracy: 0.53 - ETA: 0s - loss: 0.6914 - accuracy: 0.53 - ETA: 0s - loss: 0.6912 - accuracy: 0.53 - ETA: 0s - loss: 0.6913 - accuracy: 0.53 - ETA: 0s - loss: 0.6914 - accuracy: 0.53 - ETA: 0s - loss: 0.6913 - accuracy: 0.53 - ETA: 0s - loss: 0.6914 - accuracy: 0.53 - ETA: 0s - loss: 0.6912 - accuracy: 0.53 - ETA: 0s - loss: 0.6914 - accuracy: 0.53 - 1s 966us/step - loss: 0.6914 - accuracy: 0.5318\n",
      "Epoch 81/100\n",
      "804/804 [==============================] - ETA: 0s - loss: 0.6883 - accuracy: 0.56 - ETA: 0s - loss: 0.6929 - accuracy: 0.51 - ETA: 0s - loss: 0.6916 - accuracy: 0.52 - ETA: 0s - loss: 0.6920 - accuracy: 0.52 - ETA: 0s - loss: 0.6917 - accuracy: 0.52 - ETA: 0s - loss: 0.6913 - accuracy: 0.53 - ETA: 0s - loss: 0.6913 - accuracy: 0.53 - ETA: 0s - loss: 0.6913 - accuracy: 0.53 - ETA: 0s - loss: 0.6911 - accuracy: 0.53 - ETA: 0s - loss: 0.6914 - accuracy: 0.53 - ETA: 0s - loss: 0.6915 - accuracy: 0.52 - ETA: 0s - loss: 0.6915 - accuracy: 0.53 - ETA: 0s - loss: 0.6915 - accuracy: 0.53 - ETA: 0s - loss: 0.6916 - accuracy: 0.52 - ETA: 0s - loss: 0.6916 - accuracy: 0.52 - 1s 945us/step - loss: 0.6912 - accuracy: 0.5318\n",
      "Epoch 82/100\n",
      "804/804 [==============================] - ETA: 0s - loss: 0.7179 - accuracy: 0.40 - ETA: 0s - loss: 0.6944 - accuracy: 0.51 - ETA: 0s - loss: 0.6916 - accuracy: 0.53 - ETA: 0s - loss: 0.6921 - accuracy: 0.52 - ETA: 0s - loss: 0.6921 - accuracy: 0.52 - ETA: 0s - loss: 0.6911 - accuracy: 0.53 - ETA: 0s - loss: 0.6914 - accuracy: 0.53 - ETA: 0s - loss: 0.6911 - accuracy: 0.53 - ETA: 0s - loss: 0.6914 - accuracy: 0.53 - ETA: 0s - loss: 0.6912 - accuracy: 0.53 - ETA: 0s - loss: 0.6913 - accuracy: 0.53 - ETA: 0s - loss: 0.6916 - accuracy: 0.53 - ETA: 0s - loss: 0.6915 - accuracy: 0.53 - ETA: 0s - loss: 0.6912 - accuracy: 0.53 - ETA: 0s - loss: 0.6915 - accuracy: 0.53 - ETA: 0s - loss: 0.6915 - accuracy: 0.53 - 1s 956us/step - loss: 0.6914 - accuracy: 0.5318\n",
      "Epoch 83/100\n",
      "804/804 [==============================] - ETA: 0s - loss: 0.6912 - accuracy: 0.53 - ETA: 0s - loss: 0.6906 - accuracy: 0.53 - ETA: 0s - loss: 0.6913 - accuracy: 0.53 - ETA: 0s - loss: 0.6911 - accuracy: 0.53 - ETA: 0s - loss: 0.6914 - accuracy: 0.53 - ETA: 0s - loss: 0.6911 - accuracy: 0.53 - ETA: 0s - loss: 0.6909 - accuracy: 0.53 - ETA: 0s - loss: 0.6913 - accuracy: 0.53 - ETA: 0s - loss: 0.6911 - accuracy: 0.53 - ETA: 0s - loss: 0.6911 - accuracy: 0.53 - ETA: 0s - loss: 0.6911 - accuracy: 0.53 - ETA: 0s - loss: 0.6912 - accuracy: 0.53 - ETA: 0s - loss: 0.6914 - accuracy: 0.53 - ETA: 0s - loss: 0.6914 - accuracy: 0.53 - ETA: 0s - loss: 0.6914 - accuracy: 0.53 - 1s 934us/step - loss: 0.6914 - accuracy: 0.5318\n",
      "Epoch 84/100\n",
      "804/804 [==============================] - ETA: 0s - loss: 0.6741 - accuracy: 0.65 - ETA: 0s - loss: 0.6920 - accuracy: 0.52 - ETA: 0s - loss: 0.6912 - accuracy: 0.53 - ETA: 0s - loss: 0.6911 - accuracy: 0.53 - ETA: 0s - loss: 0.6904 - accuracy: 0.53 - ETA: 0s - loss: 0.6910 - accuracy: 0.53 - ETA: 0s - loss: 0.6912 - accuracy: 0.53 - ETA: 0s - loss: 0.6911 - accuracy: 0.53 - ETA: 0s - loss: 0.6911 - accuracy: 0.53 - ETA: 0s - loss: 0.6911 - accuracy: 0.53 - ETA: 0s - loss: 0.6913 - accuracy: 0.53 - ETA: 0s - loss: 0.6913 - accuracy: 0.53 - ETA: 0s - loss: 0.6914 - accuracy: 0.53 - ETA: 0s - loss: 0.6914 - accuracy: 0.53 - ETA: 0s - loss: 0.6915 - accuracy: 0.53 - 1s 940us/step - loss: 0.6913 - accuracy: 0.5318\n",
      "Epoch 85/100\n",
      "804/804 [==============================] - ETA: 0s - loss: 0.6962 - accuracy: 0.50 - ETA: 0s - loss: 0.6933 - accuracy: 0.51 - ETA: 0s - loss: 0.6919 - accuracy: 0.52 - ETA: 0s - loss: 0.6907 - accuracy: 0.53 - ETA: 0s - loss: 0.6905 - accuracy: 0.53 - ETA: 0s - loss: 0.6910 - accuracy: 0.53 - ETA: 0s - loss: 0.6910 - accuracy: 0.53 - ETA: 0s - loss: 0.6914 - accuracy: 0.53 - ETA: 0s - loss: 0.6916 - accuracy: 0.53 - ETA: 0s - loss: 0.6913 - accuracy: 0.53 - ETA: 0s - loss: 0.6913 - accuracy: 0.53 - ETA: 0s - loss: 0.6914 - accuracy: 0.53 - ETA: 0s - loss: 0.6914 - accuracy: 0.53 - ETA: 0s - loss: 0.6914 - accuracy: 0.53 - ETA: 0s - loss: 0.6914 - accuracy: 0.53 - ETA: 0s - loss: 0.6914 - accuracy: 0.53 - 1s 964us/step - loss: 0.6914 - accuracy: 0.5318\n",
      "Epoch 86/100\n",
      "804/804 [==============================] - ETA: 0s - loss: 0.6830 - accuracy: 0.59 - ETA: 0s - loss: 0.6894 - accuracy: 0.54 - ETA: 0s - loss: 0.6898 - accuracy: 0.54 - ETA: 0s - loss: 0.6912 - accuracy: 0.53 - ETA: 0s - loss: 0.6913 - accuracy: 0.53 - ETA: 0s - loss: 0.6912 - accuracy: 0.53 - ETA: 0s - loss: 0.6915 - accuracy: 0.52 - ETA: 0s - loss: 0.6915 - accuracy: 0.52 - ETA: 0s - loss: 0.6913 - accuracy: 0.53 - ETA: 0s - loss: 0.6913 - accuracy: 0.53 - ETA: 0s - loss: 0.6911 - accuracy: 0.53 - ETA: 0s - loss: 0.6911 - accuracy: 0.53 - ETA: 0s - loss: 0.6909 - accuracy: 0.53 - ETA: 0s - loss: 0.6911 - accuracy: 0.53 - ETA: 0s - loss: 0.6913 - accuracy: 0.53 - 1s 937us/step - loss: 0.6913 - accuracy: 0.5318\n",
      "Epoch 87/100\n",
      "804/804 [==============================] - ETA: 0s - loss: 0.6972 - accuracy: 0.46 - ETA: 0s - loss: 0.6908 - accuracy: 0.53 - ETA: 0s - loss: 0.6921 - accuracy: 0.52 - ETA: 0s - loss: 0.6916 - accuracy: 0.53 - ETA: 0s - loss: 0.6920 - accuracy: 0.52 - ETA: 0s - loss: 0.6916 - accuracy: 0.53 - ETA: 0s - loss: 0.6914 - accuracy: 0.53 - ETA: 0s - loss: 0.6914 - accuracy: 0.53 - ETA: 0s - loss: 0.6916 - accuracy: 0.52 - ETA: 0s - loss: 0.6916 - accuracy: 0.52 - ETA: 0s - loss: 0.6916 - accuracy: 0.53 - ETA: 0s - loss: 0.6915 - accuracy: 0.53 - ETA: 0s - loss: 0.6916 - accuracy: 0.52 - ETA: 0s - loss: 0.6916 - accuracy: 0.52 - ETA: 0s - loss: 0.6914 - accuracy: 0.53 - 1s 939us/step - loss: 0.6913 - accuracy: 0.5318\n"
     ]
    },
    {
     "name": "stdout",
     "output_type": "stream",
     "text": [
      "Epoch 88/100\n",
      "804/804 [==============================] - ETA: 0s - loss: 0.6914 - accuracy: 0.53 - ETA: 0s - loss: 0.6914 - accuracy: 0.53 - ETA: 0s - loss: 0.6905 - accuracy: 0.53 - ETA: 0s - loss: 0.6914 - accuracy: 0.53 - ETA: 0s - loss: 0.6913 - accuracy: 0.53 - ETA: 0s - loss: 0.6914 - accuracy: 0.53 - ETA: 0s - loss: 0.6915 - accuracy: 0.53 - ETA: 0s - loss: 0.6918 - accuracy: 0.52 - ETA: 0s - loss: 0.6917 - accuracy: 0.52 - ETA: 0s - loss: 0.6915 - accuracy: 0.52 - ETA: 0s - loss: 0.6913 - accuracy: 0.53 - ETA: 0s - loss: 0.6913 - accuracy: 0.53 - ETA: 0s - loss: 0.6914 - accuracy: 0.53 - ETA: 0s - loss: 0.6912 - accuracy: 0.53 - ETA: 0s - loss: 0.6912 - accuracy: 0.53 - ETA: 0s - loss: 0.6913 - accuracy: 0.53 - 1s 957us/step - loss: 0.6913 - accuracy: 0.5318\n",
      "Epoch 89/100\n",
      "804/804 [==============================] - ETA: 0s - loss: 0.6878 - accuracy: 0.56 - ETA: 0s - loss: 0.6930 - accuracy: 0.51 - ETA: 0s - loss: 0.6923 - accuracy: 0.52 - ETA: 0s - loss: 0.6914 - accuracy: 0.53 - ETA: 0s - loss: 0.6914 - accuracy: 0.53 - ETA: 0s - loss: 0.6908 - accuracy: 0.53 - ETA: 0s - loss: 0.6912 - accuracy: 0.53 - ETA: 0s - loss: 0.6912 - accuracy: 0.53 - ETA: 0s - loss: 0.6911 - accuracy: 0.53 - ETA: 0s - loss: 0.6913 - accuracy: 0.53 - ETA: 0s - loss: 0.6911 - accuracy: 0.53 - ETA: 0s - loss: 0.6914 - accuracy: 0.53 - ETA: 0s - loss: 0.6913 - accuracy: 0.53 - ETA: 0s - loss: 0.6914 - accuracy: 0.53 - ETA: 0s - loss: 0.6913 - accuracy: 0.53 - 1s 937us/step - loss: 0.6914 - accuracy: 0.5318\n",
      "Epoch 90/100\n",
      "804/804 [==============================] - ETA: 0s - loss: 0.6946 - accuracy: 0.50 - ETA: 0s - loss: 0.6924 - accuracy: 0.52 - ETA: 0s - loss: 0.6924 - accuracy: 0.52 - ETA: 0s - loss: 0.6917 - accuracy: 0.52 - ETA: 0s - loss: 0.6920 - accuracy: 0.52 - ETA: 0s - loss: 0.6920 - accuracy: 0.52 - ETA: 0s - loss: 0.6919 - accuracy: 0.52 - ETA: 0s - loss: 0.6918 - accuracy: 0.52 - ETA: 0s - loss: 0.6918 - accuracy: 0.52 - ETA: 0s - loss: 0.6917 - accuracy: 0.52 - ETA: 0s - loss: 0.6917 - accuracy: 0.52 - ETA: 0s - loss: 0.6916 - accuracy: 0.52 - ETA: 0s - loss: 0.6913 - accuracy: 0.53 - ETA: 0s - loss: 0.6911 - accuracy: 0.53 - ETA: 0s - loss: 0.6910 - accuracy: 0.53 - 1s 947us/step - loss: 0.6912 - accuracy: 0.5318\n",
      "Epoch 91/100\n",
      "804/804 [==============================] - ETA: 0s - loss: 0.6884 - accuracy: 0.56 - ETA: 0s - loss: 0.6919 - accuracy: 0.52 - ETA: 0s - loss: 0.6921 - accuracy: 0.52 - ETA: 0s - loss: 0.6914 - accuracy: 0.53 - ETA: 0s - loss: 0.6911 - accuracy: 0.53 - ETA: 0s - loss: 0.6908 - accuracy: 0.53 - ETA: 0s - loss: 0.6909 - accuracy: 0.53 - ETA: 0s - loss: 0.6911 - accuracy: 0.53 - ETA: 0s - loss: 0.6911 - accuracy: 0.53 - ETA: 0s - loss: 0.6911 - accuracy: 0.53 - ETA: 0s - loss: 0.6913 - accuracy: 0.53 - ETA: 0s - loss: 0.6913 - accuracy: 0.53 - ETA: 0s - loss: 0.6913 - accuracy: 0.53 - ETA: 0s - loss: 0.6913 - accuracy: 0.53 - ETA: 0s - loss: 0.6913 - accuracy: 0.53 - 1s 937us/step - loss: 0.6913 - accuracy: 0.5318\n",
      "Epoch 92/100\n",
      "804/804 [==============================] - ETA: 0s - loss: 0.6778 - accuracy: 0.62 - ETA: 0s - loss: 0.6890 - accuracy: 0.54 - ETA: 0s - loss: 0.6893 - accuracy: 0.54 - ETA: 0s - loss: 0.6902 - accuracy: 0.53 - ETA: 0s - loss: 0.6899 - accuracy: 0.54 - ETA: 0s - loss: 0.6903 - accuracy: 0.53 - ETA: 0s - loss: 0.6901 - accuracy: 0.54 - ETA: 0s - loss: 0.6908 - accuracy: 0.53 - ETA: 0s - loss: 0.6911 - accuracy: 0.53 - ETA: 0s - loss: 0.6912 - accuracy: 0.53 - ETA: 0s - loss: 0.6910 - accuracy: 0.53 - ETA: 0s - loss: 0.6911 - accuracy: 0.53 - ETA: 0s - loss: 0.6912 - accuracy: 0.53 - ETA: 0s - loss: 0.6912 - accuracy: 0.53 - ETA: 0s - loss: 0.6912 - accuracy: 0.53 - ETA: 0s - loss: 0.6912 - accuracy: 0.53 - 1s 954us/step - loss: 0.6912 - accuracy: 0.5318\n",
      "Epoch 93/100\n",
      "804/804 [==============================] - ETA: 0s - loss: 0.6912 - accuracy: 0.53 - ETA: 0s - loss: 0.6946 - accuracy: 0.49 - ETA: 0s - loss: 0.6928 - accuracy: 0.52 - ETA: 0s - loss: 0.6920 - accuracy: 0.52 - ETA: 0s - loss: 0.6920 - accuracy: 0.52 - ETA: 0s - loss: 0.6918 - accuracy: 0.52 - ETA: 0s - loss: 0.6915 - accuracy: 0.53 - ETA: 0s - loss: 0.6912 - accuracy: 0.53 - ETA: 0s - loss: 0.6913 - accuracy: 0.53 - ETA: 0s - loss: 0.6916 - accuracy: 0.53 - ETA: 0s - loss: 0.6915 - accuracy: 0.53 - ETA: 0s - loss: 0.6915 - accuracy: 0.53 - ETA: 0s - loss: 0.6916 - accuracy: 0.53 - ETA: 0s - loss: 0.6915 - accuracy: 0.53 - ETA: 0s - loss: 0.6913 - accuracy: 0.53 - 1s 930us/step - loss: 0.6914 - accuracy: 0.5318\n",
      "Epoch 94/100\n",
      "804/804 [==============================] - ETA: 0s - loss: 0.6864 - accuracy: 0.56 - ETA: 0s - loss: 0.6914 - accuracy: 0.53 - ETA: 0s - loss: 0.6913 - accuracy: 0.53 - ETA: 0s - loss: 0.6913 - accuracy: 0.53 - ETA: 0s - loss: 0.6915 - accuracy: 0.52 - ETA: 0s - loss: 0.6917 - accuracy: 0.52 - ETA: 0s - loss: 0.6916 - accuracy: 0.52 - ETA: 0s - loss: 0.6913 - accuracy: 0.53 - ETA: 0s - loss: 0.6910 - accuracy: 0.53 - ETA: 0s - loss: 0.6912 - accuracy: 0.53 - ETA: 0s - loss: 0.6912 - accuracy: 0.53 - ETA: 0s - loss: 0.6913 - accuracy: 0.53 - ETA: 0s - loss: 0.6911 - accuracy: 0.53 - ETA: 0s - loss: 0.6912 - accuracy: 0.53 - ETA: 0s - loss: 0.6913 - accuracy: 0.53 - ETA: 0s - loss: 0.6913 - accuracy: 0.53 - 1s 962us/step - loss: 0.6913 - accuracy: 0.5318\n",
      "Epoch 95/100\n",
      "804/804 [==============================] - ETA: 0s - loss: 0.6801 - accuracy: 0.62 - ETA: 0s - loss: 0.6907 - accuracy: 0.53 - ETA: 0s - loss: 0.6914 - accuracy: 0.53 - ETA: 0s - loss: 0.6916 - accuracy: 0.52 - ETA: 0s - loss: 0.6913 - accuracy: 0.53 - ETA: 0s - loss: 0.6915 - accuracy: 0.53 - ETA: 0s - loss: 0.6916 - accuracy: 0.52 - ETA: 0s - loss: 0.6912 - accuracy: 0.53 - ETA: 0s - loss: 0.6912 - accuracy: 0.53 - ETA: 0s - loss: 0.6912 - accuracy: 0.53 - ETA: 0s - loss: 0.6914 - accuracy: 0.53 - ETA: 0s - loss: 0.6914 - accuracy: 0.53 - ETA: 0s - loss: 0.6914 - accuracy: 0.53 - ETA: 0s - loss: 0.6914 - accuracy: 0.53 - ETA: 0s - loss: 0.6914 - accuracy: 0.53 - 1s 941us/step - loss: 0.6913 - accuracy: 0.5318\n",
      "Epoch 96/100\n",
      "804/804 [==============================] - ETA: 0s - loss: 0.7309 - accuracy: 0.28 - ETA: 0s - loss: 0.6932 - accuracy: 0.51 - ETA: 0s - loss: 0.6903 - accuracy: 0.53 - ETA: 0s - loss: 0.6905 - accuracy: 0.53 - ETA: 0s - loss: 0.6910 - accuracy: 0.53 - ETA: 0s - loss: 0.6910 - accuracy: 0.53 - ETA: 0s - loss: 0.6911 - accuracy: 0.53 - ETA: 0s - loss: 0.6914 - accuracy: 0.53 - ETA: 0s - loss: 0.6912 - accuracy: 0.53 - ETA: 0s - loss: 0.6913 - accuracy: 0.53 - ETA: 0s - loss: 0.6910 - accuracy: 0.53 - ETA: 0s - loss: 0.6911 - accuracy: 0.53 - ETA: 0s - loss: 0.6912 - accuracy: 0.53 - ETA: 0s - loss: 0.6912 - accuracy: 0.53 - ETA: 0s - loss: 0.6913 - accuracy: 0.53 - 1s 943us/step - loss: 0.6913 - accuracy: 0.5318\n",
      "Epoch 97/100\n",
      "804/804 [==============================] - ETA: 0s - loss: 0.6878 - accuracy: 0.56 - ETA: 0s - loss: 0.6902 - accuracy: 0.54 - ETA: 0s - loss: 0.6903 - accuracy: 0.53 - ETA: 0s - loss: 0.6909 - accuracy: 0.53 - ETA: 0s - loss: 0.6911 - accuracy: 0.53 - ETA: 0s - loss: 0.6913 - accuracy: 0.53 - ETA: 0s - loss: 0.6912 - accuracy: 0.53 - ETA: 0s - loss: 0.6912 - accuracy: 0.53 - ETA: 0s - loss: 0.6912 - accuracy: 0.53 - ETA: 0s - loss: 0.6916 - accuracy: 0.52 - ETA: 0s - loss: 0.6916 - accuracy: 0.52 - ETA: 0s - loss: 0.6914 - accuracy: 0.53 - ETA: 0s - loss: 0.6915 - accuracy: 0.52 - ETA: 0s - loss: 0.6915 - accuracy: 0.53 - ETA: 0s - loss: 0.6913 - accuracy: 0.53 - 1s 943us/step - loss: 0.6913 - accuracy: 0.5318\n",
      "Epoch 98/100\n"
     ]
    },
    {
     "name": "stdout",
     "output_type": "stream",
     "text": [
      "804/804 [==============================] - ETA: 0s - loss: 0.6913 - accuracy: 0.53 - ETA: 0s - loss: 0.6898 - accuracy: 0.54 - ETA: 0s - loss: 0.6916 - accuracy: 0.52 - ETA: 0s - loss: 0.6912 - accuracy: 0.53 - ETA: 0s - loss: 0.6907 - accuracy: 0.53 - ETA: 0s - loss: 0.6913 - accuracy: 0.53 - ETA: 0s - loss: 0.6912 - accuracy: 0.53 - ETA: 0s - loss: 0.6916 - accuracy: 0.53 - ETA: 0s - loss: 0.6918 - accuracy: 0.52 - ETA: 0s - loss: 0.6919 - accuracy: 0.52 - ETA: 0s - loss: 0.6914 - accuracy: 0.53 - ETA: 0s - loss: 0.6917 - accuracy: 0.52 - ETA: 0s - loss: 0.6918 - accuracy: 0.52 - ETA: 0s - loss: 0.6916 - accuracy: 0.52 - ETA: 0s - loss: 0.6915 - accuracy: 0.53 - ETA: 0s - loss: 0.6915 - accuracy: 0.53 - 1s 982us/step - loss: 0.6914 - accuracy: 0.5318\n",
      "Epoch 99/100\n",
      "804/804 [==============================] - ETA: 0s - loss: 0.7007 - accuracy: 0.46 - ETA: 0s - loss: 0.6921 - accuracy: 0.52 - ETA: 0s - loss: 0.6915 - accuracy: 0.53 - ETA: 0s - loss: 0.6909 - accuracy: 0.53 - ETA: 0s - loss: 0.6914 - accuracy: 0.53 - ETA: 0s - loss: 0.6914 - accuracy: 0.53 - ETA: 0s - loss: 0.6911 - accuracy: 0.53 - ETA: 0s - loss: 0.6909 - accuracy: 0.53 - ETA: 0s - loss: 0.6907 - accuracy: 0.53 - ETA: 0s - loss: 0.6909 - accuracy: 0.53 - ETA: 0s - loss: 0.6911 - accuracy: 0.53 - ETA: 0s - loss: 0.6912 - accuracy: 0.53 - ETA: 0s - loss: 0.6909 - accuracy: 0.53 - ETA: 0s - loss: 0.6911 - accuracy: 0.53 - ETA: 0s - loss: 0.6912 - accuracy: 0.53 - 1s 941us/step - loss: 0.6913 - accuracy: 0.5318\n",
      "Epoch 100/100\n",
      "804/804 [==============================] - ETA: 0s - loss: 0.7117 - accuracy: 0.28 - ETA: 0s - loss: 0.6912 - accuracy: 0.53 - ETA: 0s - loss: 0.6920 - accuracy: 0.52 - ETA: 0s - loss: 0.6917 - accuracy: 0.52 - ETA: 0s - loss: 0.6914 - accuracy: 0.53 - ETA: 0s - loss: 0.6913 - accuracy: 0.53 - ETA: 0s - loss: 0.6907 - accuracy: 0.53 - ETA: 0s - loss: 0.6911 - accuracy: 0.53 - ETA: 0s - loss: 0.6911 - accuracy: 0.53 - ETA: 0s - loss: 0.6910 - accuracy: 0.53 - ETA: 0s - loss: 0.6911 - accuracy: 0.53 - ETA: 0s - loss: 0.6910 - accuracy: 0.53 - ETA: 0s - loss: 0.6910 - accuracy: 0.53 - ETA: 0s - loss: 0.6912 - accuracy: 0.53 - ETA: 0s - loss: 0.6913 - accuracy: 0.53 - 1s 927us/step - loss: 0.6913 - accuracy: 0.5318\n"
     ]
    }
   ],
   "source": [
    "# Train the model\n",
    "fit_model = nn.fit(X_train,y_train,epochs=100)"
   ]
  },
  {
   "cell_type": "code",
   "execution_count": 83,
   "metadata": {},
   "outputs": [
    {
     "name": "stdout",
     "output_type": "stream",
     "text": [
      "268/268 - 0s - loss: 0.8105 - accuracy: 0.5341\n",
      "Loss: 0.8105095028877258, Accuracy: 0.5341107845306396\n"
     ]
    }
   ],
   "source": [
    "# Evaluate the model using the test data\n",
    "model_loss, model_accuracy = nn.evaluate(X_test_scaled,y_test,verbose=2)\n",
    "print(f\"Loss: {model_loss}, Accuracy: {model_accuracy}\")"
   ]
  },
  {
   "cell_type": "markdown",
   "metadata": {},
   "source": [
    "## Attempt 2 - Additional hidden layers added"
   ]
  },
  {
   "cell_type": "code",
   "execution_count": 90,
   "metadata": {},
   "outputs": [
    {
     "name": "stdout",
     "output_type": "stream",
     "text": [
      "Model: \"sequential_15\"\n",
      "_________________________________________________________________\n",
      "Layer (type)                 Output Shape              Param #   \n",
      "=================================================================\n",
      "dense_63 (Dense)             (None, 100)               4500      \n",
      "_________________________________________________________________\n",
      "dense_64 (Dense)             (None, 80)                8080      \n",
      "_________________________________________________________________\n",
      "dense_65 (Dense)             (None, 40)                3240      \n",
      "_________________________________________________________________\n",
      "dense_66 (Dense)             (None, 20)                820       \n",
      "_________________________________________________________________\n",
      "dense_67 (Dense)             (None, 1)                 21        \n",
      "=================================================================\n",
      "Total params: 16,661\n",
      "Trainable params: 16,661\n",
      "Non-trainable params: 0\n",
      "_________________________________________________________________\n"
     ]
    }
   ],
   "source": [
    "# Define the model - deep neural net, i.e., the number of input features and hidden nodes for each layer.\n",
    "number_input_features = len(X_train[0])\n",
    "hidden_nodes_layer1 =  100\n",
    "hidden_nodes_layer2 = 80\n",
    "hidden_nodes_layer3 = 40\n",
    "hidden_nodes_layer4 = 20\n",
    "\n",
    "nn2 = tf.keras.models.Sequential()\n",
    "\n",
    "# First hidden layer\n",
    "nn2.add(tf.keras.layers.Dense(units=hidden_nodes_layer1, input_dim=number_input_features, activation=\"relu\"))\n",
    "\n",
    "# Second hidden layer\n",
    "nn2.add(tf.keras.layers.Dense(units=hidden_nodes_layer2, activation=\"relu\"))\n",
    "\n",
    "# Third hidden layer\n",
    "nn2.add(tf.keras.layers.Dense(units=hidden_nodes_layer3, activation=\"relu\"))\n",
    "\n",
    "# Fourth hidden layer\n",
    "nn2.add(tf.keras.layers.Dense(units=hidden_nodes_layer4, activation=\"relu\"))\n",
    "\n",
    "# Output layer\n",
    "nn2.add(tf.keras.layers.Dense(units=1, activation=\"sigmoid\"))\n",
    "\n",
    "# Check the structure of the model\n",
    "nn2.summary()"
   ]
  },
  {
   "cell_type": "code",
   "execution_count": 85,
   "metadata": {},
   "outputs": [
    {
     "name": "stdout",
     "output_type": "stream",
     "text": [
      "Epoch 1/100\n",
      "804/804 [==============================] - ETA: 0s - loss: 603.0552 - accuracy: 0.25 - ETA: 0s - loss: 9023.2480 - accuracy: 0.496 - ETA: 0s - loss: 6099.4448 - accuracy: 0.493 - ETA: 0s - loss: 11655.0137 - accuracy: 0.48 - ETA: 0s - loss: 13145.0479 - accuracy: 0.49 - ETA: 0s - loss: 12240.9043 - accuracy: 0.48 - ETA: 0s - loss: 10977.2100 - accuracy: 0.48 - ETA: 0s - loss: 10527.2656 - accuracy: 0.48 - ETA: 0s - loss: 9400.2930 - accuracy: 0.4902 - ETA: 0s - loss: 11168.1611 - accuracy: 0.49 - ETA: 0s - loss: 12177.2119 - accuracy: 0.48 - ETA: 0s - loss: 11246.2188 - accuracy: 0.48 - ETA: 0s - loss: 10313.6104 - accuracy: 0.48 - ETA: 0s - loss: 9694.8945 - accuracy: 0.4852 - ETA: 0s - loss: 9640.6318 - accuracy: 0.486 - ETA: 0s - loss: 10684.1260 - accuracy: 0.48 - ETA: 0s - loss: 10150.7217 - accuracy: 0.48 - ETA: 0s - loss: 9806.4990 - accuracy: 0.4889 - ETA: 0s - loss: 9345.3604 - accuracy: 0.486 - 1s 1ms/step - loss: 9119.8857 - accuracy: 0.4853\n",
      "Epoch 2/100\n",
      "804/804 [==============================] - ETA: 0s - loss: 206.1604 - accuracy: 0.50 - ETA: 1s - loss: 12448.0273 - accuracy: 0.47 - ETA: 0s - loss: 7282.8530 - accuracy: 0.4818 - ETA: 0s - loss: 9961.2900 - accuracy: 0.479 - ETA: 0s - loss: 7632.4263 - accuracy: 0.483 - ETA: 0s - loss: 6026.6411 - accuracy: 0.481 - ETA: 0s - loss: 5111.2920 - accuracy: 0.478 - ETA: 0s - loss: 4616.2920 - accuracy: 0.480 - ETA: 0s - loss: 4031.4587 - accuracy: 0.486 - ETA: 0s - loss: 3798.5476 - accuracy: 0.490 - ETA: 0s - loss: 5364.9736 - accuracy: 0.493 - ETA: 0s - loss: 4922.5654 - accuracy: 0.492 - ETA: 0s - loss: 4498.6450 - accuracy: 0.493 - ETA: 0s - loss: 4147.8027 - accuracy: 0.493 - ETA: 0s - loss: 3856.4548 - accuracy: 0.491 - ETA: 0s - loss: 3668.9343 - accuracy: 0.492 - ETA: 0s - loss: 3471.0149 - accuracy: 0.492 - ETA: 0s - loss: 3318.4978 - accuracy: 0.490 - ETA: 0s - loss: 3202.4429 - accuracy: 0.490 - ETA: 0s - loss: 3085.3406 - accuracy: 0.491 - 1s 1ms/step - loss: 3069.5229 - accuracy: 0.4934\n",
      "Epoch 3/100\n",
      "804/804 [==============================] - ETA: 0s - loss: 170.6216 - accuracy: 0.46 - ETA: 0s - loss: 15001.3379 - accuracy: 0.46 - ETA: 0s - loss: 20092.7637 - accuracy: 0.46 - ETA: 0s - loss: 14820.5234 - accuracy: 0.47 - ETA: 0s - loss: 15003.8535 - accuracy: 0.49 - ETA: 0s - loss: 13272.1484 - accuracy: 0.48 - ETA: 0s - loss: 11647.9668 - accuracy: 0.48 - ETA: 0s - loss: 10360.5732 - accuracy: 0.48 - ETA: 0s - loss: 9301.9248 - accuracy: 0.4785 - ETA: 0s - loss: 8519.5723 - accuracy: 0.477 - ETA: 0s - loss: 8105.6001 - accuracy: 0.482 - ETA: 0s - loss: 7703.2393 - accuracy: 0.481 - ETA: 0s - loss: 7475.7612 - accuracy: 0.479 - ETA: 0s - loss: 7888.6694 - accuracy: 0.479 - ETA: 0s - loss: 8173.6660 - accuracy: 0.478 - ETA: 0s - loss: 7683.0093 - accuracy: 0.480 - ETA: 0s - loss: 7264.2002 - accuracy: 0.480 - ETA: 0s - loss: 7040.3291 - accuracy: 0.482 - ETA: 0s - loss: 7614.1953 - accuracy: 0.484 - 1s 1ms/step - loss: 7519.7778 - accuracy: 0.4855\n",
      "Epoch 4/100\n",
      "804/804 [==============================] - ETA: 0s - loss: 165.0369 - accuracy: 0.53 - ETA: 0s - loss: 2565.3201 - accuracy: 0.492 - ETA: 0s - loss: 1708.1246 - accuracy: 0.497 - ETA: 0s - loss: 1143.6302 - accuracy: 0.506 - ETA: 0s - loss: 2968.6738 - accuracy: 0.509 - ETA: 0s - loss: 2435.8796 - accuracy: 0.503 - ETA: 0s - loss: 2108.0195 - accuracy: 0.502 - ETA: 0s - loss: 1807.2549 - accuracy: 0.500 - ETA: 0s - loss: 17035.5000 - accuracy: 0.49 - ETA: 0s - loss: 15571.9932 - accuracy: 0.49 - ETA: 0s - loss: 14469.8496 - accuracy: 0.50 - ETA: 0s - loss: 13313.7578 - accuracy: 0.50 - ETA: 0s - loss: 12201.2695 - accuracy: 0.50 - ETA: 0s - loss: 11259.5547 - accuracy: 0.50 - ETA: 0s - loss: 10383.7090 - accuracy: 0.50 - ETA: 0s - loss: 9633.3457 - accuracy: 0.5055 - ETA: 0s - loss: 9004.0791 - accuracy: 0.507 - ETA: 0s - loss: 8467.9570 - accuracy: 0.507 - ETA: 0s - loss: 8029.9282 - accuracy: 0.506 - 1s 1ms/step - loss: 7941.3965 - accuracy: 0.5062\n",
      "Epoch 5/100\n",
      "804/804 [==============================] - ETA: 0s - loss: 1.5138 - accuracy: 0.75 - ETA: 0s - loss: 318.6078 - accuracy: 0.49 - ETA: 1s - loss: 273.0901 - accuracy: 0.47 - ETA: 1s - loss: 203.8998 - accuracy: 0.48 - ETA: 0s - loss: 240.2679 - accuracy: 0.49 - ETA: 0s - loss: 239.3412 - accuracy: 0.50 - ETA: 0s - loss: 194.4102 - accuracy: 0.50 - ETA: 0s - loss: 181.0828 - accuracy: 0.50 - ETA: 0s - loss: 186.4508 - accuracy: 0.49 - ETA: 0s - loss: 197.2857 - accuracy: 0.49 - ETA: 0s - loss: 182.2015 - accuracy: 0.49 - ETA: 0s - loss: 174.1314 - accuracy: 0.50 - ETA: 0s - loss: 165.0900 - accuracy: 0.50 - ETA: 0s - loss: 153.1250 - accuracy: 0.50 - ETA: 0s - loss: 143.3634 - accuracy: 0.50 - ETA: 0s - loss: 134.3667 - accuracy: 0.50 - ETA: 0s - loss: 157.1176 - accuracy: 0.50 - ETA: 0s - loss: 224.6566 - accuracy: 0.50 - ETA: 0s - loss: 231.3496 - accuracy: 0.50 - ETA: 0s - loss: 473.4895 - accuracy: 0.50 - 1s 1ms/step - loss: 591.0226 - accuracy: 0.5056\n",
      "Epoch 6/100\n",
      "804/804 [==============================] - ETA: 0s - loss: 384.4420 - accuracy: 0.43 - ETA: 1s - loss: 13599.0498 - accuracy: 0.54 - ETA: 1s - loss: 8677.0986 - accuracy: 0.5097 - ETA: 1s - loss: 8085.9507 - accuracy: 0.500 - ETA: 0s - loss: 5750.0425 - accuracy: 0.488 - ETA: 0s - loss: 6643.9062 - accuracy: 0.492 - ETA: 0s - loss: 5646.7168 - accuracy: 0.498 - ETA: 0s - loss: 4926.1504 - accuracy: 0.504 - ETA: 0s - loss: 4679.1006 - accuracy: 0.502 - ETA: 0s - loss: 4082.4309 - accuracy: 0.505 - ETA: 0s - loss: 3650.0750 - accuracy: 0.508 - ETA: 0s - loss: 3340.2703 - accuracy: 0.511 - ETA: 0s - loss: 3081.9924 - accuracy: 0.508 - ETA: 0s - loss: 2851.5327 - accuracy: 0.505 - ETA: 0s - loss: 2651.7251 - accuracy: 0.505 - ETA: 0s - loss: 2467.4326 - accuracy: 0.506 - ETA: 0s - loss: 2321.6899 - accuracy: 0.504 - ETA: 0s - loss: 2182.8296 - accuracy: 0.504 - 1s 1ms/step - loss: 2081.7083 - accuracy: 0.5035\n",
      "Epoch 7/100\n",
      "804/804 [==============================] - ETA: 0s - loss: 3.5084 - accuracy: 0.65 - ETA: 0s - loss: 32.6645 - accuracy: 0.509 - ETA: 0s - loss: 376.7254 - accuracy: 0.51 - ETA: 0s - loss: 564.6044 - accuracy: 0.52 - ETA: 0s - loss: 464.6041 - accuracy: 0.52 - ETA: 0s - loss: 416.8587 - accuracy: 0.52 - ETA: 0s - loss: 366.7084 - accuracy: 0.52 - ETA: 0s - loss: 453.6742 - accuracy: 0.51 - ETA: 0s - loss: 396.7815 - accuracy: 0.51 - ETA: 0s - loss: 388.3035 - accuracy: 0.50 - ETA: 0s - loss: 353.7552 - accuracy: 0.50 - ETA: 0s - loss: 331.6111 - accuracy: 0.50 - ETA: 0s - loss: 304.5236 - accuracy: 0.50 - ETA: 0s - loss: 305.7247 - accuracy: 0.50 - ETA: 0s - loss: 285.5882 - accuracy: 0.49 - ETA: 0s - loss: 267.7421 - accuracy: 0.49 - ETA: 0s - loss: 261.0956 - accuracy: 0.49 - ETA: 0s - loss: 271.5665 - accuracy: 0.49 - ETA: 0s - loss: 259.4803 - accuracy: 0.49 - ETA: 0s - loss: 249.1282 - accuracy: 0.49 - 1s 1ms/step - loss: 260.0969 - accuracy: 0.4990\n",
      "Epoch 8/100\n",
      "804/804 [==============================] - ETA: 0s - loss: 282.3910 - accuracy: 0.43 - ETA: 0s - loss: 2148.6318 - accuracy: 0.516 - ETA: 0s - loss: 1613.4690 - accuracy: 0.535 - ETA: 0s - loss: 1443.4576 - accuracy: 0.531 - ETA: 0s - loss: 1433.4329 - accuracy: 0.535 - ETA: 0s - loss: 1357.8590 - accuracy: 0.537 - ETA: 0s - loss: 1124.5879 - accuracy: 0.527 - ETA: 0s - loss: 1263.6929 - accuracy: 0.525 - ETA: 0s - loss: 1254.6238 - accuracy: 0.524 - ETA: 0s - loss: 1116.2769 - accuracy: 0.522 - ETA: 0s - loss: 1007.9239 - accuracy: 0.521 - ETA: 0s - loss: 922.1727 - accuracy: 0.521 - ETA: 0s - loss: 851.4197 - accuracy: 0.52 - ETA: 0s - loss: 784.1234 - accuracy: 0.52 - ETA: 0s - loss: 733.0823 - accuracy: 0.52 - ETA: 0s - loss: 688.7164 - accuracy: 0.52 - ETA: 0s - loss: 644.9955 - accuracy: 0.52 - ETA: 0s - loss: 607.9993 - accuracy: 0.52 - 1s 1ms/step - loss: 579.4742 - accuracy: 0.5266\n",
      "Epoch 9/100\n"
     ]
    },
    {
     "name": "stdout",
     "output_type": "stream",
     "text": [
      "804/804 [==============================] - ETA: 0s - loss: 0.7014 - accuracy: 0.59 - ETA: 0s - loss: 2.2236 - accuracy: 0.50 - ETA: 0s - loss: 1.8117 - accuracy: 0.52 - ETA: 0s - loss: 24.9880 - accuracy: 0.529 - ETA: 0s - loss: 22.2956 - accuracy: 0.528 - ETA: 0s - loss: 17.6590 - accuracy: 0.528 - ETA: 0s - loss: 14.8614 - accuracy: 0.528 - ETA: 0s - loss: 12.9756 - accuracy: 0.526 - ETA: 0s - loss: 11.4697 - accuracy: 0.526 - ETA: 0s - loss: 10.2442 - accuracy: 0.526 - ETA: 0s - loss: 9.2497 - accuracy: 0.526 - ETA: 0s - loss: 8.4894 - accuracy: 0.52 - ETA: 0s - loss: 7.7866 - accuracy: 0.53 - ETA: 0s - loss: 7.2109 - accuracy: 0.53 - ETA: 0s - loss: 6.7223 - accuracy: 0.53 - ETA: 0s - loss: 6.3263 - accuracy: 0.53 - ETA: 0s - loss: 5.9727 - accuracy: 0.53 - ETA: 0s - loss: 5.6929 - accuracy: 0.53 - ETA: 0s - loss: 5.4173 - accuracy: 0.53 - 1s 1ms/step - loss: 5.3887 - accuracy: 0.5328\n",
      "Epoch 10/100\n",
      "804/804 [==============================] - ETA: 0s - loss: 0.6857 - accuracy: 0.56 - ETA: 0s - loss: 0.6911 - accuracy: 0.53 - ETA: 1s - loss: 0.6903 - accuracy: 0.54 - ETA: 0s - loss: 0.6906 - accuracy: 0.53 - ETA: 0s - loss: 0.6903 - accuracy: 0.53 - ETA: 0s - loss: 0.6911 - accuracy: 0.53 - ETA: 0s - loss: 0.6913 - accuracy: 0.53 - ETA: 0s - loss: 0.6910 - accuracy: 0.53 - ETA: 0s - loss: 0.6910 - accuracy: 0.53 - ETA: 0s - loss: 0.6911 - accuracy: 0.53 - ETA: 0s - loss: 0.6906 - accuracy: 0.53 - ETA: 0s - loss: 0.6909 - accuracy: 0.53 - ETA: 0s - loss: 0.6912 - accuracy: 0.53 - ETA: 0s - loss: 0.6914 - accuracy: 0.53 - ETA: 0s - loss: 0.6911 - accuracy: 0.53 - ETA: 0s - loss: 0.6909 - accuracy: 0.53 - ETA: 0s - loss: 0.6910 - accuracy: 0.53 - ETA: 0s - loss: 0.6911 - accuracy: 0.53 - ETA: 0s - loss: 0.6913 - accuracy: 0.53 - 1s 1ms/step - loss: 0.6913 - accuracy: 0.5318\n",
      "Epoch 11/100\n",
      "804/804 [==============================] - ETA: 0s - loss: 0.6863 - accuracy: 0.59 - ETA: 1s - loss: 0.6896 - accuracy: 0.54 - ETA: 0s - loss: 0.6914 - accuracy: 0.53 - ETA: 0s - loss: 0.6911 - accuracy: 0.53 - ETA: 0s - loss: 0.6908 - accuracy: 0.53 - ETA: 0s - loss: 0.6913 - accuracy: 0.53 - ETA: 0s - loss: 0.6910 - accuracy: 0.53 - ETA: 0s - loss: 0.6914 - accuracy: 0.53 - ETA: 0s - loss: 0.6916 - accuracy: 0.52 - ETA: 0s - loss: 0.6915 - accuracy: 0.53 - ETA: 0s - loss: 0.6916 - accuracy: 0.52 - ETA: 0s - loss: 0.6917 - accuracy: 0.52 - ETA: 0s - loss: 0.6916 - accuracy: 0.52 - ETA: 0s - loss: 0.6916 - accuracy: 0.52 - ETA: 0s - loss: 0.6913 - accuracy: 0.53 - ETA: 0s - loss: 0.6914 - accuracy: 0.53 - ETA: 0s - loss: 0.6912 - accuracy: 0.53 - ETA: 0s - loss: 0.6913 - accuracy: 0.53 - ETA: 0s - loss: 0.6913 - accuracy: 0.53 - 1s 1ms/step - loss: 0.6913 - accuracy: 0.5318\n",
      "Epoch 12/100\n",
      "804/804 [==============================] - ETA: 0s - loss: 0.6783 - accuracy: 0.62 - ETA: 0s - loss: 0.6923 - accuracy: 0.52 - ETA: 0s - loss: 0.6912 - accuracy: 0.53 - ETA: 0s - loss: 0.6911 - accuracy: 0.53 - ETA: 0s - loss: 0.6907 - accuracy: 0.53 - ETA: 0s - loss: 0.6907 - accuracy: 0.53 - ETA: 0s - loss: 0.6907 - accuracy: 0.53 - ETA: 0s - loss: 0.6904 - accuracy: 0.53 - ETA: 0s - loss: 0.6906 - accuracy: 0.53 - ETA: 0s - loss: 0.6909 - accuracy: 0.53 - ETA: 0s - loss: 0.6911 - accuracy: 0.53 - ETA: 0s - loss: 0.6911 - accuracy: 0.53 - ETA: 0s - loss: 0.6910 - accuracy: 0.53 - ETA: 0s - loss: 0.6911 - accuracy: 0.53 - ETA: 0s - loss: 0.6912 - accuracy: 0.53 - ETA: 0s - loss: 0.6913 - accuracy: 0.53 - ETA: 0s - loss: 0.6913 - accuracy: 0.53 - ETA: 0s - loss: 0.6913 - accuracy: 0.53 - 1s 1ms/step - loss: 0.6912 - accuracy: 0.5318\n",
      "Epoch 13/100\n",
      "804/804 [==============================] - ETA: 0s - loss: 0.7104 - accuracy: 0.37 - ETA: 1s - loss: 0.6884 - accuracy: 0.55 - ETA: 1s - loss: 0.6904 - accuracy: 0.53 - ETA: 0s - loss: 0.6910 - accuracy: 0.53 - ETA: 0s - loss: 0.6911 - accuracy: 0.53 - ETA: 0s - loss: 0.6910 - accuracy: 0.53 - ETA: 0s - loss: 0.6915 - accuracy: 0.52 - ETA: 0s - loss: 0.6917 - accuracy: 0.52 - ETA: 0s - loss: 0.6915 - accuracy: 0.52 - ETA: 0s - loss: 0.6911 - accuracy: 0.53 - ETA: 0s - loss: 0.6914 - accuracy: 0.53 - ETA: 0s - loss: 0.6912 - accuracy: 0.53 - ETA: 0s - loss: 0.6915 - accuracy: 0.53 - ETA: 0s - loss: 0.6913 - accuracy: 0.53 - ETA: 0s - loss: 0.6914 - accuracy: 0.53 - ETA: 0s - loss: 0.6913 - accuracy: 0.53 - ETA: 0s - loss: 0.6915 - accuracy: 0.52 - ETA: 0s - loss: 0.6914 - accuracy: 0.53 - ETA: 0s - loss: 0.6913 - accuracy: 0.53 - 1s 1ms/step - loss: 0.6913 - accuracy: 0.5318\n",
      "Epoch 14/100\n",
      "804/804 [==============================] - ETA: 0s - loss: 0.6863 - accuracy: 0.56 - ETA: 0s - loss: 0.6907 - accuracy: 0.53 - ETA: 0s - loss: 0.6904 - accuracy: 0.53 - ETA: 0s - loss: 0.6904 - accuracy: 0.53 - ETA: 0s - loss: 0.6911 - accuracy: 0.53 - ETA: 0s - loss: 0.6905 - accuracy: 0.53 - ETA: 0s - loss: 0.6905 - accuracy: 0.53 - ETA: 0s - loss: 0.6906 - accuracy: 0.53 - ETA: 0s - loss: 0.6907 - accuracy: 0.53 - ETA: 0s - loss: 0.6906 - accuracy: 0.53 - ETA: 0s - loss: 0.6908 - accuracy: 0.53 - ETA: 0s - loss: 0.6908 - accuracy: 0.53 - ETA: 0s - loss: 0.6911 - accuracy: 0.53 - ETA: 0s - loss: 0.6911 - accuracy: 0.53 - ETA: 0s - loss: 0.6912 - accuracy: 0.53 - ETA: 0s - loss: 0.6912 - accuracy: 0.53 - ETA: 0s - loss: 0.6912 - accuracy: 0.53 - ETA: 0s - loss: 0.6913 - accuracy: 0.53 - ETA: 0s - loss: 0.6913 - accuracy: 0.53 - ETA: 0s - loss: 0.6913 - accuracy: 0.53 - 1s 1ms/step - loss: 0.6913 - accuracy: 0.5318\n",
      "Epoch 15/100\n",
      "804/804 [==============================] - ETA: 0s - loss: 0.6838 - accuracy: 0.59 - ETA: 1s - loss: 0.6934 - accuracy: 0.51 - ETA: 1s - loss: 0.6918 - accuracy: 0.52 - ETA: 0s - loss: 0.6917 - accuracy: 0.52 - ETA: 0s - loss: 0.6914 - accuracy: 0.53 - ETA: 0s - loss: 0.6912 - accuracy: 0.53 - ETA: 0s - loss: 0.6909 - accuracy: 0.53 - ETA: 0s - loss: 0.6910 - accuracy: 0.53 - ETA: 0s - loss: 0.6908 - accuracy: 0.53 - ETA: 0s - loss: 0.6908 - accuracy: 0.53 - ETA: 0s - loss: 0.6909 - accuracy: 0.53 - ETA: 0s - loss: 0.6911 - accuracy: 0.53 - ETA: 0s - loss: 0.6912 - accuracy: 0.53 - ETA: 0s - loss: 0.6913 - accuracy: 0.53 - ETA: 0s - loss: 0.6913 - accuracy: 0.53 - ETA: 0s - loss: 0.6911 - accuracy: 0.53 - ETA: 0s - loss: 0.6912 - accuracy: 0.53 - ETA: 0s - loss: 0.6913 - accuracy: 0.53 - ETA: 0s - loss: 0.6913 - accuracy: 0.53 - 1s 1ms/step - loss: 0.6912 - accuracy: 0.5318\n",
      "Epoch 16/100\n",
      "804/804 [==============================] - ETA: 0s - loss: 0.6792 - accuracy: 0.62 - ETA: 1s - loss: 0.6909 - accuracy: 0.53 - ETA: 1s - loss: 0.6916 - accuracy: 0.52 - ETA: 1s - loss: 0.6910 - accuracy: 0.53 - ETA: 1s - loss: 0.6916 - accuracy: 0.52 - ETA: 0s - loss: 0.6911 - accuracy: 0.53 - ETA: 0s - loss: 0.6911 - accuracy: 0.53 - ETA: 0s - loss: 0.6914 - accuracy: 0.53 - ETA: 0s - loss: 0.6914 - accuracy: 0.53 - ETA: 0s - loss: 0.6916 - accuracy: 0.52 - ETA: 0s - loss: 0.6917 - accuracy: 0.52 - ETA: 0s - loss: 0.6916 - accuracy: 0.52 - ETA: 0s - loss: 0.6915 - accuracy: 0.52 - ETA: 0s - loss: 0.6915 - accuracy: 0.52 - ETA: 0s - loss: 0.6916 - accuracy: 0.52 - ETA: 0s - loss: 0.6914 - accuracy: 0.53 - ETA: 0s - loss: 0.6915 - accuracy: 0.52 - ETA: 0s - loss: 0.6915 - accuracy: 0.52 - ETA: 0s - loss: 0.6913 - accuracy: 0.53 - 1s 1ms/step - loss: 0.6912 - accuracy: 0.5318\n",
      "Epoch 17/100\n",
      "804/804 [==============================] - ETA: 0s - loss: 0.7224 - accuracy: 0.34 - ETA: 1s - loss: 0.6898 - accuracy: 0.54 - ETA: 1s - loss: 0.6898 - accuracy: 0.54 - ETA: 1s - loss: 0.6894 - accuracy: 0.54 - ETA: 0s - loss: 0.6910 - accuracy: 0.53 - ETA: 0s - loss: 0.6910 - accuracy: 0.53 - ETA: 0s - loss: 0.6909 - accuracy: 0.53 - ETA: 0s - loss: 0.6913 - accuracy: 0.53 - ETA: 0s - loss: 0.6916 - accuracy: 0.52 - ETA: 0s - loss: 0.6917 - accuracy: 0.52 - ETA: 0s - loss: 0.6918 - accuracy: 0.52 - ETA: 0s - loss: 0.6918 - accuracy: 0.52 - ETA: 0s - loss: 0.6917 - accuracy: 0.52 - ETA: 0s - loss: 0.6913 - accuracy: 0.53 - ETA: 0s - loss: 0.6914 - accuracy: 0.53 - ETA: 0s - loss: 0.6917 - accuracy: 0.52 - ETA: 0s - loss: 0.6917 - accuracy: 0.52 - ETA: 0s - loss: 0.6915 - accuracy: 0.52 - ETA: 0s - loss: 0.6913 - accuracy: 0.53 - ETA: 0s - loss: 0.6911 - accuracy: 0.53 - 1s 1ms/step - loss: 0.6912 - accuracy: 0.5318\n",
      "Epoch 18/100\n"
     ]
    },
    {
     "name": "stdout",
     "output_type": "stream",
     "text": [
      "804/804 [==============================] - ETA: 0s - loss: 0.7079 - accuracy: 0.43 - ETA: 0s - loss: 0.6891 - accuracy: 0.54 - ETA: 0s - loss: 0.6918 - accuracy: 0.52 - ETA: 0s - loss: 0.6916 - accuracy: 0.52 - ETA: 0s - loss: 0.6916 - accuracy: 0.52 - ETA: 0s - loss: 0.6915 - accuracy: 0.52 - ETA: 0s - loss: 0.6915 - accuracy: 0.52 - ETA: 0s - loss: 0.6916 - accuracy: 0.52 - ETA: 0s - loss: 0.6911 - accuracy: 0.53 - ETA: 0s - loss: 0.6909 - accuracy: 0.53 - ETA: 0s - loss: 0.6909 - accuracy: 0.53 - ETA: 0s - loss: 0.6906 - accuracy: 0.53 - ETA: 0s - loss: 0.6907 - accuracy: 0.53 - ETA: 0s - loss: 0.6908 - accuracy: 0.53 - ETA: 0s - loss: 0.6909 - accuracy: 0.53 - ETA: 0s - loss: 0.6909 - accuracy: 0.53 - ETA: 0s - loss: 0.6910 - accuracy: 0.53 - ETA: 0s - loss: 0.6912 - accuracy: 0.53 - 1s 1ms/step - loss: 0.6912 - accuracy: 0.5318\n",
      "Epoch 19/100\n",
      "804/804 [==============================] - ETA: 0s - loss: 0.6915 - accuracy: 0.53 - ETA: 0s - loss: 0.6914 - accuracy: 0.53 - ETA: 0s - loss: 0.6910 - accuracy: 0.53 - ETA: 0s - loss: 0.6915 - accuracy: 0.53 - ETA: 0s - loss: 0.6919 - accuracy: 0.52 - ETA: 0s - loss: 0.6919 - accuracy: 0.52 - ETA: 0s - loss: 0.6918 - accuracy: 0.52 - ETA: 0s - loss: 0.6920 - accuracy: 0.52 - ETA: 0s - loss: 0.6918 - accuracy: 0.52 - ETA: 0s - loss: 0.6918 - accuracy: 0.52 - ETA: 0s - loss: 0.6915 - accuracy: 0.52 - ETA: 0s - loss: 0.6917 - accuracy: 0.52 - ETA: 0s - loss: 0.6913 - accuracy: 0.53 - ETA: 0s - loss: 0.6911 - accuracy: 0.53 - ETA: 0s - loss: 0.6911 - accuracy: 0.53 - ETA: 0s - loss: 0.6911 - accuracy: 0.53 - ETA: 0s - loss: 0.6912 - accuracy: 0.53 - ETA: 0s - loss: 0.6912 - accuracy: 0.53 - ETA: 0s - loss: 0.6913 - accuracy: 0.53 - ETA: 0s - loss: 0.6913 - accuracy: 0.53 - ETA: 0s - loss: 0.6912 - accuracy: 0.53 - 1s 1ms/step - loss: 0.6912 - accuracy: 0.5318\n",
      "Epoch 20/100\n",
      "804/804 [==============================] - ETA: 0s - loss: 0.6788 - accuracy: 0.62 - ETA: 0s - loss: 0.6937 - accuracy: 0.51 - ETA: 0s - loss: 0.6921 - accuracy: 0.52 - ETA: 0s - loss: 0.6914 - accuracy: 0.53 - ETA: 0s - loss: 0.6917 - accuracy: 0.52 - ETA: 0s - loss: 0.6911 - accuracy: 0.53 - ETA: 0s - loss: 0.6912 - accuracy: 0.53 - ETA: 0s - loss: 0.6915 - accuracy: 0.53 - ETA: 0s - loss: 0.6917 - accuracy: 0.52 - ETA: 0s - loss: 0.6917 - accuracy: 0.52 - ETA: 0s - loss: 0.6918 - accuracy: 0.52 - ETA: 0s - loss: 0.6918 - accuracy: 0.52 - ETA: 0s - loss: 0.6918 - accuracy: 0.52 - ETA: 0s - loss: 0.6919 - accuracy: 0.52 - ETA: 0s - loss: 0.6917 - accuracy: 0.52 - ETA: 0s - loss: 0.6915 - accuracy: 0.52 - ETA: 0s - loss: 0.6915 - accuracy: 0.52 - ETA: 0s - loss: 0.6913 - accuracy: 0.53 - ETA: 0s - loss: 0.6913 - accuracy: 0.53 - ETA: 0s - loss: 0.6912 - accuracy: 0.53 - 1s 1ms/step - loss: 0.6912 - accuracy: 0.5318\n",
      "Epoch 21/100\n",
      "804/804 [==============================] - ETA: 0s - loss: 0.6913 - accuracy: 0.53 - ETA: 0s - loss: 0.6876 - accuracy: 0.55 - ETA: 0s - loss: 0.6907 - accuracy: 0.53 - ETA: 0s - loss: 0.6906 - accuracy: 0.53 - ETA: 0s - loss: 0.6911 - accuracy: 0.53 - ETA: 0s - loss: 0.6912 - accuracy: 0.53 - ETA: 0s - loss: 0.6913 - accuracy: 0.53 - ETA: 0s - loss: 0.6916 - accuracy: 0.52 - ETA: 0s - loss: 0.6916 - accuracy: 0.52 - ETA: 0s - loss: 0.6917 - accuracy: 0.52 - ETA: 0s - loss: 0.6915 - accuracy: 0.52 - ETA: 0s - loss: 0.6918 - accuracy: 0.52 - ETA: 0s - loss: 0.6917 - accuracy: 0.52 - ETA: 0s - loss: 0.6915 - accuracy: 0.52 - ETA: 0s - loss: 0.6914 - accuracy: 0.53 - ETA: 0s - loss: 0.6913 - accuracy: 0.53 - 1s 959us/step - loss: 0.6912 - accuracy: 0.5318\n",
      "Epoch 22/100\n",
      "804/804 [==============================] - ETA: 0s - loss: 0.6861 - accuracy: 0.56 - ETA: 0s - loss: 0.6903 - accuracy: 0.53 - ETA: 0s - loss: 0.6913 - accuracy: 0.53 - ETA: 0s - loss: 0.6915 - accuracy: 0.53 - ETA: 0s - loss: 0.6914 - accuracy: 0.53 - ETA: 0s - loss: 0.6916 - accuracy: 0.52 - ETA: 0s - loss: 0.6915 - accuracy: 0.53 - ETA: 0s - loss: 0.6911 - accuracy: 0.53 - ETA: 0s - loss: 0.6909 - accuracy: 0.53 - ETA: 0s - loss: 0.6908 - accuracy: 0.53 - ETA: 0s - loss: 0.6912 - accuracy: 0.53 - ETA: 0s - loss: 0.6911 - accuracy: 0.53 - ETA: 0s - loss: 0.6912 - accuracy: 0.53 - ETA: 0s - loss: 0.6914 - accuracy: 0.53 - ETA: 0s - loss: 0.6913 - accuracy: 0.53 - ETA: 0s - loss: 0.6913 - accuracy: 0.53 - 1s 963us/step - loss: 0.6913 - accuracy: 0.5318\n",
      "Epoch 23/100\n",
      "804/804 [==============================] - ETA: 0s - loss: 0.6987 - accuracy: 0.46 - ETA: 0s - loss: 0.6926 - accuracy: 0.51 - ETA: 0s - loss: 0.6919 - accuracy: 0.52 - ETA: 0s - loss: 0.6916 - accuracy: 0.52 - ETA: 0s - loss: 0.6911 - accuracy: 0.53 - ETA: 0s - loss: 0.6913 - accuracy: 0.53 - ETA: 0s - loss: 0.6914 - accuracy: 0.53 - ETA: 0s - loss: 0.6915 - accuracy: 0.52 - ETA: 0s - loss: 0.6915 - accuracy: 0.52 - ETA: 0s - loss: 0.6913 - accuracy: 0.53 - ETA: 0s - loss: 0.6913 - accuracy: 0.53 - ETA: 0s - loss: 0.6913 - accuracy: 0.53 - ETA: 0s - loss: 0.6914 - accuracy: 0.53 - ETA: 0s - loss: 0.6913 - accuracy: 0.53 - ETA: 0s - loss: 0.6913 - accuracy: 0.53 - ETA: 0s - loss: 0.6912 - accuracy: 0.53 - 1s 962us/step - loss: 0.6912 - accuracy: 0.5318\n",
      "Epoch 24/100\n",
      "804/804 [==============================] - ETA: 0s - loss: 0.6824 - accuracy: 0.59 - ETA: 0s - loss: 0.6922 - accuracy: 0.52 - ETA: 0s - loss: 0.6916 - accuracy: 0.52 - ETA: 0s - loss: 0.6915 - accuracy: 0.52 - ETA: 0s - loss: 0.6914 - accuracy: 0.53 - ETA: 0s - loss: 0.6915 - accuracy: 0.52 - ETA: 0s - loss: 0.6912 - accuracy: 0.53 - ETA: 0s - loss: 0.6911 - accuracy: 0.53 - ETA: 0s - loss: 0.6913 - accuracy: 0.53 - ETA: 0s - loss: 0.6914 - accuracy: 0.53 - ETA: 0s - loss: 0.6914 - accuracy: 0.53 - ETA: 0s - loss: 0.6914 - accuracy: 0.53 - ETA: 0s - loss: 0.6913 - accuracy: 0.53 - ETA: 0s - loss: 0.6913 - accuracy: 0.53 - ETA: 0s - loss: 0.6913 - accuracy: 0.53 - 1s 929us/step - loss: 0.6913 - accuracy: 0.5318\n",
      "Epoch 25/100\n",
      "804/804 [==============================] - ETA: 0s - loss: 0.6912 - accuracy: 0.53 - ETA: 0s - loss: 0.6907 - accuracy: 0.53 - ETA: 0s - loss: 0.6905 - accuracy: 0.53 - ETA: 0s - loss: 0.6896 - accuracy: 0.54 - ETA: 0s - loss: 0.6906 - accuracy: 0.53 - ETA: 0s - loss: 0.6910 - accuracy: 0.53 - ETA: 0s - loss: 0.6914 - accuracy: 0.52 - ETA: 0s - loss: 0.6912 - accuracy: 0.53 - ETA: 0s - loss: 0.6914 - accuracy: 0.53 - ETA: 0s - loss: 0.6910 - accuracy: 0.53 - ETA: 0s - loss: 0.6912 - accuracy: 0.53 - ETA: 0s - loss: 0.6913 - accuracy: 0.53 - ETA: 0s - loss: 0.6912 - accuracy: 0.53 - ETA: 0s - loss: 0.6912 - accuracy: 0.53 - ETA: 0s - loss: 0.6914 - accuracy: 0.53 - 1s 936us/step - loss: 0.6912 - accuracy: 0.5318\n",
      "Epoch 26/100\n",
      "804/804 [==============================] - ETA: 0s - loss: 0.6744 - accuracy: 0.65 - ETA: 0s - loss: 0.6923 - accuracy: 0.52 - ETA: 0s - loss: 0.6924 - accuracy: 0.52 - ETA: 0s - loss: 0.6921 - accuracy: 0.52 - ETA: 0s - loss: 0.6919 - accuracy: 0.52 - ETA: 0s - loss: 0.6920 - accuracy: 0.52 - ETA: 0s - loss: 0.6919 - accuracy: 0.52 - ETA: 0s - loss: 0.6917 - accuracy: 0.52 - ETA: 0s - loss: 0.6916 - accuracy: 0.52 - ETA: 0s - loss: 0.6914 - accuracy: 0.53 - ETA: 0s - loss: 0.6916 - accuracy: 0.52 - ETA: 0s - loss: 0.6915 - accuracy: 0.52 - ETA: 0s - loss: 0.6912 - accuracy: 0.53 - ETA: 0s - loss: 0.6913 - accuracy: 0.53 - ETA: 0s - loss: 0.6912 - accuracy: 0.53 - ETA: 0s - loss: 0.6912 - accuracy: 0.53 - 1s 959us/step - loss: 0.6912 - accuracy: 0.5318\n",
      "Epoch 27/100\n",
      "804/804 [==============================] - ETA: 0s - loss: 0.6999 - accuracy: 0.46 - ETA: 0s - loss: 0.6917 - accuracy: 0.52 - ETA: 0s - loss: 0.6915 - accuracy: 0.52 - ETA: 0s - loss: 0.6913 - accuracy: 0.53 - ETA: 0s - loss: 0.6910 - accuracy: 0.53 - ETA: 0s - loss: 0.6912 - accuracy: 0.53 - ETA: 0s - loss: 0.6912 - accuracy: 0.53 - ETA: 0s - loss: 0.6911 - accuracy: 0.53 - ETA: 0s - loss: 0.6911 - accuracy: 0.53 - ETA: 0s - loss: 0.6909 - accuracy: 0.53 - ETA: 0s - loss: 0.6911 - accuracy: 0.53 - ETA: 0s - loss: 0.6913 - accuracy: 0.53 - ETA: 0s - loss: 0.6913 - accuracy: 0.53 - ETA: 0s - loss: 0.6913 - accuracy: 0.53 - ETA: 0s - loss: 0.6913 - accuracy: 0.53 - ETA: 0s - loss: 0.6913 - accuracy: 0.53 - 1s 977us/step - loss: 0.6912 - accuracy: 0.5318\n",
      "Epoch 28/100\n"
     ]
    },
    {
     "name": "stdout",
     "output_type": "stream",
     "text": [
      "804/804 [==============================] - ETA: 0s - loss: 0.6954 - accuracy: 0.50 - ETA: 0s - loss: 0.6922 - accuracy: 0.52 - ETA: 0s - loss: 0.6931 - accuracy: 0.51 - ETA: 0s - loss: 0.6931 - accuracy: 0.51 - ETA: 0s - loss: 0.6928 - accuracy: 0.51 - ETA: 0s - loss: 0.6925 - accuracy: 0.52 - ETA: 0s - loss: 0.6924 - accuracy: 0.52 - ETA: 0s - loss: 0.6922 - accuracy: 0.52 - ETA: 0s - loss: 0.6919 - accuracy: 0.52 - ETA: 0s - loss: 0.6919 - accuracy: 0.52 - ETA: 0s - loss: 0.6915 - accuracy: 0.52 - ETA: 0s - loss: 0.6911 - accuracy: 0.53 - ETA: 0s - loss: 0.6910 - accuracy: 0.53 - ETA: 0s - loss: 0.6911 - accuracy: 0.53 - ETA: 0s - loss: 0.6911 - accuracy: 0.53 - 1s 944us/step - loss: 0.6911 - accuracy: 0.5318\n",
      "Epoch 29/100\n",
      "804/804 [==============================] - ETA: 0s - loss: 0.6826 - accuracy: 0.59 - ETA: 0s - loss: 0.6919 - accuracy: 0.52 - ETA: 0s - loss: 0.6913 - accuracy: 0.53 - ETA: 0s - loss: 0.6913 - accuracy: 0.53 - ETA: 0s - loss: 0.6914 - accuracy: 0.53 - ETA: 0s - loss: 0.6913 - accuracy: 0.53 - ETA: 0s - loss: 0.6917 - accuracy: 0.52 - ETA: 0s - loss: 0.6915 - accuracy: 0.52 - ETA: 0s - loss: 0.6913 - accuracy: 0.53 - ETA: 0s - loss: 0.6914 - accuracy: 0.53 - ETA: 0s - loss: 0.6913 - accuracy: 0.53 - ETA: 0s - loss: 0.6913 - accuracy: 0.53 - ETA: 0s - loss: 0.6912 - accuracy: 0.53 - ETA: 0s - loss: 0.6913 - accuracy: 0.53 - ETA: 0s - loss: 0.6913 - accuracy: 0.53 - 1s 935us/step - loss: 0.6912 - accuracy: 0.5318\n",
      "Epoch 30/100\n",
      "804/804 [==============================] - ETA: 0s - loss: 0.6791 - accuracy: 0.62 - ETA: 0s - loss: 0.6924 - accuracy: 0.52 - ETA: 0s - loss: 0.6919 - accuracy: 0.52 - ETA: 0s - loss: 0.6917 - accuracy: 0.52 - ETA: 0s - loss: 0.6914 - accuracy: 0.53 - ETA: 0s - loss: 0.6915 - accuracy: 0.52 - ETA: 0s - loss: 0.6912 - accuracy: 0.53 - ETA: 0s - loss: 0.6913 - accuracy: 0.53 - ETA: 0s - loss: 0.6909 - accuracy: 0.53 - ETA: 0s - loss: 0.6907 - accuracy: 0.53 - ETA: 0s - loss: 0.6911 - accuracy: 0.53 - ETA: 0s - loss: 0.6912 - accuracy: 0.53 - ETA: 0s - loss: 0.6911 - accuracy: 0.53 - ETA: 0s - loss: 0.6911 - accuracy: 0.53 - ETA: 0s - loss: 0.6912 - accuracy: 0.53 - ETA: 0s - loss: 0.6913 - accuracy: 0.53 - 1s 977us/step - loss: 0.6913 - accuracy: 0.5318\n",
      "Epoch 31/100\n",
      "804/804 [==============================] - ETA: 0s - loss: 0.6785 - accuracy: 0.65 - ETA: 0s - loss: 0.6916 - accuracy: 0.52 - ETA: 0s - loss: 0.6903 - accuracy: 0.53 - ETA: 0s - loss: 0.6916 - accuracy: 0.52 - ETA: 0s - loss: 0.6920 - accuracy: 0.52 - ETA: 0s - loss: 0.6921 - accuracy: 0.52 - ETA: 0s - loss: 0.6918 - accuracy: 0.52 - ETA: 0s - loss: 0.6917 - accuracy: 0.52 - ETA: 0s - loss: 0.6912 - accuracy: 0.53 - ETA: 0s - loss: 0.6913 - accuracy: 0.53 - ETA: 0s - loss: 0.6914 - accuracy: 0.52 - ETA: 0s - loss: 0.6914 - accuracy: 0.53 - ETA: 0s - loss: 0.6913 - accuracy: 0.53 - ETA: 0s - loss: 0.6910 - accuracy: 0.53 - ETA: 0s - loss: 0.6910 - accuracy: 0.53 - ETA: 0s - loss: 0.6909 - accuracy: 0.53 - ETA: 0s - loss: 0.6911 - accuracy: 0.53 - 1s 1ms/step - loss: 0.6912 - accuracy: 0.5318\n",
      "Epoch 32/100\n",
      "804/804 [==============================] - ETA: 0s - loss: 0.6818 - accuracy: 0.62 - ETA: 0s - loss: 0.6912 - accuracy: 0.53 - ETA: 0s - loss: 0.6916 - accuracy: 0.52 - ETA: 0s - loss: 0.6917 - accuracy: 0.52 - ETA: 0s - loss: 0.6914 - accuracy: 0.53 - ETA: 0s - loss: 0.6913 - accuracy: 0.53 - ETA: 0s - loss: 0.6914 - accuracy: 0.53 - ETA: 0s - loss: 0.6917 - accuracy: 0.52 - ETA: 0s - loss: 0.6915 - accuracy: 0.52 - ETA: 0s - loss: 0.6915 - accuracy: 0.52 - ETA: 0s - loss: 0.6913 - accuracy: 0.53 - ETA: 0s - loss: 0.6913 - accuracy: 0.53 - ETA: 0s - loss: 0.6912 - accuracy: 0.53 - ETA: 0s - loss: 0.6913 - accuracy: 0.53 - ETA: 0s - loss: 0.6914 - accuracy: 0.53 - ETA: 0s - loss: 0.6912 - accuracy: 0.53 - ETA: 0s - loss: 0.6912 - accuracy: 0.53 - 1s 1ms/step - loss: 0.6912 - accuracy: 0.5318\n",
      "Epoch 33/100\n",
      "804/804 [==============================] - ETA: 0s - loss: 0.6830 - accuracy: 0.59 - ETA: 0s - loss: 0.6927 - accuracy: 0.51 - ETA: 0s - loss: 0.6927 - accuracy: 0.51 - ETA: 0s - loss: 0.6929 - accuracy: 0.51 - ETA: 0s - loss: 0.6926 - accuracy: 0.51 - ETA: 0s - loss: 0.6927 - accuracy: 0.51 - ETA: 0s - loss: 0.6924 - accuracy: 0.52 - ETA: 0s - loss: 0.6924 - accuracy: 0.52 - ETA: 0s - loss: 0.6916 - accuracy: 0.52 - ETA: 0s - loss: 0.6912 - accuracy: 0.52 - ETA: 0s - loss: 0.6914 - accuracy: 0.52 - ETA: 0s - loss: 0.6913 - accuracy: 0.52 - ETA: 0s - loss: 0.6914 - accuracy: 0.52 - ETA: 0s - loss: 0.6914 - accuracy: 0.52 - ETA: 0s - loss: 0.6912 - accuracy: 0.53 - ETA: 0s - loss: 0.6912 - accuracy: 0.53 - ETA: 0s - loss: 0.6911 - accuracy: 0.53 - 1s 1ms/step - loss: 0.6911 - accuracy: 0.5318\n",
      "Epoch 34/100\n",
      "804/804 [==============================] - ETA: 0s - loss: 0.6961 - accuracy: 0.50 - ETA: 0s - loss: 0.6918 - accuracy: 0.52 - ETA: 0s - loss: 0.6919 - accuracy: 0.52 - ETA: 0s - loss: 0.6915 - accuracy: 0.52 - ETA: 0s - loss: 0.6913 - accuracy: 0.53 - ETA: 0s - loss: 0.6914 - accuracy: 0.53 - ETA: 0s - loss: 0.6915 - accuracy: 0.53 - ETA: 0s - loss: 0.6912 - accuracy: 0.53 - ETA: 0s - loss: 0.6913 - accuracy: 0.53 - ETA: 0s - loss: 0.6913 - accuracy: 0.53 - ETA: 0s - loss: 0.6914 - accuracy: 0.53 - ETA: 0s - loss: 0.6915 - accuracy: 0.52 - ETA: 0s - loss: 0.6914 - accuracy: 0.53 - ETA: 0s - loss: 0.6912 - accuracy: 0.53 - ETA: 0s - loss: 0.6912 - accuracy: 0.53 - ETA: 0s - loss: 0.6913 - accuracy: 0.53 - ETA: 0s - loss: 0.6912 - accuracy: 0.53 - 1s 1ms/step - loss: 0.6912 - accuracy: 0.5318\n",
      "Epoch 35/100\n",
      "804/804 [==============================] - ETA: 0s - loss: 0.6998 - accuracy: 0.46 - ETA: 0s - loss: 0.6910 - accuracy: 0.53 - ETA: 0s - loss: 0.6918 - accuracy: 0.52 - ETA: 0s - loss: 0.6923 - accuracy: 0.52 - ETA: 0s - loss: 0.6918 - accuracy: 0.52 - ETA: 0s - loss: 0.6913 - accuracy: 0.53 - ETA: 0s - loss: 0.6912 - accuracy: 0.53 - ETA: 0s - loss: 0.6905 - accuracy: 0.53 - ETA: 0s - loss: 0.6901 - accuracy: 0.53 - ETA: 0s - loss: 0.6903 - accuracy: 0.53 - ETA: 0s - loss: 0.6908 - accuracy: 0.53 - ETA: 0s - loss: 0.6910 - accuracy: 0.53 - ETA: 0s - loss: 0.6911 - accuracy: 0.53 - ETA: 0s - loss: 0.6912 - accuracy: 0.53 - ETA: 0s - loss: 0.6913 - accuracy: 0.53 - ETA: 0s - loss: 0.6913 - accuracy: 0.53 - 1s 1000us/step - loss: 0.6912 - accuracy: 0.5318\n",
      "Epoch 36/100\n",
      "804/804 [==============================] - ETA: 0s - loss: 0.6873 - accuracy: 0.56 - ETA: 0s - loss: 0.6915 - accuracy: 0.52 - ETA: 0s - loss: 0.6909 - accuracy: 0.53 - ETA: 0s - loss: 0.6902 - accuracy: 0.53 - ETA: 0s - loss: 0.6910 - accuracy: 0.53 - ETA: 0s - loss: 0.6911 - accuracy: 0.53 - ETA: 0s - loss: 0.6914 - accuracy: 0.52 - ETA: 0s - loss: 0.6914 - accuracy: 0.53 - ETA: 0s - loss: 0.6916 - accuracy: 0.52 - ETA: 0s - loss: 0.6917 - accuracy: 0.52 - ETA: 0s - loss: 0.6916 - accuracy: 0.52 - ETA: 0s - loss: 0.6913 - accuracy: 0.53 - ETA: 0s - loss: 0.6913 - accuracy: 0.53 - ETA: 0s - loss: 0.6910 - accuracy: 0.53 - ETA: 0s - loss: 0.6912 - accuracy: 0.53 - ETA: 0s - loss: 0.6913 - accuracy: 0.53 - ETA: 0s - loss: 0.6912 - accuracy: 0.53 - ETA: 0s - loss: 0.6912 - accuracy: 0.53 - 1s 1ms/step - loss: 0.6912 - accuracy: 0.5318\n",
      "Epoch 37/100\n",
      "804/804 [==============================] - ETA: 0s - loss: 0.6792 - accuracy: 0.62 - ETA: 0s - loss: 0.6894 - accuracy: 0.54 - ETA: 0s - loss: 0.6887 - accuracy: 0.54 - ETA: 0s - loss: 0.6886 - accuracy: 0.54 - ETA: 0s - loss: 0.6887 - accuracy: 0.54 - ETA: 0s - loss: 0.6896 - accuracy: 0.54 - ETA: 0s - loss: 0.6903 - accuracy: 0.53 - ETA: 0s - loss: 0.6903 - accuracy: 0.53 - ETA: 0s - loss: 0.6903 - accuracy: 0.53 - ETA: 0s - loss: 0.6904 - accuracy: 0.53 - ETA: 0s - loss: 0.6908 - accuracy: 0.53 - ETA: 0s - loss: 0.6907 - accuracy: 0.53 - ETA: 0s - loss: 0.6907 - accuracy: 0.53 - ETA: 0s - loss: 0.6906 - accuracy: 0.53 - ETA: 0s - loss: 0.6907 - accuracy: 0.53 - ETA: 0s - loss: 0.6907 - accuracy: 0.53 - ETA: 0s - loss: 0.6909 - accuracy: 0.53 - ETA: 0s - loss: 0.6910 - accuracy: 0.53 - 1s 1ms/step - loss: 0.6911 - accuracy: 0.5318\n",
      "Epoch 38/100\n"
     ]
    },
    {
     "name": "stdout",
     "output_type": "stream",
     "text": [
      "804/804 [==============================] - ETA: 0s - loss: 0.6939 - accuracy: 0.50 - ETA: 0s - loss: 0.6908 - accuracy: 0.54 - ETA: 0s - loss: 0.6913 - accuracy: 0.53 - ETA: 0s - loss: 0.6911 - accuracy: 0.53 - ETA: 0s - loss: 0.6913 - accuracy: 0.53 - ETA: 0s - loss: 0.6909 - accuracy: 0.53 - ETA: 0s - loss: 0.6907 - accuracy: 0.53 - ETA: 0s - loss: 0.6911 - accuracy: 0.53 - ETA: 0s - loss: 0.6913 - accuracy: 0.53 - ETA: 0s - loss: 0.6913 - accuracy: 0.53 - ETA: 0s - loss: 0.6914 - accuracy: 0.53 - ETA: 0s - loss: 0.6913 - accuracy: 0.53 - ETA: 0s - loss: 0.6912 - accuracy: 0.53 - ETA: 0s - loss: 0.6913 - accuracy: 0.53 - ETA: 0s - loss: 0.6915 - accuracy: 0.52 - ETA: 0s - loss: 0.6914 - accuracy: 0.53 - 1s 972us/step - loss: 0.6913 - accuracy: 0.5318\n",
      "Epoch 39/100\n",
      "804/804 [==============================] - ETA: 0s - loss: 0.6688 - accuracy: 0.68 - ETA: 0s - loss: 0.6897 - accuracy: 0.54 - ETA: 0s - loss: 0.6920 - accuracy: 0.52 - ETA: 0s - loss: 0.6916 - accuracy: 0.52 - ETA: 0s - loss: 0.6912 - accuracy: 0.53 - ETA: 0s - loss: 0.6914 - accuracy: 0.53 - ETA: 0s - loss: 0.6914 - accuracy: 0.53 - ETA: 0s - loss: 0.6914 - accuracy: 0.53 - ETA: 0s - loss: 0.6913 - accuracy: 0.53 - ETA: 0s - loss: 0.6914 - accuracy: 0.53 - ETA: 0s - loss: 0.6913 - accuracy: 0.53 - ETA: 0s - loss: 0.6910 - accuracy: 0.53 - ETA: 0s - loss: 0.6909 - accuracy: 0.53 - ETA: 0s - loss: 0.6911 - accuracy: 0.53 - ETA: 0s - loss: 0.6911 - accuracy: 0.53 - ETA: 0s - loss: 0.6911 - accuracy: 0.53 - 1s 963us/step - loss: 0.6912 - accuracy: 0.5318\n",
      "Epoch 40/100\n",
      "804/804 [==============================] - ETA: 0s - loss: 0.6912 - accuracy: 0.53 - ETA: 0s - loss: 0.6914 - accuracy: 0.53 - ETA: 0s - loss: 0.6908 - accuracy: 0.53 - ETA: 0s - loss: 0.6911 - accuracy: 0.53 - ETA: 0s - loss: 0.6904 - accuracy: 0.53 - ETA: 0s - loss: 0.6902 - accuracy: 0.53 - ETA: 0s - loss: 0.6906 - accuracy: 0.53 - ETA: 0s - loss: 0.6910 - accuracy: 0.53 - ETA: 0s - loss: 0.6908 - accuracy: 0.53 - ETA: 0s - loss: 0.6908 - accuracy: 0.53 - ETA: 0s - loss: 0.6910 - accuracy: 0.53 - ETA: 0s - loss: 0.6911 - accuracy: 0.53 - ETA: 0s - loss: 0.6910 - accuracy: 0.53 - ETA: 0s - loss: 0.6911 - accuracy: 0.53 - ETA: 0s - loss: 0.6911 - accuracy: 0.53 - 1s 937us/step - loss: 0.6912 - accuracy: 0.5318\n",
      "Epoch 41/100\n",
      "804/804 [==============================] - ETA: 0s - loss: 0.6879 - accuracy: 0.56 - ETA: 0s - loss: 0.6923 - accuracy: 0.52 - ETA: 0s - loss: 0.6926 - accuracy: 0.51 - ETA: 0s - loss: 0.6920 - accuracy: 0.52 - ETA: 0s - loss: 0.6917 - accuracy: 0.52 - ETA: 0s - loss: 0.6914 - accuracy: 0.53 - ETA: 0s - loss: 0.6919 - accuracy: 0.52 - ETA: 0s - loss: 0.6919 - accuracy: 0.52 - ETA: 0s - loss: 0.6917 - accuracy: 0.52 - ETA: 0s - loss: 0.6914 - accuracy: 0.53 - ETA: 0s - loss: 0.6913 - accuracy: 0.53 - ETA: 0s - loss: 0.6914 - accuracy: 0.53 - ETA: 0s - loss: 0.6911 - accuracy: 0.53 - ETA: 0s - loss: 0.6911 - accuracy: 0.53 - ETA: 0s - loss: 0.6912 - accuracy: 0.53 - ETA: 0s - loss: 0.6912 - accuracy: 0.53 - 1s 967us/step - loss: 0.6912 - accuracy: 0.5318\n",
      "Epoch 42/100\n",
      "804/804 [==============================] - ETA: 0s - loss: 0.6951 - accuracy: 0.50 - ETA: 0s - loss: 0.6925 - accuracy: 0.52 - ETA: 0s - loss: 0.6909 - accuracy: 0.53 - ETA: 0s - loss: 0.6914 - accuracy: 0.53 - ETA: 0s - loss: 0.6913 - accuracy: 0.53 - ETA: 0s - loss: 0.6914 - accuracy: 0.53 - ETA: 0s - loss: 0.6913 - accuracy: 0.53 - ETA: 0s - loss: 0.6913 - accuracy: 0.53 - ETA: 0s - loss: 0.6913 - accuracy: 0.53 - ETA: 0s - loss: 0.6914 - accuracy: 0.52 - ETA: 0s - loss: 0.6916 - accuracy: 0.52 - ETA: 0s - loss: 0.6914 - accuracy: 0.53 - ETA: 0s - loss: 0.6914 - accuracy: 0.53 - ETA: 0s - loss: 0.6915 - accuracy: 0.52 - ETA: 0s - loss: 0.6913 - accuracy: 0.53 - ETA: 0s - loss: 0.6913 - accuracy: 0.53 - 1s 969us/step - loss: 0.6912 - accuracy: 0.5318\n",
      "Epoch 43/100\n",
      "804/804 [==============================] - ETA: 0s - loss: 0.6913 - accuracy: 0.53 - ETA: 0s - loss: 0.6896 - accuracy: 0.54 - ETA: 0s - loss: 0.6895 - accuracy: 0.54 - ETA: 0s - loss: 0.6898 - accuracy: 0.54 - ETA: 0s - loss: 0.6904 - accuracy: 0.53 - ETA: 0s - loss: 0.6901 - accuracy: 0.53 - ETA: 0s - loss: 0.6902 - accuracy: 0.53 - ETA: 0s - loss: 0.6902 - accuracy: 0.53 - ETA: 0s - loss: 0.6907 - accuracy: 0.53 - ETA: 0s - loss: 0.6909 - accuracy: 0.53 - ETA: 0s - loss: 0.6909 - accuracy: 0.53 - ETA: 0s - loss: 0.6911 - accuracy: 0.53 - ETA: 0s - loss: 0.6911 - accuracy: 0.53 - ETA: 0s - loss: 0.6911 - accuracy: 0.53 - ETA: 0s - loss: 0.6911 - accuracy: 0.53 - 1s 937us/step - loss: 0.6912 - accuracy: 0.5318\n",
      "Epoch 44/100\n",
      "804/804 [==============================] - ETA: 0s - loss: 0.7049 - accuracy: 0.40 - ETA: 0s - loss: 0.6907 - accuracy: 0.53 - ETA: 0s - loss: 0.6904 - accuracy: 0.53 - ETA: 0s - loss: 0.6909 - accuracy: 0.53 - ETA: 0s - loss: 0.6915 - accuracy: 0.52 - ETA: 0s - loss: 0.6911 - accuracy: 0.53 - ETA: 0s - loss: 0.6909 - accuracy: 0.53 - ETA: 0s - loss: 0.6910 - accuracy: 0.53 - ETA: 0s - loss: 0.6910 - accuracy: 0.53 - ETA: 0s - loss: 0.6909 - accuracy: 0.53 - ETA: 0s - loss: 0.6911 - accuracy: 0.53 - ETA: 0s - loss: 0.6913 - accuracy: 0.53 - ETA: 0s - loss: 0.6913 - accuracy: 0.53 - ETA: 0s - loss: 0.6911 - accuracy: 0.53 - ETA: 0s - loss: 0.6912 - accuracy: 0.53 - ETA: 0s - loss: 0.6913 - accuracy: 0.53 - 1s 984us/step - loss: 0.6913 - accuracy: 0.5318\n",
      "Epoch 45/100\n",
      "804/804 [==============================] - ETA: 0s - loss: 0.6718 - accuracy: 0.68 - ETA: 0s - loss: 0.6901 - accuracy: 0.54 - ETA: 0s - loss: 0.6907 - accuracy: 0.53 - ETA: 0s - loss: 0.6914 - accuracy: 0.52 - ETA: 0s - loss: 0.6913 - accuracy: 0.53 - ETA: 0s - loss: 0.6912 - accuracy: 0.53 - ETA: 0s - loss: 0.6914 - accuracy: 0.53 - ETA: 0s - loss: 0.6913 - accuracy: 0.53 - ETA: 0s - loss: 0.6909 - accuracy: 0.53 - ETA: 0s - loss: 0.6912 - accuracy: 0.53 - ETA: 0s - loss: 0.6913 - accuracy: 0.53 - ETA: 0s - loss: 0.6912 - accuracy: 0.53 - ETA: 0s - loss: 0.6913 - accuracy: 0.53 - ETA: 0s - loss: 0.6912 - accuracy: 0.53 - ETA: 0s - loss: 0.6912 - accuracy: 0.53 - 1s 938us/step - loss: 0.6912 - accuracy: 0.5318\n",
      "Epoch 46/100\n",
      "804/804 [==============================] - ETA: 0s - loss: 0.6793 - accuracy: 0.62 - ETA: 0s - loss: 0.6922 - accuracy: 0.52 - ETA: 0s - loss: 0.6924 - accuracy: 0.52 - ETA: 0s - loss: 0.6924 - accuracy: 0.52 - ETA: 0s - loss: 0.6921 - accuracy: 0.52 - ETA: 0s - loss: 0.6917 - accuracy: 0.52 - ETA: 0s - loss: 0.6918 - accuracy: 0.52 - ETA: 0s - loss: 0.6916 - accuracy: 0.52 - ETA: 0s - loss: 0.6915 - accuracy: 0.52 - ETA: 0s - loss: 0.6915 - accuracy: 0.52 - ETA: 0s - loss: 0.6915 - accuracy: 0.52 - ETA: 0s - loss: 0.6917 - accuracy: 0.52 - ETA: 0s - loss: 0.6914 - accuracy: 0.52 - ETA: 0s - loss: 0.6916 - accuracy: 0.52 - ETA: 0s - loss: 0.6914 - accuracy: 0.53 - ETA: 0s - loss: 0.6912 - accuracy: 0.53 - 1s 959us/step - loss: 0.6912 - accuracy: 0.5318\n",
      "Epoch 47/100\n",
      "804/804 [==============================] - ETA: 0s - loss: 0.7178 - accuracy: 0.37 - ETA: 0s - loss: 0.6890 - accuracy: 0.54 - ETA: 0s - loss: 0.6917 - accuracy: 0.52 - ETA: 0s - loss: 0.6915 - accuracy: 0.53 - ETA: 0s - loss: 0.6912 - accuracy: 0.53 - ETA: 0s - loss: 0.6914 - accuracy: 0.53 - ETA: 0s - loss: 0.6911 - accuracy: 0.53 - ETA: 0s - loss: 0.6910 - accuracy: 0.53 - ETA: 0s - loss: 0.6911 - accuracy: 0.53 - ETA: 0s - loss: 0.6911 - accuracy: 0.53 - ETA: 0s - loss: 0.6914 - accuracy: 0.53 - ETA: 0s - loss: 0.6915 - accuracy: 0.52 - ETA: 0s - loss: 0.6914 - accuracy: 0.53 - ETA: 0s - loss: 0.6913 - accuracy: 0.53 - ETA: 0s - loss: 0.6913 - accuracy: 0.53 - 1s 937us/step - loss: 0.6912 - accuracy: 0.5318\n",
      "Epoch 48/100\n"
     ]
    },
    {
     "name": "stdout",
     "output_type": "stream",
     "text": [
      "804/804 [==============================] - ETA: 0s - loss: 0.6998 - accuracy: 0.46 - ETA: 0s - loss: 0.6925 - accuracy: 0.52 - ETA: 0s - loss: 0.6927 - accuracy: 0.51 - ETA: 0s - loss: 0.6926 - accuracy: 0.52 - ETA: 0s - loss: 0.6920 - accuracy: 0.52 - ETA: 0s - loss: 0.6919 - accuracy: 0.52 - ETA: 0s - loss: 0.6915 - accuracy: 0.52 - ETA: 0s - loss: 0.6914 - accuracy: 0.53 - ETA: 0s - loss: 0.6914 - accuracy: 0.52 - ETA: 0s - loss: 0.6917 - accuracy: 0.52 - ETA: 0s - loss: 0.6914 - accuracy: 0.52 - ETA: 0s - loss: 0.6915 - accuracy: 0.52 - ETA: 0s - loss: 0.6913 - accuracy: 0.53 - ETA: 0s - loss: 0.6913 - accuracy: 0.53 - ETA: 0s - loss: 0.6913 - accuracy: 0.53 - 1s 936us/step - loss: 0.6912 - accuracy: 0.5318\n",
      "Epoch 49/100\n",
      "804/804 [==============================] - ETA: 0s - loss: 0.7086 - accuracy: 0.40 - ETA: 0s - loss: 0.6911 - accuracy: 0.53 - ETA: 0s - loss: 0.6902 - accuracy: 0.53 - ETA: 0s - loss: 0.6911 - accuracy: 0.53 - ETA: 0s - loss: 0.6910 - accuracy: 0.53 - ETA: 0s - loss: 0.6913 - accuracy: 0.53 - ETA: 0s - loss: 0.6915 - accuracy: 0.52 - ETA: 0s - loss: 0.6914 - accuracy: 0.53 - ETA: 0s - loss: 0.6913 - accuracy: 0.53 - ETA: 0s - loss: 0.6913 - accuracy: 0.53 - ETA: 0s - loss: 0.6913 - accuracy: 0.53 - ETA: 0s - loss: 0.6915 - accuracy: 0.52 - ETA: 0s - loss: 0.6914 - accuracy: 0.53 - ETA: 0s - loss: 0.6914 - accuracy: 0.53 - ETA: 0s - loss: 0.6914 - accuracy: 0.53 - ETA: 0s - loss: 0.6913 - accuracy: 0.53 - ETA: 0s - loss: 0.6913 - accuracy: 0.53 - 1s 1ms/step - loss: 0.6912 - accuracy: 0.5318\n",
      "Epoch 50/100\n",
      "804/804 [==============================] - ETA: 0s - loss: 0.6769 - accuracy: 0.62 - ETA: 0s - loss: 0.6920 - accuracy: 0.52 - ETA: 0s - loss: 0.6908 - accuracy: 0.53 - ETA: 0s - loss: 0.6906 - accuracy: 0.53 - ETA: 0s - loss: 0.6909 - accuracy: 0.53 - ETA: 0s - loss: 0.6908 - accuracy: 0.53 - ETA: 0s - loss: 0.6911 - accuracy: 0.53 - ETA: 0s - loss: 0.6909 - accuracy: 0.53 - ETA: 0s - loss: 0.6909 - accuracy: 0.53 - ETA: 0s - loss: 0.6915 - accuracy: 0.52 - ETA: 0s - loss: 0.6914 - accuracy: 0.53 - ETA: 0s - loss: 0.6913 - accuracy: 0.53 - ETA: 0s - loss: 0.6911 - accuracy: 0.53 - ETA: 0s - loss: 0.6910 - accuracy: 0.53 - ETA: 0s - loss: 0.6912 - accuracy: 0.53 - ETA: 0s - loss: 0.6912 - accuracy: 0.53 - 1s 992us/step - loss: 0.6913 - accuracy: 0.5318\n",
      "Epoch 51/100\n",
      "804/804 [==============================] - ETA: 0s - loss: 0.6950 - accuracy: 0.50 - ETA: 0s - loss: 0.6888 - accuracy: 0.55 - ETA: 0s - loss: 0.6903 - accuracy: 0.53 - ETA: 0s - loss: 0.6907 - accuracy: 0.53 - ETA: 0s - loss: 0.6907 - accuracy: 0.53 - ETA: 0s - loss: 0.6909 - accuracy: 0.53 - ETA: 0s - loss: 0.6910 - accuracy: 0.53 - ETA: 0s - loss: 0.6911 - accuracy: 0.53 - ETA: 0s - loss: 0.6913 - accuracy: 0.53 - ETA: 0s - loss: 0.6913 - accuracy: 0.53 - ETA: 0s - loss: 0.6912 - accuracy: 0.53 - ETA: 0s - loss: 0.6913 - accuracy: 0.53 - ETA: 0s - loss: 0.6912 - accuracy: 0.53 - ETA: 0s - loss: 0.6912 - accuracy: 0.53 - ETA: 0s - loss: 0.6913 - accuracy: 0.53 - ETA: 0s - loss: 0.6911 - accuracy: 0.53 - 1s 987us/step - loss: 0.6912 - accuracy: 0.5318\n",
      "Epoch 52/100\n",
      "804/804 [==============================] - ETA: 0s - loss: 0.7175 - accuracy: 0.34 - ETA: 0s - loss: 0.6934 - accuracy: 0.51 - ETA: 0s - loss: 0.6915 - accuracy: 0.53 - ETA: 0s - loss: 0.6910 - accuracy: 0.53 - ETA: 0s - loss: 0.6908 - accuracy: 0.53 - ETA: 0s - loss: 0.6914 - accuracy: 0.53 - ETA: 0s - loss: 0.6917 - accuracy: 0.52 - ETA: 0s - loss: 0.6913 - accuracy: 0.53 - ETA: 0s - loss: 0.6914 - accuracy: 0.53 - ETA: 0s - loss: 0.6916 - accuracy: 0.52 - ETA: 0s - loss: 0.6914 - accuracy: 0.53 - ETA: 0s - loss: 0.6912 - accuracy: 0.53 - ETA: 0s - loss: 0.6911 - accuracy: 0.53 - ETA: 0s - loss: 0.6912 - accuracy: 0.53 - ETA: 0s - loss: 0.6913 - accuracy: 0.53 - ETA: 0s - loss: 0.6914 - accuracy: 0.53 - 1s 981us/step - loss: 0.6913 - accuracy: 0.5318\n",
      "Epoch 53/100\n",
      "804/804 [==============================] - ETA: 0s - loss: 0.6833 - accuracy: 0.59 - ETA: 0s - loss: 0.6901 - accuracy: 0.54 - ETA: 0s - loss: 0.6900 - accuracy: 0.54 - ETA: 0s - loss: 0.6905 - accuracy: 0.53 - ETA: 0s - loss: 0.6908 - accuracy: 0.53 - ETA: 0s - loss: 0.6911 - accuracy: 0.53 - ETA: 0s - loss: 0.6911 - accuracy: 0.53 - ETA: 0s - loss: 0.6912 - accuracy: 0.53 - ETA: 0s - loss: 0.6913 - accuracy: 0.53 - ETA: 0s - loss: 0.6913 - accuracy: 0.53 - ETA: 0s - loss: 0.6913 - accuracy: 0.53 - ETA: 0s - loss: 0.6913 - accuracy: 0.53 - ETA: 0s - loss: 0.6912 - accuracy: 0.53 - ETA: 0s - loss: 0.6912 - accuracy: 0.53 - ETA: 0s - loss: 0.6912 - accuracy: 0.53 - ETA: 0s - loss: 0.6912 - accuracy: 0.53 - ETA: 0s - loss: 0.6913 - accuracy: 0.53 - 1s 1ms/step - loss: 0.6912 - accuracy: 0.5318\n",
      "Epoch 54/100\n",
      "804/804 [==============================] - ETA: 0s - loss: 0.7033 - accuracy: 0.43 - ETA: 0s - loss: 0.6927 - accuracy: 0.51 - ETA: 0s - loss: 0.6903 - accuracy: 0.53 - ETA: 0s - loss: 0.6903 - accuracy: 0.53 - ETA: 0s - loss: 0.6905 - accuracy: 0.53 - ETA: 0s - loss: 0.6897 - accuracy: 0.54 - ETA: 0s - loss: 0.6900 - accuracy: 0.54 - ETA: 0s - loss: 0.6905 - accuracy: 0.53 - ETA: 0s - loss: 0.6906 - accuracy: 0.53 - ETA: 0s - loss: 0.6906 - accuracy: 0.53 - ETA: 0s - loss: 0.6907 - accuracy: 0.53 - ETA: 0s - loss: 0.6910 - accuracy: 0.53 - ETA: 0s - loss: 0.6909 - accuracy: 0.53 - ETA: 0s - loss: 0.6909 - accuracy: 0.53 - ETA: 0s - loss: 0.6908 - accuracy: 0.53 - ETA: 0s - loss: 0.6910 - accuracy: 0.53 - ETA: 0s - loss: 0.6911 - accuracy: 0.53 - ETA: 0s - loss: 0.6911 - accuracy: 0.53 - 1s 1ms/step - loss: 0.6912 - accuracy: 0.5318\n",
      "Epoch 55/100\n",
      "804/804 [==============================] - ETA: 0s - loss: 0.6913 - accuracy: 0.53 - ETA: 0s - loss: 0.6920 - accuracy: 0.52 - ETA: 0s - loss: 0.6909 - accuracy: 0.53 - ETA: 0s - loss: 0.6907 - accuracy: 0.53 - ETA: 0s - loss: 0.6910 - accuracy: 0.53 - ETA: 0s - loss: 0.6914 - accuracy: 0.53 - ETA: 0s - loss: 0.6913 - accuracy: 0.53 - ETA: 0s - loss: 0.6912 - accuracy: 0.53 - ETA: 0s - loss: 0.6911 - accuracy: 0.53 - ETA: 0s - loss: 0.6914 - accuracy: 0.53 - ETA: 0s - loss: 0.6913 - accuracy: 0.53 - ETA: 0s - loss: 0.6913 - accuracy: 0.53 - ETA: 0s - loss: 0.6912 - accuracy: 0.53 - ETA: 0s - loss: 0.6911 - accuracy: 0.53 - ETA: 0s - loss: 0.6912 - accuracy: 0.53 - ETA: 0s - loss: 0.6913 - accuracy: 0.53 - 1s 991us/step - loss: 0.6912 - accuracy: 0.5318\n",
      "Epoch 56/100\n",
      "804/804 [==============================] - ETA: 0s - loss: 0.6872 - accuracy: 0.56 - ETA: 0s - loss: 0.6931 - accuracy: 0.51 - ETA: 0s - loss: 0.6916 - accuracy: 0.52 - ETA: 0s - loss: 0.6914 - accuracy: 0.53 - ETA: 0s - loss: 0.6915 - accuracy: 0.53 - ETA: 0s - loss: 0.6916 - accuracy: 0.52 - ETA: 0s - loss: 0.6914 - accuracy: 0.53 - ETA: 0s - loss: 0.6910 - accuracy: 0.53 - ETA: 0s - loss: 0.6913 - accuracy: 0.53 - ETA: 0s - loss: 0.6914 - accuracy: 0.53 - ETA: 0s - loss: 0.6914 - accuracy: 0.53 - ETA: 0s - loss: 0.6912 - accuracy: 0.53 - ETA: 0s - loss: 0.6914 - accuracy: 0.53 - ETA: 0s - loss: 0.6914 - accuracy: 0.53 - ETA: 0s - loss: 0.6914 - accuracy: 0.53 - ETA: 0s - loss: 0.6913 - accuracy: 0.53 - 1s 981us/step - loss: 0.6912 - accuracy: 0.5318\n",
      "Epoch 57/100\n",
      "804/804 [==============================] - ETA: 0s - loss: 0.7046 - accuracy: 0.43 - ETA: 0s - loss: 0.6934 - accuracy: 0.51 - ETA: 0s - loss: 0.6924 - accuracy: 0.52 - ETA: 0s - loss: 0.6921 - accuracy: 0.52 - ETA: 0s - loss: 0.6918 - accuracy: 0.52 - ETA: 0s - loss: 0.6916 - accuracy: 0.52 - ETA: 0s - loss: 0.6905 - accuracy: 0.53 - ETA: 0s - loss: 0.6910 - accuracy: 0.53 - ETA: 0s - loss: 0.6908 - accuracy: 0.53 - ETA: 0s - loss: 0.6909 - accuracy: 0.53 - ETA: 0s - loss: 0.6910 - accuracy: 0.53 - ETA: 0s - loss: 0.6910 - accuracy: 0.53 - ETA: 0s - loss: 0.6908 - accuracy: 0.53 - ETA: 0s - loss: 0.6909 - accuracy: 0.53 - ETA: 0s - loss: 0.6910 - accuracy: 0.53 - ETA: 0s - loss: 0.6911 - accuracy: 0.53 - 1s 987us/step - loss: 0.6912 - accuracy: 0.5318\n",
      "Epoch 58/100\n"
     ]
    },
    {
     "name": "stdout",
     "output_type": "stream",
     "text": [
      "804/804 [==============================] - ETA: 0s - loss: 0.6913 - accuracy: 0.53 - ETA: 0s - loss: 0.6908 - accuracy: 0.53 - ETA: 0s - loss: 0.6909 - accuracy: 0.53 - ETA: 0s - loss: 0.6909 - accuracy: 0.53 - ETA: 0s - loss: 0.6909 - accuracy: 0.53 - ETA: 0s - loss: 0.6906 - accuracy: 0.53 - ETA: 0s - loss: 0.6909 - accuracy: 0.53 - ETA: 0s - loss: 0.6909 - accuracy: 0.53 - ETA: 0s - loss: 0.6909 - accuracy: 0.53 - ETA: 0s - loss: 0.6909 - accuracy: 0.53 - ETA: 0s - loss: 0.6909 - accuracy: 0.53 - ETA: 0s - loss: 0.6911 - accuracy: 0.53 - ETA: 0s - loss: 0.6911 - accuracy: 0.53 - ETA: 0s - loss: 0.6912 - accuracy: 0.53 - ETA: 0s - loss: 0.6912 - accuracy: 0.53 - ETA: 0s - loss: 0.6913 - accuracy: 0.53 - 1s 988us/step - loss: 0.6912 - accuracy: 0.5318\n",
      "Epoch 59/100\n",
      "804/804 [==============================] - ETA: 0s - loss: 0.6875 - accuracy: 0.56 - ETA: 0s - loss: 0.6899 - accuracy: 0.54 - ETA: 0s - loss: 0.6898 - accuracy: 0.54 - ETA: 0s - loss: 0.6904 - accuracy: 0.53 - ETA: 0s - loss: 0.6908 - accuracy: 0.53 - ETA: 0s - loss: 0.6914 - accuracy: 0.52 - ETA: 0s - loss: 0.6915 - accuracy: 0.52 - ETA: 0s - loss: 0.6915 - accuracy: 0.52 - ETA: 0s - loss: 0.6915 - accuracy: 0.52 - ETA: 0s - loss: 0.6911 - accuracy: 0.53 - ETA: 0s - loss: 0.6913 - accuracy: 0.53 - ETA: 0s - loss: 0.6913 - accuracy: 0.53 - ETA: 0s - loss: 0.6913 - accuracy: 0.53 - ETA: 0s - loss: 0.6913 - accuracy: 0.53 - ETA: 0s - loss: 0.6913 - accuracy: 0.53 - ETA: 0s - loss: 0.6913 - accuracy: 0.53 - 1s 986us/step - loss: 0.6912 - accuracy: 0.5318\n",
      "Epoch 60/100\n",
      "804/804 [==============================] - ETA: 0s - loss: 0.6953 - accuracy: 0.50 - ETA: 0s - loss: 0.6883 - accuracy: 0.55 - ETA: 0s - loss: 0.6918 - accuracy: 0.52 - ETA: 0s - loss: 0.6910 - accuracy: 0.53 - ETA: 0s - loss: 0.6908 - accuracy: 0.53 - ETA: 0s - loss: 0.6904 - accuracy: 0.53 - ETA: 0s - loss: 0.6902 - accuracy: 0.53 - ETA: 0s - loss: 0.6906 - accuracy: 0.53 - ETA: 0s - loss: 0.6906 - accuracy: 0.53 - ETA: 0s - loss: 0.6907 - accuracy: 0.53 - ETA: 0s - loss: 0.6909 - accuracy: 0.53 - ETA: 0s - loss: 0.6908 - accuracy: 0.53 - ETA: 0s - loss: 0.6911 - accuracy: 0.53 - ETA: 0s - loss: 0.6911 - accuracy: 0.53 - ETA: 0s - loss: 0.6912 - accuracy: 0.53 - ETA: 0s - loss: 0.6912 - accuracy: 0.53 - 1s 1ms/step - loss: 0.6912 - accuracy: 0.5318\n",
      "Epoch 61/100\n",
      "804/804 [==============================] - ETA: 0s - loss: 0.6949 - accuracy: 0.50 - ETA: 0s - loss: 0.6912 - accuracy: 0.53 - ETA: 0s - loss: 0.6919 - accuracy: 0.52 - ETA: 0s - loss: 0.6915 - accuracy: 0.52 - ETA: 0s - loss: 0.6914 - accuracy: 0.53 - ETA: 0s - loss: 0.6912 - accuracy: 0.53 - ETA: 0s - loss: 0.6908 - accuracy: 0.53 - ETA: 0s - loss: 0.6906 - accuracy: 0.53 - ETA: 0s - loss: 0.6907 - accuracy: 0.53 - ETA: 0s - loss: 0.6906 - accuracy: 0.53 - ETA: 0s - loss: 0.6905 - accuracy: 0.53 - ETA: 0s - loss: 0.6904 - accuracy: 0.53 - ETA: 0s - loss: 0.6908 - accuracy: 0.53 - ETA: 0s - loss: 0.6909 - accuracy: 0.53 - ETA: 0s - loss: 0.6910 - accuracy: 0.53 - ETA: 0s - loss: 0.6912 - accuracy: 0.53 - 1s 985us/step - loss: 0.6912 - accuracy: 0.5318\n",
      "Epoch 62/100\n",
      "804/804 [==============================] - ETA: 0s - loss: 0.7003 - accuracy: 0.43 - ETA: 0s - loss: 0.6916 - accuracy: 0.52 - ETA: 0s - loss: 0.6912 - accuracy: 0.53 - ETA: 0s - loss: 0.6915 - accuracy: 0.52 - ETA: 0s - loss: 0.6912 - accuracy: 0.53 - ETA: 0s - loss: 0.6909 - accuracy: 0.53 - ETA: 0s - loss: 0.6913 - accuracy: 0.53 - ETA: 0s - loss: 0.6912 - accuracy: 0.53 - ETA: 0s - loss: 0.6912 - accuracy: 0.53 - ETA: 0s - loss: 0.6911 - accuracy: 0.53 - ETA: 0s - loss: 0.6911 - accuracy: 0.53 - ETA: 0s - loss: 0.6910 - accuracy: 0.53 - ETA: 0s - loss: 0.6910 - accuracy: 0.53 - ETA: 0s - loss: 0.6910 - accuracy: 0.53 - ETA: 0s - loss: 0.6911 - accuracy: 0.53 - ETA: 0s - loss: 0.6912 - accuracy: 0.53 - 1s 1ms/step - loss: 0.6912 - accuracy: 0.5318\n",
      "Epoch 63/100\n",
      "804/804 [==============================] - ETA: 0s - loss: 0.6947 - accuracy: 0.50 - ETA: 0s - loss: 0.6908 - accuracy: 0.53 - ETA: 0s - loss: 0.6912 - accuracy: 0.53 - ETA: 0s - loss: 0.6916 - accuracy: 0.52 - ETA: 0s - loss: 0.6915 - accuracy: 0.52 - ETA: 0s - loss: 0.6912 - accuracy: 0.53 - ETA: 0s - loss: 0.6914 - accuracy: 0.53 - ETA: 0s - loss: 0.6913 - accuracy: 0.53 - ETA: 0s - loss: 0.6914 - accuracy: 0.52 - ETA: 0s - loss: 0.6913 - accuracy: 0.53 - ETA: 0s - loss: 0.6915 - accuracy: 0.52 - ETA: 0s - loss: 0.6915 - accuracy: 0.52 - ETA: 0s - loss: 0.6912 - accuracy: 0.53 - ETA: 0s - loss: 0.6913 - accuracy: 0.53 - ETA: 0s - loss: 0.6914 - accuracy: 0.53 - ETA: 0s - loss: 0.6914 - accuracy: 0.53 - ETA: 0s - loss: 0.6914 - accuracy: 0.53 - ETA: 0s - loss: 0.6913 - accuracy: 0.53 - 1s 1ms/step - loss: 0.6912 - accuracy: 0.5318\n",
      "Epoch 64/100\n",
      "804/804 [==============================] - ETA: 0s - loss: 0.6772 - accuracy: 0.62 - ETA: 0s - loss: 0.6919 - accuracy: 0.52 - ETA: 0s - loss: 0.6929 - accuracy: 0.51 - ETA: 0s - loss: 0.6923 - accuracy: 0.52 - ETA: 0s - loss: 0.6924 - accuracy: 0.52 - ETA: 0s - loss: 0.6915 - accuracy: 0.52 - ETA: 0s - loss: 0.6913 - accuracy: 0.53 - ETA: 0s - loss: 0.6911 - accuracy: 0.53 - ETA: 0s - loss: 0.6911 - accuracy: 0.53 - ETA: 0s - loss: 0.6909 - accuracy: 0.53 - ETA: 0s - loss: 0.6909 - accuracy: 0.53 - ETA: 0s - loss: 0.6909 - accuracy: 0.53 - ETA: 0s - loss: 0.6911 - accuracy: 0.53 - ETA: 0s - loss: 0.6911 - accuracy: 0.53 - ETA: 0s - loss: 0.6912 - accuracy: 0.53 - ETA: 0s - loss: 0.6913 - accuracy: 0.53 - 1s 1ms/step - loss: 0.6912 - accuracy: 0.5318\n",
      "Epoch 65/100\n",
      "804/804 [==============================] - ETA: 0s - loss: 0.6678 - accuracy: 0.71 - ETA: 0s - loss: 0.6911 - accuracy: 0.53 - ETA: 0s - loss: 0.6914 - accuracy: 0.53 - ETA: 0s - loss: 0.6918 - accuracy: 0.52 - ETA: 0s - loss: 0.6920 - accuracy: 0.52 - ETA: 0s - loss: 0.6916 - accuracy: 0.52 - ETA: 0s - loss: 0.6918 - accuracy: 0.52 - ETA: 0s - loss: 0.6915 - accuracy: 0.52 - ETA: 0s - loss: 0.6912 - accuracy: 0.53 - ETA: 0s - loss: 0.6913 - accuracy: 0.53 - ETA: 0s - loss: 0.6915 - accuracy: 0.52 - ETA: 0s - loss: 0.6915 - accuracy: 0.52 - ETA: 0s - loss: 0.6914 - accuracy: 0.53 - ETA: 0s - loss: 0.6914 - accuracy: 0.53 - ETA: 0s - loss: 0.6914 - accuracy: 0.53 - ETA: 0s - loss: 0.6914 - accuracy: 0.53 - ETA: 0s - loss: 0.6912 - accuracy: 0.53 - 1s 1ms/step - loss: 0.6912 - accuracy: 0.5318\n",
      "Epoch 66/100\n",
      "804/804 [==============================] - ETA: 0s - loss: 0.6821 - accuracy: 0.59 - ETA: 0s - loss: 0.6898 - accuracy: 0.54 - ETA: 0s - loss: 0.6922 - accuracy: 0.52 - ETA: 0s - loss: 0.6917 - accuracy: 0.52 - ETA: 0s - loss: 0.6922 - accuracy: 0.52 - ETA: 0s - loss: 0.6920 - accuracy: 0.52 - ETA: 0s - loss: 0.6912 - accuracy: 0.53 - ETA: 0s - loss: 0.6914 - accuracy: 0.53 - ETA: 0s - loss: 0.6912 - accuracy: 0.53 - ETA: 0s - loss: 0.6913 - accuracy: 0.53 - ETA: 0s - loss: 0.6913 - accuracy: 0.53 - ETA: 0s - loss: 0.6912 - accuracy: 0.53 - ETA: 0s - loss: 0.6910 - accuracy: 0.53 - ETA: 0s - loss: 0.6911 - accuracy: 0.53 - ETA: 0s - loss: 0.6911 - accuracy: 0.53 - ETA: 0s - loss: 0.6913 - accuracy: 0.53 - ETA: 0s - loss: 0.6913 - accuracy: 0.53 - 1s 1ms/step - loss: 0.6912 - accuracy: 0.5318\n",
      "Epoch 67/100\n",
      "804/804 [==============================] - ETA: 0s - loss: 0.6985 - accuracy: 0.46 - ETA: 2s - loss: 0.6889 - accuracy: 0.54 - ETA: 1s - loss: 0.6895 - accuracy: 0.54 - ETA: 1s - loss: 0.6915 - accuracy: 0.52 - ETA: 1s - loss: 0.6908 - accuracy: 0.53 - ETA: 0s - loss: 0.6910 - accuracy: 0.53 - ETA: 0s - loss: 0.6907 - accuracy: 0.53 - ETA: 0s - loss: 0.6909 - accuracy: 0.53 - ETA: 0s - loss: 0.6909 - accuracy: 0.53 - ETA: 0s - loss: 0.6913 - accuracy: 0.53 - ETA: 0s - loss: 0.6911 - accuracy: 0.53 - ETA: 0s - loss: 0.6910 - accuracy: 0.53 - ETA: 0s - loss: 0.6910 - accuracy: 0.53 - ETA: 0s - loss: 0.6910 - accuracy: 0.53 - ETA: 0s - loss: 0.6911 - accuracy: 0.53 - ETA: 0s - loss: 0.6911 - accuracy: 0.53 - ETA: 0s - loss: 0.6912 - accuracy: 0.53 - ETA: 0s - loss: 0.6912 - accuracy: 0.53 - ETA: 0s - loss: 0.6912 - accuracy: 0.53 - 1s 1ms/step - loss: 0.6912 - accuracy: 0.5318\n",
      "Epoch 68/100\n"
     ]
    },
    {
     "name": "stdout",
     "output_type": "stream",
     "text": [
      "804/804 [==============================] - ETA: 0s - loss: 0.6807 - accuracy: 0.62 - ETA: 0s - loss: 0.6913 - accuracy: 0.53 - ETA: 0s - loss: 0.6911 - accuracy: 0.53 - ETA: 0s - loss: 0.6916 - accuracy: 0.52 - ETA: 0s - loss: 0.6915 - accuracy: 0.52 - ETA: 0s - loss: 0.6913 - accuracy: 0.53 - ETA: 0s - loss: 0.6906 - accuracy: 0.53 - ETA: 0s - loss: 0.6910 - accuracy: 0.53 - ETA: 0s - loss: 0.6911 - accuracy: 0.53 - ETA: 0s - loss: 0.6910 - accuracy: 0.53 - ETA: 0s - loss: 0.6913 - accuracy: 0.53 - ETA: 0s - loss: 0.6915 - accuracy: 0.52 - ETA: 0s - loss: 0.6915 - accuracy: 0.52 - ETA: 0s - loss: 0.6915 - accuracy: 0.52 - ETA: 0s - loss: 0.6915 - accuracy: 0.52 - ETA: 0s - loss: 0.6916 - accuracy: 0.52 - ETA: 0s - loss: 0.6915 - accuracy: 0.52 - ETA: 0s - loss: 0.6915 - accuracy: 0.52 - ETA: 0s - loss: 0.6913 - accuracy: 0.53 - 1s 1ms/step - loss: 0.6912 - accuracy: 0.5318\n",
      "Epoch 69/100\n",
      "804/804 [==============================] - ETA: 0s - loss: 0.7006 - accuracy: 0.46 - ETA: 0s - loss: 0.6932 - accuracy: 0.51 - ETA: 0s - loss: 0.6912 - accuracy: 0.53 - ETA: 0s - loss: 0.6916 - accuracy: 0.52 - ETA: 0s - loss: 0.6915 - accuracy: 0.52 - ETA: 0s - loss: 0.6915 - accuracy: 0.52 - ETA: 0s - loss: 0.6913 - accuracy: 0.53 - ETA: 0s - loss: 0.6912 - accuracy: 0.53 - ETA: 0s - loss: 0.6910 - accuracy: 0.53 - ETA: 0s - loss: 0.6910 - accuracy: 0.53 - ETA: 0s - loss: 0.6908 - accuracy: 0.53 - ETA: 0s - loss: 0.6909 - accuracy: 0.53 - ETA: 0s - loss: 0.6909 - accuracy: 0.53 - ETA: 0s - loss: 0.6910 - accuracy: 0.53 - ETA: 0s - loss: 0.6912 - accuracy: 0.53 - ETA: 0s - loss: 0.6911 - accuracy: 0.53 - 1s 982us/step - loss: 0.6912 - accuracy: 0.5318\n",
      "Epoch 70/100\n",
      "804/804 [==============================] - ETA: 0s - loss: 0.6913 - accuracy: 0.53 - ETA: 0s - loss: 0.6923 - accuracy: 0.52 - ETA: 0s - loss: 0.6918 - accuracy: 0.52 - ETA: 0s - loss: 0.6905 - accuracy: 0.53 - ETA: 0s - loss: 0.6912 - accuracy: 0.53 - ETA: 0s - loss: 0.6907 - accuracy: 0.53 - ETA: 0s - loss: 0.6909 - accuracy: 0.53 - ETA: 0s - loss: 0.6912 - accuracy: 0.53 - ETA: 0s - loss: 0.6913 - accuracy: 0.53 - ETA: 0s - loss: 0.6910 - accuracy: 0.53 - ETA: 0s - loss: 0.6910 - accuracy: 0.53 - ETA: 0s - loss: 0.6908 - accuracy: 0.53 - ETA: 0s - loss: 0.6909 - accuracy: 0.53 - ETA: 0s - loss: 0.6911 - accuracy: 0.53 - ETA: 0s - loss: 0.6911 - accuracy: 0.53 - ETA: 0s - loss: 0.6912 - accuracy: 0.53 - ETA: 0s - loss: 0.6911 - accuracy: 0.53 - ETA: 0s - loss: 0.6911 - accuracy: 0.53 - 1s 1ms/step - loss: 0.6912 - accuracy: 0.5318\n",
      "Epoch 71/100\n",
      "804/804 [==============================] - ETA: 0s - loss: 0.6763 - accuracy: 0.65 - ETA: 0s - loss: 0.6883 - accuracy: 0.55 - ETA: 0s - loss: 0.6886 - accuracy: 0.55 - ETA: 0s - loss: 0.6900 - accuracy: 0.54 - ETA: 0s - loss: 0.6904 - accuracy: 0.53 - ETA: 0s - loss: 0.6902 - accuracy: 0.53 - ETA: 0s - loss: 0.6910 - accuracy: 0.53 - ETA: 0s - loss: 0.6912 - accuracy: 0.53 - ETA: 0s - loss: 0.6913 - accuracy: 0.53 - ETA: 0s - loss: 0.6913 - accuracy: 0.53 - ETA: 0s - loss: 0.6912 - accuracy: 0.53 - ETA: 0s - loss: 0.6912 - accuracy: 0.53 - ETA: 0s - loss: 0.6911 - accuracy: 0.53 - ETA: 0s - loss: 0.6911 - accuracy: 0.53 - ETA: 0s - loss: 0.6913 - accuracy: 0.53 - ETA: 0s - loss: 0.6912 - accuracy: 0.53 - 1s 964us/step - loss: 0.6912 - accuracy: 0.5318\n",
      "Epoch 72/100\n",
      "804/804 [==============================] - ETA: 0s - loss: 0.7062 - accuracy: 0.40 - ETA: 0s - loss: 0.6926 - accuracy: 0.52 - ETA: 0s - loss: 0.6915 - accuracy: 0.52 - ETA: 0s - loss: 0.6908 - accuracy: 0.53 - ETA: 0s - loss: 0.6911 - accuracy: 0.53 - ETA: 0s - loss: 0.6914 - accuracy: 0.53 - ETA: 0s - loss: 0.6915 - accuracy: 0.52 - ETA: 0s - loss: 0.6912 - accuracy: 0.53 - ETA: 0s - loss: 0.6912 - accuracy: 0.53 - ETA: 0s - loss: 0.6910 - accuracy: 0.53 - ETA: 0s - loss: 0.6911 - accuracy: 0.53 - ETA: 0s - loss: 0.6910 - accuracy: 0.53 - ETA: 0s - loss: 0.6912 - accuracy: 0.53 - ETA: 0s - loss: 0.6911 - accuracy: 0.53 - ETA: 0s - loss: 0.6911 - accuracy: 0.53 - 1s 933us/step - loss: 0.6912 - accuracy: 0.5318\n",
      "Epoch 73/100\n",
      "804/804 [==============================] - ETA: 0s - loss: 0.6727 - accuracy: 0.68 - ETA: 0s - loss: 0.6893 - accuracy: 0.54 - ETA: 0s - loss: 0.6918 - accuracy: 0.52 - ETA: 0s - loss: 0.6911 - accuracy: 0.53 - ETA: 0s - loss: 0.6911 - accuracy: 0.53 - ETA: 0s - loss: 0.6913 - accuracy: 0.53 - ETA: 0s - loss: 0.6910 - accuracy: 0.53 - ETA: 0s - loss: 0.6911 - accuracy: 0.53 - ETA: 0s - loss: 0.6911 - accuracy: 0.53 - ETA: 0s - loss: 0.6913 - accuracy: 0.53 - ETA: 0s - loss: 0.6914 - accuracy: 0.53 - ETA: 0s - loss: 0.6912 - accuracy: 0.53 - ETA: 0s - loss: 0.6913 - accuracy: 0.53 - ETA: 0s - loss: 0.6913 - accuracy: 0.53 - ETA: 0s - loss: 0.6912 - accuracy: 0.53 - 1s 944us/step - loss: 0.6912 - accuracy: 0.5318\n",
      "Epoch 74/100\n",
      "804/804 [==============================] - ETA: 0s - loss: 0.6828 - accuracy: 0.59 - ETA: 0s - loss: 0.6893 - accuracy: 0.54 - ETA: 0s - loss: 0.6897 - accuracy: 0.54 - ETA: 0s - loss: 0.6895 - accuracy: 0.54 - ETA: 0s - loss: 0.6900 - accuracy: 0.54 - ETA: 0s - loss: 0.6900 - accuracy: 0.54 - ETA: 0s - loss: 0.6899 - accuracy: 0.54 - ETA: 0s - loss: 0.6901 - accuracy: 0.53 - ETA: 0s - loss: 0.6903 - accuracy: 0.53 - ETA: 0s - loss: 0.6908 - accuracy: 0.53 - ETA: 0s - loss: 0.6910 - accuracy: 0.53 - ETA: 0s - loss: 0.6910 - accuracy: 0.53 - ETA: 0s - loss: 0.6912 - accuracy: 0.53 - ETA: 0s - loss: 0.6912 - accuracy: 0.53 - ETA: 0s - loss: 0.6913 - accuracy: 0.53 - ETA: 0s - loss: 0.6911 - accuracy: 0.53 - 1s 952us/step - loss: 0.6911 - accuracy: 0.5318\n",
      "Epoch 75/100\n",
      "804/804 [==============================] - ETA: 0s - loss: 0.6991 - accuracy: 0.46 - ETA: 0s - loss: 0.6915 - accuracy: 0.52 - ETA: 0s - loss: 0.6916 - accuracy: 0.52 - ETA: 0s - loss: 0.6921 - accuracy: 0.52 - ETA: 0s - loss: 0.6915 - accuracy: 0.52 - ETA: 0s - loss: 0.6906 - accuracy: 0.53 - ETA: 0s - loss: 0.6906 - accuracy: 0.53 - ETA: 0s - loss: 0.6906 - accuracy: 0.53 - ETA: 0s - loss: 0.6907 - accuracy: 0.53 - ETA: 0s - loss: 0.6911 - accuracy: 0.53 - ETA: 0s - loss: 0.6910 - accuracy: 0.53 - ETA: 0s - loss: 0.6911 - accuracy: 0.53 - ETA: 0s - loss: 0.6912 - accuracy: 0.53 - ETA: 0s - loss: 0.6911 - accuracy: 0.53 - ETA: 0s - loss: 0.6912 - accuracy: 0.53 - 1s 935us/step - loss: 0.6912 - accuracy: 0.5318\n",
      "Epoch 76/100\n",
      "804/804 [==============================] - ETA: 0s - loss: 0.6836 - accuracy: 0.59 - ETA: 0s - loss: 0.6925 - accuracy: 0.52 - ETA: 0s - loss: 0.6922 - accuracy: 0.52 - ETA: 0s - loss: 0.6917 - accuracy: 0.52 - ETA: 0s - loss: 0.6919 - accuracy: 0.52 - ETA: 0s - loss: 0.6918 - accuracy: 0.52 - ETA: 0s - loss: 0.6912 - accuracy: 0.53 - ETA: 0s - loss: 0.6909 - accuracy: 0.53 - ETA: 0s - loss: 0.6911 - accuracy: 0.53 - ETA: 0s - loss: 0.6910 - accuracy: 0.53 - ETA: 0s - loss: 0.6911 - accuracy: 0.53 - ETA: 0s - loss: 0.6911 - accuracy: 0.53 - ETA: 0s - loss: 0.6910 - accuracy: 0.53 - ETA: 0s - loss: 0.6912 - accuracy: 0.53 - ETA: 0s - loss: 0.6912 - accuracy: 0.53 - 1s 932us/step - loss: 0.6912 - accuracy: 0.5318\n",
      "Epoch 77/100\n",
      "804/804 [==============================] - ETA: 0s - loss: 0.6875 - accuracy: 0.56 - ETA: 0s - loss: 0.6925 - accuracy: 0.52 - ETA: 0s - loss: 0.6933 - accuracy: 0.51 - ETA: 0s - loss: 0.6931 - accuracy: 0.51 - ETA: 0s - loss: 0.6926 - accuracy: 0.51 - ETA: 0s - loss: 0.6924 - accuracy: 0.52 - ETA: 0s - loss: 0.6925 - accuracy: 0.51 - ETA: 0s - loss: 0.6922 - accuracy: 0.52 - ETA: 0s - loss: 0.6922 - accuracy: 0.52 - ETA: 0s - loss: 0.6919 - accuracy: 0.52 - ETA: 0s - loss: 0.6919 - accuracy: 0.52 - ETA: 0s - loss: 0.6917 - accuracy: 0.52 - ETA: 0s - loss: 0.6916 - accuracy: 0.52 - ETA: 0s - loss: 0.6915 - accuracy: 0.52 - ETA: 0s - loss: 0.6913 - accuracy: 0.53 - 1s 938us/step - loss: 0.6911 - accuracy: 0.5318\n",
      "Epoch 78/100\n"
     ]
    },
    {
     "name": "stdout",
     "output_type": "stream",
     "text": [
      "804/804 [==============================] - ETA: 0s - loss: 0.6750 - accuracy: 0.62 - ETA: 0s - loss: 0.6923 - accuracy: 0.52 - ETA: 0s - loss: 0.6899 - accuracy: 0.54 - ETA: 0s - loss: 0.6910 - accuracy: 0.53 - ETA: 0s - loss: 0.6904 - accuracy: 0.53 - ETA: 0s - loss: 0.6909 - accuracy: 0.53 - ETA: 0s - loss: 0.6914 - accuracy: 0.53 - ETA: 0s - loss: 0.6914 - accuracy: 0.53 - ETA: 0s - loss: 0.6915 - accuracy: 0.52 - ETA: 0s - loss: 0.6915 - accuracy: 0.52 - ETA: 0s - loss: 0.6915 - accuracy: 0.53 - ETA: 0s - loss: 0.6915 - accuracy: 0.53 - ETA: 0s - loss: 0.6913 - accuracy: 0.53 - ETA: 0s - loss: 0.6913 - accuracy: 0.53 - ETA: 0s - loss: 0.6913 - accuracy: 0.53 - ETA: 0s - loss: 0.6912 - accuracy: 0.53 - 1s 954us/step - loss: 0.6912 - accuracy: 0.5318\n",
      "Epoch 79/100\n",
      "804/804 [==============================] - ETA: 0s - loss: 0.6775 - accuracy: 0.62 - ETA: 0s - loss: 0.6918 - accuracy: 0.52 - ETA: 0s - loss: 0.6909 - accuracy: 0.53 - ETA: 0s - loss: 0.6906 - accuracy: 0.53 - ETA: 0s - loss: 0.6905 - accuracy: 0.53 - ETA: 0s - loss: 0.6909 - accuracy: 0.53 - ETA: 0s - loss: 0.6911 - accuracy: 0.53 - ETA: 0s - loss: 0.6913 - accuracy: 0.53 - ETA: 0s - loss: 0.6913 - accuracy: 0.53 - ETA: 0s - loss: 0.6913 - accuracy: 0.53 - ETA: 0s - loss: 0.6912 - accuracy: 0.53 - ETA: 0s - loss: 0.6914 - accuracy: 0.53 - ETA: 0s - loss: 0.6912 - accuracy: 0.53 - ETA: 0s - loss: 0.6913 - accuracy: 0.53 - ETA: 0s - loss: 0.6912 - accuracy: 0.53 - ETA: 0s - loss: 0.6912 - accuracy: 0.53 - 1s 969us/step - loss: 0.6912 - accuracy: 0.5318\n",
      "Epoch 80/100\n",
      "804/804 [==============================] - ETA: 0s - loss: 0.6998 - accuracy: 0.46 - ETA: 0s - loss: 0.6932 - accuracy: 0.51 - ETA: 0s - loss: 0.6918 - accuracy: 0.52 - ETA: 0s - loss: 0.6909 - accuracy: 0.53 - ETA: 0s - loss: 0.6908 - accuracy: 0.53 - ETA: 0s - loss: 0.6905 - accuracy: 0.53 - ETA: 0s - loss: 0.6910 - accuracy: 0.53 - ETA: 0s - loss: 0.6909 - accuracy: 0.53 - ETA: 0s - loss: 0.6912 - accuracy: 0.53 - ETA: 0s - loss: 0.6911 - accuracy: 0.53 - ETA: 0s - loss: 0.6911 - accuracy: 0.53 - ETA: 0s - loss: 0.6911 - accuracy: 0.53 - ETA: 0s - loss: 0.6911 - accuracy: 0.53 - ETA: 0s - loss: 0.6910 - accuracy: 0.53 - ETA: 0s - loss: 0.6911 - accuracy: 0.53 - ETA: 0s - loss: 0.6912 - accuracy: 0.53 - 1s 964us/step - loss: 0.6912 - accuracy: 0.5318\n",
      "Epoch 81/100\n",
      "804/804 [==============================] - ETA: 0s - loss: 0.7123 - accuracy: 0.34 - ETA: 0s - loss: 0.6905 - accuracy: 0.53 - ETA: 0s - loss: 0.6905 - accuracy: 0.53 - ETA: 0s - loss: 0.6906 - accuracy: 0.53 - ETA: 0s - loss: 0.6899 - accuracy: 0.54 - ETA: 0s - loss: 0.6896 - accuracy: 0.54 - ETA: 0s - loss: 0.6900 - accuracy: 0.54 - ETA: 0s - loss: 0.6903 - accuracy: 0.53 - ETA: 0s - loss: 0.6902 - accuracy: 0.53 - ETA: 0s - loss: 0.6902 - accuracy: 0.53 - ETA: 0s - loss: 0.6905 - accuracy: 0.53 - ETA: 0s - loss: 0.6906 - accuracy: 0.53 - ETA: 0s - loss: 0.6908 - accuracy: 0.53 - ETA: 0s - loss: 0.6910 - accuracy: 0.53 - ETA: 0s - loss: 0.6911 - accuracy: 0.53 - ETA: 0s - loss: 0.6910 - accuracy: 0.53 - 1s 976us/step - loss: 0.6912 - accuracy: 0.5318\n",
      "Epoch 82/100\n",
      "804/804 [==============================] - ETA: 0s - loss: 0.6782 - accuracy: 0.65 - ETA: 0s - loss: 0.6904 - accuracy: 0.54 - ETA: 0s - loss: 0.6900 - accuracy: 0.54 - ETA: 0s - loss: 0.6906 - accuracy: 0.53 - ETA: 0s - loss: 0.6909 - accuracy: 0.53 - ETA: 0s - loss: 0.6911 - accuracy: 0.53 - ETA: 0s - loss: 0.6911 - accuracy: 0.53 - ETA: 0s - loss: 0.6914 - accuracy: 0.52 - ETA: 0s - loss: 0.6914 - accuracy: 0.53 - ETA: 0s - loss: 0.6915 - accuracy: 0.52 - ETA: 0s - loss: 0.6916 - accuracy: 0.52 - ETA: 0s - loss: 0.6917 - accuracy: 0.52 - ETA: 0s - loss: 0.6917 - accuracy: 0.52 - ETA: 0s - loss: 0.6916 - accuracy: 0.52 - ETA: 0s - loss: 0.6914 - accuracy: 0.53 - 1s 939us/step - loss: 0.6912 - accuracy: 0.5318\n",
      "Epoch 83/100\n",
      "804/804 [==============================] - ETA: 0s - loss: 0.7169 - accuracy: 0.37 - ETA: 0s - loss: 0.6937 - accuracy: 0.51 - ETA: 0s - loss: 0.6924 - accuracy: 0.52 - ETA: 0s - loss: 0.6907 - accuracy: 0.53 - ETA: 0s - loss: 0.6904 - accuracy: 0.53 - ETA: 0s - loss: 0.6911 - accuracy: 0.53 - ETA: 0s - loss: 0.6910 - accuracy: 0.53 - ETA: 0s - loss: 0.6911 - accuracy: 0.53 - ETA: 0s - loss: 0.6911 - accuracy: 0.53 - ETA: 0s - loss: 0.6911 - accuracy: 0.53 - ETA: 0s - loss: 0.6912 - accuracy: 0.53 - ETA: 0s - loss: 0.6912 - accuracy: 0.53 - ETA: 0s - loss: 0.6913 - accuracy: 0.53 - ETA: 0s - loss: 0.6913 - accuracy: 0.53 - ETA: 0s - loss: 0.6913 - accuracy: 0.53 - 1s 932us/step - loss: 0.6912 - accuracy: 0.5318\n",
      "Epoch 84/100\n",
      "804/804 [==============================] - ETA: 0s - loss: 0.6994 - accuracy: 0.46 - ETA: 0s - loss: 0.6908 - accuracy: 0.53 - ETA: 0s - loss: 0.6926 - accuracy: 0.52 - ETA: 0s - loss: 0.6920 - accuracy: 0.52 - ETA: 0s - loss: 0.6914 - accuracy: 0.53 - ETA: 0s - loss: 0.6913 - accuracy: 0.53 - ETA: 0s - loss: 0.6913 - accuracy: 0.53 - ETA: 0s - loss: 0.6913 - accuracy: 0.53 - ETA: 0s - loss: 0.6912 - accuracy: 0.53 - ETA: 0s - loss: 0.6910 - accuracy: 0.53 - ETA: 0s - loss: 0.6911 - accuracy: 0.53 - ETA: 0s - loss: 0.6909 - accuracy: 0.53 - ETA: 0s - loss: 0.6911 - accuracy: 0.53 - ETA: 0s - loss: 0.6911 - accuracy: 0.53 - ETA: 0s - loss: 0.6912 - accuracy: 0.53 - 1s 932us/step - loss: 0.6912 - accuracy: 0.5318\n",
      "Epoch 85/100\n",
      "804/804 [==============================] - ETA: 0s - loss: 0.7023 - accuracy: 0.43 - ETA: 0s - loss: 0.6919 - accuracy: 0.52 - ETA: 0s - loss: 0.6909 - accuracy: 0.53 - ETA: 0s - loss: 0.6910 - accuracy: 0.53 - ETA: 0s - loss: 0.6916 - accuracy: 0.52 - ETA: 0s - loss: 0.6917 - accuracy: 0.52 - ETA: 0s - loss: 0.6912 - accuracy: 0.53 - ETA: 0s - loss: 0.6913 - accuracy: 0.53 - ETA: 0s - loss: 0.6912 - accuracy: 0.53 - ETA: 0s - loss: 0.6910 - accuracy: 0.53 - ETA: 0s - loss: 0.6909 - accuracy: 0.53 - ETA: 0s - loss: 0.6909 - accuracy: 0.53 - ETA: 0s - loss: 0.6912 - accuracy: 0.53 - ETA: 0s - loss: 0.6912 - accuracy: 0.53 - ETA: 0s - loss: 0.6913 - accuracy: 0.53 - ETA: 0s - loss: 0.6912 - accuracy: 0.53 - 1s 1ms/step - loss: 0.6912 - accuracy: 0.5318\n",
      "Epoch 86/100\n",
      "804/804 [==============================] - ETA: 0s - loss: 0.6954 - accuracy: 0.50 - ETA: 0s - loss: 0.6915 - accuracy: 0.52 - ETA: 0s - loss: 0.6916 - accuracy: 0.52 - ETA: 0s - loss: 0.6912 - accuracy: 0.53 - ETA: 0s - loss: 0.6911 - accuracy: 0.53 - ETA: 0s - loss: 0.6909 - accuracy: 0.53 - ETA: 0s - loss: 0.6907 - accuracy: 0.53 - ETA: 0s - loss: 0.6909 - accuracy: 0.53 - ETA: 0s - loss: 0.6909 - accuracy: 0.53 - ETA: 0s - loss: 0.6907 - accuracy: 0.53 - ETA: 0s - loss: 0.6907 - accuracy: 0.53 - ETA: 0s - loss: 0.6910 - accuracy: 0.53 - ETA: 0s - loss: 0.6911 - accuracy: 0.53 - ETA: 0s - loss: 0.6911 - accuracy: 0.53 - ETA: 0s - loss: 0.6911 - accuracy: 0.53 - ETA: 0s - loss: 0.6912 - accuracy: 0.53 - 1s 1ms/step - loss: 0.6912 - accuracy: 0.5318\n",
      "Epoch 87/100\n",
      "804/804 [==============================] - ETA: 0s - loss: 0.7058 - accuracy: 0.40 - ETA: 0s - loss: 0.6896 - accuracy: 0.54 - ETA: 0s - loss: 0.6891 - accuracy: 0.54 - ETA: 0s - loss: 0.6890 - accuracy: 0.54 - ETA: 0s - loss: 0.6897 - accuracy: 0.54 - ETA: 0s - loss: 0.6901 - accuracy: 0.53 - ETA: 0s - loss: 0.6908 - accuracy: 0.53 - ETA: 0s - loss: 0.6904 - accuracy: 0.53 - ETA: 0s - loss: 0.6908 - accuracy: 0.53 - ETA: 0s - loss: 0.6910 - accuracy: 0.53 - ETA: 0s - loss: 0.6912 - accuracy: 0.53 - ETA: 0s - loss: 0.6912 - accuracy: 0.53 - ETA: 0s - loss: 0.6913 - accuracy: 0.53 - ETA: 0s - loss: 0.6913 - accuracy: 0.53 - ETA: 0s - loss: 0.6912 - accuracy: 0.53 - 1s 939us/step - loss: 0.6912 - accuracy: 0.5318\n",
      "Epoch 88/100\n"
     ]
    },
    {
     "name": "stdout",
     "output_type": "stream",
     "text": [
      "804/804 [==============================] - ETA: 0s - loss: 0.6996 - accuracy: 0.46 - ETA: 0s - loss: 0.6902 - accuracy: 0.53 - ETA: 0s - loss: 0.6902 - accuracy: 0.53 - ETA: 0s - loss: 0.6912 - accuracy: 0.53 - ETA: 0s - loss: 0.6914 - accuracy: 0.53 - ETA: 0s - loss: 0.6915 - accuracy: 0.52 - ETA: 0s - loss: 0.6910 - accuracy: 0.53 - ETA: 0s - loss: 0.6913 - accuracy: 0.53 - ETA: 0s - loss: 0.6912 - accuracy: 0.53 - ETA: 0s - loss: 0.6909 - accuracy: 0.53 - ETA: 0s - loss: 0.6911 - accuracy: 0.53 - ETA: 0s - loss: 0.6908 - accuracy: 0.53 - ETA: 0s - loss: 0.6911 - accuracy: 0.53 - ETA: 0s - loss: 0.6911 - accuracy: 0.53 - ETA: 0s - loss: 0.6912 - accuracy: 0.53 - 1s 916us/step - loss: 0.6912 - accuracy: 0.5318\n",
      "Epoch 89/100\n",
      "804/804 [==============================] - ETA: 0s - loss: 0.6876 - accuracy: 0.56 - ETA: 0s - loss: 0.6885 - accuracy: 0.55 - ETA: 0s - loss: 0.6913 - accuracy: 0.53 - ETA: 0s - loss: 0.6910 - accuracy: 0.53 - ETA: 0s - loss: 0.6908 - accuracy: 0.53 - ETA: 0s - loss: 0.6909 - accuracy: 0.53 - ETA: 0s - loss: 0.6910 - accuracy: 0.53 - ETA: 0s - loss: 0.6910 - accuracy: 0.53 - ETA: 0s - loss: 0.6911 - accuracy: 0.53 - ETA: 0s - loss: 0.6909 - accuracy: 0.53 - ETA: 0s - loss: 0.6910 - accuracy: 0.53 - ETA: 0s - loss: 0.6910 - accuracy: 0.53 - ETA: 0s - loss: 0.6912 - accuracy: 0.53 - ETA: 0s - loss: 0.6911 - accuracy: 0.53 - ETA: 0s - loss: 0.6912 - accuracy: 0.53 - 1s 943us/step - loss: 0.6912 - accuracy: 0.5318\n",
      "Epoch 90/100\n",
      "804/804 [==============================] - ETA: 0s - loss: 0.7123 - accuracy: 0.34 - ETA: 0s - loss: 0.6913 - accuracy: 0.53 - ETA: 0s - loss: 0.6917 - accuracy: 0.52 - ETA: 0s - loss: 0.6911 - accuracy: 0.53 - ETA: 0s - loss: 0.6919 - accuracy: 0.52 - ETA: 0s - loss: 0.6921 - accuracy: 0.52 - ETA: 0s - loss: 0.6918 - accuracy: 0.52 - ETA: 0s - loss: 0.6915 - accuracy: 0.52 - ETA: 0s - loss: 0.6913 - accuracy: 0.53 - ETA: 0s - loss: 0.6914 - accuracy: 0.53 - ETA: 0s - loss: 0.6917 - accuracy: 0.52 - ETA: 0s - loss: 0.6916 - accuracy: 0.52 - ETA: 0s - loss: 0.6916 - accuracy: 0.52 - ETA: 0s - loss: 0.6912 - accuracy: 0.53 - ETA: 0s - loss: 0.6913 - accuracy: 0.53 - ETA: 0s - loss: 0.6915 - accuracy: 0.52 - ETA: 0s - loss: 0.6914 - accuracy: 0.53 - ETA: 0s - loss: 0.6915 - accuracy: 0.52 - ETA: 0s - loss: 0.6912 - accuracy: 0.53 - 1s 1ms/step - loss: 0.6912 - accuracy: 0.5318\n",
      "Epoch 91/100\n",
      "804/804 [==============================] - ETA: 0s - loss: 0.7098 - accuracy: 0.40 - ETA: 0s - loss: 0.6923 - accuracy: 0.52 - ETA: 0s - loss: 0.6919 - accuracy: 0.52 - ETA: 0s - loss: 0.6907 - accuracy: 0.53 - ETA: 0s - loss: 0.6914 - accuracy: 0.53 - ETA: 0s - loss: 0.6914 - accuracy: 0.53 - ETA: 0s - loss: 0.6916 - accuracy: 0.52 - ETA: 0s - loss: 0.6914 - accuracy: 0.53 - ETA: 0s - loss: 0.6917 - accuracy: 0.52 - ETA: 0s - loss: 0.6916 - accuracy: 0.52 - ETA: 0s - loss: 0.6916 - accuracy: 0.52 - ETA: 0s - loss: 0.6914 - accuracy: 0.53 - ETA: 0s - loss: 0.6914 - accuracy: 0.53 - ETA: 0s - loss: 0.6913 - accuracy: 0.53 - ETA: 0s - loss: 0.6914 - accuracy: 0.53 - ETA: 0s - loss: 0.6912 - accuracy: 0.53 - ETA: 0s - loss: 0.6912 - accuracy: 0.53 - ETA: 0s - loss: 0.6913 - accuracy: 0.53 - 1s 1ms/step - loss: 0.6912 - accuracy: 0.5318\n",
      "Epoch 92/100\n",
      "804/804 [==============================] - ETA: 0s - loss: 0.6912 - accuracy: 0.53 - ETA: 0s - loss: 0.6917 - accuracy: 0.52 - ETA: 0s - loss: 0.6901 - accuracy: 0.53 - ETA: 0s - loss: 0.6918 - accuracy: 0.52 - ETA: 0s - loss: 0.6921 - accuracy: 0.52 - ETA: 0s - loss: 0.6919 - accuracy: 0.52 - ETA: 0s - loss: 0.6922 - accuracy: 0.52 - ETA: 0s - loss: 0.6922 - accuracy: 0.52 - ETA: 0s - loss: 0.6918 - accuracy: 0.52 - ETA: 0s - loss: 0.6916 - accuracy: 0.52 - ETA: 0s - loss: 0.6915 - accuracy: 0.52 - ETA: 0s - loss: 0.6915 - accuracy: 0.52 - ETA: 0s - loss: 0.6914 - accuracy: 0.53 - ETA: 0s - loss: 0.6913 - accuracy: 0.53 - ETA: 0s - loss: 0.6914 - accuracy: 0.53 - ETA: 0s - loss: 0.6913 - accuracy: 0.53 - ETA: 0s - loss: 0.6912 - accuracy: 0.53 - 1s 1ms/step - loss: 0.6912 - accuracy: 0.5318\n",
      "Epoch 93/100\n",
      "804/804 [==============================] - ETA: 0s - loss: 0.7001 - accuracy: 0.46 - ETA: 2s - loss: 0.6949 - accuracy: 0.50 - ETA: 1s - loss: 0.6933 - accuracy: 0.51 - ETA: 1s - loss: 0.6931 - accuracy: 0.51 - ETA: 0s - loss: 0.6927 - accuracy: 0.51 - ETA: 0s - loss: 0.6921 - accuracy: 0.52 - ETA: 0s - loss: 0.6918 - accuracy: 0.52 - ETA: 0s - loss: 0.6917 - accuracy: 0.52 - ETA: 0s - loss: 0.6913 - accuracy: 0.53 - ETA: 0s - loss: 0.6917 - accuracy: 0.52 - ETA: 0s - loss: 0.6917 - accuracy: 0.52 - ETA: 0s - loss: 0.6915 - accuracy: 0.52 - ETA: 0s - loss: 0.6916 - accuracy: 0.52 - ETA: 0s - loss: 0.6915 - accuracy: 0.53 - ETA: 0s - loss: 0.6914 - accuracy: 0.53 - ETA: 0s - loss: 0.6914 - accuracy: 0.53 - ETA: 0s - loss: 0.6913 - accuracy: 0.53 - ETA: 0s - loss: 0.6915 - accuracy: 0.53 - ETA: 0s - loss: 0.6913 - accuracy: 0.53 - 1s 1ms/step - loss: 0.6912 - accuracy: 0.5318\n",
      "Epoch 94/100\n",
      "804/804 [==============================] - ETA: 0s - loss: 0.7050 - accuracy: 0.43 - ETA: 0s - loss: 0.6921 - accuracy: 0.52 - ETA: 0s - loss: 0.6908 - accuracy: 0.53 - ETA: 0s - loss: 0.6913 - accuracy: 0.53 - ETA: 0s - loss: 0.6914 - accuracy: 0.53 - ETA: 0s - loss: 0.6914 - accuracy: 0.53 - ETA: 0s - loss: 0.6918 - accuracy: 0.52 - ETA: 0s - loss: 0.6917 - accuracy: 0.52 - ETA: 0s - loss: 0.6917 - accuracy: 0.52 - ETA: 0s - loss: 0.6920 - accuracy: 0.52 - ETA: 0s - loss: 0.6918 - accuracy: 0.52 - ETA: 0s - loss: 0.6918 - accuracy: 0.52 - ETA: 0s - loss: 0.6915 - accuracy: 0.52 - ETA: 0s - loss: 0.6915 - accuracy: 0.52 - ETA: 0s - loss: 0.6915 - accuracy: 0.52 - ETA: 0s - loss: 0.6914 - accuracy: 0.53 - ETA: 0s - loss: 0.6915 - accuracy: 0.52 - ETA: 0s - loss: 0.6913 - accuracy: 0.53 - ETA: 0s - loss: 0.6915 - accuracy: 0.52 - ETA: 0s - loss: 0.6914 - accuracy: 0.53 - 1s 1ms/step - loss: 0.6912 - accuracy: 0.5318\n",
      "Epoch 95/100\n",
      "804/804 [==============================] - ETA: 0s - loss: 0.6542 - accuracy: 0.78 - ETA: 0s - loss: 0.6873 - accuracy: 0.55 - ETA: 0s - loss: 0.6901 - accuracy: 0.53 - ETA: 0s - loss: 0.6899 - accuracy: 0.54 - ETA: 0s - loss: 0.6901 - accuracy: 0.53 - ETA: 0s - loss: 0.6907 - accuracy: 0.53 - ETA: 0s - loss: 0.6910 - accuracy: 0.53 - ETA: 0s - loss: 0.6913 - accuracy: 0.53 - ETA: 0s - loss: 0.6912 - accuracy: 0.53 - ETA: 0s - loss: 0.6911 - accuracy: 0.53 - ETA: 0s - loss: 0.6911 - accuracy: 0.53 - ETA: 0s - loss: 0.6910 - accuracy: 0.53 - ETA: 0s - loss: 0.6910 - accuracy: 0.53 - ETA: 0s - loss: 0.6911 - accuracy: 0.53 - ETA: 0s - loss: 0.6912 - accuracy: 0.53 - ETA: 0s - loss: 0.6912 - accuracy: 0.53 - ETA: 0s - loss: 0.6913 - accuracy: 0.53 - ETA: 0s - loss: 0.6913 - accuracy: 0.53 - ETA: 0s - loss: 0.6912 - accuracy: 0.53 - 1s 1ms/step - loss: 0.6912 - accuracy: 0.5318\n",
      "Epoch 96/100\n",
      "804/804 [==============================] - ETA: 0s - loss: 0.6951 - accuracy: 0.50 - ETA: 0s - loss: 0.6914 - accuracy: 0.53 - ETA: 0s - loss: 0.6916 - accuracy: 0.52 - ETA: 0s - loss: 0.6916 - accuracy: 0.52 - ETA: 0s - loss: 0.6921 - accuracy: 0.52 - ETA: 0s - loss: 0.6923 - accuracy: 0.52 - ETA: 0s - loss: 0.6924 - accuracy: 0.52 - ETA: 0s - loss: 0.6922 - accuracy: 0.52 - ETA: 0s - loss: 0.6921 - accuracy: 0.52 - ETA: 0s - loss: 0.6919 - accuracy: 0.52 - ETA: 0s - loss: 0.6919 - accuracy: 0.52 - ETA: 0s - loss: 0.6919 - accuracy: 0.52 - ETA: 0s - loss: 0.6917 - accuracy: 0.52 - ETA: 0s - loss: 0.6917 - accuracy: 0.52 - ETA: 0s - loss: 0.6916 - accuracy: 0.52 - ETA: 0s - loss: 0.6917 - accuracy: 0.52 - ETA: 0s - loss: 0.6916 - accuracy: 0.52 - ETA: 0s - loss: 0.6914 - accuracy: 0.53 - ETA: 0s - loss: 0.6913 - accuracy: 0.53 - ETA: 0s - loss: 0.6911 - accuracy: 0.53 - ETA: 0s - loss: 0.6912 - accuracy: 0.53 - 1s 1ms/step - loss: 0.6912 - accuracy: 0.5318\n",
      "Epoch 97/100\n"
     ]
    },
    {
     "name": "stdout",
     "output_type": "stream",
     "text": [
      "804/804 [==============================] - ETA: 0s - loss: 0.6913 - accuracy: 0.53 - ETA: 0s - loss: 0.6929 - accuracy: 0.52 - ETA: 0s - loss: 0.6914 - accuracy: 0.53 - ETA: 0s - loss: 0.6903 - accuracy: 0.53 - ETA: 0s - loss: 0.6901 - accuracy: 0.53 - ETA: 0s - loss: 0.6905 - accuracy: 0.53 - ETA: 0s - loss: 0.6911 - accuracy: 0.53 - ETA: 0s - loss: 0.6911 - accuracy: 0.53 - ETA: 0s - loss: 0.6914 - accuracy: 0.53 - ETA: 0s - loss: 0.6914 - accuracy: 0.53 - ETA: 0s - loss: 0.6913 - accuracy: 0.53 - ETA: 0s - loss: 0.6917 - accuracy: 0.52 - ETA: 0s - loss: 0.6917 - accuracy: 0.52 - ETA: 0s - loss: 0.6916 - accuracy: 0.52 - ETA: 0s - loss: 0.6916 - accuracy: 0.52 - ETA: 0s - loss: 0.6915 - accuracy: 0.52 - ETA: 0s - loss: 0.6914 - accuracy: 0.53 - ETA: 0s - loss: 0.6912 - accuracy: 0.53 - ETA: 0s - loss: 0.6913 - accuracy: 0.53 - ETA: 0s - loss: 0.6911 - accuracy: 0.53 - 1s 1ms/step - loss: 0.6912 - accuracy: 0.5318\n",
      "Epoch 98/100\n",
      "804/804 [==============================] - ETA: 0s - loss: 0.7049 - accuracy: 0.43 - ETA: 0s - loss: 0.6900 - accuracy: 0.54 - ETA: 0s - loss: 0.6910 - accuracy: 0.53 - ETA: 0s - loss: 0.6901 - accuracy: 0.54 - ETA: 0s - loss: 0.6898 - accuracy: 0.54 - ETA: 0s - loss: 0.6905 - accuracy: 0.53 - ETA: 0s - loss: 0.6902 - accuracy: 0.53 - ETA: 0s - loss: 0.6905 - accuracy: 0.53 - ETA: 0s - loss: 0.6906 - accuracy: 0.53 - ETA: 0s - loss: 0.6908 - accuracy: 0.53 - ETA: 0s - loss: 0.6908 - accuracy: 0.53 - ETA: 0s - loss: 0.6909 - accuracy: 0.53 - ETA: 0s - loss: 0.6909 - accuracy: 0.53 - ETA: 0s - loss: 0.6911 - accuracy: 0.53 - ETA: 0s - loss: 0.6911 - accuracy: 0.53 - ETA: 0s - loss: 0.6912 - accuracy: 0.53 - ETA: 0s - loss: 0.6912 - accuracy: 0.53 - ETA: 0s - loss: 0.6912 - accuracy: 0.53 - ETA: 0s - loss: 0.6912 - accuracy: 0.53 - ETA: 0s - loss: 0.6912 - accuracy: 0.53 - 1s 1ms/step - loss: 0.6912 - accuracy: 0.5318\n",
      "Epoch 99/100\n",
      "804/804 [==============================] - ETA: 0s - loss: 0.6912 - accuracy: 0.53 - ETA: 1s - loss: 0.6900 - accuracy: 0.54 - ETA: 0s - loss: 0.6894 - accuracy: 0.54 - ETA: 0s - loss: 0.6900 - accuracy: 0.54 - ETA: 0s - loss: 0.6905 - accuracy: 0.53 - ETA: 0s - loss: 0.6911 - accuracy: 0.53 - ETA: 0s - loss: 0.6910 - accuracy: 0.53 - ETA: 0s - loss: 0.6912 - accuracy: 0.53 - ETA: 0s - loss: 0.6911 - accuracy: 0.53 - ETA: 0s - loss: 0.6912 - accuracy: 0.53 - ETA: 0s - loss: 0.6911 - accuracy: 0.53 - ETA: 0s - loss: 0.6911 - accuracy: 0.53 - ETA: 0s - loss: 0.6911 - accuracy: 0.53 - ETA: 0s - loss: 0.6912 - accuracy: 0.53 - ETA: 0s - loss: 0.6912 - accuracy: 0.53 - ETA: 0s - loss: 0.6914 - accuracy: 0.53 - ETA: 0s - loss: 0.6913 - accuracy: 0.53 - ETA: 0s - loss: 0.6913 - accuracy: 0.53 - ETA: 0s - loss: 0.6913 - accuracy: 0.53 - ETA: 0s - loss: 0.6912 - accuracy: 0.53 - ETA: 0s - loss: 0.6912 - accuracy: 0.53 - 1s 1ms/step - loss: 0.6912 - accuracy: 0.5318\n",
      "Epoch 100/100\n",
      "804/804 [==============================] - ETA: 0s - loss: 0.6706 - accuracy: 0.68 - ETA: 0s - loss: 0.6912 - accuracy: 0.53 - ETA: 0s - loss: 0.6897 - accuracy: 0.54 - ETA: 0s - loss: 0.6901 - accuracy: 0.54 - ETA: 0s - loss: 0.6892 - accuracy: 0.54 - ETA: 0s - loss: 0.6893 - accuracy: 0.54 - ETA: 0s - loss: 0.6900 - accuracy: 0.54 - ETA: 0s - loss: 0.6909 - accuracy: 0.53 - ETA: 0s - loss: 0.6908 - accuracy: 0.53 - ETA: 0s - loss: 0.6908 - accuracy: 0.53 - ETA: 0s - loss: 0.6910 - accuracy: 0.53 - ETA: 0s - loss: 0.6912 - accuracy: 0.53 - ETA: 0s - loss: 0.6912 - accuracy: 0.53 - ETA: 0s - loss: 0.6912 - accuracy: 0.53 - ETA: 0s - loss: 0.6910 - accuracy: 0.53 - ETA: 0s - loss: 0.6911 - accuracy: 0.53 - ETA: 0s - loss: 0.6912 - accuracy: 0.53 - ETA: 0s - loss: 0.6913 - accuracy: 0.53 - ETA: 0s - loss: 0.6912 - accuracy: 0.53 - 1s 1ms/step - loss: 0.6912 - accuracy: 0.5318\n"
     ]
    }
   ],
   "source": [
    "# Compile the model\n",
    "nn2.compile(loss=\"binary_crossentropy\", optimizer=\"adam\", metrics=[\"accuracy\"])\n",
    "# Train the model\n",
    "fit_model = nn2.fit(X_train,y_train,epochs=100)"
   ]
  },
  {
   "cell_type": "code",
   "execution_count": 86,
   "metadata": {},
   "outputs": [
    {
     "name": "stdout",
     "output_type": "stream",
     "text": [
      "268/268 - 0s - loss: 0.6888 - accuracy: 0.5343\n",
      "Loss: 0.6888319253921509, Accuracy: 0.5343440175056458\n"
     ]
    }
   ],
   "source": [
    "# Evaluate the model using the test data\n",
    "model_loss, model_accuracy = nn2.evaluate(X_test_scaled,y_test,verbose=2)\n",
    "print(f\"Loss: {model_loss}, Accuracy: {model_accuracy}\")"
   ]
  },
  {
   "cell_type": "markdown",
   "metadata": {},
   "source": [
    "## Attempt 3 - The activation function of hidden layers is changed "
   ]
  },
  {
   "cell_type": "code",
   "execution_count": 111,
   "metadata": {},
   "outputs": [
    {
     "name": "stdout",
     "output_type": "stream",
     "text": [
      "Model: \"sequential_22\"\n",
      "_________________________________________________________________\n",
      "Layer (type)                 Output Shape              Param #   \n",
      "=================================================================\n",
      "dense_98 (Dense)             (None, 100)               4500      \n",
      "_________________________________________________________________\n",
      "dense_99 (Dense)             (None, 50)                5050      \n",
      "_________________________________________________________________\n",
      "dense_100 (Dense)            (None, 25)                1275      \n",
      "_________________________________________________________________\n",
      "dense_101 (Dense)            (None, 10)                260       \n",
      "_________________________________________________________________\n",
      "dense_102 (Dense)            (None, 1)                 11        \n",
      "=================================================================\n",
      "Total params: 11,096\n",
      "Trainable params: 11,096\n",
      "Non-trainable params: 0\n",
      "_________________________________________________________________\n"
     ]
    }
   ],
   "source": [
    "# Define the model - deep neural net, i.e., the number of input features and hidden nodes for each layer.\n",
    "number_input_features = len(X_train[0])\n",
    "hidden_nodes_layer1 =  100\n",
    "hidden_nodes_layer2 = 50\n",
    "hidden_nodes_layer3 = 25\n",
    "hidden_nodes_layer4 = 10\n",
    "\n",
    "nn3 = tf.keras.models.Sequential()\n",
    "\n",
    "# First hidden layer\n",
    "nn3.add(tf.keras.layers.Dense(units=hidden_nodes_layer1, input_dim=number_input_features, activation=\"tanh\"))\n",
    "\n",
    "# Second hidden layer\n",
    "nn3.add(tf.keras.layers.Dense(units=hidden_nodes_layer2, activation=\"tanh\"))\n",
    "\n",
    "# Third hidden layer\n",
    "nn3.add(tf.keras.layers.Dense(units=hidden_nodes_layer3, activation=\"tanh\"))\n",
    "\n",
    "# Fourth hidden layer\n",
    "nn3.add(tf.keras.layers.Dense(units=hidden_nodes_layer4, activation=\"tanh\"))\n",
    "\n",
    "# Output layer\n",
    "nn3.add(tf.keras.layers.Dense(units=1, activation=\"relu\"))\n",
    "\n",
    "# Check the structure of the model\n",
    "nn3.summary()"
   ]
  },
  {
   "cell_type": "code",
   "execution_count": 112,
   "metadata": {},
   "outputs": [
    {
     "name": "stdout",
     "output_type": "stream",
     "text": [
      "Epoch 1/100\n",
      "804/804 [==============================] - ETA: 0s - loss: 7.2304 - accuracy: 0.53 - ETA: 0s - loss: 8.3917 - accuracy: 0.45 - ETA: 0s - loss: 8.4117 - accuracy: 0.45 - ETA: 0s - loss: 8.2548 - accuracy: 0.46 - ETA: 0s - loss: 8.2601 - accuracy: 0.46 - ETA: 0s - loss: 8.2043 - accuracy: 0.46 - ETA: 0s - loss: 8.1880 - accuracy: 0.46 - ETA: 0s - loss: 8.1680 - accuracy: 0.47 - ETA: 0s - loss: 8.2006 - accuracy: 0.46 - ETA: 0s - loss: 8.1977 - accuracy: 0.46 - ETA: 0s - loss: 8.1761 - accuracy: 0.46 - ETA: 0s - loss: 8.1599 - accuracy: 0.47 - ETA: 0s - loss: 8.1548 - accuracy: 0.47 - ETA: 0s - loss: 8.1770 - accuracy: 0.46 - ETA: 0s - loss: 8.2001 - accuracy: 0.46 - ETA: 0s - loss: 8.2074 - accuracy: 0.46 - ETA: 0s - loss: 8.2066 - accuracy: 0.46 - 1s 1ms/step - loss: 8.2024 - accuracy: 0.4682\n",
      "Epoch 2/100\n",
      "804/804 [==============================] - ETA: 0s - loss: 8.6765 - accuracy: 0.43 - ETA: 0s - loss: 8.4875 - accuracy: 0.44 - ETA: 0s - loss: 8.5375 - accuracy: 0.44 - ETA: 0s - loss: 8.3612 - accuracy: 0.45 - ETA: 0s - loss: 8.2697 - accuracy: 0.46 - ETA: 0s - loss: 8.2535 - accuracy: 0.46 - ETA: 0s - loss: 8.2277 - accuracy: 0.46 - ETA: 0s - loss: 8.2226 - accuracy: 0.46 - ETA: 0s - loss: 8.2074 - accuracy: 0.46 - ETA: 0s - loss: 8.2097 - accuracy: 0.46 - ETA: 0s - loss: 8.2422 - accuracy: 0.46 - ETA: 0s - loss: 8.2347 - accuracy: 0.46 - ETA: 0s - loss: 8.2326 - accuracy: 0.46 - ETA: 0s - loss: 8.2239 - accuracy: 0.46 - ETA: 0s - loss: 8.2244 - accuracy: 0.46 - ETA: 0s - loss: 8.2024 - accuracy: 0.46 - 1s 968us/step - loss: 8.2024 - accuracy: 0.4682\n",
      "Epoch 3/100\n",
      "804/804 [==============================] - ETA: 0s - loss: 7.2304 - accuracy: 0.53 - ETA: 0s - loss: 8.3278 - accuracy: 0.46 - ETA: 0s - loss: 8.2050 - accuracy: 0.46 - ETA: 0s - loss: 8.2057 - accuracy: 0.46 - ETA: 0s - loss: 8.2199 - accuracy: 0.46 - ETA: 0s - loss: 8.2250 - accuracy: 0.46 - ETA: 0s - loss: 8.1963 - accuracy: 0.46 - ETA: 0s - loss: 8.2080 - accuracy: 0.46 - ETA: 0s - loss: 8.1919 - accuracy: 0.46 - ETA: 0s - loss: 8.1598 - accuracy: 0.47 - ETA: 0s - loss: 8.1745 - accuracy: 0.47 - ETA: 0s - loss: 8.1955 - accuracy: 0.46 - ETA: 0s - loss: 8.1839 - accuracy: 0.46 - ETA: 0s - loss: 8.1804 - accuracy: 0.46 - ETA: 0s - loss: 8.1762 - accuracy: 0.46 - ETA: 0s - loss: 8.1653 - accuracy: 0.47 - ETA: 0s - loss: 8.1876 - accuracy: 0.46 - ETA: 0s - loss: 8.2054 - accuracy: 0.46 - 1s 1ms/step - loss: 8.2024 - accuracy: 0.4682\n",
      "Epoch 4/100\n",
      "804/804 [==============================] - ETA: 0s - loss: 9.1586 - accuracy: 0.40 - ETA: 0s - loss: 8.4949 - accuracy: 0.44 - ETA: 0s - loss: 8.4391 - accuracy: 0.45 - ETA: 0s - loss: 8.4781 - accuracy: 0.45 - ETA: 0s - loss: 8.4070 - accuracy: 0.45 - ETA: 0s - loss: 8.3218 - accuracy: 0.46 - ETA: 0s - loss: 8.3195 - accuracy: 0.46 - ETA: 0s - loss: 8.2516 - accuracy: 0.46 - ETA: 0s - loss: 8.2441 - accuracy: 0.46 - ETA: 0s - loss: 8.2609 - accuracy: 0.46 - ETA: 0s - loss: 8.2624 - accuracy: 0.46 - ETA: 0s - loss: 8.2261 - accuracy: 0.46 - ETA: 0s - loss: 8.1964 - accuracy: 0.46 - 1s 785us/step - loss: 8.2024 - accuracy: 0.4682\n",
      "Epoch 5/100\n",
      "804/804 [==============================] - ETA: 0s - loss: 8.6765 - accuracy: 0.43 - ETA: 0s - loss: 8.1426 - accuracy: 0.47 - ETA: 0s - loss: 8.1609 - accuracy: 0.47 - ETA: 0s - loss: 8.1672 - accuracy: 0.47 - ETA: 0s - loss: 8.1607 - accuracy: 0.47 - ETA: 0s - loss: 8.1824 - accuracy: 0.46 - ETA: 0s - loss: 8.1677 - accuracy: 0.47 - ETA: 0s - loss: 8.2076 - accuracy: 0.46 - ETA: 0s - loss: 8.2278 - accuracy: 0.46 - ETA: 0s - loss: 8.2140 - accuracy: 0.46 - ETA: 0s - loss: 8.2166 - accuracy: 0.46 - ETA: 0s - loss: 8.2243 - accuracy: 0.46 - ETA: 0s - loss: 8.2084 - accuracy: 0.46 - 1s 803us/step - loss: 8.2024 - accuracy: 0.4682\n",
      "Epoch 6/100\n",
      "804/804 [==============================] - ETA: 0s - loss: 7.2304 - accuracy: 0.53 - ETA: 0s - loss: 8.0363 - accuracy: 0.47 - ETA: 0s - loss: 8.2472 - accuracy: 0.46 - ETA: 0s - loss: 8.2589 - accuracy: 0.46 - ETA: 0s - loss: 8.2331 - accuracy: 0.46 - ETA: 0s - loss: 8.2237 - accuracy: 0.46 - ETA: 0s - loss: 8.2110 - accuracy: 0.46 - ETA: 0s - loss: 8.1923 - accuracy: 0.46 - ETA: 0s - loss: 8.1631 - accuracy: 0.47 - ETA: 0s - loss: 8.1734 - accuracy: 0.47 - ETA: 0s - loss: 8.1884 - accuracy: 0.46 - ETA: 0s - loss: 8.2084 - accuracy: 0.46 - ETA: 0s - loss: 8.2181 - accuracy: 0.46 - 1s 811us/step - loss: 8.2024 - accuracy: 0.4682\n",
      "Epoch 7/100\n",
      "804/804 [==============================] - ETA: 0s - loss: 5.3023 - accuracy: 0.65 - ETA: 0s - loss: 8.5208 - accuracy: 0.44 - ETA: 0s - loss: 8.3984 - accuracy: 0.45 - ETA: 0s - loss: 8.2119 - accuracy: 0.46 - ETA: 0s - loss: 8.1443 - accuracy: 0.47 - ETA: 0s - loss: 8.1241 - accuracy: 0.47 - ETA: 0s - loss: 8.1757 - accuracy: 0.47 - ETA: 0s - loss: 8.1988 - accuracy: 0.46 - ETA: 0s - loss: 8.2077 - accuracy: 0.46 - ETA: 0s - loss: 8.1962 - accuracy: 0.46 - ETA: 0s - loss: 8.1862 - accuracy: 0.46 - ETA: 0s - loss: 8.2048 - accuracy: 0.46 - ETA: 0s - loss: 8.2015 - accuracy: 0.46 - 1s 800us/step - loss: 8.2024 - accuracy: 0.4682\n",
      "Epoch 8/100\n",
      "804/804 [==============================] - ETA: 0s - loss: 8.1945 - accuracy: 0.46 - ETA: 0s - loss: 8.2322 - accuracy: 0.46 - ETA: 0s - loss: 8.2464 - accuracy: 0.46 - ETA: 0s - loss: 8.2994 - accuracy: 0.46 - ETA: 0s - loss: 8.2981 - accuracy: 0.46 - ETA: 0s - loss: 8.2216 - accuracy: 0.46 - ETA: 0s - loss: 8.1478 - accuracy: 0.47 - ETA: 0s - loss: 8.1956 - accuracy: 0.46 - ETA: 0s - loss: 8.2211 - accuracy: 0.46 - ETA: 0s - loss: 8.1784 - accuracy: 0.46 - ETA: 0s - loss: 8.1869 - accuracy: 0.46 - ETA: 0s - loss: 8.1862 - accuracy: 0.46 - ETA: 0s - loss: 8.1951 - accuracy: 0.46 - 1s 803us/step - loss: 8.2024 - accuracy: 0.4682\n",
      "Epoch 9/100\n",
      "804/804 [==============================] - ETA: 0s - loss: 8.1945 - accuracy: 0.46 - ETA: 0s - loss: 8.0439 - accuracy: 0.47 - ETA: 0s - loss: 8.0627 - accuracy: 0.47 - ETA: 0s - loss: 8.2173 - accuracy: 0.46 - ETA: 0s - loss: 8.2193 - accuracy: 0.46 - ETA: 0s - loss: 8.2143 - accuracy: 0.46 - ETA: 0s - loss: 8.2034 - accuracy: 0.46 - ETA: 0s - loss: 8.1989 - accuracy: 0.46 - ETA: 0s - loss: 8.2241 - accuracy: 0.46 - ETA: 0s - loss: 8.2360 - accuracy: 0.46 - ETA: 0s - loss: 8.2288 - accuracy: 0.46 - ETA: 0s - loss: 8.1952 - accuracy: 0.46 - ETA: 0s - loss: 8.1996 - accuracy: 0.46 - 1s 804us/step - loss: 8.2024 - accuracy: 0.4682\n",
      "Epoch 10/100\n",
      "804/804 [==============================] - ETA: 0s - loss: 7.7125 - accuracy: 0.50 - ETA: 0s - loss: 7.9911 - accuracy: 0.48 - ETA: 0s - loss: 8.1295 - accuracy: 0.47 - ETA: 0s - loss: 8.2049 - accuracy: 0.46 - ETA: 0s - loss: 8.2007 - accuracy: 0.46 - ETA: 0s - loss: 8.1584 - accuracy: 0.47 - ETA: 0s - loss: 8.1077 - accuracy: 0.47 - ETA: 0s - loss: 8.1304 - accuracy: 0.47 - ETA: 0s - loss: 8.1491 - accuracy: 0.47 - ETA: 0s - loss: 8.1869 - accuracy: 0.46 - ETA: 0s - loss: 8.1886 - accuracy: 0.46 - ETA: 0s - loss: 8.1737 - accuracy: 0.47 - ETA: 0s - loss: 8.1594 - accuracy: 0.47 - ETA: 0s - loss: 8.1708 - accuracy: 0.47 - ETA: 0s - loss: 8.2054 - accuracy: 0.46 - 1s 901us/step - loss: 8.2024 - accuracy: 0.4682\n",
      "Epoch 11/100\n",
      "804/804 [==============================] - ETA: 0s - loss: 10.1226 - accuracy: 0.343 - ETA: 0s - loss: 8.1945 - accuracy: 0.468 - ETA: 0s - loss: 8.2099 - accuracy: 0.46 - ETA: 0s - loss: 8.2659 - accuracy: 0.46 - ETA: 0s - loss: 8.2861 - accuracy: 0.46 - ETA: 0s - loss: 8.2583 - accuracy: 0.46 - ETA: 0s - loss: 8.2250 - accuracy: 0.46 - ETA: 0s - loss: 8.2106 - accuracy: 0.46 - ETA: 0s - loss: 8.1844 - accuracy: 0.46 - ETA: 0s - loss: 8.1801 - accuracy: 0.46 - ETA: 0s - loss: 8.1765 - accuracy: 0.46 - ETA: 0s - loss: 8.1774 - accuracy: 0.46 - ETA: 0s - loss: 8.1952 - accuracy: 0.46 - ETA: 0s - loss: 8.1990 - accuracy: 0.46 - 1s 876us/step - loss: 8.2024 - accuracy: 0.4682\n",
      "Epoch 12/100\n"
     ]
    },
    {
     "name": "stdout",
     "output_type": "stream",
     "text": [
      "804/804 [==============================] - ETA: 0s - loss: 7.7125 - accuracy: 0.50 - ETA: 0s - loss: 8.1332 - accuracy: 0.47 - ETA: 0s - loss: 8.0981 - accuracy: 0.47 - ETA: 0s - loss: 8.2400 - accuracy: 0.46 - ETA: 0s - loss: 8.2869 - accuracy: 0.46 - ETA: 0s - loss: 8.2035 - accuracy: 0.46 - ETA: 0s - loss: 8.2199 - accuracy: 0.46 - ETA: 0s - loss: 8.2035 - accuracy: 0.46 - ETA: 0s - loss: 8.1967 - accuracy: 0.46 - ETA: 0s - loss: 8.1826 - accuracy: 0.46 - ETA: 0s - loss: 8.1687 - accuracy: 0.47 - ETA: 0s - loss: 8.1856 - accuracy: 0.46 - ETA: 0s - loss: 8.2151 - accuracy: 0.46 - ETA: 0s - loss: 8.1877 - accuracy: 0.46 - ETA: 0s - loss: 8.2014 - accuracy: 0.46 - 1s 929us/step - loss: 8.2024 - accuracy: 0.4682\n",
      "Epoch 13/100\n",
      "804/804 [==============================] - ETA: 0s - loss: 8.1945 - accuracy: 0.46 - ETA: 0s - loss: 8.1517 - accuracy: 0.47 - ETA: 0s - loss: 8.1394 - accuracy: 0.47 - ETA: 0s - loss: 8.3026 - accuracy: 0.46 - ETA: 0s - loss: 8.2030 - accuracy: 0.46 - ETA: 0s - loss: 8.1446 - accuracy: 0.47 - ETA: 0s - loss: 8.1221 - accuracy: 0.47 - ETA: 0s - loss: 8.1746 - accuracy: 0.47 - ETA: 0s - loss: 8.1837 - accuracy: 0.46 - ETA: 0s - loss: 8.1603 - accuracy: 0.47 - ETA: 0s - loss: 8.1714 - accuracy: 0.47 - ETA: 0s - loss: 8.1640 - accuracy: 0.47 - ETA: 0s - loss: 8.1628 - accuracy: 0.47 - ETA: 0s - loss: 8.1712 - accuracy: 0.47 - ETA: 0s - loss: 8.1995 - accuracy: 0.46 - 1s 915us/step - loss: 8.2024 - accuracy: 0.4682\n",
      "Epoch 14/100\n",
      "804/804 [==============================] - ETA: 0s - loss: 7.7125 - accuracy: 0.50 - ETA: 0s - loss: 8.4313 - accuracy: 0.45 - ETA: 0s - loss: 8.5172 - accuracy: 0.44 - ETA: 0s - loss: 8.3205 - accuracy: 0.46 - ETA: 0s - loss: 8.2336 - accuracy: 0.46 - ETA: 0s - loss: 8.2657 - accuracy: 0.46 - ETA: 0s - loss: 8.2386 - accuracy: 0.46 - ETA: 0s - loss: 8.2335 - accuracy: 0.46 - ETA: 0s - loss: 8.2481 - accuracy: 0.46 - ETA: 0s - loss: 8.1899 - accuracy: 0.46 - ETA: 0s - loss: 8.1887 - accuracy: 0.46 - ETA: 0s - loss: 8.1953 - accuracy: 0.46 - ETA: 0s - loss: 8.1884 - accuracy: 0.46 - ETA: 0s - loss: 8.1970 - accuracy: 0.46 - 1s 861us/step - loss: 8.2024 - accuracy: 0.4682\n",
      "Epoch 15/100\n",
      "804/804 [==============================] - ETA: 0s - loss: 7.2304 - accuracy: 0.53 - ETA: 0s - loss: 8.0677 - accuracy: 0.47 - ETA: 0s - loss: 8.2031 - accuracy: 0.46 - ETA: 0s - loss: 8.1737 - accuracy: 0.47 - ETA: 0s - loss: 8.1923 - accuracy: 0.46 - ETA: 0s - loss: 8.1679 - accuracy: 0.47 - ETA: 0s - loss: 8.1829 - accuracy: 0.46 - ETA: 0s - loss: 8.1920 - accuracy: 0.46 - ETA: 0s - loss: 8.1646 - accuracy: 0.47 - ETA: 0s - loss: 8.1563 - accuracy: 0.47 - ETA: 0s - loss: 8.1660 - accuracy: 0.47 - ETA: 0s - loss: 8.1834 - accuracy: 0.46 - ETA: 0s - loss: 8.2017 - accuracy: 0.46 - ETA: 0s - loss: 8.2090 - accuracy: 0.46 - ETA: 0s - loss: 8.2018 - accuracy: 0.46 - 1s 906us/step - loss: 8.2024 - accuracy: 0.4682\n",
      "Epoch 16/100\n",
      "804/804 [==============================] - ETA: 0s - loss: 9.1586 - accuracy: 0.40 - ETA: 0s - loss: 8.2101 - accuracy: 0.46 - ETA: 0s - loss: 8.1869 - accuracy: 0.46 - ETA: 0s - loss: 8.1918 - accuracy: 0.46 - ETA: 0s - loss: 8.2695 - accuracy: 0.46 - ETA: 0s - loss: 8.2348 - accuracy: 0.46 - ETA: 0s - loss: 8.2004 - accuracy: 0.46 - ETA: 0s - loss: 8.1983 - accuracy: 0.46 - ETA: 0s - loss: 8.2140 - accuracy: 0.46 - ETA: 0s - loss: 8.2214 - accuracy: 0.46 - ETA: 0s - loss: 8.2255 - accuracy: 0.46 - ETA: 0s - loss: 8.2107 - accuracy: 0.46 - ETA: 0s - loss: 8.2266 - accuracy: 0.46 - ETA: 0s - loss: 8.2283 - accuracy: 0.46 - 1s 870us/step - loss: 8.2024 - accuracy: 0.4682\n",
      "Epoch 17/100\n",
      "804/804 [==============================] - ETA: 0s - loss: 6.2664 - accuracy: 0.59 - ETA: 0s - loss: 8.1434 - accuracy: 0.47 - ETA: 0s - loss: 8.0503 - accuracy: 0.47 - ETA: 0s - loss: 8.0507 - accuracy: 0.47 - ETA: 0s - loss: 8.1101 - accuracy: 0.47 - ETA: 0s - loss: 8.1389 - accuracy: 0.47 - ETA: 0s - loss: 8.1958 - accuracy: 0.46 - ETA: 0s - loss: 8.1719 - accuracy: 0.47 - ETA: 0s - loss: 8.1532 - accuracy: 0.47 - ETA: 0s - loss: 8.1586 - accuracy: 0.47 - ETA: 0s - loss: 8.1900 - accuracy: 0.46 - ETA: 0s - loss: 8.1863 - accuracy: 0.46 - ETA: 0s - loss: 8.1852 - accuracy: 0.46 - 1s 793us/step - loss: 8.2024 - accuracy: 0.4682\n",
      "Epoch 18/100\n",
      "804/804 [==============================] - ETA: 0s - loss: 12.0507 - accuracy: 0.218 - ETA: 0s - loss: 8.4136 - accuracy: 0.454 - ETA: 0s - loss: 8.2902 - accuracy: 0.46 - ETA: 0s - loss: 8.2983 - accuracy: 0.46 - ETA: 0s - loss: 8.2425 - accuracy: 0.46 - ETA: 0s - loss: 8.2467 - accuracy: 0.46 - ETA: 0s - loss: 8.2607 - accuracy: 0.46 - ETA: 0s - loss: 8.2181 - accuracy: 0.46 - ETA: 0s - loss: 8.2376 - accuracy: 0.46 - ETA: 0s - loss: 8.2074 - accuracy: 0.46 - ETA: 0s - loss: 8.2064 - accuracy: 0.46 - ETA: 0s - loss: 8.2069 - accuracy: 0.46 - ETA: 0s - loss: 8.1858 - accuracy: 0.46 - ETA: 0s - loss: 8.1933 - accuracy: 0.46 - 1s 847us/step - loss: 8.2024 - accuracy: 0.4682\n",
      "Epoch 19/100\n",
      "804/804 [==============================] - ETA: 0s - loss: 7.2304 - accuracy: 0.53 - ETA: 0s - loss: 8.4355 - accuracy: 0.45 - ETA: 0s - loss: 8.3459 - accuracy: 0.45 - ETA: 0s - loss: 8.3372 - accuracy: 0.45 - ETA: 0s - loss: 8.3296 - accuracy: 0.46 - ETA: 0s - loss: 8.3488 - accuracy: 0.45 - ETA: 0s - loss: 8.3565 - accuracy: 0.45 - ETA: 0s - loss: 8.3533 - accuracy: 0.45 - ETA: 0s - loss: 8.3250 - accuracy: 0.46 - ETA: 0s - loss: 8.2720 - accuracy: 0.46 - ETA: 0s - loss: 8.2508 - accuracy: 0.46 - ETA: 0s - loss: 8.2322 - accuracy: 0.46 - ETA: 0s - loss: 8.2195 - accuracy: 0.46 - 1s 811us/step - loss: 8.2024 - accuracy: 0.4682\n",
      "Epoch 20/100\n",
      "804/804 [==============================] - ETA: 0s - loss: 6.7484 - accuracy: 0.56 - ETA: 0s - loss: 8.1872 - accuracy: 0.46 - ETA: 0s - loss: 8.1723 - accuracy: 0.47 - ETA: 0s - loss: 8.2044 - accuracy: 0.46 - ETA: 0s - loss: 8.1704 - accuracy: 0.47 - ETA: 0s - loss: 8.1767 - accuracy: 0.46 - ETA: 0s - loss: 8.2106 - accuracy: 0.46 - ETA: 0s - loss: 8.2083 - accuracy: 0.46 - ETA: 0s - loss: 8.1667 - accuracy: 0.47 - ETA: 0s - loss: 8.2036 - accuracy: 0.46 - ETA: 0s - loss: 8.2207 - accuracy: 0.46 - ETA: 0s - loss: 8.2261 - accuracy: 0.46 - ETA: 0s - loss: 8.2096 - accuracy: 0.46 - 1s 798us/step - loss: 8.2024 - accuracy: 0.4682\n",
      "Epoch 21/100\n",
      "804/804 [==============================] - ETA: 0s - loss: 11.5687 - accuracy: 0.250 - ETA: 0s - loss: 8.3552 - accuracy: 0.458 - ETA: 0s - loss: 8.1305 - accuracy: 0.47 - ETA: 0s - loss: 8.1795 - accuracy: 0.46 - ETA: 0s - loss: 8.2319 - accuracy: 0.46 - ETA: 0s - loss: 8.1960 - accuracy: 0.46 - ETA: 0s - loss: 8.2081 - accuracy: 0.46 - ETA: 0s - loss: 8.2379 - accuracy: 0.46 - ETA: 0s - loss: 8.2298 - accuracy: 0.46 - ETA: 0s - loss: 8.2436 - accuracy: 0.46 - ETA: 0s - loss: 8.2132 - accuracy: 0.46 - ETA: 0s - loss: 8.1952 - accuracy: 0.46 - ETA: 0s - loss: 8.1970 - accuracy: 0.46 - 1s 789us/step - loss: 8.2024 - accuracy: 0.4682\n",
      "Epoch 22/100\n",
      "804/804 [==============================] - ETA: 0s - loss: 8.6765 - accuracy: 0.43 - ETA: 0s - loss: 8.1129 - accuracy: 0.47 - ETA: 0s - loss: 8.2724 - accuracy: 0.46 - ETA: 0s - loss: 8.2293 - accuracy: 0.46 - ETA: 0s - loss: 8.1307 - accuracy: 0.47 - ETA: 0s - loss: 8.1705 - accuracy: 0.47 - ETA: 0s - loss: 8.2133 - accuracy: 0.46 - ETA: 0s - loss: 8.1858 - accuracy: 0.46 - ETA: 0s - loss: 8.1672 - accuracy: 0.47 - ETA: 0s - loss: 8.1747 - accuracy: 0.47 - ETA: 0s - loss: 8.1891 - accuracy: 0.46 - ETA: 0s - loss: 8.2022 - accuracy: 0.46 - ETA: 0s - loss: 8.2047 - accuracy: 0.46 - 1s 817us/step - loss: 8.2024 - accuracy: 0.4682\n",
      "Epoch 23/100\n",
      "804/804 [==============================] - ETA: 0s - loss: 6.2664 - accuracy: 0.59 - ETA: 0s - loss: 7.9943 - accuracy: 0.48 - ETA: 0s - loss: 8.1982 - accuracy: 0.46 - ETA: 0s - loss: 8.1401 - accuracy: 0.47 - ETA: 0s - loss: 8.1132 - accuracy: 0.47 - ETA: 0s - loss: 8.1604 - accuracy: 0.47 - ETA: 0s - loss: 8.1538 - accuracy: 0.47 - ETA: 0s - loss: 8.1426 - accuracy: 0.47 - ETA: 0s - loss: 8.1546 - accuracy: 0.47 - ETA: 0s - loss: 8.1631 - accuracy: 0.47 - ETA: 0s - loss: 8.1722 - accuracy: 0.47 - ETA: 0s - loss: 8.1890 - accuracy: 0.46 - ETA: 0s - loss: 8.1913 - accuracy: 0.46 - 1s 808us/step - loss: 8.2024 - accuracy: 0.4682\n",
      "Epoch 24/100\n"
     ]
    },
    {
     "name": "stdout",
     "output_type": "stream",
     "text": [
      "804/804 [==============================] - ETA: 0s - loss: 8.1945 - accuracy: 0.46 - ETA: 0s - loss: 8.5269 - accuracy: 0.44 - ETA: 0s - loss: 8.4316 - accuracy: 0.45 - ETA: 0s - loss: 8.3300 - accuracy: 0.46 - ETA: 0s - loss: 8.2952 - accuracy: 0.46 - ETA: 0s - loss: 8.3131 - accuracy: 0.46 - ETA: 0s - loss: 8.2799 - accuracy: 0.46 - ETA: 0s - loss: 8.2783 - accuracy: 0.46 - ETA: 0s - loss: 8.2350 - accuracy: 0.46 - ETA: 0s - loss: 8.2179 - accuracy: 0.46 - ETA: 0s - loss: 8.1694 - accuracy: 0.47 - ETA: 0s - loss: 8.1952 - accuracy: 0.46 - ETA: 0s - loss: 8.1952 - accuracy: 0.46 - ETA: 0s - loss: 8.2034 - accuracy: 0.46 - 1s 876us/step - loss: 8.2024 - accuracy: 0.4682\n",
      "Epoch 25/100\n",
      "804/804 [==============================] - ETA: 0s - loss: 7.7125 - accuracy: 0.50 - ETA: 0s - loss: 8.3416 - accuracy: 0.45 - ETA: 0s - loss: 8.2975 - accuracy: 0.46 - ETA: 0s - loss: 8.2937 - accuracy: 0.46 - ETA: 0s - loss: 8.3007 - accuracy: 0.46 - ETA: 0s - loss: 8.2696 - accuracy: 0.46 - ETA: 0s - loss: 8.2642 - accuracy: 0.46 - ETA: 0s - loss: 8.2238 - accuracy: 0.46 - ETA: 0s - loss: 8.2045 - accuracy: 0.46 - ETA: 0s - loss: 8.2152 - accuracy: 0.46 - ETA: 0s - loss: 8.2339 - accuracy: 0.46 - ETA: 0s - loss: 8.2322 - accuracy: 0.46 - ETA: 0s - loss: 8.2136 - accuracy: 0.46 - ETA: 0s - loss: 8.2008 - accuracy: 0.46 - ETA: 0s - loss: 8.1869 - accuracy: 0.46 - 1s 932us/step - loss: 8.2024 - accuracy: 0.4682\n",
      "Epoch 26/100\n",
      "804/804 [==============================] - ETA: 0s - loss: 9.6406 - accuracy: 0.37 - ETA: 0s - loss: 8.0218 - accuracy: 0.47 - ETA: 0s - loss: 8.0996 - accuracy: 0.47 - ETA: 0s - loss: 8.2116 - accuracy: 0.46 - ETA: 0s - loss: 8.1810 - accuracy: 0.46 - ETA: 0s - loss: 8.1881 - accuracy: 0.46 - ETA: 0s - loss: 8.1416 - accuracy: 0.47 - ETA: 0s - loss: 8.1806 - accuracy: 0.46 - ETA: 0s - loss: 8.1581 - accuracy: 0.47 - ETA: 0s - loss: 8.1936 - accuracy: 0.46 - ETA: 0s - loss: 8.2066 - accuracy: 0.46 - ETA: 0s - loss: 8.2034 - accuracy: 0.46 - ETA: 0s - loss: 8.2067 - accuracy: 0.46 - ETA: 0s - loss: 8.2038 - accuracy: 0.46 - 1s 852us/step - loss: 8.2024 - accuracy: 0.4682\n",
      "Epoch 27/100\n",
      "804/804 [==============================] - ETA: 0s - loss: 6.7484 - accuracy: 0.56 - ETA: 0s - loss: 8.3698 - accuracy: 0.45 - ETA: 0s - loss: 8.4190 - accuracy: 0.45 - ETA: 0s - loss: 8.2588 - accuracy: 0.46 - ETA: 0s - loss: 8.2526 - accuracy: 0.46 - ETA: 0s - loss: 8.2499 - accuracy: 0.46 - ETA: 0s - loss: 8.2157 - accuracy: 0.46 - ETA: 0s - loss: 8.2094 - accuracy: 0.46 - ETA: 0s - loss: 8.2188 - accuracy: 0.46 - ETA: 0s - loss: 8.2310 - accuracy: 0.46 - ETA: 0s - loss: 8.2177 - accuracy: 0.46 - ETA: 0s - loss: 8.2255 - accuracy: 0.46 - ETA: 0s - loss: 8.2129 - accuracy: 0.46 - 1s 811us/step - loss: 8.2024 - accuracy: 0.4682\n",
      "Epoch 28/100\n",
      "804/804 [==============================] - ETA: 0s - loss: 9.6406 - accuracy: 0.37 - ETA: 0s - loss: 8.4077 - accuracy: 0.45 - ETA: 0s - loss: 8.3567 - accuracy: 0.45 - ETA: 0s - loss: 8.2227 - accuracy: 0.46 - ETA: 0s - loss: 8.1922 - accuracy: 0.46 - ETA: 0s - loss: 8.1536 - accuracy: 0.47 - ETA: 0s - loss: 8.2084 - accuracy: 0.46 - ETA: 0s - loss: 8.2073 - accuracy: 0.46 - ETA: 0s - loss: 8.2261 - accuracy: 0.46 - ETA: 0s - loss: 8.2250 - accuracy: 0.46 - ETA: 0s - loss: 8.2021 - accuracy: 0.46 - ETA: 0s - loss: 8.1968 - accuracy: 0.46 - ETA: 0s - loss: 8.1994 - accuracy: 0.46 - ETA: 0s - loss: 8.1996 - accuracy: 0.46 - 1s 871us/step - loss: 8.2024 - accuracy: 0.4682\n",
      "Epoch 29/100\n",
      "804/804 [==============================] - ETA: 0s - loss: 8.1945 - accuracy: 0.46 - ETA: 0s - loss: 8.1482 - accuracy: 0.47 - ETA: 0s - loss: 8.0656 - accuracy: 0.47 - ETA: 0s - loss: 8.2566 - accuracy: 0.46 - ETA: 0s - loss: 8.2024 - accuracy: 0.46 - ETA: 0s - loss: 8.1760 - accuracy: 0.46 - ETA: 0s - loss: 8.1609 - accuracy: 0.47 - ETA: 0s - loss: 8.1330 - accuracy: 0.47 - ETA: 0s - loss: 8.2116 - accuracy: 0.46 - ETA: 0s - loss: 8.1860 - accuracy: 0.46 - ETA: 0s - loss: 8.1992 - accuracy: 0.46 - ETA: 0s - loss: 8.1904 - accuracy: 0.46 - ETA: 0s - loss: 8.1967 - accuracy: 0.46 - ETA: 0s - loss: 8.2020 - accuracy: 0.46 - ETA: 0s - loss: 8.2046 - accuracy: 0.46 - 1s 944us/step - loss: 8.2024 - accuracy: 0.4682\n",
      "Epoch 30/100\n",
      "804/804 [==============================] - ETA: 0s - loss: 6.2664 - accuracy: 0.59 - ETA: 0s - loss: 7.9849 - accuracy: 0.48 - ETA: 0s - loss: 8.3123 - accuracy: 0.46 - ETA: 0s - loss: 8.3150 - accuracy: 0.46 - ETA: 0s - loss: 8.3111 - accuracy: 0.46 - ETA: 0s - loss: 8.2458 - accuracy: 0.46 - ETA: 0s - loss: 8.2791 - accuracy: 0.46 - ETA: 0s - loss: 8.2247 - accuracy: 0.46 - ETA: 0s - loss: 8.2569 - accuracy: 0.46 - ETA: 0s - loss: 8.2055 - accuracy: 0.46 - ETA: 0s - loss: 8.1877 - accuracy: 0.46 - ETA: 0s - loss: 8.1945 - accuracy: 0.46 - ETA: 0s - loss: 8.2054 - accuracy: 0.46 - ETA: 0s - loss: 8.1966 - accuracy: 0.46 - ETA: 0s - loss: 8.1848 - accuracy: 0.46 - 1s 946us/step - loss: 8.2024 - accuracy: 0.4682\n",
      "Epoch 31/100\n",
      "804/804 [==============================] - ETA: 0s - loss: 4.3383 - accuracy: 0.71 - ETA: 0s - loss: 8.1041 - accuracy: 0.47 - ETA: 0s - loss: 8.1502 - accuracy: 0.47 - ETA: 0s - loss: 8.1684 - accuracy: 0.47 - ETA: 0s - loss: 8.1775 - accuracy: 0.46 - ETA: 0s - loss: 8.2041 - accuracy: 0.46 - ETA: 0s - loss: 8.1786 - accuracy: 0.46 - ETA: 0s - loss: 8.1783 - accuracy: 0.46 - ETA: 0s - loss: 8.1407 - accuracy: 0.47 - ETA: 0s - loss: 8.1169 - accuracy: 0.47 - ETA: 0s - loss: 8.1481 - accuracy: 0.47 - ETA: 0s - loss: 8.1738 - accuracy: 0.47 - ETA: 0s - loss: 8.1801 - accuracy: 0.46 - ETA: 0s - loss: 8.1820 - accuracy: 0.46 - ETA: 0s - loss: 8.1957 - accuracy: 0.46 - 1s 902us/step - loss: 8.2024 - accuracy: 0.4682\n",
      "Epoch 32/100\n",
      "804/804 [==============================] - ETA: 0s - loss: 6.2664 - accuracy: 0.59 - ETA: 0s - loss: 8.1343 - accuracy: 0.47 - ETA: 0s - loss: 8.0465 - accuracy: 0.47 - ETA: 0s - loss: 8.1512 - accuracy: 0.47 - ETA: 0s - loss: 8.1798 - accuracy: 0.46 - ETA: 0s - loss: 8.1928 - accuracy: 0.46 - ETA: 0s - loss: 8.2107 - accuracy: 0.46 - ETA: 0s - loss: 8.2199 - accuracy: 0.46 - ETA: 0s - loss: 8.2270 - accuracy: 0.46 - ETA: 0s - loss: 8.2115 - accuracy: 0.46 - ETA: 0s - loss: 8.1963 - accuracy: 0.46 - ETA: 0s - loss: 8.2238 - accuracy: 0.46 - ETA: 0s - loss: 8.2103 - accuracy: 0.46 - ETA: 0s - loss: 8.2142 - accuracy: 0.46 - ETA: 0s - loss: 8.2042 - accuracy: 0.46 - 1s 896us/step - loss: 8.2024 - accuracy: 0.4682\n",
      "Epoch 33/100\n",
      "804/804 [==============================] - ETA: 0s - loss: 9.6406 - accuracy: 0.37 - ETA: 0s - loss: 8.1418 - accuracy: 0.47 - ETA: 0s - loss: 8.1452 - accuracy: 0.47 - ETA: 0s - loss: 8.1387 - accuracy: 0.47 - ETA: 0s - loss: 8.1205 - accuracy: 0.47 - ETA: 0s - loss: 8.1580 - accuracy: 0.47 - ETA: 0s - loss: 8.1894 - accuracy: 0.46 - ETA: 0s - loss: 8.2054 - accuracy: 0.46 - ETA: 0s - loss: 8.1754 - accuracy: 0.47 - ETA: 0s - loss: 8.2149 - accuracy: 0.46 - ETA: 0s - loss: 8.1777 - accuracy: 0.46 - ETA: 0s - loss: 8.1771 - accuracy: 0.46 - ETA: 0s - loss: 8.1945 - accuracy: 0.46 - ETA: 0s - loss: 8.2054 - accuracy: 0.46 - 1s 842us/step - loss: 8.2024 - accuracy: 0.4682\n",
      "Epoch 34/100\n",
      "804/804 [==============================] - ETA: 0s - loss: 8.1945 - accuracy: 0.46 - ETA: 0s - loss: 8.2673 - accuracy: 0.46 - ETA: 0s - loss: 8.2491 - accuracy: 0.46 - ETA: 0s - loss: 8.2860 - accuracy: 0.46 - ETA: 0s - loss: 8.1989 - accuracy: 0.46 - ETA: 0s - loss: 8.2437 - accuracy: 0.46 - ETA: 0s - loss: 8.2622 - accuracy: 0.46 - ETA: 0s - loss: 8.2589 - accuracy: 0.46 - ETA: 0s - loss: 8.2341 - accuracy: 0.46 - ETA: 0s - loss: 8.2043 - accuracy: 0.46 - ETA: 0s - loss: 8.2089 - accuracy: 0.46 - ETA: 0s - loss: 8.1873 - accuracy: 0.46 - ETA: 0s - loss: 8.1925 - accuracy: 0.46 - ETA: 0s - loss: 8.2092 - accuracy: 0.46 - 1s 845us/step - loss: 8.2024 - accuracy: 0.4682\n",
      "Epoch 35/100\n"
     ]
    },
    {
     "name": "stdout",
     "output_type": "stream",
     "text": [
      "804/804 [==============================] - ETA: 0s - loss: 8.6765 - accuracy: 0.43 - ETA: 0s - loss: 8.3298 - accuracy: 0.46 - ETA: 0s - loss: 8.2148 - accuracy: 0.46 - ETA: 0s - loss: 8.1268 - accuracy: 0.47 - ETA: 0s - loss: 8.1419 - accuracy: 0.47 - ETA: 0s - loss: 8.0820 - accuracy: 0.47 - ETA: 0s - loss: 8.0807 - accuracy: 0.47 - ETA: 0s - loss: 8.1105 - accuracy: 0.47 - ETA: 0s - loss: 8.0683 - accuracy: 0.47 - ETA: 0s - loss: 8.1054 - accuracy: 0.47 - ETA: 0s - loss: 8.1142 - accuracy: 0.47 - ETA: 0s - loss: 8.1471 - accuracy: 0.47 - ETA: 0s - loss: 8.1614 - accuracy: 0.47 - ETA: 0s - loss: 8.1633 - accuracy: 0.47 - ETA: 0s - loss: 8.1952 - accuracy: 0.46 - ETA: 0s - loss: 8.2018 - accuracy: 0.46 - 1s 961us/step - loss: 8.2024 - accuracy: 0.4682\n",
      "Epoch 36/100\n",
      "804/804 [==============================] - ETA: 0s - loss: 5.7844 - accuracy: 0.62 - ETA: 0s - loss: 8.1672 - accuracy: 0.47 - ETA: 0s - loss: 8.2177 - accuracy: 0.46 - ETA: 0s - loss: 8.2625 - accuracy: 0.46 - ETA: 0s - loss: 8.2318 - accuracy: 0.46 - ETA: 0s - loss: 8.2246 - accuracy: 0.46 - ETA: 0s - loss: 8.2116 - accuracy: 0.46 - ETA: 0s - loss: 8.2432 - accuracy: 0.46 - ETA: 0s - loss: 8.2352 - accuracy: 0.46 - ETA: 0s - loss: 8.2033 - accuracy: 0.46 - ETA: 0s - loss: 8.2205 - accuracy: 0.46 - ETA: 0s - loss: 8.2215 - accuracy: 0.46 - ETA: 0s - loss: 8.2309 - accuracy: 0.46 - ETA: 0s - loss: 8.2028 - accuracy: 0.46 - 1s 873us/step - loss: 8.2024 - accuracy: 0.4682\n",
      "Epoch 37/100\n",
      "804/804 [==============================] - ETA: 0s - loss: 5.7844 - accuracy: 0.62 - ETA: 0s - loss: 8.4720 - accuracy: 0.45 - ETA: 0s - loss: 8.2975 - accuracy: 0.46 - ETA: 0s - loss: 8.2609 - accuracy: 0.46 - ETA: 0s - loss: 8.2462 - accuracy: 0.46 - ETA: 0s - loss: 8.2610 - accuracy: 0.46 - ETA: 0s - loss: 8.2167 - accuracy: 0.46 - ETA: 0s - loss: 8.1945 - accuracy: 0.46 - ETA: 0s - loss: 8.2084 - accuracy: 0.46 - ETA: 0s - loss: 8.2053 - accuracy: 0.46 - ETA: 0s - loss: 8.1967 - accuracy: 0.46 - ETA: 0s - loss: 8.2088 - accuracy: 0.46 - ETA: 0s - loss: 8.2126 - accuracy: 0.46 - 1s 794us/step - loss: 8.2024 - accuracy: 0.4682\n",
      "Epoch 38/100\n",
      "804/804 [==============================] - ETA: 0s - loss: 6.2664 - accuracy: 0.59 - ETA: 0s - loss: 8.3280 - accuracy: 0.46 - ETA: 0s - loss: 8.2724 - accuracy: 0.46 - ETA: 0s - loss: 8.2118 - accuracy: 0.46 - ETA: 0s - loss: 8.1834 - accuracy: 0.46 - ETA: 0s - loss: 8.2405 - accuracy: 0.46 - ETA: 0s - loss: 8.2081 - accuracy: 0.46 - ETA: 0s - loss: 8.2421 - accuracy: 0.46 - ETA: 0s - loss: 8.2417 - accuracy: 0.46 - ETA: 0s - loss: 8.2562 - accuracy: 0.46 - ETA: 0s - loss: 8.2369 - accuracy: 0.46 - ETA: 0s - loss: 8.2189 - accuracy: 0.46 - ETA: 0s - loss: 8.2206 - accuracy: 0.46 - 1s 791us/step - loss: 8.2024 - accuracy: 0.4682\n",
      "Epoch 39/100\n",
      "804/804 [==============================] - ETA: 0s - loss: 7.7125 - accuracy: 0.50 - ETA: 0s - loss: 8.3150 - accuracy: 0.46 - ETA: 0s - loss: 8.1644 - accuracy: 0.47 - ETA: 0s - loss: 8.2279 - accuracy: 0.46 - ETA: 0s - loss: 8.1922 - accuracy: 0.46 - ETA: 0s - loss: 8.2261 - accuracy: 0.46 - ETA: 0s - loss: 8.2409 - accuracy: 0.46 - ETA: 0s - loss: 8.2125 - accuracy: 0.46 - ETA: 0s - loss: 8.1779 - accuracy: 0.46 - ETA: 0s - loss: 8.1753 - accuracy: 0.47 - ETA: 0s - loss: 8.2142 - accuracy: 0.46 - ETA: 0s - loss: 8.2175 - accuracy: 0.46 - ETA: 0s - loss: 8.2232 - accuracy: 0.46 - ETA: 0s - loss: 8.1990 - accuracy: 0.46 - 1s 876us/step - loss: 8.2024 - accuracy: 0.4682\n",
      "Epoch 40/100\n",
      "804/804 [==============================] - ETA: 0s - loss: 7.7125 - accuracy: 0.50 - ETA: 0s - loss: 8.4656 - accuracy: 0.45 - ETA: 0s - loss: 8.2991 - accuracy: 0.46 - ETA: 0s - loss: 8.3100 - accuracy: 0.46 - ETA: 0s - loss: 8.2871 - accuracy: 0.46 - ETA: 0s - loss: 8.2885 - accuracy: 0.46 - ETA: 0s - loss: 8.3049 - accuracy: 0.46 - ETA: 0s - loss: 8.3044 - accuracy: 0.46 - ETA: 0s - loss: 8.2747 - accuracy: 0.46 - ETA: 0s - loss: 8.2624 - accuracy: 0.46 - ETA: 0s - loss: 8.2297 - accuracy: 0.46 - ETA: 0s - loss: 8.2077 - accuracy: 0.46 - ETA: 0s - loss: 8.2086 - accuracy: 0.46 - 1s 809us/step - loss: 8.2024 - accuracy: 0.4682\n",
      "Epoch 41/100\n",
      "804/804 [==============================] - ETA: 0s - loss: 7.2304 - accuracy: 0.53 - ETA: 0s - loss: 8.2999 - accuracy: 0.46 - ETA: 0s - loss: 8.1452 - accuracy: 0.47 - ETA: 0s - loss: 8.1415 - accuracy: 0.47 - ETA: 0s - loss: 8.1129 - accuracy: 0.47 - ETA: 0s - loss: 8.1626 - accuracy: 0.47 - ETA: 0s - loss: 8.2173 - accuracy: 0.46 - ETA: 0s - loss: 8.2054 - accuracy: 0.46 - ETA: 0s - loss: 8.2050 - accuracy: 0.46 - ETA: 0s - loss: 8.2131 - accuracy: 0.46 - ETA: 0s - loss: 8.2188 - accuracy: 0.46 - ETA: 0s - loss: 8.2083 - accuracy: 0.46 - ETA: 0s - loss: 8.2116 - accuracy: 0.46 - 1s 814us/step - loss: 8.2024 - accuracy: 0.4682\n",
      "Epoch 42/100\n",
      "804/804 [==============================] - ETA: 0s - loss: 8.1945 - accuracy: 0.46 - ETA: 0s - loss: 8.2028 - accuracy: 0.46 - ETA: 0s - loss: 8.3618 - accuracy: 0.45 - ETA: 0s - loss: 8.2437 - accuracy: 0.46 - ETA: 0s - loss: 8.2681 - accuracy: 0.46 - ETA: 0s - loss: 8.2439 - accuracy: 0.46 - ETA: 0s - loss: 8.2368 - accuracy: 0.46 - ETA: 0s - loss: 8.2428 - accuracy: 0.46 - ETA: 0s - loss: 8.2214 - accuracy: 0.46 - ETA: 0s - loss: 8.2328 - accuracy: 0.46 - ETA: 0s - loss: 8.2198 - accuracy: 0.46 - ETA: 0s - loss: 8.2112 - accuracy: 0.46 - ETA: 0s - loss: 8.2060 - accuracy: 0.46 - 1s 809us/step - loss: 8.2024 - accuracy: 0.4682\n",
      "Epoch 43/100\n",
      "804/804 [==============================] - ETA: 0s - loss: 9.6406 - accuracy: 0.37 - ETA: 0s - loss: 8.3422 - accuracy: 0.45 - ETA: 0s - loss: 8.1142 - accuracy: 0.47 - ETA: 0s - loss: 8.2022 - accuracy: 0.46 - ETA: 0s - loss: 8.2214 - accuracy: 0.46 - ETA: 0s - loss: 8.1961 - accuracy: 0.46 - ETA: 0s - loss: 8.2102 - accuracy: 0.46 - ETA: 0s - loss: 8.1956 - accuracy: 0.46 - ETA: 0s - loss: 8.2092 - accuracy: 0.46 - ETA: 0s - loss: 8.2161 - accuracy: 0.46 - ETA: 0s - loss: 8.1961 - accuracy: 0.46 - ETA: 0s - loss: 8.1910 - accuracy: 0.46 - ETA: 0s - loss: 8.1906 - accuracy: 0.46 - 1s 817us/step - loss: 8.2024 - accuracy: 0.4682\n",
      "Epoch 44/100\n",
      "804/804 [==============================] - ETA: 0s - loss: 10.1226 - accuracy: 0.343 - ETA: 0s - loss: 8.0891 - accuracy: 0.475 - ETA: 0s - loss: 8.0882 - accuracy: 0.47 - ETA: 0s - loss: 8.0778 - accuracy: 0.47 - ETA: 0s - loss: 8.0783 - accuracy: 0.47 - ETA: 0s - loss: 8.1121 - accuracy: 0.47 - ETA: 0s - loss: 8.1614 - accuracy: 0.47 - ETA: 0s - loss: 8.1858 - accuracy: 0.46 - ETA: 0s - loss: 8.2021 - accuracy: 0.46 - ETA: 0s - loss: 8.1793 - accuracy: 0.46 - ETA: 0s - loss: 8.1754 - accuracy: 0.47 - ETA: 0s - loss: 8.1758 - accuracy: 0.47 - ETA: 0s - loss: 8.1971 - accuracy: 0.46 - 1s 808us/step - loss: 8.2024 - accuracy: 0.4682\n",
      "Epoch 45/100\n",
      "804/804 [==============================] - ETA: 0s - loss: 7.2304 - accuracy: 0.53 - ETA: 0s - loss: 8.0779 - accuracy: 0.47 - ETA: 0s - loss: 8.1754 - accuracy: 0.47 - ETA: 0s - loss: 8.1460 - accuracy: 0.47 - ETA: 0s - loss: 8.1145 - accuracy: 0.47 - ETA: 0s - loss: 8.1930 - accuracy: 0.46 - ETA: 0s - loss: 8.2098 - accuracy: 0.46 - ETA: 0s - loss: 8.2098 - accuracy: 0.46 - ETA: 0s - loss: 8.1859 - accuracy: 0.46 - ETA: 0s - loss: 8.2158 - accuracy: 0.46 - ETA: 0s - loss: 8.2136 - accuracy: 0.46 - ETA: 0s - loss: 8.2112 - accuracy: 0.46 - ETA: 0s - loss: 8.2022 - accuracy: 0.46 - 1s 808us/step - loss: 8.2024 - accuracy: 0.4682\n",
      "Epoch 46/100\n",
      "804/804 [==============================] - ETA: 0s - loss: 10.1226 - accuracy: 0.343 - ETA: 0s - loss: 8.4129 - accuracy: 0.454 - ETA: 0s - loss: 8.3198 - accuracy: 0.46 - ETA: 0s - loss: 8.3315 - accuracy: 0.45 - ETA: 0s - loss: 8.3843 - accuracy: 0.45 - ETA: 0s - loss: 8.2508 - accuracy: 0.46 - ETA: 0s - loss: 8.2350 - accuracy: 0.46 - ETA: 0s - loss: 8.2692 - accuracy: 0.46 - ETA: 0s - loss: 8.2657 - accuracy: 0.46 - ETA: 0s - loss: 8.2475 - accuracy: 0.46 - ETA: 0s - loss: 8.2083 - accuracy: 0.46 - ETA: 0s - loss: 8.2064 - accuracy: 0.46 - ETA: 0s - loss: 8.2144 - accuracy: 0.46 - 1s 813us/step - loss: 8.2024 - accuracy: 0.4682\n",
      "Epoch 47/100\n"
     ]
    },
    {
     "name": "stdout",
     "output_type": "stream",
     "text": [
      "804/804 [==============================] - ETA: 0s - loss: 7.7125 - accuracy: 0.50 - ETA: 0s - loss: 7.9309 - accuracy: 0.48 - ETA: 0s - loss: 8.1041 - accuracy: 0.47 - ETA: 0s - loss: 8.1667 - accuracy: 0.47 - ETA: 0s - loss: 8.2212 - accuracy: 0.46 - ETA: 0s - loss: 8.2236 - accuracy: 0.46 - ETA: 0s - loss: 8.1397 - accuracy: 0.47 - ETA: 0s - loss: 8.1771 - accuracy: 0.46 - ETA: 0s - loss: 8.2202 - accuracy: 0.46 - ETA: 0s - loss: 8.1996 - accuracy: 0.46 - ETA: 0s - loss: 8.2082 - accuracy: 0.46 - ETA: 0s - loss: 8.2236 - accuracy: 0.46 - ETA: 0s - loss: 8.2035 - accuracy: 0.46 - ETA: 0s - loss: 8.2011 - accuracy: 0.46 - 1s 837us/step - loss: 8.2024 - accuracy: 0.4682\n",
      "Epoch 48/100\n",
      "804/804 [==============================] - ETA: 0s - loss: 10.1226 - accuracy: 0.343 - ETA: 0s - loss: 8.0490 - accuracy: 0.478 - ETA: 0s - loss: 8.1482 - accuracy: 0.47 - ETA: 0s - loss: 8.2412 - accuracy: 0.46 - ETA: 0s - loss: 8.2717 - accuracy: 0.46 - ETA: 0s - loss: 8.2055 - accuracy: 0.46 - ETA: 0s - loss: 8.2033 - accuracy: 0.46 - ETA: 0s - loss: 8.1933 - accuracy: 0.46 - ETA: 0s - loss: 8.1934 - accuracy: 0.46 - ETA: 0s - loss: 8.1629 - accuracy: 0.47 - ETA: 0s - loss: 8.1688 - accuracy: 0.47 - ETA: 0s - loss: 8.1863 - accuracy: 0.46 - ETA: 0s - loss: 8.1898 - accuracy: 0.46 - ETA: 0s - loss: 8.1958 - accuracy: 0.46 - 1s 857us/step - loss: 8.2024 - accuracy: 0.4682\n",
      "Epoch 49/100\n",
      "804/804 [==============================] - ETA: 0s - loss: 8.1945 - accuracy: 0.46 - ETA: 0s - loss: 8.4763 - accuracy: 0.45 - ETA: 0s - loss: 8.3615 - accuracy: 0.45 - ETA: 0s - loss: 8.2450 - accuracy: 0.46 - ETA: 0s - loss: 8.2909 - accuracy: 0.46 - ETA: 0s - loss: 8.3226 - accuracy: 0.46 - ETA: 0s - loss: 8.2634 - accuracy: 0.46 - ETA: 0s - loss: 8.2689 - accuracy: 0.46 - ETA: 0s - loss: 8.2617 - accuracy: 0.46 - ETA: 0s - loss: 8.2520 - accuracy: 0.46 - ETA: 0s - loss: 8.2244 - accuracy: 0.46 - ETA: 0s - loss: 8.2352 - accuracy: 0.46 - ETA: 0s - loss: 8.2239 - accuracy: 0.46 - ETA: 0s - loss: 8.2192 - accuracy: 0.46 - 1s 884us/step - loss: 8.2024 - accuracy: 0.4682\n",
      "Epoch 50/100\n",
      "804/804 [==============================] - ETA: 0s - loss: 7.2304 - accuracy: 0.53 - ETA: 0s - loss: 8.2521 - accuracy: 0.46 - ETA: 0s - loss: 8.3214 - accuracy: 0.46 - ETA: 0s - loss: 8.2740 - accuracy: 0.46 - ETA: 0s - loss: 8.2761 - accuracy: 0.46 - ETA: 0s - loss: 8.2497 - accuracy: 0.46 - ETA: 0s - loss: 8.2734 - accuracy: 0.46 - ETA: 0s - loss: 8.2696 - accuracy: 0.46 - ETA: 0s - loss: 8.1963 - accuracy: 0.46 - ETA: 0s - loss: 8.1961 - accuracy: 0.46 - ETA: 0s - loss: 8.1952 - accuracy: 0.46 - ETA: 0s - loss: 8.1945 - accuracy: 0.46 - ETA: 0s - loss: 8.2068 - accuracy: 0.46 - 1s 781us/step - loss: 8.2024 - accuracy: 0.4682\n",
      "Epoch 51/100\n",
      "804/804 [==============================] - ETA: 0s - loss: 7.7125 - accuracy: 0.50 - ETA: 0s - loss: 8.4720 - accuracy: 0.45 - ETA: 0s - loss: 8.4429 - accuracy: 0.45 - ETA: 0s - loss: 8.4541 - accuracy: 0.45 - ETA: 0s - loss: 8.4315 - accuracy: 0.45 - ETA: 0s - loss: 8.3467 - accuracy: 0.45 - ETA: 0s - loss: 8.3326 - accuracy: 0.45 - ETA: 0s - loss: 8.2953 - accuracy: 0.46 - ETA: 0s - loss: 8.2599 - accuracy: 0.46 - ETA: 0s - loss: 8.2277 - accuracy: 0.46 - ETA: 0s - loss: 8.2182 - accuracy: 0.46 - ETA: 0s - loss: 8.2208 - accuracy: 0.46 - ETA: 0s - loss: 8.2204 - accuracy: 0.46 - 1s 801us/step - loss: 8.2024 - accuracy: 0.4682\n",
      "Epoch 52/100\n",
      "804/804 [==============================] - ETA: 0s - loss: 8.1945 - accuracy: 0.46 - ETA: 0s - loss: 8.4319 - accuracy: 0.45 - ETA: 0s - loss: 8.2128 - accuracy: 0.46 - ETA: 0s - loss: 8.2165 - accuracy: 0.46 - ETA: 0s - loss: 8.2350 - accuracy: 0.46 - ETA: 0s - loss: 8.2244 - accuracy: 0.46 - ETA: 0s - loss: 8.1671 - accuracy: 0.47 - ETA: 0s - loss: 8.1636 - accuracy: 0.47 - ETA: 0s - loss: 8.1721 - accuracy: 0.47 - ETA: 0s - loss: 8.1597 - accuracy: 0.47 - ETA: 0s - loss: 8.1729 - accuracy: 0.47 - ETA: 0s - loss: 8.1959 - accuracy: 0.46 - ETA: 0s - loss: 8.2113 - accuracy: 0.46 - 1s 790us/step - loss: 8.2024 - accuracy: 0.4682\n",
      "Epoch 53/100\n",
      "804/804 [==============================] - ETA: 0s - loss: 6.7484 - accuracy: 0.56 - ETA: 0s - loss: 8.3771 - accuracy: 0.45 - ETA: 0s - loss: 8.2497 - accuracy: 0.46 - ETA: 0s - loss: 8.1920 - accuracy: 0.46 - ETA: 0s - loss: 8.1760 - accuracy: 0.47 - ETA: 0s - loss: 8.1930 - accuracy: 0.46 - ETA: 0s - loss: 8.1871 - accuracy: 0.46 - ETA: 0s - loss: 8.2316 - accuracy: 0.46 - ETA: 0s - loss: 8.1973 - accuracy: 0.46 - ETA: 0s - loss: 8.1978 - accuracy: 0.46 - ETA: 0s - loss: 8.2241 - accuracy: 0.46 - ETA: 0s - loss: 8.2080 - accuracy: 0.46 - ETA: 0s - loss: 8.2044 - accuracy: 0.46 - 1s 785us/step - loss: 8.2024 - accuracy: 0.4682\n",
      "Epoch 54/100\n",
      "804/804 [==============================] - ETA: 0s - loss: 8.1945 - accuracy: 0.46 - ETA: 0s - loss: 8.2383 - accuracy: 0.46 - ETA: 0s - loss: 8.3343 - accuracy: 0.45 - ETA: 0s - loss: 8.3150 - accuracy: 0.46 - ETA: 0s - loss: 8.3640 - accuracy: 0.45 - ETA: 0s - loss: 8.3327 - accuracy: 0.45 - ETA: 0s - loss: 8.3054 - accuracy: 0.46 - ETA: 0s - loss: 8.2724 - accuracy: 0.46 - ETA: 0s - loss: 8.2598 - accuracy: 0.46 - ETA: 0s - loss: 8.2624 - accuracy: 0.46 - ETA: 0s - loss: 8.2414 - accuracy: 0.46 - ETA: 0s - loss: 8.2324 - accuracy: 0.46 - ETA: 0s - loss: 8.2162 - accuracy: 0.46 - 1s 788us/step - loss: 8.2024 - accuracy: 0.4682\n",
      "Epoch 55/100\n",
      "804/804 [==============================] - ETA: 0s - loss: 10.6047 - accuracy: 0.312 - ETA: 0s - loss: 8.1069 - accuracy: 0.474 - ETA: 0s - loss: 8.0547 - accuracy: 0.47 - ETA: 0s - loss: 8.1309 - accuracy: 0.47 - ETA: 0s - loss: 8.0708 - accuracy: 0.47 - ETA: 0s - loss: 8.0536 - accuracy: 0.47 - ETA: 0s - loss: 8.1403 - accuracy: 0.47 - ETA: 0s - loss: 8.1681 - accuracy: 0.47 - ETA: 0s - loss: 8.1890 - accuracy: 0.46 - ETA: 0s - loss: 8.2036 - accuracy: 0.46 - ETA: 0s - loss: 8.2101 - accuracy: 0.46 - ETA: 0s - loss: 8.2147 - accuracy: 0.46 - ETA: 0s - loss: 8.2044 - accuracy: 0.46 - 1s 785us/step - loss: 8.2024 - accuracy: 0.4682\n",
      "Epoch 56/100\n",
      "804/804 [==============================] - ETA: 0s - loss: 8.1945 - accuracy: 0.46 - ETA: 0s - loss: 7.9097 - accuracy: 0.48 - ETA: 0s - loss: 8.1871 - accuracy: 0.46 - ETA: 0s - loss: 8.2658 - accuracy: 0.46 - ETA: 0s - loss: 8.2112 - accuracy: 0.46 - ETA: 0s - loss: 8.1945 - accuracy: 0.46 - ETA: 0s - loss: 8.2204 - accuracy: 0.46 - ETA: 0s - loss: 8.2348 - accuracy: 0.46 - ETA: 0s - loss: 8.2214 - accuracy: 0.46 - ETA: 0s - loss: 8.1896 - accuracy: 0.46 - ETA: 0s - loss: 8.1812 - accuracy: 0.46 - ETA: 0s - loss: 8.1985 - accuracy: 0.46 - ETA: 0s - loss: 8.2007 - accuracy: 0.46 - 1s 786us/step - loss: 8.2024 - accuracy: 0.4682\n",
      "Epoch 57/100\n",
      "804/804 [==============================] - ETA: 0s - loss: 9.1586 - accuracy: 0.40 - ETA: 0s - loss: 8.3189 - accuracy: 0.46 - ETA: 0s - loss: 8.4279 - accuracy: 0.45 - ETA: 0s - loss: 8.3508 - accuracy: 0.45 - ETA: 0s - loss: 8.3707 - accuracy: 0.45 - ETA: 0s - loss: 8.3188 - accuracy: 0.46 - ETA: 0s - loss: 8.2657 - accuracy: 0.46 - ETA: 0s - loss: 8.2794 - accuracy: 0.46 - ETA: 0s - loss: 8.2657 - accuracy: 0.46 - ETA: 0s - loss: 8.2282 - accuracy: 0.46 - ETA: 0s - loss: 8.2164 - accuracy: 0.46 - ETA: 0s - loss: 8.2103 - accuracy: 0.46 - ETA: 0s - loss: 8.2077 - accuracy: 0.46 - 1s 798us/step - loss: 8.2024 - accuracy: 0.4682\n",
      "Epoch 58/100\n",
      "804/804 [==============================] - ETA: 0s - loss: 7.2304 - accuracy: 0.53 - ETA: 0s - loss: 8.1945 - accuracy: 0.46 - ETA: 0s - loss: 8.2055 - accuracy: 0.46 - ETA: 0s - loss: 8.2557 - accuracy: 0.46 - ETA: 0s - loss: 8.2037 - accuracy: 0.46 - ETA: 0s - loss: 8.2137 - accuracy: 0.46 - ETA: 0s - loss: 8.2367 - accuracy: 0.46 - ETA: 0s - loss: 8.3350 - accuracy: 0.45 - ETA: 0s - loss: 8.2745 - accuracy: 0.46 - ETA: 0s - loss: 8.2557 - accuracy: 0.46 - ETA: 0s - loss: 8.2570 - accuracy: 0.46 - ETA: 0s - loss: 8.2134 - accuracy: 0.46 - ETA: 0s - loss: 8.2007 - accuracy: 0.46 - 1s 786us/step - loss: 8.2024 - accuracy: 0.4682\n",
      "Epoch 59/100\n"
     ]
    },
    {
     "name": "stdout",
     "output_type": "stream",
     "text": [
      "804/804 [==============================] - ETA: 0s - loss: 7.2304 - accuracy: 0.53 - ETA: 0s - loss: 8.2529 - accuracy: 0.46 - ETA: 0s - loss: 8.2203 - accuracy: 0.46 - ETA: 0s - loss: 8.1994 - accuracy: 0.46 - ETA: 0s - loss: 8.2019 - accuracy: 0.46 - ETA: 0s - loss: 8.1752 - accuracy: 0.47 - ETA: 0s - loss: 8.1230 - accuracy: 0.47 - ETA: 0s - loss: 8.1385 - accuracy: 0.47 - ETA: 0s - loss: 8.1362 - accuracy: 0.47 - ETA: 0s - loss: 8.1633 - accuracy: 0.47 - ETA: 0s - loss: 8.1745 - accuracy: 0.47 - ETA: 0s - loss: 8.1736 - accuracy: 0.47 - ETA: 0s - loss: 8.2001 - accuracy: 0.46 - 1s 789us/step - loss: 8.2024 - accuracy: 0.4682\n",
      "Epoch 60/100\n",
      "804/804 [==============================] - ETA: 0s - loss: 9.1586 - accuracy: 0.40 - ETA: 0s - loss: 8.1142 - accuracy: 0.47 - ETA: 0s - loss: 8.2129 - accuracy: 0.46 - ETA: 0s - loss: 8.1379 - accuracy: 0.47 - ETA: 0s - loss: 8.2184 - accuracy: 0.46 - ETA: 0s - loss: 8.2373 - accuracy: 0.46 - ETA: 0s - loss: 8.2584 - accuracy: 0.46 - ETA: 0s - loss: 8.2377 - accuracy: 0.46 - ETA: 0s - loss: 8.2222 - accuracy: 0.46 - ETA: 0s - loss: 8.2093 - accuracy: 0.46 - ETA: 0s - loss: 8.1819 - accuracy: 0.46 - ETA: 0s - loss: 8.1844 - accuracy: 0.46 - ETA: 0s - loss: 8.1939 - accuracy: 0.46 - 1s 784us/step - loss: 8.2024 - accuracy: 0.4682\n",
      "Epoch 61/100\n",
      "804/804 [==============================] - ETA: 0s - loss: 7.2304 - accuracy: 0.53 - ETA: 0s - loss: 8.2968 - accuracy: 0.46 - ETA: 0s - loss: 8.1908 - accuracy: 0.46 - ETA: 0s - loss: 8.1970 - accuracy: 0.46 - ETA: 0s - loss: 8.2205 - accuracy: 0.46 - ETA: 0s - loss: 8.1960 - accuracy: 0.46 - ETA: 0s - loss: 8.1784 - accuracy: 0.46 - ETA: 0s - loss: 8.1839 - accuracy: 0.46 - ETA: 0s - loss: 8.1917 - accuracy: 0.46 - ETA: 0s - loss: 8.2118 - accuracy: 0.46 - ETA: 0s - loss: 8.2138 - accuracy: 0.46 - ETA: 0s - loss: 8.2235 - accuracy: 0.46 - ETA: 0s - loss: 8.2032 - accuracy: 0.46 - 1s 786us/step - loss: 8.2024 - accuracy: 0.4682\n",
      "Epoch 62/100\n",
      "804/804 [==============================] - ETA: 0s - loss: 7.7125 - accuracy: 0.50 - ETA: 0s - loss: 8.0850 - accuracy: 0.47 - ETA: 0s - loss: 8.2858 - accuracy: 0.46 - ETA: 0s - loss: 8.1896 - accuracy: 0.46 - ETA: 0s - loss: 8.1872 - accuracy: 0.46 - ETA: 0s - loss: 8.2049 - accuracy: 0.46 - ETA: 0s - loss: 8.1637 - accuracy: 0.47 - ETA: 0s - loss: 8.1913 - accuracy: 0.46 - ETA: 0s - loss: 8.1788 - accuracy: 0.46 - ETA: 0s - loss: 8.1724 - accuracy: 0.47 - ETA: 0s - loss: 8.1908 - accuracy: 0.46 - ETA: 0s - loss: 8.2039 - accuracy: 0.46 - ETA: 0s - loss: 8.1945 - accuracy: 0.46 - 1s 781us/step - loss: 8.2024 - accuracy: 0.4682\n",
      "Epoch 63/100\n",
      "804/804 [==============================] - ETA: 0s - loss: 6.7484 - accuracy: 0.56 - ETA: 0s - loss: 8.1267 - accuracy: 0.47 - ETA: 0s - loss: 8.2655 - accuracy: 0.46 - ETA: 0s - loss: 8.2094 - accuracy: 0.46 - ETA: 0s - loss: 8.2168 - accuracy: 0.46 - ETA: 0s - loss: 8.2301 - accuracy: 0.46 - ETA: 0s - loss: 8.2007 - accuracy: 0.46 - ETA: 0s - loss: 8.2093 - accuracy: 0.46 - ETA: 0s - loss: 8.2010 - accuracy: 0.46 - ETA: 0s - loss: 8.1994 - accuracy: 0.46 - ETA: 0s - loss: 8.2190 - accuracy: 0.46 - ETA: 0s - loss: 8.2214 - accuracy: 0.46 - ETA: 0s - loss: 8.2130 - accuracy: 0.46 - 1s 784us/step - loss: 8.2024 - accuracy: 0.4682\n",
      "Epoch 64/100\n",
      "804/804 [==============================] - ETA: 0s - loss: 8.6765 - accuracy: 0.43 - ETA: 0s - loss: 8.0119 - accuracy: 0.48 - ETA: 0s - loss: 8.2456 - accuracy: 0.46 - ETA: 0s - loss: 8.2462 - accuracy: 0.46 - ETA: 0s - loss: 8.2444 - accuracy: 0.46 - ETA: 0s - loss: 8.2566 - accuracy: 0.46 - ETA: 0s - loss: 8.2254 - accuracy: 0.46 - ETA: 0s - loss: 8.1913 - accuracy: 0.46 - ETA: 0s - loss: 8.2188 - accuracy: 0.46 - ETA: 0s - loss: 8.2094 - accuracy: 0.46 - ETA: 0s - loss: 8.1945 - accuracy: 0.46 - ETA: 0s - loss: 8.2108 - accuracy: 0.46 - ETA: 0s - loss: 8.2057 - accuracy: 0.46 - 1s 789us/step - loss: 8.2024 - accuracy: 0.4682\n",
      "Epoch 65/100\n",
      "804/804 [==============================] - ETA: 0s - loss: 8.6765 - accuracy: 0.43 - ETA: 0s - loss: 8.1726 - accuracy: 0.47 - ETA: 0s - loss: 8.3159 - accuracy: 0.46 - ETA: 0s - loss: 8.3347 - accuracy: 0.45 - ETA: 0s - loss: 8.2681 - accuracy: 0.46 - ETA: 0s - loss: 8.2731 - accuracy: 0.46 - ETA: 0s - loss: 8.2514 - accuracy: 0.46 - ETA: 0s - loss: 8.2284 - accuracy: 0.46 - ETA: 0s - loss: 8.1936 - accuracy: 0.46 - ETA: 0s - loss: 8.2060 - accuracy: 0.46 - ETA: 0s - loss: 8.2108 - accuracy: 0.46 - ETA: 0s - loss: 8.2080 - accuracy: 0.46 - ETA: 0s - loss: 8.1976 - accuracy: 0.46 - 1s 785us/step - loss: 8.2024 - accuracy: 0.4682\n",
      "Epoch 66/100\n",
      "804/804 [==============================] - ETA: 0s - loss: 8.1945 - accuracy: 0.46 - ETA: 0s - loss: 8.1945 - accuracy: 0.46 - ETA: 0s - loss: 8.1793 - accuracy: 0.46 - ETA: 0s - loss: 8.3301 - accuracy: 0.46 - ETA: 0s - loss: 8.2677 - accuracy: 0.46 - ETA: 0s - loss: 8.2587 - accuracy: 0.46 - ETA: 0s - loss: 8.2641 - accuracy: 0.46 - ETA: 0s - loss: 8.2583 - accuracy: 0.46 - ETA: 0s - loss: 8.2578 - accuracy: 0.46 - ETA: 0s - loss: 8.2301 - accuracy: 0.46 - ETA: 0s - loss: 8.2332 - accuracy: 0.46 - ETA: 0s - loss: 8.2229 - accuracy: 0.46 - ETA: 0s - loss: 8.2138 - accuracy: 0.46 - 1s 789us/step - loss: 8.2024 - accuracy: 0.4682\n",
      "Epoch 67/100\n",
      "804/804 [==============================] - ETA: 0s - loss: 8.6765 - accuracy: 0.43 - ETA: 0s - loss: 8.2310 - accuracy: 0.46 - ETA: 0s - loss: 8.2313 - accuracy: 0.46 - ETA: 0s - loss: 8.1502 - accuracy: 0.47 - ETA: 0s - loss: 8.2056 - accuracy: 0.46 - ETA: 0s - loss: 8.1886 - accuracy: 0.46 - ETA: 0s - loss: 8.1552 - accuracy: 0.47 - ETA: 0s - loss: 8.1755 - accuracy: 0.47 - ETA: 0s - loss: 8.2343 - accuracy: 0.46 - ETA: 0s - loss: 8.2267 - accuracy: 0.46 - ETA: 0s - loss: 8.2323 - accuracy: 0.46 - ETA: 0s - loss: 8.2161 - accuracy: 0.46 - ETA: 0s - loss: 8.1988 - accuracy: 0.46 - 1s 785us/step - loss: 8.2024 - accuracy: 0.4682\n",
      "Epoch 68/100\n",
      "804/804 [==============================] - ETA: 0s - loss: 8.1945 - accuracy: 0.46 - ETA: 0s - loss: 8.3947 - accuracy: 0.45 - ETA: 0s - loss: 8.1611 - accuracy: 0.47 - ETA: 0s - loss: 8.2143 - accuracy: 0.46 - ETA: 0s - loss: 8.2520 - accuracy: 0.46 - ETA: 0s - loss: 8.2434 - accuracy: 0.46 - ETA: 0s - loss: 8.2415 - accuracy: 0.46 - ETA: 0s - loss: 8.2115 - accuracy: 0.46 - ETA: 0s - loss: 8.2122 - accuracy: 0.46 - ETA: 0s - loss: 8.1896 - accuracy: 0.46 - ETA: 0s - loss: 8.2019 - accuracy: 0.46 - ETA: 0s - loss: 8.2168 - accuracy: 0.46 - ETA: 0s - loss: 8.2001 - accuracy: 0.46 - 1s 785us/step - loss: 8.2024 - accuracy: 0.4682\n",
      "Epoch 69/100\n",
      "804/804 [==============================] - ETA: 0s - loss: 5.7844 - accuracy: 0.62 - ETA: 0s - loss: 8.2748 - accuracy: 0.46 - ETA: 0s - loss: 8.0915 - accuracy: 0.47 - ETA: 0s - loss: 8.0790 - accuracy: 0.47 - ETA: 0s - loss: 8.1570 - accuracy: 0.47 - ETA: 0s - loss: 8.2514 - accuracy: 0.46 - ETA: 0s - loss: 8.2854 - accuracy: 0.46 - ETA: 0s - loss: 8.2457 - accuracy: 0.46 - ETA: 0s - loss: 8.2448 - accuracy: 0.46 - ETA: 0s - loss: 8.2260 - accuracy: 0.46 - ETA: 0s - loss: 8.2354 - accuracy: 0.46 - ETA: 0s - loss: 8.2141 - accuracy: 0.46 - ETA: 0s - loss: 8.1945 - accuracy: 0.46 - 1s 788us/step - loss: 8.2024 - accuracy: 0.4682\n",
      "Epoch 70/100\n",
      "804/804 [==============================] - ETA: 0s - loss: 6.7484 - accuracy: 0.56 - ETA: 0s - loss: 8.5743 - accuracy: 0.44 - ETA: 0s - loss: 8.2828 - accuracy: 0.46 - ETA: 0s - loss: 8.3156 - accuracy: 0.46 - ETA: 0s - loss: 8.3663 - accuracy: 0.45 - ETA: 0s - loss: 8.3310 - accuracy: 0.45 - ETA: 0s - loss: 8.3172 - accuracy: 0.46 - ETA: 0s - loss: 8.2920 - accuracy: 0.46 - ETA: 0s - loss: 8.2566 - accuracy: 0.46 - ETA: 0s - loss: 8.2253 - accuracy: 0.46 - ETA: 0s - loss: 8.2057 - accuracy: 0.46 - ETA: 0s - loss: 8.1966 - accuracy: 0.46 - ETA: 0s - loss: 8.1970 - accuracy: 0.46 - 1s 790us/step - loss: 8.2024 - accuracy: 0.4682\n",
      "Epoch 71/100\n"
     ]
    },
    {
     "name": "stdout",
     "output_type": "stream",
     "text": [
      "804/804 [==============================] - ETA: 0s - loss: 6.7484 - accuracy: 0.56 - ETA: 0s - loss: 8.0192 - accuracy: 0.48 - ETA: 0s - loss: 8.0768 - accuracy: 0.47 - ETA: 0s - loss: 8.1358 - accuracy: 0.47 - ETA: 0s - loss: 8.1485 - accuracy: 0.47 - ETA: 0s - loss: 8.1901 - accuracy: 0.46 - ETA: 0s - loss: 8.1651 - accuracy: 0.47 - ETA: 0s - loss: 8.1872 - accuracy: 0.46 - ETA: 0s - loss: 8.1687 - accuracy: 0.47 - ETA: 0s - loss: 8.1528 - accuracy: 0.47 - ETA: 0s - loss: 8.1871 - accuracy: 0.46 - ETA: 0s - loss: 8.1717 - accuracy: 0.47 - ETA: 0s - loss: 8.1939 - accuracy: 0.46 - 1s 781us/step - loss: 8.2024 - accuracy: 0.4682\n",
      "Epoch 72/100\n",
      "804/804 [==============================] - ETA: 0s - loss: 6.7484 - accuracy: 0.56 - ETA: 0s - loss: 7.9754 - accuracy: 0.48 - ETA: 0s - loss: 8.1463 - accuracy: 0.47 - ETA: 0s - loss: 8.1471 - accuracy: 0.47 - ETA: 0s - loss: 8.1681 - accuracy: 0.47 - ETA: 0s - loss: 8.2035 - accuracy: 0.46 - ETA: 0s - loss: 8.2145 - accuracy: 0.46 - ETA: 0s - loss: 8.2310 - accuracy: 0.46 - ETA: 0s - loss: 8.1842 - accuracy: 0.46 - ETA: 0s - loss: 8.1438 - accuracy: 0.47 - ETA: 0s - loss: 8.1833 - accuracy: 0.46 - ETA: 0s - loss: 8.1972 - accuracy: 0.46 - ETA: 0s - loss: 8.1970 - accuracy: 0.46 - 1s 800us/step - loss: 8.2024 - accuracy: 0.4682\n",
      "Epoch 73/100\n",
      "804/804 [==============================] - ETA: 0s - loss: 8.6765 - accuracy: 0.43 - ETA: 0s - loss: 7.9827 - accuracy: 0.48 - ETA: 0s - loss: 8.1361 - accuracy: 0.47 - ETA: 0s - loss: 8.2069 - accuracy: 0.46 - ETA: 0s - loss: 8.2665 - accuracy: 0.46 - ETA: 0s - loss: 8.2699 - accuracy: 0.46 - ETA: 0s - loss: 8.2806 - accuracy: 0.46 - ETA: 0s - loss: 8.2736 - accuracy: 0.46 - ETA: 0s - loss: 8.2490 - accuracy: 0.46 - ETA: 0s - loss: 8.2314 - accuracy: 0.46 - ETA: 0s - loss: 8.2198 - accuracy: 0.46 - ETA: 0s - loss: 8.2047 - accuracy: 0.46 - ETA: 0s - loss: 8.1982 - accuracy: 0.46 - 1s 788us/step - loss: 8.2024 - accuracy: 0.4682\n",
      "Epoch 74/100\n",
      "804/804 [==============================] - ETA: 0s - loss: 6.7484 - accuracy: 0.56 - ETA: 0s - loss: 8.0192 - accuracy: 0.48 - ETA: 0s - loss: 8.1361 - accuracy: 0.47 - ETA: 0s - loss: 8.0673 - accuracy: 0.47 - ETA: 0s - loss: 8.0639 - accuracy: 0.47 - ETA: 0s - loss: 8.1090 - accuracy: 0.47 - ETA: 0s - loss: 8.1230 - accuracy: 0.47 - ETA: 0s - loss: 8.1416 - accuracy: 0.47 - ETA: 0s - loss: 8.1502 - accuracy: 0.47 - ETA: 0s - loss: 8.1625 - accuracy: 0.47 - ETA: 0s - loss: 8.1716 - accuracy: 0.47 - ETA: 0s - loss: 8.1878 - accuracy: 0.46 - ETA: 0s - loss: 8.2099 - accuracy: 0.46 - 1s 783us/step - loss: 8.2024 - accuracy: 0.4682\n",
      "Epoch 75/100\n",
      "804/804 [==============================] - ETA: 0s - loss: 9.6406 - accuracy: 0.37 - ETA: 0s - loss: 8.0506 - accuracy: 0.47 - ETA: 0s - loss: 8.1288 - accuracy: 0.47 - ETA: 0s - loss: 8.1700 - accuracy: 0.47 - ETA: 0s - loss: 8.1982 - accuracy: 0.46 - ETA: 0s - loss: 8.2079 - accuracy: 0.46 - ETA: 0s - loss: 8.2218 - accuracy: 0.46 - ETA: 0s - loss: 8.2414 - accuracy: 0.46 - ETA: 0s - loss: 8.2411 - accuracy: 0.46 - ETA: 0s - loss: 8.2036 - accuracy: 0.46 - ETA: 0s - loss: 8.2228 - accuracy: 0.46 - ETA: 0s - loss: 8.2276 - accuracy: 0.46 - ETA: 0s - loss: 8.2019 - accuracy: 0.46 - 1s 786us/step - loss: 8.2024 - accuracy: 0.4682\n",
      "Epoch 76/100\n",
      "804/804 [==============================] - ETA: 0s - loss: 9.1586 - accuracy: 0.40 - ETA: 0s - loss: 8.1799 - accuracy: 0.46 - ETA: 0s - loss: 8.2211 - accuracy: 0.46 - ETA: 0s - loss: 8.2147 - accuracy: 0.46 - ETA: 0s - loss: 8.2095 - accuracy: 0.46 - ETA: 0s - loss: 8.1764 - accuracy: 0.46 - ETA: 0s - loss: 8.1970 - accuracy: 0.46 - ETA: 0s - loss: 8.2095 - accuracy: 0.46 - ETA: 0s - loss: 8.2039 - accuracy: 0.46 - ETA: 0s - loss: 8.2036 - accuracy: 0.46 - ETA: 0s - loss: 8.2109 - accuracy: 0.46 - ETA: 0s - loss: 8.2054 - accuracy: 0.46 - ETA: 0s - loss: 8.1908 - accuracy: 0.46 - 1s 789us/step - loss: 8.2024 - accuracy: 0.4682\n",
      "Epoch 77/100\n",
      "804/804 [==============================] - ETA: 0s - loss: 7.2304 - accuracy: 0.53 - ETA: 0s - loss: 8.1872 - accuracy: 0.46 - ETA: 0s - loss: 8.1835 - accuracy: 0.46 - ETA: 0s - loss: 8.2093 - accuracy: 0.46 - ETA: 0s - loss: 8.2405 - accuracy: 0.46 - ETA: 0s - loss: 8.2461 - accuracy: 0.46 - ETA: 0s - loss: 8.1957 - accuracy: 0.46 - ETA: 0s - loss: 8.1871 - accuracy: 0.46 - ETA: 0s - loss: 8.1779 - accuracy: 0.46 - ETA: 0s - loss: 8.2003 - accuracy: 0.46 - ETA: 0s - loss: 8.1856 - accuracy: 0.46 - ETA: 0s - loss: 8.1824 - accuracy: 0.46 - ETA: 0s - loss: 8.2038 - accuracy: 0.46 - 1s 785us/step - loss: 8.2024 - accuracy: 0.4682\n",
      "Epoch 78/100\n",
      "804/804 [==============================] - ETA: 0s - loss: 8.1945 - accuracy: 0.46 - ETA: 0s - loss: 8.0981 - accuracy: 0.47 - ETA: 0s - loss: 8.1537 - accuracy: 0.47 - ETA: 0s - loss: 8.1299 - accuracy: 0.47 - ETA: 0s - loss: 8.1889 - accuracy: 0.46 - ETA: 0s - loss: 8.1930 - accuracy: 0.46 - ETA: 0s - loss: 8.1957 - accuracy: 0.46 - ETA: 0s - loss: 8.1775 - accuracy: 0.46 - ETA: 0s - loss: 8.1685 - accuracy: 0.47 - ETA: 0s - loss: 8.1574 - accuracy: 0.47 - ETA: 0s - loss: 8.1767 - accuracy: 0.46 - ETA: 0s - loss: 8.1837 - accuracy: 0.46 - ETA: 0s - loss: 8.1982 - accuracy: 0.46 - 1s 784us/step - loss: 8.2024 - accuracy: 0.4682\n",
      "Epoch 79/100\n",
      "804/804 [==============================] - ETA: 0s - loss: 8.6765 - accuracy: 0.43 - ETA: 0s - loss: 8.2383 - accuracy: 0.46 - ETA: 0s - loss: 8.1945 - accuracy: 0.46 - ETA: 0s - loss: 8.1602 - accuracy: 0.47 - ETA: 0s - loss: 8.1666 - accuracy: 0.47 - ETA: 0s - loss: 8.2035 - accuracy: 0.46 - ETA: 0s - loss: 8.2170 - accuracy: 0.46 - ETA: 0s - loss: 8.1848 - accuracy: 0.46 - ETA: 0s - loss: 8.2020 - accuracy: 0.46 - ETA: 0s - loss: 8.2162 - accuracy: 0.46 - ETA: 0s - loss: 8.2118 - accuracy: 0.46 - ETA: 0s - loss: 8.2089 - accuracy: 0.46 - ETA: 0s - loss: 8.1945 - accuracy: 0.46 - 1s 793us/step - loss: 8.2024 - accuracy: 0.4682\n",
      "Epoch 80/100\n",
      "804/804 [==============================] - ETA: 0s - loss: 8.1945 - accuracy: 0.46 - ETA: 0s - loss: 8.0776 - accuracy: 0.47 - ETA: 0s - loss: 8.1609 - accuracy: 0.47 - ETA: 0s - loss: 8.2698 - accuracy: 0.46 - ETA: 0s - loss: 8.1964 - accuracy: 0.46 - ETA: 0s - loss: 8.2237 - accuracy: 0.46 - ETA: 0s - loss: 8.2514 - accuracy: 0.46 - ETA: 0s - loss: 8.2412 - accuracy: 0.46 - ETA: 0s - loss: 8.2129 - accuracy: 0.46 - ETA: 0s - loss: 8.2143 - accuracy: 0.46 - ETA: 0s - loss: 8.1968 - accuracy: 0.46 - ETA: 0s - loss: 8.1945 - accuracy: 0.46 - ETA: 0s - loss: 8.2100 - accuracy: 0.46 - 1s 821us/step - loss: 8.2024 - accuracy: 0.4682\n",
      "Epoch 81/100\n",
      "804/804 [==============================] - ETA: 0s - loss: 8.6765 - accuracy: 0.43 - ETA: 0s - loss: 8.1076 - accuracy: 0.47 - ETA: 0s - loss: 8.2148 - accuracy: 0.46 - ETA: 0s - loss: 8.1918 - accuracy: 0.46 - ETA: 0s - loss: 8.1577 - accuracy: 0.47 - ETA: 0s - loss: 8.1863 - accuracy: 0.46 - ETA: 0s - loss: 8.1945 - accuracy: 0.46 - ETA: 0s - loss: 8.2122 - accuracy: 0.46 - ETA: 0s - loss: 8.2048 - accuracy: 0.46 - ETA: 0s - loss: 8.1909 - accuracy: 0.46 - ETA: 0s - loss: 8.2123 - accuracy: 0.46 - ETA: 0s - loss: 8.2251 - accuracy: 0.46 - ETA: 0s - loss: 8.2205 - accuracy: 0.46 - ETA: 0s - loss: 8.2037 - accuracy: 0.46 - 1s 844us/step - loss: 8.2024 - accuracy: 0.4682\n",
      "Epoch 82/100\n",
      "804/804 [==============================] - ETA: 0s - loss: 9.1586 - accuracy: 0.40 - ETA: 0s - loss: 8.1418 - accuracy: 0.47 - ETA: 0s - loss: 8.2818 - accuracy: 0.46 - ETA: 0s - loss: 8.1894 - accuracy: 0.46 - ETA: 0s - loss: 8.2003 - accuracy: 0.46 - ETA: 0s - loss: 8.1392 - accuracy: 0.47 - ETA: 0s - loss: 8.1355 - accuracy: 0.47 - ETA: 0s - loss: 8.2197 - accuracy: 0.46 - ETA: 0s - loss: 8.1897 - accuracy: 0.46 - ETA: 0s - loss: 8.2056 - accuracy: 0.46 - ETA: 0s - loss: 8.1884 - accuracy: 0.46 - ETA: 0s - loss: 8.1959 - accuracy: 0.46 - ETA: 0s - loss: 8.1874 - accuracy: 0.46 - 1s 815us/step - loss: 8.2024 - accuracy: 0.4682\n",
      "Epoch 83/100\n"
     ]
    },
    {
     "name": "stdout",
     "output_type": "stream",
     "text": [
      "804/804 [==============================] - ETA: 0s - loss: 5.7844 - accuracy: 0.62 - ETA: 0s - loss: 8.2909 - accuracy: 0.46 - ETA: 0s - loss: 8.1945 - accuracy: 0.46 - ETA: 0s - loss: 8.3333 - accuracy: 0.45 - ETA: 0s - loss: 8.2970 - accuracy: 0.46 - ETA: 0s - loss: 8.2677 - accuracy: 0.46 - ETA: 0s - loss: 8.2402 - accuracy: 0.46 - ETA: 0s - loss: 8.2434 - accuracy: 0.46 - ETA: 0s - loss: 8.2188 - accuracy: 0.46 - ETA: 0s - loss: 8.1945 - accuracy: 0.46 - ETA: 0s - loss: 8.1984 - accuracy: 0.46 - ETA: 0s - loss: 8.1623 - accuracy: 0.47 - ETA: 0s - loss: 8.1952 - accuracy: 0.46 - ETA: 0s - loss: 8.1945 - accuracy: 0.46 - 1s 856us/step - loss: 8.2024 - accuracy: 0.4682\n",
      "Epoch 84/100\n",
      "804/804 [==============================] - ETA: 0s - loss: 6.7484 - accuracy: 0.56 - ETA: 0s - loss: 8.0455 - accuracy: 0.47 - ETA: 0s - loss: 8.1299 - accuracy: 0.47 - ETA: 0s - loss: 8.1592 - accuracy: 0.47 - ETA: 0s - loss: 8.1901 - accuracy: 0.46 - ETA: 0s - loss: 8.2296 - accuracy: 0.46 - ETA: 0s - loss: 8.2411 - accuracy: 0.46 - ETA: 0s - loss: 8.2369 - accuracy: 0.46 - ETA: 0s - loss: 8.2535 - accuracy: 0.46 - ETA: 0s - loss: 8.2446 - accuracy: 0.46 - ETA: 0s - loss: 8.2152 - accuracy: 0.46 - ETA: 0s - loss: 8.2085 - accuracy: 0.46 - ETA: 0s - loss: 8.1824 - accuracy: 0.46 - ETA: 0s - loss: 8.2036 - accuracy: 0.46 - ETA: 0s - loss: 8.2048 - accuracy: 0.46 - 1s 898us/step - loss: 8.2024 - accuracy: 0.4682\n",
      "Epoch 85/100\n",
      "804/804 [==============================] - ETA: 0s - loss: 6.7484 - accuracy: 0.56 - ETA: 0s - loss: 8.1168 - accuracy: 0.47 - ETA: 0s - loss: 8.1706 - accuracy: 0.47 - ETA: 0s - loss: 8.1222 - accuracy: 0.47 - ETA: 0s - loss: 8.1583 - accuracy: 0.47 - ETA: 0s - loss: 8.1395 - accuracy: 0.47 - ETA: 0s - loss: 8.2012 - accuracy: 0.46 - ETA: 0s - loss: 8.1587 - accuracy: 0.47 - ETA: 0s - loss: 8.1481 - accuracy: 0.47 - ETA: 0s - loss: 8.1804 - accuracy: 0.46 - ETA: 0s - loss: 8.2127 - accuracy: 0.46 - ETA: 0s - loss: 8.2045 - accuracy: 0.46 - ETA: 0s - loss: 8.2088 - accuracy: 0.46 - 1s 820us/step - loss: 8.2024 - accuracy: 0.4682\n",
      "Epoch 86/100\n",
      "804/804 [==============================] - ETA: 0s - loss: 7.7125 - accuracy: 0.50 - ETA: 0s - loss: 7.9973 - accuracy: 0.48 - ETA: 0s - loss: 8.0703 - accuracy: 0.47 - ETA: 0s - loss: 8.1797 - accuracy: 0.46 - ETA: 0s - loss: 8.2460 - accuracy: 0.46 - ETA: 0s - loss: 8.2107 - accuracy: 0.46 - ETA: 0s - loss: 8.2096 - accuracy: 0.46 - ETA: 0s - loss: 8.1707 - accuracy: 0.47 - ETA: 0s - loss: 8.1868 - accuracy: 0.46 - ETA: 0s - loss: 8.1979 - accuracy: 0.46 - ETA: 0s - loss: 8.1953 - accuracy: 0.46 - ETA: 0s - loss: 8.2172 - accuracy: 0.46 - ETA: 0s - loss: 8.2015 - accuracy: 0.46 - 1s 810us/step - loss: 8.2024 - accuracy: 0.4682\n",
      "Epoch 87/100\n",
      "804/804 [==============================] - ETA: 0s - loss: 9.6406 - accuracy: 0.37 - ETA: 0s - loss: 8.2978 - accuracy: 0.46 - ETA: 0s - loss: 8.3444 - accuracy: 0.45 - ETA: 0s - loss: 8.2731 - accuracy: 0.46 - ETA: 0s - loss: 8.2897 - accuracy: 0.46 - ETA: 0s - loss: 8.2519 - accuracy: 0.46 - ETA: 0s - loss: 8.2471 - accuracy: 0.46 - ETA: 0s - loss: 8.2336 - accuracy: 0.46 - ETA: 0s - loss: 8.2317 - accuracy: 0.46 - ETA: 0s - loss: 8.2253 - accuracy: 0.46 - ETA: 0s - loss: 8.1945 - accuracy: 0.46 - ETA: 0s - loss: 8.2125 - accuracy: 0.46 - ETA: 0s - loss: 8.1959 - accuracy: 0.46 - ETA: 0s - loss: 8.1919 - accuracy: 0.46 - ETA: 0s - loss: 8.1975 - accuracy: 0.46 - 1s 906us/step - loss: 8.2024 - accuracy: 0.4682\n",
      "Epoch 88/100\n",
      "804/804 [==============================] - ETA: 0s - loss: 9.6406 - accuracy: 0.37 - ETA: 0s - loss: 8.2391 - accuracy: 0.46 - ETA: 0s - loss: 8.1675 - accuracy: 0.47 - ETA: 0s - loss: 8.1646 - accuracy: 0.47 - ETA: 0s - loss: 8.1770 - accuracy: 0.46 - ETA: 0s - loss: 8.1707 - accuracy: 0.47 - ETA: 0s - loss: 8.2128 - accuracy: 0.46 - ETA: 0s - loss: 8.2276 - accuracy: 0.46 - ETA: 0s - loss: 8.2331 - accuracy: 0.46 - ETA: 0s - loss: 8.2134 - accuracy: 0.46 - ETA: 0s - loss: 8.1905 - accuracy: 0.46 - ETA: 0s - loss: 8.1960 - accuracy: 0.46 - ETA: 0s - loss: 8.2074 - accuracy: 0.46 - ETA: 0s - loss: 8.2033 - accuracy: 0.46 - 1s 870us/step - loss: 8.2024 - accuracy: 0.4682\n",
      "Epoch 89/100\n",
      "804/804 [==============================] - ETA: 0s - loss: 9.1586 - accuracy: 0.40 - ETA: 0s - loss: 8.1784 - accuracy: 0.46 - ETA: 0s - loss: 7.9930 - accuracy: 0.48 - ETA: 0s - loss: 8.0785 - accuracy: 0.47 - ETA: 0s - loss: 8.1276 - accuracy: 0.47 - ETA: 0s - loss: 8.1976 - accuracy: 0.46 - ETA: 0s - loss: 8.1984 - accuracy: 0.46 - ETA: 0s - loss: 8.2117 - accuracy: 0.46 - ETA: 0s - loss: 8.2188 - accuracy: 0.46 - ETA: 0s - loss: 8.2044 - accuracy: 0.46 - ETA: 0s - loss: 8.2010 - accuracy: 0.46 - ETA: 0s - loss: 8.2115 - accuracy: 0.46 - ETA: 0s - loss: 8.2033 - accuracy: 0.46 - ETA: 0s - loss: 8.2088 - accuracy: 0.46 - 1s 856us/step - loss: 8.2024 - accuracy: 0.4682\n",
      "Epoch 90/100\n",
      "804/804 [==============================] - ETA: 0s - loss: 7.7125 - accuracy: 0.50 - ETA: 0s - loss: 8.1446 - accuracy: 0.47 - ETA: 0s - loss: 8.2687 - accuracy: 0.46 - ETA: 0s - loss: 8.2831 - accuracy: 0.46 - ETA: 0s - loss: 8.2339 - accuracy: 0.46 - ETA: 0s - loss: 8.2390 - accuracy: 0.46 - ETA: 0s - loss: 8.2495 - accuracy: 0.46 - ETA: 0s - loss: 8.2381 - accuracy: 0.46 - ETA: 0s - loss: 8.2149 - accuracy: 0.46 - ETA: 0s - loss: 8.2271 - accuracy: 0.46 - ETA: 0s - loss: 8.1945 - accuracy: 0.46 - ETA: 0s - loss: 8.2203 - accuracy: 0.46 - ETA: 0s - loss: 8.2180 - accuracy: 0.46 - ETA: 0s - loss: 8.2105 - accuracy: 0.46 - ETA: 0s - loss: 8.1971 - accuracy: 0.46 - 1s 942us/step - loss: 8.2024 - accuracy: 0.4682\n",
      "Epoch 91/100\n",
      "804/804 [==============================] - ETA: 0s - loss: 8.1945 - accuracy: 0.46 - ETA: 0s - loss: 8.2645 - accuracy: 0.46 - ETA: 0s - loss: 8.3407 - accuracy: 0.45 - ETA: 0s - loss: 8.3144 - accuracy: 0.46 - ETA: 0s - loss: 8.3267 - accuracy: 0.46 - ETA: 0s - loss: 8.2348 - accuracy: 0.46 - ETA: 0s - loss: 8.2945 - accuracy: 0.46 - ETA: 0s - loss: 8.2907 - accuracy: 0.46 - ETA: 0s - loss: 8.3036 - accuracy: 0.46 - ETA: 0s - loss: 8.2784 - accuracy: 0.46 - ETA: 0s - loss: 8.2585 - accuracy: 0.46 - ETA: 0s - loss: 8.2259 - accuracy: 0.46 - ETA: 0s - loss: 8.2230 - accuracy: 0.46 - ETA: 0s - loss: 8.2152 - accuracy: 0.46 - 1s 867us/step - loss: 8.2024 - accuracy: 0.4682\n",
      "Epoch 92/100\n",
      "804/804 [==============================] - ETA: 0s - loss: 5.3023 - accuracy: 0.65 - ETA: 0s - loss: 8.2501 - accuracy: 0.46 - ETA: 0s - loss: 8.0246 - accuracy: 0.47 - ETA: 0s - loss: 8.1413 - accuracy: 0.47 - ETA: 0s - loss: 8.1545 - accuracy: 0.47 - ETA: 0s - loss: 8.1684 - accuracy: 0.47 - ETA: 0s - loss: 8.1618 - accuracy: 0.47 - ETA: 0s - loss: 8.1726 - accuracy: 0.47 - ETA: 0s - loss: 8.1522 - accuracy: 0.47 - ETA: 0s - loss: 8.1693 - accuracy: 0.47 - ETA: 0s - loss: 8.1886 - accuracy: 0.46 - ETA: 0s - loss: 8.2051 - accuracy: 0.46 - ETA: 0s - loss: 8.1876 - accuracy: 0.46 - ETA: 0s - loss: 8.1895 - accuracy: 0.46 - 1s 868us/step - loss: 8.2024 - accuracy: 0.4682\n",
      "Epoch 93/100\n",
      "804/804 [==============================] - ETA: 0s - loss: 8.1945 - accuracy: 0.46 - ETA: 0s - loss: 8.1712 - accuracy: 0.47 - ETA: 0s - loss: 8.2775 - accuracy: 0.46 - ETA: 0s - loss: 8.2049 - accuracy: 0.46 - ETA: 0s - loss: 8.1579 - accuracy: 0.47 - ETA: 0s - loss: 8.1745 - accuracy: 0.47 - ETA: 0s - loss: 8.2136 - accuracy: 0.46 - ETA: 0s - loss: 8.2109 - accuracy: 0.46 - ETA: 0s - loss: 8.1964 - accuracy: 0.46 - ETA: 0s - loss: 8.2004 - accuracy: 0.46 - ETA: 0s - loss: 8.1968 - accuracy: 0.46 - ETA: 0s - loss: 8.1931 - accuracy: 0.46 - ETA: 0s - loss: 8.1920 - accuracy: 0.46 - 1s 810us/step - loss: 8.2024 - accuracy: 0.4682\n",
      "Epoch 94/100\n"
     ]
    },
    {
     "name": "stdout",
     "output_type": "stream",
     "text": [
      "804/804 [==============================] - ETA: 0s - loss: 9.1586 - accuracy: 0.40 - ETA: 0s - loss: 7.7940 - accuracy: 0.49 - ETA: 0s - loss: 8.1315 - accuracy: 0.47 - ETA: 0s - loss: 8.1744 - accuracy: 0.47 - ETA: 0s - loss: 8.2133 - accuracy: 0.46 - ETA: 0s - loss: 8.1612 - accuracy: 0.47 - ETA: 0s - loss: 8.1616 - accuracy: 0.47 - ETA: 0s - loss: 8.1794 - accuracy: 0.46 - ETA: 0s - loss: 8.1917 - accuracy: 0.46 - ETA: 0s - loss: 8.2165 - accuracy: 0.46 - ETA: 0s - loss: 8.1975 - accuracy: 0.46 - ETA: 0s - loss: 8.2152 - accuracy: 0.46 - ETA: 0s - loss: 8.2231 - accuracy: 0.46 - 1s 805us/step - loss: 8.2024 - accuracy: 0.4682\n",
      "Epoch 95/100\n",
      "804/804 [==============================] - ETA: 0s - loss: 7.7125 - accuracy: 0.50 - ETA: 0s - loss: 8.0338 - accuracy: 0.47 - ETA: 0s - loss: 8.0759 - accuracy: 0.47 - ETA: 0s - loss: 8.0504 - accuracy: 0.47 - ETA: 0s - loss: 8.1536 - accuracy: 0.47 - ETA: 0s - loss: 8.1606 - accuracy: 0.47 - ETA: 0s - loss: 8.1217 - accuracy: 0.47 - ETA: 0s - loss: 8.1160 - accuracy: 0.47 - ETA: 0s - loss: 8.1887 - accuracy: 0.46 - ETA: 0s - loss: 8.1954 - accuracy: 0.46 - ETA: 0s - loss: 8.1714 - accuracy: 0.47 - ETA: 0s - loss: 8.2036 - accuracy: 0.46 - ETA: 0s - loss: 8.2003 - accuracy: 0.46 - 1s 809us/step - loss: 8.2024 - accuracy: 0.4682\n",
      "Epoch 96/100\n",
      "804/804 [==============================] - ETA: 0s - loss: 6.7484 - accuracy: 0.56 - ETA: 0s - loss: 8.0119 - accuracy: 0.48 - ETA: 0s - loss: 8.1871 - accuracy: 0.46 - ETA: 0s - loss: 8.0765 - accuracy: 0.47 - ETA: 0s - loss: 8.1539 - accuracy: 0.47 - ETA: 0s - loss: 8.1635 - accuracy: 0.47 - ETA: 0s - loss: 8.1674 - accuracy: 0.47 - ETA: 0s - loss: 8.1275 - accuracy: 0.47 - ETA: 0s - loss: 8.1106 - accuracy: 0.47 - ETA: 0s - loss: 8.1622 - accuracy: 0.47 - ETA: 0s - loss: 8.1759 - accuracy: 0.47 - ETA: 0s - loss: 8.1715 - accuracy: 0.47 - ETA: 0s - loss: 8.1870 - accuracy: 0.46 - 1s 795us/step - loss: 8.2024 - accuracy: 0.4682\n",
      "Epoch 97/100\n",
      "804/804 [==============================] - ETA: 0s - loss: 9.6406 - accuracy: 0.37 - ETA: 0s - loss: 8.3406 - accuracy: 0.45 - ETA: 0s - loss: 8.2575 - accuracy: 0.46 - ETA: 0s - loss: 8.1500 - accuracy: 0.47 - ETA: 0s - loss: 8.1206 - accuracy: 0.47 - ETA: 0s - loss: 8.1442 - accuracy: 0.47 - ETA: 0s - loss: 8.1846 - accuracy: 0.46 - ETA: 0s - loss: 8.1871 - accuracy: 0.46 - ETA: 0s - loss: 8.1871 - accuracy: 0.46 - ETA: 0s - loss: 8.1754 - accuracy: 0.47 - ETA: 0s - loss: 8.1870 - accuracy: 0.46 - ETA: 0s - loss: 8.1816 - accuracy: 0.46 - ETA: 0s - loss: 8.2101 - accuracy: 0.46 - 1s 790us/step - loss: 8.2024 - accuracy: 0.4682\n",
      "Epoch 98/100\n",
      "804/804 [==============================] - ETA: 0s - loss: 11.5687 - accuracy: 0.250 - ETA: 0s - loss: 8.2018 - accuracy: 0.468 - ETA: 0s - loss: 8.2675 - accuracy: 0.46 - ETA: 0s - loss: 8.2116 - accuracy: 0.46 - ETA: 0s - loss: 8.2239 - accuracy: 0.46 - ETA: 0s - loss: 8.1812 - accuracy: 0.46 - ETA: 0s - loss: 8.1808 - accuracy: 0.46 - ETA: 0s - loss: 8.2107 - accuracy: 0.46 - ETA: 0s - loss: 8.1898 - accuracy: 0.46 - ETA: 0s - loss: 8.2179 - accuracy: 0.46 - ETA: 0s - loss: 8.2050 - accuracy: 0.46 - ETA: 0s - loss: 8.2000 - accuracy: 0.46 - ETA: 0s - loss: 8.2026 - accuracy: 0.46 - 1s 791us/step - loss: 8.2024 - accuracy: 0.4682\n",
      "Epoch 99/100\n",
      "804/804 [==============================] - ETA: 0s - loss: 7.7125 - accuracy: 0.50 - ETA: 0s - loss: 8.3301 - accuracy: 0.46 - ETA: 0s - loss: 8.3111 - accuracy: 0.46 - ETA: 0s - loss: 8.2528 - accuracy: 0.46 - ETA: 0s - loss: 8.2176 - accuracy: 0.46 - ETA: 0s - loss: 8.2253 - accuracy: 0.46 - ETA: 0s - loss: 8.1832 - accuracy: 0.46 - ETA: 0s - loss: 8.2102 - accuracy: 0.46 - ETA: 0s - loss: 8.2135 - accuracy: 0.46 - ETA: 0s - loss: 8.1889 - accuracy: 0.46 - ETA: 0s - loss: 8.2254 - accuracy: 0.46 - ETA: 0s - loss: 8.2312 - accuracy: 0.46 - ETA: 0s - loss: 8.2346 - accuracy: 0.46 - ETA: 0s - loss: 8.2258 - accuracy: 0.46 - ETA: 0s - loss: 8.2066 - accuracy: 0.46 - 1s 897us/step - loss: 8.2024 - accuracy: 0.4682\n",
      "Epoch 100/100\n",
      "804/804 [==============================] - ETA: 0s - loss: 11.0867 - accuracy: 0.281 - ETA: 0s - loss: 8.4087 - accuracy: 0.454 - ETA: 0s - loss: 8.3848 - accuracy: 0.45 - ETA: 0s - loss: 8.3164 - accuracy: 0.46 - ETA: 0s - loss: 8.2800 - accuracy: 0.46 - ETA: 0s - loss: 8.2793 - accuracy: 0.46 - ETA: 0s - loss: 8.2182 - accuracy: 0.46 - ETA: 0s - loss: 8.1689 - accuracy: 0.47 - ETA: 0s - loss: 8.2024 - accuracy: 0.46 - ETA: 0s - loss: 8.1640 - accuracy: 0.47 - ETA: 0s - loss: 8.1840 - accuracy: 0.46 - ETA: 0s - loss: 8.1858 - accuracy: 0.46 - ETA: 0s - loss: 8.1838 - accuracy: 0.46 - ETA: 0s - loss: 8.1945 - accuracy: 0.46 - 1s 884us/step - loss: 8.2024 - accuracy: 0.4682\n"
     ]
    }
   ],
   "source": [
    "# Compile the model\n",
    "nn3.compile(loss=\"binary_crossentropy\", optimizer=\"adam\", metrics=[\"accuracy\"])\n",
    "# Train the model\n",
    "fit_model = nn3.fit(X_train,y_train,epochs=100)"
   ]
  },
  {
   "cell_type": "code",
   "execution_count": 113,
   "metadata": {},
   "outputs": [
    {
     "name": "stdout",
     "output_type": "stream",
     "text": [
      "268/268 - 0s - loss: 3.0485 - accuracy: 0.5718\n",
      "Loss: 3.048489809036255, Accuracy: 0.571778416633606\n"
     ]
    }
   ],
   "source": [
    "# Evaluate the model using the test data\n",
    "model_loss, model_accuracy = nn3.evaluate(X_test_scaled,y_test,verbose=2)\n",
    "print(f\"Loss: {model_loss}, Accuracy: {model_accuracy}\")"
   ]
  },
  {
   "cell_type": "code",
   "execution_count": 114,
   "metadata": {},
   "outputs": [],
   "source": [
    "# Export our model to HDF5 file\n",
    "nn3.save(\"AlphabetSoupCharity_Optimzation.h5\")"
   ]
  },
  {
   "cell_type": "code",
   "execution_count": null,
   "metadata": {},
   "outputs": [],
   "source": []
  }
 ],
 "metadata": {
  "kernelspec": {
   "display_name": "PythonData",
   "language": "python",
   "name": "pythondata"
  },
  "language_info": {
   "codemirror_mode": {
    "name": "ipython",
    "version": 3
   },
   "file_extension": ".py",
   "mimetype": "text/x-python",
   "name": "python",
   "nbconvert_exporter": "python",
   "pygments_lexer": "ipython3",
   "version": "3.8.5"
  }
 },
 "nbformat": 4,
 "nbformat_minor": 4
}
